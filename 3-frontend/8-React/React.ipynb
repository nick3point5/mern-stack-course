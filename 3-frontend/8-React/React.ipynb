{
 "cells": [
  {
   "cell_type": "markdown",
   "metadata": {},
   "source": [
    "# React\n",
    "[![Binder](https://mybinder.org/badge_logo.svg)](https://mybinder.org/v2/gh/nick3point5/mern-stack-course/HEAD?labpath=3-frontend%2F8-React%2FReact.ipynb)\n",
    "\n",
    "## Intro\n",
    "HTML isn't a programming language. There are no variables, conditionals, or functions. This is where front-end libraries come into play. The front-end library we'll be learning is React.js. React is currently the most popular front-end library. It is used to dynamically generate HTML. React can store \"HTML\" into variables (components) and can render them conditionally. If your application has more than 3 user interactions, would I recommend considering using React.  In this lesson, we will learn:\n",
    "\n",
    "#### React\n",
    "- React setup\n",
    "- react render\n",
    "- JSX \n",
    "  - Functional Components\n",
    "  - Embedding JavaScript in JSX\n",
    "  - JSX arrays\n",
    "  - JSX listeners\n",
    "  - Components props\n",
    "  - Components Composition\n",
    "- Component Lifecycle\n",
    "- React Hooks\n",
    "  - useState\n",
    "  - useEffect\n",
    "  - useRef\n",
    "  - useContext\n",
    "- Data Binding\n",
    "\n",
    "#### React Router 6\n",
    "- Setting up Router\n",
    "- Link\n",
    "- useNavigate\n",
    "- useParams"
   ]
  },
  {
   "cell_type": "markdown",
   "metadata": {},
   "source": [
    "## React setup\n",
    "- Create create a React project with Vite."
   ]
  },
  {
   "cell_type": "code",
   "execution_count": null,
   "metadata": {
    "dotnet_interactive": {
     "language": "pwsh"
    },
    "vscode": {
     "languageId": "dotnet-interactive.pwsh"
    }
   },
   "outputs": [],
   "source": [
    "yarn create vite hit-list-client --template react\n",
    "yarn cd hit-list-client\n",
    "yarn install\n",
    "yarn add react-router-dom@6"
   ]
  },
  {
   "cell_type": "markdown",
   "metadata": {},
   "source": [
    "- Let's talk about what's inside of hit-list-client.\n",
    "- ```index.html``` is the HTML file that is sent to the engine.\n",
    "- ```public``` is for the assets for index.html\n",
    "- ```src``` is where all our React code is.\n",
    "  - For now, let's only work inside the ```src``` directory.\n",
    "  - In the index.css & App.css, clear the content inside."
   ]
  },
  {
   "cell_type": "markdown",
   "metadata": {},
   "source": [
    "## React render\n",
    "- Let's take a look at the ```index.html``` and ```src/main.jsx```"
   ]
  },
  {
   "cell_type": "code",
   "execution_count": null,
   "metadata": {
    "dotnet_interactive": {
     "language": "html"
    },
    "vscode": {
     "languageId": "dotnet-interactive.html"
    }
   },
   "outputs": [],
   "source": [
    "<!-- index.html -->\n",
    "<!DOCTYPE html>\n",
    "<html lang=\"en\">\n",
    "  <head>\n",
    "    <meta charset=\"UTF-8\" />\n",
    "    <link rel=\"icon\" type=\"image/svg+xml\" href=\"/vite.svg\" />\n",
    "    <meta name=\"viewport\" content=\"width=device-width, initial-scale=1.0\" />\n",
    "    <title>Vite + React</title>\n",
    "  </head>\n",
    "  <body>\n",
    "    <div id=\"root\"></div>\n",
    "    <script type=\"module\" src=\"/src/main.jsx\"></script>\n",
    "  </body>\n",
    "</html>"
   ]
  },
  {
   "cell_type": "code",
   "execution_count": null,
   "metadata": {
    "dotnet_interactive": {
     "language": "javascript"
    },
    "vscode": {
     "languageId": "dotnet-interactive.javascript"
    }
   },
   "outputs": [],
   "source": [
    "// src/main.jsx\n",
    "import React from 'react'\n",
    "import ReactDOM from 'react-dom/client'\n",
    "import App from './App'\n",
    "import './index.css'\n",
    "\n",
    "ReactDOM.createRoot(document.getElementById('root')).render(\n",
    "  <React.StrictMode>\n",
    "    <App />\n",
    "  </React.StrictMode>\n",
    ")\n"
   ]
  },
  {
   "cell_type": "markdown",
   "metadata": {},
   "source": [
    "- In the main.jsx, let's break down what's happening.\n",
    "- ```ReactDOM.createRoot()``` tells react \"this is where we are going to put the HTML react will generate\"\n",
    "- ```document.getElementById('root')``` grabs the div with id root.\n",
    "- ```.render()``` render JSX.\n",
    "  - We will go more into JSX in the next section.\n",
    "- ```<App>``` JSX object from the App.jsx file.\n",
    "- ```<React.StrictMode>``` changes the way react runs in development mode.\n",
    "  - For now, let's remove it, so we can see how React will work normally in production."
   ]
  },
  {
   "cell_type": "code",
   "execution_count": null,
   "metadata": {
    "dotnet_interactive": {
     "language": "javascript"
    },
    "vscode": {
     "languageId": "dotnet-interactive.javascript"
    }
   },
   "outputs": [],
   "source": [
    "// src/main.jsx\n",
    "import React from 'react'\n",
    "import ReactDOM from 'react-dom/client'\n",
    "import App from './App'\n",
    "import './index.css'\n",
    "\n",
    "ReactDOM.createRoot(document.getElementById('root')).render(\n",
    "\t<App />\n",
    ")"
   ]
  },
  {
   "cell_type": "markdown",
   "metadata": {
    "dotnet_interactive": {
     "language": "markdown"
    }
   },
   "source": [
    "## JSX\n",
    "- JSX is a way to write JavaScript DOM objects similar to HTML.\n",
    "- JSX is not HTML.\n",
    "- JSX is a JavaScript object."
   ]
  },
  {
   "cell_type": "code",
   "execution_count": null,
   "metadata": {
    "dotnet_interactive": {
     "language": "javascript"
    },
    "vscode": {
     "languageId": "dotnet-interactive.javascript"
    }
   },
   "outputs": [
    {
     "data": {
      "text/plain": [
       "{\n",
       "  \"type\": \"div\",\n",
       "  \"key\": null,\n",
       "  \"ref\": null,\n",
       "  \"props\": {},\n",
       "  \"_owner\": null,\n",
       "  \"_store\": {}\n",
       "}"
      ]
     },
     "metadata": {},
     "output_type": "display_data"
    }
   ],
   "source": [
    "console.log(<div/>)"
   ]
  },
  {
   "cell_type": "markdown",
   "metadata": {},
   "source": [
    "- One of the notable differences in writing JSX vs HTML is that the class attribute is ```className```\n",
    "- This is because JSX uses JavaScript DOM properties for attributes."
   ]
  },
  {
   "cell_type": "code",
   "execution_count": null,
   "metadata": {
    "dotnet_interactive": {
     "language": "javascript"
    },
    "vscode": {
     "languageId": "dotnet-interactive.javascript"
    }
   },
   "outputs": [],
   "source": [
    "<div className='container'></div>"
   ]
  },
  {
   "cell_type": "markdown",
   "metadata": {},
   "source": [
    "- Files that end in ```.jsx``` are just JavaScript files.\n",
    "- It acts the same way as ```.js```, it's just a naming convention to help organize files."
   ]
  },
  {
   "cell_type": "markdown",
   "metadata": {},
   "source": [
    "### Functional Components\n",
    "- A React functional component is a function whose name is capitalized and returns jsx.\n",
    "- Only one element can be return from the functional component.\n",
    "- The return element can have multiple descendants.\n",
    "- Let's into the App.jsx file and replace it with the following:"
   ]
  },
  {
   "cell_type": "code",
   "execution_count": null,
   "metadata": {
    "dotnet_interactive": {
     "language": "javascript"
    },
    "vscode": {
     "languageId": "dotnet-interactive.javascript"
    }
   },
   "outputs": [],
   "source": [
    "// App.jsx\n",
    "import './App.css'\n",
    "\n",
    "function App() {\n",
    "  return (\n",
    "    <div className=\"App\">\n",
    "\n",
    "    </div>\n",
    "  )\n",
    "}\n",
    "\n",
    "export default App"
   ]
  },
  {
   "cell_type": "markdown",
   "metadata": {},
   "source": [
    "- By making functions that return JSX, with are abstracting \"HTML\" into variables and can use them like tag elements.\n",
    "- Let's make export a button component."
   ]
  },
  {
   "cell_type": "code",
   "execution_count": null,
   "metadata": {
    "dotnet_interactive": {
     "language": "pwsh"
    },
    "vscode": {
     "languageId": "dotnet-interactive.pwsh"
    }
   },
   "outputs": [
    {
     "name": "stdout",
     "output_type": "stream",
     "text": [
      "\r\n",
      "    Directory: C:\\code\\teaching\\mern-stack-course\\3-frontend\\8-React\\components\r\n",
      "\r\n",
      "\u001b[32;1mMode                 LastWriteTime         Length Name\u001b[0m\r\n",
      "\u001b[32;1m----                 -------------         ------ ----\u001b[0m\r\n",
      "-a---           8/14/2022  7:45 PM              0 button.jsx\r\n",
      "\r\n"
     ]
    }
   ],
   "source": [
    "ni src/components/Button.jsx -Force"
   ]
  },
  {
   "cell_type": "code",
   "execution_count": null,
   "metadata": {
    "dotnet_interactive": {
     "language": "javascript"
    },
    "vscode": {
     "languageId": "dotnet-interactive.javascript"
    }
   },
   "outputs": [],
   "source": [
    "// src/components/Button.jsx\n",
    "export const Button = () => {\n",
    "\treturn (\n",
    "\t\t<div className=\"button-component\">\n",
    "\t\t\t<button>Button</button>\n",
    "\t\t</div>\n",
    "\t)\n",
    "}"
   ]
  },
  {
   "cell_type": "markdown",
   "metadata": {},
   "source": [
    "- Let's import and use it in App.jsx"
   ]
  },
  {
   "cell_type": "code",
   "execution_count": null,
   "metadata": {
    "dotnet_interactive": {
     "language": "javascript"
    },
    "vscode": {
     "languageId": "dotnet-interactive.javascript"
    }
   },
   "outputs": [],
   "source": [
    "// src/App.jsx\n",
    "import './App.css'\n",
    "import { Button } from './components/Button'\n",
    "\n",
    "function App() {\n",
    "  return (\n",
    "    <div className=\"App\">\n",
    "\t\t\t<Button/>\n",
    "    </div>\n",
    "  )\n",
    "}\n",
    "\n",
    "export default App"
   ]
  },
  {
   "cell_type": "markdown",
   "metadata": {},
   "source": [
    "### Embedding JavaScript in JSX\n",
    "- We can use curly braces ```{}``` inside JSX to execute JavaScript within."
   ]
  },
  {
   "cell_type": "code",
   "execution_count": null,
   "metadata": {
    "dotnet_interactive": {
     "language": "javascript"
    },
    "vscode": {
     "languageId": "dotnet-interactive.javascript"
    }
   },
   "outputs": [],
   "source": [
    "// src/components/Button.jsx\n",
    "export const Button = () => {\n",
    "\tconst one = 1\n",
    "\treturn (\n",
    "\t\t<div className=\"button-component\">\n",
    "\t\t\t<button>{one + 1}</button>\n",
    "\t\t</div>\n",
    "\t)\n",
    "}"
   ]
  },
  {
   "cell_type": "markdown",
   "metadata": {},
   "source": [
    "### JSX listeners\n",
    "- We can add listeners with listener attributes similar to plain HTML.\n",
    "- The following is an example of adding a click event to the button:"
   ]
  },
  {
   "cell_type": "code",
   "execution_count": null,
   "metadata": {
    "dotnet_interactive": {
     "language": "javascript"
    },
    "vscode": {
     "languageId": "dotnet-interactive.javascript"
    }
   },
   "outputs": [],
   "source": [
    "// src/components/Button.jsx\n",
    "export const Button = () => {\n",
    "\tlet number = 0\n",
    "\tconst handleClick = () => {\n",
    "\t\tnumber++\n",
    "\t\tconsole.log(number)\n",
    "\t}\n",
    "\treturn (\n",
    "\t\t<div className='button-component'>\n",
    "\t\t\t<button onClick={handleClick}>Button</button>\n",
    "\t\t</div>\n",
    "\t)\n",
    "}"
   ]
  },
  {
   "cell_type": "markdown",
   "metadata": {},
   "source": [
    "- JSX executes JavaScript on return. \n",
    "- So if our listener function requires inputs, it should be inside a callback function."
   ]
  },
  {
   "cell_type": "code",
   "execution_count": null,
   "metadata": {
    "dotnet_interactive": {
     "language": "javascript"
    },
    "vscode": {
     "languageId": "dotnet-interactive.javascript"
    }
   },
   "outputs": [],
   "source": [
    "// src/components/Button.jsx\n",
    "export const Button = () => {\n",
    "\tconst message =  \"you're really pushing my buttons\"\n",
    "\tconst handleClick = (input) => {\n",
    "\t\tconsole.log(input)\n",
    "\t}\n",
    "\treturn (\n",
    "\t\t<div className='button-component'>\n",
    "\t\t\t<button onClick={(event)=>{handleClick(message)}}>Button</button>\n",
    "\t\t</div>\n",
    "\t)\n",
    "}"
   ]
  },
  {
   "cell_type": "markdown",
   "metadata": {},
   "source": [
    "### Component Props\n",
    "- React components can receive inputs from their parent components.\n",
    "- These inputs are called \"props\".\n",
    "- The props are created with attributes on React components.\n",
    "- The attributes will then be stored in an object named props inside the child component.\n",
    "###### \"key\", \"ref\", and \"children\" are reserved prop names and will not be stored."
   ]
  },
  {
   "cell_type": "code",
   "execution_count": null,
   "metadata": {
    "dotnet_interactive": {
     "language": "javascript"
    },
    "vscode": {
     "languageId": "dotnet-interactive.javascript"
    }
   },
   "outputs": [],
   "source": [
    "// src/App.jsx\n",
    "import './App.css'\n",
    "import { Button } from './components/Button'\n",
    "\n",
    "function App() {\n",
    "  return (\n",
    "    <div className=\"App\">\n",
    "\t\t\t<Button name=\"bbbbbbbbutton\"/>\n",
    "    </div>\n",
    "  )\n",
    "}\n",
    "\n",
    "export default App"
   ]
  },
  {
   "cell_type": "code",
   "execution_count": null,
   "metadata": {
    "dotnet_interactive": {
     "language": "javascript"
    },
    "vscode": {
     "languageId": "dotnet-interactive.javascript"
    }
   },
   "outputs": [],
   "source": [
    "// src/components/Button.jsx\n",
    "export const Button = (props) => {\n",
    "\tconsole.log(props)\n",
    "\treturn (\n",
    "\t\t<div className='button-component'>\n",
    "\t\t\t<button>{props.name}</button>\n",
    "\t\t</div>\n",
    "\t)\n",
    "}"
   ]
  },
  {
   "cell_type": "markdown",
   "metadata": {},
   "source": [
    "### Component Composition\n",
    "- If a component has children, the component will have a ```.children``` prop.\n",
    "- This can be used to wrap components with other components or elements."
   ]
  },
  {
   "cell_type": "code",
   "execution_count": null,
   "metadata": {
    "dotnet_interactive": {
     "language": "javascript"
    },
    "vscode": {
     "languageId": "dotnet-interactive.javascript"
    }
   },
   "outputs": [],
   "source": [
    "// src/components/Wrapper.jsx\n",
    "export const Wrapper = (props) => {\n",
    "\tconsole.log(props.children)\n",
    "\treturn (\n",
    "\t\t<div className='button-wrapper'>\n",
    "\t\t\tthis is a button\n",
    "\t\t\t{props.children}\n",
    "\t\t</div>\n",
    "\t)\n",
    "}"
   ]
  },
  {
   "cell_type": "code",
   "execution_count": null,
   "metadata": {
    "dotnet_interactive": {
     "language": "javascript"
    },
    "vscode": {
     "languageId": "dotnet-interactive.javascript"
    }
   },
   "outputs": [],
   "source": [
    "// src/App.jsx\n",
    "import './App.css'\n",
    "import { Button } from './components/Button'\n",
    "import { Wrapper } from './components/Wrapper'\n",
    "\n",
    "function App() {\n",
    "  return (\n",
    "    <div className=\"App\">\n",
    "\t\t\t<Wrapper>\n",
    "\t\t\t\t<Button name=\"bbbbbbbbutton\"/>\n",
    "\t\t\t</Wrapper>\n",
    "    </div>\n",
    "  )\n",
    "}\n",
    "\n",
    "export default App"
   ]
  },
  {
   "cell_type": "markdown",
   "metadata": {},
   "source": [
    "### JSX arrays\n",
    "- Arrays in JSX are automatically spread out on execution.\n",
    "- Writing ```{[1, 2, 3]}``` is the same as ```{1}{2}{3}```\n",
    "- This feature is often used to create multiple components or elements."
   ]
  },
  {
   "cell_type": "code",
   "execution_count": null,
   "metadata": {
    "dotnet_interactive": {
     "language": "javascript"
    },
    "vscode": {
     "languageId": "dotnet-interactive.javascript"
    }
   },
   "outputs": [],
   "source": [
    "// src/App.jsx\n",
    "import './App.css'\n",
    "import { Button } from './components/Button'\n",
    "\n",
    "function App() {\n",
    "\tconst buttonArray = [<Button name=\"button\"/>,<Button name=\"bbbutton\"/>,<Button name=\"bbbbbbbbutton\"/>]\n",
    "  return (\n",
    "    <div className=\"App\">\n",
    "\t\t\t{buttonArray}\n",
    "    </div>\n",
    "  )\n",
    "}"
   ]
  },
  {
   "cell_type": "markdown",
   "metadata": {},
   "source": [
    "- A very common way to create multiple similar components is with JavaScript's array map method.\n",
    "- If components are created in this way, React recommends adding a key attribute to help React performance.\n",
    "- Keys only have to be unique inside a map so using just the index is fine."
   ]
  },
  {
   "cell_type": "code",
   "execution_count": null,
   "metadata": {
    "dotnet_interactive": {
     "language": "javascript"
    },
    "vscode": {
     "languageId": "dotnet-interactive.javascript"
    }
   },
   "outputs": [],
   "source": [
    "// src/App.jsx\n",
    "import './App.css'\n",
    "import { Button } from './components/Button'\n",
    "\n",
    "function App() {\n",
    "\tconst buttonNames = [\"button\",\"bbbutton\",\"bbbbbbbbutton\"]\n",
    "  return (\n",
    "    <div className=\"App\">\n",
    "\t\t\t{buttonNames.map((name, i) => {\n",
    "\t\t\t\treturn <Button name={name} key={i}/>\n",
    "\t\t\t})}\n",
    "    </div>\n",
    "  )\n",
    "}"
   ]
  },
  {
   "cell_type": "markdown",
   "metadata": {
    "dotnet_interactive": {
     "language": "markdown"
    }
   },
   "source": [
    "## Component Lifecycle\n",
    "- Let's talk about how React renders components.\n",
    "- There are 3 stages every component does when React creates them.\n",
    "  1) ```Mount``` is when the component is created and used.\n",
    "  2) ```Update``` is whenever its states or props change after mounting.\n",
    "  3) ```Unmount``` is when the component is removed.\n",
    "- Stages must go in order.\n",
    "- Once a component changes stage it cannot go to a previous stage\n",
    "- Each stage has 3 phases\n",
    "  1) ```Virtual phase``` is when React runs the function calculating what to render.\n",
    "    - In this phase, React is changing its virtual DOM.\n",
    "    - the virtual DOM is a pure JavaScript simulation of the UI.\n",
    "    - Nothing is actually changed in the browser yet.\n",
    "  2) ```Commit phase``` is when React finishes calculating and creating/updating the UI in the browser.\n",
    "  3) ```Working phase``` is when React finishes creating/updating the UI and starts using React lifecycle hooks.\n",
    "      - If in the working phase its state is changed, it will restart the update stage with the new state.\n"
   ]
  },
  {
   "cell_type": "markdown",
   "metadata": {
    "dotnet_interactive": {
     "language": "csharp"
    },
    "vscode": {
     "languageId": "dotnet-interactive.csharp"
    }
   },
   "source": [
    "![](../../assets/images/React/Lifecycle.png)"
   ]
  },
  {
   "cell_type": "markdown",
   "metadata": {},
   "source": [
    "## React Hooks\n",
    "- React Hooks are functions that add React API features to components."
   ]
  },
  {
   "cell_type": "markdown",
   "metadata": {},
   "source": [
    "### useState\n",
    "- ```useState()``` creates stateful variables.\n",
    "  - stateful variables carry their values between updates.\n",
    "  - useState's input will be the default value the state will have on mounting.\n",
    "  - useState returns a 2-element array.\n",
    "  - First, is the stateful variable.\n",
    "  - Second, a setter function for the stateful variable.\n",
    "     - the setter function will tell react to update the component with the new state as an input.\n"
   ]
  },
  {
   "cell_type": "code",
   "execution_count": null,
   "metadata": {
    "dotnet_interactive": {
     "language": "javascript"
    },
    "vscode": {
     "languageId": "dotnet-interactive.javascript"
    }
   },
   "outputs": [],
   "source": [
    "// src/components/Button.jsx\n",
    "import { useState } from \"react\"\n",
    "\n",
    "export const Button = (props) => {\n",
    "\tconst [count, setCount] = useState(0)\n",
    "\tfunction handleClick() {\n",
    "\t\tsetCount(count+1)\n",
    "\t}\n",
    "\treturn (\n",
    "\t\t<div className='button-component'>\n",
    "\t\t\t<button onClick={handleClick}>{props.name} {count}</button>\n",
    "\t\t</div>\n",
    "\t)\n",
    "}"
   ]
  },
  {
   "cell_type": "markdown",
   "metadata": {},
   "source": [
    "### useEffect\n",
    "- ```useEffect()``` is a hook that is tied to the lifecycle of a component.\n",
    "- It takes in 2 inputs.\n",
    "  - a callback function.\n",
    "    - the callback will execute based on the dependency array.\n",
    "    - the return of the callback is another callback that will run when the component unmounts.\n",
    "  - an array of stateful variables (dependency array).\n",
    "- Here are some common uses for ```useEffect()```"
   ]
  },
  {
   "cell_type": "markdown",
   "metadata": {},
   "source": [
    "#### on Render\n",
    "- When there is no dependency array, the callback will run after every render."
   ]
  },
  {
   "cell_type": "code",
   "execution_count": null,
   "metadata": {
    "dotnet_interactive": {
     "language": "javascript"
    },
    "vscode": {
     "languageId": "dotnet-interactive.javascript"
    }
   },
   "outputs": [],
   "source": [
    "// src/components/Button.jsx\n",
    "import { useState, useEffect } from \"react\"\n",
    "\n",
    "export const Button = (props) => {\n",
    "\tconst [count, setCount] = useState(0)\n",
    "\tfunction handleClick() {\n",
    "\t\tsetCount(count+1)\n",
    "\t}\n",
    "\tuseEffect(()=>{\n",
    "\t\tconsole.log('render')\n",
    "\t})\n",
    "\treturn (\n",
    "\t\t<div className='button-component'>\n",
    "\t\t\t<button onClick={handleClick}>{props.name} {count}</button>\n",
    "\t\t</div>\n",
    "\t)\n",
    "}"
   ]
  },
  {
   "cell_type": "markdown",
   "metadata": {},
   "source": [
    "#### on Mount\n",
    "- When there is an empty dependency, the callback will only run after mounting."
   ]
  },
  {
   "cell_type": "code",
   "execution_count": null,
   "metadata": {
    "dotnet_interactive": {
     "language": "javascript"
    },
    "vscode": {
     "languageId": "dotnet-interactive.javascript"
    }
   },
   "outputs": [],
   "source": [
    "// src/components/Button.jsx\n",
    "import { useState, useEffect } from \"react\"\n",
    "\n",
    "export const Button = (props) => {\n",
    "\tconst [count, setCount] = useState(0)\n",
    "\tfunction handleClick() {\n",
    "\t\tsetCount(count+1)\n",
    "\t}\n",
    "\tuseEffect(()=>{\n",
    "\t\tconsole.log('mount')\n",
    "\t},[])\n",
    "\treturn (\n",
    "\t\t<div className='button-component'>\n",
    "\t\t\t<button onClick={handleClick}>{props.name} {count}</button>\n",
    "\t\t</div>\n",
    "\t)\n",
    "}"
   ]
  },
  {
   "cell_type": "markdown",
   "metadata": {},
   "source": [
    "#### on State change\n",
    "- When the dependency array has a state, the callback will run after mounting.\n",
    "- On every render ```useEffect``` will check if the setState has changed the state.\n",
    "- If it has, the callback will run."
   ]
  },
  {
   "cell_type": "code",
   "execution_count": null,
   "metadata": {
    "dotnet_interactive": {
     "language": "javascript"
    },
    "vscode": {
     "languageId": "dotnet-interactive.javascript"
    }
   },
   "outputs": [],
   "source": [
    "// src/components/Button.jsx\n",
    "import { useState, useEffect } from \"react\"\n",
    "\n",
    "export const Button = (props) => {\n",
    "\tconst [count, setCount] = useState(0)\n",
    "\tfunction handleClick() {\n",
    "\t\tsetCount(count+1)\n",
    "\t}\n",
    "\tuseEffect(()=>{\n",
    "\t\tconsole.log('count state change')\n",
    "\t},[count])\n",
    "\treturn (\n",
    "\t\t<div className='button-component'>\n",
    "\t\t\t<button onClick={handleClick}>{props.name} {count}</button>\n",
    "\t\t</div>\n",
    "\t)\n",
    "}"
   ]
  },
  {
   "cell_type": "markdown",
   "metadata": {},
   "source": [
    "#### on Unmount\n",
    "- When the component unmounts, all ```useEffect``` callbacks will run their return callbacks."
   ]
  },
  {
   "cell_type": "code",
   "execution_count": null,
   "metadata": {
    "dotnet_interactive": {
     "language": "javascript"
    },
    "vscode": {
     "languageId": "dotnet-interactive.javascript"
    }
   },
   "outputs": [],
   "source": [
    "// src/components/Button.jsx\n",
    "import { useState, useEffect } from \"react\"\n",
    "\n",
    "export const Button = (props) => {\n",
    "\tconst [count, setCount] = useState(0)\n",
    "\tfunction handleClick() {\n",
    "\t\tsetCount(count+1)\n",
    "\t}\n",
    "\tuseEffect(()=>{\n",
    "\t\treturn ()=> {\n",
    "\t\t\tconsole.log(\"unmount\")\n",
    "\t\t}\n",
    "\t},[])\n",
    "\treturn (\n",
    "\t\t<div className='button-component'>\n",
    "\t\t\t<button onClick={handleClick}>{props.name} {count}</button>\n",
    "\t\t</div>\n",
    "\t)\n",
    "}"
   ]
  },
  {
   "cell_type": "markdown",
   "metadata": {},
   "source": [
    "### useRef\n",
    "- ```useRef()``` creates an object will the ```.current``` property.\n",
    "- The input will be the default value of the ```.current```\n",
    "- The object created will carry its value between renders.\n",
    "- Changing the value of the ```useRef``` will not trigger a re-render."
   ]
  },
  {
   "cell_type": "code",
   "execution_count": null,
   "metadata": {
    "dotnet_interactive": {
     "language": "javascript"
    },
    "vscode": {
     "languageId": "dotnet-interactive.javascript"
    }
   },
   "outputs": [],
   "source": [
    "// src/components/Button.jsx\n",
    "import { useState, useEffect, refCount } from \"react\"\n",
    "\n",
    "export const Button = (props) => {\n",
    "\tconst [count, setCount] = useState(0)\n",
    "\tconst refCount = useRef(0)\n",
    "\tfunction handleClick() {\n",
    "\t\tsetCount(count+1)\n",
    "\t}\n",
    "\tfunction handleRefClick() {\n",
    "\t\trefCount.current = refCount.current+1\n",
    "\t\tconsole.log('refCount', refCount.current)\n",
    "\t}\n",
    "\tuseEffect(()=>{\n",
    "\t\tconsole.log('render')\n",
    "\t})\n",
    "\treturn (\n",
    "\t\t<div className='button-component'>\n",
    "\t\t\t<button onClick={handleClick}>count {count}</button>\n",
    "\t\t\t<button onClick={handleRefClick}>refCount {refCount.current}</button>\n",
    "\t\t</div>\n",
    "\t)\n",
    "}"
   ]
  },
  {
   "cell_type": "markdown",
   "metadata": {},
   "source": [
    "#### ref\n",
    "- ```ref``` is a JSX attribute that is the virtual DOM element.\n",
    "- Instead of querying the \"real\" DOM, we can use ref to select the element in the virtual DOM.\n",
    "- This is more performant than working with the \"real\" DOM. \n",
    "- ```ref``` should be assigned to a ```useRef``` hook."
   ]
  },
  {
   "cell_type": "code",
   "execution_count": null,
   "metadata": {
    "dotnet_interactive": {
     "language": "javascript"
    },
    "vscode": {
     "languageId": "dotnet-interactive.javascript"
    }
   },
   "outputs": [],
   "source": [
    "// src/components/Button.jsx\n",
    "import { refCount } from \"react\"\n",
    "\n",
    "export const Button = (props) => {\n",
    "\tconst refCount = useRef(null)\n",
    "\tfunction handleClick() {\n",
    "\t\tconst button = refCount.current\n",
    "\t\tbutton.classList.toggle(\"button-button\")\n",
    "\t}\n",
    "\treturn (\n",
    "\t\t<div className='button-component'>\n",
    "\t\t\t<button ref={useRef} onClick={handleClick}>toggle class</button>\n",
    "\t\t</div>\n",
    "\t)\n",
    "}"
   ]
  },
  {
   "cell_type": "markdown",
   "metadata": {},
   "source": [
    "## Context\n",
    "- React has a feature called context.\n",
    "- Context lets us broadcast values and objects to children of any component.\n",
    "- Here's an example of creating a global context that all of our components can use:"
   ]
  },
  {
   "cell_type": "markdown",
   "metadata": {},
   "source": [
    "#### 1) createContext\n",
    "- Creating and assigning a context to an export variable."
   ]
  },
  {
   "cell_type": "code",
   "execution_count": null,
   "metadata": {
    "dotnet_interactive": {
     "language": "javascript"
    },
    "vscode": {
     "languageId": "dotnet-interactive.javascript"
    }
   },
   "outputs": [],
   "source": [
    "// src/contexts/GlobalContext/GlobalContext.jsx\n",
    "import { createContext } from 'react'\n",
    "\n",
    "export const GlobalContext = createContext()"
   ]
  },
  {
   "cell_type": "markdown",
   "metadata": {},
   "source": [
    "#### 2) Create a context provider\n",
    "- Make a provided wrapper from the context.\n",
    "- The context provider has a value attribute that will be broadcasted to all its children."
   ]
  },
  {
   "cell_type": "code",
   "execution_count": null,
   "metadata": {
    "dotnet_interactive": {
     "language": "javascript"
    },
    "vscode": {
     "languageId": "dotnet-interactive.javascript"
    }
   },
   "outputs": [],
   "source": [
    "// src/contexts/GlobalContext/GlobalContextProvider.jsx\n",
    "import { useState } from 'react'\n",
    "import { GlobalContext } from './GlobalContext'\n",
    "\n",
    "const initState = {\n",
    "\tcount: 0,\n",
    "}\n",
    "\n",
    "export const GlobalContextProvider = (props) => {\n",
    "\tconst [globalState, setGlobalState] = useState(initState)\n",
    "\treturn (\n",
    "\t\t<GlobalContext.Provider value={[globalState, setGlobalState]}>\n",
    "\t\t\t{props.children}\n",
    "\t\t</GlobalContext.Provider>\n",
    "\t)\n",
    "}"
   ]
  },
  {
   "cell_type": "markdown",
   "metadata": {},
   "source": [
    "#### 3) Use context provider\n",
    "- Wrap the components with the provider."
   ]
  },
  {
   "cell_type": "code",
   "execution_count": null,
   "metadata": {
    "dotnet_interactive": {
     "language": "javascript"
    },
    "vscode": {
     "languageId": "dotnet-interactive.javascript"
    }
   },
   "outputs": [],
   "source": [
    "// src/App.jsx\n",
    "import './App.css'\n",
    "import { Button } from './components/Button'\n",
    "import { GlobalContextProvider } from './contexts/GlobalContext/GlobalContextProvider'\n",
    "\n",
    "function App() {\n",
    "\treturn (\n",
    "\t\t<GlobalContextProvider>\n",
    "\t\t\t<div className='App'>\n",
    "\t\t\t\t<Button name=\"Howdy\" />\n",
    "\t\t\t</div>\n",
    "\t\t</GlobalContextProvider>\n",
    "\t)\n",
    "}\n",
    "\n",
    "export default App"
   ]
  },
  {
   "cell_type": "markdown",
   "metadata": {},
   "source": [
    "#### 4) Use context inside a component\n",
    "- Import the context.\n",
    "- The hook ```useContext()``` take the context as an input and return the context provider's value."
   ]
  },
  {
   "cell_type": "code",
   "execution_count": null,
   "metadata": {
    "dotnet_interactive": {
     "language": "javascript"
    },
    "vscode": {
     "languageId": "dotnet-interactive.javascript"
    }
   },
   "outputs": [],
   "source": [
    "// src/components/Button.jsx\n",
    "import { useEffect, useState, useContext } from \"react\"\n",
    "import { GlobalContext } from \"../contexts/GlobalContext/GlobalContext\";\n",
    "\n",
    "export const Button = (props) => {\n",
    "\tconst [globalState, setGlobalState] = useContext(GlobalContext);\n",
    "\tconst [count, setCount] = useState(0)\n",
    "\tfunction handleClick() {\n",
    "\t\tsetCount(count + 1)\n",
    "\t\tsetGlobalState({\n",
    "\t\t\t...globalState,\n",
    "\t\t\tcount: count + 1\n",
    "\t\t})\n",
    "\t}\n",
    "\n",
    "\tuseEffect(()=> {\n",
    "\t\tconsole.log(globalState)\n",
    "\t})\n",
    "\n",
    "\treturn (\n",
    "\t\t<div className='button-component'>\n",
    "\t\t\t<button onClick={handleClick}>{props.name} {count}</button>\n",
    "\t\t</div>\n",
    "\t)\n",
    "}\n"
   ]
  },
  {
   "cell_type": "markdown",
   "metadata": {},
   "source": [
    "## Data Binding\n",
    "- In React, a state can be used to create inputs with values in the DOM.\n",
    "- However, the DOM can't send values back to React states.\n",
    "- This is known as one-way binding (vDOM -> DOM)\n",
    "- To work around this limitation, we add a change listener to inputs.\n",
    "- The listener will update the state and re-render the inputs with the new value.\n",
    "###### when using form \"event.preventDefault()\" is use to prevent the form refreshing and losing application state."
   ]
  },
  {
   "cell_type": "code",
   "execution_count": null,
   "metadata": {
    "dotnet_interactive": {
     "language": "javascript"
    },
    "vscode": {
     "languageId": "dotnet-interactive.javascript"
    }
   },
   "outputs": [],
   "source": [
    "import { useState } from \"react\"\n",
    "\n",
    "export const Form = () => {\n",
    "\tconst [inputValue, setInputValue] = useState(\"\")\n",
    "\n",
    "\tfunction handleSubmit(event) {\n",
    "\t\tevent.preventDefault()\n",
    "\t\tconsole.log(inputValue)\n",
    "\t}\n",
    "\n",
    "\tfunction handleChange(event) {\n",
    "\t\tconst value = event.target.value\n",
    "\t\tsetInputValue(value)\n",
    "\t}\n",
    "\n",
    "\treturn (\n",
    "\t\t<form onSubmit={handleSubmit}>\n",
    "\t\t\t<input type=\"text\" value={inputValue} onChange={handleChange}/>\n",
    "\t\t\t<button type=\"submit\">Submit</button>\n",
    "\t\t</form>\n",
    "\t)\n",
    "}"
   ]
  },
  {
   "cell_type": "markdown",
   "metadata": {},
   "source": [
    "## React Router 6\n",
    "- React router is another library that enables conditional component rendering based on routing like URLs."
   ]
  },
  {
   "cell_type": "markdown",
   "metadata": {},
   "source": [
    "### Setting up Router\n",
    "- Let's create 2 components in a new directory \"pages\"."
   ]
  },
  {
   "cell_type": "code",
   "execution_count": null,
   "metadata": {
    "dotnet_interactive": {
     "language": "javascript"
    },
    "vscode": {
     "languageId": "dotnet-interactive.javascript"
    }
   },
   "outputs": [],
   "source": [
    "// src/pages/Home.jsx\n",
    "export const Home = () => {\n",
    "\treturn (\n",
    "\t\t<div>Home</div>\n",
    "\t)\n",
    "}"
   ]
  },
  {
   "cell_type": "code",
   "execution_count": null,
   "metadata": {
    "dotnet_interactive": {
     "language": "javascript"
    },
    "vscode": {
     "languageId": "dotnet-interactive.javascript"
    }
   },
   "outputs": [],
   "source": [
    "// src/pages/NewForm.jsx\n",
    "export const NewForm = () => {\n",
    "\treturn (\n",
    "\t\t<div>NewForm</div>\n",
    "\t)\n",
    "}"
   ]
  },
  {
   "cell_type": "markdown",
   "metadata": {},
   "source": [
    "- Create a Router component in a new directory \"routers\"\n",
    "- ```BrowserRouter``` component specifies that we will be using the browser's location, (browser's URL and history), to control our rendering. \n",
    "- ```Routes``` component tells React Router to create a list of locations to listen for.\n",
    "- ```Route``` component has 2 attributes:\n",
    "  1) ```path``` the location to render its element.\n",
    "  2) ```element``` what component/element to render when the location matches."
   ]
  },
  {
   "cell_type": "code",
   "execution_count": null,
   "metadata": {
    "dotnet_interactive": {
     "language": "javascript"
    },
    "vscode": {
     "languageId": "dotnet-interactive.javascript"
    }
   },
   "outputs": [],
   "source": [
    "// src/routers/Router.jsx\n",
    "import { Home } from '../pages/Home'\n",
    "import { NewForm } from '../pages/NewForm'\n",
    "\n",
    "import { BrowserRouter, Routes, Route } from 'react-router-dom'\n",
    "\n",
    "export const Router = () => {\n",
    "\treturn (\n",
    "\t\t<BrowserRouter>\n",
    "\t\t\t<Routes>\n",
    "\t\t\t\t<Route path='/' element={<Home />}/>\n",
    "\t\t\t\t<Route path='/new' element={<NewForm />}/>\n",
    "\t\t\t</Routes>\n",
    "\t\t</BrowserRouter>\n",
    "\t)\n",
    "}\n"
   ]
  },
  {
   "cell_type": "markdown",
   "metadata": {},
   "source": [
    "- Now we can just add the Router component.\n",
    "- It will conditional render its components based on the application's location."
   ]
  },
  {
   "cell_type": "code",
   "execution_count": null,
   "metadata": {
    "dotnet_interactive": {
     "language": "javascript"
    },
    "vscode": {
     "languageId": "dotnet-interactive.javascript"
    }
   },
   "outputs": [],
   "source": [
    "// src/App.jsx\n",
    "import './App.css'\n",
    "import { GlobalContextProvider } from './contexts'\n",
    "import { Router } from './routers/Router'\n",
    "\n",
    "function App() {\n",
    "\treturn (\n",
    "\t\t<GlobalContextProvider>\n",
    "\t\t\t<div className='App'>\n",
    "\t\t\t\t<Router />\n",
    "\t\t\t</div>\n",
    "\t\t</GlobalContextProvider>\n",
    "\t)\n",
    "}\n",
    "\n",
    "export default App\n"
   ]
  },
  {
   "cell_type": "markdown",
   "metadata": {},
   "source": [
    "### Link\n",
    "- ```Link``` component that will change the location of the app without losing state.\n",
    "- This is like the anchor ```<a>``` tag, but won't refresh the page and lose state."
   ]
  },
  {
   "cell_type": "code",
   "execution_count": null,
   "metadata": {
    "dotnet_interactive": {
     "language": "javascript"
    },
    "vscode": {
     "languageId": "dotnet-interactive.javascript"
    }
   },
   "outputs": [],
   "source": [
    "import { Link } from \"react-router-dom\"\n",
    "\n",
    "export const Home = () => {\n",
    "\treturn (\n",
    "\t\t<div>\n",
    "\t\t\t<Link to={'/'}>New Post</Link>\n",
    "\t\t</div>\n",
    "\t)\n",
    "}"
   ]
  },
  {
   "cell_type": "code",
   "execution_count": null,
   "metadata": {
    "dotnet_interactive": {
     "language": "javascript"
    },
    "vscode": {
     "languageId": "dotnet-interactive.javascript"
    }
   },
   "outputs": [],
   "source": [
    "import { Link } from \"react-router-dom\"\n",
    "\n",
    "export const NewForm = () => {\n",
    "\treturn (\n",
    "\t\t<div>\n",
    "\t\t\t<Link to={'/new'}>Home</Link>\n",
    "\t\t</div>\n",
    "\t)\n",
    "}"
   ]
  },
  {
   "cell_type": "markdown",
   "metadata": {},
   "source": [
    "### useNavigate\n",
    "- ```useNavigate()``` hook lets us change location in JavaScript.\n",
    "- ```useNavigate()``` creates a function that can take in a sting that changes the location.\n",
    "- This can be used on triggering events."
   ]
  },
  {
   "cell_type": "code",
   "execution_count": null,
   "metadata": {
    "dotnet_interactive": {
     "language": "javascript"
    },
    "vscode": {
     "languageId": "dotnet-interactive.javascript"
    }
   },
   "outputs": [],
   "source": [
    "import { useNavigate } from \"react-router-dom\"\n",
    "\n",
    "export const Home = () => {\n",
    "\tconst navigate = useNavigate()\n",
    "\n",
    "\tfunction handleClick() {\n",
    "\t\tnavigate('/new')\n",
    "\t}\n",
    "\n",
    "\treturn (\n",
    "\t\t<div>\n",
    "\t\t\t<button onClick={handleClick}>New Post</button>\n",
    "\t\t</div>\n",
    "\t)\n",
    "}"
   ]
  },
  {
   "cell_type": "markdown",
   "metadata": {},
   "source": [
    "- The navigate function also can take in numbers that change location based on history."
   ]
  },
  {
   "cell_type": "code",
   "execution_count": null,
   "metadata": {
    "dotnet_interactive": {
     "language": "javascript"
    },
    "vscode": {
     "languageId": "dotnet-interactive.javascript"
    }
   },
   "outputs": [],
   "source": [
    "import { useNavigate } from \"react-router-dom\"\n",
    "\n",
    "export const NewForm = () => {\n",
    "\tconst navigate = useNavigate()\n",
    "\tfunction handleClick() {\n",
    "\t\tnavigate(-1)\n",
    "\t}\n",
    "\treturn (\n",
    "\t\t<div>NewForm\n",
    "\t\t\t<button onClick={handleClick}>Back</button>\n",
    "\t\t</div>\n",
    "\t)\n",
    "}"
   ]
  },
  {
   "cell_type": "markdown",
   "metadata": {},
   "source": [
    "### useParams\n",
    "- ```useParams``` hook can be used to get URL params.\n",
    "- the ```<Route>``` path should have a semicolon to declare a param."
   ]
  },
  {
   "cell_type": "code",
   "execution_count": null,
   "metadata": {
    "dotnet_interactive": {
     "language": "javascript"
    },
    "vscode": {
     "languageId": "dotnet-interactive.javascript"
    }
   },
   "outputs": [],
   "source": [
    "import React from 'react'\n",
    "import { Home } from '../pages/Home'\n",
    "import { NewForm } from '../pages/NewForm'\n",
    "import { Details } from '../pages/Details'\n",
    "\n",
    "import { BrowserRouter, Routes, Route } from 'react-router-dom'\n",
    "\n",
    "export const Router = () => {\n",
    "\treturn (\n",
    "\t\t<BrowserRouter>\n",
    "\t\t\t<Routes>\n",
    "\t\t\t\t<Route path='/' element={<Home />}/>\n",
    "\t\t\t\t<Route path='/new' element={<NewForm />}/>\n",
    "\t\t\t\t<Route path='/:id' element={<Details />}/>\n",
    "\t\t\t</Routes>\n",
    "\t\t</BrowserRouter>\n",
    "\t)\n",
    "}"
   ]
  },
  {
   "cell_type": "code",
   "execution_count": null,
   "metadata": {
    "dotnet_interactive": {
     "language": "javascript"
    },
    "vscode": {
     "languageId": "dotnet-interactive.javascript"
    }
   },
   "outputs": [],
   "source": [
    "import React from 'react'\n",
    "import { useParams } from 'react-router-dom'\n",
    "\n",
    "export const Details = () => {\n",
    "\tconst params = useParams()\n",
    "\treturn (\n",
    "\t\t<div>{params.id}</div>\n",
    "\t)\n",
    "}\n"
   ]
  },
  {
   "cell_type": "markdown",
   "metadata": {},
   "source": [
    "## Extra tips and tricks\n",
    "---"
   ]
  },
  {
   "cell_type": "markdown",
   "metadata": {},
   "source": [
    "## Absolute importing\n",
    "- We can assign an alias to a path in Vite.\n",
    "- Adding resolve to the vite.config.js and alias.\n",
    "- Here is an example of making the ```src``` directory as ```@``` "
   ]
  },
  {
   "cell_type": "code",
   "execution_count": null,
   "metadata": {
    "dotnet_interactive": {
     "language": "javascript"
    },
    "vscode": {
     "languageId": "dotnet-interactive.javascript"
    }
   },
   "outputs": [],
   "source": [
    "import { defineConfig } from 'vite'\n",
    "import react from '@vitejs/plugin-react'\n",
    "import path from 'path'\n",
    "import { fileURLToPath } from 'url';\n",
    "\n",
    "// https://vitejs.dev/config/\n",
    "export default defineConfig({\n",
    "\tresolve:{\n",
    "    alias:{\n",
    "      '@' : path.resolve(path.dirname(fileURLToPath(import.meta.url)), './src'),\n",
    "    },\n",
    "  },\n",
    "  plugins: [react()]\n",
    "})"
   ]
  },
  {
   "cell_type": "markdown",
   "metadata": {},
   "source": [
    "- Here is an example of importing a component from a page component:"
   ]
  },
  {
   "cell_type": "code",
   "execution_count": null,
   "metadata": {
    "dotnet_interactive": {
     "language": "javascript"
    },
    "vscode": {
     "languageId": "dotnet-interactive.javascript"
    }
   },
   "outputs": [],
   "source": [
    "// src/page\n",
    "import {Button} from '@/component/Button'\n",
    "export const Home = () => {\n",
    "\treturn (\n",
    "\t\t<div>\n",
    "\t\t\t<Button />\n",
    "\t\t</div>\n",
    "\t)\n",
    "}"
   ]
  },
  {
   "cell_type": "markdown",
   "metadata": {},
   "source": [
    "- If you are using VScode we can enable definition checking with a jsconfig.json."
   ]
  },
  {
   "cell_type": "code",
   "execution_count": null,
   "metadata": {
    "dotnet_interactive": {
     "language": "javascript"
    },
    "vscode": {
     "languageId": "dotnet-interactive.javascript"
    }
   },
   "outputs": [],
   "source": [
    "{\n",
    "  \"compilerOptions\": {\n",
    "    \"baseUrl\": \".\",\n",
    "    \"paths\": {\n",
    "      \"@\": [\"src/*\"]\n",
    "    }\n",
    "  }\n",
    "}"
   ]
  },
  {
   "cell_type": "markdown",
   "metadata": {},
   "source": [
    "## Barrel import\n",
    "- If an import is from a directory, it will automatically try to import from a file name index.\n",
    "- We can export multiple imports from an index file.\n",
    "- We can chain this, pulling imports out of to root file simplifying imports."
   ]
  },
  {
   "cell_type": "code",
   "execution_count": null,
   "metadata": {
    "dotnet_interactive": {
     "language": "javascript"
    },
    "vscode": {
     "languageId": "dotnet-interactive.javascript"
    }
   },
   "outputs": [],
   "source": [
    "// src/Button/Button.js\n",
    "export const Button = () => {\n",
    "\treturn <button>button</button>\n",
    "}"
   ]
  },
  {
   "cell_type": "code",
   "execution_count": null,
   "metadata": {
    "dotnet_interactive": {
     "language": "javascript"
    },
    "vscode": {
     "languageId": "dotnet-interactive.javascript"
    }
   },
   "outputs": [],
   "source": [
    "// src/Button/index.js\n",
    "export {Button} from './Button'"
   ]
  },
  {
   "cell_type": "code",
   "execution_count": null,
   "metadata": {
    "dotnet_interactive": {
     "language": "javascript"
    },
    "vscode": {
     "languageId": "dotnet-interactive.javascript"
    }
   },
   "outputs": [],
   "source": [
    "// src/index.js\n",
    "export * from './Button'"
   ]
  },
  {
   "cell_type": "code",
   "execution_count": null,
   "metadata": {
    "dotnet_interactive": {
     "language": "javascript"
    },
    "vscode": {
     "languageId": "dotnet-interactive.javascript"
    }
   },
   "outputs": [],
   "source": [
    "// src/page\n",
    "import {Button} from '@/component'\n",
    "export const Home = () => {\n",
    "\treturn (\n",
    "\t\t<div>\n",
    "\t\t\t<Button />\n",
    "\t\t</div>\n",
    "\t)\n",
    "}"
   ]
  },
  {
   "cell_type": "markdown",
   "metadata": {},
   "source": [
    "- I've built a command-line tool in node to make this easier.\n",
    "- It's called ```indexing```, and can generate index files for this style of importing.\n",
    "- It can be used for multiple directories and recursively with the ```-r``` flag."
   ]
  },
  {
   "cell_type": "code",
   "execution_count": null,
   "metadata": {
    "dotnet_interactive": {
     "language": "pwsh"
    },
    "vscode": {
     "languageId": "dotnet-interactive.pwsh"
    }
   },
   "outputs": [],
   "source": [
    "npx indexing ./src/components ./src/pages -r"
   ]
  },
  {
   "cell_type": "markdown",
   "metadata": {},
   "source": [
    "## References\n",
    "Check out these resources for more.\n",
    "- [React](https://reactjs.org/)\n",
    "- [CSS](https://developer.mozilla.org/en-US/docs/Web/CSS)"
   ]
  }
 ],
 "metadata": {
  "kernelspec": {
   "display_name": ".NET (C#)",
   "language": "C#",
   "name": ".net-csharp"
  },
  "language_info": {
   "file_extension": ".cs",
   "mimetype": "text/x-csharp",
   "name": "C#",
   "pygments_lexer": "csharp",
   "version": "9.0"
  },
  "orig_nbformat": 4,
  "vscode": {
   "interpreter": {
    "hash": "98f14b60b85110bc66c9772da0405b407200bb6d71b0a740e464ca8ff301d72b"
   }
  }
 },
 "nbformat": 4,
 "nbformat_minor": 2
}
