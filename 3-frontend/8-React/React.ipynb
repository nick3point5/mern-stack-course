{
 "cells": [
  {
   "cell_type": "markdown",
   "metadata": {},
   "source": [
    "## Intro\n",
    "HTML (HyperText Markup Language) is a markup language. It describes content an engine needs to make. The most common engine that you use is likely your web browser. Once the engine makes content, CSS (Cascading Style Sheets) describes how to make that content look. With both HTML and CSS, we will be able to create any UI. JavaScript can also used to dynamically change HTML for more complex interactions. In this lesson we will learn:\n",
    "\n",
    "#### React\n",
    "- Create react app\n",
    "- \n"
   ]
  }
 ],
 "metadata": {
  "kernelspec": {
   "display_name": "Python 3.9.13 64-bit (windows store)",
   "language": "python",
   "name": "python3"
  },
  "language_info": {
   "name": "python",
   "version": "3.9.13"
  },
  "orig_nbformat": 4,
  "vscode": {
   "interpreter": {
    "hash": "98f14b60b85110bc66c9772da0405b407200bb6d71b0a740e464ca8ff301d72b"
   }
  }
 },
 "nbformat": 4,
 "nbformat_minor": 2
}
