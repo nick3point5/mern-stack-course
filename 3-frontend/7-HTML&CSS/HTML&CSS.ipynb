{
 "cells": [
  {
   "cell_type": "markdown",
   "metadata": {},
   "source": [
    "## Intro\n",
    "HTML (HyperText Markup Language) is a markup language. It describes the content an engine needs to make. The most common engine that you use is likely your web browser. Once the engine makes content, CSS (Cascading Style Sheets) describes how to make that content look. With both HTML and CSS, we will be able to create any UI. JavaScript can also be used to dynamically change HTML for more complex interactions. In this lesson we will learn:\n",
    "\n",
    "#### HTML\n",
    "- Setting up HTML file\n",
    "- Minimum HTML\n",
    "- View in Browser\n",
    "- Basic Elements\n",
    "  - div\n",
    "  - headers\n",
    "  - p\n",
    "- Attributes\n",
    "  - img\n",
    "  - a\n",
    "  - button\n",
    "  - form\n",
    "  - input\n",
    "- Selectors\n",
    "  - class\n",
    "  - id\n",
    "\n",
    "#### CSS\n",
    "- Selectors\n",
    "- properties\n",
    "  - background-color\n",
    "  - height & width\n",
    "  - border\n",
    "  - Margin\n",
    "  - padding\n",
    "  - font\n",
    "    - font-family\n",
    "    - font-size\n",
    "    - font-weight\n",
    "  - transform\n",
    "    - translate\n",
    "    - rotate\n",
    "    - scale\n",
    "\n",
    "#### JS DOM\n",
    "- Selector\n",
    "- Creating Elements\n",
    "- Removing Elements\n",
    "- event-listeners\n",
    "\n",
    "#### importing files in HTML\n",
    "---"
   ]
  },
  {
   "cell_type": "markdown",
   "metadata": {},
   "source": [
    "## HTML\n",
    "#### Setting up HTML file\n",
    "- Let's create an HTML file."
   ]
  },
  {
   "cell_type": "code",
   "execution_count": null,
   "metadata": {
    "dotnet_interactive": {
     "language": "pwsh"
    },
    "vscode": {
     "languageId": "dotnet-interactive.pwsh"
    }
   },
   "outputs": [
    {
     "name": "stdout",
     "output_type": "stream",
     "text": [
      "\r\n",
      "    Directory: C:\\code\\teaching\\mern-stack-course\\3-frontend\\7-HTML&CSS\r\n",
      "\r\n",
      "\u001b[32;1mMode                 LastWriteTime         Length Name\u001b[0m\r\n",
      "\u001b[32;1m----                 -------------         ------ ----\u001b[0m\r\n",
      "-a---           7/23/2022  5:20 AM              0 index.html\r\n",
      "\r\n"
     ]
    }
   ],
   "source": [
    "ni index.html"
   ]
  },
  {
   "cell_type": "markdown",
   "metadata": {},
   "source": [
    "- The following is the reasonable minimum amount of HTML a browser needs to make a decent web page."
   ]
  },
  {
   "cell_type": "code",
   "execution_count": null,
   "metadata": {
    "dotnet_interactive": {
     "language": "html"
    },
    "vscode": {
     "languageId": "dotnet-interactive.html"
    }
   },
   "outputs": [
    {
     "data": {
      "text/html": [
       "<!-- index.html -->\n",
       "<!DOCTYPE html>\n",
       "<html lang=\"en\">\n",
       "  <head>\n",
       "    <meta charset=\"UTF-8\" />\n",
       "    <meta name=\"viewport\" content=\"width=device-width, initial-scale=1.0\" />\n",
       "  </head>\n",
       "  <body>\n",
       "  </body>\n",
       "</html>\n"
      ]
     },
     "metadata": {},
     "output_type": "display_data"
    }
   ],
   "source": [
    "<!-- index.html -->\n",
    "<!DOCTYPE html>\n",
    "<html lang=\"en\">\n",
    "  <head>\n",
    "    <meta charset=\"UTF-8\" />\n",
    "    <meta name=\"viewport\" content=\"width=device-width, initial-scale=1.0\" />\n",
    "  </head>\n",
    "  <body>\n",
    "  </body>\n",
    "</html>"
   ]
  },
  {
   "cell_type": "markdown",
   "metadata": {},
   "source": [
    "## Minimum HTML\n",
    "- Elements are objects that are wrapped between angle brackets (<>)\n",
    "- Tags like ```<html>``` open a element and are close with ```</html>```\n",
    "- Let's break down the index.html tags:\n",
    "  - ```<!DOCTYPE html>``` tells the engine the file is HTML.\n",
    "  - ```<html lang=\"en\">``` tells the engine to start reading HTML and that the HTML with be in English.\n",
    "  - ```<head>``` this is where we tell the engine to do things before rendering anything to the page. \n",
    "  - ```<meta charset=\"UTF-8\" />``` character set the engine can render.\n",
    "  - ```<meta name=\"viewport\" content=\"width=device-width, initial-scale=1.0\" />```  the render will be scale base on the device (computer, mobile, game consoles etc...) that reads the HTML.\n",
    "  - ```<body>``` what will be rendered."
   ]
  },
  {
   "cell_type": "markdown",
   "metadata": {},
   "source": [
    "## View in Browser\n",
    "- Every web page is HTML.\n",
    "- We can open our HTML files in a browser.\n",
    "- Most browsers have powerful development tools.\n",
    "- We can usually open developer tools by right-clicking and selecting inspect in the browser.\n",
    "  - Alternatively, we can hit the F12 key on open web tools.\n",
    "\n",
    "![](../../assets/images/html/inspect.png)\n",
    "\n",
    "- We can view a page's HTML here in the inspector.\n",
    "\n",
    "![](../../assets/images/html/inspector-tab.png)"
   ]
  },
  {
   "cell_type": "markdown",
   "metadata": {},
   "source": [
    "## Basic Elements\n",
    "- Everything rendered in HTML is just boxes sometimes with text inside.\n",
    "#### div\n",
    "- ```<div>``` are general purpose boxes.\n",
    "- They can be used to contain other elements and organize groups of elements."
   ]
  },
  {
   "cell_type": "markdown",
   "metadata": {},
   "source": [
    "#### headers\n",
    "- ```<h1>``` are for header text.\n",
    "- There are 6 of them \"h1\", \"h2\", ..., \"h6\"\n",
    "- They are for bold and larger size text by default."
   ]
  },
  {
   "cell_type": "code",
   "execution_count": null,
   "metadata": {
    "dotnet_interactive": {
     "language": "html"
    },
    "vscode": {
     "languageId": "dotnet-interactive.html"
    }
   },
   "outputs": [
    {
     "data": {
      "text/html": [
       "<h1>Big Boi</h1>\n",
       "<h2>Less big boi</h2>\n",
       "<h3>Even less big boi</h3>"
      ]
     },
     "metadata": {},
     "output_type": "display_data"
    }
   ],
   "source": [
    "<h1>Big Boi</h1>\n",
    "<h2>Less big boi</h2>\n",
    "<h3>Even less big boi</h3>"
   ]
  },
  {
   "cell_type": "markdown",
   "metadata": {},
   "source": [
    "#### p (paragraph)\n",
    "- ```<p>``` are for general text."
   ]
  },
  {
   "cell_type": "code",
   "execution_count": null,
   "metadata": {
    "dotnet_interactive": {
     "language": "html"
    },
    "vscode": {
     "languageId": "dotnet-interactive.html"
    }
   },
   "outputs": [
    {
     "data": {
      "text/html": [
       "<p>Hi chat</p>"
      ]
     },
     "metadata": {},
     "output_type": "display_data"
    }
   ],
   "source": [
    "<p>Hi chat</p>"
   ]
  },
  {
   "cell_type": "markdown",
   "metadata": {},
   "source": [
    "#### span\n",
    "- ```<span>``` are for containing text within text."
   ]
  },
  {
   "cell_type": "code",
   "execution_count": null,
   "metadata": {
    "dotnet_interactive": {
     "language": "html"
    },
    "vscode": {
     "languageId": "dotnet-interactive.html"
    }
   },
   "outputs": [
    {
     "data": {
      "text/html": [
       "<p>this is a <span>span</span> example</p>"
      ]
     },
     "metadata": {},
     "output_type": "display_data"
    }
   ],
   "source": [
    "<p>this is a <span>span</span> example</p>"
   ]
  },
  {
   "cell_type": "markdown",
   "metadata": {},
   "source": [
    "#### br (break)\n",
    "- HTML treats line breaks as spaces.\n",
    "- ```<br>``` are new lines for text.\n",
    "###### *if a tag doesn't have text or element children, it can be opened and closed in one tag ```<br/>``` "
   ]
  },
  {
   "cell_type": "code",
   "execution_count": null,
   "metadata": {
    "dotnet_interactive": {
     "language": "html"
    },
    "vscode": {
     "languageId": "dotnet-interactive.html"
    }
   },
   "outputs": [
    {
     "data": {
      "text/html": [
       "<p>I think you and me <br/> break up</p>"
      ]
     },
     "metadata": {},
     "output_type": "display_data"
    }
   ],
   "source": [
    "<p>I think you and me should <br/> break up</p>"
   ]
  },
  {
   "cell_type": "markdown",
   "metadata": {},
   "source": [
    "## Attributes\n",
    "- Attributes are options for tags.\n",
    "- Some tags have a lot of prebuilt functionality that is accessible through their attributes.\n",
    "#### img (image)\n",
    "- ```img``` renders image files either locally or from the web.\n",
    "  -  src (source) is where we get the image file from.\n",
    "  -  alt is text that replaces the image if it fails to load.\n",
    "     -  this is used for accessibility."
   ]
  },
  {
   "cell_type": "code",
   "execution_count": null,
   "metadata": {
    "dotnet_interactive": {
     "language": "html"
    },
    "vscode": {
     "languageId": "dotnet-interactive.html"
    }
   },
   "outputs": [
    {
     "data": {
      "text/html": [
       "<img src=\"https://cdn.mos.cms.futurecdn.net/vChK6pTy3vN3KbYZ7UU7k3.jpg\" alt=\"kitten\">"
      ]
     },
     "metadata": {},
     "output_type": "display_data"
    }
   ],
   "source": [
    "<img src=\"https://cdn.mos.cms.futurecdn.net/vChK6pTy3vN3KbYZ7UU7k3.jpg\" alt=\"kitten\">"
   ]
  },
  {
   "cell_type": "markdown",
   "metadata": {},
   "source": [
    "#### a (anchor)\n",
    "- ```a``` send the user somewhere either somewhere on the page or another URL.\n",
    "  -  href (hypertext reference) is where we send the user when they click this or its children."
   ]
  },
  {
   "cell_type": "code",
   "execution_count": null,
   "metadata": {
    "dotnet_interactive": {
     "language": "html"
    },
    "vscode": {
     "languageId": "dotnet-interactive.html"
    }
   },
   "outputs": [
    {
     "data": {
      "text/html": [
       "<a href=\"https://coaching.healthygamer.gg/users/sign_in?type=coaching\">Stop it. Get some help</a>\n",
       "<br>\n",
       "<a href=\"https://en.wikipedia.org/wiki/Rock_(geology)\">\n",
       "\t<img src=\"https://upload.wikimedia.org/wikipedia/commons/thumb/a/aa/GabbroRockCreek1.jpg/330px-GabbroRockCreek1.jpg\" alt=\"rock\">\n",
       "</a>"
      ]
     },
     "metadata": {},
     "output_type": "display_data"
    }
   ],
   "source": [
    "<a href=\"https://coaching.healthygamer.gg/users/sign_in?type=coaching\">Stop it. Get some help</a>\n",
    "<br>\n",
    "<a href=\"https://en.wikipedia.org/wiki/Rock_(geology)\">\n",
    "\t<img src=\"https://upload.wikimedia.org/wikipedia/commons/thumb/a/aa/GabbroRockCreek1.jpg/330px-GabbroRockCreek1.jpg\" alt=\"rock\">\n",
    "</a>"
   ]
  },
  {
   "cell_type": "markdown",
   "metadata": {},
   "source": [
    "#### button\n",
    "- ```<button>``` a button.\n",
    "  - onClick runs JavaScript when you click it.\n",
    "###### *This is not unique to the button tag. Any tag can have an onClick.\n"
   ]
  },
  {
   "cell_type": "code",
   "execution_count": null,
   "metadata": {
    "dotnet_interactive": {
     "language": "html"
    },
    "vscode": {
     "languageId": "dotnet-interactive.html"
    }
   },
   "outputs": [
    {
     "data": {
      "text/html": [
       "<button onClick=\"console.log('Hello World')\">\n",
       "  Hello World\n",
       "</button>"
      ]
     },
     "metadata": {},
     "output_type": "display_data"
    }
   ],
   "source": [
    "<button onClick=\"console.log('Hello World')\">\n",
    "  Hello World\n",
    "</button>"
   ]
  },
  {
   "cell_type": "markdown",
   "metadata": {},
   "source": [
    "#### form, label, & input\n",
    "- ```<form>``` create a form where we can submit HTTP requests from its input children.\n",
    "  - action attribute the URL we will send the request to.\n",
    "  - method attribute specifies the HTTP method of the request. (HTML form only does get and post)\n",
    "- ```<label>``` renders the label an input.\n",
    "- ```<input>``` renders an element that users can interact with.\n",
    "  - name attribute is the key for the body that will be sent with the HTTP request."
   ]
  },
  {
   "cell_type": "code",
   "execution_count": null,
   "metadata": {
    "dotnet_interactive": {
     "language": "html"
    },
    "vscode": {
     "languageId": "dotnet-interactive.html"
    }
   },
   "outputs": [
    {
     "data": {
      "text/html": [
       "<form action=\"https://sample-api-six.vercel.app/\" method=\"post\">\n",
       "\t<label>Text</label>\n",
       "\t<input type=\"text\" name=\"text\"/>\n",
       "\t<button type=\"submit\">Post</button>\n",
       "</form>"
      ]
     },
     "metadata": {},
     "output_type": "display_data"
    }
   ],
   "source": [
    "<form action=\"https://sample-api-six.vercel.app/\" method=\"post\">\n",
    "\t<label>Text</label>\n",
    "\t<input type=\"text\" name=\"text\"/>\n",
    "\t<button type=\"submit\">Post</button>\n",
    "</form>"
   ]
  },
  {
   "cell_type": "markdown",
   "metadata": {},
   "source": [
    "## Selectors Attributes\n",
    "- When we write HTML we will reuse many tags.\n",
    "- Selectors help us organize and find tags so we can change their appearance and behaviors.\n",
    "#### class\n",
    "- The class attribute is a way to identify a group or multiple elements."
   ]
  },
  {
   "cell_type": "code",
   "execution_count": null,
   "metadata": {
    "dotnet_interactive": {
     "language": "html"
    },
    "vscode": {
     "languageId": "dotnet-interactive.html"
    }
   },
   "outputs": [
    {
     "data": {
      "text/html": [
       "<div class=\"text-container\">\n",
       "\t<p class=\"text\">howdy</p>\n",
       "</div>\n",
       "<div class=\"text-container\">\n",
       "\t<p class=\"text\">howdy</p>\n",
       "</div>\n",
       "<div class=\"text-container\">\n",
       "\t<p class=\"text\">howdy</p>\n",
       "</div>"
      ]
     },
     "metadata": {},
     "output_type": "display_data"
    }
   ],
   "source": [
    "<div class=\"text-container\">\n",
    "\t<p class=\"text\">howdy</p>\n",
    "</div>\n",
    "<div class=\"text-container\">\n",
    "\t<p class=\"text\">howdy</p>\n",
    "</div>\n",
    "<div class=\"text-container\">\n",
    "\t<p class=\"text\">howdy</p>\n",
    "</div>"
   ]
  },
  {
   "cell_type": "markdown",
   "metadata": {},
   "source": [
    "#### id\n",
    "- The id attribute should be used to uniquely identify a single element."
   ]
  },
  {
   "cell_type": "code",
   "execution_count": null,
   "metadata": {
    "dotnet_interactive": {
     "language": "html"
    },
    "vscode": {
     "languageId": "dotnet-interactive.html"
    }
   },
   "outputs": [
    {
     "data": {
      "text/html": [
       "<div class=\"text-container\" id=\"container-1\">\n",
       "\t<p class=\"text\" id=\"howdy-1\">howdy</p>\n",
       "</div>\n",
       "<div class=\"text-container\" id=\"container-2\">\n",
       "\t<p class=\"text\" id=\"howdy-2\">howdy</p>\n",
       "</div>\n",
       "<div class=\"text-container\" id=\"container-3\">\n",
       "\t<p class=\"text\" id=\"howdy-3\">howdy</p>\n",
       "</div>"
      ]
     },
     "metadata": {},
     "output_type": "display_data"
    }
   ],
   "source": [
    "<div class=\"text-container\" id=\"container-1\">\n",
    "\t<p class=\"text\" id=\"howdy-1\">howdy</p>\n",
    "</div>\n",
    "<div class=\"text-container\" id=\"container-2\">\n",
    "\t<p class=\"text\" id=\"howdy-2\">howdy</p>\n",
    "</div>\n",
    "<div class=\"text-container\" id=\"container-3\">\n",
    "\t<p class=\"text\" id=\"howdy-3\">howdy</p>\n",
    "</div>"
   ]
  },
  {
   "cell_type": "markdown",
   "metadata": {},
   "source": [
    "## CSS\n",
    "- CSS (Cascading Style Sheets) are instructions that the engine can use to change how the elements are rendered beyond the default.\n",
    "- a style has two parts:\n",
    "  1) a selector with telling CSS which element(s) we are trying to add style to.\n",
    "  2) a list of style properties and values.\n",
    "- We can write CSS in a ```<style>``` tag.\n",
    "#### Selectors\n",
    "- We use one or more selectors to pick out which element(s) to apply styles to.\n",
    "- Here are some basic selectors:"
   ]
  },
  {
   "cell_type": "markdown",
   "metadata": {},
   "source": [
    "- tag selector\n",
    "###### color: changes the text color"
   ]
  },
  {
   "cell_type": "code",
   "execution_count": null,
   "metadata": {
    "dotnet_interactive": {
     "language": "html"
    },
    "vscode": {
     "languageId": "dotnet-interactive.html"
    }
   },
   "outputs": [
    {
     "data": {
      "text/html": [
       "<p>orange</p>\n",
       "<style>\n",
       "p {\n",
       "\tcolor: orange;\n",
       "\tbackground-color: #1e1e1e;\n",
       "}\n",
       "</style>"
      ]
     },
     "metadata": {},
     "output_type": "display_data"
    }
   ],
   "source": [
    "<p>orange</p>\n",
    "<style>\n",
    "p {\n",
    "\tcolor: orange;\n",
    "}\n",
    "</style>"
   ]
  },
  {
   "cell_type": "markdown",
   "metadata": {},
   "source": [
    "- class selector"
   ]
  },
  {
   "cell_type": "code",
   "execution_count": null,
   "metadata": {
    "dotnet_interactive": {
     "language": "html"
    },
    "vscode": {
     "languageId": "dotnet-interactive.html"
    }
   },
   "outputs": [
    {
     "data": {
      "text/html": [
       "<p class=\"aqua\">aqua</p>\n",
       "<style>\n",
       ".aqua {\n",
       "\tcolor: #00FFFF;\n",
       "}\n",
       "</style>"
      ]
     },
     "metadata": {},
     "output_type": "display_data"
    }
   ],
   "source": [
    "<p class=\"aqua\">aqua</p>\n",
    "<style>\n",
    ".aqua {\n",
    "\tcolor: #00FFFF;\n",
    "}\n",
    "</style>"
   ]
  },
  {
   "cell_type": "markdown",
   "metadata": {},
   "source": [
    "- id selector"
   ]
  },
  {
   "cell_type": "code",
   "execution_count": null,
   "metadata": {
    "dotnet_interactive": {
     "language": "html"
    },
    "vscode": {
     "languageId": "dotnet-interactive.html"
    }
   },
   "outputs": [
    {
     "data": {
      "text/html": [
       "<p id=\"dark-aqua\">dark aqua</p>\n",
       "<style>\n",
       "#dark-aqua {\n",
       "\tcolor: #153c4e;\n",
       "}\n",
       "</style>"
      ]
     },
     "metadata": {},
     "output_type": "display_data"
    }
   ],
   "source": [
    "<p id=\"dark-aqua\">dark aqua</p>\n",
    "<style>\n",
    "#dark-aqua {\n",
    "\tcolor: #153c4e;\n",
    "}\n",
    "</style>"
   ]
  },
  {
   "cell_type": "markdown",
   "metadata": {},
   "source": [
    "- The styles have a hierarchy.\n",
    "- The general rule is the more specific the higher the priority.\n",
    "  -  Tag < Class < Id"
   ]
  },
  {
   "cell_type": "code",
   "execution_count": null,
   "metadata": {
    "dotnet_interactive": {
     "language": "html"
    },
    "vscode": {
     "languageId": "dotnet-interactive.html"
    }
   },
   "outputs": [
    {
     "data": {
      "text/html": [
       "<p class=\"aqua\" id=\"dark-aqua\">This is a shade of aqua</p>"
      ]
     },
     "metadata": {},
     "output_type": "display_data"
    }
   ],
   "source": [
    "<p class=\"aqua\" id=\"dark-aqua\">This is a shade of aqua</p>"
   ]
  },
  {
   "cell_type": "markdown",
   "metadata": {},
   "source": [
    "- If two styles have the same priority, the last style is the priority.\n",
    "- This is known as Cascade."
   ]
  },
  {
   "cell_type": "code",
   "execution_count": null,
   "metadata": {
    "dotnet_interactive": {
     "language": "html"
    },
    "vscode": {
     "languageId": "dotnet-interactive.html"
    }
   },
   "outputs": [
    {
     "data": {
      "text/html": [
       "<p class=\"fuchsia\">Fuchsia</p>\n",
       "<style>\n",
       "\t.fuchsia{\n",
       "\t\tcolor: white;\n",
       "\t}\n",
       "\t.fuchsia {\n",
       "\t\tcolor:fuchsia;\n",
       "\t}\n",
       "</style>"
      ]
     },
     "metadata": {},
     "output_type": "display_data"
    }
   ],
   "source": [
    "<p class=\"fuchsia\">Fuchsia</p>\n",
    "<style>\n",
    "\t.fuchsia{\n",
    "\t\tcolor: tomato;\n",
    "\t}\n",
    "\t.fuchsia {\n",
    "\t\tcolor:fuchsia;\n",
    "\t}\n",
    "</style>"
   ]
  },
  {
   "cell_type": "markdown",
   "metadata": {},
   "source": [
    "#### properties\n",
    "- ```background-color``` give an element background (not content) color."
   ]
  },
  {
   "cell_type": "code",
   "execution_count": null,
   "metadata": {
    "dotnet_interactive": {
     "language": "html"
    },
    "vscode": {
     "languageId": "dotnet-interactive.html"
    }
   },
   "outputs": [
    {
     "data": {
      "text/html": [
       "<p class=\"bgc\">lorem</p>\n",
       "<style>\n",
       "\t.bgc{\n",
       "\t\tbackground-color: Indigo;\n",
       "\t}\n",
       "</style>"
      ]
     },
     "metadata": {},
     "output_type": "display_data"
    }
   ],
   "source": [
    "<p class=\"bgc\">lorem</p>\n",
    "<style>\n",
    "\t.bgc{\n",
    "\t\tbackground-color: Indigo;\n",
    "\t}\n",
    "</style>"
   ]
  },
  {
   "cell_type": "markdown",
   "metadata": {},
   "source": [
    "- ```height``` & ```width``` give an element's content size dimensions."
   ]
  },
  {
   "cell_type": "code",
   "execution_count": null,
   "metadata": {
    "dotnet_interactive": {
     "language": "html"
    },
    "vscode": {
     "languageId": "dotnet-interactive.html"
    }
   },
   "outputs": [
    {
     "data": {
      "text/html": [
       "<p class=\"hw\">lorem</p>\n",
       "<style>\n",
       "\t.hw{\n",
       "\t\tbackground-color: Indigo;\n",
       "\t\theight: 100px; //px means pixels\n",
       "\t\twidth: 200px;\n",
       "\t}\n",
       "</style>"
      ]
     },
     "metadata": {},
     "output_type": "display_data"
    }
   ],
   "source": [
    "<p class=\"hw\">lorem</p>\n",
    "<style>\n",
    "\t.hw{\n",
    "\t\tbackground-color: Indigo;\n",
    "\t\theight: 100px; /* px means pixels */\n",
    "\t\twidth: 200px;\n",
    "\t}\n",
    "</style>"
   ]
  },
  {
   "cell_type": "markdown",
   "metadata": {},
   "source": [
    "- ```border``` is a border of the element's content.\n",
    "- This is shorthand for 3 properties \"border-width, border-style, & border-color\""
   ]
  },
  {
   "cell_type": "code",
   "execution_count": null,
   "metadata": {
    "dotnet_interactive": {
     "language": "html"
    },
    "vscode": {
     "languageId": "dotnet-interactive.html"
    }
   },
   "outputs": [
    {
     "data": {
      "text/html": [
       "<p class=\"hw border\">lorem</p>\n",
       "<style>\n",
       "\t.border {\n",
       "\t\tborder: 2px solid Maroon\n",
       "\t}\n",
       "</style>"
      ]
     },
     "metadata": {},
     "output_type": "display_data"
    }
   ],
   "source": [
    "<p class=\"hw border\">lorem</p>\n",
    "<style>\n",
    "\t.border {\n",
    "\t\tborder: 2px solid Maroon\n",
    "\t}\n",
    "</style>"
   ]
  },
  {
   "cell_type": "markdown",
   "metadata": {},
   "source": [
    "- ```border-radius``` rounds the corners of an element.\n",
    "  - The maximum it will cut is until half the shortest dimension. "
   ]
  },
  {
   "cell_type": "code",
   "execution_count": null,
   "metadata": {
    "dotnet_interactive": {
     "language": "html"
    },
    "vscode": {
     "languageId": "dotnet-interactive.html"
    }
   },
   "outputs": [
    {
     "data": {
      "text/html": [
       "<div>\n",
       "\t<div class=\"pebble\"></div>\n",
       "</div>\n",
       "<style>\n",
       "\t.pebble {\n",
       "\t\theight: 100px;\n",
       "\t\twidth: 100px;\n",
       "\t\tbackground-color:darkgray;\n",
       "\t\tborder-radius: 50px;\n",
       "\t}\n",
       "</style>"
      ]
     },
     "metadata": {},
     "output_type": "display_data"
    }
   ],
   "source": [
    "<div>\n",
    "\t<div class=\"pebble\"></div>\n",
    "</div>\n",
    "<style>\n",
    "\t.pebble {\n",
    "\t\theight: 100px;\n",
    "\t\twidth: 100px;\n",
    "\t\tbackground-color:darkgray;\n",
    "\t\tborder-radius: 50px;\n",
    "\t}\n",
    "</style>"
   ]
  },
  {
   "cell_type": "markdown",
   "metadata": {},
   "source": [
    "- ```margin``` is a space outside of the border.\n",
    "- margins cannot be styled. \n",
    "- They should be used for spacing between elements and nothing else."
   ]
  },
  {
   "cell_type": "code",
   "execution_count": null,
   "metadata": {
    "dotnet_interactive": {
     "language": "html"
    },
    "vscode": {
     "languageId": "dotnet-interactive.html"
    }
   },
   "outputs": [
    {
     "data": {
      "text/html": [
       "<p class=\"hw margin\">lorem</p>\n",
       "<p class=\"hw margin\">lorem</p>\n",
       "<style>\n",
       "\t.margin {\n",
       "\t\tmargin: 20px\n",
       "\t}\n",
       "</style>\n"
      ]
     },
     "metadata": {},
     "output_type": "display_data"
    }
   ],
   "source": [
    "<p class=\"hw margin\">lorem</p>\n",
    "<p class=\"hw margin\">lorem</p>\n",
    "<style>\n",
    "\t.margin {\n",
    "\t\tmargin: 20px\n",
    "\t}\n",
    "</style>\n"
   ]
  },
  {
   "cell_type": "markdown",
   "metadata": {},
   "source": [
    "- ```padding``` is a space between the border and the content."
   ]
  },
  {
   "cell_type": "code",
   "execution_count": null,
   "metadata": {
    "dotnet_interactive": {
     "language": "html"
    },
    "vscode": {
     "languageId": "dotnet-interactive.html"
    }
   },
   "outputs": [
    {
     "data": {
      "text/html": [
       "<div class=\"padding\">\n",
       "\t<p class=\"hw\">content</p>\n",
       "</div>\n",
       "\n",
       "<style>\n",
       "\t.padding {\n",
       "\t\tpadding: 20px;\n",
       "\t\tbackground-color: LightBlue;\n",
       "\t\tcolor: black;\n",
       "\t}\n",
       "</style>"
      ]
     },
     "metadata": {},
     "output_type": "display_data"
    }
   ],
   "source": [
    "<div class=\"padding\">\n",
    "\t<p class=\"hw\">content</p>\n",
    "</div>\n",
    "\n",
    "<style>\n",
    "\t.padding {\n",
    "\t\tpadding: 20px;\n",
    "\t\tbackground-color: LightBlue;\n",
    "\t\tcolor: black;\n",
    "\t}\n",
    "</style>"
   ]
  },
  {
   "cell_type": "markdown",
   "metadata": {},
   "source": [
    "###### *Note: width and height don't count the thickness of the margin, border, or padding. Only content."
   ]
  },
  {
   "cell_type": "markdown",
   "metadata": {},
   "source": [
    "- font\n",
    "  - ```font-size```  is how large or small the font should be.\n",
    "  - ```font-family``` is the font set that should be used.\n",
    "  - ```font-weight``` is how bold (thick) the font should be."
   ]
  },
  {
   "cell_type": "code",
   "execution_count": null,
   "metadata": {
    "dotnet_interactive": {
     "language": "html"
    },
    "vscode": {
     "languageId": "dotnet-interactive.html"
    }
   },
   "outputs": [
    {
     "data": {
      "text/html": [
       "<p class=\"font\">content</p>\n",
       "<style>\n",
       "\t.font {\n",
       "\t\tfont-size: 2em;/* px means pixels */\n",
       "\t\tfont-family: \"Lucida Grande\";\n",
       "\t\tfont-weight: 600;\n",
       "\t}\n",
       "</style>"
      ]
     },
     "metadata": {},
     "output_type": "display_data"
    }
   ],
   "source": [
    "<p class=\"font\">content</p>\n",
    "<style>\n",
    "\t.font {\n",
    "\t\tfont-size: 2em;/* by default em means 16 pixels */\n",
    "\t\tfont-family: \"Lucida Grande\";\n",
    "\t\tfont-weight: 600;/* values are in increments of 100 */\n",
    "\t}\n",
    "</style>"
   ]
  },
  {
   "cell_type": "markdown",
   "metadata": {},
   "source": [
    "- ```transform``` moves, rotates, and scales an element.\n",
    "- the default origin is the point at the top-left of the element. \n",
    "  - ```translate``` moves the element horizontally and vertically.\n",
    "  - ```rotate``` rotates the element around its origin.\n",
    "  - ```scale``` grows or shrinks the element."
   ]
  },
  {
   "cell_type": "code",
   "execution_count": null,
   "metadata": {
    "dotnet_interactive": {
     "language": "html"
    },
    "vscode": {
     "languageId": "dotnet-interactive.html"
    }
   },
   "outputs": [
    {
     "data": {
      "text/html": [
       "<div class=\"stick-world\">\n",
       "\t<img class=\"stick-man\" src=\"../../assets/images/html/stick-man.jpg\"/>\n",
       "</div>\n",
       "<style>\n",
       "\t.stick-world{\n",
       "\t\tbackground-color: red;\n",
       "\t\theight: 200px;\n",
       "\t\twidth: 1000px;\n",
       "\t}\n",
       "\t.stick-man{\n",
       "\t\ttransform: translate(20px, 10px) rotate(30deg) scale(0.5);\n",
       "\t}\n",
       "</style>"
      ]
     },
     "metadata": {},
     "output_type": "display_data"
    }
   ],
   "source": [
    "<div class=\"stick-land\">\n",
    "\t<img class=\"stick-man\" src=\"../../assets/images/html/stick-man.jpg\"/>\n",
    "</div>\n",
    "<style>\n",
    "\t.stick-land{\n",
    "\t\tbackground-color: red;\n",
    "\t\theight: 200px;\n",
    "\t\twidth: 1000px;\n",
    "\t}\n",
    "\t.stick-man{\n",
    "\t\ttransform: translate(20px, 10px) rotate(30deg) scale(0.5);\n",
    "\t}\n",
    "</style>"
   ]
  },
  {
   "cell_type": "markdown",
   "metadata": {},
   "source": [
    "- ```position``` tell the engine what the origin would be relative to.\n",
    "  - ```relative``` make the element's children relative to it. (this is the body's default)\n",
    "  - ```absolute``` makes the element's top, right, bottom, and left properties relative to the nearest parent with ```position: relative```\n",
    "    - top, right, bottom, and left moves the element from the parent's border.\n",
    "  - ```fixed``` makes the element's origin relative to the page view after it's rendered."
   ]
  },
  {
   "cell_type": "code",
   "execution_count": null,
   "metadata": {
    "dotnet_interactive": {
     "language": "html"
    },
    "vscode": {
     "languageId": "dotnet-interactive.html"
    }
   },
   "outputs": [
    {
     "data": {
      "text/html": [
       "<div class=\"stick-planet\">\n",
       "\t\t\t<div class=\"stick-land\">\n",
       "\t\t\t\t<img class=\"stick-man\" src=\"../../assets/images/html/stick-man.jpg\"/>\n",
       "\t\t\t\t<img class=\"stick-man absolute\" src=\"../../assets/images/html/stick-man.jpg\"/>\n",
       "\t\t\t\t<img class=\"stick-man fixed\" src=\"../../assets/images/html/stick-man.jpg\"/>\n",
       "\t\t\t</div>\n",
       "\t\t\t</div>\n",
       "\t\t\t<style>\n",
       "\t\t\t\t.stick-planet{\n",
       "\t\t\t\t\tposition: relative;\n",
       "\t\t\t\t\tpadding: 100px;\n",
       "\t\t\t\t\tbackground-color: pink;\n",
       "\t\t\t\t\theight:2000px;\n",
       "\t\t\t\t\twidth: 1000px;\n",
       "\t\t\t\t}\n",
       "\t\t\t\t.stick-land{\n",
       "\t\t\t\t\tbackground-color: red;\n",
       "\t\t\t\t\theight: 10%; /* % are relative to the parent with position: relative */\n",
       "\t\t\t\t\twidth: 100%; \n",
       "\t\t\t\t}\n",
       "\t\t\t\t.stick-man{\n",
       "\t\t\t\t\theight: 100px;\n",
       "\t\t\t\t\twidth: 100px;\n",
       "\t\t\t\t\tbackground-color: rgb(19, 26, 214);\n",
       "\t\t\t\t\ttransform: translate(20px, 10px) rotate(30deg) scale(0.5);\n",
       "\t\t\t\t\t\n",
       "\t\t\t\t}\n",
       "\t\t\t\t.absolute {\n",
       "\t\t\t\t\tposition: absolute;\n",
       "\t\t\t\t\ttop: 40px;\n",
       "\t\t\t\t\tright: 40px;\n",
       "\t\t\t\t}\n",
       "\t\t\t\t.fixed {\n",
       "\t\t\t\t\tposition: fixed;\n",
       "\t\t\t\t}\n",
       "\t\t\t</style>"
      ]
     },
     "metadata": {},
     "output_type": "display_data"
    }
   ],
   "source": [
    "<div class=\"stick-planet\">\n",
    "\t\t\t<div class=\"stick-land\">\n",
    "\t\t\t\t<img class=\"stick-man\" src=\"../../assets/images/html/stick-man.jpg\"/>\n",
    "\t\t\t\t<img class=\"stick-man absolute\" src=\"../../assets/images/html/stick-man.jpg\"/>\n",
    "\t\t\t\t<img class=\"stick-man fixed\" src=\"../../assets/images/html/stick-man.jpg\"/>\n",
    "\t\t\t</div>\n",
    "\t\t\t</div>\n",
    "\t\t\t<style>\n",
    "\t\t\t\t.stick-planet{\n",
    "\t\t\t\t\tposition: relative;\n",
    "\t\t\t\t\tpadding: 100px;\n",
    "\t\t\t\t\tbackground-color: pink;\n",
    "\t\t\t\t\theight:2000px;\n",
    "\t\t\t\t\twidth: 1000px;\n",
    "\t\t\t\t}\n",
    "\t\t\t\t.stick-land{\n",
    "\t\t\t\t\tbackground-color: red;\n",
    "\t\t\t\t\theight: 10%; /* % are relative to the parent with position: relative */\n",
    "\t\t\t\t\twidth: 100%; \n",
    "\t\t\t\t}\n",
    "\t\t\t\t.stick-man{\n",
    "\t\t\t\t\theight: 100px;\n",
    "\t\t\t\t\twidth: 100px;\n",
    "\t\t\t\t\tbackground-color: rgb(19, 26, 214);\n",
    "\t\t\t\t\ttransform: translate(20px, 10px) rotate(30deg) scale(0.5);\n",
    "\t\t\t\t\t\n",
    "\t\t\t\t}\n",
    "\t\t\t\t.absolute {\n",
    "\t\t\t\t\tposition: absolute;\n",
    "\t\t\t\t\ttop: 40px;\n",
    "\t\t\t\t\tright: 40px;\n",
    "\t\t\t\t}\n",
    "\t\t\t\t.fixed {\n",
    "\t\t\t\t\tposition: fixed;\n",
    "\t\t\t\t}\n",
    "\t\t\t</style>"
   ]
  },
  {
   "cell_type": "markdown",
   "metadata": {},
   "source": [
    "#### JS DOM\n",
    "- Everything created in HTML & CSS can be represented as an object in JavaScript.\n",
    "- The document object model (DOM) is a representation of elements rendered from the engine.\n",
    "- We can write JavaScript in a ```<script>``` tag."
   ]
  },
  {
   "cell_type": "markdown",
   "metadata": {},
   "source": [
    "## Query elements\n",
    "- We can select elements with the document object methods.\n",
    "- Here are 3 of them:\n",
    "  1) ```document.getElementById()``` takes a string of the id and returns the element.\n",
    "  2) ```document.querySelector()``` takes a string in the form of a selector and returns the first element that matches it.\n",
    "  3) ```document.document.querySelectorAll()``` takes a string in the form of a selector and returns an array of matches."
   ]
  },
  {
   "cell_type": "code",
   "execution_count": null,
   "metadata": {
    "dotnet_interactive": {
     "language": "html"
    },
    "vscode": {
     "languageId": "dotnet-interactive.html"
    }
   },
   "outputs": [
    {
     "data": {
      "text/html": [
       "<div class=\"stick-land\">\n",
       "\t<img class=\"stick-man\" src=\"../../assets/images/html/stick-man.jpg\"/>\n",
       "</div>\n",
       "<script>\n",
       "\tconst stickMan = document.querySelector(\".stick-man\")\n",
       "\tconsole.log(stickMan)\n",
       "</script>\n"
      ]
     },
     "metadata": {},
     "output_type": "display_data"
    }
   ],
   "source": [
    "<div class=\"stick-land\">\n",
    "\t<img class=\"stick-man\" id=\"stick-man-1\" src=\"../../assets/images/html/stick-man.jpg\"/>\n",
    "\t<img class=\"stick-man\" id=\"stick-man-2\" src=\"../../assets/images/html/stick-man.jpg\"/>\n",
    "\t<img class=\"stick-man\" id=\"stick-man-3\" src=\"../../assets/images/html/stick-man.jpg\"/>\n",
    "</div>\n",
    "<script>\n",
    "\tconst stickMan3 = document.querySelector(\"stick-man-3\")\n",
    "\tconsole.log(\"stick man 3\",stickMan3)\n",
    "\tconst firstStickMan = document.querySelector(\".stick-man\")\n",
    "\tconsole.log(\"1st stick man\", firstStickMan)\n",
    "\tconst stickMen = document.querySelector(\".stick-man\")\n",
    "\tconsole.log(\"stick men\", stickMen)\n",
    "</script>"
   ]
  },
  {
   "cell_type": "markdown",
   "metadata": {},
   "source": [
    "## Creating Elements\n",
    "- We can create an element using the ```.createElement``` method and inputting the tag as a string.\n",
    "- Class can be added with ```.classList.add```\n",
    "- id is a property of the element.\n",
    "- Any attribute can be set using ```.setAttribute```\n",
    "- ```append``` add an inputted element as a child."
   ]
  },
  {
   "cell_type": "code",
   "execution_count": null,
   "metadata": {
    "dotnet_interactive": {
     "language": "html"
    },
    "vscode": {
     "languageId": "dotnet-interactive.html"
    }
   },
   "outputs": [],
   "source": [
    "<div class=\"stick-land\">\n",
    "\t<img class=\"stick-man\" src=\"https://img.favpng.com/6/10/7/stick-man-stick-figure-clip-art-png-favpng-ddGAvG5gmD1mpzq0S51b0ee1h.jpg\"/>\n",
    "</div>\n",
    "<script>\n",
    "\tconst stickMan2 = document.createElement(\"img\")\n",
    "\tstickMan2.classList.add(\"stick-man\")\n",
    "\tstickMan2.id = \"stick-man-2\"\n",
    "\tstickMan2.setAttribute(\"src\",\"https://img.favpng.com/6/10/7/stick-man-stick-figure-clip-art-png-favpng-ddGAvG5gmD1mpzq0S51b0ee1h.jpg\")\n",
    "\n",
    "\tconst stickLand = document.querySelector(\".stick-land\")\n",
    "\tstickLand.append(stickMan2)\n",
    "\t\n",
    "</script>\n"
   ]
  },
  {
   "cell_type": "markdown",
   "metadata": {},
   "source": [
    "## Removing Elements\n",
    "- Class can be removed with ```.classList.remove```\n",
    "- Any attribute can be removed using ```.removeAttribute```\n",
    "- ```remove``` remove the element."
   ]
  },
  {
   "cell_type": "code",
   "execution_count": null,
   "metadata": {
    "dotnet_interactive": {
     "language": "html"
    },
    "vscode": {
     "languageId": "dotnet-interactive.html"
    }
   },
   "outputs": [],
   "source": [
    "<div class=\"stick-land\">\n",
    "\t<img class=\"stick-man\" src=\"https://img.favpng.com/6/10/7/stick-man-stick-figure-clip-art-png-favpng-ddGAvG5gmD1mpzq0S51b0ee1h.jpg\"/>\n",
    "\t<img class=\"stick-man\" id=\"stick-man-2\" src=\"https://img.favpng.com/6/10/7/stick-man-stick-figure-clip-art-png-favpng-ddGAvG5gmD1mpzq0S51b0ee1h.jpg\"/>\n",
    "</div>\n",
    "<script>\n",
    "\tconst stickMan2 = document.getElementById(\"stick-man-2\")\n",
    "\tstickMan2.classList.remove(\"stick-man\")\n",
    "\tstickMan2.id = \"\"\n",
    "\tstickMan2.removeAttribute(\"src\",\"https://img.favpng.com/6/10/7/stick-man-stick-figure-clip-art-png-favpng-ddGAvG5gmD1mpzq0S51b0ee1h.jpg\")\n",
    "\n",
    "\tstickMan2.remove()\n",
    "</script>"
   ]
  },
  {
   "cell_type": "markdown",
   "metadata": {},
   "source": [
    "## Event Listeners\n",
    "- Listeners tell an element to wait for an event to happen.\n",
    "  - An example of an event is clicking on the element.\n",
    "- When a listener detects an event, it will trigger.\n",
    "- Then the listener will asynchronously add a function to the JavaScript task queue.\n",
    "- ```.addEventListener``` give an element a listen. It has two inputs\n",
    "  1) a string sayingwhat type of event the listener will listen to. There is a list of standard events [here](https://developer.mozilla.org/en-US/docs/Web/API/Element#events).\n",
    "  2) a callback function when the input is the event that triggers.\n",
    "- Here is an example of adding a click listener to a button out the count to another element:"
   ]
  },
  {
   "cell_type": "code",
   "execution_count": null,
   "metadata": {
    "dotnet_interactive": {
     "language": "html"
    },
    "vscode": {
     "languageId": "dotnet-interactive.html"
    }
   },
   "outputs": [
    {
     "data": {
      "text/html": [
       "\t\t<div class=\"counter\">\n",
       "\t\t\t<p>problems: </p>\n",
       "\t\t\t<p  id=\"counter-text\">0</p>\n",
       "\t\t\t<button id=\"counter-button\">add</button>\n",
       "\t\t</div>\n",
       "\t\t<script>\n",
       "\t\t\tlet countState = 0 // create a variable\n",
       "\t\t\tconst text = document.getElementById(\"counter-text\") // grabs the p element\n",
       "\t\t\tconst button = document.getElementById(\"counter-button\") // grabs the button element\n",
       "\t\t\t\n",
       "\t\t\t// add one of the countState and changes the text element\n",
       "\t\t\tfunction add(event) {\n",
       "\t\t\t\tcountState++\n",
       "\t\t\t\ttext.innerText=countState\n",
       "\t\t\t}\n",
       "\n",
       "\t\t\t// add an listener to the button\n",
       "\t\t\tbutton.addEventListener(\"click\", add)\n",
       "\t\t</script>"
      ]
     },
     "metadata": {},
     "output_type": "display_data"
    }
   ],
   "source": [
    "\t\t<div class=\"counter\">\n",
    "\t\t\t<p>problems: </p>\n",
    "\t\t\t<p  id=\"counter-text\">0</p>\n",
    "\t\t\t<button id=\"counter-button\">add</button>\n",
    "\t\t</div>\n",
    "\t\t<script>\n",
    "\t\t\tlet countState = 0 // create a variable\n",
    "\t\t\tconst text = document.getElementById(\"counter-text\") // grabs the p element\n",
    "\t\t\tconst button = document.getElementById(\"counter-button\") // grabs the button element\n",
    "\t\t\t\n",
    "\t\t\t// add one of the countState and changes the text element\n",
    "\t\t\tfunction add(event) {\n",
    "\t\t\t\tcountState++\n",
    "\t\t\t\ttext.innerText=countState\n",
    "\t\t\t}\n",
    "\n",
    "\t\t\t// add an listener to the button\n",
    "\t\t\tbutton.addEventListener(\"click\", add)\n",
    "\t\t</script>"
   ]
  },
  {
   "cell_type": "markdown",
   "metadata": {},
   "source": [
    "#### importing files in HTML\n",
    "- We can import CSS and JS files using tags in the header.\n",
    "- CSS can be imported using the ```<link>``` tag and specifying the file URL in href.\n",
    "- JavaScript can be imported using the ```<script>```  tag and specifying the file URL in src.\n",
    "  -  If you use ```<script>``` in the header you should add the ```defer``` attribute so your code executes after the DOM has finished rendering."
   ]
  },
  {
   "cell_type": "code",
   "execution_count": null,
   "metadata": {
    "dotnet_interactive": {
     "language": "html"
    },
    "vscode": {
     "languageId": "dotnet-interactive.html"
    }
   },
   "outputs": [],
   "source": [
    "<!DOCTYPE html>\n",
    "<html lang=\"en\">\n",
    "  <head>\n",
    "    <meta charset=\"UTF-8\" />\n",
    "    <meta name=\"viewport\" content=\"width=device-width, initial-scale=1.0\" />\n",
    "\t\t<link rel=\"stylesheet\" href=\"./style.css\">\n",
    "\t\t<script src=\"./index.js\" defer></script>\n",
    "  </head>\n",
    "  <body>\n",
    "  </body>\n",
    "</html>"
   ]
  },
  {
   "cell_type": "markdown",
   "metadata": {},
   "source": [
    "## Extra tips and tricks\n",
    "---"
   ]
  },
  {
   "cell_type": "markdown",
   "metadata": {},
   "source": [
    "## Emmet\n",
    "- Built into vs code is a powerful tool for writing HTML and CSS concisely.\n",
    "- check out the cheat sheet [here]()"
   ]
  },
  {
   "cell_type": "markdown",
   "metadata": {},
   "source": [
    "- here is an example of Emmet:\n",
    "- ```.example-container>nav.nav-bar>lorem5^section.article-container#section-1>(article.article-text#article-$>lorem20)*5```\n",
    "- the following is the HTML of Emmet:"
   ]
  },
  {
   "cell_type": "code",
   "execution_count": null,
   "metadata": {
    "dotnet_interactive": {
     "language": "html"
    },
    "vscode": {
     "languageId": "dotnet-interactive.html"
    }
   },
   "outputs": [
    {
     "data": {
      "text/html": [
       "\t<div class=\"example-container\">\n",
       "\t\t<nav class=\"nav-bar\">Lorem ipsum dolor sit amet.</nav>\n",
       "\t\t<section class=\"article-container\" id=\"section-1\">\n",
       "\t\t\t<article class=\"article-text\" id=\"article-1\">Lorem, ipsum dolor sit amet consectetur adipisicing elit. Atque magnam libero animi molestias facere. Nesciunt inventore molestiae fugiat numquam voluptas.</article>\n",
       "\t\t\t<article class=\"article-text\" id=\"article-2\">Fugit sapiente similique itaque, ducimus fugiat maiores porro! Iusto vitae dignissimos odio ab provident mollitia dolores eligendi minima delectus numquam.</article>\n",
       "\t\t\t<article class=\"article-text\" id=\"article-3\">Amet inventore numquam saepe explicabo, nulla rerum distinctio exercitationem, praesentium nesciunt quasi quidem minima sunt? Dicta quod non optio omnis.</article>\n",
       "\t\t\t<article class=\"article-text\" id=\"article-4\">Rerum, obcaecati nemo. Quam corrupti iste vitae, eius impedit esse nobis vel error ullam cupiditate asperiores porro sequi cum laborum.</article>\n",
       "\t\t\t<article class=\"article-text\" id=\"article-5\">Nemo atque cupiditate id sapiente cumque facilis eaque temporibus in harum incidunt aspernatur impedit laborum, nulla doloremque, quidem libero enim!</article>\n",
       "\t\t</section>\n",
       "\t</div>"
      ]
     },
     "metadata": {},
     "output_type": "display_data"
    }
   ],
   "source": [
    "\t<div class=\"example-container\">\n",
    "\t\t<nav class=\"nav-bar\">Lorem ipsum dolor sit amet.</nav>\n",
    "\t\t<section class=\"article-container\" id=\"section-1\">\n",
    "\t\t\t<article class=\"article-text\" id=\"article-1\">Lorem, ipsum dolor sit amet consectetur adipisicing elit. Atque magnam libero animi molestias facere. Nesciunt inventore molestiae fugiat numquam voluptas.</article>\n",
    "\t\t\t<article class=\"article-text\" id=\"article-2\">Fugit sapiente similique itaque, ducimus fugiat maiores porro! Iusto vitae dignissimos odio ab provident mollitia dolores eligendi minima delectus numquam.</article>\n",
    "\t\t\t<article class=\"article-text\" id=\"article-3\">Amet inventore numquam saepe explicabo, nulla rerum distinctio exercitationem, praesentium nesciunt quasi quidem minima sunt? Dicta quod non optio omnis.</article>\n",
    "\t\t\t<article class=\"article-text\" id=\"article-4\">Rerum, obcaecati nemo. Quam corrupti iste vitae, eius impedit esse nobis vel error ullam cupiditate asperiores porro sequi cum laborum.</article>\n",
    "\t\t\t<article class=\"article-text\" id=\"article-5\">Nemo atque cupiditate id sapiente cumque facilis eaque temporibus in harum incidunt aspernatur impedit laborum, nulla doloremque, quidem libero enim!</article>\n",
    "\t\t</section>\n",
    "\t</div>"
   ]
  },
  {
   "cell_type": "markdown",
   "metadata": {},
   "source": [
    "## HTML\n",
    "#### ul\n",
    "- unordered list ```<ul>``` should be use to contain repeating types of content."
   ]
  },
  {
   "cell_type": "code",
   "execution_count": null,
   "metadata": {
    "dotnet_interactive": {
     "language": "html"
    },
    "vscode": {
     "languageId": "dotnet-interactive.html"
    }
   },
   "outputs": [
    {
     "data": {
      "text/html": [
       "<ul class=\"doggo-list\">\n",
       "\t<img\n",
       "\t\tsrc=\"https://images.pexels.com/photos/1108099/pexels-photo-1108099.jpeg?auto=compress&cs=tinysrgb&w=100\"\n",
       "\t/>\n",
       "\t<img\n",
       "\t\tsrc=\"https://images.pexels.com/photos/406014/pexels-photo-406014.jpeg?auto=compress&cs=tinysrgb&w=100\"\n",
       "\t/>\n",
       "\t<img\n",
       "\t\tsrc=\"https://images.pexels.com/photos/39317/chihuahua-dog-puppy-cute-39317.jpeg?auto=compress&cs=tinysrgb&w=100\"\n",
       "\t/>\n",
       "\t<img\n",
       "\t\tsrc=\"https://images.pexels.com/photos/1805164/pexels-photo-1805164.jpeg?auto=compress&cs=tinysrgb&w=100\"\n",
       "\t/>\n",
       "</ul>"
      ]
     },
     "metadata": {},
     "output_type": "display_data"
    }
   ],
   "source": [
    "<ul class=\"doggo-list\">\n",
    "\t<img\n",
    "\t\tsrc=\"https://images.pexels.com/photos/1108099/pexels-photo-1108099.jpeg?auto=compress&cs=tinysrgb&w=100\"\n",
    "\t/>\n",
    "\t<img\n",
    "\t\tsrc=\"https://images.pexels.com/photos/406014/pexels-photo-406014.jpeg?auto=compress&cs=tinysrgb&w=100\"\n",
    "\t/>\n",
    "\t<img\n",
    "\t\tsrc=\"https://images.pexels.com/photos/39317/chihuahua-dog-puppy-cute-39317.jpeg?auto=compress&cs=tinysrgb&w=100\"\n",
    "\t/>\n",
    "\t<img\n",
    "\t\tsrc=\"https://images.pexels.com/photos/1805164/pexels-photo-1805164.jpeg?auto=compress&cs=tinysrgb&w=100\"\n",
    "\t/>\n",
    "</ul>"
   ]
  },
  {
   "cell_type": "markdown",
   "metadata": {},
   "source": [
    "#### li\n",
    "- list item ```<li>``` should be use to contain items in a list.\n",
    "- They have bullets by when inside an unordered list ```<ul>```"
   ]
  },
  {
   "cell_type": "code",
   "execution_count": null,
   "metadata": {
    "dotnet_interactive": {
     "language": "html"
    },
    "vscode": {
     "languageId": "dotnet-interactive.html"
    }
   },
   "outputs": [
    {
     "data": {
      "text/html": [
       "<ul class=\"feet-list\">\n",
       "\t<li>feet</li>\n",
       "\t<li>flippers</li>\n",
       "\t<li>hooves</li>\n",
       "\t<li>roots</li>\n",
       "</ul>"
      ]
     },
     "metadata": {},
     "output_type": "display_data"
    }
   ],
   "source": [
    "<ul class=\"feet-list\">\n",
    "\t<li>feet</li>\n",
    "\t<li>flippers</li>\n",
    "\t<li>hooves</li>\n",
    "\t<li>roots</li>\n",
    "</ul>"
   ]
  },
  {
   "cell_type": "markdown",
   "metadata": {},
   "source": [
    "- They have numbers by when inside an ordered list ```<ol>``` "
   ]
  },
  {
   "cell_type": "code",
   "execution_count": null,
   "metadata": {
    "dotnet_interactive": {
     "language": "html"
    },
    "vscode": {
     "languageId": "dotnet-interactive.html"
    }
   },
   "outputs": [
    {
     "data": {
      "text/html": [
       "<ol class=\"smash-ranking-13\">\n",
       "\t<li>Steve</li>\n",
       "\t<li>Pyra/Mythra</li>\n",
       "\t<li>R.O.B.</li>\n",
       "\t<li>Joker</li>\n",
       "\t<li>Pikachu</li>\n",
       "</ol>"
      ]
     },
     "metadata": {},
     "output_type": "display_data"
    }
   ],
   "source": [
    "<ol class=\"smash-ranking-13\">\n",
    "\t<li>Steve</li>\n",
    "\t<li>Pyra/Mythra</li>\n",
    "\t<li>R.O.B.</li>\n",
    "\t<li>Joker</li>\n",
    "\t<li>Pikachu</li>\n",
    "</ol>"
   ]
  },
  {
   "cell_type": "markdown",
   "metadata": {},
   "source": [
    "#### tables\n",
    "- Here are some elements that make up a ```<table>```:\n",
    "  - ```<caption>```: title of the table\n",
    "  - ```<thead>```: the header of the table\n",
    "  - ```<tbody>```: body for the data of the table\n",
    "  - ```<tr>```: a row of the table\n",
    "  - ```<th>```: a cell of the header row\n",
    "  - ```<td>```: a cell of data"
   ]
  },
  {
   "cell_type": "code",
   "execution_count": null,
   "metadata": {
    "dotnet_interactive": {
     "language": "html"
    },
    "vscode": {
     "languageId": "dotnet-interactive.html"
    }
   },
   "outputs": [
    {
     "data": {
      "text/html": [
       "<table>\n",
       "<caption >fast food chicken nugget tier list</caption>\n",
       "    <thead>\n",
       "        <tr>\n",
       "            <th>tier</th>\n",
       "\t\t\t\t\t\t<th>restaurants</th>\n",
       "        </tr>\n",
       "    </thead>\n",
       "    <tbody>\n",
       "        <tr>\n",
       "            <td>S</td>\n",
       "            <td>Wendy's</td>\n",
       "        </tr>\n",
       "        <tr>\n",
       "            <td>A</td>\n",
       "            <td>Chick-fil-A</td>\n",
       "        </tr>\n",
       "        <tr>\n",
       "            <td>B</td>\n",
       "            <td>McDonalds</td>\n",
       "        </tr>\n",
       "        <tr>\n",
       "            <td>C</td>\n",
       "            <td>Jack in the box</td>\n",
       "        </tr>\n",
       "        <tr>\n",
       "            <td>F</td>\n",
       "            <td>Burger King</td>\n",
       "        </tr>\n",
       "    </tbody>\n",
       "</table>"
      ]
     },
     "metadata": {},
     "output_type": "display_data"
    }
   ],
   "source": [
    "<table>\n",
    "<caption >fast food chicken nugget tier list</caption>\n",
    "    <thead>\n",
    "        <tr>\n",
    "            <th>tier</th>\n",
    "\t\t\t\t\t\t<th>restaurants</th>\n",
    "        </tr>\n",
    "    </thead>\n",
    "    <tbody>\n",
    "        <tr>\n",
    "            <td>S</td>\n",
    "            <td>Wendy's</td>\n",
    "        </tr>\n",
    "        <tr>\n",
    "            <td>A</td>\n",
    "            <td>Chick-fil-A</td>\n",
    "        </tr>\n",
    "        <tr>\n",
    "            <td>B</td>\n",
    "            <td>McDonalds</td>\n",
    "        </tr>\n",
    "        <tr>\n",
    "            <td>C</td>\n",
    "            <td>Jack in the box</td>\n",
    "        </tr>\n",
    "        <tr>\n",
    "            <td>F</td>\n",
    "            <td>Burger King</td>\n",
    "        </tr>\n",
    "    </tbody>\n",
    "</table>"
   ]
  },
  {
   "cell_type": "markdown",
   "metadata": {},
   "source": [
    "#### Super script\n",
    "- wrap text in ```<sup>``` to make it super script."
   ]
  },
  {
   "cell_type": "code",
   "execution_count": null,
   "metadata": {
    "dotnet_interactive": {
     "language": "html"
    },
    "vscode": {
     "languageId": "dotnet-interactive.html"
    }
   },
   "outputs": [
    {
     "data": {
      "text/html": [
       "<span>I came in 1789<sup>th</sup> place</span>"
      ]
     },
     "metadata": {},
     "output_type": "display_data"
    }
   ],
   "source": [
    "<span>I came in 1789<sup>th</sup> place</span>"
   ]
  },
  {
   "cell_type": "markdown",
   "metadata": {},
   "source": [
    "#### Sub script\n",
    "- wrap text in ```<sub>``` to make it super script."
   ]
  },
  {
   "cell_type": "code",
   "execution_count": null,
   "metadata": {
    "dotnet_interactive": {
     "language": "html"
    },
    "vscode": {
     "languageId": "dotnet-interactive.html"
    }
   },
   "outputs": [
    {
     "data": {
      "text/html": [
       "<span>C<sub>17</sub>H<sub>21</sub>NO<sub>4</sub></span>"
      ]
     },
     "metadata": {},
     "output_type": "display_data"
    }
   ],
   "source": [
    "<span>C<sub>17</sub>H<sub>21</sub>NO<sub>4</sub></span>"
   ]
  },
  {
   "cell_type": "markdown",
   "metadata": {},
   "source": [
    "#### Input types\n",
    "- ```<input>``` has a type attribute that have lots of features built in."
   ]
  },
  {
   "cell_type": "code",
   "execution_count": null,
   "metadata": {
    "dotnet_interactive": {
     "language": "html"
    },
    "vscode": {
     "languageId": "dotnet-interactive.html"
    }
   },
   "outputs": [
    {
     "data": {
      "text/html": [
       "<form>\n",
       "\t\t<label for=\"text\">text</label>\n",
       "\t\t<div>\n",
       "\t\t\t<input type=\"text\" name=\"text\" />\n",
       "\t\t</div>\n",
       "\t\t<br/>\n",
       "\t\t<label for=\"checkbox\">checkbox</label>\n",
       "\t\t<div>\n",
       "\t\t\t<input type=\"checkbox\" name=\"checkbox\" />\n",
       "\t\t</div>\n",
       "\t\t<br/>\n",
       "\t\t<label for=\"date\">date</label>\n",
       "\t\t<div>\n",
       "\t\t\t<input type=\"date\" name=\"date\" />\n",
       "\t\t</div>\n",
       "\t\t<br/>\n",
       "\t\t<label for=\"time\">time</label>\n",
       "\t\t<div>\n",
       "\t\t\t<input type=\"time\" name=\"time\" />\n",
       "\t\t</div>\n",
       "\t\t<br/>\n",
       "\t\t<label for=\"email\">email</label>\n",
       "\t\t<div>\n",
       "\t\t\t<input type=\"email\" name=\"email\" />\n",
       "\t\t</div>\n",
       "\t\t<br/>\n",
       "\t\t<label for=\"number\">number</label>\n",
       "\t\t<div>\n",
       "\t\t\t<input type=\"number\" name=\"number\" />\n",
       "\t\t</div>\n",
       "\t\t<br/>\n",
       "\t\t<label for=\"password\">password</label>\n",
       "\t\t<div>\n",
       "\t\t\t<input type=\"password\" name=\"password\" />\n",
       "\t\t</div>\n",
       "\t\t<br/>\n",
       "\t\t<label for=\"radio\">radio</label>\n",
       "\t\t<div>\n",
       "\t\t\t<label for=\"red\"> red </label>\n",
       "\t\t\t<input type=\"radio\" name=\"radio\" value=\"red\" />\n",
       "\t\t\t<label for=\"blue\">blue </label>\n",
       "\t\t\t<input type=\"radio\" name=\"radio\" value=\"blue\" />\n",
       "\t\t\t<label for=\"green\">green </label>\n",
       "\t\t\t<input type=\"radio\" name=\"radio\" value=\"green\" />\n",
       "\t\t</div>\n",
       "\t\t<br/>\n",
       "\t\t<label for=\"range\">range</label>\n",
       "\t\t<div>\n",
       "\t\t\t<input type=\"range\" name=\"range\" />\n",
       "\t\t</div>\n",
       "\t</form>"
      ]
     },
     "metadata": {},
     "output_type": "display_data"
    }
   ],
   "source": [
    "<form>\n",
    "\t\t<label for=\"text\">text</label>\n",
    "\t\t<div>\n",
    "\t\t\t<input type=\"text\" name=\"text\" />\n",
    "\t\t</div>\n",
    "\t\t<br/>\n",
    "\t\t<label for=\"checkbox\">checkbox</label>\n",
    "\t\t<div>\n",
    "\t\t\t<input type=\"checkbox\" name=\"checkbox\" />\n",
    "\t\t</div>\n",
    "\t\t<br/>\n",
    "\t\t<label for=\"date\">date</label>\n",
    "\t\t<div>\n",
    "\t\t\t<input type=\"date\" name=\"date\" />\n",
    "\t\t</div>\n",
    "\t\t<br/>\n",
    "\t\t<label for=\"time\">time</label>\n",
    "\t\t<div>\n",
    "\t\t\t<input type=\"time\" name=\"time\" />\n",
    "\t\t</div>\n",
    "\t\t<br/>\n",
    "\t\t<label for=\"email\">email</label>\n",
    "\t\t<div>\n",
    "\t\t\t<input type=\"email\" name=\"email\" />\n",
    "\t\t</div>\n",
    "\t\t<br/>\n",
    "\t\t<label for=\"number\">number</label>\n",
    "\t\t<div>\n",
    "\t\t\t<input type=\"number\" name=\"number\" />\n",
    "\t\t</div>\n",
    "\t\t<br/>\n",
    "\t\t<label for=\"password\">password</label>\n",
    "\t\t<div>\n",
    "\t\t\t<input type=\"password\" name=\"password\" />\n",
    "\t\t</div>\n",
    "\t\t<br/>\n",
    "\t\t<label for=\"radio\">radio</label>\n",
    "\t\t<div>\n",
    "\t\t\t<label for=\"red\"> red </label>\n",
    "\t\t\t<input type=\"radio\" name=\"radio\" value=\"red\" />\n",
    "\t\t\t<label for=\"blue\">blue </label>\n",
    "\t\t\t<input type=\"radio\" name=\"radio\" value=\"blue\" />\n",
    "\t\t\t<label for=\"green\">green </label>\n",
    "\t\t\t<input type=\"radio\" name=\"radio\" value=\"green\" />\n",
    "\t\t</div>\n",
    "\t\t<br/>\n",
    "\t\t<label for=\"range\">range</label>\n",
    "\t\t<div>\n",
    "\t\t\t<input type=\"range\" name=\"range\" />\n",
    "\t\t</div>\n",
    "\t</form>"
   ]
  },
  {
   "cell_type": "markdown",
   "metadata": {},
   "source": [
    "- Here are some useful attributes\n",
    "  - ```required```: form will not submit until input has value \n",
    "  - ```placeholder```: input will display value of not have value\n",
    "  - ```value```: input will default value\n",
    "  - ```disabled```: input can't be edited or submitted"
   ]
  },
  {
   "cell_type": "code",
   "execution_count": null,
   "metadata": {
    "dotnet_interactive": {
     "language": "html"
    },
    "vscode": {
     "languageId": "dotnet-interactive.html"
    }
   },
   "outputs": [],
   "source": [
    "<form>\n",
    "\t<label for=\"text\">required</label>\n",
    "\t<div>\n",
    "\t\t<input type=\"text\" name=\"text\" required/>\n",
    "\t</div>\n",
    "\t<br/>\n",
    "\t<label for=\"text\">placeholder</label>\n",
    "\t<div>\n",
    "\t\t<input type=\"text\" name=\"text\" placeholder=\"something wicked\"/>\n",
    "\t</div>\n",
    "\t<br/>\n",
    "\t<label for=\"text\">value</label>\n",
    "\t<div>\n",
    "\t\t<input type=\"text\" name=\"text\" value=\"Pineapple Pizza\" />\n",
    "\t</div>\n",
    "\t<br/>\n",
    "\t<label for=\"text\">disabled</label>\n",
    "\t<div>\n",
    "\t\t<input type=\"text\" name=\"text\" disabled/>\n",
    "\t</div>\n",
    "\t<br/>\n",
    "\t<button type=\"submit\">submit</button>\n",
    "</form>"
   ]
  },
  {
   "cell_type": "markdown",
   "metadata": {},
   "source": [
    "- Here are some useful attributes for numerical inputs:\n",
    "  - ```min```: minimum value allowed input\n",
    "  - ```max```: maximum value allowed input\n",
    "  - ```step```: increments value can be\n",
    "###### *Note: min & max still allow users to input value out of range. It only prevents submission."
   ]
  },
  {
   "cell_type": "code",
   "execution_count": null,
   "metadata": {
    "dotnet_interactive": {
     "language": "html"
    },
    "vscode": {
     "languageId": "dotnet-interactive.html"
    }
   },
   "outputs": [
    {
     "data": {
      "text/html": [
       "\t<form>\n",
       "\t\t<label for=\"number\">min</label>\n",
       "\t\t<div>\n",
       "\t\t\t<input type=\"number\" name=\"number\"  min=\"-10\"/>\n",
       "\t\t</div>\n",
       "\t\t<br/>\n",
       "\t\t<label for=\"number\">max</label>\n",
       "\t\t<div>\n",
       "\t\t\t<input type=\"number\" name=\"number\" max=\"100\"/>\n",
       "\t\t</div>\n",
       "\t\t<br/>\n",
       "\t\t<label for=\"number\">step</label>\n",
       "\t\t<div>\n",
       "\t\t\t<input type=\"number\" name=\"number\" step=\"4\" />\n",
       "\t\t</div>\n",
       "\t\t<br/>\n",
       "\t\t<button type=\"submit\">submit</button>\n",
       "\t</form>"
      ]
     },
     "metadata": {},
     "output_type": "display_data"
    }
   ],
   "source": [
    "\t<form>\n",
    "\t\t<label for=\"number\">min</label>\n",
    "\t\t<div>\n",
    "\t\t\t<input type=\"number\" name=\"number\"  min=\"-10\"/>\n",
    "\t\t</div>\n",
    "\t\t<br/>\n",
    "\t\t<label for=\"number\">max</label>\n",
    "\t\t<div>\n",
    "\t\t\t<input type=\"number\" name=\"number\" max=\"100\"/>\n",
    "\t\t</div>\n",
    "\t\t<br/>\n",
    "\t\t<label for=\"number\">step</label>\n",
    "\t\t<div>\n",
    "\t\t\t<input type=\"number\" name=\"number\" step=\"4\" />\n",
    "\t\t</div>\n",
    "\t\t<br/>\n",
    "\t\t<button type=\"submit\">submit</button>\n",
    "\t</form>"
   ]
  },
  {
   "cell_type": "markdown",
   "metadata": {},
   "source": [
    "## CSS\n",
    "#### variables\n",
    "- variables can be declared in the :root selector.\n",
    "- ```var()``` is use to get the value back."
   ]
  },
  {
   "cell_type": "code",
   "execution_count": null,
   "metadata": {
    "dotnet_interactive": {
     "language": "html"
    },
    "vscode": {
     "languageId": "dotnet-interactive.html"
    }
   },
   "outputs": [
    {
     "data": {
      "text/html": [
       "<div class=\"grass-block\">\n",
       "</div>\n",
       "<style>\n",
       "\t:root {\n",
       "\t\t--green-color: #39bb4a;\n",
       "\t}\n",
       "\n",
       "\t.grass-block {\n",
       "\t\theight: 100px;\n",
       "\t\twidth: 100px;\n",
       "\t\tbackground-color: var(--green-color)\n",
       "\t}\n",
       "</style>\n"
      ]
     },
     "metadata": {},
     "output_type": "display_data"
    }
   ],
   "source": [
    "<div class=\"grass-block\">\n",
    "</div>\n",
    "<style>\n",
    "\t:root {\n",
    "\t\t--green-color: #39bb4a;\n",
    "\t}\n",
    "\n",
    "\t.grass-block {\n",
    "\t\theight: 100px;\n",
    "\t\twidth: 100px;\n",
    "\t\tbackground-color: var(--green-color)\n",
    "\t}\n",
    "</style>\n"
   ]
  },
  {
   "cell_type": "markdown",
   "metadata": {},
   "source": [
    "#### length dimensions\n",
    "- We have been using ```px``` for pixels but there are other units of length.\n",
    "- Here are some common ones:\n",
    "  - ```em``` standard font size of browser (default 16px)\n",
    "  - ```rem``` font size of root element  (default 16px)\n",
    "  - ```vh``` 1% of window height\n",
    "  - ```vw``` 1% of window width\n",
    "  - ```%``` % of parent dimension"
   ]
  },
  {
   "cell_type": "markdown",
   "metadata": {},
   "source": [
    "#### mixing dimensions\n",
    "- CSS can calculate mixed units with ```calc()```"
   ]
  },
  {
   "cell_type": "code",
   "execution_count": null,
   "metadata": {
    "dotnet_interactive": {
     "language": "html"
    },
    "vscode": {
     "languageId": "dotnet-interactive.html"
    }
   },
   "outputs": [
    {
     "data": {
      "text/html": [
       "\t<div class=\"a-hole-design-box\">\n",
       "\t\t<div class=\"product\"></div>\n",
       "\t</div>\n",
       "\t<style>\n",
       "\t\t.a-hole-design-box {\n",
       "\t\t\twidth: 300px;\n",
       "\t\t\theight: 8em;\n",
       "\t\t\tbackground-color:rgb(66, 31, 31);\n",
       "\t\t}\n",
       "\n",
       "\t\t.product {\n",
       "\t\t\theight: calc(100% - 7px);\n",
       "\t\t\twidth: calc(100% - 3vw);\n",
       "\t\t\tbackground-color:rgb(255, 139, 139);\n",
       "\t\t}\n",
       "\t</style>"
      ]
     },
     "metadata": {},
     "output_type": "display_data"
    }
   ],
   "source": [
    "\t<div class=\"a-hole-design-box\">\n",
    "\t\t<div class=\"product\"></div>\n",
    "\t</div>\n",
    "\t<style>\n",
    "\t\t.a-hole-design-box {\n",
    "\t\t\twidth: 300px;\n",
    "\t\t\theight: 8em;\n",
    "\t\t\tbackground-color:rgb(66, 31, 31);\n",
    "\t\t}\n",
    "\n",
    "\t\t.product {\n",
    "\t\t\theight: calc(100% - 7px);\n",
    "\t\t\twidth: calc(100% - 3vw);\n",
    "\t\t\tbackground-color:rgb(255, 139, 139);\n",
    "\t\t}\n",
    "\t</style>"
   ]
  },
  {
   "cell_type": "markdown",
   "metadata": {},
   "source": [
    "#### colors\n",
    "- There are a few standard ways color is represented in CSS\n",
    "  - rgb ```rgb(0, 0, 0)``` values 0-255 for red, green, blue amounts respectively\n",
    "  - hex ```#000000``` 2 character 0-f for red, green, blue \n",
    "  - rgba ```rgba(0, 0, 0, 1)``` same as rgb but with a fourth value 0-1 for alpha (opacity) where 0 is completely transparent."
   ]
  },
  {
   "cell_type": "markdown",
   "metadata": {},
   "source": [
    "#### display: hidden\n",
    "- Setting ```display: none``` tells the engine not to render element."
   ]
  },
  {
   "cell_type": "code",
   "execution_count": null,
   "metadata": {
    "dotnet_interactive": {
     "language": "html"
    },
    "vscode": {
     "languageId": "dotnet-interactive.html"
    }
   },
   "outputs": [
    {
     "data": {
      "text/html": [
       "<p class=\"ghost\">spooky ghost</p>\n",
       "<style>\n",
       "\t.ghost {\n",
       "\t\tdisplay: none;\n",
       "\t}\n",
       "</style>"
      ]
     },
     "metadata": {},
     "output_type": "display_data"
    }
   ],
   "source": [
    "<p class=\"ghost\">spooky ghost</p>\n",
    "<style>\n",
    "\t.ghost {\n",
    "\t\tdisplay: none;\n",
    "\t}\n",
    "</style>"
   ]
  },
  {
   "cell_type": "markdown",
   "metadata": {},
   "source": [
    "#### z-index\n",
    "- If an element overlaps another ```z-index``` of the highest number will be on top.\n",
    "  - The default z-index is 0.\n",
    "  - If the z-index is the same the, last rendered element is on top."
   ]
  },
  {
   "cell_type": "code",
   "execution_count": null,
   "metadata": {
    "dotnet_interactive": {
     "language": "html"
    },
    "vscode": {
     "languageId": "dotnet-interactive.html"
    }
   },
   "outputs": [
    {
     "data": {
      "text/html": [
       "\t<div>\n",
       "\t\t<div class=\"bag-of-rocks\">\n",
       "\t\t\t<div class=\"rock\" id=\"rock-1\">1</div>\n",
       "\t\t\t<div class=\"rock\" id=\"rock-2\">2</div>\n",
       "\t\t\t<div class=\"rock\" id=\"rock-3\">3</div>\n",
       "\t\t</div>\n",
       "\t</div>\n",
       "\t<style>\n",
       "\t\t.bag-of-rocks {\n",
       "\t\t\tposition: relative;\n",
       "\t\t\theight: 300px;\n",
       "\t\t}\n",
       "\t\t\n",
       "\t\t.rock {\n",
       "\t\t\tposition:absolute;\n",
       "\t\t\ttext-align: center;\n",
       "\t\t\ttext-justify:  center;\n",
       "\t\t\tpadding: 30px;\n",
       "\t\t\twidth: 30px;\n",
       "\t\t\tbackground-color:darkgray;\n",
       "\t\t\tborder: 2px solid brown;\n",
       "\t\t\tborder-radius: 50%;\n",
       "\t\t}\n",
       "\n",
       "\t\t#rock-1 {\n",
       "\t\t\ttop: 0px;\n",
       "\t\t\tz-index: 1;\n",
       "\t\t\tbackground-color: rgb(79, 79, 79);\n",
       "\t\t}\n",
       "\n",
       "\t\t#rock-2 {\n",
       "\t\t\ttop: 60px;\n",
       "\t\t\tz-index: 2;\n",
       "\t\t\tbackground-color: rgb(103, 95, 95);\n",
       "\t\t}\n",
       "\n",
       "\t\t#rock-3 {\n",
       "\t\t\ttop: 120px;\n",
       "\t\t\tz-index: 3;\n",
       "\t\t\tbackground-color: rgb(144, 141, 141);\n",
       "\t\t}\n",
       "\t</style>\n"
      ]
     },
     "metadata": {},
     "output_type": "display_data"
    }
   ],
   "source": [
    "\t<div>\n",
    "\t\t<div class=\"bag-of-rocks\">\n",
    "\t\t\t<div class=\"rock\" id=\"rock-1\">1</div>\n",
    "\t\t\t<div class=\"rock\" id=\"rock-2\">2</div>\n",
    "\t\t\t<div class=\"rock\" id=\"rock-3\">3</div>\n",
    "\t\t</div>\n",
    "\t</div>\n",
    "\t<style>\n",
    "\t\t.bag-of-rocks {\n",
    "\t\t\tposition: relative;\n",
    "\t\t\theight: 300px;\n",
    "\t\t}\n",
    "\t\t\n",
    "\t\t.rock {\n",
    "\t\t\tposition:absolute;\n",
    "\t\t\ttext-align: center;\n",
    "\t\t\ttext-justify:  center;\n",
    "\t\t\tpadding: 30px;\n",
    "\t\t\twidth: 30px;\n",
    "\t\t\tbackground-color:darkgray;\n",
    "\t\t\tborder: 2px solid brown;\n",
    "\t\t\tborder-radius: 50%;\n",
    "\t\t}\n",
    "\n",
    "\t\t#rock-1 {\n",
    "\t\t\ttop: 0px;\n",
    "\t\t\tz-index: 1;\n",
    "\t\t\tbackground-color: rgb(79, 79, 79);\n",
    "\t\t}\n",
    "\n",
    "\t\t#rock-2 {\n",
    "\t\t\ttop: 60px;\n",
    "\t\t\tz-index: 2;\n",
    "\t\t\tbackground-color: rgb(103, 95, 95);\n",
    "\t\t}\n",
    "\n",
    "\t\t#rock-3 {\n",
    "\t\t\ttop: 120px;\n",
    "\t\t\tz-index: 3;\n",
    "\t\t\tbackground-color: rgb(144, 141, 141);\n",
    "\t\t}\n",
    "\t</style>\n"
   ]
  },
  {
   "cell_type": "markdown",
   "metadata": {},
   "source": [
    "#### Inheritance\n",
    "\t- Some styles are pass down and inherited by their children.\n",
    "\t- ```color:``` is an example of one.\n",
    "\t- We can also explicitly tell a child to inherit a style from its parent."
   ]
  },
  {
   "cell_type": "code",
   "execution_count": null,
   "metadata": {
    "dotnet_interactive": {
     "language": "html"
    },
    "vscode": {
     "languageId": "dotnet-interactive.html"
    }
   },
   "outputs": [
    {
     "data": {
      "text/html": [
       "<div class=\"parent\">\n",
       "\tparent\n",
       "\t<div class =\"child\">\n",
       "\t\tchild\n",
       "\t</div>\n",
       "</div>\n",
       "<style>\n",
       "\t.parent {\n",
       "\t\tcolor: white;\n",
       "\t\tpadding: 30px;\n",
       "\t\tbackground-color: blue;\n",
       "\t}\n",
       "\t.child {\n",
       "\t\tpadding: inherit;\n",
       "\t\tbackground-color: #222;\n",
       "\t}\n",
       "</style>"
      ]
     },
     "metadata": {},
     "output_type": "display_data"
    }
   ],
   "source": [
    "<div class=\"parent\">\n",
    "\tparent\n",
    "\t<div class =\"child\">\n",
    "\t\tchild\n",
    "\t</div>\n",
    "</div>\n",
    "<style>\n",
    "\t.parent {\n",
    "\t\tcolor: white;\n",
    "\t\tpadding: 30px;\n",
    "\t\tbackground-color: blue;\n",
    "\t}\n",
    "\t.child {\n",
    "\t\tpadding: inherit;\n",
    "\t\tbackground-color: #222;\n",
    "\t}\n",
    "</style>"
   ]
  },
  {
   "cell_type": "markdown",
   "metadata": {},
   "source": [
    "#### wildcard selector\n",
    "- The ```*``` selector mean every element."
   ]
  },
  {
   "cell_type": "code",
   "execution_count": null,
   "metadata": {
    "dotnet_interactive": {
     "language": "html"
    },
    "vscode": {
     "languageId": "dotnet-interactive.html"
    }
   },
   "outputs": [
    {
     "data": {
      "text/html": [
       "<div>\n",
       "\t<nav>Lorem ipsum dolor sit amet.</nav>\n",
       "\t<main>\n",
       "\t\tLorem ipsum dolor sit amet.\n",
       "\t\t<section>\n",
       "\t\t\tLorem ipsum dolor sit amet.\n",
       "\t\t\t<article>Lorem ipsum dolor sit amet.</article>\n",
       "\t\t\t<article>Lorem ipsum dolor sit amet.</article>\n",
       "\t\t</section>\n",
       "\t\t<section>\n",
       "\t\t\tLorem ipsum dolor sit amet.\n",
       "\t\t\t<article>Lorem ipsum dolor sit amet.</article>\n",
       "\t\t\t<article>Lorem ipsum dolor sit amet.</article>\n",
       "\t\t</section>\n",
       "\t</main>\n",
       "\t<footer>Lorem ipsum dolor sit amet.</footer>\n",
       "</div>\n",
       "<style>\n",
       " * {\n",
       "\t\tbackground-color: #1e1e1e;\n",
       "\t\tcolor: white;\n",
       "\t}\n",
       "</style>"
      ]
     },
     "metadata": {},
     "output_type": "display_data"
    }
   ],
   "source": [
    "<div>\n",
    "\t<nav>Lorem ipsum dolor sit amet.</nav>\n",
    "\t<main>\n",
    "\t\tLorem ipsum dolor sit amet.\n",
    "\t\t<section>\n",
    "\t\t\tLorem ipsum dolor sit amet.\n",
    "\t\t\t<article>Lorem ipsum dolor sit amet.</article>\n",
    "\t\t\t<article>Lorem ipsum dolor sit amet.</article>\n",
    "\t\t</section>\n",
    "\t\t<section>\n",
    "\t\t\tLorem ipsum dolor sit amet.\n",
    "\t\t\t<article>Lorem ipsum dolor sit amet.</article>\n",
    "\t\t\t<article>Lorem ipsum dolor sit amet.</article>\n",
    "\t\t</section>\n",
    "\t</main>\n",
    "\t<footer>Lorem ipsum dolor sit amet.</footer>\n",
    "</div>\n",
    "<style>\n",
    " * {\n",
    "\t\tbackground-color: #1e1e1e;\n",
    "\t\tcolor: white;\n",
    "\t}\n",
    "</style>"
   ]
  },
  {
   "cell_type": "markdown",
   "metadata": {},
   "source": [
    "#### Applying styles to multiple elements\n",
    "- Styles with selectors separated with comma will apply to all"
   ]
  },
  {
   "cell_type": "code",
   "execution_count": null,
   "metadata": {
    "dotnet_interactive": {
     "language": "html"
    },
    "vscode": {
     "languageId": "dotnet-interactive.html"
    }
   },
   "outputs": [],
   "source": [
    "\t<div>\n",
    "\t\t<div class=\"green\"></div>\n",
    "\t\t<br/>\n",
    "\t\t<div class=\"mostly-green\"></div>\n",
    "\t\t<br/>\n",
    "\t\t<div class=\"probably-green\"></div>\n",
    "\t</div>\n",
    "\t<style>\n",
    "\t\t.green, .mostly-green, .probably-green {\n",
    "\t\t\theight: 100px;\n",
    "\t\t\twidth: 100px;\n",
    "\t\t\tbackground-color: green;\n",
    "\t\t}div"
   ]
  },
  {
   "cell_type": "markdown",
   "metadata": {},
   "source": [
    "#### selector chained\n",
    "- Selector can be chained for a more specific selection.\n",
    "- For example ```div.quadrilateral.rectangle.square {}``` means a div with the classes \"quadrilateral\", \"rectangle\", and \"square\""
   ]
  },
  {
   "cell_type": "code",
   "execution_count": null,
   "metadata": {
    "dotnet_interactive": {
     "language": "html"
    },
    "vscode": {
     "languageId": "dotnet-interactive.html"
    }
   },
   "outputs": [
    {
     "data": {
      "text/html": [
       "\t<div>\n",
       "\t\t<div class=\"quadrilateral\"></div>\n",
       "\t\t<br/>\n",
       "\t\t<div class=\"quadrilateral rectangle\"></div>\n",
       "\t\t<br/>\n",
       "\t\t<div class=\"quadrilateral rectangle square\"></div>\n",
       "\t</div>\n",
       "\t<style>\n",
       "\t\t.quadrilateral{\n",
       "\t\t\theight: 50px;\n",
       "\t\t\twidth: 100px;\n",
       "\t\t\tbackground-color: #9a3636;\n",
       "\t\t}\n",
       "\t\t.quadrilateral.rectangle.square {\n",
       "\t\t\theight: 100px;\n",
       "\t\t\twidth: 100px;\n",
       "\t\t}\n",
       "\t</style>"
      ]
     },
     "metadata": {},
     "output_type": "display_data"
    }
   ],
   "source": [
    "\t<div>\n",
    "\t\t<div class=\"quadrilateral\"></div>\n",
    "\t\t<br/>\n",
    "\t\t<div class=\"quadrilateral rectangle\"></div>\n",
    "\t\t<br/>\n",
    "\t\t<div class=\"quadrilateral rectangle square\"></div>\n",
    "\t</div>\n",
    "\t<style>\n",
    "\t\t.quadrilateral{\n",
    "\t\t\theight: 50px;\n",
    "\t\t\twidth: 100px;\n",
    "\t\t\tbackground-color: #9a3636;\n",
    "\t\t}\n",
    "\t\t.quadrilateral.rectangle.square {\n",
    "\t\t\theight: 100px;\n",
    "\t\t\twidth: 100px;\n",
    "\t\t}\n",
    "\t</style>"
   ]
  },
  {
   "cell_type": "markdown",
   "metadata": {},
   "source": [
    "#### selector child\n",
    "- Selector separated with spaces denote children of\n",
    "- For example ```.clam .pearl {}``` means class pearl inside of class clam.\n"
   ]
  },
  {
   "cell_type": "code",
   "execution_count": null,
   "metadata": {
    "dotnet_interactive": {
     "language": "html"
    },
    "vscode": {
     "languageId": "dotnet-interactive.html"
    }
   },
   "outputs": [
    {
     "data": {
      "text/html": [
       "\t<div>\n",
       "\t\t<div class=\"clam\">\n",
       "\t\t\t<div class=\"pearl\">\n",
       "\t\t\t</div>\n",
       "\t\t</div>\n",
       "\t\t<br/>\n",
       "\t\t<div class=\"pearl\">\n",
       "\t\t</div>\n",
       "\t</div>\n",
       "\t<style>\n",
       "\t\t.pearl{\n",
       "\t\t\theight: 50px;\n",
       "\t\t\twidth: 50px;\n",
       "\t\t\tbackground-color: #6e6b6b;\n",
       "\t\t}\n",
       "\t\t.clam {\n",
       "\t\t\tpadding: 50px;\n",
       "\t\t\tbackground-color: #383838;\n",
       "\t\t}\n",
       "\t\t.clam .pearl {\n",
       "\t\t\tbackground-color: #ffffff;\n",
       "\t\t}\n",
       "\t</style>"
      ]
     },
     "metadata": {},
     "output_type": "display_data"
    }
   ],
   "source": [
    "\t<div>\n",
    "\t\t<div class=\"clam\">\n",
    "\t\t\t<div class=\"pearl\">\n",
    "\t\t\t</div>\n",
    "\t\t</div>\n",
    "\t\t<br/>\n",
    "\t\t<div class=\"pearl\">\n",
    "\t\t</div>\n",
    "\t</div>\n",
    "\t<style>\n",
    "\t\t.pearl{\n",
    "\t\t\theight: 50px;\n",
    "\t\t\twidth: 50px;\n",
    "\t\t\tbackground-color: #6e6b6b;\n",
    "\t\t}\n",
    "\t\t.clam {\n",
    "\t\t\tpadding: 50px;\n",
    "\t\t\tbackground-color: #383838;\n",
    "\t\t}\n",
    "\t\t.clam .pearl {\n",
    "\t\t\tbackground-color: #ffffff;\n",
    "\t\t}\n",
    "\t</style>"
   ]
  },
  {
   "cell_type": "markdown",
   "metadata": {},
   "source": [
    "## !important\n",
    "- ```!important``` makes a style have the highest priority.\n",
    "###### should be used very sparingly or not at all"
   ]
  },
  {
   "cell_type": "code",
   "execution_count": null,
   "metadata": {
    "dotnet_interactive": {
     "language": "html"
    },
    "vscode": {
     "languageId": "dotnet-interactive.html"
    }
   },
   "outputs": [
    {
     "data": {
      "text/html": [
       "\t<div class=\"not-blue\">\n",
       "\t\t\n",
       "\t</div>\n",
       "\n",
       "\t<style>\n",
       "\t\tdiv.not-blue{\n",
       "\t\t\tmargin: 10px;\n",
       "\t\t\twidth: 100px;\n",
       "\t\t\theight: 100px;\n",
       "\t\t\tbackground-color: #00005f;\n",
       "\t\t}\n",
       "\t\t.not-blue {\n",
       "\t\t\tbackground-color:#5f3600 !important;\n",
       "\t\t}\n",
       "\t</style>"
      ]
     },
     "metadata": {},
     "output_type": "display_data"
    }
   ],
   "source": [
    "\t<div class=\"not-blue\">\n",
    "\t\t\n",
    "\t</div>\n",
    "\n",
    "\t<style>\n",
    "\t\tdiv.not-blue{\n",
    "\t\t\tmargin: 10px;\n",
    "\t\t\twidth: 100px;\n",
    "\t\t\theight: 100px;\n",
    "\t\t\tbackground-color: #00005f;\n",
    "\t\t}\n",
    "\t\t.not-blue {\n",
    "\t\t\tbackground-color:#5f3600 !important;\n",
    "\t\t}\n",
    "\t</style>"
   ]
  },
  {
   "cell_type": "markdown",
   "metadata": {},
   "source": [
    "#### change style on hover\n",
    "- CSS also prebuilt listeners (pseudo selector).\n",
    "- ```:hover``` listens to when the cursor is over the element and applies the style when triggered."
   ]
  },
  {
   "cell_type": "code",
   "execution_count": null,
   "metadata": {
    "dotnet_interactive": {
     "language": "html"
    },
    "vscode": {
     "languageId": "dotnet-interactive.html"
    }
   },
   "outputs": [
    {
     "data": {
      "text/html": [
       "\t<div class=\"tsundere-box\"></div>\n",
       "\t<style>\n",
       "\t\t.tsundere-box {\n",
       "\t\t\twidth: 300px;\n",
       "\t\t\theight: 8em;\n",
       "\t\t\tbackground-color:#00035f;\n",
       "\t\t}\n",
       "\t\t.tsundere-box:hover {\n",
       "\t\t\tbackground-color: #ffb3d1;\n",
       "\t\t}\n",
       "\t</style>"
      ]
     },
     "metadata": {},
     "output_type": "display_data"
    }
   ],
   "source": [
    "\t<div class=\"tsundere-box\"></div>\n",
    "\t<style>\n",
    "\t\t.tsundere-box {\n",
    "\t\t\twidth: 300px;\n",
    "\t\t\theight: 8em;\n",
    "\t\t\tbackground-color:#00035f;\n",
    "\t\t}\n",
    "\t\t.tsundere-box:hover {\n",
    "\t\t\tbackground-color: #ffb3d1;\n",
    "\t\t}\n",
    "\t</style>"
   ]
  },
  {
   "cell_type": "markdown",
   "metadata": {},
   "source": [
    "#### @media\n",
    "- ```@media``` will conditionally apply styles base an listeners.\n",
    "- Here an example for window size less than 1000px:"
   ]
  },
  {
   "cell_type": "code",
   "execution_count": null,
   "metadata": {
    "dotnet_interactive": {
     "language": "html"
    },
    "vscode": {
     "languageId": "dotnet-interactive.html"
    }
   },
   "outputs": [
    {
     "data": {
      "text/html": [
       "\t<div class=\"claustrophobic\">\n",
       "\t</div>\n",
       "\n",
       "\t<style>\n",
       "\t\t.claustrophobic{\n",
       "\t\t\twidth: 100px;\n",
       "\t\t\theight: 100px;\n",
       "\t\t\tbackground-color: #a1a1a1;\n",
       "\t\t}\n",
       "\t\t@media (max-width: 1000px) { \n",
       "\t\t\t.claustrophobic{\n",
       "\t\t\t\twidth: 100px;\n",
       "\t\t\t\theight: 100px;\n",
       "\t\t\t\tbackground-color: #000000;\n",
       "\t\t\t}\n",
       "\t\t}\n",
       "\n",
       "\t</style>"
      ]
     },
     "metadata": {},
     "output_type": "display_data"
    }
   ],
   "source": [
    "\t<div class=\"claustrophobic\">\n",
    "\t</div>\n",
    "\n",
    "\t<style>\n",
    "\t\t.claustrophobic{\n",
    "\t\t\twidth: 100px;\n",
    "\t\t\theight: 100px;\n",
    "\t\t\tbackground-color: #a1a1a1;\n",
    "\t\t}\n",
    "\t\t@media (max-width: 1000px) { \n",
    "\t\t\t.claustrophobic{\n",
    "\t\t\t\twidth: 100px;\n",
    "\t\t\t\theight: 100px;\n",
    "\t\t\t\tbackground-color: #000000;\n",
    "\t\t\t}\n",
    "\t\t}\n",
    "\n",
    "\t</style>"
   ]
  },
  {
   "cell_type": "markdown",
   "metadata": {},
   "source": [
    "## center a div\n",
    "#### flex box\n",
    "- Is a one dimension system for aligning and spacing items within an element.\n",
    "- I can't go into too much detail but as an entire lesson on it's own.\n",
    "- But I demonstrate how to center a div with it.\n",
    "- I recommend playing [flexbox froggy](https://flexboxfroggy.com/) to get a feel for it."
   ]
  },
  {
   "cell_type": "code",
   "execution_count": null,
   "metadata": {
    "dotnet_interactive": {
     "language": "html"
    },
    "vscode": {
     "languageId": "dotnet-interactive.html"
    }
   },
   "outputs": [
    {
     "data": {
      "text/html": [
       "\t<div class=\"flex-container\">\n",
       "\t\t<div class=\"center-div\"></div>\n",
       "\t</div>\n",
       "\n",
       "\t<style>\n",
       "\t\t.flex-container{\n",
       "\t\t\twidth: 300px;\n",
       "\t\t\theight: 300px;\n",
       "\t\t\tborder: 2px #000 solid;\n",
       "\t\t\tbackground-color: #fff;\n",
       "\t\t\tdisplay: flex;\n",
       "\t\t\talign-items: center;\n",
       "\t\t\tjustify-content: center;\n",
       "\t\t}\n",
       "\t\t.center-div{\n",
       "\t\t\twidth: 100px;\n",
       "\t\t\theight: 100px;\n",
       "\t\t\tbackground-color: #000000;\n",
       "\t\t}\n",
       "\t</style>"
      ]
     },
     "metadata": {},
     "output_type": "display_data"
    }
   ],
   "source": [
    "\t<div class=\"flex-container\">\n",
    "\t\t<div class=\"center-div\"></div>\n",
    "\t</div>\n",
    "\n",
    "\t<style>\n",
    "\t\t.flex-container{\n",
    "\t\t\tdisplay: flex;\n",
    "\t\t\talign-items: center;\n",
    "\t\t\tjustify-content: center;\n",
    "\t\t\twidth: 300px;\n",
    "\t\t\theight: 300px;\n",
    "\t\t\tborder: 2px #000 solid;\n",
    "\t\t\tbackground-color: #fff;\n",
    "\t\t}\n",
    "\t\t.center-div{\n",
    "\t\t\twidth: 100px;\n",
    "\t\t\theight: 100px;\n",
    "\t\t\tbackground-color: #000000;\n",
    "\t\t}\n",
    "\t</style>"
   ]
  },
  {
   "cell_type": "markdown",
   "metadata": {},
   "source": [
    "#### grid\n",
    "- Grid is a 2 dimension system for aligning and spacing items within an element.\n",
    "- I'll again center a div."
   ]
  },
  {
   "cell_type": "code",
   "execution_count": null,
   "metadata": {
    "dotnet_interactive": {
     "language": "html"
    },
    "vscode": {
     "languageId": "dotnet-interactive.html"
    }
   },
   "outputs": [
    {
     "data": {
      "text/html": [
       "\t<div class=\"grid-container\">\n",
       "\t\t<div class=\"center-div\"></div>\n",
       "\t</div>\n",
       "\n",
       "\t<style>\n",
       "\t\t.grid-container{\n",
       "\t\t\tdisplay: grid;\n",
       "\t\t\tplace-items: center;\n",
       "\t\t\twidth: 500px;\n",
       "\t\t\theight: 500px;\n",
       "\t\t\tborder: 2px #000 solid;\n",
       "\t\t\tbackground-color: #fff;\n",
       "\t\t}\n",
       "\t\t.center-div{\n",
       "\t\t\twidth: 100px;\n",
       "\t\t\theight: 100px;\n",
       "\t\t\tbackground-color: #000000;\n",
       "\t\t}\n",
       "\t</style>"
      ]
     },
     "metadata": {},
     "output_type": "display_data"
    }
   ],
   "source": [
    "\t<div class=\"grid-container\">\n",
    "\t\t<div class=\"center-div\"></div>\n",
    "\t</div>\n",
    "\n",
    "\t<style>\n",
    "\t\t.grid-container{\n",
    "\t\t\tdisplay: grid;\n",
    "\t\t\tplace-items: center;\n",
    "\t\t\twidth: 500px;\n",
    "\t\t\theight: 500px;\n",
    "\t\t\tborder: 2px #000 solid;\n",
    "\t\t\tbackground-color: #fff;\n",
    "\t\t}\n",
    "\t\t.center-div{\n",
    "\t\t\twidth: 100px;\n",
    "\t\t\theight: 100px;\n",
    "\t\t\tbackground-color: #000000;\n",
    "\t\t}\n",
    "\t</style>"
   ]
  },
  {
   "cell_type": "markdown",
   "metadata": {},
   "source": [
    "## References\n",
    "Check out these resources for more.\n",
    "- [HTML](https://developer.mozilla.org/en-US/docs/Web/HTML)\n",
    "- [CSS](https://developer.mozilla.org/en-US/docs/Web/CSS)\n",
    "- [DOM](https://developer.mozilla.org/en-US/docs/Web/API/Document_object_model)\n",
    "- [Emmet](https://docs.emmet.io/cheat-sheet/)\n",
    "- [Flexbox documentation](https://developer.mozilla.org/en-US/docs/Web/CSS/CSS_Flexible_Box_Layout/Basic_Concepts_of_Flexbox)\n",
    "- [Flex Froggy](https://flexboxfroggy.com/)\n",
    "- [Grid documentation](https://developer.mozilla.org/en-US/docs/Web/CSS/CSS_Grid_Layout/Basic_Concepts_of_Grid_Layout)\n",
    "- [Grid Garden](https://cssgridgarden.com/)"
   ]
  }
 ],
 "metadata": {
  "kernelspec": {
   "display_name": ".NET (C#)",
   "language": "C#",
   "name": ".net-csharp"
  },
  "language_info": {
   "file_extension": ".cs",
   "mimetype": "text/x-csharp",
   "name": "C#",
   "pygments_lexer": "csharp",
   "version": "9.0"
  },
  "orig_nbformat": 4
 },
 "nbformat": 4,
 "nbformat_minor": 2
}
