{
 "cells": [
  {
   "cell_type": "markdown",
   "metadata": {},
   "source": [
    "## Intro\n",
    "HTML (HyperText Markup Language) is a markup language. It describes content an engine needs to make. The most common engine that you use is likely your web browser. Once the engine makes content, CSS (Cascading Style Sheets) describes how to make that content look. With both HTML and CSS, we will be able to create any UI. JavaScript can also used to dynamically change HTML for more complex interactions. In this lesson we will learn:\n",
    "\n",
    "#### HTML\n",
    "- Setting up HTML file\n",
    "- Elements\n",
    "  - div\n",
    "  - headers\n",
    "  - p\n",
    "- Attributes\n",
    "  - img\n",
    "  - a\n",
    "  - button\n",
    "  - form\n",
    "  - input\n",
    "- Selectors\n",
    "  - class\n",
    "  - id\n",
    "\n",
    "#### CSS\n",
    "- Selectors\n",
    "- properties\n",
    "  - background-color\n",
    "  - height & width\n",
    "  - border\n",
    "  - Margin\n",
    "  - padding\n",
    "  - font\n",
    "    - font-family\n",
    "    - font-size\n",
    "    - font-weight\n",
    "  - transform\n",
    "    - translate\n",
    "    - rotate\n",
    "    - scale\n",
    "  - flex-box\n",
    "\n",
    "#### JS DOM\n",
    "- Selector\n",
    "- createElement\n",
    "- Element remove\n",
    "- event-listeners\n",
    "---"
   ]
  },
  {
   "cell_type": "markdown",
   "metadata": {},
   "source": [
    "## HTML\n",
    "####  Setting up HTML file\n",
    "- Let's create an HTML file"
   ]
  },
  {
   "cell_type": "code",
   "execution_count": null,
   "metadata": {
    "dotnet_interactive": {
     "language": "pwsh"
    },
    "vscode": {
     "languageId": "dotnet-interactive.pwsh"
    }
   },
   "outputs": [
    {
     "name": "stdout",
     "output_type": "stream",
     "text": [
      "\r\n",
      "    Directory: C:\\code\\teaching\\mern-stack-course\\3-frontend\\7-HTML&CSS\r\n",
      "\r\n",
      "\u001b[32;1mMode                 LastWriteTime         Length Name\u001b[0m\r\n",
      "\u001b[32;1m----                 -------------         ------ ----\u001b[0m\r\n",
      "-a---           7/23/2022  5:20 AM              0 index.html\r\n",
      "\r\n"
     ]
    }
   ],
   "source": [
    "ni index.html"
   ]
  },
  {
   "cell_type": "code",
   "execution_count": null,
   "metadata": {
    "dotnet_interactive": {
     "language": "html"
    },
    "vscode": {
     "languageId": "dotnet-interactive.html"
    }
   },
   "outputs": [
    {
     "data": {
      "text/html": [
       "<!DOCTYPE html>\n",
       "<html>\n",
       "\t<head>\n",
       "\t\t<title>Page Title</title>\n",
       "\t</head>\n",
       "\t<body>\n",
       "\t\t<h1>This is a Heading</h1>\n",
       "\t\t<p>This is a paragraph.</p>\n",
       "\t</body>\n",
       "</html>"
      ]
     },
     "metadata": {},
     "output_type": "display_data"
    }
   ],
   "source": [
    "<!DOCTYPE html>\n",
    "<html>\n",
    "\t<head>\n",
    "\t\t<title>Page Title</title>\n",
    "\t</head>\n",
    "\t<body>\n",
    "\t\t<h1>This is a Heading</h1>\n",
    "\t\t<p>This is a paragraph.</p>\n",
    "\t</body>\n",
    "</html>"
   ]
  }
 ],
 "metadata": {
  "kernelspec": {
   "display_name": ".NET (C#)",
   "language": "C#",
   "name": ".net-csharp"
  },
  "language_info": {
   "file_extension": ".cs",
   "mimetype": "text/x-csharp",
   "name": "C#",
   "pygments_lexer": "csharp",
   "version": "9.0"
  },
  "orig_nbformat": 4
 },
 "nbformat": 4,
 "nbformat_minor": 2
}
