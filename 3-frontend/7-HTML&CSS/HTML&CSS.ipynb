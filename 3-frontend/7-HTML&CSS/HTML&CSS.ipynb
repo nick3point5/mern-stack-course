{
 "cells": [
  {
   "cell_type": "markdown",
   "metadata": {},
   "source": [
    "## Intro\n",
    "HTML (HyperText Markup Language) is a markup language. It describes content an engine needs to make. The most common engine that you use is likely your web browser. Once the engine makes content, CSS (Cascading Style Sheets) describes how to make that content look. With both HTML and CSS, we will be able to create any UI. JavaScript can also used to dynamically change HTML for more complex interactions. In this lesson we will learn:\n",
    "\n",
    "#### HTML\n",
    "- Setting up HTML file\n",
    "- Minimum HTML\n",
    "- Basic Elements\n",
    "  - div\n",
    "  - headers\n",
    "  - p\n",
    "- Attributes\n",
    "  - img\n",
    "  - a\n",
    "  - button\n",
    "  - form\n",
    "  - input\n",
    "- Selectors\n",
    "  - class\n",
    "  - id\n",
    "\n",
    "#### CSS\n",
    "- Selectors\n",
    "- properties\n",
    "  - background-color\n",
    "  - height & width\n",
    "  - border\n",
    "  - Margin\n",
    "  - padding\n",
    "  - font\n",
    "    - font-family\n",
    "    - font-size\n",
    "    - font-weight\n",
    "  - transform\n",
    "    - translate\n",
    "    - rotate\n",
    "    - scale\n",
    "  - flex-box\n",
    "\n",
    "#### JS DOM\n",
    "- Selector\n",
    "- createElement\n",
    "- Element remove\n",
    "- event-listeners\n",
    "\n",
    "#### importing files in HTML\n",
    "---"
   ]
  },
  {
   "cell_type": "markdown",
   "metadata": {},
   "source": [
    "## HTML\n",
    "#### Setting up HTML file\n",
    "- Let's create an HTML file"
   ]
  },
  {
   "cell_type": "code",
   "execution_count": null,
   "metadata": {
    "dotnet_interactive": {
     "language": "pwsh"
    },
    "vscode": {
     "languageId": "dotnet-interactive.pwsh"
    }
   },
   "outputs": [
    {
     "name": "stdout",
     "output_type": "stream",
     "text": [
      "\r\n",
      "    Directory: C:\\code\\teaching\\mern-stack-course\\3-frontend\\7-HTML&CSS\r\n",
      "\r\n",
      "\u001b[32;1mMode                 LastWriteTime         Length Name\u001b[0m\r\n",
      "\u001b[32;1m----                 -------------         ------ ----\u001b[0m\r\n",
      "-a---           7/23/2022  5:20 AM              0 index.html\r\n",
      "\r\n"
     ]
    }
   ],
   "source": [
    "ni index.html"
   ]
  },
  {
   "cell_type": "markdown",
   "metadata": {},
   "source": [
    "- The following is the reasonable minimum amount of html a browser needs to make a decent web page."
   ]
  },
  {
   "cell_type": "code",
   "execution_count": null,
   "metadata": {
    "dotnet_interactive": {
     "language": "html"
    },
    "vscode": {
     "languageId": "dotnet-interactive.html"
    }
   },
   "outputs": [
    {
     "data": {
      "text/html": [
       "<!-- index.html -->\n",
       "<!DOCTYPE html>\n",
       "<html lang=\"en\">\n",
       "  <head>\n",
       "    <meta charset=\"UTF-8\" />\n",
       "    <meta name=\"viewport\" content=\"width=device-width, initial-scale=1.0\" />\n",
       "  </head>\n",
       "  <body>\n",
       "  </body>\n",
       "</html>\n"
      ]
     },
     "metadata": {},
     "output_type": "display_data"
    }
   ],
   "source": [
    "<!-- index.html -->\n",
    "<!DOCTYPE html>\n",
    "<html lang=\"en\">\n",
    "  <head>\n",
    "    <meta charset=\"UTF-8\" />\n",
    "    <meta name=\"viewport\" content=\"width=device-width, initial-scale=1.0\" />\n",
    "  </head>\n",
    "  <body>\n",
    "  </body>\n",
    "</html>"
   ]
  },
  {
   "cell_type": "markdown",
   "metadata": {},
   "source": [
    "## Minimum HTML\n",
    "- Elements are objects that are wrap between angle brackets (<>)\n",
    "- Tags like ```<html>``` open a element and are close with ```</html>```\n",
    "- Let's break down the index.html tags\n",
    "  - ```<!DOCTYPE html>``` tells the engine the file is HTML.\n",
    "  - ```<html lang=\"en\">``` tells the engine to start reading HTML and that the HTML with be in English.\n",
    "  - ```<head>``` this is where we tell the engine to do things before the rendering anything to the page. \n",
    "  - ```<meta charset=\"UTF-8\" />``` character set the engine can render.\n",
    "  - ```<meta name=\"viewport\" content=\"width=device-width, initial-scale=1.0\" />```  the render will be scale base on the device (computer, mobile, game consoles etc...) that reads the HTML.\n",
    "  - ```<body>``` what will be rendered."
   ]
  },
  {
   "cell_type": "markdown",
   "metadata": {},
   "source": [
    "## Basic Elements\n",
    "- Everything rendered in HTML is just boxes sometimes with text inside.\n",
    "#### div\n",
    "- ```<div>``` are general purpose boxes.\n",
    "- They can be used to contain other elements and organize groups of elements."
   ]
  },
  {
   "cell_type": "markdown",
   "metadata": {},
   "source": [
    "#### headers\n",
    "- ```<h1>``` are for header text.\n",
    "- There are 6 of them \"h1\", \"h2\", \"h3\"...\n",
    "- They are for bold and larger size text by default."
   ]
  },
  {
   "cell_type": "code",
   "execution_count": null,
   "metadata": {
    "dotnet_interactive": {
     "language": "html"
    },
    "vscode": {
     "languageId": "dotnet-interactive.html"
    }
   },
   "outputs": [
    {
     "data": {
      "text/html": [
       "<h1>Header 1</h1>\n",
       "<h2>Header 2</h2>\n",
       "<h3>Header 3</h3>"
      ]
     },
     "metadata": {},
     "output_type": "display_data"
    }
   ],
   "source": [
    "<h1>Header 1</h1>\n",
    "<h2>Header 2</h2>\n",
    "<h3>Header 3</h3>"
   ]
  },
  {
   "cell_type": "markdown",
   "metadata": {},
   "source": [
    "#### p (paragraph)\n",
    "- ```<p>``` are for general text."
   ]
  },
  {
   "cell_type": "code",
   "execution_count": null,
   "metadata": {
    "dotnet_interactive": {
     "language": "html"
    },
    "vscode": {
     "languageId": "dotnet-interactive.html"
    }
   },
   "outputs": [
    {
     "data": {
      "text/html": [
       "<p>paragraph tag</p>"
      ]
     },
     "metadata": {},
     "output_type": "display_data"
    }
   ],
   "source": [
    "<p>paragraph tag</p>"
   ]
  },
  {
   "cell_type": "markdown",
   "metadata": {},
   "source": [
    "#### span\n",
    "- ```<span>``` are for contain text."
   ]
  },
  {
   "cell_type": "code",
   "execution_count": null,
   "metadata": {
    "dotnet_interactive": {
     "language": "html"
    },
    "vscode": {
     "languageId": "dotnet-interactive.html"
    }
   },
   "outputs": [
    {
     "data": {
      "text/html": [
       "<p>this is \\r a <span>span</span> example</p>"
      ]
     },
     "metadata": {},
     "output_type": "display_data"
    }
   ],
   "source": [
    "<p>this is a <span>span</span> example</p>"
   ]
  },
  {
   "cell_type": "markdown",
   "metadata": {},
   "source": [
    "#### br (break)\n",
    "- ```<br>``` are new lines for text.\n",
    "- if a tag doesn't have text or element children, it can be open in close in one tag ```<br/>``` "
   ]
  },
  {
   "cell_type": "code",
   "execution_count": null,
   "metadata": {
    "dotnet_interactive": {
     "language": "html"
    },
    "vscode": {
     "languageId": "dotnet-interactive.html"
    }
   },
   "outputs": [
    {
     "data": {
      "text/html": [
       "<p>this is<br>an<br/>example</p>"
      ]
     },
     "metadata": {},
     "output_type": "display_data"
    }
   ],
   "source": [
    "<p>this is<br>an<br/>example</p>"
   ]
  },
  {
   "cell_type": "markdown",
   "metadata": {},
   "source": [
    "## Attributes\n",
    "- Attributes is options for tags.\n",
    "- Some tags have a lot of prebuilt functionality that is accessible through they're attributes.\n",
    "#### img (image)\n",
    "- ```img``` renders image files either local or from the web.\n",
    "  -  src (source) is where we get the image file from.\n",
    "  -  alt is text that replace the image if it fails to load.\n",
    "     -  this is used for accessability."
   ]
  },
  {
   "cell_type": "code",
   "execution_count": null,
   "metadata": {
    "dotnet_interactive": {
     "language": "html"
    },
    "vscode": {
     "languageId": "dotnet-interactive.html"
    }
   },
   "outputs": [
    {
     "data": {
      "text/html": [
       "<img src=\"https://cdn.mos.cms.futurecdn.net/vChK6pTy3vN3KbYZ7UU7k3.jpg\" alt=\"kitten\">"
      ]
     },
     "metadata": {},
     "output_type": "display_data"
    }
   ],
   "source": [
    "<img src=\"https://cdn.mos.cms.futurecdn.net/vChK6pTy3vN3KbYZ7UU7k3.jpg\" alt=\"kitten\">"
   ]
  },
  {
   "cell_type": "markdown",
   "metadata": {},
   "source": [
    "#### a (anchor)\n",
    "- ```a``` send the user somewhere either somewhere on the page or another url.\n",
    "  -  href (hypertext reference) is where we send the user we they click this or it's children."
   ]
  },
  {
   "cell_type": "code",
   "execution_count": null,
   "metadata": {
    "dotnet_interactive": {
     "language": "html"
    },
    "vscode": {
     "languageId": "dotnet-interactive.html"
    }
   },
   "outputs": [
    {
     "data": {
      "text/html": [
       "<a href=\"https://coaching.healthygamer.gg/users/sign_in?type=coaching\">Stop it. Get some help</a>\n",
       "<br>\n",
       "<a href=\"https://en.wikipedia.org/wiki/Rock_(geology)\">\n",
       "\t<img src=\"https://upload.wikimedia.org/wikipedia/commons/thumb/a/aa/GabbroRockCreek1.jpg/330px-GabbroRockCreek1.jpg\" alt=\"rock\">\n",
       "</a>"
      ]
     },
     "metadata": {},
     "output_type": "display_data"
    }
   ],
   "source": [
    "<a href=\"https://coaching.healthygamer.gg/users/sign_in?type=coaching\">Stop it. Get some help</a>\n",
    "<br>\n",
    "<a href=\"https://en.wikipedia.org/wiki/Rock_(geology)\">\n",
    "\t<img src=\"https://upload.wikimedia.org/wikipedia/commons/thumb/a/aa/GabbroRockCreek1.jpg/330px-GabbroRockCreek1.jpg\" alt=\"rock\">\n",
    "</a>"
   ]
  },
  {
   "cell_type": "markdown",
   "metadata": {},
   "source": [
    "#### button\n",
    "- ```<button>``` a button\n",
    "  - onClick runs JavaScript when you click it.\n",
    "    - this is not unique to the button tag\n"
   ]
  },
  {
   "cell_type": "code",
   "execution_count": null,
   "metadata": {
    "dotnet_interactive": {
     "language": "html"
    },
    "vscode": {
     "languageId": "dotnet-interactive.html"
    }
   },
   "outputs": [
    {
     "data": {
      "text/html": [
       "<button onClick=\"console.log('Hello World')\">\n",
       "  Hello World\n",
       "</button>"
      ]
     },
     "metadata": {},
     "output_type": "display_data"
    }
   ],
   "source": [
    "<button onClick=\"console.log('Hello World')\">\n",
    "  Hello World\n",
    "</button>"
   ]
  },
  {
   "cell_type": "markdown",
   "metadata": {},
   "source": [
    "#### form, label, & input\n",
    "- ```<form>``` create a form where we can submit HTTP requests from it's input children\n",
    "  - action attribute the url we will send the request to.\n",
    "  - method attribute specifies the HTTP method of the request. (HTML form only does get and post)\n",
    "- ```<label>``` renders label a input\n",
    "- ```<input>``` renders an element users can interact with\n",
    "  - name attribute is the key for the body that will be sent with the HTTP request"
   ]
  },
  {
   "cell_type": "code",
   "execution_count": null,
   "metadata": {
    "dotnet_interactive": {
     "language": "html"
    },
    "vscode": {
     "languageId": "dotnet-interactive.html"
    }
   },
   "outputs": [
    {
     "data": {
      "text/html": [
       "<form action=\"https://sample-api-six.vercel.app/\" method=\"post\">\n",
       "\t<label>Text</label>\n",
       "\t<input type=\"text\" name=\"text\"/>\n",
       "\t<button type=\"submit\">Post</button>\n",
       "</form>"
      ]
     },
     "metadata": {},
     "output_type": "display_data"
    }
   ],
   "source": [
    "<form action=\"https://sample-api-six.vercel.app/\" method=\"post\">\n",
    "\t<label>Text</label>\n",
    "\t<input type=\"text\" name=\"text\"/>\n",
    "\t<button type=\"submit\">Post</button>\n",
    "</form>"
   ]
  },
  {
   "cell_type": "markdown",
   "metadata": {},
   "source": [
    "## Selectors\n",
    "- When we write HTML we will reuse many tags.\n",
    "- Selectors help us organize and find tags so we can change their appearance and behaviors.\n",
    "#### class\n",
    "- The class selector is a way to identify a group or multiple elements."
   ]
  },
  {
   "cell_type": "code",
   "execution_count": null,
   "metadata": {
    "dotnet_interactive": {
     "language": "html"
    },
    "vscode": {
     "languageId": "dotnet-interactive.html"
    }
   },
   "outputs": [],
   "source": [
    "<div class=\"text-container\">\n",
    "\t<p class=\"text\">howdy</p>\n",
    "</div>\n",
    "<div class=\"text-container\">\n",
    "\t<p class=\"text\">howdy</p>\n",
    "</div>\n",
    "<div class=\"text-container\">\n",
    "\t<p class=\"text\">howdy</p>\n",
    "</div>"
   ]
  },
  {
   "cell_type": "markdown",
   "metadata": {},
   "source": [
    "#### id\n",
    "- The id selector should be use to uniquely identify a single element."
   ]
  },
  {
   "cell_type": "code",
   "execution_count": null,
   "metadata": {
    "dotnet_interactive": {
     "language": "html"
    },
    "vscode": {
     "languageId": "dotnet-interactive.html"
    }
   },
   "outputs": [],
   "source": [
    "<div class=\"text-container\" id=\"container-1\">\n",
    "\t<p class=\"text\" id=\"howdy-1\">howdy</p>\n",
    "</div>\n",
    "<div class=\"text-container\" id=\"container-2\">\n",
    "\t<p class=\"text\" id=\"howdy-2\">howdy</p>\n",
    "</div>\n",
    "<div class=\"text-container\" id=\"container-3\">\n",
    "\t<p class=\"text\" id=\"howdy-3\">howdy</p>\n",
    "</div>"
   ]
  },
  {
   "cell_type": "markdown",
   "metadata": {},
   "source": [
    "## CSS\n",
    "- CSS (Cascading Style Sheets) are instructions that the engine can use to change how the elements are render beyond the default.\n",
    "- a style has two parts:\n",
    "  1) a selector with tell CSS which element(s) we are trying to add style to.\n",
    "  2) a list of style properties and values.\n",
    "#### Selectors\n",
    "- We use one or more selectors to pick out which element(s) to apply styles to.\n",
    "- Here are some basic selectors"
   ]
  },
  {
   "cell_type": "markdown",
   "metadata": {},
   "source": [
    "  - tag"
   ]
  },
  {
   "cell_type": "code",
   "execution_count": null,
   "metadata": {
    "dotnet_interactive": {
     "language": "html"
    },
    "vscode": {
     "languageId": "dotnet-interactive.html"
    }
   },
   "outputs": [
    {
     "data": {
      "text/html": [
       "<p>orange</p>\n",
       "<style>\n",
       "p {\n",
       "\tcolor: orange;\n",
       "}\n",
       "</style>"
      ]
     },
     "metadata": {},
     "output_type": "display_data"
    }
   ],
   "source": [
    "<p>orange</p>\n",
    "<style>\n",
    "p {\n",
    "\tcolor: orange;\n",
    "}\n",
    "</style>"
   ]
  },
  {
   "cell_type": "markdown",
   "metadata": {},
   "source": [
    "  - class"
   ]
  },
  {
   "cell_type": "code",
   "execution_count": null,
   "metadata": {
    "dotnet_interactive": {
     "language": "html"
    },
    "vscode": {
     "languageId": "dotnet-interactive.html"
    }
   },
   "outputs": [
    {
     "data": {
      "text/html": [
       "<p class=\"aqua\">aqua</p>\n",
       "<style>\n",
       ".aqua {\n",
       "\tcolor: #00FFFF;\n",
       "}\n",
       "</style>"
      ]
     },
     "metadata": {},
     "output_type": "display_data"
    }
   ],
   "source": [
    "<p class=\"aqua\">aqua</p>\n",
    "<style>\n",
    ".aqua {\n",
    "\tcolor: #00FFFF;\n",
    "}\n",
    "</style>"
   ]
  },
  {
   "cell_type": "markdown",
   "metadata": {},
   "source": [
    "- id"
   ]
  },
  {
   "cell_type": "code",
   "execution_count": null,
   "metadata": {
    "dotnet_interactive": {
     "language": "html"
    },
    "vscode": {
     "languageId": "dotnet-interactive.html"
    }
   },
   "outputs": [
    {
     "data": {
      "text/html": [
       "<p id=\"dark-aqua\">dark aqua</p>\n",
       "<style>\n",
       "#dark-aqua {\n",
       "\tcolor: #153c4e;\n",
       "}\n",
       "</style>"
      ]
     },
     "metadata": {},
     "output_type": "display_data"
    }
   ],
   "source": [
    "<p id=\"dark-aqua\">dark aqua</p>\n",
    "<style>\n",
    "#dark-aqua {\n",
    "\tcolor: #153c4e;\n",
    "}\n",
    "</style>"
   ]
  },
  {
   "cell_type": "markdown",
   "metadata": {},
   "source": [
    "- The styles have a hierarchy.\n",
    "- The general rule is the more specific the higher the priority.\n",
    "  -  Tag < Class < Id"
   ]
  },
  {
   "cell_type": "code",
   "execution_count": null,
   "metadata": {
    "dotnet_interactive": {
     "language": "html"
    },
    "vscode": {
     "languageId": "dotnet-interactive.html"
    }
   },
   "outputs": [
    {
     "data": {
      "text/html": [
       "<p class=\"aqua\" id=\"dark-aqua\">This is a shade of aqua</p>"
      ]
     },
     "metadata": {},
     "output_type": "display_data"
    }
   ],
   "source": [
    "<p class=\"aqua\" id=\"dark-aqua\">This is a shade of aqua</p>"
   ]
  },
  {
   "cell_type": "markdown",
   "metadata": {},
   "source": [
    "- If two styles have the same priority, the latest style is priority."
   ]
  },
  {
   "cell_type": "code",
   "execution_count": null,
   "metadata": {
    "dotnet_interactive": {
     "language": "html"
    },
    "vscode": {
     "languageId": "dotnet-interactive.html"
    }
   },
   "outputs": [
    {
     "data": {
      "text/html": [
       "<p class=\"fuchsia\">Fuchsia</p>\n",
       "<style>\n",
       "\t.fuchsia{\n",
       "\t\tcolor: white;\n",
       "\t}\n",
       "\t.fuchsia {\n",
       "\t\tcolor:fuchsia;\n",
       "\t}\n",
       "</style>"
      ]
     },
     "metadata": {},
     "output_type": "display_data"
    }
   ],
   "source": [
    "<p class=\"fuchsia\">Fuchsia</p>\n",
    "<style>\n",
    "\t.fuchsia{\n",
    "\t\tcolor: tomato;\n",
    "\t}\n",
    "\t.fuchsia {\n",
    "\t\tcolor:fuchsia;\n",
    "\t}\n",
    "</style>"
   ]
  },
  {
   "cell_type": "markdown",
   "metadata": {},
   "source": [
    "#### properties\n",
    "- ```background-color``` give an element background (not content) color"
   ]
  },
  {
   "cell_type": "code",
   "execution_count": null,
   "metadata": {
    "dotnet_interactive": {
     "language": "html"
    },
    "vscode": {
     "languageId": "dotnet-interactive.html"
    }
   },
   "outputs": [
    {
     "data": {
      "text/html": [
       "<p class=\"bgc\">lorem</p>\n",
       "<style>\n",
       "\t.bgc{\n",
       "\t\tbackground-color: Indigo;\n",
       "\t}\n",
       "</style>"
      ]
     },
     "metadata": {},
     "output_type": "display_data"
    }
   ],
   "source": [
    "<p class=\"bgc\">lorem</p>\n",
    "<style>\n",
    "\t.bgc{\n",
    "\t\tbackground-color: Indigo;\n",
    "\t}\n",
    "</style>"
   ]
  },
  {
   "cell_type": "markdown",
   "metadata": {},
   "source": [
    "- ```height``` & ```width``` give an element's content size dimensions."
   ]
  },
  {
   "cell_type": "code",
   "execution_count": null,
   "metadata": {
    "dotnet_interactive": {
     "language": "html"
    },
    "vscode": {
     "languageId": "dotnet-interactive.html"
    }
   },
   "outputs": [
    {
     "data": {
      "text/html": [
       "<p class=\"hw\">lorem</p>\n",
       "<style>\n",
       "\t.hw{\n",
       "\t\tbackground-color: Indigo;\n",
       "\t\theight: 100px; //px means pixels\n",
       "\t\twidth: 200px;\n",
       "\t}\n",
       "</style>"
      ]
     },
     "metadata": {},
     "output_type": "display_data"
    }
   ],
   "source": [
    "<p class=\"hw\">lorem</p>\n",
    "<style>\n",
    "\t.hw{\n",
    "\t\tbackground-color: Indigo;\n",
    "\t\theight: 100px; /* px means pixels */\n",
    "\t\twidth: 200px;\n",
    "\t}\n",
    "</style>"
   ]
  },
  {
   "cell_type": "markdown",
   "metadata": {},
   "source": [
    "- ```border``` is a border of the element's content.\n",
    "- This is shorthand for 3 properties \"border-width, border-style, border-color,\""
   ]
  },
  {
   "cell_type": "code",
   "execution_count": null,
   "metadata": {
    "dotnet_interactive": {
     "language": "html"
    },
    "vscode": {
     "languageId": "dotnet-interactive.html"
    }
   },
   "outputs": [
    {
     "data": {
      "text/html": [
       "<p class=\"hw border\">lorem</p>\n",
       "<style>\n",
       "\t.border {\n",
       "\t\tborder: 2px solid Maroon\n",
       "\t}\n",
       "</style>"
      ]
     },
     "metadata": {},
     "output_type": "display_data"
    }
   ],
   "source": [
    "<p class=\"hw border\">lorem</p>\n",
    "<style>\n",
    "\t.border {\n",
    "\t\tborder: 2px solid Maroon\n",
    "\t}\n",
    "</style>"
   ]
  },
  {
   "cell_type": "markdown",
   "metadata": {},
   "source": [
    "- ```margin``` is a space outside of the border.\n",
    "- margins cannot be styled. \n",
    "- They should be used for spacing between elements and nothing else."
   ]
  },
  {
   "cell_type": "code",
   "execution_count": null,
   "metadata": {
    "dotnet_interactive": {
     "language": "html"
    },
    "vscode": {
     "languageId": "dotnet-interactive.html"
    }
   },
   "outputs": [
    {
     "data": {
      "text/html": [
       "<p class=\"hw margin\">lorem</p>\n",
       "<p class=\"hw margin\">lorem</p>\n",
       "<style>\n",
       "\t.margin {\n",
       "\t\tmargin: 20px\n",
       "\t}\n",
       "</style>\n"
      ]
     },
     "metadata": {},
     "output_type": "display_data"
    }
   ],
   "source": [
    "<p class=\"hw margin\">lorem</p>\n",
    "<p class=\"hw margin\">lorem</p>\n",
    "<style>\n",
    "\t.margin {\n",
    "\t\tmargin: 20px\n",
    "\t}\n",
    "</style>\n"
   ]
  },
  {
   "cell_type": "markdown",
   "metadata": {},
   "source": [
    "- ```padding``` is a space between of the border and the content."
   ]
  },
  {
   "cell_type": "code",
   "execution_count": null,
   "metadata": {
    "dotnet_interactive": {
     "language": "html"
    },
    "vscode": {
     "languageId": "dotnet-interactive.html"
    }
   },
   "outputs": [
    {
     "data": {
      "text/html": [
       "<div class=\"padding\">\n",
       "\t<p class=\"hw\">content</p>\n",
       "</div>\n",
       "\n",
       "<style>\n",
       "\t.padding {\n",
       "\t\tpadding: 20px;\n",
       "\t\tbackground-color: LightBlue;\n",
       "\t\tcolor: black;\n",
       "\t}\n",
       "</style>"
      ]
     },
     "metadata": {},
     "output_type": "display_data"
    }
   ],
   "source": [
    "<div class=\"padding\">\n",
    "\t<p class=\"hw\">content</p>\n",
    "</div>\n",
    "\n",
    "<style>\n",
    "\t.padding {\n",
    "\t\tpadding: 20px;\n",
    "\t\tbackground-color: LightBlue;\n",
    "\t\tcolor: black;\n",
    "\t}\n",
    "</style>"
   ]
  },
  {
   "cell_type": "markdown",
   "metadata": {},
   "source": [
    "- font\n",
    "\t- ```font-size```  is how large or small the font should be.\n",
    "\t- ```font-family``` is the font set should be used.\n",
    "\t- ```font-weight``` is how bold (thick) the font should be.\n"
   ]
  },
  {
   "cell_type": "code",
   "execution_count": null,
   "metadata": {
    "dotnet_interactive": {
     "language": "html"
    },
    "vscode": {
     "languageId": "dotnet-interactive.html"
    }
   },
   "outputs": [
    {
     "data": {
      "text/html": [
       "<p class=\"font\">content</p>\n",
       "<style>\n",
       "\t.font {\n",
       "\t\tfont-size: 2em;/* px means pixels */\n",
       "\t\tfont-family: \"Lucida Grande\";\n",
       "\t\tfont-weight: 600;\n",
       "\t}\n",
       "</style>"
      ]
     },
     "metadata": {},
     "output_type": "display_data"
    }
   ],
   "source": [
    "<p class=\"font\">content</p>\n",
    "<style>\n",
    "\t.font {\n",
    "\t\tfont-size: 2em;/* by default em means 16 pixels */\n",
    "\t\tfont-family: \"Lucida Grande\";\n",
    "\t\tfont-weight: 600;/* values are in increments of 100 */\n",
    "\t}\n",
    "</style>"
   ]
  },
  {
   "cell_type": "markdown",
   "metadata": {},
   "source": [
    "- ```transform``` moves rotates and scales an element.\n",
    "- the default origin is the point at the top left of the element. \n",
    "\t- ```translate``` moves the element horizontally and vertically.\n",
    "\t- ```rotate``` rotates the element around it's origin.\n",
    "\t- ```scale``` grows or shrinks the element."
   ]
  },
  {
   "cell_type": "code",
   "execution_count": null,
   "metadata": {
    "dotnet_interactive": {
     "language": "html"
    },
    "vscode": {
     "languageId": "dotnet-interactive.html"
    }
   },
   "outputs": [
    {
     "data": {
      "text/html": [
       "<div class=\"stick-world\">\n",
       "\t<img class=\"stick-man\" src=\"../../assets/images/html/stick-man.jpg\"/>\n",
       "</div>\n",
       "<style>\n",
       "\t.stick-world{\n",
       "\t\tbackground-color: red;\n",
       "\t\theight: 200px;\n",
       "\t\twidth: 1000px;\n",
       "\t}\n",
       "\t.stick-man{\n",
       "\t\ttransform: translate(20px, 10px) rotate(30deg) scale(0.5);\n",
       "\t}\n",
       "</style>"
      ]
     },
     "metadata": {},
     "output_type": "display_data"
    }
   ],
   "source": [
    "<div class=\"stick-land\">\n",
    "\t<img class=\"stick-man\" src=\"../../assets/images/html/stick-man.jpg\"/>\n",
    "</div>\n",
    "<style>\n",
    "\t.stick-land{\n",
    "\t\tbackground-color: red;\n",
    "\t\theight: 200px;\n",
    "\t\twidth: 1000px;\n",
    "\t}\n",
    "\t.stick-man{\n",
    "\t\ttransform: translate(20px, 10px) rotate(30deg) scale(0.5);\n",
    "\t}\n",
    "</style>"
   ]
  },
  {
   "cell_type": "markdown",
   "metadata": {},
   "source": [
    "- ```position``` tell the engine what the origin would be relative to.\n",
    "  - ```relative``` make the elements children relative to it. (this is the body's default)\n",
    "  - ```absolute``` makes the element's top, right, bottom, and left properties relative to the nearest parent with ```position: relative```\n",
    "    - top, right, bottom, and left moves the origin from the parents border.\n",
    "  - ```fixed``` makes the element's origin relative to the page view after it's rendered."
   ]
  },
  {
   "cell_type": "code",
   "execution_count": null,
   "metadata": {
    "dotnet_interactive": {
     "language": "html"
    },
    "vscode": {
     "languageId": "dotnet-interactive.html"
    }
   },
   "outputs": [
    {
     "data": {
      "text/html": [
       "<div class=\"stick-planet\">\n",
       "\t\t\t<div class=\"stick-land\">\n",
       "\t\t\t\t<img class=\"stick-man\" src=\"../../assets/images/html/stick-man.jpg\"/>\n",
       "\t\t\t\t<img class=\"stick-man absolute\" src=\"../../assets/images/html/stick-man.jpg\"/>\n",
       "\t\t\t\t<img class=\"stick-man fixed\" src=\"../../assets/images/html/stick-man.jpg\"/>\n",
       "\t\t\t</div>\n",
       "\t\t\t</div>\n",
       "\t\t\t<style>\n",
       "\t\t\t\t.stick-planet{\n",
       "\t\t\t\t\tposition: relative;\n",
       "\t\t\t\t\tpadding: 100px;\n",
       "\t\t\t\t\tbackground-color: pink;\n",
       "\t\t\t\t\theight:2000px;\n",
       "\t\t\t\t\twidth: 1000px;\n",
       "\t\t\t\t}\n",
       "\t\t\t\t.stick-land{\n",
       "\t\t\t\t\tbackground-color: red;\n",
       "\t\t\t\t\theight: 10%; /* % are relative to the parent with position: relative */\n",
       "\t\t\t\t\twidth: 100%; \n",
       "\t\t\t\t}\n",
       "\t\t\t\t.stick-man{\n",
       "\t\t\t\t\theight: 100px;\n",
       "\t\t\t\t\twidth: 100px;\n",
       "\t\t\t\t\tbackground-color: rgb(19, 26, 214);\n",
       "\t\t\t\t\ttransform: translate(20px, 10px) rotate(30deg) scale(0.5);\n",
       "\t\t\t\t\t\n",
       "\t\t\t\t}\n",
       "\t\t\t\t.absolute {\n",
       "\t\t\t\t\tposition: absolute;\n",
       "\t\t\t\t\ttop: 40px;\n",
       "\t\t\t\t\tright: 40px;\n",
       "\t\t\t\t}\n",
       "\t\t\t\t.fixed {\n",
       "\t\t\t\t\tposition: fixed;\n",
       "\t\t\t\t}\n",
       "\t\t\t</style>"
      ]
     },
     "metadata": {},
     "output_type": "display_data"
    }
   ],
   "source": [
    "<div class=\"stick-planet\">\n",
    "\t\t\t<div class=\"stick-land\">\n",
    "\t\t\t\t<img class=\"stick-man\" src=\"../../assets/images/html/stick-man.jpg\"/>\n",
    "\t\t\t\t<img class=\"stick-man absolute\" src=\"../../assets/images/html/stick-man.jpg\"/>\n",
    "\t\t\t\t<img class=\"stick-man fixed\" src=\"../../assets/images/html/stick-man.jpg\"/>\n",
    "\t\t\t</div>\n",
    "\t\t\t</div>\n",
    "\t\t\t<style>\n",
    "\t\t\t\t.stick-planet{\n",
    "\t\t\t\t\tposition: relative;\n",
    "\t\t\t\t\tpadding: 100px;\n",
    "\t\t\t\t\tbackground-color: pink;\n",
    "\t\t\t\t\theight:2000px;\n",
    "\t\t\t\t\twidth: 1000px;\n",
    "\t\t\t\t}\n",
    "\t\t\t\t.stick-land{\n",
    "\t\t\t\t\tbackground-color: red;\n",
    "\t\t\t\t\theight: 10%; /* % are relative to the parent with position: relative */\n",
    "\t\t\t\t\twidth: 100%; \n",
    "\t\t\t\t}\n",
    "\t\t\t\t.stick-man{\n",
    "\t\t\t\t\theight: 100px;\n",
    "\t\t\t\t\twidth: 100px;\n",
    "\t\t\t\t\tbackground-color: rgb(19, 26, 214);\n",
    "\t\t\t\t\ttransform: translate(20px, 10px) rotate(30deg) scale(0.5);\n",
    "\t\t\t\t\t\n",
    "\t\t\t\t}\n",
    "\t\t\t\t.absolute {\n",
    "\t\t\t\t\tposition: absolute;\n",
    "\t\t\t\t\ttop: 40px;\n",
    "\t\t\t\t\tright: 40px;\n",
    "\t\t\t\t}\n",
    "\t\t\t\t.fixed {\n",
    "\t\t\t\t\tposition: fixed;\n",
    "\t\t\t\t}\n",
    "\t\t\t</style>"
   ]
  },
  {
   "cell_type": "markdown",
   "metadata": {},
   "source": [
    "#### JS DOM\n",
    "- Everything created in HTML & CSS is an object in JavaScript.\n",
    "- The document object model is a representation of what is rendered from the engine.\n",
    "- We can select elements with the document object methods.\n",
    "  - "
   ]
  },
  {
   "cell_type": "code",
   "execution_count": null,
   "metadata": {
    "dotnet_interactive": {
     "language": "html"
    },
    "vscode": {
     "languageId": "dotnet-interactive.html"
    }
   },
   "outputs": [
    {
     "data": {
      "text/html": [
       "<div class=\"stick-land\">\n",
       "\t<img class=\"stick-man\" src=\"../../assets/images/html/stick-man.jpg\"/>\n",
       "</div>\n",
       "<script>\n",
       "\tconst stickMan = document.querySelector(\".stick-man\")\n",
       "\tconsole.log(stickMan)\n",
       "</script>\n"
      ]
     },
     "metadata": {},
     "output_type": "display_data"
    }
   ],
   "source": [
    "<div class=\"stick-land\">\n",
    "\t<img class=\"stick-man\" src=\"../../assets/images/html/stick-man.jpg\"/>\n",
    "</div>\n",
    "<script>\n",
    "\tconst stickMan = document.querySelector(\".stick-man\")\n",
    "\tconsole.log(stickMan)\n",
    "</script>\n"
   ]
  },
  {
   "cell_type": "markdown",
   "metadata": {},
   "source": []
  },
  {
   "cell_type": "code",
   "execution_count": null,
   "metadata": {
    "dotnet_interactive": {
     "language": "html"
    },
    "vscode": {
     "languageId": "dotnet-interactive.html"
    }
   },
   "outputs": [],
   "source": [
    "<div class=\"stick-land\">\n",
    "\t<img class=\"stick-man\" src=\"https://img.favpng.com/6/10/7/stick-man-stick-figure-clip-art-png-favpng-ddGAvG5gmD1mpzq0S51b0ee1h.jpg\"/>\n",
    "</div>\n",
    "<script>\n",
    "\tconst stickMan2 = document.createElement(\"img\")\n",
    "\tstickMan2.classList.add(\"stick-man\")\n",
    "\tstickMan2.id = \"stick-man-2\"\n",
    "\tstickMan2.setAttribute(\"src\",\"https://img.favpng.com/6/10/7/stick-man-stick-figure-clip-art-png-favpng-ddGAvG5gmD1mpzq0S51b0ee1h.jpg\")\n",
    "\n",
    "\tconst stickLand = document.querySelector(\".stick-land\")\n",
    "\tstickLand.append(stickMan2)\n",
    "\t\n",
    "</script>\n"
   ]
  },
  {
   "cell_type": "markdown",
   "metadata": {},
   "source": [
    "- Element remove"
   ]
  },
  {
   "cell_type": "code",
   "execution_count": null,
   "metadata": {
    "dotnet_interactive": {
     "language": "html"
    },
    "vscode": {
     "languageId": "dotnet-interactive.html"
    }
   },
   "outputs": [],
   "source": [
    "<div class=\"stick-land\">\n",
    "\t<img class=\"stick-man\" src=\"https://img.favpng.com/6/10/7/stick-man-stick-figure-clip-art-png-favpng-ddGAvG5gmD1mpzq0S51b0ee1h.jpg\"/>\n",
    "\t<img class=\"stick-man\" id=\"stick-man-2\" src=\"https://img.favpng.com/6/10/7/stick-man-stick-figure-clip-art-png-favpng-ddGAvG5gmD1mpzq0S51b0ee1h.jpg\"/>\n",
    "</div>\n",
    "<script>\n",
    "\tconst stickMan2 = document.getElementById(\"stick-man-2\")\n",
    "\tstickMan2.remove()\n",
    "</script>"
   ]
  },
  {
   "cell_type": "markdown",
   "metadata": {},
   "source": [
    "- event-listeners"
   ]
  },
  {
   "cell_type": "code",
   "execution_count": null,
   "metadata": {
    "dotnet_interactive": {
     "language": "html"
    },
    "vscode": {
     "languageId": "dotnet-interactive.html"
    }
   },
   "outputs": [
    {
     "data": {
      "text/html": [
       "\t\t<div class=\"counter\">\n",
       "\t\t\t<p  id=\"counter-text\">0</p>\n",
       "\t\t\t<button id=\"counter-button\">add</button>\n",
       "\t\t</div>\n",
       "\t\t<script>\n",
       "\t\t\tlet countState = 0\n",
       "\t\t\tconst text = document.getElementById(\"counter-text\")\n",
       "\t\t\tconst button = document.getElementById(\"counter-button\")\n",
       "\t\t\t\n",
       "\t\t\tfunction add() {\n",
       "\t\t\t\tcountState++\n",
       "\t\t\t\ttext.innerText=countState\n",
       "\t\t\t}\n",
       "\n",
       "\t\t\tbutton.addEventListener(\"click\", add)\n",
       "\t\t</script>"
      ]
     },
     "metadata": {},
     "output_type": "display_data"
    }
   ],
   "source": [
    "\t\t<div class=\"counter\">\n",
    "\t\t\t<p  id=\"counter-text\">0</p>\n",
    "\t\t\t<button id=\"counter-button\">add</button>\n",
    "\t\t</div>\n",
    "\t\t<script>\n",
    "\t\t\tlet countState = 0\n",
    "\t\t\tconst text = document.getElementById(\"counter-text\")\n",
    "\t\t\tconst button = document.getElementById(\"counter-button\")\n",
    "\t\t\t\n",
    "\t\t\tfunction add() {\n",
    "\t\t\t\tcountState++\n",
    "\t\t\t\ttext.innerText=countState\n",
    "\t\t\t}\n",
    "\n",
    "\t\t\tbutton.addEventListener(\"click\", add)\n",
    "\t\t</script>"
   ]
  },
  {
   "cell_type": "markdown",
   "metadata": {},
   "source": [
    "#### importing files in HTML\n",
    "- importing files in HTML"
   ]
  },
  {
   "cell_type": "code",
   "execution_count": null,
   "metadata": {
    "dotnet_interactive": {
     "language": "html"
    },
    "vscode": {
     "languageId": "dotnet-interactive.html"
    }
   },
   "outputs": [],
   "source": [
    "<!DOCTYPE html>\n",
    "<html lang=\"en\">\n",
    "  <head>\n",
    "    <meta charset=\"UTF-8\" />\n",
    "    <meta name=\"viewport\" content=\"width=device-width, initial-scale=1.0\" />\n",
    "  </head>\n",
    "  <body>\n",
    "  </body>\n",
    "</html>"
   ]
  },
  {
   "cell_type": "markdown",
   "metadata": {},
   "source": [
    "## Extra tips and tricks\n",
    "---"
   ]
  },
  {
   "cell_type": "markdown",
   "metadata": {},
   "source": [
    "- flex-box"
   ]
  }
 ],
 "metadata": {
  "kernelspec": {
   "display_name": ".NET (C#)",
   "language": "C#",
   "name": ".net-csharp"
  },
  "language_info": {
   "file_extension": ".cs",
   "mimetype": "text/x-csharp",
   "name": "C#",
   "pygments_lexer": "csharp",
   "version": "9.0"
  },
  "orig_nbformat": 4
 },
 "nbformat": 4,
 "nbformat_minor": 2
}
