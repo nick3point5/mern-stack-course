{
 "cells": [
  {
   "cell_type": "markdown",
   "metadata": {},
   "source": [
    "## Intro\n",
    "HTML (HyperText Markup Language) is a markup language. It describes content an engine needs to make. The most common engine that you use is likely your web browser. Once the engine makes content, CSS (Cascading Style Sheets) describes how to make that content look. With both HTML and CSS, we will be able to create any UI. JavaScript can also used to dynamically change HTML for more complex interactions. In this lesson we will learn:\n",
    "\n",
    "#### HTML\n",
    "- Setting up HTML file\n",
    "- Minimum HTML\n",
    "- Basic Elements\n",
    "  - div\n",
    "  - headers\n",
    "  - p\n",
    "- Attributes\n",
    "  - img\n",
    "  - a\n",
    "  - button\n",
    "  - form\n",
    "  - input\n",
    "- Selectors\n",
    "  - class\n",
    "  - id\n",
    "\n",
    "#### CSS\n",
    "- Selectors\n",
    "- properties\n",
    "  - background-color\n",
    "  - height & width\n",
    "  - border\n",
    "  - Margin\n",
    "  - padding\n",
    "  - font\n",
    "    - font-family\n",
    "    - font-size\n",
    "    - font-weight\n",
    "  - transform\n",
    "    - translate\n",
    "    - rotate\n",
    "    - scale\n",
    "  - flex-box\n",
    "\n",
    "#### JS DOM\n",
    "- Selector\n",
    "- createElement\n",
    "- Element remove\n",
    "- event-listeners\n",
    "---"
   ]
  },
  {
   "cell_type": "markdown",
   "metadata": {},
   "source": [
    "## HTML\n",
    "#### Setting up HTML file\n",
    "- Let's create an HTML file"
   ]
  },
  {
   "cell_type": "code",
   "execution_count": null,
   "metadata": {
    "dotnet_interactive": {
     "language": "pwsh"
    },
    "vscode": {
     "languageId": "dotnet-interactive.pwsh"
    }
   },
   "outputs": [
    {
     "name": "stdout",
     "output_type": "stream",
     "text": [
      "\r\n",
      "    Directory: C:\\code\\teaching\\mern-stack-course\\3-frontend\\7-HTML&CSS\r\n",
      "\r\n",
      "\u001b[32;1mMode                 LastWriteTime         Length Name\u001b[0m\r\n",
      "\u001b[32;1m----                 -------------         ------ ----\u001b[0m\r\n",
      "-a---           7/23/2022  5:20 AM              0 index.html\r\n",
      "\r\n"
     ]
    }
   ],
   "source": [
    "ni index.html"
   ]
  },
  {
   "cell_type": "markdown",
   "metadata": {},
   "source": [
    "- The following is the reasonable minimum amount of html a browser needs to make a decent web page."
   ]
  },
  {
   "cell_type": "code",
   "execution_count": null,
   "metadata": {
    "dotnet_interactive": {
     "language": "html"
    },
    "vscode": {
     "languageId": "dotnet-interactive.html"
    }
   },
   "outputs": [
    {
     "data": {
      "text/html": [
       "<!-- index.html -->\n",
       "<!DOCTYPE html>\n",
       "<html lang=\"en\">\n",
       "  <head>\n",
       "    <meta charset=\"UTF-8\" />\n",
       "    <meta name=\"viewport\" content=\"width=device-width, initial-scale=1.0\" />\n",
       "  </head>\n",
       "  <body>\n",
       "  </body>\n",
       "</html>\n"
      ]
     },
     "metadata": {},
     "output_type": "display_data"
    }
   ],
   "source": [
    "<!-- index.html -->\n",
    "<!DOCTYPE html>\n",
    "<html lang=\"en\">\n",
    "  <head>\n",
    "    <meta charset=\"UTF-8\" />\n",
    "    <meta name=\"viewport\" content=\"width=device-width, initial-scale=1.0\" />\n",
    "  </head>\n",
    "  <body>\n",
    "  </body>\n",
    "</html>"
   ]
  },
  {
   "cell_type": "markdown",
   "metadata": {},
   "source": [
    "## Minimum HTML\n",
    "- Elements are objects that are wrap between angle brackets (<>)\n",
    "- Tags like ```<html>``` open a element and are close with ```</html>```\n",
    "- Let's break down the index.html tags\n",
    "  - ```<!DOCTYPE html>``` tells the engine the file is HTML.\n",
    "  - ```<html lang=\"en\">``` tells the engine to start reading HTML and that the HTML with be in English.\n",
    "  - ```<head>``` this is where we tell the engine to do things before the rendering anything to the page. \n",
    "  - ```<meta charset=\"UTF-8\" />``` character set the engine can render.\n",
    "  - ```<meta name=\"viewport\" content=\"width=device-width, initial-scale=1.0\" />```  the render will be scale base on the device (computer, mobile, game consoles etc...) that reads the HTML.\n",
    "  - ```<body>``` what will be rendered."
   ]
  },
  {
   "cell_type": "markdown",
   "metadata": {},
   "source": [
    "## Basic Elements\n",
    "- Everything rendered in HTML is just boxes sometimes with text inside.\n",
    "#### div\n",
    "- ```<div>``` are general purpose boxes.\n",
    "- They can be used to contain other elements and organize groups of elements."
   ]
  },
  {
   "cell_type": "markdown",
   "metadata": {},
   "source": [
    "#### headers\n",
    "- ```<h1>``` are for header text.\n",
    "- There are 6 of them \"h1\", \"h2\", \"h3\"...\n",
    "- They are for bold and larger size text by default."
   ]
  },
  {
   "cell_type": "code",
   "execution_count": null,
   "metadata": {
    "dotnet_interactive": {
     "language": "html"
    },
    "vscode": {
     "languageId": "dotnet-interactive.html"
    }
   },
   "outputs": [
    {
     "data": {
      "text/html": [
       "<h1>Header 1</h1>\n",
       "<h2>Header 2</h2>\n",
       "<h3>Header 3</h3>"
      ]
     },
     "metadata": {},
     "output_type": "display_data"
    }
   ],
   "source": [
    "<h1>Header 1</h1>\n",
    "<h2>Header 2</h2>\n",
    "<h3>Header 3</h3>"
   ]
  },
  {
   "cell_type": "markdown",
   "metadata": {},
   "source": [
    "#### p (paragraph)\n",
    "- ```<p>``` are for general text."
   ]
  },
  {
   "cell_type": "code",
   "execution_count": null,
   "metadata": {
    "dotnet_interactive": {
     "language": "html"
    },
    "vscode": {
     "languageId": "dotnet-interactive.html"
    }
   },
   "outputs": [
    {
     "data": {
      "text/html": [
       "<p>paragraph tag</p>"
      ]
     },
     "metadata": {},
     "output_type": "display_data"
    }
   ],
   "source": [
    "<p>paragraph tag</p>"
   ]
  },
  {
   "cell_type": "markdown",
   "metadata": {},
   "source": [
    "#### span\n",
    "- ```<span>``` are for contain text."
   ]
  },
  {
   "cell_type": "code",
   "execution_count": null,
   "metadata": {
    "dotnet_interactive": {
     "language": "html"
    },
    "vscode": {
     "languageId": "dotnet-interactive.html"
    }
   },
   "outputs": [
    {
     "data": {
      "text/html": [
       "<p>this is \\r a <span>span</span> example</p>"
      ]
     },
     "metadata": {},
     "output_type": "display_data"
    }
   ],
   "source": [
    "<p>this is a <span>span</span> example</p>"
   ]
  },
  {
   "cell_type": "markdown",
   "metadata": {},
   "source": [
    "#### br (break)\n",
    "- ```<br>``` are new lines for text.\n",
    "- if a tag doesn't have text or element children, it can be open in close in one tag ```<br/>``` "
   ]
  },
  {
   "cell_type": "code",
   "execution_count": null,
   "metadata": {
    "dotnet_interactive": {
     "language": "html"
    },
    "vscode": {
     "languageId": "dotnet-interactive.html"
    }
   },
   "outputs": [
    {
     "data": {
      "text/html": [
       "<p>this is<br>an<br/>example</p>"
      ]
     },
     "metadata": {},
     "output_type": "display_data"
    }
   ],
   "source": [
    "<p>this is<br>an<br/>example</p>"
   ]
  },
  {
   "cell_type": "markdown",
   "metadata": {},
   "source": [
    "## Attributes\n",
    "- Attributes is options for tags.\n",
    "- Some tags have a lot of prebuilt functionality that is accessible through they're attributes.\n",
    "#### img (image)\n",
    "- ```img``` renders image files either local or from the web.\n",
    "  -  src (source) is where we get the image file from.\n",
    "  -  alt is text that replace the image if it fails to load.\n",
    "     -  this is used for accessability."
   ]
  },
  {
   "cell_type": "code",
   "execution_count": null,
   "metadata": {
    "dotnet_interactive": {
     "language": "html"
    },
    "vscode": {
     "languageId": "dotnet-interactive.html"
    }
   },
   "outputs": [
    {
     "data": {
      "text/html": [
       "<img src=\"https://cdn.mos.cms.futurecdn.net/vChK6pTy3vN3KbYZ7UU7k3.jpg\" alt=\"kitten\">"
      ]
     },
     "metadata": {},
     "output_type": "display_data"
    }
   ],
   "source": [
    "<img src=\"https://cdn.mos.cms.futurecdn.net/vChK6pTy3vN3KbYZ7UU7k3.jpg\" alt=\"kitten\">"
   ]
  },
  {
   "cell_type": "markdown",
   "metadata": {},
   "source": [
    "#### a (anchor)\n",
    "- ```a``` send the user somewhere either somewhere on the page or another url.\n",
    "  -  href (hypertext reference) is where we send the user we they click this or it's children."
   ]
  },
  {
   "cell_type": "code",
   "execution_count": null,
   "metadata": {
    "dotnet_interactive": {
     "language": "html"
    },
    "vscode": {
     "languageId": "dotnet-interactive.html"
    }
   },
   "outputs": [
    {
     "data": {
      "text/html": [
       "<a href=\"https://coaching.healthygamer.gg/users/sign_in?type=coaching\">Stop it. Get some help</a>\n",
       "<br>\n",
       "<a href=\"https://en.wikipedia.org/wiki/Rock_(geology)\">\n",
       "\t<img src=\"https://upload.wikimedia.org/wikipedia/commons/thumb/a/aa/GabbroRockCreek1.jpg/330px-GabbroRockCreek1.jpg\" alt=\"rock\">\n",
       "</a>"
      ]
     },
     "metadata": {},
     "output_type": "display_data"
    }
   ],
   "source": [
    "<a href=\"https://coaching.healthygamer.gg/users/sign_in?type=coaching\">Stop it. Get some help</a>\n",
    "<br>\n",
    "<a href=\"https://en.wikipedia.org/wiki/Rock_(geology)\">\n",
    "\t<img src=\"https://upload.wikimedia.org/wikipedia/commons/thumb/a/aa/GabbroRockCreek1.jpg/330px-GabbroRockCreek1.jpg\" alt=\"rock\">\n",
    "</a>"
   ]
  },
  {
   "cell_type": "markdown",
   "metadata": {},
   "source": [
    "#### button\n",
    "- ```<button>``` a button\n",
    "  - onClick runs JavaScript when you click it.\n",
    "    - this is not unique to the button tag\n"
   ]
  },
  {
   "cell_type": "code",
   "execution_count": null,
   "metadata": {
    "dotnet_interactive": {
     "language": "html"
    },
    "vscode": {
     "languageId": "dotnet-interactive.html"
    }
   },
   "outputs": [
    {
     "data": {
      "text/html": [
       "<button onClick=\"console.log('Hello World')\">\n",
       "  Hello World\n",
       "</button>"
      ]
     },
     "metadata": {},
     "output_type": "display_data"
    }
   ],
   "source": [
    "<button onClick=\"console.log('Hello World')\">\n",
    "  Hello World\n",
    "</button>"
   ]
  },
  {
   "cell_type": "markdown",
   "metadata": {},
   "source": [
    "#### form, label, & input\n",
    "- ```<form>``` create a form where we can submit HTTP requests from it's input children\n",
    "  - action attribute the url we will send the request to.\n",
    "  - method attribute specifies the HTTP method of the request. (HTML form only does get and post)\n",
    "- ```<label>``` renders label a input\n",
    "- ```<input>``` renders an element users can interact with\n",
    "  - name attribute is the key for the body that will be sent with the HTTP request"
   ]
  },
  {
   "cell_type": "code",
   "execution_count": null,
   "metadata": {
    "dotnet_interactive": {
     "language": "html"
    },
    "vscode": {
     "languageId": "dotnet-interactive.html"
    }
   },
   "outputs": [
    {
     "data": {
      "text/html": [
       "<form action=\"https://sample-api-six.vercel.app/\" method=\"post\">\n",
       "\t<label>Text</label>\n",
       "\t<input type=\"text\" name=\"text\"/>\n",
       "\t<button type=\"submit\">Post</button>\n",
       "</form>"
      ]
     },
     "metadata": {},
     "output_type": "display_data"
    }
   ],
   "source": [
    "<form action=\"https://sample-api-six.vercel.app/\" method=\"post\">\n",
    "\t<label>Text</label>\n",
    "\t<input type=\"text\" name=\"text\"/>\n",
    "\t<button type=\"submit\">Post</button>\n",
    "</form>"
   ]
  },
  {
   "cell_type": "markdown",
   "metadata": {},
   "source": [
    "## Selectors\n",
    "- When we write HTML we will reuse many tags.\n",
    "- Selectors help us organize and find tags so we can change their appearance and behaviors.\n",
    "#### class\n",
    "- The class selector is a way to identify a group or multiple elements."
   ]
  },
  {
   "cell_type": "code",
   "execution_count": null,
   "metadata": {
    "dotnet_interactive": {
     "language": "html"
    },
    "vscode": {
     "languageId": "dotnet-interactive.html"
    }
   },
   "outputs": [],
   "source": [
    "<div class=\"text-container\">\n",
    "\t<p class=\"text\">howdy</p>\n",
    "</div>\n",
    "<div class=\"text-container\">\n",
    "\t<p class=\"text\">howdy</p>\n",
    "</div>\n",
    "<div class=\"text-container\">\n",
    "\t<p class=\"text\">howdy</p>\n",
    "</div>"
   ]
  },
  {
   "cell_type": "markdown",
   "metadata": {},
   "source": [
    "#### id\n",
    "- The id selector should be use to uniquely identify a single element."
   ]
  },
  {
   "cell_type": "code",
   "execution_count": null,
   "metadata": {
    "dotnet_interactive": {
     "language": "html"
    },
    "vscode": {
     "languageId": "dotnet-interactive.html"
    }
   },
   "outputs": [],
   "source": [
    "<div class=\"text-container\">\n",
    "\t<p class=\"text\">howdy</p>\n",
    "</div>\n",
    "<div class=\"text-container\">\n",
    "\t<p class=\"text\">howdy</p>\n",
    "</div>\n",
    "<div class=\"text-container\">\n",
    "\t<p class=\"text\">howdy</p>\n",
    "</div>"
   ]
  },
  {
   "cell_type": "markdown",
   "metadata": {},
   "source": [
    "## CSS\n",
    "#### Selectors"
   ]
  },
  {
   "cell_type": "code",
   "execution_count": null,
   "metadata": {
    "dotnet_interactive": {
     "language": "html"
    },
    "vscode": {
     "languageId": "dotnet-interactive.html"
    }
   },
   "outputs": [],
   "source": [
    "<div class=\"text-container\" id=\"container-1\">\n",
    "\t<p class=\"text\" id=\"howdy-1\">howdy</p>\n",
    "</div>\n",
    "<div class=\"text-container\" id=\"container-2\">\n",
    "\t<p class=\"text\" id=\"howdy-2\">howdy</p>\n",
    "</div>\n",
    "<div class=\"text-container\" id=\"container-3\">\n",
    "\t<p class=\"text\" id=\"howdy-3\">howdy</p>\n",
    "</div>"
   ]
  },
  {
   "cell_type": "markdown",
   "metadata": {},
   "source": [
    "#### properties\n",
    "- background-color"
   ]
  },
  {
   "cell_type": "markdown",
   "metadata": {},
   "source": [
    "- height & width"
   ]
  },
  {
   "cell_type": "markdown",
   "metadata": {},
   "source": [
    "- border"
   ]
  },
  {
   "cell_type": "markdown",
   "metadata": {},
   "source": [
    "- margin"
   ]
  },
  {
   "cell_type": "markdown",
   "metadata": {},
   "source": [
    "- padding"
   ]
  },
  {
   "cell_type": "markdown",
   "metadata": {},
   "source": [
    "- font\n",
    "\t- font-family\n",
    "\t- font-size\n",
    "\t- font-weight\n"
   ]
  },
  {
   "cell_type": "markdown",
   "metadata": {},
   "source": [
    "- transform\n",
    "\t- translate\n",
    "\t- rotate\n",
    "\t- scale"
   ]
  },
  {
   "cell_type": "markdown",
   "metadata": {},
   "source": [
    "- flex-box"
   ]
  },
  {
   "cell_type": "markdown",
   "metadata": {},
   "source": [
    "#### JS DOM\n",
    "- Selector"
   ]
  },
  {
   "cell_type": "markdown",
   "metadata": {},
   "source": [
    "- createElement"
   ]
  },
  {
   "cell_type": "markdown",
   "metadata": {},
   "source": [
    "- Element remove"
   ]
  },
  {
   "cell_type": "markdown",
   "metadata": {},
   "source": [
    "- event-listeners"
   ]
  }
 ],
 "metadata": {
  "kernelspec": {
   "display_name": ".NET (C#)",
   "language": "C#",
   "name": ".net-csharp"
  },
  "language_info": {
   "file_extension": ".cs",
   "mimetype": "text/x-csharp",
   "name": "C#",
   "pygments_lexer": "csharp",
   "version": "9.0"
  },
  "orig_nbformat": 4
 },
 "nbformat": 4,
 "nbformat_minor": 2
}
