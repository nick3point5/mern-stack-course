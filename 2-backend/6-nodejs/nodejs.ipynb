{
 "cells": [
  {
   "cell_type": "markdown",
   "metadata": {},
   "source": [
    "## Intro\n",
    "\n",
    "#### NodeJS\n",
    "- async\n",
    "- api\n",
    "- fetching\n",
    "- error handling\n",
    "- import\n",
    "- npm\n",
    "---"
   ]
  },
  {
   "cell_type": "markdown",
   "metadata": {},
   "source": [
    "## async\n",
    "- Most API calls will not be run immediately.\n",
    "- Some API calls could take minutes or hours.\n",
    "- Here is an example of a process that may take a while."
   ]
  },
  {
   "cell_type": "code",
   "execution_count": 2,
   "metadata": {
    "dotnet_interactive": {
     "language": "javascript"
    }
   },
   "outputs": [
    {
     "name": "stdout",
     "output_type": "stream",
     "text": [
      "default: 4.714s\n",
      "done\n"
     ]
    }
   ],
   "source": [
    "console.time()\n",
    "for (let i = 0; i < 5e9; i++) {\n",
    "\n",
    "}\n",
    "console.timeEnd()\n",
    "console.log(\"done\")"
   ]
  },
  {
   "cell_type": "markdown",
   "metadata": {},
   "source": [
    "- Notice that we can only print done until the loop is done.\n",
    "- Node can still run code by telling it to run later\n",
    "- We can create an object from the promise class\n",
    "- Promises are functions that will run when node is not busy dealing with the rest of your code"
   ]
  },
  {
   "cell_type": "code",
   "execution_count": 3,
   "metadata": {
    "dotnet_interactive": {
     "language": "javascript"
    }
   },
   "outputs": [],
   "source": [
    "const contentCreator = new Promise((resolve) => {\n",
    "\tfunction countToBillion(name) {\n",
    "\t\tfor (let i = 0; i < 1e9; i++) {\n",
    "\t\n",
    "\t\t}\n",
    "\t\treturn ` subscribe for more ${name}`\n",
    "\t}\n",
    "\n",
    "\tresolve(countToBillion)\n",
    "})"
   ]
  },
  {
   "cell_type": "markdown",
   "metadata": {},
   "source": [
    "- You can call a promise with the \".then()\"\n",
    "- Then is a higher order function and will take a function whose input will be what the promise resolves"
   ]
  },
  {
   "cell_type": "code",
   "execution_count": 4,
   "metadata": {
    "dotnet_interactive": {
     "language": "javascript"
    }
   },
   "outputs": [
    {
     "name": "stdout",
     "output_type": "stream",
     "text": [
      "watching\n",
      "\n"
     ]
    }
   ],
   "source": [
    "contentCreator.then((response)=>{\n",
    "\t// response === countToBillion\n",
    "\tconsole.log(response(\"Mr. Beast 2.0\"))\n",
    "})\n",
    "\n",
    "console.log(\"watching\")\n",
    "console.log(\"\")"
   ]
  },
  {
   "cell_type": "markdown",
   "metadata": {},
   "source": [
    "- The values from the promise are only usable in their callback's scope.\n",
    "- .then returns another promise that can be chain with another .then\n",
    "- the callbacks input will be what the previous returned."
   ]
  },
  {
   "cell_type": "code",
   "execution_count": 5,
   "metadata": {
    "dotnet_interactive": {
     "language": "javascript"
    }
   },
   "outputs": [
    {
     "name": "stdout",
     "output_type": "stream",
     "text": [
      " subscribe for more Mr. Beast 2.0\n"
     ]
    },
    {
     "data": {
      "text/plain": [
       "Promise { <pending> }"
      ]
     },
     "execution_count": 5,
     "metadata": {},
     "output_type": "execute_result"
    }
   ],
   "source": [
    "contentCreator.then((res)=>{\n",
    "\treturn res(\"Mr. Beast 2.1\")\n",
    "}).then((res)=> {\n",
    "\tconsole.log(res)\n",
    "})\n"
   ]
  },
  {
   "cell_type": "markdown",
   "metadata": {},
   "source": [
    "## async await\n",
    "- A newer way of writing async processes is async functions"
   ]
  },
  {
   "cell_type": "code",
   "execution_count": 6,
   "metadata": {
    "dotnet_interactive": {
     "language": "javascript"
    }
   },
   "outputs": [
    {
     "name": "stdout",
     "output_type": "stream",
     "text": [
      " subscribe for more Mr. Beast 2.1\n",
      "watching\n"
     ]
    }
   ],
   "source": [
    "async function waiting() {\n",
    "\tconst countToBillion = await contentCreator\n",
    "\tconsole.log(countToBillion(\"Mr. Beast 2.2\"))\n",
    "}\n",
    "\n",
    "waiting()\n",
    "\n",
    "console.log(\"watching\")"
   ]
  },
  {
   "cell_type": "markdown",
   "metadata": {},
   "source": [
    "## api\n",
    "- An application programming interface (API) is simply just using another program in your program.\n",
    "- Node JS is a runtime that reads JavaScript and runs it on a computer.\n",
    "- We can access our computers resources using Node JS.\n",
    "- Node usually let's us use APIs by running a function.\n",
    "- console.log() is an example, We didn't make the console object or log method. The console is a program on your system."
   ]
  },
  {
   "cell_type": "code",
   "execution_count": null,
   "metadata": {},
   "outputs": [],
   "source": [
    "console.log(\"this is an API\")"
   ]
  },
  {
   "cell_type": "markdown",
   "metadata": {},
   "source": [
    "## fetching\n",
    "- "
   ]
  },
  {
   "cell_type": "code",
   "execution_count": 5,
   "metadata": {
    "dotnet_interactive": {
     "language": "javascript"
    }
   },
   "outputs": [
    {
     "data": {
      "text/plain": [
       "Promise { <pending> }"
      ]
     },
     "execution_count": 5,
     "metadata": {},
     "output_type": "execute_result"
    },
    {
     "name": "stdout",
     "output_type": "stream",
     "text": [
      "5 km SSW of P?hala, Hawaii\n",
      "Fri Jun 17 2022 19:59:32 GMT-0500 (Central Daylight Time)\n"
     ]
    }
   ],
   "source": [
    "var erfquake = async () => {\n",
    "\tconst rawData = await fetch(\"https://earthquake.usgs.gov/fdsnws/event/1/query?format=geojson&limit=1\")\n",
    "\tconst data = await rawData.json()\n",
    "\tconsole.log(data.features[0].properties.place) \n",
    "\tconsole.log(Date(data.features[0].properties.time))\n",
    "}\n",
    "\n",
    "erfquake()"
   ]
  },
  {
   "cell_type": "markdown",
   "metadata": {},
   "source": [
    "## error handling\n",
    "- "
   ]
  },
  {
   "cell_type": "code",
   "execution_count": null,
   "metadata": {
    "dotnet_interactive": {
     "language": "javascript"
    }
   },
   "outputs": [
    {
     "name": "stderr",
     "output_type": "stream",
     "text": [
      "(node:4428) ExperimentalWarning: The Fetch API is an experimental feature. This feature could change at any time\n",
      "(Use `node --trace-warnings ...` to show where the warning was created)\n",
      "TypeError: fetch failed\n",
      "    at Object.processResponse (node:internal/deps/undici/undici:5536:34)\n",
      "    at node:internal/deps/undici/undici:5858:42\n",
      "    at node:internal/process/task_queues:140:7\n",
      "    at AsyncResource.runInAsyncScope (node:async_hooks:202:9)\n",
      "    at AsyncResource.runMicrotask (node:internal/process/task_queues:137:8)"
     ]
    }
   ],
   "source": []
  },
  {
   "cell_type": "markdown",
   "metadata": {},
   "source": [
    "## import\n",
    "- "
   ]
  },
  {
   "cell_type": "code",
   "execution_count": null,
   "metadata": {
    "dotnet_interactive": {
     "language": "javascript"
    }
   },
   "outputs": [],
   "source": []
  },
  {
   "cell_type": "markdown",
   "metadata": {},
   "source": [
    "## Extra tips and tricks\n",
    "---"
   ]
  }
 ],
 "metadata": {
  "kernelspec": {
   "display_name": "JavaScript (Node.js)",
   "language": "javascript",
   "name": "javascript"
  },
  "language_info": {
   "file_extension": ".js",
   "mimetype": "application/javascript",
   "name": "javascript",
   "version": "18.3.0"
  },
  "orig_nbformat": 4
 },
 "nbformat": 4,
 "nbformat_minor": 2
}
