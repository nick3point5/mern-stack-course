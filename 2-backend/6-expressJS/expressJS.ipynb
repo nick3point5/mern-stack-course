{
 "cells": [
  {
   "cell_type": "markdown",
   "metadata": {},
   "source": [
    "## Intro\n",
    "We have seen how to use an API. Now, it's time for us to build one. We will be using coding with Express.js and Mongoose. Express.js is a backend framework for Node.js. Mongoose is an object document mapper (ODM) to access a MongoDB database. With these packages, we can create an API with JavaScript as our only language.can In this lesson, we will learn:\n",
    "\n",
    "#### Express JS\n",
    "- Installation\n",
    "- Starting server\n",
    "- Use\n",
    "- Get\n",
    "- Params\n",
    "- Post\n",
    "- Put\n",
    "- Delete\n",
    "- Router\n",
    "\n",
    "#### Mongo DB\n",
    "- Connecting local database\n",
    "- Schema\n",
    "- Find\n",
    "- Create\n",
    "- Update\n",
    "- Delete\n",
    "- Env file\n",
    "- gitignore\n",
    "- Connecting to mongo atlas\n",
    "\n",
    "#### Deploy\n",
    "- Vercel\n",
    "---"
   ]
  },
  {
   "cell_type": "markdown",
   "metadata": {},
   "source": [
    "#### Installing node packages\n",
    "---\n",
    "- First, let's start by initializing our node project from our terminal."
   ]
  },
  {
   "cell_type": "code",
   "execution_count": null,
   "metadata": {
    "dotnet_interactive": {
     "language": "pwsh"
    }
   },
   "outputs": [
    {
     "name": "stdout",
     "output_type": "stream",
     "text": [
      "\r\n",
      "    Directory: C:\\code\\teaching\\mern-stack-course\\2-backend\\6-expressJS\r\n",
      "\r\n",
      "\u001b[32;1mMode                 LastWriteTime         Length Name\u001b[0m\r\n",
      "\u001b[32;1m----                 -------------         ------ ----\u001b[0m\r\n",
      "d----           7/27/2022  4:41 PM                hit-list\r\n",
      "\r\n",
      "    Directory: C:\\code\\teaching\\mern-stack-course\\2-backend\\6-expressJS\\hit-list\r\n",
      "\r\n",
      "\u001b[32;1mMode                 LastWriteTime         Length Name\u001b[0m\r\n",
      "\u001b[32;1m----                 -------------         ------ ----\u001b[0m\r\n",
      "-a---           7/27/2022  4:41 PM              0 index.js\r\n",
      "yarn init v1.22.19\r\n",
      "warning The yes flag has been set. This will automatically answer yes to all questions, which may have security implications.\r\n",
      "success Saved package.json\r\n",
      "Done in 0.08s.\r\n",
      "\r\n"
     ]
    }
   ],
   "source": [
    "md hit-list\n",
    "cd hit-list\n",
    "ni index.js\n",
    "yarn init -y"
   ]
  },
  {
   "cell_type": "markdown",
   "metadata": {
    "dotnet_interactive": {
     "language": "pwsh"
    }
   },
   "source": [
    "- Let's install the packages we will use for this project."
   ]
  },
  {
   "cell_type": "code",
   "execution_count": null,
   "metadata": {
    "dotnet_interactive": {
     "language": "pwsh"
    }
   },
   "outputs": [
    {
     "name": "stdout",
     "output_type": "stream",
     "text": [
      "yarn add v1.22.19\r\n",
      "info No lockfile found.\r\n",
      "[1/4] Resolving packages...\r\n",
      "[2/4] Fetching packages...\r\n",
      "[3/4] Linking dependencies...\r\n",
      "[4/4] Building fresh packages...\r\n",
      "success Saved lockfile.\r\n",
      "success Saved 55 new dependencies.\r\n",
      "info Direct dependencies\r\n",
      "├─ body-parser@1.20.0\r\n",
      "├─ express@4.18.1\r\n",
      "└─ mongoose@6.5.0\r\n",
      "info All dependencies\r\n",
      "├─ @types/node@18.6.1\r\n",
      "├─ @types/webidl-conversions@6.1.1\r\n",
      "├─ @types/whatwg-url@8.2.2\r\n",
      "├─ accepts@1.3.8\r\n",
      "├─ array-flatten@1.1.1\r\n",
      "├─ base64-js@1.5.1\r\n",
      "├─ body-parser@1.20.0\r\n",
      "├─ buffer@5.7.1\r\n",
      "├─ call-bind@1.0.2\r\n",
      "├─ content-disposition@0.5.4\r\n",
      "├─ cookie-signature@1.0.6\r\n",
      "├─ cookie@0.5.0\r\n",
      "├─ denque@2.1.0\r\n",
      "├─ ee-first@1.1.1\r\n",
      "├─ express@4.18.1\r\n",
      "├─ finalhandler@1.2.0\r\n",
      "├─ forwarded@0.2.0\r\n",
      "├─ has-symbols@1.0.3\r\n",
      "├─ has@1.0.3\r\n",
      "├─ ieee754@1.2.1\r\n",
      "├─ inherits@2.0.4\r\n",
      "├─ ip@2.0.0\r\n",
      "├─ ipaddr.js@1.9.1\r\n",
      "├─ kareem@2.4.1\r\n",
      "├─ media-typer@0.3.0\r\n",
      "├─ memory-pager@1.5.0\r\n",
      "├─ merge-descriptors@1.0.1\r\n",
      "├─ methods@1.1.2\r\n",
      "├─ mime-db@1.52.0\r\n",
      "├─ mime-types@2.1.35\r\n",
      "├─ mime@1.6.0\r\n",
      "├─ mongodb-connection-string-url@2.5.3\r\n",
      "├─ mongodb@4.8.1\r\n",
      "├─ mongoose@6.5.0\r\n",
      "├─ mpath@0.9.0\r\n",
      "├─ mquery@4.0.3\r\n",
      "├─ negotiator@0.6.3\r\n",
      "├─ object-inspect@1.12.2\r\n",
      "├─ path-to-regexp@0.1.7\r\n",
      "├─ proxy-addr@2.0.7\r\n",
      "├─ punycode@2.1.1\r\n",
      "├─ safer-buffer@2.1.2\r\n",
      "├─ saslprep@1.0.3\r\n",
      "├─ serve-static@1.15.0\r\n",
      "├─ side-channel@1.0.4\r\n",
      "├─ sift@16.0.0\r\n",
      "├─ smart-buffer@4.2.0\r\n",
      "├─ socks@2.7.0\r\n",
      "├─ sparse-bitfield@3.0.3\r\n",
      "├─ toidentifier@1.0.1\r\n",
      "├─ tr46@3.0.0\r\n",
      "├─ utils-merge@1.0.1\r\n",
      "├─ vary@1.1.2\r\n",
      "├─ webidl-conversions@7.0.0\r\n",
      "└─ whatwg-url@11.0.0\r\n",
      "Done in 3.50s.\r\n",
      "yarn add v1.22.19\r\n",
      "[1/4] Resolving packages...\r\n",
      "[2/4] Fetching packages...\r\n",
      "[3/4] Linking dependencies...\r\n",
      "[4/4] Building fresh packages...\r\n",
      "success Saved lockfile.\r\n",
      "success Saved 30 new dependencies.\r\n",
      "info Direct dependencies\r\n",
      "├─ dotenv@16.0.1\r\n",
      "└─ nodemon@2.0.19\r\n",
      "info All dependencies\r\n",
      "├─ abbrev@1.1.1\r\n",
      "├─ anymatch@3.1.2\r\n",
      "├─ balanced-match@1.0.2\r\n",
      "├─ binary-extensions@2.2.0\r\n",
      "├─ brace-expansion@1.1.11\r\n",
      "├─ braces@3.0.2\r\n",
      "├─ chokidar@3.5.3\r\n",
      "├─ concat-map@0.0.1\r\n",
      "├─ dotenv@16.0.1\r\n",
      "├─ fill-range@7.0.1\r\n",
      "├─ glob-parent@5.1.2\r\n",
      "├─ has-flag@3.0.0\r\n",
      "├─ ignore-by-default@1.0.1\r\n",
      "├─ is-binary-path@2.1.0\r\n",
      "├─ is-extglob@2.1.1\r\n",
      "├─ is-glob@4.0.3\r\n",
      "├─ is-number@7.0.0\r\n",
      "├─ minimatch@3.1.2\r\n",
      "├─ nodemon@2.0.19\r\n",
      "├─ nopt@1.0.10\r\n",
      "├─ normalize-path@3.0.0\r\n",
      "├─ picomatch@2.3.1\r\n",
      "├─ pstree.remy@1.1.8\r\n",
      "├─ readdirp@3.6.0\r\n",
      "├─ semver@5.7.1\r\n",
      "├─ simple-update-notifier@1.0.7\r\n",
      "├─ supports-color@5.5.0\r\n",
      "├─ to-regex-range@5.0.1\r\n",
      "├─ touch@3.1.0\r\n",
      "└─ undefsafe@2.0.5\r\n",
      "Done in 3.96s.\r\n"
     ]
    }
   ],
   "source": [
    "yarn add express mongoose\n",
    "yarn add nodemon dotenv -D"
   ]
  },
  {
   "cell_type": "markdown",
   "metadata": {},
   "source": [
    "- Here is a quick summary of the packages we install\n",
    "  - express the API framework that lets us run a server with JavaScript.\n",
    "  - mongoose lets us make queries to our database within our JavaScript \"Object Document Mapper\"(ODM).\n",
    "  - nodemon is just reruns node every time we save changes to our files.\n",
    "  - dotenv imports strings from .env files."
   ]
  },
  {
   "cell_type": "markdown",
   "metadata": {},
   "source": [
    "- We will also be adding a couple of things to the package.json."
   ]
  },
  {
   "cell_type": "code",
   "execution_count": null,
   "metadata": {
    "dotnet_interactive": {
     "language": "javascript"
    }
   },
   "outputs": [],
   "source": [
    "{\n",
    "  \"name\": \"hit-list\",\n",
    "  \"version\": \"1.0.0\",\n",
    "  \"main\": \"index.js\",\n",
    "  \"license\": \"MIT\",\n",
    "\t\"type\": \"module\",\n",
    "\t\"scripts\": {\n",
    "\t\t\"start\": \"node index.js\",\n",
    "\t\t\"dev\": \"nodemon index.js\"\n",
    "\t},\n",
    "  \"dependencies\": {\n",
    "    \"express\": \"^4.18.1\",\n",
    "    \"mongoose\": \"^6.5.0\"\n",
    "  },\n",
    "  \"devDependencies\": {\n",
    "    \"dotenv\": \"^16.0.1\",\n",
    "    \"nodemon\": \"^2.0.19\"\n",
    "  }\n",
    "}"
   ]
  },
  {
   "cell_type": "markdown",
   "metadata": {},
   "source": [
    "- We added (\"type\": \"module\",). This lets us use es6 importing.\n",
    "- We also added some scripts, the start and dev commands."
   ]
  },
  {
   "cell_type": "markdown",
   "metadata": {},
   "source": [
    "#### Starting server\n",
    "- To start a server we must first import express."
   ]
  },
  {
   "cell_type": "code",
   "execution_count": null,
   "metadata": {
    "dotnet_interactive": {
     "language": "javascript"
    }
   },
   "outputs": [],
   "source": [
    "import express from 'express'"
   ]
  },
  {
   "cell_type": "markdown",
   "metadata": {},
   "source": [
    "- Now we start running Express and name it app."
   ]
  },
  {
   "cell_type": "code",
   "execution_count": null,
   "metadata": {
    "dotnet_interactive": {
     "language": "javascript"
    }
   },
   "outputs": [],
   "source": [
    "const app = express()"
   ]
  },
  {
   "cell_type": "markdown",
   "metadata": {},
   "source": [
    "- Now, let's open a port on our local machine (localhost) for our app will listen to.\n",
    "- A port is where the server will send and receive data."
   ]
  },
  {
   "cell_type": "code",
   "execution_count": null,
   "metadata": {
    "dotnet_interactive": {
     "language": "javascript"
    }
   },
   "outputs": [],
   "source": [
    "const PORT = 3000\n",
    "\n",
    "app.listen(PORT, () => {\n",
    "\tconsole.log('Server is running on port: ' + PORT)\n",
    "\tconsole.log('http://localhost:' + PORT)\n",
    "})"
   ]
  },
  {
   "cell_type": "markdown",
   "metadata": {},
   "source": [
    "- Now, let's start our server from the terminal."
   ]
  },
  {
   "cell_type": "code",
   "execution_count": null,
   "metadata": {
    "dotnet_interactive": {
     "language": "pwsh"
    }
   },
   "outputs": [],
   "source": [
    "yarn dev"
   ]
  },
  {
   "cell_type": "markdown",
   "metadata": {},
   "source": [
    "- We are currently running this application locally.\n",
    "- Our base domain is ```http://localhost:3000/```"
   ]
  },
  {
   "cell_type": "markdown",
   "metadata": {},
   "source": [
    "#### Get\n",
    "- Let's add a get endpoint to our server.\n",
    "- We can use the express get method.\n",
    "- It takes two arguments.\n",
    "  1) A string that will be our route.\n",
    "  2) a callback function with 2 inputs for request and response.\n",
    "    - request is an object with data that comes from the sender (client).\n",
    "    - response is an object with methods for the API to send back data.\n",
    "- The  ```res.send()``` method will send a string back to the client.\n",
    "  -  Express will automatically convert objects and HTML into strings."
   ]
  },
  {
   "cell_type": "code",
   "execution_count": null,
   "metadata": {
    "dotnet_interactive": {
     "language": "javascript"
    }
   },
   "outputs": [],
   "source": [
    "app.get(\"/\", (req, res)=> {\n",
    "\tres.send(\"hello world\")\n",
    "})"
   ]
  },
  {
   "cell_type": "markdown",
   "metadata": {},
   "source": [
    "- We can get data out of a  GET request through its URL.\n",
    "- Two ways of doing this are with params or queries."
   ]
  },
  {
   "cell_type": "markdown",
   "metadata": {},
   "source": [
    "1) params is a string after the endpoint route.\n",
    "  - We can enable URL params by adding \":variableName\" to the end of the endpoint string.\n",
    "###### *note adding URL params before other routes will take priority and may make some routes unreachable."
   ]
  },
  {
   "cell_type": "code",
   "execution_count": null,
   "metadata": {
    "dotnet_interactive": {
     "language": "javascript"
    }
   },
   "outputs": [],
   "source": [
    "// http://localhost:3000/hello%20world\n",
    "\n",
    "app.get(\"/:message\", (req, res)=> {\n",
    "\tconst {params} = req\n",
    "\tres.send(params)\n",
    "})"
   ]
  },
  {
   "cell_type": "markdown",
   "metadata": {},
   "source": [
    "  ###### *%20 means a space \" \" in http"
   ]
  },
  {
   "cell_type": "markdown",
   "metadata": {},
   "source": [
    "1) We can pull queries from the ```query``` object from the request.\n",
    "  - query is written in the URL with a \"?\" and then you label it and set a string value."
   ]
  },
  {
   "cell_type": "code",
   "execution_count": null,
   "metadata": {
    "dotnet_interactive": {
     "language": "javascript"
    }
   },
   "outputs": [],
   "source": [
    "// http://localhost:3000/?message=hello%20world\n",
    "app.get(\"/\", (req, res)=> {\n",
    "\tconst {query} = req\n",
    "\tres.send(query)\n",
    "})"
   ]
  },
  {
   "cell_type": "markdown",
   "metadata": {},
   "source": [
    "#### Post, Put, Delete\n",
    "- Similar to get, just change the app method.\n",
    "- We can chain endpoints together."
   ]
  },
  {
   "cell_type": "code",
   "execution_count": null,
   "metadata": {
    "dotnet_interactive": {
     "language": "javascript"
    }
   },
   "outputs": [],
   "source": [
    "app.post('/', (req, res) => {\n",
    "\tres.send(\"post\")\n",
    "})\n",
    ".put('/', (req, res) => {\n",
    "\tres.send(\"put\")\n",
    "})\n",
    ".delete('/', (req, res) => {\n",
    "\tres.send(\"delete\")\n",
    "})"
   ]
  },
  {
   "cell_type": "markdown",
   "metadata": {},
   "source": [
    "#### Use\n",
    "- Express lets us run something called middleware.\n",
    "- Middleware runs every time it receives a request.\n",
    "- express callbacks also have a 3rd argument ```next```\n",
    "- next is a function that will make express continue down the chain until it hits other endpoints.\n"
   ]
  },
  {
   "cell_type": "code",
   "execution_count": null,
   "metadata": {
    "dotnet_interactive": {
     "language": "javascript"
    }
   },
   "outputs": [],
   "source": [
    "app.use((req, res, next) => {\n",
    "\tconsole.log('middle ware')\n",
    "\tnext()\n",
    "})"
   ]
  },
  {
   "cell_type": "markdown",
   "metadata": {},
   "source": [
    "- We will use some built-in functions every time we get a request to convert its body into JavaScript."
   ]
  },
  {
   "cell_type": "code",
   "execution_count": null,
   "metadata": {
    "dotnet_interactive": {
     "language": "javascript"
    }
   },
   "outputs": [],
   "source": [
    "app.use(express.urlencoded({ extended: false }))\n",
    "app.use(express.json())"
   ]
  },
  {
   "cell_type": "markdown",
   "metadata": {},
   "source": [
    "- ```express.urlencoded()```, lets express read the request body string.\n",
    "  - ```{ extended: false }```, let's express handle nested objects in the body.\n",
    "- ```express.json()```, changes the request body string into a JSON object."
   ]
  },
  {
   "cell_type": "markdown",
   "metadata": {},
   "source": [
    "- Our post, put, and delete endpoints requests can now have bodies."
   ]
  },
  {
   "cell_type": "code",
   "execution_count": null,
   "metadata": {
    "dotnet_interactive": {
     "language": "javascript"
    }
   },
   "outputs": [],
   "source": [
    "app.post('/', (req, res) => {\n",
    "\tconst {body} = req\n",
    "\tres.send(body)\n",
    "})"
   ]
  },
  {
   "cell_type": "markdown",
   "metadata": {},
   "source": [
    "#### Router\n",
    "- Express lets us make a router to abstract the endpoints into another JavaScript file."
   ]
  },
  {
   "cell_type": "code",
   "execution_count": null,
   "metadata": {
    "dotnet_interactive": {
     "language": "javascript"
    }
   },
   "outputs": [],
   "source": [
    "// controllers/router.js\n",
    "import express from 'express'\n",
    "\n",
    "export const router = express.Router()\n",
    "\n",
    "router.get('/', (req, res) => {\n",
    "\tres.send(\"get\")\n",
    "})\n",
    ".post('/', (req, res) => {\n",
    "\tres.send(\"post\")\n",
    "})\n",
    ".put('/', (req, res) => {\n",
    "\tres.send(\"put\")\n",
    "})\n",
    ".delete('/', (req, res) => {\n",
    "\tres.send(\"delete\")\n",
    "})"
   ]
  },
  {
   "cell_type": "markdown",
   "metadata": {},
   "source": [
    "- We can import the routes like this."
   ]
  },
  {
   "cell_type": "code",
   "execution_count": null,
   "metadata": {
    "dotnet_interactive": {
     "language": "javascript"
    }
   },
   "outputs": [],
   "source": [
    "import express from 'express'\n",
    "import { router } from './controllers/router.js'\n",
    "\n",
    "const app = express()\n",
    "\n",
    "const PORT = 3000\n",
    "\n",
    "app.listen(PORT, () => {\n",
    "\tconsole.log('Server is running on port: ' + PORT)\n",
    "\tconsole.log('http://localhost:' + PORT)\n",
    "})\n",
    "app\n",
    "\t.use(express.urlencoded({ extended: false }))\n",
    "\t.use(express.json())\n",
    "\t.use('/', router)\n"
   ]
  },
  {
   "cell_type": "markdown",
   "metadata": {},
   "source": [
    "## Mongo DB"
   ]
  },
  {
   "cell_type": "markdown",
   "metadata": {},
   "source": [
    "#### Connecting local database\n",
    "- Database let us save data outside our application.\n",
    "- We should have a Mongo DB database installed on our system.\n",
    "- We can connect to our local database with the mongoose ODM.\n",
    "- ```mongodb://127.0.0.1:27017/``` is the default location of our local MongoDB."
   ]
  },
  {
   "cell_type": "code",
   "execution_count": null,
   "metadata": {
    "dotnet_interactive": {
     "language": "javascript"
    }
   },
   "outputs": [],
   "source": [
    "import mongoose from 'mongoose'\n",
    "\n",
    "const connectionString = 'mongodb://127.0.0.1:27017/hit-list'\n",
    "\n",
    "mongoose.connect(connectionString)\n",
    "\n",
    "mongoose.connection.on('connected', () => {\n",
    "\tconsole.log(`Mongoose connected`)\n",
    "})"
   ]
  },
  {
   "cell_type": "markdown",
   "metadata": {},
   "source": [
    "#### Models\n",
    "- We can make a blueprint (schema) for the data.\n",
    "- All the objects made with the schema will be stored in the same group (collection). \n",
    "- In the schema, we can add validation and requirements for the data to prevent bad data from coming in.\n",
    "- mongoose can create a model class from the schema to make requests to the database more simple."
   ]
  },
  {
   "cell_type": "code",
   "execution_count": null,
   "metadata": {
    "dotnet_interactive": {
     "language": "javascript"
    }
   },
   "outputs": [],
   "source": [
    "// models/Target.js\n",
    "import mongoose from 'mongoose'\n",
    "\n",
    "const Schema = mongoose.Schema\n",
    "\n",
    "const TargetSchema = new Schema(\n",
    "\t{\n",
    "\t\tname: {\n",
    "\t\t\ttype: String, // check if the data type can correct\n",
    "\t\t\trequired: true, // make property required\n",
    "\t\t\tmaxlength: 30, // make the maximum length of string 30\n",
    "\t\t},\n",
    "\t\tlocation: {\n",
    "\t\t\ttype: String,\n",
    "\t\t},\n",
    "\t\tweakness: {\n",
    "\t\t\ttype: [String], // specifies that type is an array of strings\n",
    "\t\t},\n",
    "\t\tage: {\n",
    "\t\t\ttype: Number,\n",
    "\t\t\tmax: 120, // make the max value 120\n",
    "\t\t\trequired: true,\n",
    "\t\t},\n",
    "\t\tstatus: {\n",
    "\t\t\ttype: String,\n",
    "\t\t\trequired: true,\n",
    "\t\t\tenum: ['alive', 'dead', 'unknown'], // must match one of the values in array\n",
    "\t\t\tdefault: 'alive', // make default value\n",
    "\t\t},\n",
    "\t},\n",
    "\t{ timestamps: true } // adds a creation and edit timestamp as Date objects)\n",
    ")\n",
    "\n",
    "export const Target = mongoose.model('Target', TargetSchema)"
   ]
  },
  {
   "cell_type": "markdown",
   "metadata": {},
   "source": [
    "- The data with be stored and retrieved as a JavaScript object.\n",
    "- An example of an object created from this schema will be the following:"
   ]
  },
  {
   "cell_type": "code",
   "execution_count": null,
   "metadata": {
    "dotnet_interactive": {
     "language": "javascript"
    }
   },
   "outputs": [],
   "source": [
    "Target = {\n",
    "\t_id: new ObjectId(\"62b64c47be7bfc9e375bcb60\"),\n",
    "\tname: \"Kiang-Shi\",\n",
    "\tlocation: \"Tsong Tse Manor\",\n",
    "\tweakness: [\"eggs\", \"rice\",\"peach tree wood\",\"mirrors\", \"sunlight\", \"running water\"],\n",
    "\tage: 109,\n",
    "\tstatus: \"alive\",\n",
    "\tcreatedAt: new Date(\"2022-06-24T23:44:07.388Z\"),\n",
    "\tupdatedAt: new Date(\"2022-06-24T23:44:07.388Z\"),\n",
    "}"
   ]
  },
  {
   "cell_type": "markdown",
   "metadata": {},
   "source": [
    "- Every object in the database will get a unique id (_id)\n",
    "- The id is a special mongo object, not a string.\n",
    "- The createdAt and updatedAt are Date objects, not strings."
   ]
  },
  {
   "cell_type": "markdown",
   "metadata": {},
   "source": [
    "#### Find\n",
    "- Now that we have a mongoose model, we can use its methods to query the database.\n",
    "- The model's ```find``` method is a promise that will make a Mongo query object its first argument.\n",
    "- By default, if nothing or an empty object is passed in it will return all the objects in the collection.\n",
    "- Let's create a new router for the target model.\n",
    "  - Remember to import and use it inside the index.js."
   ]
  },
  {
   "cell_type": "code",
   "execution_count": null,
   "metadata": {
    "dotnet_interactive": {
     "language": "javascript"
    }
   },
   "outputs": [],
   "source": [
    "// controllers/targetRouter.js\n",
    "import express from 'express'\n",
    "import { Target } from '../models/Target.js'\n",
    "\n",
    "export const targetRouter = express.Router()\n",
    "\n",
    "targetRouter.get('/', async (req, res) => {\n",
    "\tconst { query } = req\n",
    "\n",
    "\tconst obj = await Target.find(query)\n",
    "\n",
    "\tres.json(obj)\n",
    "})"
   ]
  },
  {
   "cell_type": "markdown",
   "metadata": {},
   "source": [
    "###### *We are using the res.json() a specify the API responses with a JSON. This is more secure and a bit easier to read."
   ]
  },
  {
   "cell_type": "markdown",
   "metadata": {
    "dotnet_interactive": {
     "language": "javascript"
    }
   },
   "source": [
    "- The model's ```findById``` method will try to find the entry with a string of the id."
   ]
  },
  {
   "cell_type": "code",
   "execution_count": null,
   "metadata": {
    "dotnet_interactive": {
     "language": "javascript"
    }
   },
   "outputs": [],
   "source": [
    "targetRouter.get('/', async (req, res) => {\n",
    "\tconst { id } = req.params\n",
    "\n",
    "\tconst obj = await Target.findById(id)\n",
    "\n",
    "\tres.json(obj)\n",
    "})"
   ]
  },
  {
   "cell_type": "markdown",
   "metadata": {},
   "source": [
    "#### Create\n",
    "- The model's ```create``` method is a promise that takes a JavaScript object and tries to create an entry into the database\n",
    "- If it passes validation, it will be posted to the database."
   ]
  },
  {
   "cell_type": "code",
   "execution_count": null,
   "metadata": {
    "dotnet_interactive": {
     "language": "javascript"
    }
   },
   "outputs": [],
   "source": [
    "targetRouter.post('/', async (req, res) => {\n",
    "\tconst objData = req.body\n",
    "\n",
    "\tconst obj = await Target.create(objData)\n",
    "\n",
    "\tres.json(obj)\n",
    "})"
   ]
  },
  {
   "cell_type": "markdown",
   "metadata": {},
   "source": [
    "#### Update\n",
    "- The model's ```findByIdAndUpdate``` method takes an id and JavaScript object and updates the object to the database.\n",
    "- We are adding a 3rd argument ```{ new: true }``` to return the new updated target instead target before the update."
   ]
  },
  {
   "cell_type": "code",
   "execution_count": null,
   "metadata": {
    "dotnet_interactive": {
     "language": "javascript"
    }
   },
   "outputs": [],
   "source": [
    "targetRouter.put('/', async (req, res) => {\n",
    "\tconst { id, updateObj } = req.body\n",
    "\n",
    "\tconst obj = await Target.findByIdAndUpdate(id, updateObj, { new: true })\n",
    "\n",
    "\tres.json(obj)\n",
    "})"
   ]
  },
  {
   "cell_type": "markdown",
   "metadata": {},
   "source": [
    "#### Delete\n",
    "- The ```findByIdAndDelete``` method takes an id and deletes the object from the database."
   ]
  },
  {
   "cell_type": "code",
   "execution_count": null,
   "metadata": {
    "dotnet_interactive": {
     "language": "javascript"
    }
   },
   "outputs": [],
   "source": [
    "targetRouter.delete(\"/\", async (req, res) => {\n",
    "\tconst { id } = req.body\n",
    "\n",
    "\tconst obj = await Target.findByIdAndDelete(id)\n",
    "\n",
    "\tres.json(obj)\n",
    "})"
   ]
  },
  {
   "cell_type": "markdown",
   "metadata": {},
   "source": [
    "###### *Normally, you probably want to add a secret code in the body or authentication before accessing some or all of these methods."
   ]
  },
  {
   "cell_type": "markdown",
   "metadata": {},
   "source": [
    "#### Env file\n",
    "- Process environment variables are variables that are only available from the server running the application.\n",
    "- This is a good place to store sensitive data.\n",
    "- We can simulate process environment variables with the dotenv package.\n",
    "- Environment variables are strings found in the .env file.\n",
    "- It's a convention to name these all caps and snake cases."
   ]
  },
  {
   "cell_type": "code",
   "execution_count": null,
   "metadata": {
    "dotnet_interactive": {
     "language": "javascript"
    }
   },
   "outputs": [],
   "source": [
    "//.env\n",
    "HELLO_WORLD = \"hello world\""
   ]
  },
  {
   "cell_type": "code",
   "execution_count": null,
   "metadata": {
    "dotnet_interactive": {
     "language": "javascript"
    }
   },
   "outputs": [],
   "source": [
    "//index.js\n",
    "import dotenv from 'dotenv'\n",
    "dotenv.config()\n",
    "\n",
    "console.log(process.env.HELLO_WORLD)"
   ]
  },
  {
   "cell_type": "markdown",
   "metadata": {},
   "source": [
    "- Let's also create a .gitignore to not accidentally push the node_modules and .env"
   ]
  },
  {
   "cell_type": "code",
   "execution_count": null,
   "metadata": {
    "dotnet_interactive": {
     "language": "javascript"
    }
   },
   "outputs": [],
   "source": [
    "// .gitignore\n",
    "node_modules/\n",
    ".env"
   ]
  },
  {
   "cell_type": "markdown",
   "metadata": {},
   "source": [
    "#### Connecting to MongoDB atlas\n",
    "- [MongoDB atlas](https://cloud.mongodb.com/) is a cloud database.\n",
    "- If you don't have an account, make one free account [here](https://www.mongodb.com/cloud/atlas/register).\n",
    "- Let's make a new project. \n",
    "\n",
    "![](../../assets/images/express/create-project.png)\n",
    "- Let's make a new database. \n",
    "\n",
    "![](../../assets/images/express/create-project.png)\n",
    "- We are gonna pick a free plan. \n",
    "\n",
    "![](../../assets/images/express/choose-plan.png)\n",
    "- Next, let's create a cluster. \n",
    "\n",
    "![](../../assets/images/express/create-cluster.png)\n",
    "- While it builds, let's allow the database to be accessed by external servers. \n",
    "- 0.0.0.0/0 means any IP address can use the database. \n",
    "\n",
    "![](../../assets/images/express/whitelist-ip.png)\n",
    "- Now, let's get the MongoDB Atlas connection string.\n",
    "\n",
    "![](../../assets/images/express/find-connect.png)\n",
    "![](../../assets/images/express/get-connection-string.png)\n",
    "![](../../assets/images/express/connection-string.png)"
   ]
  },
  {
   "cell_type": "markdown",
   "metadata": {},
   "source": [
    "- Copy the string and put it in the .env file.\n",
    "- Replace the ```<password>``` with your user password."
   ]
  },
  {
   "cell_type": "code",
   "execution_count": null,
   "metadata": {
    "dotnet_interactive": {
     "language": "javascript"
    }
   },
   "outputs": [],
   "source": [
    "// .env\n",
    "MONGO_CONNECTION_STRING = mongodb+srv://nick3point5:<password>@cluster0.hazkl.mongodb.net/hit-list?retryWrites=true&w=majority"
   ]
  },
  {
   "cell_type": "markdown",
   "metadata": {},
   "source": [
    "- Now just add the connection string and now mongoose connects to the cloud."
   ]
  },
  {
   "cell_type": "code",
   "execution_count": null,
   "metadata": {
    "dotnet_interactive": {
     "language": "javascript"
    }
   },
   "outputs": [],
   "source": [
    "//index.js\n",
    "const connectionString = process.env.MONGO_CONNECTION_STRING || 'mongodb://127.0.0.1:27017/hit-list'\n"
   ]
  },
  {
   "cell_type": "markdown",
   "metadata": {},
   "source": [
    "## Deploy\n",
    "- Let's deploy our API on Vercel.\n",
    "- All we need to do is add a vercel.json with a build command."
   ]
  },
  {
   "cell_type": "code",
   "execution_count": null,
   "metadata": {
    "dotnet_interactive": {
     "language": "javascript"
    }
   },
   "outputs": [],
   "source": [
    "// vercel.json\n",
    "{\n",
    "\t\"builds\": [\n",
    "\t\t{\n",
    "\t\t\t\"src\": \"./index.js\",\n",
    "\t\t\t\"use\": \"@vercel/node\"\n",
    "\t\t}\n",
    "\t]\n",
    "}"
   ]
  },
  {
   "cell_type": "markdown",
   "metadata": {},
   "source": [
    "- Next create a GitHub repo."
   ]
  },
  {
   "cell_type": "code",
   "execution_count": null,
   "metadata": {
    "dotnet_interactive": {
     "language": "javascript"
    }
   },
   "outputs": [],
   "source": [
    "git init\n",
    "git add -A \n",
    "git commit -m \"deploy\"\n",
    "gh repo create  hit-list --private --source=. --remote=origin --push"
   ]
  },
  {
   "cell_type": "markdown",
   "metadata": {},
   "source": [
    "- Create a [Vercel](https://vercel.com/signup) account and link your GitHub.\n",
    "- Create a new project.\n",
    "\n",
    "![](../../assets/images/express/create-vercel-project.png)\n",
    "- Connect the repo to the server.\n",
    "\n",
    "![](../../assets/images/express/import-from-git.png)\n",
    "- Add environment variables to the server.\n",
    "\n",
    "![](../../assets/images/express/add-environment-variables.png)\n",
    "- Now we of a URL to the server.\n",
    "\n",
    "![](../../assets/images/express/add-environment-variables.png)\n",
    "\n",
    "- That's it anybody with the link can use our API."
   ]
  },
  {
   "cell_type": "markdown",
   "metadata": {},
   "source": [
    "## Extra tips and tricks\n",
    "---"
   ]
  },
  {
   "cell_type": "markdown",
   "metadata": {},
   "source": [
    "- Express has a default error handler.\n",
    "- To use the error handler pass the error to the ```next()```"
   ]
  },
  {
   "cell_type": "code",
   "execution_count": null,
   "metadata": {
    "dotnet_interactive": {
     "language": "javascript"
    }
   },
   "outputs": [],
   "source": [
    "app.post('/', async (req, res, next) => {\n",
    "\ttry{\n",
    "\t\tconst objData = req.body\n",
    "\n",
    "\t\tconst obj = await Target.create(objData)\n",
    "\t\n",
    "\t\tres.json(obj)\n",
    "\t}\n",
    "\tcatch(error){\n",
    "\t\tnext(error)\n",
    "\t}\n",
    "})"
   ]
  },
  {
   "cell_type": "markdown",
   "metadata": {},
   "source": [
    "- We can specify status to give more info to the client with the ```res.status()```"
   ]
  },
  {
   "cell_type": "code",
   "execution_count": null,
   "metadata": {},
   "outputs": [],
   "source": [
    "app.post('/', async (req, res, next) => {\n",
    "\ttry{\n",
    "\t\tconst objData = req.body\n",
    "\n",
    "\t\tconst obj = await Target.create(objData)\n",
    "\t\n",
    "\t\tres.json(obj)\n",
    "\t}\n",
    "\tcatch(error){\n",
    "\t\tres.status(400).send(error)\n",
    "\t}\n",
    "})"
   ]
  },
  {
   "cell_type": "markdown",
   "metadata": {},
   "source": [
    "- To create multiple entries, we pass an array of objects to ```Model.insertMany()```"
   ]
  },
  {
   "cell_type": "code",
   "execution_count": null,
   "metadata": {},
   "outputs": [],
   "source": [
    "targetRouter.post('/', async (req, res) => {\n",
    "\tconst objData = [\n",
    "\t\t{\n",
    "\t\t\tname: \"baby Hitler\",\n",
    "\t\t\tage: 1,\n",
    "\t\t\tstatus: \"alive\"\n",
    "\t\t},\n",
    "\t\t{\n",
    "\t\t\tname: \"Hitler\",\n",
    "\t\t\tage: 56,\n",
    "\t\t\tstatus: \"dead\"\n",
    "\t\t},\n",
    "\t\t{\n",
    "\t\t\tname: \"God Emperor Marty\",\n",
    "\t\t\tage: 30,\n",
    "\t\t\tstatus: \"unknown\"\n",
    "\t\t},\n",
    "\t]\n",
    "\n",
    "\tconst obj = await Target.insertMany(objData)\n",
    "\n",
    "\tres.json(obj)\n",
    "})"
   ]
  },
  {
   "cell_type": "markdown",
   "metadata": {},
   "source": [
    "- To update multiple entries, we pass a query object and an object with the properties to be updated into ```Model.updateMany()```"
   ]
  },
  {
   "cell_type": "code",
   "execution_count": null,
   "metadata": {},
   "outputs": [],
   "source": [
    "targetRouter.put('/', async (req, res) => {\n",
    "\tconst query = {\n",
    "\t\tstatus: \"alive\"\n",
    "\t}\n",
    "\n",
    "\tconst updateObj = {\n",
    "\t\tstatus: \"dead\"\n",
    "\t}\n",
    "\tconst obj = await Target.updateMany(query, updateObj, { new: true })\n",
    "\n",
    "\tres.json(obj)\n",
    "})"
   ]
  },
  {
   "cell_type": "markdown",
   "metadata": {},
   "source": [
    "- To remove multiple entries, we pass a query object into ```Model.deleteMany()```"
   ]
  },
  {
   "cell_type": "code",
   "execution_count": null,
   "metadata": {},
   "outputs": [],
   "source": [
    "targetRouter.put('/', async (req, res) => {\n",
    "\tconst query = {\n",
    "\t\tstatus: \"dead\"\n",
    "\t}\n",
    "\n",
    "\tconst obj = await Target.deleteMany(query)\n",
    "\n",
    "\tres.json(obj)\n",
    "})"
   ]
  },
  {
   "cell_type": "markdown",
   "metadata": {},
   "source": [
    "- MongoDB query objects can have conditionals.\n",
    "- The following query for ages greater than 50."
   ]
  },
  {
   "cell_type": "code",
   "execution_count": null,
   "metadata": {},
   "outputs": [],
   "source": [
    "targetRouter.get('/', async (req, res) => {\n",
    "\tconst query = {\n",
    "\t\tage: { $gt: 50 },\n",
    "\t}\n",
    "\n",
    "\tconst obj = await Target.find(query)\n",
    "\n",
    "\tres.json(obj)\n",
    "})"
   ]
  },
  {
   "cell_type": "markdown",
   "metadata": {},
   "source": [
    "- Here is a list of some useful conditionals.\n",
    "  - ```$gt``` greater than\n",
    "  - ```$gte``` greater or equal to\n",
    "  - ```$lt``` lesser than\n",
    "  - ```$lte``` lesser or equal to\n",
    "  - ```$ne```  not equal to\n",
    "  - ```in``` included in passed array\n",
    "  - ```nin``` not included in passed array\n",
    "- Here is an example of ```in``` to get all alive and unknown targets."
   ]
  },
  {
   "cell_type": "code",
   "execution_count": null,
   "metadata": {},
   "outputs": [],
   "source": [
    "targetRouter.get('/', async (req, res) => {\n",
    "\tconst query = {\n",
    "\t\tstatus: { $in: ['alive','unknown'] },\n",
    "\t}\n",
    "\n",
    "\tconst obj = await Target.find(query)\n",
    "\n",
    "\tres.json(obj)\n",
    "})"
   ]
  },
  {
   "cell_type": "markdown",
   "metadata": {},
   "source": [
    "- We can also use logical conditionals for queries.\n",
    "- The example is for status = 'alive' or age > 20."
   ]
  },
  {
   "cell_type": "code",
   "execution_count": null,
   "metadata": {},
   "outputs": [],
   "source": [
    "targetRouter.get('/', async (req, res) => {\n",
    "\tconst query = {\n",
    "\t\t$or: [\n",
    "\t\t\t{ status: 'alive' }, \n",
    "\t\t\t{ age: { $gt: 20 } }\n",
    "\t\t],\n",
    "\t}\n",
    "\n",
    "\tconst obj = await Target.find(query)\n",
    "\n",
    "\tres.json(obj)\n",
    "})\n"
   ]
  },
  {
   "cell_type": "markdown",
   "metadata": {},
   "source": [
    "- Here is a list of some logical conditionals.\n",
    "  - ```$and``` matches all queries in the array\n",
    "  - ```$or``` matches at least one query in the array\n",
    "  - ```$not``` returns non-matching queries results"
   ]
  },
  {
   "cell_type": "markdown",
   "metadata": {},
   "source": [
    "- We can limit the number of results from a query by adding a ```.limit()``` to the query."
   ]
  },
  {
   "cell_type": "code",
   "execution_count": null,
   "metadata": {},
   "outputs": [],
   "source": [
    "targetRouter.get('/', async (req, res) => {\n",
    "\tconst obj = await Target.find().limit(3)\n",
    "\n",
    "\tres.json(obj)\n",
    "})\n"
   ]
  },
  {
   "cell_type": "markdown",
   "metadata": {},
   "source": [
    "- We can skip some results from a query by adding a ```.skip()``` to the query."
   ]
  },
  {
   "cell_type": "code",
   "execution_count": null,
   "metadata": {},
   "outputs": [],
   "source": [
    "targetRouter.get('/', async (req, res) => {\n",
    "\tconst obj = await Target.find().skip(3)\n",
    "\n",
    "\tres.json(obj)\n",
    "})"
   ]
  },
  {
   "cell_type": "markdown",
   "metadata": {},
   "source": [
    "## References\n",
    "Check out these resources for more.\n",
    "- [Mongoose](https://mongoosejs.com/docs/guide.html)\n",
    "- [Express](https://expressjs.com/)\n",
    "- [Vercel](https://vercel.com/)"
   ]
  }
 ],
 "metadata": {
  "kernelspec": {
   "display_name": "JavaScript (Node.js)",
   "language": "javascript",
   "name": "javascript"
  },
  "language_info": {
   "file_extension": ".cs",
   "mimetype": "text/x-csharp",
   "name": "javascript",
   "pygments_lexer": "csharp",
   "version": "9.0"
  },
  "orig_nbformat": 4
 },
 "nbformat": 4,
 "nbformat_minor": 2
}
