{
 "cells": [
  {
   "cell_type": "code",
   "execution_count": null,
   "metadata": {
    "dotnet_interactive": {
     "language": "pwsh"
    },
    "vscode": {
     "languageId": "dotnet-interactive.pwsh"
    }
   },
   "outputs": [],
   "source": [
    "cd C:\\Users\\ktt44\\Documents\\code\\teaching\\mern-stack-course\\2-backend\\6-expressJS"
   ]
  },
  {
   "cell_type": "markdown",
   "metadata": {},
   "source": [
    "## Intro\n",
    "\n",
    "#### Express JS\n",
    "- Installation\n",
    "- Starting server\n",
    "- Use\n",
    "- Get\n",
    "- Params\n",
    "- Post\n",
    "- Put\n",
    "- Delete\n",
    "- Router\n",
    "\n",
    "#### Mongo DB\n",
    "- Connecting local database\n",
    "- Schema\n",
    "- Find\n",
    "- Create\n",
    "- Update\n",
    "- Delete\n",
    "- Env file\n",
    "- Gitignore\n",
    "- Connecting to mongo atlas\n",
    "---"
   ]
  },
  {
   "cell_type": "markdown",
   "metadata": {},
   "source": [
    "#### Installing node packages\n",
    "---\n",
    "- First let's start by initializing our node project"
   ]
  },
  {
   "cell_type": "code",
   "execution_count": null,
   "metadata": {
    "dotnet_interactive": {
     "language": "pwsh"
    },
    "vscode": {
     "languageId": "dotnet-interactive.pwsh"
    }
   },
   "outputs": [
    {
     "name": "stdout",
     "output_type": "stream",
     "text": [
      "\r\n",
      "    Directory: C:\\Users\\ktt44\\Documents\\code\\teaching\\mern-stack-course\\2-backend\\6-expressJS\r\n",
      "\r\n",
      "\u001b[32;1mMode                 LastWriteTime         Length Name\u001b[0m\r\n",
      "\u001b[32;1m----                 -------------         ------ ----\u001b[0m\r\n",
      "d----           6/22/2022  4:10 PM                hit-list\r\n",
      "\r\n",
      "    Directory: \r\n",
      "C:\\Users\\ktt44\\Documents\\code\\teaching\\mern-stack-course\\2-backend\\6-expressJS\\hit-list\r\n",
      "\r\n",
      "\u001b[32;1mMode                 LastWriteTime         Length Name\u001b[0m\r\n",
      "\u001b[32;1m----                 -------------         ------ ----\u001b[0m\r\n",
      "-a---           6/22/2022  4:10 PM              0 index.js\r\n",
      "Wrote to C:\\Users\\ktt44\\Documents\\code\\teaching\\mern-stack-course\\2-backend\\6-expressJS\\hit-list\\package.json:\r\n",
      "\r\n",
      "{\r\n",
      "  \"name\": \"hit-list\",\r\n",
      "  \"version\": \"1.0.0\",\r\n",
      "  \"description\": \"\",\r\n",
      "  \"main\": \"index.js\",\r\n",
      "  \"scripts\": {\r\n",
      "    \"test\": \"echo \\\"Error: no test specified\\\" && exit 1\"\r\n",
      "  },\r\n",
      "  \"keywords\": [],\r\n",
      "  \"author\": \"\",\r\n",
      "  \"license\": \"ISC\"\r\n",
      "}\r\n",
      "\r\n",
      "\r\n",
      "\r\n"
     ]
    }
   ],
   "source": [
    "md hit-list\n",
    "cd hit-list\n",
    "ni index.js\n",
    "npm init -y"
   ]
  },
  {
   "cell_type": "markdown",
   "metadata": {
    "dotnet_interactive": {
     "language": "pwsh"
    }
   },
   "source": [
    "- Let's install our packages we will use for this project."
   ]
  },
  {
   "cell_type": "code",
   "execution_count": null,
   "metadata": {
    "dotnet_interactive": {
     "language": "pwsh"
    },
    "vscode": {
     "languageId": "dotnet-interactive.pwsh"
    }
   },
   "outputs": [
    {
     "name": "stdout",
     "output_type": "stream",
     "text": [
      "\r\n",
      "added 86 packages, and audited 87 packages in 2s\r\n",
      "\r\n",
      "11 packages are looking for funding\r\n",
      "  run `npm fund` for details\r\n",
      "\r\n",
      "found 0 vulnerabilities\r\n",
      "\r\n",
      "added 116 packages, and audited 203 packages in 2s\r\n",
      "\r\n",
      "27 packages are looking for funding\r\n",
      "  run `npm fund` for details\r\n",
      "\r\n",
      "5 moderate severity vulnerabilities\r\n",
      "\r\n",
      "To address all issues, run:\r\n",
      "  npm audit fix\r\n",
      "\r\n",
      "Run `npm audit` for details.\r\n"
     ]
    }
   ],
   "source": [
    "npm i express body-parser mongoose dotenv\n",
    "npm i nodemon"
   ]
  },
  {
   "cell_type": "markdown",
   "metadata": {},
   "source": [
    "- Here is a quick summary of the packages we install\n",
    "  - express the api framework let's us run a server with JavaScript.\n",
    "  - body-parser converts our request's body into a JavaScript object0\n",
    "  - mongoose let's us make queries to our database within our JavaScript \"Object Document Mapper\"(ODM).\n",
    "  - nodemon is just rerun node every time we save changes to our files.\n",
    "  - dotenv imports strings from .env files"
   ]
  },
  {
   "cell_type": "markdown",
   "metadata": {},
   "source": [
    "- We will also be adding a couple a things to the package.json"
   ]
  },
  {
   "cell_type": "markdown",
   "metadata": {
    "dotnet_interactive": {
     "language": "javascript"
    }
   },
   "source": [
    "```\n",
    "{\n",
    "\t\"name\": \"hit-list\",\n",
    "\t\"version\": \"1.0.0\",\n",
    "\t\"description\": \"\",\n",
    "\t\"main\": \"index.js\",\n",
    "\t\"type\": \"module\",\n",
    "\t\"scripts\": {\n",
    "\t\t\"test\": \"echo \\\"Error: no test specified\\\" && exit 1\",\n",
    "\t\t\"start\": \"node index.js\",\n",
    "\t\t\"dev\": \"nodemon index.js\"\n",
    "\t},\n",
    "\t\"keywords\": [],\n",
    "\t\"author\": \"\",\n",
    "\t\"license\": \"ISC\",\n",
    "\t\"dependencies\": {\n",
    "\t\t\"body-parser\": \"^1.20.0\",\n",
    "\t\t\"dotenv\": \"^16.0.1\",\n",
    "\t\t\"express\": \"^4.18.1\",\n",
    "\t\t\"mongoose\": \"^6.4.0\",\n",
    "\t\t\"nodemon\": \"^2.0.16\"\n",
    "\t}\n",
    "}\n",
    "```"
   ]
  },
  {
   "cell_type": "markdown",
   "metadata": {},
   "source": [
    "- We added (\"type\": \"module\",). This let's us use es6 importing.\n",
    "- In the scripts we added a start and dev commands.\n",
    "- Scripts let us run shell commands from node."
   ]
  },
  {
   "cell_type": "markdown",
   "metadata": {},
   "source": [
    "#### Starting server\n",
    "- To start a server we must first import express."
   ]
  },
  {
   "cell_type": "code",
   "execution_count": null,
   "metadata": {
    "dotnet_interactive": {
     "language": "javascript"
    },
    "vscode": {
     "languageId": "dotnet-interactive.javascript"
    }
   },
   "outputs": [],
   "source": [
    "import express from 'express'"
   ]
  },
  {
   "cell_type": "markdown",
   "metadata": {},
   "source": [
    "- Now we start run express and call it app"
   ]
  },
  {
   "cell_type": "code",
   "execution_count": null,
   "metadata": {
    "dotnet_interactive": {
     "language": "javascript"
    },
    "vscode": {
     "languageId": "dotnet-interactive.javascript"
    }
   },
   "outputs": [],
   "source": [
    "const app = express()"
   ]
  },
  {
   "cell_type": "markdown",
   "metadata": {},
   "source": [
    "- Now let's open a port for our app will listen to."
   ]
  },
  {
   "cell_type": "code",
   "execution_count": null,
   "metadata": {
    "dotnet_interactive": {
     "language": "javascript"
    },
    "vscode": {
     "languageId": "dotnet-interactive.javascript"
    }
   },
   "outputs": [],
   "source": [
    "const PORT = 3000\n",
    "\n",
    "app.listen(PORT, () => {\n",
    "\tconsole.log('Server is running on port: ' + PORT)\n",
    "})"
   ]
  },
  {
   "cell_type": "markdown",
   "metadata": {},
   "source": [
    "- Now let's start our server from the terminal."
   ]
  },
  {
   "cell_type": "code",
   "execution_count": null,
   "metadata": {
    "dotnet_interactive": {
     "language": "pwsh"
    },
    "vscode": {
     "languageId": "dotnet-interactive.pwsh"
    }
   },
   "outputs": [],
   "source": [
    "npm run dev"
   ]
  },
  {
   "cell_type": "markdown",
   "metadata": {},
   "source": [
    "#### Get\n",
    "- Let's add a get endpoint to our server.\n",
    "- We can use the express's get method.\n",
    "- It takes two arguments \n",
    "  1) A string that will be our route\n",
    "  2) a callback function with inputs for request, response\n",
    "\t\t- request is what an object that comes from the request\n",
    "\t\t- response what the API sends back"
   ]
  },
  {
   "cell_type": "code",
   "execution_count": null,
   "metadata": {
    "dotnet_interactive": {
     "language": "javascript"
    },
    "vscode": {
     "languageId": "dotnet-interactive.javascript"
    }
   },
   "outputs": [],
   "source": [
    "app.get(\"/\", (req, res)=> {\n",
    "\tres.send(\"hello world\")\n",
    "})"
   ]
  },
  {
   "cell_type": "markdown",
   "metadata": {},
   "source": [
    "- We can get data out of a get request through it's url\n",
    "- Two ways of doing this are will params or queries"
   ]
  },
  {
   "cell_type": "markdown",
   "metadata": {},
   "source": [
    "1) params is a string after the endpoint route\n",
    "  - We can enable params by adding \":variableName\" to the end of the endpoint string\n",
    "  ###### *note adding params before other routes will take priority and may make some routes unreachable"
   ]
  },
  {
   "cell_type": "code",
   "execution_count": null,
   "metadata": {
    "dotnet_interactive": {
     "language": "javascript"
    },
    "vscode": {
     "languageId": "dotnet-interactive.javascript"
    }
   },
   "outputs": [],
   "source": [
    "// http://localhost:3000/hello%20world\n",
    "\n",
    "app.get(\"/:params\", (req, res)=> {\n",
    "\tconst {params} = req.params\n",
    "\tres.send(params)\n",
    "})"
   ]
  },
  {
   "cell_type": "markdown",
   "metadata": {},
   "source": [
    "1) We can pull queries from the req.query object\n",
    "  - query are written in the url with a \"?\" and then you label it and set a string value"
   ]
  },
  {
   "cell_type": "code",
   "execution_count": null,
   "metadata": {
    "dotnet_interactive": {
     "language": "javascript"
    },
    "vscode": {
     "languageId": "dotnet-interactive.javascript"
    }
   },
   "outputs": [],
   "source": [
    "// http://localhost:3000/?message=hello%20world\n",
    "app.get(\"/\", (req, res)=> {\n",
    "\tconst {query} = req.query\n",
    "\tres.send(query)\n",
    "})"
   ]
  },
  {
   "cell_type": "markdown",
   "metadata": {},
   "source": [
    "#### Post, Put, Delete\n",
    "- Similar to get, just change the app method.\n",
    "- We can chain endpoints together."
   ]
  },
  {
   "cell_type": "code",
   "execution_count": null,
   "metadata": {
    "dotnet_interactive": {
     "language": "javascript"
    },
    "vscode": {
     "languageId": "dotnet-interactive.javascript"
    }
   },
   "outputs": [],
   "source": [
    "app.post('/', (req, res) => {\n",
    "\tres.send(\"post\")\n",
    "})\n",
    ".put('/', (req, res) => {\n",
    "\tres.send(\"put\")\n",
    "})\n",
    ".delete('/', (req, res) => {\n",
    "\tres.send(\"delete\")\n",
    "})"
   ]
  },
  {
   "cell_type": "markdown",
   "metadata": {},
   "source": [
    "#### Use\n",
    "- Express let's us run something called middleware.\n",
    "- Middle runs every time it receives a request.\n",
    "- We will import and use body parser every time we get a request to convert it's body into JavaScript."
   ]
  },
  {
   "cell_type": "code",
   "execution_count": null,
   "metadata": {
    "dotnet_interactive": {
     "language": "javascript"
    },
    "vscode": {
     "languageId": "dotnet-interactive.javascript"
    }
   },
   "outputs": [],
   "source": [
    "app.use(bodyParser.json())\n",
    "app.use(bodyParser.urlencoded({ extended: false }))"
   ]
  },
  {
   "cell_type": "markdown",
   "metadata": {},
   "source": [
    "- With body parser, we can get the request body like this"
   ]
  },
  {
   "cell_type": "code",
   "execution_count": null,
   "metadata": {
    "dotnet_interactive": {
     "language": "javascript"
    },
    "vscode": {
     "languageId": "dotnet-interactive.javascript"
    }
   },
   "outputs": [],
   "source": [
    ".post('/', (req, res) => {\n",
    "\tconst {body} = req\n",
    "\tres.send(body)\n",
    "})"
   ]
  },
  {
   "cell_type": "markdown",
   "metadata": {},
   "source": [
    "#### Router\n",
    "- "
   ]
  },
  {
   "cell_type": "code",
   "execution_count": null,
   "metadata": {
    "dotnet_interactive": {
     "language": "javascript"
    },
    "vscode": {
     "languageId": "dotnet-interactive.javascript"
    }
   },
   "outputs": [],
   "source": [
    "//router.js\n",
    "import express from 'express'\n",
    "\n",
    "export const router = express.Router()\n",
    "\n",
    "router.get('/', (req, res) => {\n",
    "\tres.send(\"get\")\n",
    "})\n",
    ".post('/', (req, res) => {\n",
    "\tres.send(\"post\")\n",
    "})\n",
    ".put('/', (req, res) => {\n",
    "\tres.send(\"put\")\n",
    "})\n",
    ".delete('/', (req, res) => {\n",
    "\tres.send(\"delete\")\n",
    "})"
   ]
  },
  {
   "cell_type": "code",
   "execution_count": null,
   "metadata": {
    "dotnet_interactive": {
     "language": "javascript"
    },
    "vscode": {
     "languageId": "dotnet-interactive.javascript"
    }
   },
   "outputs": [],
   "source": [
    "//index.js\n",
    "import express from 'express'\n",
    "import bodyParser from 'body-parser'\n",
    "import { router } from './router.js'\n",
    "\n",
    "const app = express()\n",
    "\n",
    "const PORT = 3000\n",
    "\n",
    "app.listen(PORT, () => {\n",
    "\tconsole.log('Server is running on port: ' + PORT)\n",
    "})\n",
    "app\n",
    "\t.use(bodyParser.json())\n",
    "\t.use(bodyParser.urlencoded({ extended: false }))\n",
    "\t.use('/route', router)\n"
   ]
  },
  {
   "cell_type": "markdown",
   "metadata": {},
   "source": [
    "## Mongo DB"
   ]
  },
  {
   "cell_type": "markdown",
   "metadata": {},
   "source": [
    "#### Connecting local database\n",
    "- "
   ]
  },
  {
   "cell_type": "markdown",
   "metadata": {},
   "source": [
    "#### Schema\n",
    "- "
   ]
  },
  {
   "cell_type": "markdown",
   "metadata": {},
   "source": [
    "#### Find\n",
    "- "
   ]
  },
  {
   "cell_type": "markdown",
   "metadata": {},
   "source": [
    "#### Create\n",
    "- "
   ]
  },
  {
   "cell_type": "markdown",
   "metadata": {},
   "source": [
    "#### Update\n",
    "- "
   ]
  },
  {
   "cell_type": "markdown",
   "metadata": {},
   "source": [
    "#### Delete\n",
    "- "
   ]
  },
  {
   "cell_type": "markdown",
   "metadata": {},
   "source": [
    "#### Env file & Gitignore\n",
    "- "
   ]
  },
  {
   "cell_type": "markdown",
   "metadata": {},
   "source": [
    "#### Connecting to mongo atlas\n",
    "- "
   ]
  }
 ],
 "metadata": {
  "kernelspec": {
   "display_name": ".NET (C#)",
   "language": "C#",
   "name": ".net-csharp"
  },
  "language_info": {
   "file_extension": ".cs",
   "mimetype": "text/x-csharp",
   "name": "C#",
   "pygments_lexer": "csharp",
   "version": "9.0"
  },
  "orig_nbformat": 4
 },
 "nbformat": 4,
 "nbformat_minor": 2
}
