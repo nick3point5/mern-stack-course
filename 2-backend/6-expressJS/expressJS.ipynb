{
 "cells": [
  {
   "cell_type": "markdown",
   "metadata": {},
   "source": [
    "## Intro\n",
    "\n",
    "#### Express JS\n",
    "- Installation\n",
    "- Starting server\n",
    "- Use\n",
    "- Get\n",
    "- Params\n",
    "- Post\n",
    "- Put\n",
    "- Delete\n",
    "- Router\n",
    "\n",
    "#### Mongo DB\n",
    "- Connecting local database\n",
    "- Schema\n",
    "- Find\n",
    "- Create\n",
    "- Update\n",
    "- Delete\n",
    "- Env file\n",
    "- Gitignore\n",
    "- Connecting to mongo atlas\n",
    "\n",
    "#### Deploy\n",
    "- vercel\n",
    "---"
   ]
  },
  {
   "cell_type": "markdown",
   "metadata": {},
   "source": [
    "#### Installing node packages\n",
    "---\n",
    "- First let's start by initializing our node project from our terminal."
   ]
  },
  {
   "cell_type": "code",
   "execution_count": null,
   "metadata": {
    "dotnet_interactive": {
     "language": "pwsh"
    },
    "vscode": {
     "languageId": "dotnet-interactive.pwsh"
    }
   },
   "outputs": [
    {
     "name": "stdout",
     "output_type": "stream",
     "text": [
      "\r\n",
      "    Directory: C:\\code\\teaching\\mern-stack-course\\2-backend\\6-expressJS\r\n",
      "\r\n",
      "\u001b[32;1mMode                 LastWriteTime         Length Name\u001b[0m\r\n",
      "\u001b[32;1m----                 -------------         ------ ----\u001b[0m\r\n",
      "d----           7/27/2022  4:41 PM                hit-list\r\n",
      "\r\n",
      "    Directory: C:\\code\\teaching\\mern-stack-course\\2-backend\\6-expressJS\\hit-list\r\n",
      "\r\n",
      "\u001b[32;1mMode                 LastWriteTime         Length Name\u001b[0m\r\n",
      "\u001b[32;1m----                 -------------         ------ ----\u001b[0m\r\n",
      "-a---           7/27/2022  4:41 PM              0 index.js\r\n",
      "yarn init v1.22.19\r\n",
      "warning The yes flag has been set. This will automatically answer yes to all questions, which may have security implications.\r\n",
      "success Saved package.json\r\n",
      "Done in 0.08s.\r\n",
      "\r\n"
     ]
    }
   ],
   "source": [
    "md hit-list\n",
    "cd hit-list\n",
    "ni index.js\n",
    "yarn init -y"
   ]
  },
  {
   "cell_type": "markdown",
   "metadata": {
    "dotnet_interactive": {
     "language": "pwsh"
    }
   },
   "source": [
    "- Let's install our packages we will use for this project."
   ]
  },
  {
   "cell_type": "code",
   "execution_count": null,
   "metadata": {
    "dotnet_interactive": {
     "language": "pwsh"
    },
    "vscode": {
     "languageId": "dotnet-interactive.pwsh"
    }
   },
   "outputs": [
    {
     "name": "stdout",
     "output_type": "stream",
     "text": [
      "yarn add v1.22.19\r\n",
      "info No lockfile found.\r\n",
      "[1/4] Resolving packages...\r\n",
      "[2/4] Fetching packages...\r\n",
      "[3/4] Linking dependencies...\r\n",
      "[4/4] Building fresh packages...\r\n",
      "success Saved lockfile.\r\n",
      "success Saved 55 new dependencies.\r\n",
      "info Direct dependencies\r\n",
      "├─ body-parser@1.20.0\r\n",
      "├─ express@4.18.1\r\n",
      "└─ mongoose@6.5.0\r\n",
      "info All dependencies\r\n",
      "├─ @types/node@18.6.1\r\n",
      "├─ @types/webidl-conversions@6.1.1\r\n",
      "├─ @types/whatwg-url@8.2.2\r\n",
      "├─ accepts@1.3.8\r\n",
      "├─ array-flatten@1.1.1\r\n",
      "├─ base64-js@1.5.1\r\n",
      "├─ body-parser@1.20.0\r\n",
      "├─ buffer@5.7.1\r\n",
      "├─ call-bind@1.0.2\r\n",
      "├─ content-disposition@0.5.4\r\n",
      "├─ cookie-signature@1.0.6\r\n",
      "├─ cookie@0.5.0\r\n",
      "├─ denque@2.1.0\r\n",
      "├─ ee-first@1.1.1\r\n",
      "├─ express@4.18.1\r\n",
      "├─ finalhandler@1.2.0\r\n",
      "├─ forwarded@0.2.0\r\n",
      "├─ has-symbols@1.0.3\r\n",
      "├─ has@1.0.3\r\n",
      "├─ ieee754@1.2.1\r\n",
      "├─ inherits@2.0.4\r\n",
      "├─ ip@2.0.0\r\n",
      "├─ ipaddr.js@1.9.1\r\n",
      "├─ kareem@2.4.1\r\n",
      "├─ media-typer@0.3.0\r\n",
      "├─ memory-pager@1.5.0\r\n",
      "├─ merge-descriptors@1.0.1\r\n",
      "├─ methods@1.1.2\r\n",
      "├─ mime-db@1.52.0\r\n",
      "├─ mime-types@2.1.35\r\n",
      "├─ mime@1.6.0\r\n",
      "├─ mongodb-connection-string-url@2.5.3\r\n",
      "├─ mongodb@4.8.1\r\n",
      "├─ mongoose@6.5.0\r\n",
      "├─ mpath@0.9.0\r\n",
      "├─ mquery@4.0.3\r\n",
      "├─ negotiator@0.6.3\r\n",
      "├─ object-inspect@1.12.2\r\n",
      "├─ path-to-regexp@0.1.7\r\n",
      "├─ proxy-addr@2.0.7\r\n",
      "├─ punycode@2.1.1\r\n",
      "├─ safer-buffer@2.1.2\r\n",
      "├─ saslprep@1.0.3\r\n",
      "├─ serve-static@1.15.0\r\n",
      "├─ side-channel@1.0.4\r\n",
      "├─ sift@16.0.0\r\n",
      "├─ smart-buffer@4.2.0\r\n",
      "├─ socks@2.7.0\r\n",
      "├─ sparse-bitfield@3.0.3\r\n",
      "├─ toidentifier@1.0.1\r\n",
      "├─ tr46@3.0.0\r\n",
      "├─ utils-merge@1.0.1\r\n",
      "├─ vary@1.1.2\r\n",
      "├─ webidl-conversions@7.0.0\r\n",
      "└─ whatwg-url@11.0.0\r\n",
      "Done in 3.50s.\r\n",
      "yarn add v1.22.19\r\n",
      "[1/4] Resolving packages...\r\n",
      "[2/4] Fetching packages...\r\n",
      "[3/4] Linking dependencies...\r\n",
      "[4/4] Building fresh packages...\r\n",
      "success Saved lockfile.\r\n",
      "success Saved 30 new dependencies.\r\n",
      "info Direct dependencies\r\n",
      "├─ dotenv@16.0.1\r\n",
      "└─ nodemon@2.0.19\r\n",
      "info All dependencies\r\n",
      "├─ abbrev@1.1.1\r\n",
      "├─ anymatch@3.1.2\r\n",
      "├─ balanced-match@1.0.2\r\n",
      "├─ binary-extensions@2.2.0\r\n",
      "├─ brace-expansion@1.1.11\r\n",
      "├─ braces@3.0.2\r\n",
      "├─ chokidar@3.5.3\r\n",
      "├─ concat-map@0.0.1\r\n",
      "├─ dotenv@16.0.1\r\n",
      "├─ fill-range@7.0.1\r\n",
      "├─ glob-parent@5.1.2\r\n",
      "├─ has-flag@3.0.0\r\n",
      "├─ ignore-by-default@1.0.1\r\n",
      "├─ is-binary-path@2.1.0\r\n",
      "├─ is-extglob@2.1.1\r\n",
      "├─ is-glob@4.0.3\r\n",
      "├─ is-number@7.0.0\r\n",
      "├─ minimatch@3.1.2\r\n",
      "├─ nodemon@2.0.19\r\n",
      "├─ nopt@1.0.10\r\n",
      "├─ normalize-path@3.0.0\r\n",
      "├─ picomatch@2.3.1\r\n",
      "├─ pstree.remy@1.1.8\r\n",
      "├─ readdirp@3.6.0\r\n",
      "├─ semver@5.7.1\r\n",
      "├─ simple-update-notifier@1.0.7\r\n",
      "├─ supports-color@5.5.0\r\n",
      "├─ to-regex-range@5.0.1\r\n",
      "├─ touch@3.1.0\r\n",
      "└─ undefsafe@2.0.5\r\n",
      "Done in 3.96s.\r\n"
     ]
    }
   ],
   "source": [
    "yarn add express mongoose\n",
    "yarn add nodemon dotenv -D"
   ]
  },
  {
   "cell_type": "markdown",
   "metadata": {},
   "source": [
    "- Here is a quick summary of the packages we install\n",
    "  - express the api framework let's us run a server with JavaScript.\n",
    "  - body-parser converts our request's body into a JavaScript object0\n",
    "  - mongoose let's us make queries to our database within our JavaScript \"Object Document Mapper\"(ODM).\n",
    "  - nodemon is just rerun node every time we save changes to our files.\n",
    "  - dotenv imports strings from .env files"
   ]
  },
  {
   "cell_type": "markdown",
   "metadata": {},
   "source": [
    "- We will also be adding a couple a things to the package.json"
   ]
  },
  {
   "cell_type": "code",
   "execution_count": null,
   "metadata": {
    "dotnet_interactive": {
     "language": "javascript"
    },
    "vscode": {
     "languageId": "dotnet-interactive.javascript"
    }
   },
   "outputs": [],
   "source": [
    "{\n",
    "  \"name\": \"hit-list\",\n",
    "  \"version\": \"1.0.0\",\n",
    "  \"main\": \"index.js\",\n",
    "  \"license\": \"MIT\",\n",
    "\t\"type\": \"module\",\n",
    "\t\"scripts\": {\n",
    "\t\t\"start\": \"node index.js\",\n",
    "\t\t\"dev\": \"nodemon index.js\"\n",
    "\t},\n",
    "  \"dependencies\": {\n",
    "    \"body-parser\": \"^1.20.0\",\n",
    "    \"express\": \"^4.18.1\",\n",
    "    \"mongoose\": \"^6.5.0\"\n",
    "  },\n",
    "  \"devDependencies\": {\n",
    "    \"dotenv\": \"^16.0.1\",\n",
    "    \"nodemon\": \"^2.0.19\"\n",
    "  }\n",
    "}"
   ]
  },
  {
   "cell_type": "markdown",
   "metadata": {},
   "source": [
    "- We added (\"type\": \"module\",). This let's us use es6 importing.\n",
    "- We also added some scripts, the start and dev commands."
   ]
  },
  {
   "cell_type": "markdown",
   "metadata": {},
   "source": [
    "#### Starting server\n",
    "- To start a server we must first import express."
   ]
  },
  {
   "cell_type": "code",
   "execution_count": null,
   "metadata": {
    "dotnet_interactive": {
     "language": "javascript"
    },
    "vscode": {
     "languageId": "dotnet-interactive.javascript"
    }
   },
   "outputs": [],
   "source": [
    "import express from 'express'"
   ]
  },
  {
   "cell_type": "markdown",
   "metadata": {},
   "source": [
    "- Now we start run express and call it app"
   ]
  },
  {
   "cell_type": "code",
   "execution_count": null,
   "metadata": {
    "dotnet_interactive": {
     "language": "javascript"
    },
    "vscode": {
     "languageId": "dotnet-interactive.javascript"
    }
   },
   "outputs": [],
   "source": [
    "const app = express()"
   ]
  },
  {
   "cell_type": "markdown",
   "metadata": {},
   "source": [
    "- Now let's open a port for our app will listen to.\n",
    "- A port is a where server with send and receive data."
   ]
  },
  {
   "cell_type": "code",
   "execution_count": null,
   "metadata": {
    "dotnet_interactive": {
     "language": "javascript"
    },
    "vscode": {
     "languageId": "dotnet-interactive.javascript"
    }
   },
   "outputs": [],
   "source": [
    "const PORT = 3000\n",
    "\n",
    "app.listen(PORT, () => {\n",
    "\tconsole.log('Server is running on port: ' + PORT)\n",
    "\tconsole.log('http://localhost:' + PORT)\n",
    "})"
   ]
  },
  {
   "cell_type": "markdown",
   "metadata": {},
   "source": [
    "- Now let's start our server from the terminal."
   ]
  },
  {
   "cell_type": "code",
   "execution_count": null,
   "metadata": {
    "dotnet_interactive": {
     "language": "pwsh"
    },
    "vscode": {
     "languageId": "dotnet-interactive.pwsh"
    }
   },
   "outputs": [],
   "source": [
    "yarn dev"
   ]
  },
  {
   "cell_type": "markdown",
   "metadata": {},
   "source": [
    "- The localhost just means your machine.\n",
    "- We are current running this application locally.\n",
    "- Our base domain is ```http://localhost:3000/```"
   ]
  },
  {
   "cell_type": "markdown",
   "metadata": {},
   "source": [
    "#### Get\n",
    "- Let's add a get endpoint to our server.\n",
    "- We can use the express get method.\n",
    "- It takes two arguments \n",
    "  1) A string that will be our route\n",
    "  2) a callback function with inputs for request, response\n",
    "\t\t- request is what an object that comes from the request\n",
    "\t\t- response what the API sends back"
   ]
  },
  {
   "cell_type": "code",
   "execution_count": null,
   "metadata": {
    "dotnet_interactive": {
     "language": "javascript"
    },
    "vscode": {
     "languageId": "dotnet-interactive.javascript"
    }
   },
   "outputs": [],
   "source": [
    "app.get(\"/\", (req, res)=> {\n",
    "\tres.send(\"hello world\")\n",
    "})"
   ]
  },
  {
   "cell_type": "markdown",
   "metadata": {},
   "source": [
    "- We can get data out of a get request through it's url\n",
    "- Two ways of doing this are will params or queries"
   ]
  },
  {
   "cell_type": "markdown",
   "metadata": {},
   "source": [
    "1) params is a string after the endpoint route\n",
    "  - We can enable params by adding \":variableName\" to the end of the endpoint string\n",
    "###### *note adding params before other routes will take priority and may make some routes unreachable"
   ]
  },
  {
   "cell_type": "code",
   "execution_count": null,
   "metadata": {
    "dotnet_interactive": {
     "language": "javascript"
    },
    "vscode": {
     "languageId": "dotnet-interactive.javascript"
    }
   },
   "outputs": [],
   "source": [
    "// http://localhost:3000/hello%20world\n",
    "\n",
    "app.get(\"/:message\", (req, res)=> {\n",
    "\tconst {params} = req\n",
    "\tres.send(params)\n",
    "})"
   ]
  },
  {
   "cell_type": "markdown",
   "metadata": {},
   "source": [
    "  ###### *%20 means a space \" \" in http"
   ]
  },
  {
   "cell_type": "markdown",
   "metadata": {},
   "source": [
    "1) We can pull queries from the req.query object\n",
    "  - query are written in the url with a \"?\" and then you label it and set a string value"
   ]
  },
  {
   "cell_type": "code",
   "execution_count": null,
   "metadata": {
    "dotnet_interactive": {
     "language": "javascript"
    },
    "vscode": {
     "languageId": "dotnet-interactive.javascript"
    }
   },
   "outputs": [],
   "source": [
    "// http://localhost:3000/?message=hello%20world\n",
    "app.get(\"/\", (req, res)=> {\n",
    "\tconst {query} = req\n",
    "\tres.send(query)\n",
    "})"
   ]
  },
  {
   "cell_type": "markdown",
   "metadata": {},
   "source": [
    "#### Post, Put, Delete\n",
    "- Similar to get, just change the app method.\n",
    "- We can chain endpoints together."
   ]
  },
  {
   "cell_type": "code",
   "execution_count": null,
   "metadata": {
    "dotnet_interactive": {
     "language": "javascript"
    },
    "vscode": {
     "languageId": "dotnet-interactive.javascript"
    }
   },
   "outputs": [],
   "source": [
    "app.post('/', (req, res) => {\n",
    "\tres.send(\"post\")\n",
    "})\n",
    ".put('/', (req, res) => {\n",
    "\tres.send(\"put\")\n",
    "})\n",
    ".delete('/', (req, res) => {\n",
    "\tres.send(\"delete\")\n",
    "})"
   ]
  },
  {
   "cell_type": "markdown",
   "metadata": {},
   "source": [
    "#### Use\n",
    "- Express let's us run something called middleware.\n",
    "- Middleware runs every time it receives a request.\n",
    "- express callback also have a 3rd argument next\n",
    "- next is a function that will  make express continue the down the chain until it hits an endpoints.\n"
   ]
  },
  {
   "cell_type": "code",
   "execution_count": null,
   "metadata": {
    "dotnet_interactive": {
     "language": "javascript"
    },
    "vscode": {
     "languageId": "dotnet-interactive.javascript"
    }
   },
   "outputs": [],
   "source": [
    "app.use((req, res, next) => {\n",
    "\tconsole.log('middle ware')\n",
    "\tnext()\n",
    "})"
   ]
  },
  {
   "cell_type": "markdown",
   "metadata": {},
   "source": [
    "- We will use express.urlencoded every time we get a request to convert it's body into JavaScript."
   ]
  },
  {
   "cell_type": "code",
   "execution_count": null,
   "metadata": {
    "dotnet_interactive": {
     "language": "javascript"
    },
    "vscode": {
     "languageId": "dotnet-interactive.javascript"
    }
   },
   "outputs": [],
   "source": [
    "app.use(express.json())\n",
    "app.use(express.urlencoded({ extended: false }))"
   ]
  },
  {
   "cell_type": "markdown",
   "metadata": {},
   "source": [
    "- With body parser, we can get the request body from our post, put, and delete endpoints like this."
   ]
  },
  {
   "cell_type": "code",
   "execution_count": null,
   "metadata": {
    "dotnet_interactive": {
     "language": "javascript"
    },
    "vscode": {
     "languageId": "dotnet-interactive.javascript"
    }
   },
   "outputs": [],
   "source": [
    ".post('/', (req, res) => {\n",
    "\tconst {body} = req\n",
    "\tres.send(body)\n",
    "})"
   ]
  },
  {
   "cell_type": "markdown",
   "metadata": {},
   "source": [
    "#### Router\n",
    "- Express let's us make a router to abstract the endpoints into another JavaScript file."
   ]
  },
  {
   "cell_type": "code",
   "execution_count": null,
   "metadata": {
    "dotnet_interactive": {
     "language": "javascript"
    },
    "vscode": {
     "languageId": "dotnet-interactive.javascript"
    }
   },
   "outputs": [],
   "source": [
    "// controllers/router.js\n",
    "import express from 'express'\n",
    "\n",
    "export const router = express.Router()\n",
    "\n",
    "router.get('/', (req, res) => {\n",
    "\tres.send(\"get\")\n",
    "})\n",
    ".post('/', (req, res) => {\n",
    "\tres.send(\"post\")\n",
    "})\n",
    ".put('/', (req, res) => {\n",
    "\tres.send(\"put\")\n",
    "})\n",
    ".delete('/', (req, res) => {\n",
    "\tres.send(\"delete\")\n",
    "})"
   ]
  },
  {
   "cell_type": "markdown",
   "metadata": {},
   "source": [
    "- We can import the routes like this."
   ]
  },
  {
   "cell_type": "code",
   "execution_count": null,
   "metadata": {
    "dotnet_interactive": {
     "language": "javascript"
    },
    "vscode": {
     "languageId": "dotnet-interactive.javascript"
    }
   },
   "outputs": [],
   "source": [
    "//index.js\n",
    "import express from 'express'\n",
    "import bodyParser from 'body-parser'\n",
    "import { router } from './controllers/router.js'\n",
    "\n",
    "const app = express()\n",
    "\n",
    "const PORT = 3000\n",
    "\n",
    "app.listen(PORT, () => {\n",
    "\tconsole.log('Server is running on port: ' + PORT)\n",
    "})\n",
    "app\n",
    "\t.use(bodyParser.json())\n",
    "\t.use(bodyParser.urlencoded({ extended: false }))\n",
    "\t.use('/', router)\n"
   ]
  },
  {
   "cell_type": "markdown",
   "metadata": {},
   "source": [
    "## Mongo DB"
   ]
  },
  {
   "cell_type": "markdown",
   "metadata": {},
   "source": [
    "#### Connecting local database\n",
    "- Database let us save data outside our application.\n",
    "- We should have a Mongo DB database installed on our system.\n",
    "- We can connect to our local database with the mongoose odm (object document modeler)."
   ]
  },
  {
   "cell_type": "code",
   "execution_count": null,
   "metadata": {
    "dotnet_interactive": {
     "language": "markdown"
    },
    "vscode": {
     "languageId": "dotnet-interactive.javascript"
    }
   },
   "outputs": [],
   "source": [
    "import mongoose from 'mongoose'\n",
    "\n",
    "const connectionString = 'mongodb://127.0.0.1:27017/hit-list'\n",
    "\n",
    "mongoose.connect(connectionString)\n",
    "\n",
    "mongoose.connection.on('connected', () => {\n",
    "\tconsole.log(`Mongoose connected`)\n",
    "})"
   ]
  },
  {
   "cell_type": "markdown",
   "metadata": {},
   "source": [
    "#### Models\n",
    "- We can make a blueprint (schema) for the data.\n",
    "- All the objects made with the schema will be store in the same group (collection). \n",
    "- In the schema, we can add validation and requirements for the data to prevent bad data coming in.\n",
    "- mongoose can create a model class from the schema to make requests to the database simple."
   ]
  },
  {
   "cell_type": "code",
   "execution_count": null,
   "metadata": {
    "dotnet_interactive": {
     "language": "javascript"
    },
    "vscode": {
     "languageId": "dotnet-interactive.javascript"
    }
   },
   "outputs": [],
   "source": [
    "// models/Target.js\n",
    "import mongoose from 'mongoose'\n",
    "\n",
    "const Schema = mongoose.Schema\n",
    "\n",
    "const TargetSchema = new Schema(\n",
    "\t{\n",
    "\t\tname: {\n",
    "\t\t\ttype: String, // check if the data type can correct\n",
    "\t\t\trequired: true, // make property required\n",
    "\t\t\tmaxlength: 30, // make the maximum length of string 30\n",
    "\t\t},\n",
    "\t\tlocation: {\n",
    "\t\t\ttype: String,\n",
    "\t\t},\n",
    "\t\tweakness: {\n",
    "\t\t\ttype: [String], // specifies that type is an array of strings\n",
    "\t\t},\n",
    "\t\tage: {\n",
    "\t\t\ttype: Number,\n",
    "\t\t\tmax: 120, // make the max value 120\n",
    "\t\t\trequired: true,\n",
    "\t\t},\n",
    "\t\tstatus: {\n",
    "\t\t\ttype: String,\n",
    "\t\t\trequired: true,\n",
    "\t\t\tdefault: 'alive', // make default value\n",
    "\t\t},\n",
    "\t},\n",
    "\t{ timestamps: true } // adds a creation and edit timestamp as Date objects)\n",
    ")\n",
    "\n",
    "export const Target = mongoose.model('Target', TargetSchema)"
   ]
  },
  {
   "cell_type": "markdown",
   "metadata": {},
   "source": [
    "- The data with be store and retrieved as a JavaScript object.\n",
    "- An example of an object created from this schema will be the following:"
   ]
  },
  {
   "cell_type": "code",
   "execution_count": null,
   "metadata": {
    "dotnet_interactive": {
     "language": "javascript"
    },
    "vscode": {
     "languageId": "dotnet-interactive.javascript"
    }
   },
   "outputs": [],
   "source": [
    "Target = {\n",
    "\t_id: new ObjectId(\"62b64c47be7bfc9e375bcb60\"),\n",
    "\tname: \"Kiang-Shi\",\n",
    "\tlocation: \"Tsong Tse Manor\",\n",
    "\tweakness: [\"eggs\", \"rice\",\"peach tree wood\",\"mirrors\", \"sunlight\", \"running water\"],\n",
    "\tage: 109,\n",
    "\tstatus: \"alive\",\n",
    "\tcreatedAt: new Date(\"2022-06-24T23:44:07.388Z\"),\n",
    "\tupdatedAt: new Date(\"2022-06-24T23:44:07.388Z\"),\n",
    "}"
   ]
  },
  {
   "cell_type": "markdown",
   "metadata": {},
   "source": [
    "- Every object in the database will get a unique id (_id)\n",
    "- The id is an special mongo object not a string.\n",
    "- The createdAt and updatedAt are Date objects not strings."
   ]
  },
  {
   "cell_type": "markdown",
   "metadata": {},
   "source": [
    "#### Find\n",
    "- Now that we have a mongoose model, we can use it's methods to query to the database.\n",
    "- The model's ```find``` method is a promise that will make a Mongo query object as it's first argument.\n",
    "- By default, if nothing or an empty object is passed in it will return all the objects in the collection."
   ]
  },
  {
   "cell_type": "code",
   "execution_count": null,
   "metadata": {
    "dotnet_interactive": {
     "language": "javascript"
    },
    "vscode": {
     "languageId": "dotnet-interactive.javascript"
    }
   },
   "outputs": [],
   "source": [
    "// router.js\n",
    "import { Target } from './models/Target.js'\n",
    "\n",
    "router.get(\"/\", async (req, res) => {\n",
    "\tconst filter = req.query\n",
    "\tconst obj = await Target.find(filter)\n",
    "\tres.json(obj)\n",
    "})"
   ]
  },
  {
   "cell_type": "markdown",
   "metadata": {},
   "source": [
    "###### *we are using the res.json() a specify the API responses with a JSON. This is more secure and a bit easier to read. "
   ]
  },
  {
   "cell_type": "code",
   "execution_count": null,
   "metadata": {
    "dotnet_interactive": {
     "language": "javascript"
    },
    "vscode": {
     "languageId": "dotnet-interactive.javascript"
    }
   },
   "outputs": [],
   "source": [
    "router.get(\"/:id\", async (req, res) => {\n",
    "\tconst {id}  = req.params\n",
    "\tconst obj = await Target.findById(id)\n",
    "\tres.json(obj)\n",
    "})"
   ]
  },
  {
   "cell_type": "code",
   "execution_count": null,
   "metadata": {
    "dotnet_interactive": {
     "language": "javascript"
    },
    "vscode": {
     "languageId": "dotnet-interactive.javascript"
    }
   },
   "outputs": [],
   "source": [
    "//localhost:3000/?name=dogman\n"
   ]
  },
  {
   "cell_type": "markdown",
   "metadata": {},
   "source": [
    "#### Create\n",
    "- The model's ```create``` method is a promise that take a JavaScript object and if it passes validation it will be posted to the database."
   ]
  },
  {
   "cell_type": "code",
   "execution_count": null,
   "metadata": {
    "dotnet_interactive": {
     "language": "javascript"
    },
    "vscode": {
     "languageId": "dotnet-interactive.javascript"
    }
   },
   "outputs": [],
   "source": [
    "router.post(\"/\", async (req, res) => {\n",
    "\tconst objData = req.body\n",
    "\t\n",
    "\tconst obj = await Target.create(objData)\n",
    "\tres.json(obj)\n",
    "})"
   ]
  },
  {
   "cell_type": "markdown",
   "metadata": {},
   "source": [
    "#### Update\n",
    "- The model's ```findByIdAndUpdate``` method takes an id and JavaScript object and updates the object to the database.\n",
    "- We are adding a 3rd argument ```{ new: true }``` to return the new updated target instead target before the update."
   ]
  },
  {
   "cell_type": "code",
   "execution_count": null,
   "metadata": {
    "dotnet_interactive": {
     "language": "javascript"
    },
    "vscode": {
     "languageId": "dotnet-interactive.javascript"
    }
   },
   "outputs": [],
   "source": [
    "router.put('/:id', async (req, res) => {\n",
    "\tconst { id } = req.params\n",
    "\tconst { updateObj } = req.body\n",
    "\n",
    "\tconst obj = await Target.findByIdAndUpdate(id, updateObj, { new: true })\n",
    "\n",
    "\tres.json(obj)\n",
    "})"
   ]
  },
  {
   "cell_type": "markdown",
   "metadata": {},
   "source": [
    "#### Delete\n",
    "- The ```findByIdAndDelete``` method takes an id and deletes the object from the database."
   ]
  },
  {
   "cell_type": "code",
   "execution_count": null,
   "metadata": {
    "dotnet_interactive": {
     "language": "javascript"
    },
    "vscode": {
     "languageId": "dotnet-interactive.javascript"
    }
   },
   "outputs": [],
   "source": [
    "router.delete(\"/:id\", async (req, res) => {\n",
    "\tconst { id } = req.params\n",
    "\tconst obj = await Target.findByIdAndDelete(id)\n",
    "\n",
    "\tres.json(obj)\n",
    "})"
   ]
  },
  {
   "cell_type": "markdown",
   "metadata": {},
   "source": [
    "###### *normally you probably want to add a secret code in the body or authentication before accessing some or all of these methods."
   ]
  },
  {
   "cell_type": "markdown",
   "metadata": {},
   "source": [
    "#### Env file\n",
    "- Process environment variables are variables that are only available from the server running the application.\n",
    "- This is a good place to store sensitive data.\n",
    "- We can simulate process environment variables with the dotenv package.\n",
    "- Environment variables are strings found in the .env file.\n",
    "- It's convention to name these all caps and snake case."
   ]
  },
  {
   "cell_type": "code",
   "execution_count": null,
   "metadata": {
    "dotnet_interactive": {
     "language": "javascript"
    },
    "vscode": {
     "languageId": "dotnet-interactive.javascript"
    }
   },
   "outputs": [],
   "source": [
    "//.env\n",
    "HELLO_WORLD = \"hello world\""
   ]
  },
  {
   "cell_type": "code",
   "execution_count": null,
   "metadata": {
    "dotnet_interactive": {
     "language": "javascript"
    },
    "vscode": {
     "languageId": "dotnet-interactive.javascript"
    }
   },
   "outputs": [],
   "source": [
    "//index.js\n",
    "import dotenv from 'dotenv'\n",
    "dotenv.config()\n",
    "\n",
    "console.log(process.env.HELLO_WORLD)"
   ]
  },
  {
   "cell_type": "markdown",
   "metadata": {},
   "source": [
    "- Let's also create a .gitignore to not accidentally push the node_modules and .env"
   ]
  },
  {
   "cell_type": "code",
   "execution_count": null,
   "metadata": {
    "dotnet_interactive": {
     "language": "javascript"
    },
    "vscode": {
     "languageId": "dotnet-interactive.javascript"
    }
   },
   "outputs": [],
   "source": [
    "// .gitignore\n",
    "node_modules/\n",
    ".env"
   ]
  },
  {
   "cell_type": "markdown",
   "metadata": {},
   "source": [
    "#### Connecting to MongoDB atlas\n",
    "- [MongoDB atlas](https://cloud.mongodb.com/) is a cloud database.\n",
    "- If you don't have an account, make one free account [here](https://www.mongodb.com/cloud/atlas/register).\n",
    "- Let's make a new project. \n",
    "\n",
    "![](../../assets/images/express/create-project.png)\n",
    "- Let's make a new database. \n",
    "\n",
    "![](../../assets/images/express/create-project.png)\n",
    "- We are gonna pick a free plan. \n",
    "\n",
    "![](../../assets/images/express/choose-plan.png)\n",
    "- Next let's create a cluster. \n",
    "\n",
    "![](../../assets/images/express/create-cluster.png)\n",
    "- While it builds, let's allow the database to be accessed to external servers. \n",
    "- 0.0.0.0/0 means any IP address can use the database. \n",
    "\n",
    "![](../../assets/images/express/whitelist-ip.png)\n",
    "- Now, let's get the MongoDB atlas connection string.\n",
    "\n",
    "![](../../assets/images/express/find-connect.png)\n",
    "![](../../assets/images/express/get-connection-string.png)\n",
    "![](../../assets/images/express/connection-string.png)"
   ]
  },
  {
   "cell_type": "markdown",
   "metadata": {},
   "source": [
    "- Copy the string and put it in the .env file.\n",
    "-  replace the ```<password>``` with your user password."
   ]
  },
  {
   "cell_type": "code",
   "execution_count": null,
   "metadata": {
    "dotnet_interactive": {
     "language": "javascript"
    },
    "vscode": {
     "languageId": "dotnet-interactive.javascript"
    }
   },
   "outputs": [],
   "source": [
    "// .env\n",
    "MONGO_CONNECTION_STRING = mongodb+srv://nick3point5:<password>@cluster0.hazkl.mongodb.net/hit-list?retryWrites=true&w=majority"
   ]
  },
  {
   "cell_type": "markdown",
   "metadata": {},
   "source": [
    "- Now just add connection string and now mongoose connects to the cloud."
   ]
  },
  {
   "cell_type": "code",
   "execution_count": null,
   "metadata": {
    "dotnet_interactive": {
     "language": "javascript"
    },
    "vscode": {
     "languageId": "dotnet-interactive.javascript"
    }
   },
   "outputs": [],
   "source": [
    "//index.js\n",
    "const connectionString = process.env.MONGO_CONNECTION_STRING || 'mongodb://127.0.0.1:27017/hit-list'\n"
   ]
  },
  {
   "cell_type": "markdown",
   "metadata": {},
   "source": [
    "## Deploy\n",
    "- Let's deploy our API on Vercel.\n",
    "- All we need to is add a vercel.json with a build command."
   ]
  },
  {
   "cell_type": "code",
   "execution_count": null,
   "metadata": {
    "dotnet_interactive": {
     "language": "javascript"
    },
    "vscode": {
     "languageId": "dotnet-interactive.javascript"
    }
   },
   "outputs": [],
   "source": [
    "// vercel.json\n",
    "{\n",
    "\t\"builds\": [\n",
    "\t\t{\n",
    "\t\t\t\"src\": \"./index.js\",\n",
    "\t\t\t\"use\": \"@vercel/node\"\n",
    "\t\t}\n",
    "\t]\n",
    "}"
   ]
  },
  {
   "cell_type": "markdown",
   "metadata": {},
   "source": [
    "- Next create a GitHub repo."
   ]
  },
  {
   "cell_type": "code",
   "execution_count": null,
   "metadata": {
    "dotnet_interactive": {
     "language": "javascript"
    },
    "vscode": {
     "languageId": "dotnet-interactive.javascript"
    }
   },
   "outputs": [],
   "source": [
    "git init\n",
    "git add -A \n",
    "git commit -m \"deploy\"\n",
    "gh repo create  hit-list --private --source=. --remote=origin --push"
   ]
  },
  {
   "cell_type": "markdown",
   "metadata": {},
   "source": [
    "- Create a [Vercel](https://vercel.com/signup) account and link your GitHub.\n",
    "- Create a new project\n",
    "\n",
    "- ![](../../assets/images/express/create-vercel-project.png)\n",
    "- Connect the repo to the server\n",
    "\n",
    "- ![](../../assets/images/express/import-from-git.png)\n",
    "- Add environment variables to the server\n",
    "\n",
    "- ![](../../assets/images/express/add-environment-variables.png)\n",
    "- Server url\n",
    "\n",
    "- ![](../../assets/images/express/add-environment-variables.png)\n",
    "\n",
    "- That's it anybody with the link can use our API."
   ]
  }
 ],
 "metadata": {
  "kernelspec": {
   "display_name": ".NET (C#)",
   "language": "C#",
   "name": ".net-csharp"
  },
  "language_info": {
   "file_extension": ".cs",
   "mimetype": "text/x-csharp",
   "name": "C#",
   "pygments_lexer": "csharp",
   "version": "9.0"
  },
  "orig_nbformat": 4
 },
 "nbformat": 4,
 "nbformat_minor": 2
}
