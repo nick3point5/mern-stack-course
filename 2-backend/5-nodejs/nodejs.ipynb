{
 "cells": [
  {
   "cell_type": "markdown",
   "metadata": {},
   "source": [
    "## Intro\n",
    "\n",
    "#### NodeJS\n",
    "- async\n",
    "- api\n",
    "- fetching\n",
    "- error handling\n",
    "- import\n",
    "- npm\n",
    "---"
   ]
  },
  {
   "cell_type": "markdown",
   "metadata": {},
   "source": [
    "## async\n",
    "- Most API calls will not be run immediately.\n",
    "- Some API calls could take minutes or hours.\n",
    "- Here is an example of a process that may take a while."
   ]
  },
  {
   "cell_type": "code",
   "execution_count": 1,
   "metadata": {
    "dotnet_interactive": {
     "language": "javascript"
    }
   },
   "outputs": [
    {
     "name": "stdout",
     "output_type": "stream",
     "text": [
      "done\n",
      "default: 1.384ms\n"
     ]
    }
   ],
   "source": [
    "function countToFiveBillion() {\n",
    "\tfor (let i = 0; i < 5e9; i++) {\n",
    "\t}\n",
    "}\n",
    "console.time()\n",
    "console.log(\"done\")\n",
    "console.timeEnd()"
   ]
  },
  {
   "cell_type": "markdown",
   "metadata": {},
   "source": [
    "- Notice that we can only print done until the loop is done.\n",
    "- Node can still run code by telling it to run later\n",
    "- We can create an object from the promise class\n",
    "- Promises are functions that will run when node is not busy dealing with the rest of your code"
   ]
  },
  {
   "cell_type": "code",
   "execution_count": 2,
   "metadata": {
    "dotnet_interactive": {
     "language": "javascript"
    }
   },
   "outputs": [],
   "source": [
    "const contentCreator = new Promise((resolve) => {\n",
    "\tfunction countToBillion(name) {\n",
    "\t\tfor (let i = 0; i < 1e9; i++) {\n",
    "\t\t\t\n",
    "\t\t}\n",
    "\t\treturn ` subscribe for more ${name}`\n",
    "\t}\n",
    "\tresolve(countToBillion)\n",
    "})"
   ]
  },
  {
   "cell_type": "markdown",
   "metadata": {},
   "source": [
    "- You can call a promise with the \".then()\"\n",
    "- Then is a higher order function and will take a function whose input will be what the promise resolves"
   ]
  },
  {
   "cell_type": "code",
   "execution_count": 3,
   "metadata": {
    "dotnet_interactive": {
     "language": "javascript"
    }
   },
   "outputs": [
    {
     "name": "stdout",
     "output_type": "stream",
     "text": [
      "watching\n",
      "\n"
     ]
    },
    {
     "name": "stdout",
     "output_type": "stream",
     "text": [
      " subscribe for more Mr. Beast 2.0\n"
     ]
    }
   ],
   "source": [
    "const beast = contentCreator.then((response)=>{\n",
    "\t// response === countToBillion\n",
    "\tconsole.log(response(\"Mr. Beast 2.0\"))\n",
    "})\n",
    "\n",
    "console.log(\"watching\")\n",
    "console.log(\"\")"
   ]
  },
  {
   "cell_type": "markdown",
   "metadata": {},
   "source": [
    "- The values from the promise are only usable in their callback's scope.\n",
    "- .then returns another promise that can be chain with another .then\n",
    "- the callbacks input will be what the previous promise returned."
   ]
  },
  {
   "cell_type": "code",
   "execution_count": 4,
   "metadata": {
    "dotnet_interactive": {
     "language": "javascript"
    }
   },
   "outputs": [
    {
     "name": "stdout",
     "output_type": "stream",
     "text": [
      " subscribe for more Mr. Beast 2.1\n"
     ]
    }
   ],
   "source": [
    "const beast1 = contentCreator.then((res)=>{\n",
    "\treturn res(\"Mr. Beast 2.1\")\n",
    "}).then((res)=> {\n",
    "\tconsole.log(res)\n",
    "})"
   ]
  },
  {
   "cell_type": "markdown",
   "metadata": {},
   "source": [
    "## async await\n",
    "- A newer way of writing async processes is async functions\n",
    "- You must tell JavaScript that"
   ]
  },
  {
   "cell_type": "code",
   "execution_count": null,
   "metadata": {
    "dotnet_interactive": {
     "language": "javascript"
    }
   },
   "outputs": [
    {
     "name": "stdout",
     "output_type": "stream",
     "text": [
      "watching\n"
     ]
    },
    {
     "name": "stdout",
     "output_type": "stream",
     "text": [
      "\n",
      " subscribe for more Mr. Beast 2.2\n"
     ]
    }
   ],
   "source": [
    "async function beast2() {\n",
    "\tconst countToBillion = await contentCreator\n",
    "\tconsole.log(\"\")\n",
    "\tconsole.log(countToBillion(\"Mr. Beast 2.2\"))\n",
    "}\n",
    "\n",
    "beast2()\n",
    "\n",
    "console.log(\"watching\")"
   ]
  },
  {
   "cell_type": "markdown",
   "metadata": {},
   "source": [
    "- With the arrow function"
   ]
  },
  {
   "cell_type": "code",
   "execution_count": null,
   "metadata": {},
   "outputs": [
    {
     "name": "stdout",
     "output_type": "stream",
     "text": [
      "watching\n"
     ]
    },
    {
     "name": "stdout",
     "output_type": "stream",
     "text": [
      "\n",
      " subscribe for more Mr. Beast 2.3\n"
     ]
    }
   ],
   "source": [
    "const beast3 = async () => {\n",
    "\tconst countToBillion2 = await contentCreator\n",
    "\tconsole.log(\"\")\n",
    "\tconsole.log(countToBillion2(\"Mr. Beast 2.3\"))\n",
    "}\n",
    "beast3()\n",
    "\n",
    "console.log(\"watching\")"
   ]
  },
  {
   "cell_type": "markdown",
   "metadata": {},
   "source": [
    "## api\n",
    "- An application programming interface (API) is simply just using another program in your program.\n",
    "- Node JS is a runtime that reads JavaScript and runs it on a computer.\n",
    "- We can access our computers resources using Node JS.\n",
    "- Node usually let's us use APIs by running a function.\n",
    "- console.log() is an example, We didn't make the console object or log method. The console is a program on your system."
   ]
  },
  {
   "cell_type": "code",
   "execution_count": 7,
   "metadata": {},
   "outputs": [
    {
     "name": "stdout",
     "output_type": "stream",
     "text": [
      "this is an API\n"
     ]
    }
   ],
   "source": [
    "console.log(\"this is an API\")"
   ]
  },
  {
   "cell_type": "markdown",
   "metadata": {},
   "source": [
    "## fetching\n",
    "- fetch is api that will get/send data over the internet.\n",
    "- We can ask (request) a computer (server) to give us its data or modify its data.\n",
    "- The following gets the last earthquake record by the United States Geological Survey.\n",
    "###### fetch comes built in with node 18, if you are running an earlier version you will need to install and import it manually."
   ]
  },
  {
   "cell_type": "code",
   "execution_count": 10,
   "metadata": {
    "dotnet_interactive": {
     "language": "javascript"
    }
   },
   "outputs": [
    {
     "data": {
      "text/plain": [
       "Promise { <pending> }"
      ]
     },
     "execution_count": 10,
     "metadata": {},
     "output_type": "execute_result"
    },
    {
     "name": "stdout",
     "output_type": "stream",
     "text": [
      "6km NW of The Geysers, CA\n",
      "Sat Jun 18 2022 19:26:56 GMT-0500 (Central Daylight Time)\n"
     ]
    }
   ],
   "source": [
    "const erfquake = async () => {\n",
    "\tconst rawData = await fetch(\"https://earthquake.usgs.gov/fdsnws/event/1/query?format=geojson&limit=1\")\n",
    "\tconst data = await rawData.json()\n",
    "\tconst location = data.features[0].properties.place \n",
    "\tconst time = Date(data.features[0].properties.time)\n",
    "\tconsole.log(location)\n",
    "\tconsole.log(time)\n",
    "}\n",
    "\n",
    "erfquake()\n"
   ]
  },
  {
   "cell_type": "markdown",
   "metadata": {},
   "source": [
    "## http request methods\n",
    "- Most web APIs have a standard way of to ask server to do thing for us. (REST API)\n",
    "- The four main types of requests (methods) are as follows:"
   ]
  },
  {
   "cell_type": "markdown",
   "metadata": {},
   "source": [
    "1) GET (give me your data)"
   ]
  },
  {
   "cell_type": "code",
   "execution_count": null,
   "metadata": {},
   "outputs": [
    {
     "data": {
      "text/plain": [
       "Promise { <pending> }"
      ]
     },
     "execution_count": 1,
     "metadata": {},
     "output_type": "execute_result"
    },
    {
     "name": "stderr",
     "output_type": "stream",
     "text": [
      "(node:23704) ExperimentalWarning: The Fetch API is an experimental feature. This feature could change at any time\n",
      "(Use `node --trace-warnings ...` to show where the warning was created)\n"
     ]
    },
    {
     "name": "stdout",
     "output_type": "stream",
     "text": [
      "[ { _id: '62aec031bf4be9cdda99ce7d', text: 'something', __v: 0 } ]\n"
     ]
    }
   ],
   "source": [
    "const get = async () => {\n",
    "\tconst rawData = await fetch(\"http://localhost:3000/\")\n",
    "\tconst data = await rawData.json()\n",
    "\treturn data\n",
    "}\n",
    "\n",
    "get().then((res) => {\n",
    "\tconsole.log(res)\n",
    "})"
   ]
  },
  {
   "cell_type": "markdown",
   "metadata": {},
   "source": [
    "2) POST (save what I give you)\n"
   ]
  },
  {
   "cell_type": "code",
   "execution_count": null,
   "metadata": {},
   "outputs": [
    {
     "data": {
      "text/plain": [
       "Promise { <pending> }"
      ]
     },
     "execution_count": 2,
     "metadata": {},
     "output_type": "execute_result"
    },
    {
     "name": "stdout",
     "output_type": "stream",
     "text": [
      "{ text: 'something', _id: '62afab2693959c7e0f051463', __v: 0 }\n"
     ]
    }
   ],
   "source": [
    "let exampleId\n",
    "const post = async () => {\n",
    "\tconst body = {\n",
    "\t\ttext: \"something\"\n",
    "\t}\n",
    "\tconst options = {\n",
    "\t\theaders: {\n",
    "      'Accept': 'application/json',\n",
    "      'Content-Type': 'application/json'\n",
    "    },\n",
    "\t\tmethod: \"POST\",\n",
    "\t\tbody: JSON.stringify(body)\n",
    "\t}\n",
    "\tconst rawData = await fetch(\"http://localhost:3000/\", options)\n",
    "\tconst data = await rawData.json()\n",
    "\treturn data\n",
    "}\n",
    "\n",
    "post().then((res) => {\n",
    "\texampleId = res._id\n",
    "\tconsole.log(res)\n",
    "})"
   ]
  },
  {
   "cell_type": "markdown",
   "metadata": {},
   "source": [
    "3) PUT (replace your data with what I give you)\n"
   ]
  },
  {
   "cell_type": "code",
   "execution_count": null,
   "metadata": {},
   "outputs": [
    {
     "data": {
      "text/plain": [
       "Promise { <pending> }"
      ]
     },
     "execution_count": 3,
     "metadata": {},
     "output_type": "execute_result"
    },
    {
     "name": "stdout",
     "output_type": "stream",
     "text": [
      "{ _id: '62afab2693959c7e0f051463', text: 'something else', __v: 0 }\n"
     ]
    }
   ],
   "source": [
    "const put = async () => {\n",
    "\tconst body = {\n",
    "\t\tid: exampleId,\n",
    "\t\ttext: \"something else\"\n",
    "\t}\n",
    "\tconst options = {\n",
    "\t\theaders: {\n",
    "      'Accept': 'application/json',\n",
    "      'Content-Type': 'application/json'\n",
    "    },\n",
    "\t\tmethod: \"PUT\",\n",
    "\t\tbody: JSON.stringify(body)\n",
    "\t}\n",
    "\tconst rawData = await fetch(\"http://localhost:3000/\", options)\n",
    "\tconst data = await rawData.json()\n",
    "\treturn data\n",
    "}\n",
    "\n",
    "put().then((res) => {\n",
    "\tconsole.log(res)\n",
    "})"
   ]
  },
  {
   "cell_type": "markdown",
   "metadata": {},
   "source": [
    "4) DELETE (delete what I tell you)"
   ]
  },
  {
   "cell_type": "code",
   "execution_count": null,
   "metadata": {},
   "outputs": [
    {
     "data": {
      "text/plain": [
       "Promise { <pending> }"
      ]
     },
     "execution_count": 4,
     "metadata": {},
     "output_type": "execute_result"
    },
    {
     "name": "stdout",
     "output_type": "stream",
     "text": [
      "{ _id: '62afab2693959c7e0f051463', text: 'something else', __v: 0 }\n"
     ]
    }
   ],
   "source": [
    "const remove = async () => {\n",
    "\tconst body = {\n",
    "\t\tid: exampleId\n",
    "\t}\n",
    "\tconst options = {\n",
    "\t\theaders: {\n",
    "      'Accept': 'application/json',\n",
    "      'Content-Type': 'application/json'\n",
    "    },\n",
    "\t\tmethod: \"DELETE\",\n",
    "\t\tbody: JSON.stringify(body)\n",
    "\t}\n",
    "\tconst rawData = await fetch(\"http://localhost:3000/\", options)\n",
    "\tconst data = await rawData.json()\n",
    "\treturn data\n",
    "}\n",
    "\n",
    "remove().then((res) => {\n",
    "\tconsole.log(res)\n",
    "})"
   ]
  },
  {
   "cell_type": "markdown",
   "metadata": {},
   "source": [
    "## error handling\n",
    "- "
   ]
  },
  {
   "cell_type": "code",
   "execution_count": null,
   "metadata": {
    "dotnet_interactive": {
     "language": "javascript"
    }
   },
   "outputs": [
    {
     "name": "stderr",
     "output_type": "stream",
     "text": [
      "(node:35164) ExperimentalWarning: The Fetch API is an experimental feature. This feature could change at any time\n",
      "(Use `node --trace-warnings ...` to show where the warning was created)\n"
     ]
    }
   ],
   "source": []
  },
  {
   "cell_type": "markdown",
   "metadata": {},
   "source": [
    "## import\n",
    "- "
   ]
  },
  {
   "cell_type": "code",
   "execution_count": null,
   "metadata": {
    "dotnet_interactive": {
     "language": "javascript"
    }
   },
   "outputs": [],
   "source": []
  },
  {
   "cell_type": "markdown",
   "metadata": {},
   "source": [
    "## Extra tips and tricks\n",
    "---"
   ]
  }
 ],
 "metadata": {
  "kernelspec": {
   "display_name": "JavaScript (Node.js)",
   "language": "javascript",
   "name": "javascript"
  },
  "language_info": {
   "file_extension": ".js",
   "mimetype": "application/javascript",
   "name": "javascript",
   "version": "18.4.0"
  },
  "orig_nbformat": 4
 },
 "nbformat": 4,
 "nbformat_minor": 2
}
