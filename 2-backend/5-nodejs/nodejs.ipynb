{
 "cells": [
  {
   "cell_type": "markdown",
   "metadata": {},
   "source": [
    "## Intro\n",
    "Now that we know some of the basics of JavaScript, let's learn about how to use code outside of a single JavaScript file. In this lesson, we will learn:\n",
    "\n",
    "#### NodeJS\n",
    "- Node.js\n",
    "- api\n",
    "- async\n",
    "- fetching\n",
    "- error handling\n",
    "- import\n",
    "- npm\n",
    "- yarn\n",
    "---"
   ]
  },
  {
   "cell_type": "markdown",
   "metadata": {},
   "source": [
    "## Node.js\n",
    "- Computer hardware only understand binary code (ones and zeroes).\n",
    "- JavaScript is made of human readable text (not just ones and zeroes).\n",
    "- Node is what's known as a runtime.\n",
    "- It reads the JavaScript and interprets it into ones and zeroes.\n",
    "- Node connects your JavaScript with system hardware (cpu, ram, storage, etc...) and operating system."
   ]
  },
  {
   "cell_type": "markdown",
   "metadata": {},
   "source": [
    "## API\n",
    "- An application programming interface (API) is simply just using another program in your program.\n",
    "- Node usually let's us use APIs by running a function.\n",
    "- console.log() is an example, We didn't make the console object or log method.\n",
    "- The console (terminal) is a program on your system.\n",
    "- console is a pre-built object in node."
   ]
  },
  {
   "cell_type": "code",
   "execution_count": 1,
   "metadata": {
    "dotnet_interactive": {
     "language": "javascript"
    }
   },
   "outputs": [
    {
     "name": "stdout",
     "output_type": "stream",
     "text": [
      "this is an API\n"
     ]
    }
   ],
   "source": [
    "console.log(\"this is an API\")"
   ]
  },
  {
   "cell_type": "markdown",
   "metadata": {},
   "source": [
    "## async\n",
    "- When node runs JavaScript it's single threaded.\n",
    "- This means it can only do one thing at a time.\n",
    "- Most API calls will not be run immediately.\n",
    "- Some API calls could take minutes or hours.\n",
    "- Here is an example of a process that may take a little while."
   ]
  },
  {
   "cell_type": "code",
   "execution_count": 2,
   "metadata": {
    "dotnet_interactive": {
     "language": "javascript"
    }
   },
   "outputs": [
    {
     "name": "stdout",
     "output_type": "stream",
     "text": [
      "start\n",
      "done\n",
      "default: 5.100s\n"
     ]
    }
   ],
   "source": [
    "function countToFiveBillion() {\n",
    "\tfor (let i = 0; i < 5e9; i++) {\n",
    "\t}\n",
    "}\n",
    "console.time()\n",
    "console.log(\"start\")\n",
    "countToFiveBillion()\n",
    "console.log(\"done\")\n",
    "console.timeEnd()"
   ]
  },
  {
   "cell_type": "markdown",
   "metadata": {},
   "source": [
    "- Notice that we can only print done until the loop is done.\n",
    "- Node can still run code by telling it to run later.\n",
    "- We can create an object from the promise class.\n",
    "- Promises are objects that will run functions when node is not busy dealing with the rest of your code."
   ]
  },
  {
   "cell_type": "code",
   "execution_count": 3,
   "metadata": {
    "dotnet_interactive": {
     "language": "javascript"
    }
   },
   "outputs": [],
   "source": [
    "const contentCreator = new Promise((resolve) => {\n",
    "\tfunction countToBillion(name) {\n",
    "\t\tconsole.log(`${name} here and I'm gonna count to a billion.`)\n",
    "\t\tfor (let i = 0; i < 1e9; i++) {\n",
    "\t\t\t\n",
    "\t\t}\n",
    "\t\treturn ` subscribe for more ${name}`\n",
    "\t}\n",
    "\tresolve(countToBillion)\n",
    "})"
   ]
  },
  {
   "cell_type": "markdown",
   "metadata": {},
   "source": [
    "- You can call a promise with the ```.then```\n",
    "- Then is a higher order function and will take a function whose input will be what the promise resolves"
   ]
  },
  {
   "cell_type": "code",
   "execution_count": 4,
   "metadata": {
    "dotnet_interactive": {
     "language": "javascript"
    }
   },
   "outputs": [
    {
     "name": "stdout",
     "output_type": "stream",
     "text": [
      "watching\n",
      "\n"
     ]
    }
   ],
   "source": [
    "contentCreator.then((response)=>{\n",
    "\t// response === countToBillion\n",
    "\tconsole.log(response(\"Mr. Beast 2.0\"))\n",
    "})\n",
    "\n",
    "console.log(\"watching\")\n",
    "console.log(\"\")"
   ]
  },
  {
   "cell_type": "markdown",
   "metadata": {},
   "source": [
    "- The values from the promise are only usable in their callback's scope.\n",
    "- ```.then``` returns another promise that can be chain with another ```.then```\n",
    "- the callbacks input will be what the previous promise returned."
   ]
  },
  {
   "cell_type": "code",
   "execution_count": 5,
   "metadata": {
    "dotnet_interactive": {
     "language": "javascript"
    }
   },
   "outputs": [
    {
     "name": "stdout",
     "output_type": "stream",
     "text": [
      " subscribe for more Mr. Beast 2.0\n"
     ]
    }
   ],
   "source": [
    "const beast1 = contentCreator.then((res)=>{\n",
    "\treturn res(\"Mr. Beast 2.1\")\n",
    "}).then((res)=> {\n",
    "\tconsole.log(res)\n",
    "})"
   ]
  },
  {
   "cell_type": "markdown",
   "metadata": {},
   "source": [
    "## async await\n",
    "- A newer way of writing async processes without ```.then``` is async functions.\n",
    "- You must tell JavaScript that the function is asynchronous with ```async``` before declaring it."
   ]
  },
  {
   "cell_type": "code",
   "execution_count": 6,
   "metadata": {
    "dotnet_interactive": {
     "language": "javascript"
    }
   },
   "outputs": [
    {
     "name": "stdout",
     "output_type": "stream",
     "text": [
      " subscribe for more Mr. Beast 2.1\n",
      "watching\n"
     ]
    }
   ],
   "source": [
    "async function beast2() {\n",
    "\tconst countToBillion = await contentCreator\n",
    "\tconst result = countToBillion(\"Mr. Beast 2.2\")\n",
    "\tconsole.log(result)\n",
    "}\n",
    "\n",
    "beast2()\n",
    "\n",
    "console.log(\"watching\")"
   ]
  },
  {
   "cell_type": "markdown",
   "metadata": {},
   "source": [
    "- With the arrow function"
   ]
  },
  {
   "cell_type": "code",
   "execution_count": 7,
   "metadata": {
    "dotnet_interactive": {
     "language": "javascript"
    }
   },
   "outputs": [
    {
     "name": "stdout",
     "output_type": "stream",
     "text": [
      " subscribe for more Mr. Beast 2.2\n",
      "watching\n"
     ]
    }
   ],
   "source": [
    "const beast3 = async () => {\n",
    "\tconst countToBillion = await contentCreator\n",
    "\tconst result = countToBillion(\"Mr. Beast 2.3\")\n",
    "\tconsole.log(result)\n",
    "}\n",
    "beast3()\n",
    "\n",
    "console.log(\"watching\")"
   ]
  },
  {
   "cell_type": "markdown",
   "metadata": {},
   "source": [
    "## fetching web api\n",
    "- fetch is api that will get/send data over the internet.\n",
    "- We can ask (request) a computer (server) to give us its data or modify its data.\n",
    "- The following gets the last earthquake record by the United States Geological Survey.\n",
    "- fetch response\n",
    "###### fetch comes built in with node 18, if you are running an earlier version you will need to install and import it manually."
   ]
  },
  {
   "cell_type": "code",
   "execution_count": 1,
   "metadata": {
    "dotnet_interactive": {
     "language": "javascript"
    }
   },
   "outputs": [
    {
     "data": {
      "text/plain": [
       "Promise { <pending> }"
      ]
     },
     "execution_count": 1,
     "metadata": {},
     "output_type": "execute_result"
    }
   ],
   "source": [
    "var earfquake = async () => {\n",
    "\tconst rawData = await fetch(\"https://earthquake.usgs.gov/fdsnws/event/1/query?format=geojson&limit=1\")\n",
    "\tconst data = await rawData.json()\n",
    "\tconst latestEarfquake = data.features[0]\n",
    "\tconst location = latestEarfquake.properties.place \n",
    "\tconst time = Date(latestEarfquake.properties.time)\n",
    "\tconsole.log(location)\n",
    "\tconsole.log(time)\n",
    "}\n",
    "\n",
    "earfquake()\n"
   ]
  },
  {
   "cell_type": "markdown",
   "metadata": {},
   "source": [
    "## http request methods\n",
    "- Most web APIs have a standard way of to ask server to do thing for us. (REST API)\n",
    "- The four main types of requests (methods) are as follows:"
   ]
  },
  {
   "cell_type": "markdown",
   "metadata": {},
   "source": [
    "1) GET (give me your data)\n",
    "   - This is the default request fetch sends"
   ]
  },
  {
   "cell_type": "code",
   "execution_count": 2,
   "metadata": {
    "dotnet_interactive": {
     "language": "javascript"
    }
   },
   "outputs": [
    {
     "data": {
      "text/plain": [
       "Promise { <pending> }"
      ]
     },
     "execution_count": 2,
     "metadata": {},
     "output_type": "execute_result"
    }
   ],
   "source": [
    "const get = async () => {\n",
    "\tconst rawData = await fetch(\"https://sample-api-six.vercel.app/\")\n",
    "\tconst data = await rawData.json()\n",
    "\treturn data\n",
    "}\n",
    "\n",
    "get().then((res) => {\n",
    "\tconsole.log(res)\n",
    "})"
   ]
  },
  {
   "cell_type": "markdown",
   "metadata": {},
   "source": [
    "2) POST (save what I give you)\n",
    "   - To tell the server you are doing a post request you have to give it an object with specific keys.\n",
    "   - The headers tell the server what we are kind of data we are going to give it.\n",
    "   - Body is a object that we are going to send to the server.\n",
    "   - The body object must be transformed into a string before it's sent."
   ]
  },
  {
   "cell_type": "code",
   "execution_count": 2,
   "metadata": {
    "dotnet_interactive": {
     "language": "javascript"
    }
   },
   "outputs": [
    {
     "data": {
      "text/plain": [
       "Promise { <pending> }"
      ]
     },
     "execution_count": 2,
     "metadata": {},
     "output_type": "execute_result"
    }
   ],
   "source": [
    "let exampleId\n",
    "const post = async () => {\n",
    "\tconst body = {\n",
    "\t\ttext: \"something\"\n",
    "\t}\n",
    "\tconst options = {\n",
    "\t\theaders: {\n",
    "      'Accept': 'application/json',\n",
    "      'Content-Type': 'application/json'\n",
    "    },\n",
    "\t\tmethod: \"POST\",\n",
    "\t\tbody: JSON.stringify(body)\n",
    "\t}\n",
    "\tconst rawData = await fetch(\"https://sample-api-six.vercel.app/\", options)\n",
    "\tconst data = await rawData.json()\n",
    "\treturn data\n",
    "}\n",
    "\n",
    "post().then((res) => {\n",
    "\texampleId = res._id\n",
    "\tconsole.log(res)\n",
    "})"
   ]
  },
  {
   "cell_type": "markdown",
   "metadata": {},
   "source": [
    "3) PUT (replace your data with what I give you)\n",
    "   - PUT the object we send will update the data we send."
   ]
  },
  {
   "cell_type": "code",
   "execution_count": 3,
   "metadata": {
    "dotnet_interactive": {
     "language": "javascript"
    }
   },
   "outputs": [
    {
     "data": {
      "text/plain": [
       "Promise { <pending> }"
      ]
     },
     "execution_count": 3,
     "metadata": {},
     "output_type": "execute_result"
    }
   ],
   "source": [
    "const put = async () => {\n",
    "\tconst body = {\n",
    "\t\tid: exampleId,\n",
    "\t\ttext: \"something else\"\n",
    "\t}\n",
    "\tconst options = {\n",
    "\t\theaders: {\n",
    "      'Accept': 'application/json',\n",
    "      'Content-Type': 'application/json'\n",
    "    },\n",
    "\t\tmethod: \"PUT\",\n",
    "\t\tbody: JSON.stringify(body)\n",
    "\t}\n",
    "\tconst rawData = await fetch(\"https://sample-api-six.vercel.app/\", options)\n",
    "\tconst data = await rawData.json()\n",
    "\treturn data\n",
    "}\n",
    "\n",
    "put().then((res) => {\n",
    "\tconsole.log(res)\n",
    "})"
   ]
  },
  {
   "cell_type": "markdown",
   "metadata": {},
   "source": [
    "4) DELETE (delete what I tell you)\n",
    "   - DELETE will remove the data we specify\n",
    "###### *normally there sure be more security like a time limited passcode or token, but for this example API there is none."
   ]
  },
  {
   "cell_type": "code",
   "execution_count": 4,
   "metadata": {
    "dotnet_interactive": {
     "language": "javascript"
    }
   },
   "outputs": [
    {
     "data": {
      "text/plain": [
       "Promise { <pending> }"
      ]
     },
     "execution_count": 4,
     "metadata": {},
     "output_type": "execute_result"
    }
   ],
   "source": [
    "const remove = async () => {\n",
    "\tconst body = {\n",
    "\t\tid: exampleId\n",
    "\t}\n",
    "\tconst options = {\n",
    "\t\theaders: {\n",
    "      'Accept': 'application/json',\n",
    "      'Content-Type': 'application/json'\n",
    "    },\n",
    "\t\tmethod: \"DELETE\",\n",
    "\t\tbody: JSON.stringify(body)\n",
    "\t}\n",
    "\tconst rawData = await fetch(\"https://sample-api-six.vercel.app/\", options)\n",
    "\tconst data = await rawData.json()\n",
    "\treturn data\n",
    "}\n",
    "\n",
    "remove().then((res) => {\n",
    "\tconsole.log(res)\n",
    "})"
   ]
  },
  {
   "cell_type": "markdown",
   "metadata": {},
   "source": [
    "## error handling\n",
    "- For many reasons APIs or your code can fail.\n",
    "- In many cases it will cause your program to crash.\n",
    "- Using a \"try catch block\" we can handle errors without causing the program to crash."
   ]
  },
  {
   "cell_type": "code",
   "execution_count": 5,
   "metadata": {
    "dotnet_interactive": {
     "language": "javascript"
    }
   },
   "outputs": [
    {
     "name": "stdout",
     "output_type": "stream",
     "text": [
      "ReferenceError: purposeOfLife is not defined\n",
      "    at evalmachine.<anonymous>:2:14\n",
      "    at Script.runInThisContext (node:vm:129:12)\n",
      "    at Object.runInThisContext (node:vm:313:38)\n",
      "    at run ([eval]:1020:15)\n",
      "    at onRunRequest ([eval]:864:18)\n",
      "    at onMessage ([eval]:828:13)\n",
      "    at process.emit (node:events:513:28)\n",
      "    at emit (node:internal/child_process:937:14)\n",
      "    at process.processTicksAndRejections (node:internal/process/task_queues:83:21)\n",
      "Doesn't matter, eat pizza.\n"
     ]
    }
   ],
   "source": [
    "try{\n",
    "\tconsole.log(purposeOfLife)\n",
    "}catch (error) {\n",
    "\tconsole.log(error)\n",
    "}\n",
    "console.log(\"Doesn't matter, eat pizza.\")"
   ]
  },
  {
   "cell_type": "markdown",
   "metadata": {},
   "source": [
    "- We can manually tell JavaScript to stop running and send an error with the \"throw\" keyword"
   ]
  },
  {
   "cell_type": "code",
   "execution_count": 14,
   "metadata": {
    "dotnet_interactive": {
     "language": "javascript"
    }
   },
   "outputs": [
    {
     "name": "stdout",
     "output_type": "stream",
     "text": [
      "no apples\n"
     ]
    }
   ],
   "source": [
    "try{\n",
    "\tconst apple = 0\n",
    "\tif(apple === 0) throw \"no apples\"\n",
    "\tconsole.log(\"we got apples\")\n",
    "}catch (error) {\n",
    "\tconsole.log(error)\n",
    "}"
   ]
  },
  {
   "cell_type": "markdown",
   "metadata": {},
   "source": [
    "- Promises also come with method .catch() that will run if any promises in the chain fails"
   ]
  },
  {
   "cell_type": "code",
   "execution_count": 6,
   "metadata": {
    "dotnet_interactive": {
     "language": "javascript"
    }
   },
   "outputs": [
    {
     "data": {
      "text/plain": [
       "Promise { <pending> }"
      ]
     },
     "execution_count": 6,
     "metadata": {},
     "output_type": "execute_result"
    }
   ],
   "source": [
    "const postBad = async () => {\n",
    "\tconst body = {\n",
    "\t\ttex: \"something\"\n",
    "\t}\n",
    "\tconst options = {\n",
    "\t\theaders: {\n",
    "      'Accept': 'application/json',\n",
    "      'Content-Type': 'application/json'\n",
    "    },\n",
    "\t\tmethod: \"POST\",\n",
    "\t\tbody: JSON.stringify(body)\n",
    "\t}\n",
    "\tconst rawData = await fetch(\"https://sample-api-six.vercel.app/\", options)\n",
    "\tconst data = await rawData.json()\n",
    "\treturn data\n",
    "}\n",
    "\n",
    "postBad()\n",
    "\t.then((res) => {\n",
    "\t\texampleId = res._id\n",
    "\t\tconsole.log(res)\n",
    "\t})\n",
    "\t.catch((error)=> {\n",
    "\t\tconsole.log(error)\n",
    "\t})"
   ]
  },
  {
   "cell_type": "markdown",
   "metadata": {},
   "source": [
    "## import/export\n",
    "- We can use JavaScript from other files\n",
    "- The JavaScript file we import need to have an module.export"
   ]
  },
  {
   "cell_type": "code",
   "execution_count": null,
   "metadata": {},
   "outputs": [],
   "source": [
    "// index.js\n",
    "function surprise() {\n",
    "\treturn (\"boo!!!!\")\n",
    "}\n",
    "console.log(\"Did you hear that?\")\n",
    "module.exports = surprise"
   ]
  },
  {
   "cell_type": "code",
   "execution_count": 1,
   "metadata": {
    "dotnet_interactive": {
     "language": "javascript"
    }
   },
   "outputs": [
    {
     "name": "stdout",
     "output_type": "stream",
     "text": [
      "Did you hear that?\n"
     ]
    },
    {
     "data": {
      "text/plain": [
       "'boo!!!!'"
      ]
     },
     "execution_count": 1,
     "metadata": {},
     "output_type": "execute_result"
    }
   ],
   "source": [
    "const surprise = require(\"./index.js\")\n",
    "console.log(surprise())"
   ]
  },
  {
   "cell_type": "markdown",
   "metadata": {},
   "source": [
    "- There is newer another way of importing files\n",
    "- However, we need to tell nodeJS to use es6 imports.\n",
    "- There are two way to do this.\n",
    "\t1) make the extension .mjs\n",
    "\t2) a file called the package.json by adding \"type\": \"module\"\n",
    "###### *we will make the package.json after this."
   ]
  },
  {
   "cell_type": "code",
   "execution_count": 1,
   "metadata": {
    "dotnet_interactive": {
     "language": "javascript"
    }
   },
   "outputs": [
    {
     "name": "stdout",
     "output_type": "stream",
     "text": [
      "There it is again.\n",
      "boo again!!!!\n"
     ]
    }
   ],
   "source": [
    "import surprise2 from \"./index.mjs\"\n",
    "console.log(surprise2())"
   ]
  },
  {
   "cell_type": "markdown",
   "metadata": {},
   "source": [
    "## npm\n",
    "- There is a community of millions of JavaScript developers.\n",
    "- Many of which develop code that can make our projects easier and post it free on the internet.\n",
    "- Node Package Manager (npm) is the default way of getting access to most of these other people's collection code (library).\n",
    "- We can start a npm project with the following shell command: ```npm init```"
   ]
  },
  {
   "cell_type": "markdown",
   "metadata": {},
   "source": [
    "- We can install a package with the command ```npm install```\n",
    "- Let's install a library called is-even ```npm install is-even```"
   ]
  },
  {
   "cell_type": "markdown",
   "metadata": {},
   "source": [
    "- Importing the library is like importing a file except it doesn't need a relative path.\n",
    "- Node will automatic understand to look into the node_modules directory when we install the package."
   ]
  },
  {
   "cell_type": "code",
   "execution_count": 4,
   "metadata": {
    "dotnet_interactive": {
     "language": "pwsh"
    }
   },
   "outputs": [
    {
     "data": {
      "text/plain": [
       "true"
      ]
     },
     "execution_count": 4,
     "metadata": {},
     "output_type": "execute_result"
    }
   ],
   "source": [
    "var isEven = require('is-even')\n",
    "\n",
    "isEven(46)"
   ]
  },
  {
   "cell_type": "markdown",
   "metadata": {},
   "source": [
    "- We can uninstall a package with the command ```npm uninstall```\n",
    "- Let's uninstall is-even ```npm uninstall is-even```"
   ]
  },
  {
   "cell_type": "markdown",
   "metadata": {},
   "source": [
    "## package.json\n",
    "- Let's take a closer look at the package.json file npm created."
   ]
  },
  {
   "cell_type": "code",
   "execution_count": null,
   "metadata": {},
   "outputs": [],
   "source": [
    "// package.json\n",
    "{\n",
    "  \"name\": \"5-nodejs\",\n",
    "  \"version\": \"1.0.0\",\n",
    "  \"description\": \"\",\n",
    "  \"main\": \"index.js\",\n",
    "  \"scripts\": {\n",
    "    \"test\": \"echo \\\"Error: no test specified\\\" && exit 1\"\n",
    "  },\n",
    "  \"keywords\": [],\n",
    "  \"author\": \"\",\n",
    "  \"license\": \"ISC\"\n",
    "}"
   ]
  },
  {
   "cell_type": "markdown",
   "metadata": {},
   "source": [
    "- We can add ```\"type\": \"module\"``` here to use es6 importing."
   ]
  },
  {
   "cell_type": "code",
   "execution_count": null,
   "metadata": {},
   "outputs": [],
   "source": [
    "// package.json\n",
    "{\n",
    "  \"name\": \"5-nodejs\",\n",
    "  \"version\": \"1.0.0\",\n",
    "  \"description\": \"\",\n",
    "  \"main\": \"index.js\",\n",
    "\t\"type\": \"module\",\n",
    "  \"scripts\": {\n",
    "    \"test\": \"echo \\\"Error: no test specified\\\" && exit 1\"\n",
    "  },\n",
    "  \"keywords\": [],\n",
    "  \"author\": \"\",\n",
    "  \"license\": \"ISC\"\n",
    "}"
   ]
  },
  {
   "cell_type": "markdown",
   "metadata": {},
   "source": [
    "- Script let's you save and run terminal commands from node.\n",
    "- The keys are the name of the command pair to a string that will run in the terminal.\n",
    "- Let's make a command called \"start\" to run ```node index.js```"
   ]
  },
  {
   "cell_type": "code",
   "execution_count": null,
   "metadata": {},
   "outputs": [],
   "source": [
    "// package.json\n",
    "{\n",
    "  \"name\": \"5-nodejs\",\n",
    "  \"version\": \"1.0.0\",\n",
    "  \"description\": \"\",\n",
    "  \"main\": \"index.js\",\n",
    "\t\"type\": \"module\",\n",
    "  \"scripts\": {\n",
    "    \"test\": \"echo \\\"Error: no test specified\\\" && exit 1\",\n",
    "    \"start\": \"node index.js\"\n",
    "  },\n",
    "  \"keywords\": [],\n",
    "  \"author\": \"\",\n",
    "  \"license\": \"ISC\"\n",
    "}"
   ]
  },
  {
   "cell_type": "markdown",
   "metadata": {},
   "source": [
    "- We can run it from npm with the command ```npm run start```"
   ]
  },
  {
   "cell_type": "markdown",
   "metadata": {},
   "source": [
    "- Now let's look at the dependency.\n",
    "- This is where we tell node what packages we install and what version.\n",
    "- If when install another package we can see it shows up here.\n",
    "- Let's install is-odd with ```npm i is-odd```\n",
    "###### *i is short for install"
   ]
  },
  {
   "cell_type": "code",
   "execution_count": null,
   "metadata": {},
   "outputs": [],
   "source": [
    "// package.json\n",
    "{\n",
    "  \"name\": \"5-nodejs\",\n",
    "  \"version\": \"1.0.0\",\n",
    "  \"description\": \"\",\n",
    "  \"main\": \"index.js\",\n",
    "\t\"type\": \"module\",\n",
    "  \"scripts\": {\n",
    "    \"test\": \"echo \\\"Error: no test specified\\\" && exit 1\",\n",
    "    \"start\": \"node index.js\"\n",
    "  },\n",
    "  \"keywords\": [],\n",
    "  \"author\": \"\",\n",
    "  \"license\": \"ISC\",\n",
    "  \"dependencies\": {\n",
    "    \"is-odd\": \"^3.0.1\"\n",
    "  }\n",
    "}"
   ]
  },
  {
   "cell_type": "markdown",
   "metadata": {},
   "source": [
    "- Sometimes we want to install packages only when we are developing.\n",
    "- We can install packages as dev dependencies with the flag ```--save-dev```\n",
    "- Let's install nodemon (reruns node if it detects the file has change)  ```npm i nodemon --save-dev```\n",
    "###### * -D is a shortcut for --save-dev"
   ]
  },
  {
   "cell_type": "code",
   "execution_count": null,
   "metadata": {},
   "outputs": [],
   "source": [
    "// package.json\n",
    "{\n",
    "  \"name\": \"5-nodejs\",\n",
    "  \"version\": \"1.0.0\",\n",
    "  \"description\": \"\",\n",
    "  \"main\": \"index.js\",\n",
    "  \"start\": \"node index.js\",\n",
    "  \"type\": \"module\",\n",
    "  \"scripts\": {\n",
    "    \"test\": \"echo \\\"Error: no test specified\\\" && exit 1\",\n",
    "    \"start\": \"node index.js\"\n",
    "  },\n",
    "  \"keywords\": [],\n",
    "  \"author\": \"\",\n",
    "  \"license\": \"ISC\",\n",
    "  \"dependencies\": {\n",
    "    \"is-odd\": \"^3.0.1\"\n",
    "  },\n",
    "  \"devDependencies\": {\n",
    "    \"nodemon\": \"^2.0.19\"\n",
    "  }\n",
    "}"
   ]
  },
  {
   "cell_type": "markdown",
   "metadata": {},
   "source": [
    "- So far we have only install packages to the project directory.\n",
    "- We can install and run packages globally we the ```--global``` flag.\n",
    "- Let's install a better package manager yarn ```npm i -g yarn```\n",
    "###### * -g is a shortcut for --global"
   ]
  },
  {
   "cell_type": "markdown",
   "metadata": {},
   "source": [
    "- Yarn is about 3x faster, more secure, and uses less space than npm.\n",
    "- There are 3 functional difference with yarn we discussed\n",
    "  1) install with ```yarn add``` \n",
    "  2) uninstall with ```yarn remove```\n",
    "  3) run scripts with just ```yarn```\n",
    "     - example:  ```yarn start``` instead of ```npm run start```"
   ]
  },
  {
   "cell_type": "markdown",
   "metadata": {},
   "source": [
    "## Extra tips and tricks\n",
    "---"
   ]
  }
 ],
 "metadata": {
  "kernelspec": {
   "display_name": "JavaScript (Node.js)",
   "language": "javascript",
   "name": "javascript"
  },
  "language_info": {
   "file_extension": ".js",
   "mimetype": "application/javascript",
   "name": "javascript",
   "version": "18.6.0"
  },
  "orig_nbformat": 4
 },
 "nbformat": 4,
 "nbformat_minor": 2
}
