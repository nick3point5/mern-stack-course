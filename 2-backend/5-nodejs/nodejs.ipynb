{
 "cells": [
  {
   "cell_type": "markdown",
   "metadata": {},
   "source": [
    "# Node.js\n",
    "[![Binder](https://mybinder.org/badge_logo.svg)](https://mybinder.org/v2/gh/nick3point5/mern-stack-course/HEAD?labpath=2-backend%2F5-nodejs%2Fnodejs.ipynb)\n",
    "## Intro\n",
    "Now that we know some basic JavaScript, let's learn about the program we use to run JavaScript, Node.js. Node can connect our JavaScript code with other applications. This means we can use code from other files, programs, and servers. They don't even have to be JavaScript. We will also learn about JavaScript as an ecosystem with millions of developers and their code. In this lesson, we will learn:\n",
    "\n",
    "#### Node.js\n",
    "- Node.js\n",
    "- API\n",
    "- Promises\n",
    "- async await\n",
    "- fetching web API\n",
    "- HTTP request methods\n",
    "  -  get\n",
    "     -  param\n",
    "     -  query\n",
    "  -  post\n",
    "  -  put\n",
    "  -  delete\n",
    "- error handling\n",
    "- import/export\n",
    "- npm\n",
    "  - package.json\n",
    "- yarn\n",
    "---"
   ]
  },
  {
   "cell_type": "markdown",
   "metadata": {},
   "source": [
    "## Node.js\n",
    "- Computer hardware only understands binary code (ones and zeroes).\n",
    "- JavaScript is made of human-readable text (not just ones and zeroes).\n",
    "- Node is what's known as a runtime.\n",
    "- It reads the JavaScript and interprets it into ones and zeroes.\n",
    "- Node connects your JavaScript with system hardware (CPU, RAM, storage, etc...) and operating system."
   ]
  },
  {
   "cell_type": "markdown",
   "metadata": {},
   "source": [
    "## API\n",
    "- An application programming interface (API) is simply just using another program in your program.\n",
    "- Node usually lets us use APIs by running a function.\n",
    "- console.log() is an example, We didn't make the console object or log method.\n",
    "- The console (terminal) is a program on your system.\n",
    "- console is a pre-built JavaScript object in Node."
   ]
  },
  {
   "cell_type": "code",
   "execution_count": 1,
   "metadata": {
    "dotnet_interactive": {
     "language": "javascript"
    },
    "vscode": {
     "languageId": "javascript"
    }
   },
   "outputs": [
    {
     "name": "stdout",
     "output_type": "stream",
     "text": [
      "this is an API\n"
     ]
    }
   ],
   "source": [
    "console.log('this is an API')"
   ]
  },
  {
   "cell_type": "markdown",
   "metadata": {},
   "source": [
    "## Promises\n",
    "- Mostly, when Node runs JavaScript, it's single-threaded.\n",
    "- This means it can only do one thing at a time.\n",
    "- Most API calls will not be completed immediately.\n",
    "- Some API calls could take minutes or hours.\n",
    "- Here is an example of a process that may take a little while."
   ]
  },
  {
   "cell_type": "code",
   "execution_count": 2,
   "metadata": {
    "dotnet_interactive": {
     "language": "javascript"
    },
    "vscode": {
     "languageId": "javascript"
    }
   },
   "outputs": [
    {
     "name": "stdout",
     "output_type": "stream",
     "text": [
      "start\n",
      "done\n",
      "default: 5.100s\n"
     ]
    }
   ],
   "source": [
    "function countToFiveBillion() {\n",
    "\tfor (let i = 0; i < 5e9; i++) {}\n",
    "}\n",
    "console.time()\n",
    "console.log('start')\n",
    "countToFiveBillion()\n",
    "console.log('done')\n",
    "console.timeEnd()\n"
   ]
  },
  {
   "cell_type": "markdown",
   "metadata": {},
   "source": [
    "- Notice that we can only print \"done\" until the loop is done.\n",
    "- We can tell Node to come back and run the loop later.\n",
    "- We create an object from the Promise class.\n",
    "- Promises are objects that will run functions when Node is not busy dealing with the rest of your code."
   ]
  },
  {
   "cell_type": "code",
   "execution_count": 1,
   "metadata": {
    "dotnet_interactive": {
     "language": "javascript"
    },
    "vscode": {
     "languageId": "javascript"
    }
   },
   "outputs": [],
   "source": [
    "const contentCreator = new Promise((resolve) => {\n",
    "\tconst resolveObj =  {\n",
    "\t\tcountToBillion: function (name) {\n",
    "\t\t\tconsole.log(`${name} here and I'm gonna count to a billion.`)\n",
    "\t\t\tfor (let i = 0; i < 1e9; i++) {}\n",
    "\t\t\treturn ` subscribe for more ${name}`\n",
    "\t\t}\n",
    "\t}\n",
    "\tresolve(resolveObj)\n",
    "})\n"
   ]
  },
  {
   "cell_type": "markdown",
   "metadata": {},
   "source": [
    "- You can call a promise with the ```.then```\n",
    "- Then is a higher order function and will take a function whose input will be what the promise resolves."
   ]
  },
  {
   "cell_type": "code",
   "execution_count": 5,
   "metadata": {
    "dotnet_interactive": {
     "language": "javascript"
    },
    "vscode": {
     "languageId": "javascript"
    }
   },
   "outputs": [
    {
     "name": "stdout",
     "output_type": "stream",
     "text": [
      "watching\n",
      "Mr. Beast 2.0 here and I'm gonna count to a billion.\n",
      " subscribe for more Mr. Beast 2.0\n"
     ]
    }
   ],
   "source": [
    "contentCreator.then((response) => {\n",
    "\t// response === resolveObj\n",
    "\tconst content = response.countToBillion('Mr. Beast 2.0')\n",
    "\tconsole.log(content)\n",
    "})\n",
    "\n",
    "console.log('watching')\n"
   ]
  },
  {
   "cell_type": "markdown",
   "metadata": {},
   "source": [
    "- The values from the promise are only usable in their callback's scope.\n",
    "- ```.then``` returns another promise that can be chained with another ```.then```\n",
    "- the callbacks input will be what the previous promise returned."
   ]
  },
  {
   "cell_type": "code",
   "execution_count": 3,
   "metadata": {
    "dotnet_interactive": {
     "language": "javascript"
    },
    "vscode": {
     "languageId": "javascript"
    }
   },
   "outputs": [
    {
     "name": "stdout",
     "output_type": "stream",
     "text": [
      "Mr. Beast 2.1 here and I'm gonna count to a billion.\n",
      " subscribe for more Mr. Beast 2.1\n"
     ]
    }
   ],
   "source": [
    "const beast1 = contentCreator\n",
    "\t.then((res) => {\n",
    "\t\treturn res.countToBillion('Mr. Beast 2.1')\n",
    "\t})\n",
    "\t.then((res) => {\n",
    "\t\tconsole.log(res)\n",
    "\t})\n"
   ]
  },
  {
   "cell_type": "markdown",
   "metadata": {},
   "source": [
    "## async await\n",
    "- A newer way of writing async processes without ```.then``` is async functions.\n",
    "- You must tell JavaScript that the function is asynchronous with ```async``` before declaring it."
   ]
  },
  {
   "cell_type": "code",
   "execution_count": 4,
   "metadata": {
    "dotnet_interactive": {
     "language": "javascript"
    },
    "vscode": {
     "languageId": "javascript"
    }
   },
   "outputs": [
    {
     "name": "stdout",
     "output_type": "stream",
     "text": [
      "watching\n",
      "Mr. Beast 2.2 here and I'm gonna count to a billion.\n",
      " subscribe for more Mr. Beast 2.2\n"
     ]
    }
   ],
   "source": [
    "async function beast2() {\n",
    "\tconst res = await contentCreator\n",
    "\tconst content = res.countToBillion('Mr. Beast 2.2')\n",
    "\tconsole.log(content)\n",
    "}\n",
    "\n",
    "beast2()\n",
    "\n",
    "console.log('watching')\n"
   ]
  },
  {
   "cell_type": "markdown",
   "metadata": {},
   "source": [
    "- Example with the arrow function:"
   ]
  },
  {
   "cell_type": "code",
   "execution_count": 7,
   "metadata": {
    "dotnet_interactive": {
     "language": "javascript"
    },
    "vscode": {
     "languageId": "javascript"
    }
   },
   "outputs": [
    {
     "name": "stdout",
     "output_type": "stream",
     "text": [
      " subscribe for more Mr. Beast 2.2\n",
      "watching\n"
     ]
    }
   ],
   "source": [
    "const beast3 = async () => {\n",
    "\tconst res = await contentCreator\n",
    "\tconst content = res.countToBillion('Mr. Beast 2.2')\n",
    "\tconsole.log(content)\n",
    "}\n",
    "beast3()\n",
    "\n",
    "console.log('watching')\n"
   ]
  },
  {
   "cell_type": "markdown",
   "metadata": {},
   "source": [
    "## fetching web API\n",
    "- fetch is API that will get/send data over the internet.\n",
    "- We can ask (request) a computer (server) to give us its data or modify its data.\n",
    "- The following gets the last earthquake record by the United States Geological Survey.\n",
    "###### fetch comes built-in with node 18, if you are running an earlier version you will need to install and import it manually."
   ]
  },
  {
   "cell_type": "code",
   "execution_count": 1,
   "metadata": {
    "dotnet_interactive": {
     "language": "javascript"
    },
    "vscode": {
     "languageId": "javascript"
    }
   },
   "outputs": [
    {
     "data": {
      "text/plain": [
       "Promise { <pending> }"
      ]
     },
     "execution_count": 1,
     "metadata": {},
     "output_type": "execute_result"
    }
   ],
   "source": [
    "const earfquake = async () => {\n",
    "\tconst rawData = await fetch(\n",
    "\t\t'https://earthquake.usgs.gov/fdsnws/event/1/query?format=geojson&limit=1'\n",
    "\t)\n",
    "\tconst data = await rawData.json()\n",
    "\tconst latestEarfquake = data.features[0]\n",
    "\tconst location = latestEarfquake.properties.place\n",
    "\tconst time = Date(latestEarfquake.properties.time)\n",
    "\tconsole.log(location)\n",
    "\tconsole.log(time)\n",
    "}\n",
    "\n",
    "earfquake()\n"
   ]
  },
  {
   "cell_type": "markdown",
   "metadata": {},
   "source": [
    "## HTTP request methods\n",
    "- Most web APIs have a standard way of asking a server to do things for us. (REST API)\n",
    "- The four main types of requests (methods) are as follows:"
   ]
  },
  {
   "cell_type": "markdown",
   "metadata": {},
   "source": [
    "#### GET (give me your data)\n",
    "   - This is the default request fetch"
   ]
  },
  {
   "cell_type": "code",
   "execution_count": 3,
   "metadata": {
    "dotnet_interactive": {
     "language": "javascript"
    },
    "vscode": {
     "languageId": "javascript"
    }
   },
   "outputs": [
    {
     "name": "stdout",
     "output_type": "stream",
     "text": [
      "[\n",
      "  {\n",
      "    _id: '62e2b9d5fbfc8b5b6120ffb7',\n",
      "    text: 'hi there',\n",
      "    createdAt: '2022-07-28T16:31:17.036Z',\n",
      "    updatedAt: '2022-07-28T16:31:17.036Z',\n",
      "    __v: 0\n",
      "  },\n",
      "  {\n",
      "    _id: '62e2ba12fbfc8b5b6120ffb9',\n",
      "    text: 'supercalifragilisticexpialidocious',\n",
      "    createdAt: '2022-07-28T16:32:18.135Z',\n",
      "    updatedAt: '2022-07-28T16:32:18.135Z',\n",
      "    __v: 0\n",
      "  }\n",
      "]\n"
     ]
    }
   ],
   "source": [
    "let getResult\n",
    "const get = async () => {\n",
    "\tconst rawData = await fetch('https://sample-api-six.vercel.app/')\n",
    "\tconst data = await rawData.json()\n",
    "\treturn data\n",
    "}\n",
    "\n",
    "get().then((res) => {\n",
    "\tgetResult = res\n",
    "\tconsole.log(res)\n",
    "})"
   ]
  },
  {
   "cell_type": "markdown",
   "metadata": {},
   "source": [
    "- We can add parameters to a get request by adding an id to the get route."
   ]
  },
  {
   "cell_type": "code",
   "execution_count": 7,
   "metadata": {
    "dotnet_interactive": {
     "language": "javascript"
    },
    "vscode": {
     "languageId": "javascript"
    }
   },
   "outputs": [
    {
     "name": "stdout",
     "output_type": "stream",
     "text": [
      "https://sample-api-six.vercel.app/62e2b9d5fbfc8b5b6120ffb7\n",
      "{\n",
      "  _id: '62e2b9d5fbfc8b5b6120ffb7',\n",
      "  text: 'hi there',\n",
      "  createdAt: '2022-07-28T16:31:17.036Z',\n",
      "  updatedAt: '2022-07-28T16:31:17.036Z',\n",
      "  __v: 0\n",
      "}\n"
     ]
    }
   ],
   "source": [
    "const paramUrl = 'https://sample-api-six.vercel.app/'+getResult[0]._id\n",
    "console.log(paramUrl)\n",
    "\n",
    "const getParam = async () => {\n",
    "\tconst rawData = await fetch(paramUrl)\n",
    "\tconst data = await rawData.json()\n",
    "\treturn data\n",
    "}\n",
    "\n",
    "getParam().then((res) => {\n",
    "\tconsole.log(res)\n",
    "})\n"
   ]
  },
  {
   "cell_type": "markdown",
   "metadata": {},
   "source": [
    "- We can add a query (API argument) to a get request by adding an ```?key=value``` to the get route."
   ]
  },
  {
   "cell_type": "code",
   "execution_count": 9,
   "metadata": {
    "dotnet_interactive": {
     "language": "javascript"
    },
    "vscode": {
     "languageId": "javascript"
    }
   },
   "outputs": [
    {
     "name": "stdout",
     "output_type": "stream",
     "text": [
      "https://sample-api-six.vercel.app/?text=supercalifragilisticexpialidocious\n",
      "[\n",
      "  {\n",
      "    _id: '62e2ba12fbfc8b5b6120ffb9',\n",
      "    text: 'supercalifragilisticexpialidocious',\n",
      "    createdAt: '2022-07-28T16:32:18.135Z',\n",
      "    updatedAt: '2022-07-28T16:32:18.135Z',\n",
      "    __v: 0\n",
      "  }\n",
      "]\n"
     ]
    }
   ],
   "source": [
    "const queryUrl = `https://sample-api-six.vercel.app/?text=${getResult[1].text}`\n",
    "console.log(queryUrl)\n",
    "\n",
    "const getQuery = async () => {\n",
    "\tconst rawData = await fetch(queryUrl)\n",
    "\tconst data = await rawData.json()\n",
    "\treturn data\n",
    "}\n",
    "\n",
    "getQuery().then((res) => {\n",
    "\tconsole.log(res)\n",
    "})"
   ]
  },
  {
   "cell_type": "markdown",
   "metadata": {},
   "source": [
    "#### POST (save what I give you)\n",
    "   - To tell the server you are sending a post request, you have to give it an object with specific keys.\n",
    "   - The headers tell the server what we are kind of data we are going to give it.\n",
    "   - Body is an object that we send to the server.\n",
    "   - The body object must be transformed into a string before it's sent."
   ]
  },
  {
   "cell_type": "code",
   "execution_count": 11,
   "metadata": {
    "dotnet_interactive": {
     "language": "javascript"
    },
    "vscode": {
     "languageId": "javascript"
    }
   },
   "outputs": [
    {
     "name": "stdout",
     "output_type": "stream",
     "text": [
      "{\n",
      "  text: 'something',\n",
      "  _id: '62e2be43e10ee0bc87dace03',\n",
      "  createdAt: '2022-07-28T16:50:11.863Z',\n",
      "  updatedAt: '2022-07-28T16:50:11.863Z',\n",
      "  __v: 0\n",
      "}\n"
     ]
    }
   ],
   "source": [
    "let exampleId\n",
    "const post = async () => {\n",
    "\tconst body = {\n",
    "\t\ttext: 'something',\n",
    "\t}\n",
    "\tconst options = {\n",
    "\t\theaders: {\n",
    "\t\t\tAccept: 'application/json',\n",
    "\t\t\t'Content-Type': 'application/json',\n",
    "\t\t},\n",
    "\t\tmethod: 'POST',\n",
    "\t\tbody: JSON.stringify(body),\n",
    "\t}\n",
    "\tconst rawData = await fetch('https://sample-api-six.vercel.app/', options)\n",
    "\tconst data = await rawData.json()\n",
    "\treturn data\n",
    "}\n",
    "\n",
    "post().then((res) => {\n",
    "\texampleId = res._id\n",
    "\tconsole.log(res)\n",
    "})"
   ]
  },
  {
   "cell_type": "markdown",
   "metadata": {},
   "source": [
    "#### PUT (replace your data with what I give you)\n",
    "   - PUT the object we send will update the data we send."
   ]
  },
  {
   "cell_type": "code",
   "execution_count": 13,
   "metadata": {
    "dotnet_interactive": {
     "language": "javascript"
    },
    "vscode": {
     "languageId": "javascript"
    }
   },
   "outputs": [
    {
     "name": "stdout",
     "output_type": "stream",
     "text": [
      "{\n",
      "  _id: '62e2be43e10ee0bc87dace03',\n",
      "  text: 'something else',\n",
      "  createdAt: '2022-07-28T16:50:11.863Z',\n",
      "  updatedAt: '2022-07-28T16:51:18.424Z',\n",
      "  __v: 0\n",
      "}\n"
     ]
    }
   ],
   "source": [
    "const put = async () => {\n",
    "\tconst body = {\n",
    "\t\tid: exampleId,\n",
    "\t\ttext: 'something else',\n",
    "\t}\n",
    "\tconst options = {\n",
    "\t\theaders: {\n",
    "\t\t\tAccept: 'application/json',\n",
    "\t\t\t'Content-Type': 'application/json',\n",
    "\t\t},\n",
    "\t\tmethod: 'PUT',\n",
    "\t\tbody: JSON.stringify(body),\n",
    "\t}\n",
    "\tconst rawData = await fetch('https://sample-api-six.vercel.app/', options)\n",
    "\tconst data = await rawData.json()\n",
    "\treturn data\n",
    "}\n",
    "\n",
    "put().then((res) => {\n",
    "\tconsole.log(res)\n",
    "})\n",
    "\n"
   ]
  },
  {
   "cell_type": "markdown",
   "metadata": {},
   "source": [
    "#### DELETE (delete what I tell you)\n",
    "   - DELETE will remove the data we specify\n",
    "###### *Normally, there should be more security like a time-limited passcode or token. But for this example API, there is none."
   ]
  },
  {
   "cell_type": "code",
   "execution_count": 15,
   "metadata": {
    "dotnet_interactive": {
     "language": "javascript"
    },
    "vscode": {
     "languageId": "javascript"
    }
   },
   "outputs": [
    {
     "name": "stdout",
     "output_type": "stream",
     "text": [
      "{\n",
      "  _id: '62e2be43e10ee0bc87dace03',\n",
      "  text: 'something else',\n",
      "  createdAt: '2022-07-28T16:50:11.863Z',\n",
      "  updatedAt: '2022-07-28T16:51:18.424Z',\n",
      "  __v: 0\n",
      "}\n"
     ]
    }
   ],
   "source": [
    "const remove = async () => {\n",
    "\tconst body = {\n",
    "\t\tid: exampleId,\n",
    "\t}\n",
    "\tconst options = {\n",
    "\t\theaders: {\n",
    "\t\t\tAccept: 'application/json',\n",
    "\t\t\t'Content-Type': 'application/json',\n",
    "\t\t},\n",
    "\t\tmethod: 'DELETE',\n",
    "\t\tbody: JSON.stringify(body),\n",
    "\t}\n",
    "\tconst rawData = await fetch('https://sample-api-six.vercel.app/', options)\n",
    "\tconst data = await rawData.json()\n",
    "\treturn data\n",
    "}\n",
    "\n",
    "remove().then((res) => {\n",
    "\tconsole.log(res)\n",
    "})\n"
   ]
  },
  {
   "cell_type": "markdown",
   "metadata": {},
   "source": [
    "## error handling\n",
    "- For many reasons, APIs or your code can fail.\n",
    "- In many cases, it will cause your program to crash.\n",
    "- Using a \"try-catch block\", we can handle errors without causing the program to crash."
   ]
  },
  {
   "cell_type": "code",
   "execution_count": 16,
   "metadata": {
    "dotnet_interactive": {
     "language": "javascript"
    },
    "vscode": {
     "languageId": "javascript"
    }
   },
   "outputs": [
    {
     "name": "stdout",
     "output_type": "stream",
     "text": [
      "ReferenceError: purposeOfLife is not defined\n",
      "    at evalmachine.<anonymous>:2:14\n",
      "    at Script.runInThisContext (node:vm:129:12)\n",
      "    at Object.runInThisContext (node:vm:313:38)\n",
      "    at run ([eval]:1020:15)\n",
      "    at onRunRequest ([eval]:864:18)\n",
      "    at onMessage ([eval]:828:13)\n",
      "    at process.emit (node:events:513:28)\n",
      "    at emit (node:internal/child_process:937:14)\n",
      "    at process.processTicksAndRejections (node:internal/process/task_queues:83:21)\n",
      "Doesn't matter, eat pizza.\n"
     ]
    }
   ],
   "source": [
    "try {\n",
    "\tconsole.log(purposeOfLife)\n",
    "} catch (error) {\n",
    "\tconsole.log(error)\n",
    "}\n",
    "console.log(\"Doesn't matter, eat pizza.\")\n"
   ]
  },
  {
   "cell_type": "markdown",
   "metadata": {},
   "source": [
    "- We can manually tell JavaScript to stop running and send an error with the \"throw\" keyword."
   ]
  },
  {
   "cell_type": "code",
   "execution_count": 17,
   "metadata": {
    "dotnet_interactive": {
     "language": "javascript"
    },
    "vscode": {
     "languageId": "javascript"
    }
   },
   "outputs": [
    {
     "name": "stdout",
     "output_type": "stream",
     "text": [
      "no apples\n"
     ]
    }
   ],
   "source": [
    "const apple = 0\n",
    "try {\n",
    "\tif (apple === 0) throw 'no apples'\n",
    "\tconsole.log('we got apples')\n",
    "} catch (error) {\n",
    "\tconsole.log(error)\n",
    "}"
   ]
  },
  {
   "cell_type": "markdown",
   "metadata": {},
   "source": [
    "- Promises also come with method .catch() that will run if any promises in the chain fail."
   ]
  },
  {
   "cell_type": "code",
   "execution_count": 1,
   "metadata": {
    "dotnet_interactive": {
     "language": "javascript"
    },
    "vscode": {
     "languageId": "javascript"
    }
   },
   "outputs": [
    {
     "data": {
      "text/plain": [
       "Promise { <pending> }"
      ]
     },
     "execution_count": 1,
     "metadata": {},
     "output_type": "execute_result"
    }
   ],
   "source": [
    "const body = {\n",
    "\ttex: 'something',\n",
    "}\n",
    "const options = {\n",
    "\theaders: {\n",
    "\t\tAccept: 'application/json',\n",
    "\t\t'Content-Type': 'application/json',\n",
    "\t},\n",
    "\tmethod: 'POST',\n",
    "\tbody: JSON.stringify(body),\n",
    "}\n",
    "\n",
    "const postBad = fetch('https://sample-api-six.vercel.app/', options)\n",
    "postBad\n",
    "\t.then((res) => {\n",
    "\t\tconsole.log(res)\n",
    "\t})\n",
    "\t.catch((error) => {\n",
    "\t\tresult = error\n",
    "\t\tconsole.log(error)\n",
    "\t})\n",
    "\n"
   ]
  },
  {
   "cell_type": "markdown",
   "metadata": {},
   "source": [
    "## import/export\n",
    "- We can use JavaScript from other files.\n",
    "- The JavaScript file we import needs to have a ```module.export```"
   ]
  },
  {
   "cell_type": "code",
   "execution_count": null,
   "metadata": {
    "dotnet_interactive": {
     "language": "javascript"
    },
    "vscode": {
     "languageId": "javascript"
    }
   },
   "outputs": [],
   "source": [
    "// export1.js\n",
    "function surprise() {\n",
    "\treturn 'boo!!!!'\n",
    "}\n",
    "console.log('Did you hear that?')\n",
    "module.exports = surprise\n"
   ]
  },
  {
   "cell_type": "code",
   "execution_count": 1,
   "metadata": {
    "dotnet_interactive": {
     "language": "javascript"
    },
    "vscode": {
     "languageId": "javascript"
    }
   },
   "outputs": [
    {
     "name": "stdout",
     "output_type": "stream",
     "text": [
      "Did you hear that?\n"
     ]
    },
    {
     "data": {
      "text/plain": [
       "'boo!!!!'"
      ]
     },
     "execution_count": 1,
     "metadata": {},
     "output_type": "execute_result"
    }
   ],
   "source": [
    "const surprise = require(\"./export1.js\")\n",
    "console.log(surprise())"
   ]
  },
  {
   "cell_type": "markdown",
   "metadata": {},
   "source": [
    "- There is newer another way of importing files\n",
    "- However, we need to tell nodeJS to use es6 imports.\n",
    "- There are two ways to do this.\n",
    "  1) make the extension .mjs\n",
    "  2) a file called the package.json by adding \"type\": \"module\"\n",
    "###### *We will make the package.json after this."
   ]
  },
  {
   "cell_type": "code",
   "execution_count": null,
   "metadata": {
    "dotnet_interactive": {
     "language": "javascript"
    },
    "vscode": {
     "languageId": "javascript"
    }
   },
   "outputs": [],
   "source": [
    "// export2.mjs\n",
    "function surprise() {\n",
    "\treturn 'boo again!!!!'\n",
    "}\n",
    "console.log('There it is again.')\n",
    "export default surprise"
   ]
  },
  {
   "cell_type": "code",
   "execution_count": 1,
   "metadata": {
    "dotnet_interactive": {
     "language": "javascript"
    },
    "vscode": {
     "languageId": "javascript"
    }
   },
   "outputs": [
    {
     "name": "stdout",
     "output_type": "stream",
     "text": [
      "There it is again.\n",
      "boo again!!!!\n"
     ]
    }
   ],
   "source": [
    "import surprise2 from './export2.mjs'\n",
    "console.log(surprise2())"
   ]
  },
  {
   "cell_type": "markdown",
   "metadata": {},
   "source": [
    "## npm\n",
    "- There is a community of millions of JavaScript developers.\n",
    "- Many of which develop code that can make our projects easier and post it free on the internet.\n",
    "- Node Package Manager (npm) is the default way of getting access to most of these other people's collection code (library)."
   ]
  },
  {
   "cell_type": "markdown",
   "metadata": {},
   "source": [
    "- We can start an npm project with the following shell command: ```npm init```\n",
    "- We can install a package with the command: ```npm install```\n",
    "- Let's install a library called is-even ```npm install is-even```"
   ]
  },
  {
   "cell_type": "markdown",
   "metadata": {},
   "source": [
    "- Importing the library is like importing a files, except it doesn't need a relative path.\n",
    "- Node will automatically understand to look into the node_modules directory when we install the package."
   ]
  },
  {
   "cell_type": "code",
   "execution_count": 4,
   "metadata": {
    "dotnet_interactive": {
     "language": "pwsh"
    },
    "vscode": {
     "languageId": "javascript"
    }
   },
   "outputs": [
    {
     "data": {
      "text/plain": [
       "true"
      ]
     },
     "execution_count": 4,
     "metadata": {},
     "output_type": "execute_result"
    }
   ],
   "source": [
    "const isEven = require('is-even')\n",
    "\n",
    "isEven(46)"
   ]
  },
  {
   "cell_type": "markdown",
   "metadata": {},
   "source": [
    "- We can uninstall a package with the command ```npm uninstall```\n",
    "- Let's uninstall is-even ```npm uninstall is-even```"
   ]
  },
  {
   "cell_type": "markdown",
   "metadata": {},
   "source": [
    "#### package.json\n",
    "- Let's take a closer look at the package.json file npm created."
   ]
  },
  {
   "cell_type": "code",
   "execution_count": null,
   "metadata": {
    "dotnet_interactive": {
     "language": "javascript"
    },
    "vscode": {
     "languageId": "javascript"
    }
   },
   "outputs": [],
   "source": [
    "// package.json\n",
    "{\n",
    "  \"name\": \"5-nodejs\",\n",
    "  \"version\": \"1.0.0\",\n",
    "  \"description\": \"\",\n",
    "  \"main\": \"index.js\",\n",
    "  \"scripts\": {\n",
    "    \"test\": \"echo \\\"Error: no test specified\\\" && exit 1\"\n",
    "  },\n",
    "  \"keywords\": [],\n",
    "  \"author\": \"\",\n",
    "  \"license\": \"ISC\"\n",
    "}"
   ]
  },
  {
   "cell_type": "markdown",
   "metadata": {},
   "source": [
    "- We can add ```\"type\": \"module\"``` here to use es6 importing."
   ]
  },
  {
   "cell_type": "code",
   "execution_count": null,
   "metadata": {
    "dotnet_interactive": {
     "language": "javascript"
    },
    "vscode": {
     "languageId": "javascript"
    }
   },
   "outputs": [],
   "source": [
    "// package.json\n",
    "{\n",
    "  \"name\": \"5-nodejs\",\n",
    "  \"version\": \"1.0.0\",\n",
    "  \"description\": \"\",\n",
    "  \"main\": \"index.js\",\n",
    "\t\"type\": \"module\",\n",
    "  \"scripts\": {\n",
    "    \"test\": \"echo \\\"Error: no test specified\\\" && exit 1\"\n",
    "  },\n",
    "  \"keywords\": [],\n",
    "  \"author\": \"\",\n",
    "  \"license\": \"ISC\"\n",
    "}"
   ]
  },
  {
   "cell_type": "markdown",
   "metadata": {},
   "source": [
    "- \"scripts\", let you save and run terminal commands from Node.\n",
    "- The keys are the name of the command pair to a string that will run in the terminal.\n",
    "- Let's make a command called \"start\" to run ```node index.js```"
   ]
  },
  {
   "cell_type": "code",
   "execution_count": null,
   "metadata": {
    "dotnet_interactive": {
     "language": "javascript"
    },
    "vscode": {
     "languageId": "javascript"
    }
   },
   "outputs": [],
   "source": [
    "// package.json\n",
    "{\n",
    "  \"name\": \"5-nodejs\",\n",
    "  \"version\": \"1.0.0\",\n",
    "  \"description\": \"\",\n",
    "  \"main\": \"index.js\",\n",
    "\t\"type\": \"module\",\n",
    "  \"scripts\": {\n",
    "    \"test\": \"echo \\\"Error: no test specified\\\" && exit 1\",\n",
    "    \"start\": \"node index.js\"\n",
    "  },\n",
    "  \"keywords\": [],\n",
    "  \"author\": \"\",\n",
    "  \"license\": \"ISC\"\n",
    "}"
   ]
  },
  {
   "cell_type": "markdown",
   "metadata": {},
   "source": [
    "- We can run it from npm with the command ```npm run start```"
   ]
  },
  {
   "cell_type": "markdown",
   "metadata": {},
   "source": [
    "- Now let's look at the dependency.\n",
    "- This is where we tell Node what packages we install and what version.\n",
    "- When installing another package we can see it shows up here.\n",
    "- Let's install is-odd with ```npm i is-odd```\n",
    "###### *i is short for install"
   ]
  },
  {
   "cell_type": "code",
   "execution_count": null,
   "metadata": {
    "dotnet_interactive": {
     "language": "javascript"
    },
    "vscode": {
     "languageId": "javascript"
    }
   },
   "outputs": [],
   "source": [
    "// package.json\n",
    "{\n",
    "  \"name\": \"5-nodejs\",\n",
    "  \"version\": \"1.0.0\",\n",
    "  \"description\": \"\",\n",
    "  \"main\": \"index.js\",\n",
    "\t\"type\": \"module\",\n",
    "  \"scripts\": {\n",
    "    \"test\": \"echo \\\"Error: no test specified\\\" && exit 1\",\n",
    "    \"start\": \"node index.js\"\n",
    "  },\n",
    "  \"keywords\": [],\n",
    "  \"author\": \"\",\n",
    "  \"license\": \"ISC\",\n",
    "  \"dependencies\": {\n",
    "    \"is-odd\": \"^3.0.1\"\n",
    "  }\n",
    "}"
   ]
  },
  {
   "cell_type": "markdown",
   "metadata": {},
   "source": [
    "- Sometimes we want to install packages only when we are developing.\n",
    "- We can install packages as dev dependencies with the flag ```--save-dev```\n",
    "- Let's install nodemon (reruns node if it detects the file has changed)  ```npm i nodemon --save-dev```\n",
    "###### * -D is a shortcut for --save-dev"
   ]
  },
  {
   "cell_type": "code",
   "execution_count": null,
   "metadata": {
    "dotnet_interactive": {
     "language": "javascript"
    },
    "vscode": {
     "languageId": "javascript"
    }
   },
   "outputs": [],
   "source": [
    "// package.json\n",
    "{\n",
    "  \"name\": \"5-nodejs\",\n",
    "  \"version\": \"1.0.0\",\n",
    "  \"description\": \"\",\n",
    "  \"main\": \"index.js\",\n",
    "  \"start\": \"node index.js\",\n",
    "  \"type\": \"module\",\n",
    "  \"scripts\": {\n",
    "    \"test\": \"echo \\\"Error: no test specified\\\" && exit 1\",\n",
    "    \"start\": \"node index.js\"\n",
    "  },\n",
    "  \"keywords\": [],\n",
    "  \"author\": \"\",\n",
    "  \"license\": \"ISC\",\n",
    "  \"dependencies\": {\n",
    "    \"is-odd\": \"^3.0.1\"\n",
    "  },\n",
    "  \"devDependencies\": {\n",
    "    \"nodemon\": \"^2.0.19\"\n",
    "  }\n",
    "}"
   ]
  },
  {
   "cell_type": "markdown",
   "metadata": {},
   "source": [
    "## yarn\n",
    "- So far, we have only installed packages to the project directory.\n",
    "- We can install and run packages globally we the ```--global``` flag.\n",
    "- Let's install a better package manager yarn ```npm i -g yarn```\n",
    "###### * -g is a shortcut for --global"
   ]
  },
  {
   "cell_type": "markdown",
   "metadata": {},
   "source": [
    "- Yarn is about 3x faster, more secure, and uses less space than npm.\n",
    "- We will be using yarn for the remainder of the course.\n",
    "- There are 3 functional differences with yarn:\n",
    "  1) install with ```yarn add``` \n",
    "  2) uninstall with ```yarn remove```\n",
    "  3) run scripts with just ```yarn``` and the script key\n",
    "     - example:  ```yarn start``` instead of ```npm run start```"
   ]
  },
  {
   "cell_type": "markdown",
   "metadata": {},
   "source": [
    "## Extra tips and tricks\n",
    "---"
   ]
  },
  {
   "cell_type": "markdown",
   "metadata": {},
   "source": [
    "- In the HTTP ```%20``` means a space character (\" \")."
   ]
  },
  {
   "cell_type": "code",
   "execution_count": null,
   "metadata": {
    "dotnet_interactive": {
     "language": "javascript"
    },
    "vscode": {
     "languageId": "javascript"
    }
   },
   "outputs": [],
   "source": [
    "https://sample-api-six.vercel.app/?text='hello%20everyone'"
   ]
  },
  {
   "cell_type": "markdown",
   "metadata": {},
   "source": [
    "- In the HTTP, we can add more than one query variable with ```&``` separator."
   ]
  },
  {
   "cell_type": "code",
   "execution_count": null,
   "metadata": {
    "dotnet_interactive": {
     "language": "javascript"
    },
    "vscode": {
     "languageId": "javascript"
    }
   },
   "outputs": [],
   "source": [
    "https://sample-api-six.vercel.app/?text='dirt'&dirty='true'"
   ]
  },
  {
   "cell_type": "markdown",
   "metadata": {},
   "source": [
    "- ES6 can export multiple things by using the export keyword before declaring a variable\n",
    "- The imported variable should be deconstructed from the imported object."
   ]
  },
  {
   "cell_type": "code",
   "execution_count": null,
   "metadata": {
    "dotnet_interactive": {
     "language": "javascript"
    },
    "vscode": {
     "languageId": "javascript"
    }
   },
   "outputs": [],
   "source": [
    "// export.mjs\n",
    "export const apples = { name: 'apples', rating: '2' }\n",
    "export const oranges = { name: 'oranges', rating: '4' }\n",
    "export function compare(first, second) {\n",
    "\tif (first > second) {\n",
    "\t\treturn `${first.name} are better than ${second.name}`\n",
    "\t}\n",
    "\n",
    "\tif (second > first) {\n",
    "\t\treturn `${second.name} are better than ${first.name}`\n",
    "\t}\n",
    "\n",
    "\treturn 'their the same'\n",
    "}"
   ]
  },
  {
   "cell_type": "code",
   "execution_count": null,
   "metadata": {
    "dotnet_interactive": {
     "language": "javascript"
    },
    "vscode": {
     "languageId": "javascript"
    }
   },
   "outputs": [],
   "source": [
    "// import.mjs\n",
    "import { apples, oranges, compare } from './export.mjs'\n",
    "console.log(compare(apples, oranges))"
   ]
  },
  {
   "cell_type": "markdown",
   "metadata": {},
   "source": [
    "- We can export everything with the wildcard ```*``` (asterisk)"
   ]
  },
  {
   "cell_type": "code",
   "execution_count": null,
   "metadata": {
    "dotnet_interactive": {
     "language": "javascript"
    },
    "vscode": {
     "languageId": "javascript"
    }
   },
   "outputs": [],
   "source": [
    "// index.mjs\n",
    "export * from './export.mjs'\n",
    "export * from './export2.mjs'"
   ]
  },
  {
   "cell_type": "code",
   "execution_count": null,
   "metadata": {
    "dotnet_interactive": {
     "language": "javascript"
    },
    "vscode": {
     "languageId": "javascript"
    }
   },
   "outputs": [],
   "source": [
    "// import2.mjs\n",
    "import { apples, oranges, compare, durians, lemons } from './index.mjs'\n",
    "console.log(compare(apples, oranges))\n",
    "console.log(compare(durians, lemons))"
   ]
  },
  {
   "cell_type": "markdown",
   "metadata": {},
   "source": [
    "- We can rename import with the ```as``` keyword."
   ]
  },
  {
   "cell_type": "code",
   "execution_count": null,
   "metadata": {
    "dotnet_interactive": {
     "language": "javascript"
    },
    "vscode": {
     "languageId": "javascript"
    }
   },
   "outputs": [],
   "source": [
    "import { durians as kingFruit } from './index.mjs'\n",
    "console.log(kingFruit)"
   ]
  },
  {
   "cell_type": "markdown",
   "metadata": {},
   "source": [
    "- We can install multiple packages in one command by separating them by spaces.\n",
    "\n",
    "```yarn add is-even is-odd mongoose```"
   ]
  },
  {
   "cell_type": "markdown",
   "metadata": {},
   "source": [
    "- We can uninstall multiple packages as well.\n",
    "\n",
    "```yarn remove is-even is-odd mongoose```"
   ]
  },
  {
   "cell_type": "markdown",
   "metadata": {},
   "source": [
    "- We can auto agree the init command with the ```-y``` flag.\n",
    "\n",
    "```yarn init -y```"
   ]
  },
  {
   "cell_type": "markdown",
   "metadata": {},
   "source": [
    "- The node_modules directory doesn't need to push to git.\n",
    "- To save time and space you can .gitignore\n",
    "- To install everything in the package.json we can run ```yarn install```"
   ]
  },
  {
   "cell_type": "markdown",
   "metadata": {},
   "source": [
    "## References\n",
    "Check out these resources for more.\n",
    "- [Node](https://nodejs.org/api/)\n",
    "- [npm](https://www.npmjs.com/)\n",
    "- [yarn](https://classic.yarnpkg.com/en/)"
   ]
  }
 ],
 "metadata": {
  "kernelspec": {
   "display_name": ".NET (C#)",
   "language": "C#",
   "name": ".net-csharp"
  },
  "language_info": {
   "file_extension": ".cs",
   "mimetype": "text/x-csharp",
   "name": "C#",
   "pygments_lexer": "csharp",
   "version": "9.0"
  },
  "orig_nbformat": 4
 },
 "nbformat": 4,
 "nbformat_minor": 2
}
