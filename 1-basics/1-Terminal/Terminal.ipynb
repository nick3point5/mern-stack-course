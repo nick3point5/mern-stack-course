{
 "cells": [
  {
   "cell_type": "markdown",
   "metadata": {},
   "source": [
    "# Terminal Basics\n",
    "[![Terminal Basics](https://mybinder.org/badge_logo.svg)](https://mybinder.org/v2/gh/nick3point5/mern-stack-course/HEAD?labpath=1-basics%2F1-Termial%2FTermial.ipynb)\n",
    "---\n",
    "## Intro\n",
    "The way most people use their computers is with Graphical User Interfaces (GUIs). But underneath the UI, the program that you use, these programs are running system commands to your computer. Using a terminal, sometimes referred to as the command-line (cli), you can interact with your system on a deeper level. Learning to use your terminal is essential in a developer tool kit. This lesson will be about understanding and using basic terminal commands. The topic in this lesson is the following:\n",
    "#### Using terminal\n",
    "- Getting a terminal\n",
    "- Opening a terminal\n",
    "- Changing directories\n",
    "- Listing files/directories\n",
    "- Creating new files\n",
    "- Moving files/directories\n",
    "- Showing sub-directories\n",
    "- Removing files/directories\n",
    "- Creating new directories\n",
    "- Renaming files/directories\n",
    "- Bash\n",
    "#### Installing applications using command-line"
   ]
  },
  {
   "cell_type": "markdown",
   "metadata": {},
   "source": [
    "## Using terminal\n",
    "---\n",
    "#### Getting to your terminal\n",
    "First, let's get to your terminal. This is a \"gaming\" server, so probably you are running windows. Powershell is the default terminal that comes pre-installed on modern windows. I recommend installing [Windows Terminal](https://apps.microsoft.com/store/detail/windows-terminal/9N0DX20HK701?hl=en-us&gl=US) because the default PowerShell terminal looks gross (personal opinion). There are also some very convenient features the default does not provide.\n",
    "\n",
    "#### Changing directories\n",
    "- Let's navigate to this directory (folder) that has this lesson in it. Open your file explorer and take note of the address bar.\n",
    "![](../../image/explorer.png)\n",
    "\n",
    "- If you click on the address bar you'll get a file path like this: **C:\\code\\teaching\\mern-stack-course\\1-basics\\1-Termial**\n",
    "\n",
    "![](../../image/explorer-selected.png)\n",
    "\n",
    "- Go ahead and copy that down. Now by hitting the windows key, we can open the windows start menu and type in \"terminal\".\n",
    "![](../../image/Terminal-start.png)\n",
    "\n",
    "- Now in the terminal, type \"cd\" (change directory). then type the file path that we  copied before.  Hit the enter key. An example is provided below:\n"
   ]
  },
  {
   "cell_type": "code",
   "execution_count": 1,
   "metadata": {
    "dotnet_interactive": {
     "language": "pwsh"
    },
    "vscode": {
     "languageId": "dotnet-interactive.pwsh"
    }
   },
   "outputs": [
    {
     "data": {
      "text/html": [
       "\r\n",
       "<div>\r\n",
       "    <div id='dotnet-interactive-this-cell-37956.Microsoft.DotNet.Interactive.Http.HttpPort' style='display: none'>\r\n",
       "        The below script needs to be able to find the current output cell; this is an easy method to get it.\r\n",
       "    </div>\r\n",
       "    <script type='text/javascript'>\r\n",
       "async function probeAddresses(probingAddresses) {\r\n",
       "    function timeout(ms, promise) {\r\n",
       "        return new Promise(function (resolve, reject) {\r\n",
       "            setTimeout(function () {\r\n",
       "                reject(new Error('timeout'))\r\n",
       "            }, ms)\r\n",
       "            promise.then(resolve, reject)\r\n",
       "        })\r\n",
       "    }\r\n",
       "\r\n",
       "    if (Array.isArray(probingAddresses)) {\r\n",
       "        for (let i = 0; i < probingAddresses.length; i++) {\r\n",
       "\r\n",
       "            let rootUrl = probingAddresses[i];\r\n",
       "\r\n",
       "            if (!rootUrl.endsWith('/')) {\r\n",
       "                rootUrl = `${rootUrl}/`;\r\n",
       "            }\r\n",
       "\r\n",
       "            try {\r\n",
       "                let response = await timeout(1000, fetch(`${rootUrl}discovery`, {\r\n",
       "                    method: 'POST',\r\n",
       "                    cache: 'no-cache',\r\n",
       "                    mode: 'cors',\r\n",
       "                    timeout: 1000,\r\n",
       "                    headers: {\r\n",
       "                        'Content-Type': 'text/plain'\r\n",
       "                    },\r\n",
       "                    body: probingAddresses[i]\r\n",
       "                }));\r\n",
       "\r\n",
       "                if (response.status == 200) {\r\n",
       "                    return rootUrl;\r\n",
       "                }\r\n",
       "            }\r\n",
       "            catch (e) { }\r\n",
       "        }\r\n",
       "    }\r\n",
       "}\r\n",
       "\r\n",
       "function loadDotnetInteractiveApi() {\r\n",
       "    probeAddresses([\"http://172.28.192.1:1000/\", \"http://192.168.1.134:1000/\", \"http://192.168.56.1:1000/\", \"http://192.168.137.1:1000/\", \"http://192.168.1.117:1000/\", \"http://127.0.0.1:1000/\"])\r\n",
       "        .then((root) => {\r\n",
       "        // use probing to find host url and api resources\r\n",
       "        // load interactive helpers and language services\r\n",
       "        let dotnetInteractiveRequire = require.config({\r\n",
       "        context: '37956.Microsoft.DotNet.Interactive.Http.HttpPort',\r\n",
       "                paths:\r\n",
       "            {\r\n",
       "                'dotnet-interactive': `${root}resources`\r\n",
       "                }\r\n",
       "        }) || require;\r\n",
       "\r\n",
       "            window.dotnetInteractiveRequire = dotnetInteractiveRequire;\r\n",
       "\r\n",
       "            window.configureRequireFromExtension = function(extensionName, extensionCacheBuster) {\r\n",
       "                let paths = {};\r\n",
       "                paths[extensionName] = `${root}extensions/${extensionName}/resources/`;\r\n",
       "                \r\n",
       "                let internalRequire = require.config({\r\n",
       "                    context: extensionCacheBuster,\r\n",
       "                    paths: paths,\r\n",
       "                    urlArgs: `cacheBuster=${extensionCacheBuster}`\r\n",
       "                    }) || require;\r\n",
       "\r\n",
       "                return internalRequire\r\n",
       "            };\r\n",
       "        \r\n",
       "            dotnetInteractiveRequire([\r\n",
       "                    'dotnet-interactive/dotnet-interactive'\r\n",
       "                ],\r\n",
       "                function (dotnet) {\r\n",
       "                    dotnet.init(window);\r\n",
       "                },\r\n",
       "                function (error) {\r\n",
       "                    console.log(error);\r\n",
       "                }\r\n",
       "            );\r\n",
       "        })\r\n",
       "        .catch(error => {console.log(error);});\r\n",
       "    }\r\n",
       "\r\n",
       "// ensure `require` is available globally\r\n",
       "if ((typeof(require) !==  typeof(Function)) || (typeof(require.config) !== typeof(Function))) {\r\n",
       "    let require_script = document.createElement('script');\r\n",
       "    require_script.setAttribute('src', 'https://cdnjs.cloudflare.com/ajax/libs/require.js/2.3.6/require.min.js');\r\n",
       "    require_script.setAttribute('type', 'text/javascript');\r\n",
       "    \r\n",
       "    \r\n",
       "    require_script.onload = function() {\r\n",
       "        loadDotnetInteractiveApi();\r\n",
       "    };\r\n",
       "\r\n",
       "    document.getElementsByTagName('head')[0].appendChild(require_script);\r\n",
       "}\r\n",
       "else {\r\n",
       "    loadDotnetInteractiveApi();\r\n",
       "}\r\n",
       "\r\n",
       "    </script>\r\n",
       "</div>"
      ]
     },
     "metadata": {},
     "output_type": "display_data"
    }
   ],
   "source": [
    "cd C:\\code\\teaching\\mern-stack-course\\1-basics\\1-Termial"
   ]
  },
  {
   "cell_type": "markdown",
   "metadata": {},
   "source": [
    "###### *If one of your directory has a space in it's name you will need to wrap the path in quotes ```cd \"C:\\code\\teaching\\mern-stack-course\\1-basics\\1-Termial\"```\n",
    "###### *If you are running the jupyter binder it's ```cd /home/jovyan/Notebooks/1-basics/1-Termial```"
   ]
  },
  {
   "cell_type": "markdown",
   "metadata": {},
   "source": [
    "- You are now located in the directory in your terminal. \n",
    "###### *Quick tip you can actually right-click in the explorer and there will be an option to Open in the terminal to start in that directory."
   ]
  },
  {
   "cell_type": "markdown",
   "metadata": {},
   "source": [
    "#### Listing files/directories\n",
    "- Now that we know how to cd let's talk about ```ls``` (list). ls will list all the files and directories in the current (working) directory your terminal is in."
   ]
  },
  {
   "cell_type": "code",
   "execution_count": 2,
   "metadata": {
    "dotnet_interactive": {
     "language": "pwsh"
    },
    "vscode": {
     "languageId": "dotnet-interactive.pwsh"
    }
   },
   "outputs": [
    {
     "name": "stdout",
     "output_type": "stream",
     "text": [
      "\n",
      "    Directory: C:\\code\\teaching\\mern-stack-course\\1-basics\\1-Termial\n",
      "\n",
      "\u001b[32;1mMode                 LastWriteTime         Length Name\u001b[0m\n",
      "\u001b[32;1m----                 -------------         ------ ----\u001b[0m\n",
      "d----            6/8/2022  6:49 PM                house\n",
      "d----            6/8/2022  6:49 PM                shed\n",
      "-a---           6/24/2022 10:36 AM          35007 Termial.ipynb\n",
      "\n"
     ]
    }
   ],
   "source": [
    "ls"
   ]
  },
  {
   "cell_type": "markdown",
   "metadata": {},
   "source": [
    "- Cool, so we have a house and a shed let's go to the shed. But, typing out the absolute path **C:\\code\\teaching\\mern-stack-course\\1-basics\\1-Termial\\shed** is a bit of a hassle. \n",
    "- We can shorten it to **./shed**. The dot (.) is a short-hand way of saying the working directory we are in **C:\\code\\teaching\\mern-stack-course\\1-basics\\1-Termial\\shed**. \n",
    "- Let's take a look inside the shed."
   ]
  },
  {
   "cell_type": "code",
   "execution_count": 3,
   "metadata": {
    "dotnet_interactive": {
     "language": "pwsh"
    },
    "vscode": {
     "languageId": "dotnet-interactive.pwsh"
    }
   },
   "outputs": [
    {
     "name": "stdout",
     "output_type": "stream",
     "text": [
      "\n",
      "    Directory: C:\\code\\teaching\\mern-stack-course\\1-basics\\1-Termial\\shed\n",
      "\n",
      "\u001b[32;1mMode                 LastWriteTime         Length Name\u001b[0m\n",
      "\u001b[32;1m----                 -------------         ------ ----\u001b[0m\n",
      "-a---            6/8/2022  6:49 PM             11 hammer.txt\n",
      "-a---            6/8/2022  6:49 PM             12 saw.txt\n",
      "-a---            6/8/2022  6:49 PM             51 wrench.txt\n",
      "\n"
     ]
    }
   ],
   "source": [
    "cd ./shed\n",
    "ls"
   ]
  },
  {
   "cell_type": "markdown",
   "metadata": {},
   "source": [
    "- Let's leave the shed. Going back up the directory also has a shortcut ```..```"
   ]
  },
  {
   "cell_type": "code",
   "execution_count": 4,
   "metadata": {
    "dotnet_interactive": {
     "language": "pwsh"
    },
    "vscode": {
     "languageId": "dotnet-interactive.pwsh"
    }
   },
   "outputs": [
    {
     "name": "stdout",
     "output_type": "stream",
     "text": [
      "\n",
      "    Directory: C:\\code\\teaching\\mern-stack-course\\1-basics\\1-Termial\n",
      "\n",
      "\u001b[32;1mMode                 LastWriteTime         Length Name\u001b[0m\n",
      "\u001b[32;1m----                 -------------         ------ ----\u001b[0m\n",
      "d----            6/8/2022  6:49 PM                house\n",
      "d----            6/8/2022  6:49 PM                shed\n",
      "-a---           6/24/2022 10:36 AM          40240 Termial.ipynb\n",
      "\n"
     ]
    }
   ],
   "source": [
    "cd ..\n",
    "ls"
   ]
  },
  {
   "cell_type": "markdown",
   "metadata": {},
   "source": [
    "- Did you know that you can type the first letter and hit tab key to auto complete what's in your working directory?\n",
    "- Let's go into the house now. "
   ]
  },
  {
   "cell_type": "code",
   "execution_count": 5,
   "metadata": {
    "dotnet_interactive": {
     "language": "pwsh"
    },
    "vscode": {
     "languageId": "dotnet-interactive.pwsh"
    }
   },
   "outputs": [
    {
     "name": "stdout",
     "output_type": "stream",
     "text": [
      "\n",
      "    Directory: C:\\code\\teaching\\mern-stack-course\\1-basics\\1-Termial\\house\n",
      "\n",
      "\u001b[32;1mMode                 LastWriteTime         Length Name\u001b[0m\n",
      "\u001b[32;1m----                 -------------         ------ ----\u001b[0m\n",
      "d----            6/8/2022  6:49 PM                living-room\n",
      "\n"
     ]
    }
   ],
   "source": [
    "cd ./house\n",
    "ls"
   ]
  },
  {
   "cell_type": "markdown",
   "metadata": {},
   "source": [
    "- Let's keep going."
   ]
  },
  {
   "cell_type": "code",
   "execution_count": 6,
   "metadata": {
    "dotnet_interactive": {
     "language": "pwsh"
    },
    "vscode": {
     "languageId": "dotnet-interactive.pwsh"
    }
   },
   "outputs": [
    {
     "name": "stdout",
     "output_type": "stream",
     "text": [
      "\n",
      "    Directory: C:\\code\\teaching\\mern-stack-course\\1-basics\\1-Termial\\house\\living-room\n",
      "\n",
      "\u001b[32;1mMode                 LastWriteTime         Length Name\u001b[0m\n",
      "\u001b[32;1m----                 -------------         ------ ----\u001b[0m\n",
      "d----            6/8/2022  6:49 PM                backdoor\n",
      "d----            6/8/2022  6:49 PM                bedroom\n",
      "d----            6/9/2022  1:07 PM                dining-room\n",
      "d----            6/8/2022  6:49 PM                kitchen\n",
      "\n"
     ]
    }
   ],
   "source": [
    "cd living-room\n",
    "ls"
   ]
  },
  {
   "cell_type": "markdown",
   "metadata": {},
   "source": [
    "- I'm feeling hungry let's go into the kitchen and make some food."
   ]
  },
  {
   "cell_type": "code",
   "execution_count": 7,
   "metadata": {
    "dotnet_interactive": {
     "language": "pwsh"
    },
    "vscode": {
     "languageId": "dotnet-interactive.pwsh"
    }
   },
   "outputs": [
    {
     "name": "stdout",
     "output_type": "stream",
     "text": [
      "\n",
      "    Directory: C:\\code\\teaching\\mern-stack-course\\1-basics\\1-Termial\\house\\living-room\\kitchen\n",
      "\n",
      "\u001b[32;1mMode                 LastWriteTime         Length Name\u001b[0m\n",
      "\u001b[32;1m----                 -------------         ------ ----\u001b[0m\n",
      "d----            6/9/2022  1:07 PM                fridge\n",
      "d----            6/9/2022  1:07 PM                oven\n",
      "\n"
     ]
    }
   ],
   "source": [
    "cd kitchen\n",
    "ls"
   ]
  },
  {
   "cell_type": "markdown",
   "metadata": {},
   "source": [
    "- Let's check out the fridge"
   ]
  },
  {
   "cell_type": "code",
   "execution_count": 8,
   "metadata": {
    "dotnet_interactive": {
     "language": "pwsh"
    },
    "vscode": {
     "languageId": "dotnet-interactive.pwsh"
    }
   },
   "outputs": [
    {
     "name": "stdout",
     "output_type": "stream",
     "text": [
      "\n",
      "    Directory: \n",
      "C:\\code\\teaching\\mern-stack-course\\1-basics\\1-Termial\\house\\living-room\\kitchen\\fridge\n",
      "\n",
      "\u001b[32;1mMode                 LastWriteTime         Length Name\u001b[0m\n",
      "\u001b[32;1m----                 -------------         ------ ----\u001b[0m\n",
      "-a---            6/8/2022  6:49 PM             33 grape.txt\n",
      "-a---            6/9/2022  1:07 PM              9 turkey.txt\n",
      "\n"
     ]
    }
   ],
   "source": [
    "cd fridge\n",
    "ls"
   ]
  },
  {
   "cell_type": "markdown",
   "metadata": {},
   "source": [
    "#### Creating new files\n",
    "- The fridge is kind of empty let's make a new item in the fridge with the ```ni``` (New-Item) command."
   ]
  },
  {
   "cell_type": "code",
   "execution_count": 9,
   "metadata": {
    "dotnet_interactive": {
     "language": "pwsh"
    },
    "vscode": {
     "languageId": "dotnet-interactive.pwsh"
    }
   },
   "outputs": [
    {
     "name": "stdout",
     "output_type": "stream",
     "text": [
      "\n",
      "    Directory: \n",
      "C:\\code\\teaching\\mern-stack-course\\1-basics\\1-Termial\\house\\living-room\\kitchen\\fridge\n",
      "\n",
      "\u001b[32;1mMode                 LastWriteTime         Length Name\u001b[0m\n",
      "\u001b[32;1m----                 -------------         ------ ----\u001b[0m\n",
      "-a---           6/24/2022 10:37 AM              0 milk.txt\n",
      "\n"
     ]
    }
   ],
   "source": [
    "ni milk.txt"
   ]
  },
  {
   "cell_type": "markdown",
   "metadata": {},
   "source": [
    "#### Moving files/directories\n",
    "- Let's move that turkey.txt to the oven we saw earlier. We can move items using the ```mv``` (move) command."
   ]
  },
  {
   "cell_type": "code",
   "execution_count": 10,
   "metadata": {
    "dotnet_interactive": {
     "language": "pwsh"
    },
    "vscode": {
     "languageId": "dotnet-interactive.pwsh"
    }
   },
   "outputs": [
    {
     "name": "stdout",
     "output_type": "stream",
     "text": [
      "\n",
      "    Directory: C:\\code\\teaching\\mern-stack-course\\1-basics\\1-Termial\\house\\living-room\\kitchen\\oven\n",
      "\n",
      "\u001b[32;1mMode                 LastWriteTime         Length Name\u001b[0m\n",
      "\u001b[32;1m----                 -------------         ------ ----\u001b[0m\n",
      "-a---            6/8/2022  6:49 PM              0 happy-fella.txt\n",
      "-a---            6/9/2022  1:07 PM              9 turkey.txt\n",
      "\n"
     ]
    }
   ],
   "source": [
    "mv turkey.txt ../oven\n",
    "cd ../oven\n",
    "ls"
   ]
  },
  {
   "cell_type": "markdown",
   "metadata": {},
   "source": [
    "- Let's wait in the dining room for the turkey to cook."
   ]
  },
  {
   "cell_type": "code",
   "execution_count": 11,
   "metadata": {
    "dotnet_interactive": {
     "language": "pwsh"
    },
    "vscode": {
     "languageId": "dotnet-interactive.pwsh"
    }
   },
   "outputs": [
    {
     "name": "stdout",
     "output_type": "stream",
     "text": [
      "\n",
      "    Directory: C:\\code\\teaching\\mern-stack-course\\1-basics\\1-Termial\\house\\living-room\\dining-room\n",
      "\n",
      "\u001b[32;1mMode                 LastWriteTime         Length Name\u001b[0m\n",
      "\u001b[32;1m----                 -------------         ------ ----\u001b[0m\n",
      "-a---            6/9/2022  1:07 PM             14 dead-body.txt\n",
      "\n"
     ]
    }
   ],
   "source": [
    "cd ../../dining-room\n",
    "ls"
   ]
  },
  {
   "cell_type": "markdown",
   "metadata": {},
   "source": [
    "#### Showing sub-directories\n",
    "- oh no, there's a dead body in our house. Let's go back to the living room and look around. We can print the directory structure with the ```tree``` command."
   ]
  },
  {
   "cell_type": "code",
   "execution_count": 12,
   "metadata": {
    "dotnet_interactive": {
     "language": "pwsh"
    },
    "vscode": {
     "languageId": "dotnet-interactive.pwsh"
    }
   },
   "outputs": [
    {
     "name": "stdout",
     "output_type": "stream",
     "text": [
      "Folder PATH listing for volume Windows\n",
      "Volume serial number is 82F3-B997\n",
      "C:.\n",
      "����backdoor\n",
      "�   ����in-that-churchyard\n",
      "�       ����shallow-grave\n",
      "����bedroom\n",
      "�   ����bathroom\n",
      "�   �   ����acid-filled-bathtub\n",
      "�   ����closet\n",
      "����dining-room\n",
      "����kitchen\n",
      "    ����fridge\n",
      "    ����oven\n"
     ]
    }
   ],
   "source": [
    "cd ..\n",
    "tree"
   ]
  },
  {
   "cell_type": "markdown",
   "metadata": {},
   "source": [
    "- Lucky! We found a bathtub filled with acid. Let's put the body in the bathtub."
   ]
  },
  {
   "cell_type": "code",
   "execution_count": 13,
   "metadata": {
    "dotnet_interactive": {
     "language": "pwsh"
    },
    "vscode": {
     "languageId": "dotnet-interactive.pwsh"
    }
   },
   "outputs": [
    {
     "name": "stdout",
     "output_type": "stream",
     "text": [
      "\n",
      "    Directory: C:\\code\\teaching\\mern-stack-course\\1-basics\\1-Termial\\house\\living-room\\bedroom\\bath\n",
      "room\\acid-filled-bathtub\n",
      "\n",
      "\u001b[32;1mMode                 LastWriteTime         Length Name\u001b[0m\n",
      "\u001b[32;1m----                 -------------         ------ ----\u001b[0m\n",
      "-a---            6/8/2022  6:49 PM             12 acid.txt\n",
      "-a---            6/9/2022  1:07 PM             14 dead-body.txt\n",
      "\n"
     ]
    }
   ],
   "source": [
    "mv ./dining-room/dead-body.txt ./bedroom/bathroom/acid-filled-bathtub\n",
    "cd ./bedroom/bathroom/acid-filled-bathtub\n",
    "ls"
   ]
  },
  {
   "cell_type": "markdown",
   "metadata": {},
   "source": [
    "#### Removing files/directories\n",
    "- We can remove the file with the ```rm``` (remove) command."
   ]
  },
  {
   "cell_type": "code",
   "execution_count": 14,
   "metadata": {
    "dotnet_interactive": {
     "language": "pwsh"
    },
    "vscode": {
     "languageId": "dotnet-interactive.pwsh"
    }
   },
   "outputs": [
    {
     "name": "stdout",
     "output_type": "stream",
     "text": [
      "\n",
      "    Directory: C:\\code\\teaching\\mern-stack-course\\1-basics\\1-Termial\\house\\living-room\\bedroom\\bath\n",
      "room\\acid-filled-bathtub\n",
      "\n",
      "\u001b[32;1mMode                 LastWriteTime         Length Name\u001b[0m\n",
      "\u001b[32;1m----                 -------------         ------ ----\u001b[0m\n",
      "-a---            6/8/2022  6:49 PM             12 acid.txt\n",
      "\n"
     ]
    }
   ],
   "source": [
    "rm dead-body.txt\n",
    "ls"
   ]
  },
  {
   "cell_type": "markdown",
   "metadata": {},
   "source": [
    "- Let's check if there my more dead bodies around. We haven't check the closet yet."
   ]
  },
  {
   "cell_type": "code",
   "execution_count": 15,
   "metadata": {
    "dotnet_interactive": {
     "language": "pwsh"
    },
    "vscode": {
     "languageId": "dotnet-interactive.pwsh"
    }
   },
   "outputs": [
    {
     "name": "stdout",
     "output_type": "stream",
     "text": [
      "\n",
      "    Directory: \n",
      "C:\\code\\teaching\\mern-stack-course\\1-basics\\1-Termial\\house\\living-room\\bedroom\\closet\n",
      "\n",
      "\u001b[32;1mMode                 LastWriteTime         Length Name\u001b[0m\n",
      "\u001b[32;1m----                 -------------         ------ ----\u001b[0m\n",
      "-a---            6/9/2022  1:07 PM             26 skeleton.txt\n",
      "\n"
     ]
    }
   ],
   "source": [
    "cd ../../closet\n",
    "ls"
   ]
  },
  {
   "cell_type": "markdown",
   "metadata": {},
   "source": [
    "- Let's bury this skeleton in that churchyard behind the house."
   ]
  },
  {
   "cell_type": "code",
   "execution_count": 16,
   "metadata": {
    "dotnet_interactive": {
     "language": "pwsh"
    },
    "vscode": {
     "languageId": "dotnet-interactive.pwsh"
    }
   },
   "outputs": [
    {
     "name": "stdout",
     "output_type": "stream",
     "text": [
      "\n",
      "    Directory: \n",
      "C:\\code\\teaching\\mern-stack-course\\1-basics\\1-Termial\\house\\living-room\\backdoor\\in-that-churchyard\n",
      "\n",
      "\u001b[32;1mMode                 LastWriteTime         Length Name\u001b[0m\n",
      "\u001b[32;1m----                 -------------         ------ ----\u001b[0m\n",
      "d----            6/9/2022  1:07 PM                shallow-grave\n",
      "-a---            6/8/2022  7:18 PM           5049 .ghost.boo\n",
      "-a---            6/8/2022  6:49 PM             18 dirt.txt\n",
      "-a---            6/9/2022  1:07 PM             26 skeleton.txt\n",
      "\n"
     ]
    }
   ],
   "source": [
    "mv skeleton.txt ../../backdoor/in-that-churchyard\n",
    "cd ../../backdoor/in-that-churchyard\n",
    "ls"
   ]
  },
  {
   "cell_type": "markdown",
   "metadata": {},
   "source": [
    "#### Creating a new directory\n",
    "- We need to make a directory to hide the skeleton. We can make a directory with the ```md``` (make directory) command."
   ]
  },
  {
   "cell_type": "code",
   "execution_count": 18,
   "metadata": {
    "dotnet_interactive": {
     "language": "pwsh"
    },
    "vscode": {
     "languageId": "dotnet-interactive.pwsh"
    }
   },
   "outputs": [
    {
     "name": "stdout",
     "output_type": "stream",
     "text": [
      "\n",
      "    Directory: \n",
      "C:\\code\\teaching\\mern-stack-course\\1-basics\\1-Termial\\house\\living-room\\backdoor\\in-that-churchyard\n",
      "\n",
      "\u001b[32;1mMode                 LastWriteTime         Length Name\u001b[0m\n",
      "\u001b[32;1m----                 -------------         ------ ----\u001b[0m\n",
      "d----           6/24/2022 10:37 AM                shallow-grave\n",
      "\n"
     ]
    }
   ],
   "source": [
    "md shallow-grave"
   ]
  },
  {
   "cell_type": "code",
   "execution_count": 19,
   "metadata": {
    "dotnet_interactive": {
     "language": "pwsh"
    },
    "vscode": {
     "languageId": "dotnet-interactive.pwsh"
    }
   },
   "outputs": [
    {
     "name": "stdout",
     "output_type": "stream",
     "text": [
      "\n",
      "    Directory: \n",
      "C:\\code\\teaching\\mern-stack-course\\1-basics\\1-Termial\\house\\living-room\\backdoor\\in-that-churchyard\n",
      "\n",
      "\u001b[32;1mMode                 LastWriteTime         Length Name\u001b[0m\n",
      "\u001b[32;1m----                 -------------         ------ ----\u001b[0m\n",
      "d----           6/24/2022 10:37 AM                shallow-grave\n",
      "-a---            6/8/2022  7:18 PM           5049 .ghost.boo\n",
      "-a---            6/8/2022  6:49 PM             18 dirt.txt\n",
      "\n"
     ]
    }
   ],
   "source": [
    "mv skeleton.txt shallow-grave/skeleton.txt\n",
    "ls"
   ]
  },
  {
   "cell_type": "markdown",
   "metadata": {},
   "source": [
    "#### Renaming a file/directory\n",
    "\n",
    "- We probably need to hide our track a bit better than this. \n",
    "- Let's rename the grave so that it's not so suspicious. \n",
    "- The ```mv``` command also has another function. You can rename the file/directory if you change the file name at the end of the path."
   ]
  },
  {
   "cell_type": "code",
   "execution_count": 20,
   "metadata": {
    "dotnet_interactive": {
     "language": "pwsh"
    },
    "vscode": {
     "languageId": "dotnet-interactive.pwsh"
    }
   },
   "outputs": [
    {
     "name": "stdout",
     "output_type": "stream",
     "text": [
      "\n",
      "    Directory: \n",
      "C:\\code\\teaching\\mern-stack-course\\1-basics\\1-Termial\\house\\living-room\\backdoor\\in-that-churchyard\n",
      "\n",
      "\u001b[32;1mMode                 LastWriteTime         Length Name\u001b[0m\n",
      "\u001b[32;1m----                 -------------         ------ ----\u001b[0m\n",
      "d----           6/24/2022 10:37 AM                not-shallow-grave\n",
      "-a---            6/8/2022  7:18 PM           5049 .ghost.boo\n",
      "-a---            6/8/2022  6:49 PM             18 dirt.txt\n",
      "\n"
     ]
    }
   ],
   "source": [
    "mv shallow-grave ./not-shallow-grave\n",
    "ls"
   ]
  },
  {
   "cell_type": "markdown",
   "metadata": {},
   "source": [
    "#### Bash\n",
    "- Everything up to this point can be applied to Linux/Mac with some slight differences\n",
    "  - ni is touch\n",
    "  - md is mkdir\n",
    "  - tree is not installed by default."
   ]
  },
  {
   "cell_type": "markdown",
   "metadata": {},
   "source": [
    "## Installing programs from the command-line\n",
    "---\n",
    "We can also install programs much quicker and easy using commands in the terminal using package managers. For Windows, I'll be using chocolatey.\n",
    "\n",
    "#### Installing Chocolatey\n",
    "\n",
    "- First, we run the install command found on the [chocolatey website](https://chocolatey.org/install#individual)."
   ]
  },
  {
   "cell_type": "code",
   "execution_count": null,
   "metadata": {
    "dotnet_interactive": {
     "language": "pwsh"
    },
    "vscode": {
     "languageId": "dotnet-interactive.pwsh"
    }
   },
   "outputs": [],
   "source": [
    "Set-ExecutionPolicy Bypass -Scope Process -Force; [System.Net.ServicePointManager]::SecurityProtocol = [System.Net.ServicePointManager]::SecurityProtocol -bor 3072; iex ((New-Object System.Net.WebClient).DownloadString('https://community.chocolatey.org/install.ps1'))"
   ]
  },
  {
   "cell_type": "markdown",
   "metadata": {},
   "source": [
    "- Let's download and install our first program call git. \n",
    "###### *You may be prompted with a y or n. In that case type \"y\" and hit enter."
   ]
  },
  {
   "cell_type": "code",
   "execution_count": null,
   "metadata": {
    "dotnet_interactive": {
     "language": "pwsh"
    },
    "vscode": {
     "languageId": "dotnet-interactive.pwsh"
    }
   },
   "outputs": [],
   "source": [
    "choco install git"
   ]
  },
  {
   "cell_type": "markdown",
   "metadata": {},
   "source": [
    "- Congratulations you have just installed a program using the command-line. \n",
    "- This is very useful and usually more secure because you don't download the installer, go through the GUI, and check if you are installing bloatware.\n",
    "- Now let's install a coding text editor called Visual Studio Code. We can use the \"-y\" flag to auto yes the installation.\n",
    "- Flags are basically triggering optional settings for a command."
   ]
  },
  {
   "cell_type": "code",
   "execution_count": null,
   "metadata": {
    "dotnet_interactive": {
     "language": "pwsh"
    },
    "vscode": {
     "languageId": "dotnet-interactive.pwsh"
    }
   },
   "outputs": [],
   "source": [
    "choco install vscode -y"
   ]
  },
  {
   "cell_type": "markdown",
   "metadata": {},
   "source": [
    "- We can also use package managers to install multiple programs with one command.\n",
    "- Let's install everything we'll need for the course right now. \n",
    "- Don't worry if you don't recognize some of these programs, we'll use them later.\n"
   ]
  },
  {
   "cell_type": "code",
   "execution_count": null,
   "metadata": {
    "dotnet_interactive": {
     "language": "pwsh"
    },
    "vscode": {
     "languageId": "dotnet-interactive.pwsh"
    }
   },
   "outputs": [],
   "source": [
    "choco install mongodb-compass mongodb nodejs postman gh -y"
   ]
  },
  {
   "cell_type": "markdown",
   "metadata": {},
   "source": [
    "- And we are done with terminal basics"
   ]
  },
  {
   "cell_type": "markdown",
   "metadata": {},
   "source": [
    "## Extra tips and tricks\n",
    "---\n",
    "- We can make a file in a directory that doesn't exist yet using the force flag **-f**. This with automatically make the required directories."
   ]
  },
  {
   "cell_type": "code",
   "execution_count": 21,
   "metadata": {
    "dotnet_interactive": {
     "language": "pwsh"
    },
    "vscode": {
     "languageId": "dotnet-interactive.pwsh"
    }
   },
   "outputs": [
    {
     "name": "stdout",
     "output_type": "stream",
     "text": [
      "\n",
      "    Directory: C:\\code\\teaching\\mern-stack-course\\1-basics\\1-Termial\\house\\fishtank\n",
      "\n",
      "\u001b[32;1mMode                 LastWriteTime         Length Name\u001b[0m\n",
      "\u001b[32;1m----                 -------------         ------ ----\u001b[0m\n",
      "-a---           6/24/2022 10:38 AM              0 Nemo.fish\n",
      "\n"
     ]
    }
   ],
   "source": [
    "cd ../../..\n",
    "ni -f fishtank/Nemo.fish"
   ]
  },
  {
   "cell_type": "markdown",
   "metadata": {},
   "source": [
    "- The **echo** command can do 3 things\n",
    "1) You can print to the terminal.\n",
    "2) You can write in a file. (overwrites whatever is inside)\n",
    "3) You can add to the end (append) of a file."
   ]
  },
  {
   "cell_type": "code",
   "execution_count": 22,
   "metadata": {
    "dotnet_interactive": {
     "language": "pwsh"
    },
    "vscode": {
     "languageId": "dotnet-interactive.pwsh"
    }
   },
   "outputs": [
    {
     "name": "stdout",
     "output_type": "stream",
     "text": [
      "hello world\n"
     ]
    }
   ],
   "source": [
    "echo \"hello world\""
   ]
  },
  {
   "cell_type": "code",
   "execution_count": 23,
   "metadata": {
    "dotnet_interactive": {
     "language": "pwsh"
    },
    "vscode": {
     "languageId": "dotnet-interactive.pwsh"
    }
   },
   "outputs": [],
   "source": [
    "echo \"Just keep swimming\" > Nemo.fish"
   ]
  },
  {
   "cell_type": "code",
   "execution_count": 24,
   "metadata": {
    "dotnet_interactive": {
     "language": "pwsh"
    },
    "vscode": {
     "languageId": "dotnet-interactive.pwsh"
    }
   },
   "outputs": [],
   "source": [
    "echo \"Don't say anything. Just keep swimming\" >> Nemo.fish"
   ]
  },
  {
   "cell_type": "markdown",
   "metadata": {},
   "source": [
    "- You can print an entire file with the **cat** command."
   ]
  },
  {
   "cell_type": "code",
   "execution_count": 25,
   "metadata": {
    "dotnet_interactive": {
     "language": "pwsh"
    },
    "vscode": {
     "languageId": "dotnet-interactive.pwsh"
    }
   },
   "outputs": [
    {
     "name": "stdout",
     "output_type": "stream",
     "text": [
      "Just keep swimming\n",
      "Don't say anything. Just keep swimming\n"
     ]
    }
   ],
   "source": [
    "cat Nemo.fish"
   ]
  },
  {
   "cell_type": "markdown",
   "metadata": {},
   "source": [
    "- We can make/remove multiple new files by separating them with commas."
   ]
  },
  {
   "cell_type": "code",
   "execution_count": 26,
   "metadata": {
    "dotnet_interactive": {
     "language": "pwsh"
    },
    "vscode": {
     "languageId": "dotnet-interactive.pwsh"
    }
   },
   "outputs": [
    {
     "name": "stdout",
     "output_type": "stream",
     "text": [
      "\n",
      "    Directory: C:\\code\\teaching\\mern-stack-course\\1-basics\\1-Termial\\house\\fishtank\n",
      "\n",
      "\u001b[32;1mMode                 LastWriteTime         Length Name\u001b[0m\n",
      "\u001b[32;1m----                 -------------         ------ ----\u001b[0m\n",
      "-a---           6/24/2022 10:38 AM              0 one.fish\n",
      "-a---           6/24/2022 10:38 AM              0 two.fish\n",
      "-a---           6/24/2022 10:38 AM              0 red.fish\n",
      "-a---           6/24/2022 10:38 AM              0 blue.fish\n",
      "\n"
     ]
    }
   ],
   "source": [
    "cd fishtank\n",
    "ni one.fish, two.fish, red.fish, blue.fish\n",
    "rm one.fish, two.fish, red.fish, blue.fish, Nemo.fish"
   ]
  },
  {
   "cell_type": "markdown",
   "metadata": {},
   "source": [
    "- We can run multiple commands in line by separating them with **&&**"
   ]
  },
  {
   "cell_type": "code",
   "execution_count": 27,
   "metadata": {
    "dotnet_interactive": {
     "language": "pwsh"
    },
    "vscode": {
     "languageId": "dotnet-interactive.pwsh"
    }
   },
   "outputs": [
    {
     "name": "stdout",
     "output_type": "stream",
     "text": [
      "\n",
      "    Directory: C:\\code\\teaching\\mern-stack-course\\1-basics\\1-Termial\\house\n",
      "\n",
      "\u001b[32;1mMode                 LastWriteTime         Length Name\u001b[0m\n",
      "\u001b[32;1m----                 -------------         ------ ----\u001b[0m\n",
      "-a---           6/24/2022 10:38 AM              0 mr.hyde\n",
      "\n"
     ]
    }
   ],
   "source": [
    "cd .. && rm fishtank && ni mr.hyde && mv mr.hyde dr.jekyll"
   ]
  },
  {
   "cell_type": "markdown",
   "metadata": {},
   "source": [
    "- We can install earlier/alternate versions of programs as well."
   ]
  },
  {
   "cell_type": "code",
   "execution_count": null,
   "metadata": {
    "dotnet_interactive": {
     "language": "pwsh"
    },
    "vscode": {
     "languageId": "dotnet-interactive.pwsh"
    }
   },
   "outputs": [],
   "source": [
    "choco uninstall nodejs -y\n",
    "choco install nodejs --version=14.19.0 -y"
   ]
  },
  {
   "cell_type": "markdown",
   "metadata": {},
   "source": [
    "- We can update all of the programs we've installed with chocolatey with a single command."
   ]
  },
  {
   "cell_type": "code",
   "execution_count": null,
   "metadata": {
    "dotnet_interactive": {
     "language": "pwsh"
    },
    "vscode": {
     "languageId": "dotnet-interactive.pwsh"
    }
   },
   "outputs": [],
   "source": [
    "choco upgrade all -y"
   ]
  },
  {
   "cell_type": "markdown",
   "metadata": {},
   "source": [
    "- We can prevent programs from upgrading."
   ]
  },
  {
   "cell_type": "code",
   "execution_count": null,
   "metadata": {
    "dotnet_interactive": {
     "language": "pwsh"
    },
    "vscode": {
     "languageId": "dotnet-interactive.pwsh"
    }
   },
   "outputs": [],
   "source": [
    "choco pin add -n nodejs"
   ]
  },
  {
   "cell_type": "markdown",
   "metadata": {},
   "source": [
    "- This is how we can undo that."
   ]
  },
  {
   "cell_type": "code",
   "execution_count": null,
   "metadata": {
    "dotnet_interactive": {
     "language": "pwsh"
    },
    "vscode": {
     "languageId": "dotnet-interactive.pwsh"
    }
   },
   "outputs": [],
   "source": [
    "choco pin remove -n nodejs"
   ]
  },
  {
   "cell_type": "markdown",
   "metadata": {},
   "source": [
    "- We can make our own custom commands to type out less in the PowerShell startup file.\n",
    "- Write a new Alias with **New-Alias** then the custom command then in quotes what it's a shortcut for."
   ]
  },
  {
   "cell_type": "code",
   "execution_count": null,
   "metadata": {
    "dotnet_interactive": {
     "language": "pwsh"
    },
    "vscode": {
     "languageId": "dotnet-interactive.pwsh"
    }
   },
   "outputs": [],
   "source": [
    "New-Alias exp \"explorer.exe\""
   ]
  },
  {
   "cell_type": "markdown",
   "metadata": {},
   "source": [
    "- If you want it saved, you'll need to save it in the profile.ps1 that starts up every PowerShell session."
   ]
  },
  {
   "cell_type": "code",
   "execution_count": null,
   "metadata": {
    "dotnet_interactive": {
     "language": "pwsh"
    },
    "vscode": {
     "languageId": "dotnet-interactive.pwsh"
    }
   },
   "outputs": [],
   "source": [
    "Notepad $profile"
   ]
  },
  {
   "cell_type": "markdown",
   "metadata": {},
   "source": [
    "## References\n",
    "---\n",
    "This was a brief overview of some basic things you can do with the terminal. Check out these resources for more.\n",
    "- [PowerShell documentation](https://docs.microsoft.com/en-us/powershell/scripting/how-to-use-docs?view=powershell-7.2)\n",
    "- [Bash documentation](https://www.gnu.org/savannah-checkouts/gnu/bash/manual/bash.html)\n",
    "- [Chocolatey commands](https://docs.chocolatey.org/en-us/choco/commands/)"
   ]
  }
 ],
 "metadata": {
  "interpreter": {
   "hash": "369f2c481f4da34e4445cda3fffd2e751bd1c4d706f27375911949ba6bb62e1c"
  },
  "kernelspec": {
   "display_name": ".NET (PowerShell)",
   "language": "PowerShell",
   "name": ".net-powershell"
  },
  "language_info": {
   "file_extension": ".ps1",
   "mimetype": "text/x-powershell",
   "name": "PowerShell",
   "pygments_lexer": "powershell",
   "version": "7.0"
  }
 },
 "nbformat": 4,
 "nbformat_minor": 4
}
