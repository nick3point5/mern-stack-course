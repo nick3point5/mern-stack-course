{
 "cells": [
  {
   "cell_type": "markdown",
   "metadata": {},
   "source": [
    "# Terminal Basics\n",
    "[![Terminal Basics](https://mybinder.org/badge_logo.svg)](https://mybinder.org/v2/gh/nick3point5/mern-stack-course/HEAD?labpath=1-basics%2F1-Terminal%2FTerminal.ipynb)\n",
    "---\n",
    "## Intro\n",
    "The way most people use their computers is with Graphical User Interfaces (GUIs). But underneath the UI, the program that you use, these programs are running system commands to your computer. Using a terminal, sometimes referred to as the command-line (cli), you can interact with your system on a deeper level. Learning to use your terminal is essential in a developer tool kit. This lesson will be about understanding and using basic terminal commands. The topic in this lesson is the following:\n",
    "#### Using terminal\n",
    "- Getting a terminal\n",
    "- Opening a terminal\n",
    "- Changing directories\n",
    "- Listing files/directories\n",
    "- Creating new files\n",
    "- Moving files/directories\n",
    "- Showing sub-directories\n",
    "- Removing files/directories\n",
    "- Creating new directories\n",
    "- Renaming files/directories\n",
    "- Bash\n",
    "#### Installing applications using command-line"
   ]
  },
  {
   "cell_type": "markdown",
   "metadata": {},
   "source": [
    "## Using terminal\n",
    "---\n",
    "#### Getting to your terminal\n",
    "First, let's get to your terminal. This is a \"gaming\" server, so probably you are running windows. Powershell is the default terminal that comes pre-installed on modern windows. I recommend installing [Windows Terminal](https://apps.microsoft.com/store/detail/windows-terminal/9N0DX20HK701?hl=en-us&gl=US) because the default PowerShell terminal looks gross (personal opinion). There are also some very convenient features the default does not provide.\n",
    "\n",
    "#### Changing directories\n",
    "- Let's navigate to this directory (folder) that has this lesson in it. Open your file explorer and take note of the address bar.\n",
    "\n",
    "![](../../assets/images/terminal/explorer.png)\n",
    "\n",
    "- If you click on the address bar you'll get a file path like this: **C:\\code\\teaching\\mern-stack-course\\1-basics\\1-Termial**\n",
    "\n",
    "![](../../assets/images/terminal/explorer-selected.png)\n",
    "\n",
    "- Go ahead and copy that down. Now by hitting the windows key, we can open the windows start menu and type in \"terminal\".\n",
    "\n",
    "![](../../assets/images/terminal/Terminal-start.png)\n",
    "\n",
    "- Now in the terminal, type \"cd\" (change directory). then type the file path that we  copied before.  Hit the enter key. An example is provided below:\n"
   ]
  },
  {
   "cell_type": "code",
   "execution_count": null,
   "metadata": {
    "dotnet_interactive": {
     "language": "pwsh"
    },
    "vscode": {
     "languageId": "dotnet-interactive.pwsh"
    }
   },
   "outputs": [],
   "source": [
    "cd C:\\code\\teaching\\mern-stack-course\\1-basics\\1-Terminal"
   ]
  },
  {
   "cell_type": "markdown",
   "metadata": {},
   "source": [
    "###### *If one of your directory has a space in it's name you will need to wrap the path in quotes ```cd \"C:\\code\\teaching\\mern-stack-course\\1-basics\\1-Termial\"```\n",
    "###### *If you are running the jupyter binder it's ```cd /home/jovyan/Notebooks/1-basics/1-Termial```"
   ]
  },
  {
   "cell_type": "markdown",
   "metadata": {},
   "source": [
    "- You are now located in the directory in your terminal. \n",
    "###### *Quick tip you can actually right-click in the explorer and there will be an option to Open in the terminal to start in that directory."
   ]
  },
  {
   "cell_type": "markdown",
   "metadata": {},
   "source": [
    "#### Listing files/directories\n",
    "- Now that we know how to cd let's talk about ```ls``` (list). ls will list all the files and directories in the current (working) directory your terminal is in."
   ]
  },
  {
   "cell_type": "code",
   "execution_count": null,
   "metadata": {
    "dotnet_interactive": {
     "language": "pwsh"
    },
    "vscode": {
     "languageId": "dotnet-interactive.pwsh"
    }
   },
   "outputs": [
    {
     "name": "stdout",
     "output_type": "stream",
     "text": [
      "\r\n",
      "    Directory: C:\\code\\teaching\\mern-stack-course\\1-basics\\1-Terminal\r\n",
      "\r\n",
      "\u001b[32;1mMode                 LastWriteTime         Length Name\u001b[0m\r\n",
      "\u001b[32;1m----                 -------------         ------ ----\u001b[0m\r\n",
      "d----           6/26/2022  6:38 AM                house\r\n",
      "d----            6/8/2022  6:49 PM                shed\r\n",
      "-a---           6/26/2022  6:42 AM          22900 Terminal.ipynb\r\n",
      "\r\n"
     ]
    }
   ],
   "source": [
    "ls"
   ]
  },
  {
   "cell_type": "markdown",
   "metadata": {},
   "source": [
    "- Cool, so we have a house and a shed let's go to the shed. But, typing out the absolute path **C:\\code\\teaching\\mern-stack-course\\1-basics\\1-Termial\\shed** is a bit of a hassle. \n",
    "- We can shorten it to **./shed**. The dot (.) is a short-hand way of saying the working directory we are in **C:\\code\\teaching\\mern-stack-course\\1-basics\\1-Termial\\shed**. \n",
    "- Let's take a look inside the shed."
   ]
  },
  {
   "cell_type": "code",
   "execution_count": null,
   "metadata": {
    "dotnet_interactive": {
     "language": "pwsh"
    },
    "vscode": {
     "languageId": "dotnet-interactive.pwsh"
    }
   },
   "outputs": [
    {
     "name": "stdout",
     "output_type": "stream",
     "text": [
      "\r\n",
      "    Directory: C:\\code\\teaching\\mern-stack-course\\1-basics\\1-Terminal\\shed\r\n",
      "\r\n",
      "\u001b[32;1mMode                 LastWriteTime         Length Name\u001b[0m\r\n",
      "\u001b[32;1m----                 -------------         ------ ----\u001b[0m\r\n",
      "-a---            6/8/2022  6:49 PM             11 hammer.txt\r\n",
      "-a---            6/8/2022  6:49 PM             12 saw.txt\r\n",
      "-a---            6/8/2022  6:49 PM             51 wrench.txt\r\n",
      "\r\n"
     ]
    }
   ],
   "source": [
    "cd ./shed\n",
    "ls"
   ]
  },
  {
   "cell_type": "markdown",
   "metadata": {},
   "source": [
    "- Let's leave the shed. Going back up the directory also has a shortcut ```..```"
   ]
  },
  {
   "cell_type": "code",
   "execution_count": null,
   "metadata": {
    "dotnet_interactive": {
     "language": "pwsh"
    },
    "vscode": {
     "languageId": "dotnet-interactive.pwsh"
    }
   },
   "outputs": [
    {
     "name": "stdout",
     "output_type": "stream",
     "text": [
      "\r\n",
      "    Directory: C:\\code\\teaching\\mern-stack-course\\1-basics\\1-Terminal\r\n",
      "\r\n",
      "\u001b[32;1mMode                 LastWriteTime         Length Name\u001b[0m\r\n",
      "\u001b[32;1m----                 -------------         ------ ----\u001b[0m\r\n",
      "d----           6/26/2022  6:38 AM                house\r\n",
      "d----            6/8/2022  6:49 PM                shed\r\n",
      "-a---           6/26/2022  6:42 AM          22900 Terminal.ipynb\r\n",
      "\r\n"
     ]
    }
   ],
   "source": [
    "cd ..\n",
    "ls"
   ]
  },
  {
   "cell_type": "markdown",
   "metadata": {},
   "source": [
    "- Did you know that you can type the first letter and hit tab key to auto complete what's in your working directory?\n",
    "- Let's go into the house now. "
   ]
  },
  {
   "cell_type": "code",
   "execution_count": null,
   "metadata": {
    "dotnet_interactive": {
     "language": "pwsh"
    },
    "vscode": {
     "languageId": "dotnet-interactive.pwsh"
    }
   },
   "outputs": [
    {
     "name": "stdout",
     "output_type": "stream",
     "text": [
      "\r\n",
      "    Directory: C:\\code\\teaching\\mern-stack-course\\1-basics\\1-Terminal\\house\r\n",
      "\r\n",
      "\u001b[32;1mMode                 LastWriteTime         Length Name\u001b[0m\r\n",
      "\u001b[32;1m----                 -------------         ------ ----\u001b[0m\r\n",
      "d----            6/8/2022  6:49 PM                living-room\r\n",
      "\r\n"
     ]
    }
   ],
   "source": [
    "cd ./house\n",
    "ls"
   ]
  },
  {
   "cell_type": "markdown",
   "metadata": {},
   "source": [
    "- Let's keep going."
   ]
  },
  {
   "cell_type": "code",
   "execution_count": null,
   "metadata": {
    "dotnet_interactive": {
     "language": "pwsh"
    },
    "vscode": {
     "languageId": "dotnet-interactive.pwsh"
    }
   },
   "outputs": [
    {
     "name": "stdout",
     "output_type": "stream",
     "text": [
      "\r\n",
      "    Directory: C:\\code\\teaching\\mern-stack-course\\1-basics\\1-Terminal\\house\\living-room\r\n",
      "\r\n",
      "\u001b[32;1mMode                 LastWriteTime         Length Name\u001b[0m\r\n",
      "\u001b[32;1m----                 -------------         ------ ----\u001b[0m\r\n",
      "d----            6/8/2022  6:49 PM                backdoor\r\n",
      "d----            6/8/2022  6:49 PM                bedroom\r\n",
      "d----           6/26/2022  6:38 AM                dining-room\r\n",
      "d----            6/8/2022  6:49 PM                kitchen\r\n",
      "\r\n"
     ]
    }
   ],
   "source": [
    "cd living-room\n",
    "ls"
   ]
  },
  {
   "cell_type": "markdown",
   "metadata": {},
   "source": [
    "- I'm feeling hungry let's go into the kitchen and make some food."
   ]
  },
  {
   "cell_type": "code",
   "execution_count": null,
   "metadata": {
    "dotnet_interactive": {
     "language": "pwsh"
    },
    "vscode": {
     "languageId": "dotnet-interactive.pwsh"
    }
   },
   "outputs": [
    {
     "name": "stdout",
     "output_type": "stream",
     "text": [
      "\r\n",
      "    Directory: C:\\code\\teaching\\mern-stack-course\\1-basics\\1-Terminal\\house\\living-room\\kitchen\r\n",
      "\r\n",
      "\u001b[32;1mMode                 LastWriteTime         Length Name\u001b[0m\r\n",
      "\u001b[32;1m----                 -------------         ------ ----\u001b[0m\r\n",
      "d----           6/26/2022  6:38 AM                fridge\r\n",
      "d----           6/26/2022  6:38 AM                oven\r\n",
      "\r\n"
     ]
    }
   ],
   "source": [
    "cd kitchen\n",
    "ls"
   ]
  },
  {
   "cell_type": "markdown",
   "metadata": {},
   "source": [
    "- Let's check out the fridge"
   ]
  },
  {
   "cell_type": "code",
   "execution_count": null,
   "metadata": {
    "dotnet_interactive": {
     "language": "pwsh"
    },
    "vscode": {
     "languageId": "dotnet-interactive.pwsh"
    }
   },
   "outputs": [
    {
     "name": "stdout",
     "output_type": "stream",
     "text": [
      "\r\n",
      "    Directory: \r\n",
      "C:\\code\\teaching\\mern-stack-course\\1-basics\\1-Terminal\\house\\living-room\\kitchen\\fridge\r\n",
      "\r\n",
      "\u001b[32;1mMode                 LastWriteTime         Length Name\u001b[0m\r\n",
      "\u001b[32;1m----                 -------------         ------ ----\u001b[0m\r\n",
      "-a---            6/8/2022  6:49 PM             33 grape.txt\r\n",
      "-a---           6/26/2022  6:34 AM              9 turkey.txt\r\n",
      "\r\n"
     ]
    }
   ],
   "source": [
    "cd fridge\n",
    "ls"
   ]
  },
  {
   "cell_type": "markdown",
   "metadata": {},
   "source": [
    "#### Creating new files\n",
    "- The fridge is kind of empty let's make a new item in the fridge with the ```ni``` (New-Item) command."
   ]
  },
  {
   "cell_type": "code",
   "execution_count": null,
   "metadata": {
    "dotnet_interactive": {
     "language": "pwsh"
    },
    "vscode": {
     "languageId": "dotnet-interactive.pwsh"
    }
   },
   "outputs": [
    {
     "name": "stdout",
     "output_type": "stream",
     "text": [
      "\r\n",
      "    Directory: \r\n",
      "C:\\code\\teaching\\mern-stack-course\\1-basics\\1-Terminal\\house\\living-room\\kitchen\\fridge\r\n",
      "\r\n",
      "\u001b[32;1mMode                 LastWriteTime         Length Name\u001b[0m\r\n",
      "\u001b[32;1m----                 -------------         ------ ----\u001b[0m\r\n",
      "-a---           6/26/2022  6:42 AM              0 milk.txt\r\n",
      "\r\n"
     ]
    }
   ],
   "source": [
    "ni milk.txt"
   ]
  },
  {
   "cell_type": "markdown",
   "metadata": {},
   "source": [
    "#### Moving files/directories\n",
    "- Let's move that turkey.txt to the oven we saw earlier. We can move items using the ```mv``` (move) command."
   ]
  },
  {
   "cell_type": "code",
   "execution_count": null,
   "metadata": {
    "dotnet_interactive": {
     "language": "pwsh"
    },
    "vscode": {
     "languageId": "dotnet-interactive.pwsh"
    }
   },
   "outputs": [
    {
     "name": "stdout",
     "output_type": "stream",
     "text": [
      "\r\n",
      "    Directory: \r\n",
      "C:\\code\\teaching\\mern-stack-course\\1-basics\\1-Terminal\\house\\living-room\\kitchen\\oven\r\n",
      "\r\n",
      "\u001b[32;1mMode                 LastWriteTime         Length Name\u001b[0m\r\n",
      "\u001b[32;1m----                 -------------         ------ ----\u001b[0m\r\n",
      "-a---            6/8/2022  6:49 PM              0 happy-fella.txt\r\n",
      "-a---           6/26/2022  6:34 AM              9 turkey.txt\r\n",
      "\r\n"
     ]
    }
   ],
   "source": [
    "mv turkey.txt ../oven\n",
    "cd ../oven\n",
    "ls"
   ]
  },
  {
   "cell_type": "markdown",
   "metadata": {},
   "source": [
    "- Let's wait in the dining room for the turkey to cook."
   ]
  },
  {
   "cell_type": "code",
   "execution_count": null,
   "metadata": {
    "dotnet_interactive": {
     "language": "pwsh"
    },
    "vscode": {
     "languageId": "dotnet-interactive.pwsh"
    }
   },
   "outputs": [
    {
     "name": "stdout",
     "output_type": "stream",
     "text": [
      "\r\n",
      "    Directory: C:\\code\\teaching\\mern-stack-course\\1-basics\\1-Terminal\\house\\living-room\\dining-room\r\n",
      "\r\n",
      "\u001b[32;1mMode                 LastWriteTime         Length Name\u001b[0m\r\n",
      "\u001b[32;1m----                 -------------         ------ ----\u001b[0m\r\n",
      "-a---           6/26/2022  6:38 AM             14 dead-body.txt\r\n",
      "\r\n"
     ]
    }
   ],
   "source": [
    "cd ../../dining-room\n",
    "ls"
   ]
  },
  {
   "cell_type": "markdown",
   "metadata": {},
   "source": [
    "#### Showing sub-directories\n",
    "- oh no, there's a dead body in our house. Let's go back to the living room and look around. We can print the directory structure with the ```tree``` command."
   ]
  },
  {
   "cell_type": "code",
   "execution_count": null,
   "metadata": {
    "dotnet_interactive": {
     "language": "pwsh"
    },
    "vscode": {
     "languageId": "dotnet-interactive.pwsh"
    }
   },
   "outputs": [
    {
     "name": "stdout",
     "output_type": "stream",
     "text": [
      "Folder PATH listing for volume Windows\r\n",
      "Volume serial number is 82F3-B997\r\n",
      "C:.\r\n",
      "����backdoor\r\n",
      "�   ����in-that-churchyard\r\n",
      "�       ����not-shallow-grave\r\n",
      "�           ����shallow-grave\r\n",
      "����bedroom\r\n",
      "�   ����bathroom\r\n",
      "�   �   ����acid-filled-bathtub\r\n",
      "�   ����closet\r\n",
      "����dining-room\r\n",
      "����kitchen\r\n",
      "    ����fridge\r\n",
      "    ����oven\r\n"
     ]
    }
   ],
   "source": [
    "cd ..\n",
    "tree"
   ]
  },
  {
   "cell_type": "markdown",
   "metadata": {},
   "source": [
    "- Lucky! We found a bathtub filled with acid. Let's put the body in the bathtub."
   ]
  },
  {
   "cell_type": "code",
   "execution_count": null,
   "metadata": {
    "dotnet_interactive": {
     "language": "pwsh"
    },
    "vscode": {
     "languageId": "dotnet-interactive.pwsh"
    }
   },
   "outputs": [
    {
     "name": "stdout",
     "output_type": "stream",
     "text": [
      "\r\n",
      "    Directory: C:\\code\\teaching\\mern-stack-course\\1-basics\\1-Terminal\\house\\living-room\\bedroom\\bat\r\n",
      "hroom\\acid-filled-bathtub\r\n",
      "\r\n",
      "\u001b[32;1mMode                 LastWriteTime         Length Name\u001b[0m\r\n",
      "\u001b[32;1m----                 -------------         ------ ----\u001b[0m\r\n",
      "-a---            6/8/2022  6:49 PM             12 acid.txt\r\n",
      "-a---           6/26/2022  6:38 AM             14 dead-body.txt\r\n",
      "\r\n"
     ]
    }
   ],
   "source": [
    "mv ./dining-room/dead-body.txt ./bedroom/bathroom/acid-filled-bathtub\n",
    "cd ./bedroom/bathroom/acid-filled-bathtub\n",
    "ls"
   ]
  },
  {
   "cell_type": "markdown",
   "metadata": {},
   "source": [
    "#### Removing files/directories\n",
    "- We can remove the file with the ```rm``` (remove) command."
   ]
  },
  {
   "cell_type": "code",
   "execution_count": null,
   "metadata": {
    "dotnet_interactive": {
     "language": "pwsh"
    },
    "vscode": {
     "languageId": "dotnet-interactive.pwsh"
    }
   },
   "outputs": [
    {
     "name": "stdout",
     "output_type": "stream",
     "text": [
      "\r\n",
      "    Directory: C:\\code\\teaching\\mern-stack-course\\1-basics\\1-Terminal\\house\\living-room\\bedroom\\bat\r\n",
      "hroom\\acid-filled-bathtub\r\n",
      "\r\n",
      "\u001b[32;1mMode                 LastWriteTime         Length Name\u001b[0m\r\n",
      "\u001b[32;1m----                 -------------         ------ ----\u001b[0m\r\n",
      "-a---            6/8/2022  6:49 PM             12 acid.txt\r\n",
      "\r\n"
     ]
    }
   ],
   "source": [
    "rm dead-body.txt\n",
    "ls"
   ]
  },
  {
   "cell_type": "markdown",
   "metadata": {},
   "source": [
    "- Let's check if there my more dead bodies around. We haven't check the closet yet."
   ]
  },
  {
   "cell_type": "code",
   "execution_count": null,
   "metadata": {
    "dotnet_interactive": {
     "language": "pwsh"
    },
    "vscode": {
     "languageId": "dotnet-interactive.pwsh"
    }
   },
   "outputs": [
    {
     "name": "stdout",
     "output_type": "stream",
     "text": [
      "\r\n",
      "    Directory: \r\n",
      "C:\\code\\teaching\\mern-stack-course\\1-basics\\1-Terminal\\house\\living-room\\bedroom\\closet\r\n",
      "\r\n",
      "\u001b[32;1mMode                 LastWriteTime         Length Name\u001b[0m\r\n",
      "\u001b[32;1m----                 -------------         ------ ----\u001b[0m\r\n",
      "-a---           6/26/2022  6:38 AM             26 skeleton.txt\r\n",
      "\r\n"
     ]
    }
   ],
   "source": [
    "cd ../../closet\n",
    "ls"
   ]
  },
  {
   "cell_type": "markdown",
   "metadata": {},
   "source": [
    "- Let's bury this skeleton in that churchyard behind the house."
   ]
  },
  {
   "cell_type": "code",
   "execution_count": null,
   "metadata": {
    "dotnet_interactive": {
     "language": "pwsh"
    },
    "vscode": {
     "languageId": "dotnet-interactive.pwsh"
    }
   },
   "outputs": [
    {
     "name": "stdout",
     "output_type": "stream",
     "text": [
      "\r\n",
      "    Directory: C:\\code\\teaching\\mern-stack-course\\1-basics\\1-Terminal\\house\\living-room\\backdoor\\in\r\n",
      "-that-churchyard\r\n",
      "\r\n",
      "\u001b[32;1mMode                 LastWriteTime         Length Name\u001b[0m\r\n",
      "\u001b[32;1m----                 -------------         ------ ----\u001b[0m\r\n",
      "d----           6/26/2022  6:38 AM                not-shallow-grave\r\n",
      "-a---            6/8/2022  6:49 PM             18 dirt.txt\r\n",
      "-a---           6/26/2022  6:38 AM             26 skeleton.txt\r\n",
      "\r\n"
     ]
    }
   ],
   "source": [
    "mv skeleton.txt ../../backdoor/in-that-churchyard\n",
    "cd ../../backdoor/in-that-churchyard\n",
    "ls"
   ]
  },
  {
   "cell_type": "markdown",
   "metadata": {},
   "source": [
    "#### Creating a new directory\n",
    "- We need to make a directory to hide the skeleton. We can make a directory with the ```md``` (make directory) command."
   ]
  },
  {
   "cell_type": "code",
   "execution_count": null,
   "metadata": {
    "dotnet_interactive": {
     "language": "pwsh"
    },
    "vscode": {
     "languageId": "dotnet-interactive.pwsh"
    }
   },
   "outputs": [
    {
     "name": "stdout",
     "output_type": "stream",
     "text": [
      "\r\n",
      "    Directory: C:\\code\\teaching\\mern-stack-course\\1-basics\\1-Terminal\\house\\living-room\\backdoor\\in\r\n",
      "-that-churchyard\r\n",
      "\r\n",
      "\u001b[32;1mMode                 LastWriteTime         Length Name\u001b[0m\r\n",
      "\u001b[32;1m----                 -------------         ------ ----\u001b[0m\r\n",
      "d----           6/26/2022  6:42 AM                shallow-grave\r\n",
      "\r\n"
     ]
    }
   ],
   "source": [
    "md shallow-grave"
   ]
  },
  {
   "cell_type": "code",
   "execution_count": null,
   "metadata": {
    "dotnet_interactive": {
     "language": "pwsh"
    },
    "vscode": {
     "languageId": "dotnet-interactive.pwsh"
    }
   },
   "outputs": [
    {
     "name": "stdout",
     "output_type": "stream",
     "text": [
      "\r\n",
      "    Directory: C:\\code\\teaching\\mern-stack-course\\1-basics\\1-Terminal\\house\\living-room\\backdoor\\in\r\n",
      "-that-churchyard\r\n",
      "\r\n",
      "\u001b[32;1mMode                 LastWriteTime         Length Name\u001b[0m\r\n",
      "\u001b[32;1m----                 -------------         ------ ----\u001b[0m\r\n",
      "d----           6/26/2022  6:38 AM                not-shallow-grave\r\n",
      "d----           6/26/2022  6:42 AM                shallow-grave\r\n",
      "-a---            6/8/2022  6:49 PM             18 dirt.txt\r\n",
      "\r\n"
     ]
    }
   ],
   "source": [
    "mv skeleton.txt shallow-grave/skeleton.txt\n",
    "ls"
   ]
  },
  {
   "cell_type": "markdown",
   "metadata": {},
   "source": [
    "#### Renaming a file/directory\n",
    "\n",
    "- We probably need to hide our track a bit better than this. \n",
    "- Let's rename the grave so that it's not so suspicious. \n",
    "- The ```mv``` command also has another function. You can rename the file/directory if you change the file name at the end of the path."
   ]
  },
  {
   "cell_type": "code",
   "execution_count": null,
   "metadata": {
    "dotnet_interactive": {
     "language": "pwsh"
    },
    "vscode": {
     "languageId": "dotnet-interactive.pwsh"
    }
   },
   "outputs": [
    {
     "name": "stdout",
     "output_type": "stream",
     "text": [
      "\r\n",
      "    Directory: C:\\code\\teaching\\mern-stack-course\\1-basics\\1-Terminal\\house\\living-room\\backdoor\\in\r\n",
      "-that-churchyard\r\n",
      "\r\n",
      "\u001b[32;1mMode                 LastWriteTime         Length Name\u001b[0m\r\n",
      "\u001b[32;1m----                 -------------         ------ ----\u001b[0m\r\n",
      "d----           6/26/2022  6:38 AM                not-shallow-grave\r\n",
      "-a---            6/8/2022  6:49 PM             18 dirt.txt\r\n",
      "\r\n"
     ]
    }
   ],
   "source": [
    "mv shallow-grave ./not-shallow-grave\n",
    "ls"
   ]
  },
  {
   "cell_type": "markdown",
   "metadata": {},
   "source": [
    "#### Bash\n",
    "- Everything up to this point can be applied to Linux/Mac with some slight differences\n",
    "  - ni is touch\n",
    "  - md is mkdir\n",
    "  - tree is not installed by default."
   ]
  },
  {
   "cell_type": "markdown",
   "metadata": {},
   "source": [
    "## Installing programs from the command-line\n",
    "---\n",
    "We can also install programs much quicker and easy using commands in the terminal using package managers. For Windows, I'll be using chocolatey.\n",
    "\n",
    "#### Installing Chocolatey\n",
    "\n",
    "- First, we run the install command found on the [chocolatey website](https://chocolatey.org/install#individual)."
   ]
  },
  {
   "cell_type": "code",
   "execution_count": null,
   "metadata": {
    "dotnet_interactive": {
     "language": "pwsh"
    },
    "vscode": {
     "languageId": "dotnet-interactive.pwsh"
    }
   },
   "outputs": [],
   "source": [
    "Set-ExecutionPolicy Bypass -Scope Process -Force; [System.Net.ServicePointManager]::SecurityProtocol = [System.Net.ServicePointManager]::SecurityProtocol -bor 3072; iex ((New-Object System.Net.WebClient).DownloadString('https://community.chocolatey.org/install.ps1'))"
   ]
  },
  {
   "cell_type": "markdown",
   "metadata": {},
   "source": [
    "- Let's download and install our first program call git. \n",
    "###### *You may be prompted with a y or n. In that case type \"y\" and hit enter."
   ]
  },
  {
   "cell_type": "code",
   "execution_count": null,
   "metadata": {
    "dotnet_interactive": {
     "language": "pwsh"
    },
    "vscode": {
     "languageId": "dotnet-interactive.pwsh"
    }
   },
   "outputs": [],
   "source": [
    "choco install git"
   ]
  },
  {
   "cell_type": "markdown",
   "metadata": {},
   "source": [
    "- Congratulations you have just installed a program using the command-line. \n",
    "- This is very useful and usually more secure because you don't download the installer, go through the GUI, and check if you are installing bloatware.\n",
    "- Now let's install a coding text editor called Visual Studio Code. We can use the \"-y\" flag to auto yes the installation.\n",
    "- Flags are basically triggering optional settings for a command."
   ]
  },
  {
   "cell_type": "code",
   "execution_count": null,
   "metadata": {
    "dotnet_interactive": {
     "language": "pwsh"
    },
    "vscode": {
     "languageId": "dotnet-interactive.pwsh"
    }
   },
   "outputs": [],
   "source": [
    "choco install vscode -y"
   ]
  },
  {
   "cell_type": "markdown",
   "metadata": {},
   "source": [
    "- We can also use package managers to install multiple programs with one command.\n",
    "- Let's install everything we'll need for the course right now. \n",
    "- Don't worry if you don't recognize some of these programs, we'll use them later.\n"
   ]
  },
  {
   "cell_type": "code",
   "execution_count": null,
   "metadata": {
    "dotnet_interactive": {
     "language": "pwsh"
    },
    "vscode": {
     "languageId": "dotnet-interactive.pwsh"
    }
   },
   "outputs": [],
   "source": [
    "choco install mongodb-compass mongodb nodejs postman gh -y"
   ]
  },
  {
   "cell_type": "markdown",
   "metadata": {},
   "source": [
    "- And we are done with terminal basics"
   ]
  },
  {
   "cell_type": "markdown",
   "metadata": {},
   "source": [
    "## Extra tips and tricks\n",
    "---\n",
    "- We can make a file in a directory that doesn't exist yet using the force flag **-f**. This with automatically make the required directories."
   ]
  },
  {
   "cell_type": "code",
   "execution_count": null,
   "metadata": {
    "dotnet_interactive": {
     "language": "pwsh"
    },
    "vscode": {
     "languageId": "dotnet-interactive.pwsh"
    }
   },
   "outputs": [
    {
     "name": "stdout",
     "output_type": "stream",
     "text": [
      "\r\n",
      "    Directory: C:\\code\\teaching\\mern-stack-course\\1-basics\\1-Terminal\\house\\fishtank\r\n",
      "\r\n",
      "\u001b[32;1mMode                 LastWriteTime         Length Name\u001b[0m\r\n",
      "\u001b[32;1m----                 -------------         ------ ----\u001b[0m\r\n",
      "-a---           6/26/2022  6:42 AM              0 Nemo.fish\r\n",
      "\r\n"
     ]
    }
   ],
   "source": [
    "cd ../../..\n",
    "ni -f fishtank/Nemo.fish"
   ]
  },
  {
   "cell_type": "markdown",
   "metadata": {},
   "source": [
    "- The **echo** command can do 3 things\n",
    "1) You can print to the terminal.\n",
    "2) You can write in a file. (overwrites whatever is inside)\n",
    "3) You can add to the end (append) of a file."
   ]
  },
  {
   "cell_type": "code",
   "execution_count": null,
   "metadata": {
    "dotnet_interactive": {
     "language": "pwsh"
    },
    "vscode": {
     "languageId": "dotnet-interactive.pwsh"
    }
   },
   "outputs": [
    {
     "name": "stdout",
     "output_type": "stream",
     "text": [
      "hello world\r\n"
     ]
    }
   ],
   "source": [
    "echo \"hello world\""
   ]
  },
  {
   "cell_type": "code",
   "execution_count": null,
   "metadata": {
    "dotnet_interactive": {
     "language": "pwsh"
    },
    "vscode": {
     "languageId": "dotnet-interactive.pwsh"
    }
   },
   "outputs": [],
   "source": [
    "echo \"Just keep swimming\" > Nemo.fish"
   ]
  },
  {
   "cell_type": "code",
   "execution_count": null,
   "metadata": {
    "dotnet_interactive": {
     "language": "pwsh"
    },
    "vscode": {
     "languageId": "dotnet-interactive.pwsh"
    }
   },
   "outputs": [],
   "source": [
    "echo \"Don't say anything. Just keep swimming\" >> Nemo.fish"
   ]
  },
  {
   "cell_type": "markdown",
   "metadata": {},
   "source": [
    "- You can print an entire file with the **cat** command."
   ]
  },
  {
   "cell_type": "code",
   "execution_count": null,
   "metadata": {
    "dotnet_interactive": {
     "language": "pwsh"
    },
    "vscode": {
     "languageId": "dotnet-interactive.pwsh"
    }
   },
   "outputs": [
    {
     "name": "stdout",
     "output_type": "stream",
     "text": [
      "Just keep swimming\r\n",
      "Don't say anything. Just keep swimming\r\n"
     ]
    }
   ],
   "source": [
    "cat Nemo.fish"
   ]
  },
  {
   "cell_type": "markdown",
   "metadata": {},
   "source": [
    "- We can make/remove multiple new files by separating them with commas."
   ]
  },
  {
   "cell_type": "code",
   "execution_count": null,
   "metadata": {
    "dotnet_interactive": {
     "language": "pwsh"
    },
    "vscode": {
     "languageId": "dotnet-interactive.pwsh"
    }
   },
   "outputs": [
    {
     "name": "stdout",
     "output_type": "stream",
     "text": [
      "\r\n",
      "    Directory: C:\\code\\teaching\\mern-stack-course\\1-basics\\1-Terminal\\house\\fishtank\r\n",
      "\r\n",
      "\u001b[32;1mMode                 LastWriteTime         Length Name\u001b[0m\r\n",
      "\u001b[32;1m----                 -------------         ------ ----\u001b[0m\r\n",
      "-a---           6/26/2022  6:42 AM              0 one.fish\r\n",
      "-a---           6/26/2022  6:42 AM              0 two.fish\r\n",
      "-a---           6/26/2022  6:42 AM              0 red.fish\r\n",
      "-a---           6/26/2022  6:42 AM              0 blue.fish\r\n",
      "\r\n"
     ]
    }
   ],
   "source": [
    "cd fishtank\n",
    "ni one.fish, two.fish, red.fish, blue.fish\n",
    "rm one.fish, two.fish, red.fish, blue.fish, Nemo.fish"
   ]
  },
  {
   "cell_type": "markdown",
   "metadata": {},
   "source": [
    "- We can run multiple commands in line by separating them with **&&**"
   ]
  },
  {
   "cell_type": "code",
   "execution_count": null,
   "metadata": {
    "dotnet_interactive": {
     "language": "pwsh"
    },
    "vscode": {
     "languageId": "dotnet-interactive.pwsh"
    }
   },
   "outputs": [
    {
     "name": "stdout",
     "output_type": "stream",
     "text": [
      "\r\n",
      "    Directory: C:\\code\\teaching\\mern-stack-course\\1-basics\\1-Terminal\\house\r\n",
      "\r\n",
      "\u001b[32;1mMode                 LastWriteTime         Length Name\u001b[0m\r\n",
      "\u001b[32;1m----                 -------------         ------ ----\u001b[0m\r\n",
      "-a---           6/26/2022  6:42 AM              0 mr.hyde\r\n",
      "\r\n"
     ]
    }
   ],
   "source": [
    "cd .. && rm fishtank && ni mr.hyde && mv mr.hyde dr.jekyll"
   ]
  },
  {
   "cell_type": "markdown",
   "metadata": {},
   "source": [
    "- We can install earlier/alternate versions of programs as well."
   ]
  },
  {
   "cell_type": "code",
   "execution_count": null,
   "metadata": {
    "dotnet_interactive": {
     "language": "pwsh"
    },
    "vscode": {
     "languageId": "dotnet-interactive.pwsh"
    }
   },
   "outputs": [],
   "source": [
    "choco uninstall nodejs -y\n",
    "choco install nodejs --version=14.19.0 -y"
   ]
  },
  {
   "cell_type": "markdown",
   "metadata": {},
   "source": [
    "- We can update all of the programs we've installed with chocolatey with a single command."
   ]
  },
  {
   "cell_type": "code",
   "execution_count": null,
   "metadata": {
    "dotnet_interactive": {
     "language": "pwsh"
    },
    "vscode": {
     "languageId": "dotnet-interactive.pwsh"
    }
   },
   "outputs": [],
   "source": [
    "choco upgrade all -y"
   ]
  },
  {
   "cell_type": "markdown",
   "metadata": {},
   "source": [
    "- We can prevent programs from upgrading."
   ]
  },
  {
   "cell_type": "code",
   "execution_count": null,
   "metadata": {
    "dotnet_interactive": {
     "language": "pwsh"
    },
    "vscode": {
     "languageId": "dotnet-interactive.pwsh"
    }
   },
   "outputs": [],
   "source": [
    "choco pin add -n nodejs"
   ]
  },
  {
   "cell_type": "markdown",
   "metadata": {},
   "source": [
    "- This is how we can undo that."
   ]
  },
  {
   "cell_type": "code",
   "execution_count": null,
   "metadata": {
    "dotnet_interactive": {
     "language": "pwsh"
    },
    "vscode": {
     "languageId": "dotnet-interactive.pwsh"
    }
   },
   "outputs": [],
   "source": [
    "choco pin remove -n nodejs"
   ]
  },
  {
   "cell_type": "markdown",
   "metadata": {},
   "source": [
    "- We can make our own custom commands to type out less in the PowerShell startup file.\n",
    "- Write a new Alias with **New-Alias** then the custom command then in quotes what it's a shortcut for."
   ]
  },
  {
   "cell_type": "code",
   "execution_count": null,
   "metadata": {
    "dotnet_interactive": {
     "language": "pwsh"
    },
    "vscode": {
     "languageId": "dotnet-interactive.pwsh"
    }
   },
   "outputs": [],
   "source": [
    "New-Alias exp \"explorer.exe\""
   ]
  },
  {
   "cell_type": "markdown",
   "metadata": {},
   "source": [
    "- If you want it saved, you'll need to save it in the profile.ps1 that starts up every PowerShell session."
   ]
  },
  {
   "cell_type": "code",
   "execution_count": null,
   "metadata": {
    "dotnet_interactive": {
     "language": "pwsh"
    },
    "vscode": {
     "languageId": "dotnet-interactive.pwsh"
    }
   },
   "outputs": [],
   "source": [
    "Notepad $profile"
   ]
  },
  {
   "cell_type": "markdown",
   "metadata": {},
   "source": [
    "## References\n",
    "---\n",
    "This was a brief overview of some basic things you can do with the terminal. Check out these resources for more.\n",
    "- [PowerShell documentation](https://docs.microsoft.com/en-us/powershell/scripting/how-to-use-docs?view=powershell-7.2)\n",
    "- [Bash documentation](https://www.gnu.org/savannah-checkouts/gnu/bash/manual/bash.html)\n",
    "- [Chocolatey commands](https://docs.chocolatey.org/en-us/choco/commands/)"
   ]
  }
 ],
 "metadata": {
  "interpreter": {
   "hash": "369f2c481f4da34e4445cda3fffd2e751bd1c4d706f27375911949ba6bb62e1c"
  },
  "kernelspec": {
   "display_name": ".NET (PowerShell)",
   "language": "PowerShell",
   "name": ".net-powershell"
  },
  "language_info": {
   "file_extension": ".cs",
   "mimetype": "text/x-csharp",
   "name": "PowerShell",
   "pygments_lexer": "csharp",
   "version": "9.0"
  }
 },
 "nbformat": 4,
 "nbformat_minor": 4
}
