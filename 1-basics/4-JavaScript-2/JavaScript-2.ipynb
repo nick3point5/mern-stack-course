{
 "cells": [
  {
   "cell_type": "markdown",
   "metadata": {},
   "source": [
    "# JavaScript basics 2\n",
    "[![Binder](https://mybinder.org/badge_logo.svg)](https://mybinder.org/v2/gh/nick3point5/mern-stack-course/HEAD?labpath=1-basics%2F4-JavaScript-2%2FJavaScript-2.ipynb)\n",
    "---"
   ]
  },
  {
   "cell_type": "markdown",
   "metadata": {},
   "source": [
    "## Intro\n",
    "We learned some of the fundamentals of JavaScript. In this lesson, we will learn common programming techniques. This will help us write less code and have it better organized. We will also take a peek at some of the patterns of JavaScript to let us understand most of JavaScript. If you haven't downloaded NodeJS yet, check the [tl:dr](../tldr.md). In this lesson, we will learn:\n",
    "#### JS part 2\n",
    "- Scope\n",
    "- Functions\n",
    "- Arrays\n",
    "- Objects\n",
    "- Classes\n",
    "---"
   ]
  },
  {
   "cell_type": "markdown",
   "metadata": {},
   "source": [
    "## Scope\n",
    "- JavaScript accesses variables in a special way.\n",
    "- A block of code are created whenever we use curly braces {}\n",
    "- Variables created inside a block cannot go outside that block."
   ]
  },
  {
   "cell_type": "code",
   "execution_count": 1,
   "metadata": {
    "dotnet_interactive": {
     "language": "javascript"
    }
   },
   "outputs": [
    {
     "name": "stdout",
     "output_type": "stream",
     "text": [
      "ReferenceError: prisoner is not defined\n",
      "    at evalmachine.<anonymous>:5:14\n",
      "    at Script.runInThisContext (node:vm:129:12)\n",
      "    at Object.runInThisContext (node:vm:313:38)\n",
      "    at run ([eval]:1020:15)\n",
      "    at onRunRequest ([eval]:864:18)\n",
      "    at onMessage ([eval]:828:13)\n",
      "    at process.emit (node:events:513:28)\n",
      "    at emit (node:internal/child_process:937:14)\n",
      "    at process.processTicksAndRejections (node:internal/process/task_queues:83:21)\n"
     ]
    }
   ],
   "source": [
    "{\n",
    "\tconst prisoner = \"I ain't seen the sunshine since I don't know when\"\n",
    "}\n",
    "\n",
    "console.log(prisoner)\n",
    "\n"
   ]
  },
  {
   "cell_type": "markdown",
   "metadata": {},
   "source": [
    "- Variables can only go to the same or deeper block."
   ]
  },
  {
   "cell_type": "code",
   "execution_count": 2,
   "metadata": {
    "dotnet_interactive": {
     "language": "javascript"
    }
   },
   "outputs": [
    {
     "name": "stdout",
     "output_type": "stream",
     "text": [
      "I ain't seen the sunshine since I don't know when\n"
     ]
    }
   ],
   "source": [
    "{\n",
    "\tconst quarantine = \"I ain't seen the sunshine since I don't know when\"\n",
    "\t\t{\n",
    "\t\t\tconsole.log(quarantine)\n",
    "\t\t}\n",
    "}"
   ]
  },
  {
   "cell_type": "markdown",
   "metadata": {},
   "source": [
    "## Functions\n",
    "- Functions are blocks of code that we don't use immediately\n",
    "- Here are 2 ways of making a function"
   ]
  },
  {
   "cell_type": "code",
   "execution_count": 3,
   "metadata": {
    "dotnet_interactive": {
     "language": "javascript"
    }
   },
   "outputs": [],
   "source": [
    "function welcome() {\n",
    "\tconsole.log(\"Be our guest. Be our guest. Put our service to the test.\")\n",
    "}\n",
    "\n",
    "const welcome2 = () => {\n",
    "\tconsole.log(\"Welcome to the jungle, we've got fun and games\")\n",
    "}"
   ]
  },
  {
   "cell_type": "markdown",
   "metadata": {},
   "source": [
    "- Just like other variables, We are creating a label and value.\n",
    "- But, the value's data is JavaScript code.\n",
    "- The label \"welcome\" and the value is just JavaScript code."
   ]
  },
  {
   "cell_type": "markdown",
   "metadata": {},
   "source": [
    "- We can execute them by placing parenthesis after their label."
   ]
  },
  {
   "cell_type": "code",
   "execution_count": 4,
   "metadata": {
    "dotnet_interactive": {
     "language": "javascript"
    }
   },
   "outputs": [
    {
     "name": "stdout",
     "output_type": "stream",
     "text": [
      "Be our guest. Be our guest. Put our service to the test.\n",
      "Welcome to the jungle, we've got fun and games\n"
     ]
    }
   ],
   "source": [
    "welcome()\n",
    "welcome2()"
   ]
  },
  {
   "cell_type": "markdown",
   "metadata": {},
   "source": [
    "- Functions can be given inputs (arguments).\n",
    "- The inputs are what we put in the parenthesis.\n",
    "- Functions will always return an output.\n",
    "- The output is a value we tell the function to return.\n",
    "- Whenever we execute code, imagine what just executed is replaced with the return value."
   ]
  },
  {
   "cell_type": "code",
   "execution_count": 5,
   "metadata": {
    "dotnet_interactive": {
     "language": "javascript"
    }
   },
   "outputs": [
    {
     "name": "stdout",
     "output_type": "stream",
     "text": [
      "true\n",
      "How does imposter syndrome make you feel?\n"
     ]
    }
   ],
   "source": [
    "function  reflectiveListening(statement) {\n",
    "\treturn `How does ${statement} make you feel?`\n",
    "}\n",
    "\n",
    "console.log(reflectiveListening('anxiety') === `How does anxiety make you feel?`)\n",
    "console.log(reflectiveListening('imposter syndrome'))"
   ]
  },
  {
   "cell_type": "markdown",
   "metadata": {},
   "source": [
    "- Functions can have multiple inputs."
   ]
  },
  {
   "cell_type": "code",
   "execution_count": 6,
   "metadata": {},
   "outputs": [
    {
     "name": "stdout",
     "output_type": "stream",
     "text": [
      "turtle-duck\n"
     ]
    }
   ],
   "source": [
    "function geneSplicer(subject1, subject2) {\n",
    "\tconsole.log(subject1 + '-' + subject2)\n",
    "}\n",
    "\n",
    "geneSplicer('turtle', 'duck')\n"
   ]
  },
  {
   "cell_type": "markdown",
   "metadata": {},
   "source": [
    "- Like numbers, bools, and strings, functions are just data that store code.\n",
    "- That means functions can be used as input or outputs to other functions.\n",
    "- Functions that have functions as an inputs are called \"higher-order functions\"\n",
    "- Functions inputted to HOFs are known as callback functions."
   ]
  },
  {
   "cell_type": "code",
   "execution_count": 7,
   "metadata": {
    "dotnet_interactive": {
     "language": "javascript"
    }
   },
   "outputs": [
    {
     "name": "stdout",
     "output_type": "stream",
     "text": [
      "Now, I'm only gonna say this one time.\n",
      "Sweden is a social construct.\n",
      "**shoots you**\n",
      "**shoots you**\n",
      "**shoots you**\n"
     ]
    }
   ],
   "source": [
    "const sayOnce = function(sayFunction) {\n",
    "\tlet firstTime = true\n",
    "\treturn () => {\n",
    "\t\tif(firstTime){\n",
    "\t\t\tfirstTime = false\n",
    "\t\t\tconsole.log(\"Now, I'm only gonna say this one time.\")\n",
    "\t\t\tsayFunction()\n",
    "\t\t\treturn\n",
    "\t\t} \n",
    "\t\tconsole.log(\"**shoots you**\")\n",
    "\t\treturn \n",
    "\t}\n",
    "}\n",
    "\n",
    "const sayPhrase = () => {\n",
    "\tconsole.log(\"Sweden is a social construct.\")\n",
    "}\n",
    "\n",
    "const sayPhraseOnce = sayOnce(sayPhrase)\n",
    "\n",
    "sayPhraseOnce()\n",
    "sayPhraseOnce()\n",
    "sayPhraseOnce()\n",
    "sayPhraseOnce()"
   ]
  },
  {
   "cell_type": "markdown",
   "metadata": {},
   "source": [
    "- Functions can also call themselves.\n",
    "- This is known as recursion.\n",
    "- If the recursion doesn't have a stop condition, it will use up too much memory and cause what is known as a stack overflow."
   ]
  },
  {
   "cell_type": "code",
   "execution_count": 8,
   "metadata": {},
   "outputs": [
    {
     "name": "stdout",
     "output_type": "stream",
     "text": [
      "we are in level 0\n",
      "we are in level 1\n",
      "we are in level 2\n",
      "we are in level 3\n",
      "we are in level 4\n",
      "we are in level 5\n",
      "we are in level 6\n",
      "we are in level 7\n",
      "we are in level 8\n",
      "we are in level 9\n",
      "we are in level 10\n"
     ]
    }
   ],
   "source": [
    "function inception(level) {\n",
    "\tconsole.log('we are in level ' + level)\n",
    "\tif(level < 10) {\n",
    "\t\tinception(level+1)\n",
    "\t}\n",
    "}\n",
    "\n",
    "inception(0)"
   ]
  },
  {
   "cell_type": "markdown",
   "metadata": {},
   "source": [
    "## Arrays\n",
    "- We can store multiple values in one variable name using arrays with square brackets []"
   ]
  },
  {
   "cell_type": "code",
   "execution_count": 9,
   "metadata": {
    "dotnet_interactive": {
     "language": "javascript"
    }
   },
   "outputs": [],
   "source": [
    "const EdBoys = [\"Ed\",\"Edd\",\"Eddy\"]"
   ]
  },
  {
   "cell_type": "markdown",
   "metadata": {},
   "source": [
    "- We can return them using their index with 0 as the first index."
   ]
  },
  {
   "cell_type": "code",
   "execution_count": 10,
   "metadata": {
    "dotnet_interactive": {
     "language": "javascript"
    }
   },
   "outputs": [
    {
     "name": "stdout",
     "output_type": "stream",
     "text": [
      "Ed\n",
      "Edd\n",
      "Eddy\n"
     ]
    }
   ],
   "source": [
    "console.log(EdBoys[0])\n",
    "console.log(EdBoys[1])\n",
    "console.log(EdBoys[2])"
   ]
  },
  {
   "cell_type": "markdown",
   "metadata": {},
   "source": [
    "## Objects\n",
    "- Objects are a very, very, very special way of storing data.\n",
    "- Objects let us label (key) our store to any string or number.\n",
    "- Fun fact arrays are just that just auto labels our data with numbers."
   ]
  },
  {
   "cell_type": "code",
   "execution_count": 11,
   "metadata": {
    "dotnet_interactive": {
     "language": "javascript"
    }
   },
   "outputs": [],
   "source": [
    "const comedian = {\n",
    "\t\"name\": \"Louis C.K.\",\n",
    "\t\"age\": 54,\n",
    "\t\"married\": false\n",
    "}"
   ]
  },
  {
   "cell_type": "markdown",
   "metadata": {},
   "source": [
    "- Writing the object with strings in quotes is known as \"JavaScript object notation\" (JSON)"
   ]
  },
  {
   "cell_type": "markdown",
   "metadata": {},
   "source": [
    "- The same as arrays, you can call their key (property)\n",
    "- Calling properties like this is called \"bracket notation\""
   ]
  },
  {
   "cell_type": "code",
   "execution_count": 12,
   "metadata": {
    "dotnet_interactive": {
     "language": "javascript"
    }
   },
   "outputs": [
    {
     "name": "stdout",
     "output_type": "stream",
     "text": [
      "54\n",
      "Louis C.K.\n",
      "false\n"
     ]
    }
   ],
   "source": [
    "console.log(comedian[\"age\"])\n",
    "console.log(comedian[\"name\"])\n",
    "console.log(comedian[\"married\"])"
   ]
  },
  {
   "cell_type": "markdown",
   "metadata": {},
   "source": [
    "- In JavaScript, we don't have to write quotes when we make an object property."
   ]
  },
  {
   "cell_type": "code",
   "execution_count": 13,
   "metadata": {
    "dotnet_interactive": {
     "language": "javascript"
    }
   },
   "outputs": [],
   "source": [
    "const otherFunnyGuy = {\n",
    "\tname: \"videogamedunkey\",\n",
    "\tsubscribers: Infinity,\n",
    "\tleaguePlayer: false\n",
    "}"
   ]
  },
  {
   "cell_type": "markdown",
   "metadata": {},
   "source": [
    "- You can also get a property with a dot (.) then the property\n",
    "- This is called \"dot notation\""
   ]
  },
  {
   "cell_type": "code",
   "execution_count": 14,
   "metadata": {
    "dotnet_interactive": {
     "language": "javascript"
    }
   },
   "outputs": [
    {
     "name": "stdout",
     "output_type": "stream",
     "text": [
      "videogamedunkey\n",
      "Infinity\n",
      "false\n"
     ]
    }
   ],
   "source": [
    "console.log(otherFunnyGuy.name)\n",
    "console.log(otherFunnyGuy.subscribers)\n",
    "console.log(otherFunnyGuy.leaguePlayer)"
   ]
  },
  {
   "cell_type": "markdown",
   "metadata": {},
   "source": [
    "- Creating the same property in an object will overwrite its previous value."
   ]
  },
  {
   "cell_type": "code",
   "execution_count": 15,
   "metadata": {},
   "outputs": [
    {
     "name": "stdout",
     "output_type": "stream",
     "text": [
      "{ name: 'MoistCr1TiKaL' }\n"
     ]
    }
   ],
   "source": [
    "const comedyGuy = {\n",
    "\tname: \"Charles\",\n",
    "\tname: \"penguinz0\",\n",
    "\tname: \"Cr1TiKaL\",\n",
    "\tname: \"MoistCr1TiKaL\",\n",
    "}\n",
    "\n",
    "console.log(comedyGuy)"
   ]
  },
  {
   "cell_type": "markdown",
   "metadata": {},
   "source": [
    "- Functions can also be stored in objects.\n",
    "- When a function is stored in an object, it is also known as a method."
   ]
  },
  {
   "cell_type": "code",
   "execution_count": 16,
   "metadata": {
    "dotnet_interactive": {
     "language": "javascript"
    }
   },
   "outputs": [],
   "source": [
    "const Jokester = {\n",
    "\tname: \"Ray Jay Johnson\",\n",
    "\thometown: \"Youngstown\",\n",
    "\tsetupJoke: function() {\n",
    "\t\tconsole.log(\"Hey Johnson!\")\n",
    "\t},\n",
    "\tpunchline: () => {\n",
    "\t\tconsole.log(\"Now, you can call me Ray, or you can call me Jay, or you can call me Ray Jay, or you can call me RJ, or you can call me RJJ, or you can call me RJJ Jr. But you doesn't has to call me Johnson\")\n",
    "\t}\n",
    "}"
   ]
  },
  {
   "cell_type": "code",
   "execution_count": 17,
   "metadata": {
    "dotnet_interactive": {
     "language": "javascript"
    }
   },
   "outputs": [
    {
     "name": "stdout",
     "output_type": "stream",
     "text": [
      "Hey Johnson!\n",
      "Now, you can call me Ray, or you can call me Jay, or you can call me Ray Jay, or you can call me RJ, or you can call me RJJ, or you can call me RJJ Jr. But you doesn't has to call me Johnson\n"
     ]
    }
   ],
   "source": [
    "Jokester.setupJoke()\n",
    "Jokester.punchline()"
   ]
  },
  {
   "cell_type": "markdown",
   "metadata": {},
   "source": [
    "- Methods made with the \"function\" keyword can access their object with the \"this\" keyword.\n",
    "###### *Note methods made with \"=>\" will not connect \"this\" to the object. Generally, the arrow function should not be used for methods."
   ]
  },
  {
   "cell_type": "code",
   "execution_count": 18,
   "metadata": {
    "dotnet_interactive": {
     "language": "javascript"
    }
   },
   "outputs": [
    {
     "name": "stdout",
     "output_type": "stream",
     "text": [
      "Welcome to your rouge awakening! This is ! Akai Haato\n",
      "Hachama-chama~!\n"
     ]
    }
   ],
   "source": [
    "const professionalGutBuster = {\n",
    "\tname: \"Akai Haato\",\n",
    "\tgreeting: function() {\n",
    "\t\tconsole.log(`Welcome to your rouge awakening! This is ! ${this.name}`)\n",
    "\t}, \n",
    "\ttransform: function() {\n",
    "\t\tthis.name = \"Hachama\"\n",
    "\t\tthis.greeting = () => {\n",
    "\t\t\tconsole.log(`${this.name}-chama~!`)\n",
    "\t\t}\n",
    "\t}\n",
    "}\n",
    "professionalGutBuster.greeting()\n",
    "professionalGutBuster.transform()\n",
    "professionalGutBuster.greeting()"
   ]
  },
  {
   "cell_type": "markdown",
   "metadata": {},
   "source": [
    "- In JavaScript, everything is an object.\n",
    "- There are objects everywhere.\n",
    "- Pretty much everything (except null, NaN, Infinity, and undefined) will have properties and methods.\n",
    "- Here are just a few examples."
   ]
  },
  {
   "cell_type": "code",
   "execution_count": 19,
   "metadata": {
    "dotnet_interactive": {
     "language": "javascript"
    }
   },
   "outputs": [
    {
     "name": "stdout",
     "output_type": "stream",
     "text": [
      "3.141592653589793\n",
      "1235\n",
      "HELLO\n",
      "4\n"
     ]
    }
   ],
   "source": [
    "console.log(Math.PI)\n",
    "console.log(1235[\"toString\"]())\n",
    "console.log(\"hello\".toUpperCase())\n",
    "console.log([1, 2, 3, 4].length)"
   ]
  },
  {
   "cell_type": "markdown",
   "metadata": {},
   "source": [
    "## Classes\n",
    "- A class is a group/type of objects.\n",
    "- They can be considered like blueprints of a house.\n",
    "- They can describe an object. But, they are not the object they describe.\n",
    "- Classes can be used to create a lot of similar objects easily."
   ]
  },
  {
   "cell_type": "code",
   "execution_count": 20,
   "metadata": {
    "dotnet_interactive": {
     "language": "javascript"
    }
   },
   "outputs": [],
   "source": [
    "class Transportation{\n",
    "\tconstructor(riders, speed) {\n",
    "\t\tthis.riders = riders\n",
    "\t\tthis.canMove = true\n",
    "\t\tthis.speed = speed\n",
    "\t}\n",
    "\tgo = function() {\n",
    "    console.log(`going ${speed}!!!!`)\n",
    "  }\n",
    "}"
   ]
  },
  {
   "cell_type": "code",
   "execution_count": 21,
   "metadata": {
    "dotnet_interactive": {
     "language": "javascript"
    }
   },
   "outputs": [
    {
     "name": "stdout",
     "output_type": "stream",
     "text": [
      "Transportation {\n",
      "  go: [Function: go],\n",
      "  riders: 'settlers',\n",
      "  canMove: true,\n",
      "  speed: 30\n",
      "}\n",
      "Transportation {\n",
      "  go: [Function: go],\n",
      "  riders: 'normal people',\n",
      "  canMove: true,\n",
      "  speed: 30\n",
      "}\n",
      "Transportation {\n",
      "  go: [Function: go],\n",
      "  riders: 'Goku',\n",
      "  canMove: true,\n",
      "  speed: 30\n",
      "}\n"
     ]
    }
   ],
   "source": [
    "const rock = new Transportation(\"settlers\", 30)\n",
    "const car = new Transportation(\"normal people\", 30)\n",
    "const instantTransmission = new Transportation(\"Goku\", 30)\n",
    "\n",
    "console.log(rock)\n",
    "console.log(car)\n",
    "console.log(instantTransmission)"
   ]
  },
  {
   "cell_type": "markdown",
   "metadata": {},
   "source": [
    "- We can also use functions to create a class."
   ]
  },
  {
   "cell_type": "code",
   "execution_count": 22,
   "metadata": {},
   "outputs": [
    {
     "name": "stdout",
     "output_type": "stream",
     "text": [
      "For Hatfield!!!!\n",
      "For McCoy!!!!\n"
     ]
    }
   ],
   "source": [
    "function McCoy(name) {\n",
    "\tthis.name = name\n",
    "\tthis.family = \"McCoy\"\n",
    "\tthis.location = \"West Virginia\"\n",
    "\tthis.battleCry = function() {\n",
    "    console.log(`For ${this.family}!!!!`)\n",
    "  }\n",
    "}\n",
    "\n",
    "class Hatfield {\n",
    "\tconstructor(name) {\n",
    "\t\tthis.name = name\n",
    "\t\tthis.family = \"Hatfield\"\n",
    "\t\tthis.location = \"Kentucky\"\n",
    "\t}\n",
    "\tbattleCry() {\n",
    "    console.log(`For ${this.family}!!!!`)\n",
    "  }\n",
    "}\n",
    "\n",
    "const William = new Hatfield(\"William Anderson Hatfield\")\n",
    "const Asa = new McCoy(\"Asa Harmon McCoy\")\n",
    "William.battleCry()\n",
    "Asa.battleCry()"
   ]
  },
  {
   "cell_type": "markdown",
   "metadata": {},
   "source": [
    "- Class can have their own properties and methods they don't give to their objects.\n",
    "- Using static in a class will attach the properties and methods to the class.\n",
    "###### *static will also change the \"this\" context to the class."
   ]
  },
  {
   "cell_type": "code",
   "execution_count": 23,
   "metadata": {
    "dotnet_interactive": {
     "language": "javascript"
    }
   },
   "outputs": [
    {
     "name": "stdout",
     "output_type": "stream",
     "text": [
      "1\n",
      "3\n",
      "undefined\n"
     ]
    }
   ],
   "source": [
    "class Team{\n",
    "\tstatic numberOfTeammates = 0\n",
    "\tconstructor(name, job) {\n",
    "\t\tthis.name = name\n",
    "\t\tthis.job = job\n",
    "\t\tTeam.numberOfTeammates++\n",
    "\t}\n",
    "\tintro() {\n",
    "\t\tconsole.log(`The name's ${this.name}. I'm the ${this.job}`)\n",
    "\t}\n",
    "\tstatic getNumberOfTeammates() {\n",
    "\t\tconsole.log(this.numberOfTeammates)\n",
    "\t}\n",
    "}\n",
    "\n",
    "const vinny = new Team(\"Vinny\", \"muscle\")\n",
    "console.log(Team.numberOfTeammates)\n",
    "const vinDiesel = new Team(\"Vin Diesel\", \"get away driver\")\n",
    "const winkle = new Team(\"Winkel Von Stroheim\", \"brains\")\n",
    "Team.getNumberOfTeammates()\n",
    "\n",
    "console.log(winkle.numberOfTeammates)"
   ]
  },
  {
   "cell_type": "markdown",
   "metadata": {},
   "source": [
    "- Classes can also birth new classes (subclasses) with the \"extends\" keyword.\n",
    "- Sub-classes can inherit properties and methods from their parent class."
   ]
  },
  {
   "cell_type": "code",
   "execution_count": 24,
   "metadata": {
    "dotnet_interactive": {
     "language": "javascript"
    }
   },
   "outputs": [
    {
     "name": "stdout",
     "output_type": "stream",
     "text": [
      "Garfield {\n",
      "  hasClaws: true,\n",
      "  meow: [Function (anonymous)],\n",
      "  catchPhrase: [Function: catchPhrase]\n",
      "}\n",
      "meow\n"
     ]
    }
   ],
   "source": [
    "function Cat() {\n",
    "\tthis.hasClaws = true\n",
    "\tthis.meow = () => console.log(\"meow\")\n",
    "}\n",
    "\n",
    "class Garfield extends Cat {\n",
    "\tcatchPhrase = () => console.log(\"I hate Mondays\")\n",
    "}\n",
    "\n",
    "const gorefield = new Garfield()\n",
    "\n",
    "console.log(gorefield)\n",
    "gorefield.meow()"
   ]
  },
  {
   "cell_type": "markdown",
   "metadata": {},
   "source": [
    "- A subclasses constructor requires its parent's constructor first.\n",
    "- \"super\" inside the constructor is the parent's constructor. \n",
    "- In a method, the \"super\" keyword is similar to \"this\" but for the parent's methods."
   ]
  },
  {
   "cell_type": "code",
   "execution_count": 25,
   "metadata": {
    "dotnet_interactive": {
     "language": "javascript"
    }
   },
   "outputs": [],
   "source": [
    "class Mundie{\n",
    "\tconstructor(name, occupation) {\n",
    "\t\tthis.name = name\n",
    "\t\tthis.occupation = occupation\n",
    "\t\tthis.species = \"human\"\n",
    "\t}\n",
    "\tgreeting() {\n",
    "\t\tconsole.log(`Hello, my name is ${this.name} and I do ${this.occupation}`)\n",
    "\t}\n",
    "}\n",
    "\n",
    "class Inscribed extends Mundie{\n",
    "\tconstructor(name, power, occupation) {\n",
    "\t\tsuper(name, occupation)\n",
    "\t\tthis.power = power\n",
    "\t}\n",
    "\tgreeting() {\n",
    "\t\tsuper.greeting()\n",
    "\t\tconsole.log(`I'm a regular ${this.species}`)\n",
    "\t}\n",
    "}\n",
    "\n",
    "const bob = new Mundie(\"bob\", \"accounting\")\n",
    "const molly = new Inscribed(\"Molly\", \"dumb\", \"retailing\")"
   ]
  },
  {
   "cell_type": "code",
   "execution_count": 26,
   "metadata": {
    "dotnet_interactive": {
     "language": "javascript"
    }
   },
   "outputs": [
    {
     "name": "stdout",
     "output_type": "stream",
     "text": [
      "Hello, my name is bob and I do accounting\n",
      "Hello, my name is Molly and I do retailing\n",
      "I'm a regular human\n"
     ]
    }
   ],
   "source": [
    "bob.greeting()\n",
    "molly.greeting()"
   ]
  },
  {
   "cell_type": "markdown",
   "metadata": {},
   "source": [
    "## Extra tips and tricks\n",
    "---"
   ]
  },
  {
   "cell_type": "markdown",
   "metadata": {},
   "source": [
    "## Functions\n",
    "- Arrow functions can return a single statement of code without curly braces."
   ]
  },
  {
   "cell_type": "code",
   "execution_count": 27,
   "metadata": {},
   "outputs": [
    {
     "name": "stdout",
     "output_type": "stream",
     "text": [
      "12\n"
     ]
    }
   ],
   "source": [
    "const multiplyByTwo = (number) => number * 2\n",
    "\n",
    "console.log(multiplyByTwo(6))"
   ]
  },
  {
   "cell_type": "markdown",
   "metadata": {},
   "source": [
    "- Function inputs can have default values when no input is given."
   ]
  },
  {
   "cell_type": "code",
   "execution_count": 28,
   "metadata": {},
   "outputs": [
    {
     "name": "stdout",
     "output_type": "stream",
     "text": [
      "touch grass\n",
      "touch tree\n"
     ]
    }
   ],
   "source": [
    "function touch(touchable = \"grass\") {\n",
    "\tconsole.log(`touch ${touchable}`)\n",
    "}\n",
    "\n",
    "touch()\n",
    "touch(\"tree\")"
   ]
  },
  {
   "cell_type": "markdown",
   "metadata": {},
   "source": [
    "## array methods\n",
    "- push add a value to the end of the array."
   ]
  },
  {
   "cell_type": "code",
   "execution_count": 29,
   "metadata": {},
   "outputs": [
    {
     "name": "stdout",
     "output_type": "stream",
     "text": [
      "[ 1, 2, 3, 4, 5 ]\n"
     ]
    }
   ],
   "source": [
    "const list = [1, 2, 3, 4]\n",
    "list.push(5)\n",
    "console.log(list)\n"
   ]
  },
  {
   "cell_type": "markdown",
   "metadata": {},
   "source": [
    "- pop removes and returns a value at the end of the array."
   ]
  },
  {
   "cell_type": "code",
   "execution_count": 30,
   "metadata": {},
   "outputs": [
    {
     "name": "stdout",
     "output_type": "stream",
     "text": [
      "5\n",
      "[ 1, 2, 3, 4 ]\n"
     ]
    }
   ],
   "source": [
    "console.log(list.pop())\n",
    "console.log(list)"
   ]
  },
  {
   "cell_type": "markdown",
   "metadata": {},
   "source": [
    "- unshift add a value to the start of the array."
   ]
  },
  {
   "cell_type": "code",
   "execution_count": 31,
   "metadata": {},
   "outputs": [
    {
     "name": "stdout",
     "output_type": "stream",
     "text": [
      "[ 0, 1, 2, 3, 4 ]\n"
     ]
    }
   ],
   "source": [
    "list.unshift(0)\n",
    "console.log(list)"
   ]
  },
  {
   "cell_type": "markdown",
   "metadata": {},
   "source": [
    "- shift removes and returns a value at the start of the array."
   ]
  },
  {
   "cell_type": "code",
   "execution_count": 32,
   "metadata": {},
   "outputs": [
    {
     "name": "stdout",
     "output_type": "stream",
     "text": [
      "0\n",
      "[ 1, 2, 3, 4 ]\n"
     ]
    }
   ],
   "source": [
    "console.log(list.shift())\n",
    "console.log(list)"
   ]
  },
  {
   "cell_type": "markdown",
   "metadata": {},
   "source": [
    "- map returns an array applying a function to every element."
   ]
  },
  {
   "cell_type": "code",
   "execution_count": 33,
   "metadata": {},
   "outputs": [],
   "source": [
    "const list2 = list.map((element)=>(element * 2))"
   ]
  },
  {
   "cell_type": "markdown",
   "metadata": {},
   "source": [
    "- forEach loops through an array executing a function to every element."
   ]
  },
  {
   "cell_type": "code",
   "execution_count": 34,
   "metadata": {},
   "outputs": [
    {
     "name": "stdout",
     "output_type": "stream",
     "text": [
      "2\n",
      "0\n",
      "4\n",
      "1\n",
      "6\n",
      "2\n",
      "8\n",
      "3\n"
     ]
    }
   ],
   "source": [
    "list2.forEach((element, index)=>{\n",
    "\tconsole.log(element)\n",
    "\tconsole.log(index)\n",
    "})"
   ]
  },
  {
   "cell_type": "markdown",
   "metadata": {},
   "source": [
    "- sort rearranges the array in lexicographic order by default."
   ]
  },
  {
   "cell_type": "code",
   "execution_count": 35,
   "metadata": {},
   "outputs": [
    {
     "name": "stdout",
     "output_type": "stream",
     "text": [
      "[\n",
      "  1, 10, 2, 3, 4,\n",
      "  5,  6, 7, 8, 9\n",
      "]\n"
     ]
    }
   ],
   "source": [
    "const bunchOfNumbers = [1, 4, 8, 7, 9, 5, 3, 2, 10, 6]\n",
    "\n",
    "bunchOfNumbers.sort()\n",
    "console.log(bunchOfNumbers)"
   ]
  },
  {
   "cell_type": "markdown",
   "metadata": {},
   "source": [
    "- A callback function can be used to numerically sort."
   ]
  },
  {
   "cell_type": "code",
   "execution_count": 36,
   "metadata": {},
   "outputs": [
    {
     "name": "stdout",
     "output_type": "stream",
     "text": [
      "[\n",
      "  1, 2, 3, 4,  5,\n",
      "  6, 7, 8, 9, 10\n",
      "]\n"
     ]
    }
   ],
   "source": [
    "bunchOfNumbers.sort((current, next) =>  current - next)\n",
    "console.log(bunchOfNumbers)"
   ]
  },
  {
   "cell_type": "markdown",
   "metadata": {},
   "source": [
    "## string methods\n",
    "- replace takes 2 inputs.\n",
    "  1) a string or regular expression describing what to replace.\n",
    "     - If a string is used it will replace only the first match.\n",
    "  2) what to replace it with."
   ]
  },
  {
   "cell_type": "code",
   "execution_count": 38,
   "metadata": {},
   "outputs": [
    {
     "name": "stdout",
     "output_type": "stream",
     "text": [
      "healthy gamer\n"
     ]
    }
   ],
   "source": [
    "const gamer = 'toxic gamer'\n",
    "\n",
    "console.log(gamer.replace('toxic', 'healthy'))"
   ]
  },
  {
   "cell_type": "markdown",
   "metadata": {},
   "source": [
    "- replaceAll replaces all matches."
   ]
  },
  {
   "cell_type": "code",
   "execution_count": 39,
   "metadata": {},
   "outputs": [
    {
     "name": "stdout",
     "output_type": "stream",
     "text": [
      "  hippos\n"
     ]
    }
   ],
   "source": [
    "const hippos = \"hungry hungry hippos\"\n",
    "console.log(hippos.replaceAll('hungry', ''))"
   ]
  },
  {
   "cell_type": "markdown",
   "metadata": {},
   "source": [
    "- repeat creates a string that repeats an input amount of times."
   ]
  },
  {
   "cell_type": "code",
   "execution_count": 40,
   "metadata": {},
   "outputs": [
    {
     "name": "stdout",
     "output_type": "stream",
     "text": [
      "Gucci gang Gucci gang Gucci gang Gucci gang Gucci gang Gucci gang Gucci gang Gucci gang Gucci gang Gucci gang Gucci gang Gucci gang Gucci gang Gucci gang Gucci gang Gucci gang Gucci gang Gucci gang Gucci gang Gucci gang Gucci gang Gucci gang Gucci gang Gucci gang Gucci gang Gucci gang Gucci gang Gucci gang Gucci gang Gucci gang Gucci gang Gucci gang Gucci gang Gucci gang Gucci gang Gucci gang Gucci gang Gucci gang Gucci gang Gucci gang Gucci gang Gucci gang Gucci gang Gucci gang Gucci gang Gucci gang Gucci gang Gucci gang Gucci gang Gucci gang Gucci gang Gucci gang Gucci gang Gucci gang Gucci gang Gucci gang Gucci gang Gucci gang Gucci gang Gucci gang Gucci gang Gucci gang Gucci gang Gucci gang Gucci gang Gucci gang Gucci gang Gucci gang Gucci gang Gucci gang Gucci gang Gucci gang Gucci gang Gucci gang Gucci gang Gucci gang Gucci gang Gucci gang Gucci gang Gucci gang Gucci gang Gucci gang Gucci gang Gucci gang Gucci gang Gucci gang Gucci gang Gucci gang Gucci gang Gucci gang Gucci gang Gucci gang Gucci gang Gucci gang Gucci gang Gucci gang Gucci gang Gucci gang Gucci gang Gucci gang \n"
     ]
    }
   ],
   "source": [
    "const gang = \"Gucci gang \"\n",
    "console.log(`${gang.repeat(100)}`);"
   ]
  },
  {
   "cell_type": "markdown",
   "metadata": {},
   "source": [
    "- toUpperCase will return the string with all uppercase letters."
   ]
  },
  {
   "cell_type": "code",
   "execution_count": 41,
   "metadata": {},
   "outputs": [
    {
     "name": "stdout",
     "output_type": "stream",
     "text": [
      "LET'S GOOOOOOOOOOOOOOOOOOOOOOOO\n"
     ]
    }
   ],
   "source": [
    "const hype = 'Let\\'s goooooooooooooooooooooooo'\n",
    "\n",
    "console.log(hype.toUpperCase())"
   ]
  },
  {
   "cell_type": "markdown",
   "metadata": {},
   "source": [
    "- toLowerCase will return the string with all lowercase letters."
   ]
  },
  {
   "cell_type": "code",
   "execution_count": 42,
   "metadata": {},
   "outputs": [
    {
     "name": "stdout",
     "output_type": "stream",
     "text": [
      "let's goooooooooooooooooooooooo\n"
     ]
    }
   ],
   "source": [
    "console.log(hype.toLowerCase())"
   ]
  },
  {
   "cell_type": "markdown",
   "metadata": {},
   "source": [
    "- split returns an array by splitting a string by the string you give it."
   ]
  },
  {
   "cell_type": "code",
   "execution_count": 43,
   "metadata": {},
   "outputs": [
    {
     "name": "stdout",
     "output_type": "stream",
     "text": [
      "[\n",
      "  'Being',   'alive',\n",
      "  \"doesn't\", 'mean',\n",
      "  \"you're\",  'not',\n",
      "  'not',     'lucky'\n",
      "]\n"
     ]
    }
   ],
   "source": [
    "const motivation = 'Being alive doesn\\'t mean you\\'re not not lucky'\n",
    "const split = motivation.split(' ')\n",
    "\n",
    "console.log(split)"
   ]
  },
  {
   "cell_type": "markdown",
   "metadata": {},
   "source": [
    "- join returns a string by joining an array by the string you give it."
   ]
  },
  {
   "cell_type": "code",
   "execution_count": 44,
   "metadata": {},
   "outputs": [
    {
     "name": "stdout",
     "output_type": "stream",
     "text": [
      "Being alive doesn't mean you're not not lucky\n"
     ]
    }
   ],
   "source": [
    "console.log(split.join(' '))"
   ]
  },
  {
   "cell_type": "markdown",
   "metadata": {},
   "source": [
    "- JSON.stringify convert an object into a JSON formatted string."
   ]
  },
  {
   "cell_type": "code",
   "execution_count": 45,
   "metadata": {},
   "outputs": [
    {
     "name": "stdout",
     "output_type": "stream",
     "text": [
      "{\"species\":\"Vulcan\",\"name\":\"Spock\",\"location\":\"Enterprise\"}\n"
     ]
    }
   ],
   "source": [
    "const spock = {\n",
    "\tspecies: 'Vulcan',\n",
    "\tname: 'Spock',\n",
    "\tlocation: 'Enterprise',\n",
    "}\n",
    "\n",
    "const transmission = JSON.stringify(spock)\n",
    "console.log(transmission)"
   ]
  },
  {
   "cell_type": "markdown",
   "metadata": {},
   "source": [
    "- JSON.parse convert a JSON formatted string into an object."
   ]
  },
  {
   "cell_type": "code",
   "execution_count": 46,
   "metadata": {},
   "outputs": [
    {
     "name": "stdout",
     "output_type": "stream",
     "text": [
      "{ species: 'Vulcan', name: 'Spock', location: 'Enterprise' }\n"
     ]
    }
   ],
   "source": [
    "console.log(JSON.parse(transmission))"
   ]
  },
  {
   "cell_type": "markdown",
   "metadata": {},
   "source": [
    "## Pass by value / Pass by reference\n",
    "- objects are passed by reference\n",
    "- everything else is passed by value\n",
    "- This means if a new variable is made and its value is an object. Any changes to the new variable will be made to the old variable.\n",
    "- This is because they reference the same object."
   ]
  },
  {
   "cell_type": "code",
   "execution_count": 1,
   "metadata": {},
   "outputs": [
    {
     "name": "stdout",
     "output_type": "stream",
     "text": [
      "{ name: 'eleven', level: 14, weapon: 'gun' }\n"
     ]
    }
   ],
   "source": [
    "const hero = {\n",
    "\tname: \"eleven\",\n",
    "\tlevel: 13,\n",
    "\tweapon: \"gun\"\n",
    "}\n",
    "\n",
    "const disguise = hero\n",
    "disguise.level++\n",
    "\n",
    "console.log(hero)"
   ]
  },
  {
   "cell_type": "markdown",
   "metadata": {},
   "source": [
    "## References\n",
    "---\n",
    "This was an brief overview of JavaScript. Check out these resources for more.\n",
    "- [JavaScript](https://developer.mozilla.org/en-US/docs/Web/JavaScript/Reference)"
   ]
  }
 ],
 "metadata": {
  "interpreter": {
   "hash": "369f2c481f4da34e4445cda3fffd2e751bd1c4d706f27375911949ba6bb62e1c"
  },
  "kernelspec": {
   "display_name": "JavaScript (Node.js)",
   "language": "javascript",
   "name": "javascript"
  },
  "language_info": {
   "file_extension": ".js",
   "mimetype": "application/javascript",
   "name": "javascript",
   "version": "18.6.0"
  },
  "orig_nbformat": 4
 },
 "nbformat": 4,
 "nbformat_minor": 2
}
