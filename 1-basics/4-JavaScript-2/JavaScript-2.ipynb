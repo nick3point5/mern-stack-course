{
 "cells": [
  {
   "cell_type": "markdown",
   "metadata": {},
   "source": [
    "# JavaScript basics 2\n",
    "---"
   ]
  },
  {
   "cell_type": "markdown",
   "metadata": {},
   "source": [
    "## Intro\n",
    "This lesson we will learn common programming techniques. This with help us write less code and have it better organized.\n",
    "#### JS part 2\n",
    "- Scope\n",
    "- Functions\n",
    "- Arrays\n",
    "- Objects\n",
    "- Classes\n",
    "---"
   ]
  },
  {
   "cell_type": "markdown",
   "metadata": {},
   "source": [
    "## Scope\n",
    "- JavaScript save and access variables in a special way.\n",
    "- A block of code are create whenever we use curly braces {}\n",
    "- Variables created inside a block cannot go outside that block"
   ]
  },
  {
   "cell_type": "code",
   "execution_count": 1,
   "metadata": {
    "dotnet_interactive": {
     "language": "javascript"
    }
   },
   "outputs": [
    {
     "name": "stdout",
     "output_type": "stream",
     "text": [
      "ReferenceError: prisoner is not defined\n",
      "    at evalmachine.<anonymous>:5:14\n",
      "    at Script.runInThisContext (node:vm:129:12)\n",
      "    at Object.runInThisContext (node:vm:305:38)\n",
      "    at run ([eval]:1020:15)\n",
      "    at onRunRequest ([eval]:864:18)\n",
      "    at onMessage ([eval]:828:13)\n",
      "    at process.emit (node:events:527:28)\n",
      "    at emit (node:internal/child_process:936:14)\n",
      "    at process.processTicksAndRejections (node:internal/process/task_queues:83:21)\n"
     ]
    }
   ],
   "source": [
    "{\n",
    "\tconst prisoner = \"I ain't seen the sunshine since I don't know when\"\n",
    "}\n",
    "\n",
    "console.log(prisoner)\n"
   ]
  },
  {
   "cell_type": "markdown",
   "metadata": {},
   "source": [
    "- Variables can only go to the same or deeper block"
   ]
  },
  {
   "cell_type": "code",
   "execution_count": 2,
   "metadata": {
    "dotnet_interactive": {
     "language": "javascript"
    }
   },
   "outputs": [
    {
     "name": "stdout",
     "output_type": "stream",
     "text": [
      "I ain't seen the sunshine since I don't know when\n"
     ]
    }
   ],
   "source": [
    "{\n",
    "\tconst quarantine = \"I ain't seen the sunshine since I don't know when\"\n",
    "\t\t{\n",
    "\t\t\tconsole.log(quarantine)\n",
    "\t\t}\n",
    "}"
   ]
  },
  {
   "cell_type": "markdown",
   "metadata": {},
   "source": [
    "## Functions\n",
    "- Functions are blocks of code that we don't use immediately\n",
    "- Here are 2 ways of making a function"
   ]
  },
  {
   "cell_type": "code",
   "execution_count": 3,
   "metadata": {
    "dotnet_interactive": {
     "language": "javascript"
    }
   },
   "outputs": [],
   "source": [
    "function welcome() {\n",
    "\tconsole.log(\"Be our guest. Be our guest. Put our service to the test.\")\n",
    "}\n",
    "\n",
    "const welcome2 = () => {\n",
    "\tconsole.log(\"Welcome to the jungle, we've got fun and games\")\n",
    "}"
   ]
  },
  {
   "cell_type": "markdown",
   "metadata": {},
   "source": [
    "- Just like variables, We are creating a label and value.\n",
    "- The label \"welcome\" and the value is just code."
   ]
  },
  {
   "cell_type": "code",
   "execution_count": 4,
   "metadata": {
    "dotnet_interactive": {
     "language": "javascript"
    }
   },
   "outputs": [
    {
     "name": "stdout",
     "output_type": "stream",
     "text": [
      "true\n"
     ]
    }
   ],
   "source": [
    "const welcome1 = welcome\n",
    "console.log(welcome1 === welcome)"
   ]
  },
  {
   "cell_type": "markdown",
   "metadata": {},
   "source": [
    "- We can use (execute) them by placing parenthesis after their label"
   ]
  },
  {
   "cell_type": "code",
   "execution_count": 5,
   "metadata": {
    "dotnet_interactive": {
     "language": "javascript"
    }
   },
   "outputs": [
    {
     "name": "stdout",
     "output_type": "stream",
     "text": [
      "Be our guest. Be our guest. Put our service to the test.\n",
      "Welcome to the jungle, we've got fun and games\n"
     ]
    }
   ],
   "source": [
    "welcome()\n",
    "welcome2()"
   ]
  },
  {
   "cell_type": "markdown",
   "metadata": {},
   "source": [
    "- Functions also special because we give it inputs (arguments) and it can give us outputs.\n",
    "- The inputs are what we put in the parenthesis\n",
    "- The output is value we tell the function to return\n",
    "- Whenever we execute code imagine what just executed is replaced with the return"
   ]
  },
  {
   "cell_type": "code",
   "execution_count": 6,
   "metadata": {
    "dotnet_interactive": {
     "language": "javascript"
    }
   },
   "outputs": [
    {
     "name": "stdout",
     "output_type": "stream",
     "text": [
      "true\n",
      "How does imposter syndrome make you feel?\n"
     ]
    }
   ],
   "source": [
    "function  reflectiveListening(statement) {\n",
    "\treturn `How does ${statement} make you feel?`\n",
    "}\n",
    "\n",
    "console.log(reflectiveListening('anxiety') === `How does anxiety make you feel?`)\n",
    "console.log(reflectiveListening('imposter syndrome'))"
   ]
  },
  {
   "cell_type": "markdown",
   "metadata": {},
   "source": [
    "- Like numbers, bools and strings, function are just data that store code.\n",
    "- That mean functions can be use as input or outputs to other function.\n",
    "- Functions that have a functions as an inputs are called \"higher order functions\"\n",
    "- functions inputted to HOFs are known as callback functions"
   ]
  },
  {
   "cell_type": "code",
   "execution_count": 7,
   "metadata": {
    "dotnet_interactive": {
     "language": "javascript"
    }
   },
   "outputs": [
    {
     "name": "stdout",
     "output_type": "stream",
     "text": [
      "Now, I'm only gonna say this one time.\n",
      "Sweden is a social construct.\n",
      "**shoots you**\n",
      "**shoots you**\n",
      "**shoots you**\n"
     ]
    }
   ],
   "source": [
    "const sayOnce = function(sayFunction) {\n",
    "\tlet said = false\n",
    "\treturn () => {\n",
    "\t\tif(said){\n",
    "\t\t\tconsole.log(\"**shoots you**\")\n",
    "\t\t\treturn \n",
    "\t\t} \n",
    "\t\tsaid = true\n",
    "\t\tconsole.log(\"Now, I'm only gonna say this one time.\")\n",
    "\t\tsayFunction()\n",
    "\t\treturn\n",
    "\t}\n",
    "}\n",
    "\n",
    "const sayPhrase = () => {\n",
    "\tconsole.log(\"Sweden is a social construct.\")\n",
    "}\n",
    "\n",
    "const sayPhraseOnce = sayOnce(sayPhrase)\n",
    "\n",
    "sayPhraseOnce()\n",
    "sayPhraseOnce()\n",
    "sayPhraseOnce()\n",
    "sayPhraseOnce()"
   ]
  },
  {
   "cell_type": "markdown",
   "metadata": {},
   "source": [
    "## Arrays\n",
    "- We can store multiple values in one variable name using arrays with square brackets []"
   ]
  },
  {
   "cell_type": "code",
   "execution_count": 8,
   "metadata": {
    "dotnet_interactive": {
     "language": "javascript"
    }
   },
   "outputs": [],
   "source": [
    "const EdBoys = [\"Ed\",\"Edd\",\"Eddy\"]"
   ]
  },
  {
   "cell_type": "markdown",
   "metadata": {},
   "source": [
    "- We can return them using their index with 0 as the first index"
   ]
  },
  {
   "cell_type": "code",
   "execution_count": 9,
   "metadata": {
    "dotnet_interactive": {
     "language": "javascript"
    }
   },
   "outputs": [
    {
     "name": "stdout",
     "output_type": "stream",
     "text": [
      "Ed\n",
      "Edd\n",
      "Eddy\n"
     ]
    }
   ],
   "source": [
    "console.log(EdBoys[0])\n",
    "console.log(EdBoys[1])\n",
    "console.log(EdBoys[2])"
   ]
  },
  {
   "cell_type": "markdown",
   "metadata": {},
   "source": [
    "## Objects\n",
    "- Objects are very very very special way of storing data\n",
    "- Objects let you label (key) your store to any string or number\n",
    "- Fun fact arrays are just that just auto labels your data with numbers"
   ]
  },
  {
   "cell_type": "code",
   "execution_count": 10,
   "metadata": {
    "dotnet_interactive": {
     "language": "javascript"
    }
   },
   "outputs": [],
   "source": [
    "const comedian = {\n",
    "\t\"name\": \"Louis C.K.\",\n",
    "\t\"age\": 54,\n",
    "\t\"married\": false\n",
    "}"
   ]
  },
  {
   "cell_type": "markdown",
   "metadata": {},
   "source": [
    "- Similar to arrays, you can call key (property)\n",
    "- Calling properties like this is call \"bracket notation\""
   ]
  },
  {
   "cell_type": "code",
   "execution_count": 11,
   "metadata": {
    "dotnet_interactive": {
     "language": "javascript"
    }
   },
   "outputs": [
    {
     "name": "stdout",
     "output_type": "stream",
     "text": [
      "54\n",
      "Louis C.K.\n",
      "false\n"
     ]
    }
   ],
   "source": [
    "console.log(comedian[\"age\"])\n",
    "console.log(comedian[\"name\"])\n",
    "console.log(comedian[\"married\"])"
   ]
  },
  {
   "cell_type": "markdown",
   "metadata": {},
   "source": [
    "- Writing the object with strings in quotes is known as \"JavaScript object notation\" (JSON)\n",
    "- In JavaScript, you don't have to write quotes when you make a object property."
   ]
  },
  {
   "cell_type": "code",
   "execution_count": 12,
   "metadata": {
    "dotnet_interactive": {
     "language": "javascript"
    }
   },
   "outputs": [],
   "source": [
    "const otherFunnyGuy = {\n",
    "\tname: \"videogamedunkey\",\n",
    "\tsubscribers: Infinity,\n",
    "\tleaguePlayer: false\n",
    "}"
   ]
  },
  {
   "cell_type": "markdown",
   "metadata": {},
   "source": [
    "- You can also get a property with a dot (.) then the property\n",
    "- This is call \"dot notation\""
   ]
  },
  {
   "cell_type": "code",
   "execution_count": 13,
   "metadata": {
    "dotnet_interactive": {
     "language": "javascript"
    }
   },
   "outputs": [
    {
     "name": "stdout",
     "output_type": "stream",
     "text": [
      "videogamedunkey\n",
      "Infinity\n",
      "false\n"
     ]
    }
   ],
   "source": [
    "console.log(otherFunnyGuy.name)\n",
    "console.log(otherFunnyGuy.subscribers)\n",
    "console.log(otherFunnyGuy.leaguePlayer)"
   ]
  },
  {
   "cell_type": "markdown",
   "metadata": {},
   "source": [
    "- Functions can all be can also be stored in objects as well.\n",
    "- When a function is stored in an object it is also known as a method."
   ]
  },
  {
   "cell_type": "code",
   "execution_count": 14,
   "metadata": {
    "dotnet_interactive": {
     "language": "javascript"
    }
   },
   "outputs": [],
   "source": [
    "const Jokester = {\n",
    "\tname: \"Ray Jay Johnson\",\n",
    "\thometown: \"Youngstown\",\n",
    "\tsetupJoke: function() {\n",
    "\t\tconsole.log(\"Hey Johnson!\")\n",
    "\t},\n",
    "\tpunchline: () => {\n",
    "\t\tconsole.log(\"Now, you can call me Ray, or you can call me Jay, or you can call me Ray Jay, or you can call me RJ, or you can call me RJJ, or you can call me RJJ Jr. But you doesn't has to call me Johnson\")\n",
    "\t}\n",
    "}"
   ]
  },
  {
   "cell_type": "code",
   "execution_count": 15,
   "metadata": {
    "dotnet_interactive": {
     "language": "javascript"
    }
   },
   "outputs": [
    {
     "name": "stdout",
     "output_type": "stream",
     "text": [
      "Hey Johnson!\n",
      "Now, you can call me Ray, or you can call me Jay, or you can call me Ray Jay, or you can call me RJ, or you can call me RJJ, or you can call me RJJ Jr. But you doesn't has to call me Johnson\n"
     ]
    }
   ],
   "source": [
    "Jokester.setupJoke()\n",
    "Jokester.punchline()"
   ]
  },
  {
   "cell_type": "markdown",
   "metadata": {},
   "source": [
    "- Methods made with the \"function\" keyword also have unique ability to have access to their object with the \"this\" keyword.\n",
    "###### *Note methods made with \"=>\" will not connect \"this\" to the object. Generally, arrow function should not be used for methods."
   ]
  },
  {
   "cell_type": "code",
   "execution_count": 16,
   "metadata": {
    "dotnet_interactive": {
     "language": "javascript"
    }
   },
   "outputs": [
    {
     "name": "stdout",
     "output_type": "stream",
     "text": [
      "Welcome to your rouge awakening! This is ! Akai Haato\n",
      "Hachama-chama~!\n"
     ]
    }
   ],
   "source": [
    "const professionalGutBuster = {\n",
    "\tname: \"Akai Haato\",\n",
    "\tgreeting: function() {\n",
    "\t\tconsole.log(`Welcome to your rouge awakening! This is ! ${this.name}`)\n",
    "\t}, \n",
    "\ttransform: function() {\n",
    "\t\tthis.name = \"Hachama\"\n",
    "\t\tthis.greeting = () => {\n",
    "\t\t\tconsole.log(`${this.name}-chama~!`)\n",
    "\t\t}\n",
    "\t}\n",
    "}\n",
    "professionalGutBuster.greeting()\n",
    "professionalGutBuster.transform()\n",
    "professionalGutBuster.greeting()"
   ]
  },
  {
   "cell_type": "markdown",
   "metadata": {},
   "source": [
    "- In JavaScript everything is an object.\n",
    "- There are objects everywhere.\n",
    "- Pretty much everything (except null and undefined) will have properties and methods.\n",
    "- Here are just a few examples"
   ]
  },
  {
   "cell_type": "code",
   "execution_count": 17,
   "metadata": {
    "dotnet_interactive": {
     "language": "javascript"
    }
   },
   "outputs": [
    {
     "name": "stdout",
     "output_type": "stream",
     "text": [
      "3.141592653589793\n",
      "1235\n",
      "HELLO\n",
      "4\n"
     ]
    }
   ],
   "source": [
    "console.log(Math.PI)\n",
    "console.log(1235[\"toString\"]())\n",
    "console.log(\"hello\".toUpperCase())\n",
    "console.log([1, 2, 3, 4].length)"
   ]
  },
  {
   "cell_type": "markdown",
   "metadata": {},
   "source": [
    "## Classes\n",
    "- A class is a group of objects.\n",
    "- They can be considered like blueprints of a house.\n",
    "- They can describe a object. But, they are not the object they describe.\n",
    "- Classes can be used to create a lot of similar objects easily"
   ]
  },
  {
   "cell_type": "code",
   "execution_count": 18,
   "metadata": {
    "dotnet_interactive": {
     "language": "javascript"
    }
   },
   "outputs": [],
   "source": [
    "class Transportation{\n",
    "\tconstructor(riders, speed) {\n",
    "\t\tthis.riders = riders\n",
    "\t\tthis.canMove = true\n",
    "\t\tthis.speed = speed\n",
    "\t}\n",
    "\tgo = function() {\n",
    "    console.log(`going ${speed}!!!!`)\n",
    "  }\n",
    "}"
   ]
  },
  {
   "cell_type": "code",
   "execution_count": 19,
   "metadata": {
    "dotnet_interactive": {
     "language": "javascript"
    }
   },
   "outputs": [
    {
     "name": "stdout",
     "output_type": "stream",
     "text": [
      "Transportation {\n",
      "  go: [Function: go],\n",
      "  riders: 'settlers',\n",
      "  canMove: true,\n",
      "  speed: 30\n",
      "}\n",
      "Transportation {\n",
      "  go: [Function: go],\n",
      "  riders: 'normal people',\n",
      "  canMove: true,\n",
      "  speed: 30\n",
      "}\n",
      "Transportation {\n",
      "  go: [Function: go],\n",
      "  riders: 'Goku',\n",
      "  canMove: true,\n",
      "  speed: 30\n",
      "}\n"
     ]
    }
   ],
   "source": [
    "const rock = new Transportation(\"settlers\", 30)\n",
    "const car = new Transportation(\"normal people\", 30)\n",
    "const instantTransmission = new Transportation(\"Goku\", 30)\n",
    "\n",
    "console.log(rock)\n",
    "console.log(car)\n",
    "console.log(instantTransmission)"
   ]
  },
  {
   "cell_type": "markdown",
   "metadata": {},
   "source": [
    "- You can also use functions to create class"
   ]
  },
  {
   "cell_type": "code",
   "execution_count": 20,
   "metadata": {},
   "outputs": [
    {
     "name": "stdout",
     "output_type": "stream",
     "text": [
      "For Hatfield!!!!\n",
      "For McCoy!!!!\n"
     ]
    }
   ],
   "source": [
    "function McCoy(name) {\n",
    "\tthis.name = name\n",
    "\tthis.family = \"McCoy\"\n",
    "\tthis.location = \"West Virginia\"\n",
    "\tthis.battleCry = function() {\n",
    "    console.log(`For ${this.family}!!!!`)\n",
    "  }\n",
    "}\n",
    "\n",
    "class Hatfield {\n",
    "\tconstructor(name) {\n",
    "\t\tthis.name = name\n",
    "\t\tthis.family = \"Hatfield\"\n",
    "\t\tthis.location = \"Kentucky\"\n",
    "\t}\n",
    "\tbattleCry() {\n",
    "    console.log(`For ${this.family}!!!!`)\n",
    "  }\n",
    "}\n",
    "\n",
    "const William = new Hatfield(\"William Anderson Hatfield\")\n",
    "const Asa = new McCoy(\"Asa Harmon McCoy\")\n",
    "William.battleCry()\n",
    "Asa.battleCry()"
   ]
  },
  {
   "cell_type": "markdown",
   "metadata": {},
   "source": [
    "- Class can have their own properties and methods they don't give to their objects.\n",
    "- Using static in a class will attach the properties and methods to the class.\n",
    "###### *static will also change the \"this\" context to the class"
   ]
  },
  {
   "cell_type": "code",
   "execution_count": 21,
   "metadata": {
    "dotnet_interactive": {
     "language": "javascript"
    }
   },
   "outputs": [
    {
     "name": "stdout",
     "output_type": "stream",
     "text": [
      "1\n",
      "3\n",
      "undefined\n"
     ]
    }
   ],
   "source": [
    "class Team{\n",
    "\tstatic numberOfTeammates = 0\n",
    "\tconstructor(name, job) {\n",
    "\t\tthis.name = name\n",
    "\t\tthis.job = job\n",
    "\t\tTeam.numberOfTeammates++\n",
    "\t}\n",
    "\tintro() {\n",
    "\t\tconsole.log(`The name's ${this.name}. I'm the ${this.job}`)\n",
    "\t}\n",
    "\tstatic getNumberOfTeammates() {\n",
    "\t\tconsole.log(this.numberOfTeammates)\n",
    "\t}\n",
    "}\n",
    "\n",
    "const vinny = new Team(\"Vinny\", \"muscle\")\n",
    "console.log(Team.numberOfTeammates)\n",
    "const vinDiesel = new Team(\"Vin Diesel\", \"get away driver\")\n",
    "const winkle = new Team(\"Winkel Von Stroheim\", \"brains\")\n",
    "Team.getNumberOfTeammates()\n",
    "\n",
    "console.log(winkle.numberOfTeammates)"
   ]
  },
  {
   "cell_type": "markdown",
   "metadata": {},
   "source": [
    "- Classes can also birth new classes (sub classes) with the \"extends\" keyword\n",
    "- Sub classes can inherit properties and methods from it's parent class"
   ]
  },
  {
   "cell_type": "code",
   "execution_count": 22,
   "metadata": {
    "dotnet_interactive": {
     "language": "javascript"
    }
   },
   "outputs": [
    {
     "name": "stdout",
     "output_type": "stream",
     "text": [
      "Garfield {\n",
      "  hasClaws: true,\n",
      "  meow: [Function (anonymous)],\n",
      "  catchPhrase: [Function: catchPhrase]\n",
      "}\n",
      "meow\n"
     ]
    }
   ],
   "source": [
    "function Cat() {\n",
    "\tthis.hasClaws = true\n",
    "\tthis.meow = () => console.log(\"meow\")\n",
    "}\n",
    "\n",
    "class Garfield extends Cat {\n",
    "\tcatchPhrase = () => console.log(\"I hate Mondays\")\n",
    "}\n",
    "\n",
    "const gorefield = new Garfield()\n",
    "\n",
    "console.log(gorefield)\n",
    "gorefield.meow()"
   ]
  },
  {
   "cell_type": "markdown",
   "metadata": {},
   "source": [
    "- A subclasses constructor requires it's parent's constructor first.\n",
    "- \"super\" inside the constructor is the parent's constructor. \n",
    "- In a method, \"super\" keyword is similar to \"this\" but for the parent's methods."
   ]
  },
  {
   "cell_type": "code",
   "execution_count": 23,
   "metadata": {
    "dotnet_interactive": {
     "language": "javascript"
    }
   },
   "outputs": [],
   "source": [
    "class Mundie{\n",
    "\tconstructor(name, occupation) {\n",
    "\t\tthis.name = name\n",
    "\t\tthis.occupation = occupation\n",
    "\t\tthis.species = \"human\"\n",
    "\t}\n",
    "\tgreeting() {\n",
    "\t\tconsole.log(`Hello, my name is ${this.name} and I do ${this.occupation}`)\n",
    "\t}\n",
    "}\n",
    "\n",
    "class Inscribed extends Mundie{\n",
    "\tconstructor(name, power, occupation) {\n",
    "\t\tsuper(name, occupation)\n",
    "\t\tthis.power = power\n",
    "\t}\n",
    "\tgreeting() {\n",
    "\t\tsuper.greeting()\n",
    "\t\tconsole.log(`I'm a regular ${this.species}`)\n",
    "\t}\n",
    "}\n",
    "\n",
    "const bob = new Mundie(\"bob\", \"accounting\")\n",
    "const molly = new Inscribed(\"Molly\", \"dumb\", \"retailing\")"
   ]
  },
  {
   "cell_type": "code",
   "execution_count": 24,
   "metadata": {
    "dotnet_interactive": {
     "language": "javascript"
    }
   },
   "outputs": [
    {
     "name": "stdout",
     "output_type": "stream",
     "text": [
      "Hello, my name is bob and I do accounting\n",
      "Hello, my name is Molly and I do retailing\n",
      "I'm a regular human\n"
     ]
    }
   ],
   "source": [
    "bob.greeting()\n",
    "molly.greeting()"
   ]
  },
  {
   "cell_type": "markdown",
   "metadata": {},
   "source": [
    "## Extra tips and tricks\n",
    "---"
   ]
  }
 ],
 "metadata": {
  "interpreter": {
   "hash": "369f2c481f4da34e4445cda3fffd2e751bd1c4d706f27375911949ba6bb62e1c"
  },
  "kernelspec": {
   "display_name": "JavaScript (Node.js)",
   "language": "javascript",
   "name": "javascript"
  },
  "language_info": {
   "file_extension": ".js",
   "mimetype": "application/javascript",
   "name": "javascript",
   "version": "18.3.0"
  },
  "orig_nbformat": 4
 },
 "nbformat": 4,
 "nbformat_minor": 2
}
