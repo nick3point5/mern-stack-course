{
 "cells": [
  {
   "cell_type": "markdown",
   "metadata": {},
   "source": [
    "# JavaScript basics 2\n",
    "---"
   ]
  },
  {
   "cell_type": "markdown",
   "metadata": {},
   "source": [
    "## Intro\n",
    "\n",
    "#### JS part 2\n",
    "- Scope\n",
    "- Functions\n",
    "- Arrays\n",
    "- Objects\n",
    "- Classes\n",
    "- Async\n",
    "---"
   ]
  },
  {
   "cell_type": "markdown",
   "metadata": {},
   "source": [
    "## Scope\n",
    "- JavaScript save and access variables in a special way.\n",
    "- A block of code are create whenever we use curly braces {}\n",
    "- Variables created inside a block cannot go outside that block"
   ]
  },
  {
   "cell_type": "code",
   "execution_count": 14,
   "metadata": {},
   "outputs": [
    {
     "name": "stderr",
     "output_type": "stream",
     "text": [
      "4:13 - Cannot find name 'prisoner'.\n"
     ]
    }
   ],
   "source": [
    "{\n",
    "\tconst prisoner = \"I ain't seen the sunshine since I don't know when\"\n",
    "}\n",
    "console.log(prisoner)"
   ]
  },
  {
   "cell_type": "markdown",
   "metadata": {},
   "source": [
    "- Variables can only go to the same or deeper block"
   ]
  },
  {
   "cell_type": "code",
   "execution_count": 15,
   "metadata": {},
   "outputs": [
    {
     "name": "stdout",
     "output_type": "stream",
     "text": [
      "I ain't seen the sunshine since I don't know when\n"
     ]
    }
   ],
   "source": [
    "{\n",
    "\tconst quarantine = \"I ain't seen the sunshine since I don't know when\"\n",
    "\t\t{\n",
    "\t\t\tconsole.log(quarantine)\n",
    "\t\t}\n",
    "}"
   ]
  },
  {
   "cell_type": "markdown",
   "metadata": {},
   "source": [
    "## Functions\n",
    "- Functions are blocks of code that we don't use immediately\n",
    "- Here are 2 ways of making a function"
   ]
  },
  {
   "cell_type": "code",
   "execution_count": 4,
   "metadata": {},
   "outputs": [],
   "source": [
    "function welcome() {\n",
    "\tconsole.log(\"Be our guest. Be our guest. Put our service to the test.\")\n",
    "}\n",
    "\n",
    "const welcome2 = () => {\n",
    "\tconsole.log(\"Welcome to the jungle, we've got fun and games\")\n",
    "}"
   ]
  },
  {
   "cell_type": "markdown",
   "metadata": {},
   "source": [
    "- They are useful because we can use (execute) them many times and only have to write the block once"
   ]
  },
  {
   "cell_type": "code",
   "execution_count": 10,
   "metadata": {},
   "outputs": [
    {
     "name": "stdout",
     "output_type": "stream",
     "text": [
      "Be our guest. Be our guest. Put our service to the test.\n",
      "Be our guest. Be our guest. Put our service to the test.\n",
      "Welcome to the jungle, we've got fun and games\n",
      "Welcome to the jungle, we've got fun and games\n"
     ]
    }
   ],
   "source": [
    "welcome()\n",
    "welcome()\n",
    "welcome2()\n",
    "welcome2()"
   ]
  },
  {
   "cell_type": "markdown",
   "metadata": {},
   "source": [
    "- Functions also special because we give it inputs and it can give us outputs.\n",
    "- The inputs are what we put in the parenthesis\n",
    "- The output is value we tell the function to return"
   ]
  },
  {
   "cell_type": "code",
   "execution_count": 16,
   "metadata": {},
   "outputs": [
    {
     "name": "stdout",
     "output_type": "stream",
     "text": [
      "How does imposter syndrome make you feel?\n"
     ]
    }
   ],
   "source": [
    "function  reflectiveListening(statement) {\n",
    "\treturn `How does ${statement} make you feel?`\n",
    "}\n",
    "\n",
    "console.log(reflectiveListening('imposter syndrome'))"
   ]
  },
  {
   "cell_type": "markdown",
   "metadata": {},
   "source": [
    "## Arrays\n",
    "- We can store multiple values in one variable name using arrays with square brackets []"
   ]
  },
  {
   "cell_type": "code",
   "execution_count": 17,
   "metadata": {},
   "outputs": [],
   "source": [
    "const EdBoys = [\"Ed\",\"Edd\",\"Eddy\"]"
   ]
  },
  {
   "cell_type": "markdown",
   "metadata": {},
   "source": [
    "- We can return them using their index with 0 as the first index"
   ]
  },
  {
   "cell_type": "code",
   "execution_count": 20,
   "metadata": {},
   "outputs": [
    {
     "name": "stdout",
     "output_type": "stream",
     "text": [
      "Ed\n",
      "Edd\n",
      "Eddy\n"
     ]
    }
   ],
   "source": [
    "console.log(EdBoys[0])\n",
    "console.log(EdBoys[1])\n",
    "console.log(EdBoys[2])"
   ]
  },
  {
   "cell_type": "markdown",
   "metadata": {},
   "source": [
    "## Objects\n",
    "- "
   ]
  },
  {
   "cell_type": "markdown",
   "metadata": {},
   "source": [
    "## Classes\n",
    "- "
   ]
  },
  {
   "cell_type": "markdown",
   "metadata": {},
   "source": [
    "## Async\n",
    "- "
   ]
  },
  {
   "cell_type": "code",
   "execution_count": 3,
   "metadata": {},
   "outputs": [
    {
     "name": "stdout",
     "output_type": "stream",
     "text": [
      "false\n"
     ]
    },
    {
     "ename": "",
     "evalue": "",
     "output_type": "error",
     "traceback": [
      "\u001b[1;31mThe Kernel crashed while executing code in the the current cell or a previous cell. Please review the code in the cell(s) to identify a possible cause of the failure. Click <a href='https://aka.ms/vscodeJupyterKernelCrash'>here</a> for more info. View Jupyter <a href='command:jupyter.viewOutput'>log</a> for further details."
     ]
    }
   ],
   "source": []
  },
  {
   "cell_type": "code",
   "execution_count": 3,
   "metadata": {},
   "outputs": [],
   "source": []
  },
  {
   "cell_type": "markdown",
   "metadata": {},
   "source": [
    "## Extra tips and tricks\n",
    "---"
   ]
  }
 ],
 "metadata": {
  "interpreter": {
   "hash": "369f2c481f4da34e4445cda3fffd2e751bd1c4d706f27375911949ba6bb62e1c"
  },
  "kernelspec": {
   "display_name": "JavaScript",
   "language": "javascript",
   "name": "jslab"
  },
  "language_info": {
   "file_extension": ".js",
   "mimetype": "text/javascript",
   "name": "javascript",
   "version": ""
  },
  "orig_nbformat": 4
 },
 "nbformat": 4,
 "nbformat_minor": 2
}
