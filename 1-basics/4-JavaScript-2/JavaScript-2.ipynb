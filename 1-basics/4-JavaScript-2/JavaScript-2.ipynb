{
 "cells": [
  {
   "cell_type": "markdown",
   "metadata": {},
   "source": [
    "# JavaScript basics 2\n",
    "---"
   ]
  },
  {
   "cell_type": "markdown",
   "metadata": {},
   "source": [
    "## Intro\n",
    "\n",
    "#### JS part 2\n",
    "- Scope\n",
    "- Functions\n",
    "- Arrays\n",
    "- Objects\n",
    "- Classes\n",
    "---"
   ]
  },
  {
   "cell_type": "markdown",
   "metadata": {},
   "source": [
    "## Scope\n",
    "- JavaScript save and access variables in a special way.\n",
    "- A block of code are create whenever we use curly braces {}\n",
    "- Variables created inside a block cannot go outside that block"
   ]
  },
  {
   "cell_type": "code",
   "execution_count": 1,
   "metadata": {},
   "outputs": [
    {
     "name": "stdout",
     "output_type": "stream",
     "text": [
      "ReferenceError: prisoner is not defined\n",
      "    at evalmachine.<anonymous>:5:14\n",
      "    at Script.runInThisContext (node:vm:129:12)\n",
      "    at Object.runInThisContext (node:vm:305:38)\n",
      "    at run ([eval]:1020:15)\n",
      "    at onRunRequest ([eval]:864:18)\n",
      "    at onMessage ([eval]:828:13)\n",
      "    at process.emit (node:events:527:28)\n",
      "    at emit (node:internal/child_process:936:14)\n",
      "    at process.processTicksAndRejections (node:internal/process/task_queues:83:21)\n"
     ]
    }
   ],
   "source": [
    "{\n",
    "\tconst prisoner = \"I ain't seen the sunshine since I don't know when\"\n",
    "}\n",
    "try {\n",
    "\tconsole.log(prisoner)\n",
    "} catch (error) {\n",
    "\tconsole.log(error)\n",
    "}"
   ]
  },
  {
   "cell_type": "markdown",
   "metadata": {},
   "source": [
    "- Variables can only go to the same or deeper block"
   ]
  },
  {
   "cell_type": "code",
   "execution_count": 2,
   "metadata": {},
   "outputs": [
    {
     "name": "stdout",
     "output_type": "stream",
     "text": [
      "I ain't seen the sunshine since I don't know when\n"
     ]
    }
   ],
   "source": [
    "{\n",
    "\tconst quarantine = \"I ain't seen the sunshine since I don't know when\"\n",
    "\t\t{\n",
    "\t\t\tconsole.log(quarantine)\n",
    "\t\t}\n",
    "}"
   ]
  },
  {
   "cell_type": "markdown",
   "metadata": {},
   "source": [
    "## Functions\n",
    "- Functions are blocks of code that we don't use immediately\n",
    "- Here are 2 ways of making a function"
   ]
  },
  {
   "cell_type": "code",
   "execution_count": 3,
   "metadata": {},
   "outputs": [],
   "source": [
    "function welcome() {\n",
    "\tconsole.log(\"Be our guest. Be our guest. Put our service to the test.\")\n",
    "}\n",
    "\n",
    "const welcome2 = () => {\n",
    "\tconsole.log(\"Welcome to the jungle, we've got fun and games\")\n",
    "}"
   ]
  },
  {
   "cell_type": "markdown",
   "metadata": {},
   "source": [
    "- They are useful because we can use (execute) them many times and only have to write the block once"
   ]
  },
  {
   "cell_type": "code",
   "execution_count": 4,
   "metadata": {},
   "outputs": [
    {
     "name": "stdout",
     "output_type": "stream",
     "text": [
      "Be our guest. Be our guest. Put our service to the test.\n",
      "Be our guest. Be our guest. Put our service to the test.\n",
      "Welcome to the jungle, we've got fun and games\n",
      "Welcome to the jungle, we've got fun and games\n"
     ]
    }
   ],
   "source": [
    "welcome()\n",
    "welcome()\n",
    "welcome2()\n",
    "welcome2()"
   ]
  },
  {
   "cell_type": "markdown",
   "metadata": {},
   "source": [
    "- Functions also special because we give it inputs and it can give us outputs.\n",
    "- The inputs are what we put in the parenthesis\n",
    "- The output is value we tell the function to return"
   ]
  },
  {
   "cell_type": "code",
   "execution_count": 5,
   "metadata": {},
   "outputs": [
    {
     "name": "stdout",
     "output_type": "stream",
     "text": [
      "How does imposter syndrome make you feel?\n"
     ]
    }
   ],
   "source": [
    "function  reflectiveListening(statement) {\n",
    "\treturn `How does ${statement} make you feel?`\n",
    "}\n",
    "\n",
    "console.log(reflectiveListening('imposter syndrome'))"
   ]
  },
  {
   "cell_type": "markdown",
   "metadata": {},
   "source": [
    "## Arrays\n",
    "- We can store multiple values in one variable name using arrays with square brackets []"
   ]
  },
  {
   "cell_type": "code",
   "execution_count": 6,
   "metadata": {},
   "outputs": [],
   "source": [
    "const EdBoys = [\"Ed\",\"Edd\",\"Eddy\"]"
   ]
  },
  {
   "cell_type": "markdown",
   "metadata": {},
   "source": [
    "- We can return them using their index with 0 as the first index"
   ]
  },
  {
   "cell_type": "code",
   "execution_count": 7,
   "metadata": {},
   "outputs": [
    {
     "name": "stdout",
     "output_type": "stream",
     "text": [
      "Ed\n",
      "Edd\n",
      "Eddy\n"
     ]
    }
   ],
   "source": [
    "console.log(EdBoys[0])\n",
    "console.log(EdBoys[1])\n",
    "console.log(EdBoys[2])"
   ]
  },
  {
   "cell_type": "markdown",
   "metadata": {},
   "source": [
    "## Objects\n",
    "- Objects are very very very special way of storing data\n",
    "- Objects let you label (key) your store to any string or number\n",
    "- Fun fact arrays are just that just auto labels your data with numbers"
   ]
  },
  {
   "cell_type": "code",
   "execution_count": 8,
   "metadata": {},
   "outputs": [],
   "source": [
    "const comedian = {\n",
    "\t\"name\": \"Louis C.K.\",\n",
    "\t\"age\": 54,\n",
    "\t\"married\": false\n",
    "}"
   ]
  },
  {
   "cell_type": "markdown",
   "metadata": {},
   "source": [
    "- Similar to arrays, you can call key (property)\n",
    "- Calling properties like this is call \"bracket notation\""
   ]
  },
  {
   "cell_type": "code",
   "execution_count": 9,
   "metadata": {},
   "outputs": [
    {
     "name": "stdout",
     "output_type": "stream",
     "text": [
      "54\n",
      "Louis C.K.\n",
      "false\n"
     ]
    }
   ],
   "source": [
    "console.log(comedian[\"age\"])\n",
    "console.log(comedian[\"name\"])\n",
    "console.log(comedian[\"married\"])"
   ]
  },
  {
   "cell_type": "markdown",
   "metadata": {},
   "source": [
    "- Writing the object with strings in quotes is known as \"JavaScript object notation\" (JSON)\n",
    "- In JavaScript, you don't have to write quotes when you make a object property."
   ]
  },
  {
   "cell_type": "code",
   "execution_count": 10,
   "metadata": {},
   "outputs": [],
   "source": [
    "const otherFunnyGuy = {\n",
    "\tname: \"videogamedunkey\",\n",
    "\tsubscribers: Infinity,\n",
    "\tleaguePlayer: false\n",
    "}"
   ]
  },
  {
   "cell_type": "markdown",
   "metadata": {},
   "source": [
    "- You can also get a property with a dot (.) then the property\n",
    "- This is call \"dot notation\""
   ]
  },
  {
   "cell_type": "code",
   "execution_count": 11,
   "metadata": {},
   "outputs": [
    {
     "name": "stdout",
     "output_type": "stream",
     "text": [
      "videogamedunkey\n",
      "Infinity\n",
      "false\n"
     ]
    }
   ],
   "source": [
    "console.log(otherFunnyGuy.name)\n",
    "console.log(otherFunnyGuy.subscribers)\n",
    "console.log(otherFunnyGuy.leaguePlayer)"
   ]
  },
  {
   "cell_type": "markdown",
   "metadata": {},
   "source": [
    "- Functions can all be can also be stored in objects as well.\n",
    "- When a function is stored in an object it is also known as a method."
   ]
  },
  {
   "cell_type": "code",
   "execution_count": 12,
   "metadata": {},
   "outputs": [],
   "source": [
    "const Jokester = {\n",
    "\tname: \"Ray Jay Johnson\",\n",
    "\thometown: \"Youngstown\",\n",
    "\tsetupJoke: function() {\n",
    "\t\tconsole.log(\"Hey Johnson!\")\n",
    "\t},\n",
    "\tpunchline: () => {\n",
    "\t\tconsole.log(\"Now, you can call me Ray, or you can call me Jay, or you can call me Ray Jay, or you can call me RJ, or you can call me RJJ, or you can call me RJJ Jr. But you doesn't has to call me Johnson\")\n",
    "\t}\n",
    "}"
   ]
  },
  {
   "cell_type": "code",
   "execution_count": 13,
   "metadata": {},
   "outputs": [
    {
     "name": "stdout",
     "output_type": "stream",
     "text": [
      "Hey Johnson!\n",
      "Now, you can call me Ray, or you can call me Jay, or you can call me Ray Jay, or you can call me RJ, or you can call me RJJ, or you can call me RJJ Jr. But you doesn't has to call me Johnson\n"
     ]
    }
   ],
   "source": [
    "Jokester.setupJoke()\n",
    "Jokester.punchline()"
   ]
  },
  {
   "cell_type": "markdown",
   "metadata": {},
   "source": [
    "- Methods also have unique ability to have access to their object with the \"this\" keyword"
   ]
  },
  {
   "cell_type": "code",
   "execution_count": 14,
   "metadata": {},
   "outputs": [],
   "source": [
    "const professionalGutBuster = {\n",
    "\tname: \"Akai Haato\",\n",
    "\tgreeting: function() {\n",
    "\t\tconsole.log(`Welcome to your rouge awakening! This is ! ${this.name}`)\n",
    "\t}, \n",
    "\ttransform: function() {\n",
    "\t\tthis.name = \"Hachama\"\n",
    "\t\tthis.greeting = () => {\n",
    "\t\t\tconsole.log(`${this.name}-chama~!`)\n",
    "\t\t}\n",
    "\t}\n",
    "}"
   ]
  },
  {
   "cell_type": "code",
   "execution_count": 15,
   "metadata": {},
   "outputs": [
    {
     "name": "stdout",
     "output_type": "stream",
     "text": [
      "Welcome to your rouge awakening! This is ! Akai Haato\n",
      "Hachama-chama~!\n"
     ]
    }
   ],
   "source": [
    "professionalGutBuster.greeting()\n",
    "professionalGutBuster.transform()\n",
    "professionalGutBuster.greeting()"
   ]
  },
  {
   "cell_type": "markdown",
   "metadata": {},
   "source": [
    "- In JavaScript everything is an object.\n",
    "- There are objects everywhere.\n",
    "- Pretty much everything (except null and undefined) will have properties and methods.\n",
    "- Here are just a few examples"
   ]
  },
  {
   "cell_type": "code",
   "execution_count": 16,
   "metadata": {},
   "outputs": [
    {
     "name": "stdout",
     "output_type": "stream",
     "text": [
      "3.141592653589793\n",
      "1235\n",
      "HELLO\n",
      "4\n"
     ]
    }
   ],
   "source": [
    "console.log(Math.PI)\n",
    "console.log(1235[\"toString\"]())\n",
    "console.log(\"hello\".toUpperCase())\n",
    "console.log([1, 2, 3, 4].length)"
   ]
  },
  {
   "cell_type": "markdown",
   "metadata": {},
   "source": [
    "## Classes\n",
    "- A class is a group of objects.\n",
    "- They can be considered like blueprints of a house.\n",
    "- They can describe a object. But, they are not the object they describe.\n",
    "- Classes can be used to create a lot of similar objects easily"
   ]
  },
  {
   "cell_type": "code",
   "execution_count": 17,
   "metadata": {},
   "outputs": [],
   "source": [
    "class Hatfield {\n",
    "\tconstructor(name) {\n",
    "\t\tthis.name = name\n",
    "\t\tthis.isHillBilly = true\n",
    "\t\tthis.isImbred = true\n",
    "\t\tthis.family = \"Hatfield\"\n",
    "\t\tthis.location = \"Kentucky\"\n",
    "\t}\n",
    "\tbattleCry() {\n",
    "    console.log(`For ${this.family}!!!!`)\n",
    "  }\n",
    "}\n",
    "\n",
    "function McCoy(name) {\n",
    "\tthis.name = name\n",
    "\tthis.isHillBilly = true\n",
    "\tthis.isImbred = true\n",
    "\tthis.family = \"McCoy\"\n",
    "\tthis.location = \"West Virginia\"\n",
    "\tthis.battleCry = function() {\n",
    "    console.log(`For ${this.family}!!!!`)\n",
    "  }\n",
    "}"
   ]
  },
  {
   "cell_type": "code",
   "execution_count": 18,
   "metadata": {},
   "outputs": [
    {
     "name": "stdout",
     "output_type": "stream",
     "text": [
      "For Hatfield!!!!\n",
      "For McCoy!!!!\n"
     ]
    }
   ],
   "source": [
    "const William = new Hatfield(\"William Anderson Hatfield\")\n",
    "const Asa = new McCoy(\"Asa Harmon McCoy\")\n",
    "William.battleCry()\n",
    "Asa.battleCry()\n"
   ]
  },
  {
   "cell_type": "markdown",
   "metadata": {},
   "source": [
    "- classes can also birth new classes (sub classes)\n",
    "- sub classes can inherit properties and methods from it's parent class\n",
    "- \"super\" keyword is similar to \"this\" but for the parent methods instead of itself\n",
    "- \"super\" inside the constructor is the parents constructor"
   ]
  },
  {
   "cell_type": "code",
   "execution_count": 19,
   "metadata": {},
   "outputs": [],
   "source": [
    "class Human{\n",
    "\tconstructor(name, occupation) {\n",
    "\t\tthis.name = name\n",
    "\t\tthis.occupation = occupation\n",
    "\t\tthis.species = \"human\"\n",
    "\t\tthis.strength = 180\n",
    "\t}\n",
    "\tgreeting() {\n",
    "\t\tconsole.log(`Hello, my name is ${this.name} and I do ${this.occupation}`)\n",
    "\t}\n",
    "}\n",
    "\n",
    "class MetaHuman extends Human{\n",
    "\tconstructor(name, power, occupation) {\n",
    "\t\tsuper(name, occupation)\n",
    "\t\tthis.power = power\n",
    "\t\tthis.species = \"Meta-Human\"\n",
    "\t\tthis.strength = 180000\n",
    "\t}\n",
    "\tdenial() {\n",
    "\t\tsuper.greeting()\n",
    "\t\tconsole.log(`I'm a regular person`)\n",
    "\t}\n",
    "}\n",
    "\n",
    "class SuperHero extends MetaHuman{\n",
    "\tconstructor(name, power) {\n",
    "\t\tsuper(name, power)\n",
    "\t\tthis.occupation = \"Super Heroing\"\n",
    "\t}\n",
    "\theroEntrance() {\n",
    "\t\tconsole.log(`With my ${this.power}. I can save the day`)\n",
    "\t}\n",
    "}\n",
    "\n",
    "const bob = new Human(\"bob\", \"accounting\")\n",
    "const molly = new MetaHuman(\"Molly\", \"dumb\", \"retailing\")\n",
    "const captainTardigrade = new SuperHero(\"Captain Tardigrade\", \"being an Extremophile\")"
   ]
  },
  {
   "cell_type": "code",
   "execution_count": 20,
   "metadata": {},
   "outputs": [
    {
     "name": "stdout",
     "output_type": "stream",
     "text": [
      "Hello, my name is bob and I do accounting\n",
      "Hello, my name is Molly and I do retailing\n",
      "Hello, my name is Captain Tardigrade and I do Super Heroing\n"
     ]
    }
   ],
   "source": [
    "bob.greeting()\n",
    "molly.greeting()\n",
    "captainTardigrade.greeting()"
   ]
  },
  {
   "cell_type": "code",
   "execution_count": 21,
   "metadata": {},
   "outputs": [
    {
     "name": "stdout",
     "output_type": "stream",
     "text": [
      "Hello, my name is Molly and I do retailing\n",
      "I'm a regular person\n",
      "With my being an Extremophile. I can save the day\n"
     ]
    }
   ],
   "source": [
    "molly.denial()\n",
    "captainTardigrade.heroEntrance()"
   ]
  },
  {
   "cell_type": "markdown",
   "metadata": {},
   "source": [
    "## Extra tips and tricks\n",
    "---"
   ]
  }
 ],
 "metadata": {
  "interpreter": {
   "hash": "369f2c481f4da34e4445cda3fffd2e751bd1c4d706f27375911949ba6bb62e1c"
  },
  "kernelspec": {
   "display_name": "JavaScript (Node.js)",
   "language": "javascript",
   "name": "javascript"
  },
  "language_info": {
   "file_extension": ".js",
   "mimetype": "application/javascript",
   "name": "javascript",
   "version": "18.3.0"
  },
  "orig_nbformat": 4
 },
 "nbformat": 4,
 "nbformat_minor": 2
}
