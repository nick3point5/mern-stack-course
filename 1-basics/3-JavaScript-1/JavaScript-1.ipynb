{
 "cells": [
  {
   "cell_type": "markdown",
   "metadata": {},
   "source": [
    "# JavaScript basics 1\n",
    "[![Binder](https://mybinder.org/badge_logo.svg)](https://mybinder.org/v2/gh/nick3point5/mern-stack-course/HEAD?labpath=1-basics%2F3-JavaScript-1%2FJavaScript-1.ipynb)\n",
    "---"
   ]
  },
  {
   "cell_type": "markdown",
   "metadata": {},
   "source": [
    "## Intro\n",
    "JavaScript is a programming language. It's fairly easy to learn, has thousands of tools, and can pretty much do anything. JavaScript also has a lot of concepts that can be useful if you decide to learn another language. So it is for those reasons that I really like JavaScript. This lesson will teach you the fundamentals of JavaScript. The fundamentals will allow you to, theoretically, solve any computational problem. In this lesson we will learn:\n",
    "\n",
    "#### JS part 1\n",
    "- Run JavaScript\n",
    "- Hello World!\n",
    "- Comments\n",
    "- Variables\n",
    "- Types\n",
    "- Operations\n",
    "- Conditionals\n",
    "- If statements\n",
    "- Loops\n",
    "---\n"
   ]
  },
  {
   "cell_type": "markdown",
   "metadata": {},
   "source": [
    "## Run JavaScript\n",
    "- We should have installed NodeJS already. If you haven't, here is the [tl:dr](../tldr.md).\n",
    "- To run JavaScript in the terminal create a file with the .js extension\n",
    "- Then run the node command followed by the file path"
   ]
  },
  {
   "cell_type": "code",
   "execution_count": null,
   "metadata": {
    "dotnet_interactive": {
     "language": "pwsh"
    }
   },
   "outputs": [
    {
     "name": "stdout",
     "output_type": "stream",
     "text": [
      "\r\n",
      "    Directory: C:\\code\\teaching\\mern-stack-course\\1-basics\\3-JavaScript-1\r\n",
      "\r\n",
      "\u001b[32;1mMode                 LastWriteTime         Length Name\u001b[0m\r\n",
      "\u001b[32;1m----                 -------------         ------ ----\u001b[0m\r\n",
      "-a---           7/15/2022  2:53 PM              0 index.js\r\n",
      "\r\n"
     ]
    }
   ],
   "source": [
    "ni index.js\n",
    "node index.js"
   ]
  },
  {
   "cell_type": "markdown",
   "metadata": {},
   "source": [
    "## Hello World!\n",
    "- Pretty much, the first thing we do in any programming language is printing to the console/terminal.\n",
    "- This lets us display what we are doing.\n",
    "- In JavaScript, we use ```console.log()```"
   ]
  },
  {
   "cell_type": "code",
   "execution_count": 1,
   "metadata": {
    "dotnet_interactive": {
     "language": "javascript"
    }
   },
   "outputs": [
    {
     "name": "stdout",
     "output_type": "stream",
     "text": [
      "Hello World!\n"
     ]
    }
   ],
   "source": [
    "console.log('Hello World!')"
   ]
  },
  {
   "cell_type": "markdown",
   "metadata": {},
   "source": [
    "## Comments\n",
    "- We can tell JavaScript to ignore what we write by writing ```//``` before our comment.\n",
    "- We can also wrap ```/* ... */``` around a section to make it a comment."
   ]
  },
  {
   "cell_type": "code",
   "execution_count": 23,
   "metadata": {
    "dotnet_interactive": {
     "language": "javascript"
    }
   },
   "outputs": [
    {
     "name": "stdout",
     "output_type": "stream",
     "text": [
      "Hello World!\n"
     ]
    }
   ],
   "source": [
    "//console.log('This is not JavaScript')\n",
    "console.log('Hello World!')\n",
    "/* \n",
    "\tconsole.log('This still is not JavaScript')\n",
    "*/"
   ]
  },
  {
   "cell_type": "markdown",
   "metadata": {},
   "source": [
    "## Variables\n",
    "- We can store information in something called a variable.\n",
    "- Variables have two parts\n",
    "  1) The label (what it's called)\n",
    "  2) The value (what it means)"
   ]
  },
  {
   "cell_type": "code",
   "execution_count": 2,
   "metadata": {
    "dotnet_interactive": {
     "language": "javascript"
    }
   },
   "outputs": [],
   "source": [
    "const rose = \"sweet smelling flower\""
   ]
  },
  {
   "cell_type": "markdown",
   "metadata": {},
   "source": [
    "- We have just made a label, \"rose\"  and attached it to the value, \"good smelling flower\"\n",
    "- So any time we use rose in the code, the code will replace it with \"good smelling flower\""
   ]
  },
  {
   "cell_type": "code",
   "execution_count": 3,
   "metadata": {
    "dotnet_interactive": {
     "language": "javascript"
    }
   },
   "outputs": [
    {
     "name": "stdout",
     "output_type": "stream",
     "text": [
      "sweet smelling flower\n"
     ]
    }
   ],
   "source": [
    "console.log(rose)"
   ]
  },
  {
   "cell_type": "markdown",
   "metadata": {},
   "source": [
    "- There are a few ways to make variables.\n",
    "- we can start with const, let, or var.\n",
    "  - ```const``` means the data we are going to store will never change. (immutable)\n",
    "  - ```let``` allows that the data we are going to store to change. {mutable}\n",
    "  - ```var``` is outdated and should never be used"
   ]
  },
  {
   "cell_type": "code",
   "execution_count": 4,
   "metadata": {
    "dotnet_interactive": {
     "language": "javascript"
    }
   },
   "outputs": [
    {
     "name": "stdout",
     "output_type": "stream",
     "text": [
      "5\n"
     ]
    }
   ],
   "source": [
    "const number = 5\n",
    "console.log(number)"
   ]
  },
  {
   "cell_type": "code",
   "execution_count": 5,
   "metadata": {
    "dotnet_interactive": {
     "language": "javascript"
    }
   },
   "outputs": [
    {
     "name": "stdout",
     "output_type": "stream",
     "text": [
      "false\n"
     ]
    }
   ],
   "source": [
    "let boolean = true\n",
    "boolean = false\n",
    "\n",
    "console.log(boolean)"
   ]
  },
  {
   "cell_type": "code",
   "execution_count": 6,
   "metadata": {
    "dotnet_interactive": {
     "language": "javascript"
    }
   },
   "outputs": [
    {
     "name": "stdout",
     "output_type": "stream",
     "text": [
      "sweet smelling flower\n"
     ]
    }
   ],
   "source": [
    "var poop = rose\n",
    "console.log(poop)"
   ]
  },
  {
   "cell_type": "markdown",
   "metadata": {},
   "source": [
    "## Types\n",
    "- In JavaScript there are 8 types\n",
    "  1) string\n",
    "  2) number\n",
    "  3) boolean\n",
    "  4) null\n",
    "  5) undefined\n",
    "  6) bigInt\n",
    "  7) symbol\n",
    "  8) object\n",
    "\n",
    "- In this lesson, we are not gonna talk about objects or symbols.\n",
    "  1) string\n",
    "  2) number\n",
    "  3) boolean\n",
    "  4) null\n",
    "  5) undefined\n",
    "  6) bigInt\n",
    "  7) ~~symbol~~\n",
    "  8) ~~object~~\n",
    "\n",
    "- Now let's pretend null, undefined are false Booleans\n",
    "  1) string\n",
    "  2) number\n",
    "  3) boolean\n",
    "  4) ~~null~~\n",
    "  5) ~~undefined~~\n",
    "  6) bigInt\n",
    "  7) ~~symbol~~\n",
    "  8) ~~object~~\n",
    "\n",
    "- We are also gonna pretend bigInt is just a number\n",
    "  1) string\n",
    "  2) number\n",
    "  3) boolean\n",
    "  4) ~~null~~\n",
    "  5) ~~undefined~~\n",
    "  6) ~~bigInt~~\n",
    "  7) ~~symbol~~\n",
    "  8) ~~object~~\n",
    "   \n",
    "- So in JavaScript, there are 3 primitive types\n",
    "  1) string\n",
    "  2) number\n",
    "  3) boolean\n"
   ]
  },
  {
   "cell_type": "markdown",
   "metadata": {},
   "source": [
    "- String are characters. \n",
    "- Character just mean any symbol we can type letters, numbers, emojis, ...\n",
    "- There are 3 ways to tell JavaScript what we are writing is a string:\n",
    "  1) \"wrap it in double quotes\"\n",
    "  2) 'wrap it in single quotes'\n",
    "  3) \\`wrap it in ticks\\` (that key next to the 1 in the number row)"
   ]
  },
  {
   "cell_type": "code",
   "execution_count": null,
   "metadata": {
    "dotnet_interactive": {
     "language": "javascript"
    }
   },
   "outputs": [
    {
     "data": {
      "text/plain": [
       "Burger"
      ]
     },
     "metadata": {},
     "output_type": "display_data"
    },
    {
     "data": {
      "text/plain": [
       "b0r64r"
      ]
     },
     "metadata": {},
     "output_type": "display_data"
    },
    {
     "data": {
      "text/plain": [
       "🍔"
      ]
     },
     "metadata": {},
     "output_type": "display_data"
    }
   ],
   "source": [
    "console.log(\"Burger\")\n",
    "console.log('b0r64r')\n",
    "console.log(`🍔`)"
   ]
  },
  {
   "cell_type": "markdown",
   "metadata": {},
   "source": [
    "- Ticks are great because you can use variables inside of them with ${}"
   ]
  },
  {
   "cell_type": "code",
   "execution_count": null,
   "metadata": {
    "dotnet_interactive": {
     "language": "javascript"
    }
   },
   "outputs": [
    {
     "data": {
      "text/plain": [
       "Hello Gamers"
      ]
     },
     "metadata": {},
     "output_type": "display_data"
    }
   ],
   "source": [
    "const thing = \"Gamers\"\n",
    "console.log(`Hello ${thing}`)"
   ]
  },
  {
   "cell_type": "markdown",
   "metadata": {},
   "source": [
    "- A backslash (\\) before a character tells JavaScript this is a character, not code."
   ]
  },
  {
   "cell_type": "code",
   "execution_count": null,
   "metadata": {
    "dotnet_interactive": {
     "language": "javascript"
    }
   },
   "outputs": [
    {
     "data": {
      "text/plain": [
       "what's up dog"
      ]
     },
     "metadata": {},
     "output_type": "display_data"
    }
   ],
   "source": [
    "console.log('what\\'s up dog')"
   ]
  },
  {
   "cell_type": "markdown",
   "metadata": {},
   "source": [
    "- Numbers are just numbers.\n",
    "- JavaScript considers integers and decimals to be the same.\n",
    "- JavaScript will assume anything we write with just digits are numbers."
   ]
  },
  {
   "cell_type": "code",
   "execution_count": null,
   "metadata": {
    "dotnet_interactive": {
     "language": "javascript"
    }
   },
   "outputs": [
    {
     "data": {
      "text/plain": [
       "1"
      ]
     },
     "metadata": {},
     "output_type": "display_data"
    },
    {
     "data": {
      "text/plain": [
       "1000000"
      ]
     },
     "metadata": {},
     "output_type": "display_data"
    },
    {
     "data": {
      "text/plain": [
       "2520"
      ]
     },
     "metadata": {},
     "output_type": "display_data"
    },
    {
     "data": {
      "text/plain": [
       "23.2548"
      ]
     },
     "metadata": {},
     "output_type": "display_data"
    }
   ],
   "source": [
    "console.log(1)\n",
    "console.log(1_000_000)\n",
    "console.log(2.52e3)\n",
    "console.log(23.2548)"
   ]
  },
  {
   "cell_type": "markdown",
   "metadata": {},
   "source": [
    "- Boolean only come in two values\n",
    "\t1) true\n",
    "\t2) false"
   ]
  },
  {
   "cell_type": "code",
   "execution_count": null,
   "metadata": {
    "dotnet_interactive": {
     "language": "javascript"
    }
   },
   "outputs": [
    {
     "data": {
      "text/plain": [
       "true"
      ]
     },
     "metadata": {},
     "output_type": "display_data"
    },
    {
     "data": {
      "text/plain": [
       "false"
      ]
     },
     "metadata": {},
     "output_type": "display_data"
    }
   ],
   "source": [
    "console.log(true)\n",
    "console.log(false)"
   ]
  },
  {
   "cell_type": "markdown",
   "metadata": {},
   "source": [
    "## Operations\n",
    "- In JavaScript we can do operations to our values.\n",
    "- The most common ones we use and understand are the Arithmetic (math) ones\n",
    "- Here are some of the basics\n",
    "  - addition (+)\n",
    "  - subtraction (-)\n",
    "  - multiplication (*)\n",
    "  - division (/)\n",
    "  - exponentiation (**)\n",
    "  - modulo (%) \"this is the reminder after division\""
   ]
  },
  {
   "cell_type": "code",
   "execution_count": 10,
   "metadata": {
    "dotnet_interactive": {
     "language": "javascript"
    }
   },
   "outputs": [
    {
     "name": "stdout",
     "output_type": "stream",
     "text": [
      "7\n",
      "3\n",
      "10\n",
      "2.5\n",
      "25\n",
      "1\n"
     ]
    }
   ],
   "source": [
    "console.log(5+2)\n",
    "console.log(5-2)\n",
    "console.log(5*2)\n",
    "console.log(5/2)\n",
    "console.log(5**2)\n",
    "console.log(5%2)"
   ]
  },
  {
   "cell_type": "markdown",
   "metadata": {},
   "source": [
    "- Operators can change their behavior depending on their type.\n",
    "- Let's see an example with the addition operator (+)"
   ]
  },
  {
   "cell_type": "code",
   "execution_count": 11,
   "metadata": {
    "dotnet_interactive": {
     "language": "javascript"
    }
   },
   "outputs": [
    {
     "name": "stdout",
     "output_type": "stream",
     "text": [
      "2\n",
      "hello my baby\n",
      "2\n"
     ]
    }
   ],
   "source": [
    "console.log(1+1)\n",
    "console.log(\"hello \"+\"my \"+\"baby\")\n",
    "console.log(true+true)\n"
   ]
  },
  {
   "cell_type": "markdown",
   "metadata": {},
   "source": [
    "- Notice that true + true logs out 2\n",
    "- This is because JavaScript does a thing called type coercion.\n",
    "- This means JavaScript will try to convert the values before outputting them to a single type of value.\n",
    "- This will happen if you try to mix different types into operations."
   ]
  },
  {
   "cell_type": "code",
   "execution_count": 12,
   "metadata": {
    "dotnet_interactive": {
     "language": "javascript"
    }
   },
   "outputs": [
    {
     "name": "stdout",
     "output_type": "stream",
     "text": [
      "one 1\n",
      "2\n",
      "one true\n"
     ]
    }
   ],
   "source": [
    "console.log(\"one \"+1) //converts 1 to \"1\"\n",
    "console.log(1+true) //converts true to 1\n",
    "console.log(\"one \"+true) //converts true to \"true\""
   ]
  },
  {
   "cell_type": "markdown",
   "metadata": {},
   "source": [
    "## Conditionals\n",
    "- Conditionals are another type of operators and will always return an Boolean.\n",
    "- A lot of them also come from math\n",
    "  - equal to (===)\n",
    "  - greater than (>)\n",
    "  - greater or equal to (>=)\n",
    "  - less than (<)\n",
    "  - less or equal to (<=)\n",
    "  - not equal to (!==)\n",
    "  - not (!)\n",
    "  - and (&&) \"both sides are true\"\n",
    "  - or (||) \"one side is true\""
   ]
  },
  {
   "cell_type": "code",
   "execution_count": 13,
   "metadata": {
    "dotnet_interactive": {
     "language": "javascript"
    }
   },
   "outputs": [
    {
     "name": "stdout",
     "output_type": "stream",
     "text": [
      "true\n",
      "false\n",
      "false\n",
      "true\n"
     ]
    }
   ],
   "source": [
    "console.log(1 === 1)\n",
    "console.log(1 === \"1\")\n",
    "console.log(1 < 1)\n",
    "console.log(\"dogs\" > \"cats\")"
   ]
  },
  {
   "cell_type": "markdown",
   "metadata": {},
   "source": [
    "- Because these conditional operators turn all values into a bool, it's important to know what values will turn false.\n",
    "- These values are known falsy and everything else is truthy"
   ]
  },
  {
   "cell_type": "code",
   "execution_count": 14,
   "metadata": {
    "dotnet_interactive": {
     "language": "javascript"
    }
   },
   "outputs": [
    {
     "name": "stdout",
     "output_type": "stream",
     "text": [
      "false\n",
      "false\n",
      "false\n",
      "false\n",
      "false\n",
      "false\n"
     ]
    }
   ],
   "source": [
    "console.log(!!false)\n",
    "console.log(!!0)\n",
    "console.log(!!NaN)\n",
    "console.log(!!\"\")\n",
    "console.log(!!null)\n",
    "console.log(!!undefined)\n"
   ]
  },
  {
   "cell_type": "markdown",
   "metadata": {},
   "source": [
    "## If statements\n",
    "- If statements let us control when we run code and when we don't.\n",
    "- If you give the if statement a truthy value, it will run a section of code\n",
    "- If you give it a falsy value, it will skip it"
   ]
  },
  {
   "cell_type": "code",
   "execution_count": 15,
   "metadata": {
    "dotnet_interactive": {
     "language": "javascript"
    }
   },
   "outputs": [
    {
     "name": "stdout",
     "output_type": "stream",
     "text": [
      "If you were your brother, who’s the magic worm\n",
      "My brother is the magic worm\n"
     ]
    }
   ],
   "source": [
    "const rightWorm = true\n",
    "\n",
    "console.log(\"If you were your brother, who’s the magic worm\")\n",
    "\n",
    "if(rightWorm) {\n",
    "\tconsole.log(\"My brother is the magic worm\")\n",
    "}"
   ]
  },
  {
   "cell_type": "code",
   "execution_count": 16,
   "metadata": {
    "dotnet_interactive": {
     "language": "javascript"
    }
   },
   "outputs": [
    {
     "name": "stdout",
     "output_type": "stream",
     "text": [
      "If you were your brother, who’s the magic worm\n"
     ]
    }
   ],
   "source": [
    "const leftWorm = false\n",
    "\n",
    "console.log(\"If you were your brother, who’s the magic worm\")\n",
    "\n",
    "if(leftWorm) {\n",
    "\tconsole.log(\"My brother is the magic worm\")\n",
    "}"
   ]
  },
  {
   "cell_type": "markdown",
   "metadata": {},
   "source": [
    "- We can add an else to the end of an if statement so code only runs if it's false"
   ]
  },
  {
   "cell_type": "code",
   "execution_count": 17,
   "metadata": {
    "dotnet_interactive": {
     "language": "javascript"
    }
   },
   "outputs": [
    {
     "name": "stdout",
     "output_type": "stream",
     "text": [
      "My brother the magic worm\n"
     ]
    }
   ],
   "source": [
    "if(rightWorm) {\n",
    "\tconsole.log(\"My brother the magic worm\")\n",
    "} else {\n",
    "\tconsole.log(\"I'm the magic worm\")\n",
    "}"
   ]
  },
  {
   "cell_type": "code",
   "execution_count": 18,
   "metadata": {
    "dotnet_interactive": {
     "language": "javascript"
    }
   },
   "outputs": [
    {
     "name": "stdout",
     "output_type": "stream",
     "text": [
      "I'm the magic worm\n"
     ]
    }
   ],
   "source": [
    "if(leftWorm) {\n",
    "\tconsole.log(\"My brother the magic worm\")\n",
    "} else {\n",
    "\tconsole.log(\"I'm the magic worm\")\n",
    "}"
   ]
  },
  {
   "cell_type": "markdown",
   "metadata": {},
   "source": [
    "## Loops\n",
    "- Up until now, we have written out every step for JavaScript to run.\n",
    "- Now with loops, we'll see the true power of the if statement and programming.\n",
    "- There are a few ways to write loops in JavaScript.\n",
    "- Here are two of them:\n"
   ]
  },
  {
   "cell_type": "markdown",
   "metadata": {},
   "source": [
    "#### while loop\n",
    "- This is almost the same as an if statement. When the code block finishes running, it will check the conditional again.\n",
    "- It will keep running until the conditional becomes false.\n",
    "###### *writing while loops can easily make infinite loops. Be careful when using them."
   ]
  },
  {
   "cell_type": "code",
   "execution_count": 19,
   "metadata": {
    "dotnet_interactive": {
     "language": "javascript"
    }
   },
   "outputs": [
    {
     "name": "stdout",
     "output_type": "stream",
     "text": [
      "I got\n",
      "1\n",
      "2\n",
      "3\n",
      "4\n",
      "5\n",
      "6\n",
      "7\n",
      "8\n",
      "M's in my bank account\n"
     ]
    }
   ],
   "source": [
    "let i = 1\n",
    "\n",
    "console.log(\"I got\")\n",
    "\n",
    "while(i < 9) {\n",
    "\tconsole.log(i)\n",
    "\ti = i + 1\n",
    "}\n",
    "\n",
    "console.log(\"M's in my bank account\")"
   ]
  },
  {
   "cell_type": "markdown",
   "metadata": {},
   "source": [
    "#### for loop\n",
    "- For loops are a little different.\n",
    "- In the parenthesis \"()\" there are three parts separated by semicolons \";\"\n",
    "\t1) Code you want to run before looping\n",
    "\t\t-\tCommonly this is used to make variable to use in the loop\n",
    "\t2) Conditional to check every loop\n",
    "\t3) Code you want to run after looping\n",
    "\t\t-\tCommonly this is used to change something in the condition so it will stop\n",
    "###### i++ is a shorter way to write i + i + 1"
   ]
  },
  {
   "cell_type": "code",
   "execution_count": 20,
   "metadata": {
    "dotnet_interactive": {
     "language": "javascript"
    }
   },
   "outputs": [
    {
     "name": "stdout",
     "output_type": "stream",
     "text": [
      "Gucci Gang Gucci Gang Gucci Gang Gucci Gang Gucci Gang Gucci Gang Gucci Gang Gucci Gang Gucci Gang Gucci Gang Gucci Gang Gucci Gang Gucci Gang Gucci Gang Gucci Gang Gucci Gang Gucci Gang Gucci Gang Gucci Gang Gucci Gang Gucci Gang Gucci Gang Gucci Gang Gucci Gang Gucci Gang Gucci Gang Gucci Gang Gucci Gang Gucci Gang Gucci Gang Gucci Gang Gucci Gang Gucci Gang Gucci Gang Gucci Gang Gucci Gang Gucci Gang Gucci Gang Gucci Gang Gucci Gang Gucci Gang Gucci Gang Gucci Gang Gucci Gang Gucci Gang Gucci Gang Gucci Gang Gucci Gang Gucci Gang Gucci Gang Gucci Gang Gucci Gang Gucci Gang Gucci Gang Gucci Gang Gucci Gang Gucci Gang Gucci Gang Gucci Gang Gucci Gang Gucci Gang Gucci Gang Gucci Gang Gucci Gang Gucci Gang Gucci Gang Gucci Gang Gucci Gang Gucci Gang Gucci Gang Gucci Gang Gucci Gang Gucci Gang Gucci Gang Gucci Gang Gucci Gang Gucci Gang Gucci Gang Gucci Gang Gucci Gang Gucci Gang Gucci Gang Gucci Gang Gucci Gang Gucci Gang Gucci Gang Gucci Gang Gucci Gang Gucci Gang Gucci Gang Gucci Gang Gucci Gang Gucci Gang Gucci Gang Gucci Gang Gucci Gang Gucci Gang Gucci Gang Gucci Gang Gucci Gang \n"
     ]
    }
   ],
   "source": [
    "let lilPump = \"\"\n",
    "for (let i = 0; i < 100; i++) {\n",
    "\tlilPump += \"Gucci Gang \"\n",
    "}\n",
    "console.log(lilPump)"
   ]
  },
  {
   "cell_type": "markdown",
   "metadata": {},
   "source": [
    "## Extra tips and tricks\n",
    "---"
   ]
  },
  {
   "cell_type": "markdown",
   "metadata": {},
   "source": [
    "- console.log() can print multiple things space using a comma to separate them."
   ]
  },
  {
   "cell_type": "code",
   "execution_count": 21,
   "metadata": {
    "dotnet_interactive": {
     "language": "javascript"
    }
   },
   "outputs": [
    {
     "name": "stdout",
     "output_type": "stream",
     "text": [
      "2 b false\n"
     ]
    }
   ],
   "source": [
    "console.log(2, \"b\", false)"
   ]
  },
  {
   "cell_type": "markdown",
   "metadata": {},
   "source": [
    "- Multiple variables can be made in one line."
   ]
  },
  {
   "cell_type": "code",
   "execution_count": 7,
   "metadata": {
    "dotnet_interactive": {
     "language": "javascript"
    }
   },
   "outputs": [
    {
     "name": "stdout",
     "output_type": "stream",
     "text": [
      "1\n",
      "2\n",
      "3\n"
     ]
    }
   ],
   "source": [
    "const [one, two, three] = [1, 2, 3]\n",
    "console.log(one)\n",
    "console.log(two)\n",
    "console.log(three)"
   ]
  },
  {
   "cell_type": "markdown",
   "metadata": {},
   "source": [
    "- Math operations follow the order of operations."
   ]
  },
  {
   "cell_type": "code",
   "execution_count": 9,
   "metadata": {
    "dotnet_interactive": {
     "language": "javascript"
    }
   },
   "outputs": [
    {
     "name": "stdout",
     "output_type": "stream",
     "text": [
      "17\n"
     ]
    }
   ],
   "source": [
    "console.log(1+2**3*2) // 2**3 ➡ 8*2 ➡ 16+1"
   ]
  },
  {
   "cell_type": "markdown",
   "metadata": {},
   "source": [
    "- Performing an operation on a variable and then assigning the result to the variable can be written this way"
   ]
  },
  {
   "cell_type": "code",
   "execution_count": 3,
   "metadata": {
    "dotnet_interactive": {
     "language": "javascript"
    }
   },
   "outputs": [
    {
     "name": "stdout",
     "output_type": "stream",
     "text": [
      "1\n"
     ]
    }
   ],
   "source": [
    "short = 2\n",
    "short += 3 // short = short + 3\n",
    "short /= 5 // short = short / 5\n",
    "console.log(short)"
   ]
  },
  {
   "cell_type": "markdown",
   "metadata": {},
   "source": [
    "- if statements without braces will run a statement of code after its conditional."
   ]
  },
  {
   "cell_type": "code",
   "execution_count": 6,
   "metadata": {
    "dotnet_interactive": {
     "language": "javascript"
    }
   },
   "outputs": [
    {
     "name": "stdout",
     "output_type": "stream",
     "text": [
      "this is true\n"
     ]
    }
   ],
   "source": [
    "if(true) console.log(\"this is true\")\n",
    "\n",
    "if(false) console.log(\"will not run\")"
   ]
  },
  {
   "cell_type": "markdown",
   "metadata": {},
   "source": [
    "- Semicolons can be used to state the end of a statement of code. It's basically the same as a new line except looks like one line."
   ]
  },
  {
   "cell_type": "code",
   "execution_count": null,
   "metadata": {
    "dotnet_interactive": {
     "language": "javascript"
    }
   },
   "outputs": [
    {
     "data": {
      "text/plain": [
       "I was here"
      ]
     },
     "metadata": {},
     "output_type": "display_data"
    }
   ],
   "source": [
    "const was = \"I was here\"; console.log(was);"
   ]
  },
  {
   "cell_type": "markdown",
   "metadata": {},
   "source": [
    "- The ternary operation can be used as a shortcut for if statements assignments\n",
    "- It's written in the form (conditional) ? (value if true) : (value if false)"
   ]
  },
  {
   "cell_type": "code",
   "execution_count": null,
   "metadata": {
    "dotnet_interactive": {
     "language": "javascript"
    }
   },
   "outputs": [
    {
     "data": {
      "text/plain": [
       "That's my purse. I don't know you."
      ]
     },
     "metadata": {},
     "output_type": "display_data"
    },
    {
     "data": {
      "text/plain": [
       "what's up dawg"
      ]
     },
     "metadata": {},
     "output_type": "display_data"
    }
   ],
   "source": [
    "let isFriend = false\n",
    "\n",
    "const hello = isFriend ? \"what's up dawg\" : \"That's my purse. I don't know you.\"\n",
    "\n",
    "console.log(hello)\n",
    "\n",
    "isFriend = true\n",
    "\n",
    "const hello2 = isFriend ? \"what's up dawg\" : \"That's my purse. I don't know you.\"\n",
    "\n",
    "console.log(hello2)\n"
   ]
  },
  {
   "cell_type": "markdown",
   "metadata": {},
   "source": [
    "## References\n",
    "---\n",
    "This was an brief overview of some of the basic things you can do with the terminal. Check out these resources for more.\n",
    "- [List of operators](https://developer.mozilla.org/en-US/docs/Web/JavaScript/Reference/Operators/Operator_Precedence)"
   ]
  }
 ],
 "metadata": {
  "kernelspec": {
   "display_name": "JavaScript (Node.js)",
   "language": "javascript",
   "name": "javascript"
  },
  "language_info": {
   "file_extension": ".js",
   "mimetype": "application/javascript",
   "name": "javascript",
   "version": "18.6.0"
  },
  "orig_nbformat": 4
 },
 "nbformat": 4,
 "nbformat_minor": 2
}
