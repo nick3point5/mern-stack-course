{
 "cells": [
  {
   "cell_type": "markdown",
   "metadata": {},
   "source": [
    "# JavaScript basics 1\n",
    "---"
   ]
  },
  {
   "cell_type": "markdown",
   "metadata": {},
   "source": [
    "## Intro\n",
    "JavaScript is a programming language. As fairly easy to learn, has thousands of tools, and can pretty much do anything. JavaScript also has a lot of concepts that can be useful if you decide to learn another language. So it is for those reasons that I really like JavaScript. This lesson with teach you the fundamentals of JavaScript letting you, theoretically, solve any computational problem.\n",
    "\n",
    "#### JS part 1\n",
    "- Hello World!\n",
    "- Comments\n",
    "- Variables\n",
    "- Types\n",
    "- Operations\n",
    "- Conditionals\n",
    "- If statements\n",
    "- Loops\n",
    "---\n"
   ]
  },
  {
   "cell_type": "markdown",
   "metadata": {},
   "source": [
    "## Hello World!\n",
    "- Pretty much the first thing we do in any programming language is pretty much printing to the console/terminal.\n",
    "- This let's us actually display what we are doing.\n",
    "- In JavaScript we use ```console.log()```"
   ]
  },
  {
   "cell_type": "code",
   "execution_count": 1,
   "metadata": {},
   "outputs": [
    {
     "name": "stdout",
     "output_type": "stream",
     "text": [
      "Hello World!\n"
     ]
    }
   ],
   "source": [
    "console.log('Hello World!')"
   ]
  },
  {
   "cell_type": "markdown",
   "metadata": {},
   "source": [
    "## Comments\n",
    "- We can tell JavaScript to ignore what we write by writing // or wrapping /* ... */"
   ]
  },
  {
   "cell_type": "code",
   "execution_count": 23,
   "metadata": {},
   "outputs": [
    {
     "name": "stdout",
     "output_type": "stream",
     "text": [
      "Hello World!\n"
     ]
    }
   ],
   "source": [
    "//console.log('This is not JavaScript')\n",
    "console.log('Hello World!')\n",
    "/* \n",
    "\tconsole.log('This still is not JavaScript')\n",
    "*/"
   ]
  },
  {
   "cell_type": "markdown",
   "metadata": {},
   "source": [
    "## Variables\n",
    "- We can store information in thing called variable.\n",
    "- Variables have two parts\n",
    "\t1) The label (what it's called)\n",
    "\t2) The value (what it's means)"
   ]
  },
  {
   "cell_type": "code",
   "execution_count": 2,
   "metadata": {},
   "outputs": [],
   "source": [
    "const rose = \"sweet smelling flower\""
   ]
  },
  {
   "cell_type": "markdown",
   "metadata": {},
   "source": [
    "- We have just made a label, \"rose\"  and attached it to the value, \"good smelling flower\"\n",
    "- So any time we use rose in the code, the code will replace it with \"good smelling flower\""
   ]
  },
  {
   "cell_type": "code",
   "execution_count": 3,
   "metadata": {},
   "outputs": [
    {
     "name": "stdout",
     "output_type": "stream",
     "text": [
      "sweet smelling flower\n"
     ]
    }
   ],
   "source": [
    "console.log(rose)"
   ]
  },
  {
   "cell_type": "markdown",
   "metadata": {},
   "source": [
    "- There are a few way to make variables.\n",
    "- we can start with const, let or var.\n",
    "  - const means the data we are going to store will never change\n",
    "  - let means the data we are going to store might change\n",
    "  - var is outdated and should never be used"
   ]
  },
  {
   "cell_type": "code",
   "execution_count": 4,
   "metadata": {},
   "outputs": [
    {
     "name": "stdout",
     "output_type": "stream",
     "text": [
      "5\n"
     ]
    }
   ],
   "source": [
    "const number = 5\n",
    "console.log(number)"
   ]
  },
  {
   "cell_type": "code",
   "execution_count": 5,
   "metadata": {},
   "outputs": [
    {
     "name": "stdout",
     "output_type": "stream",
     "text": [
      "false\n"
     ]
    }
   ],
   "source": [
    "let boolean = true\n",
    "boolean = false\n",
    "\n",
    "console.log(boolean)"
   ]
  },
  {
   "cell_type": "code",
   "execution_count": 6,
   "metadata": {},
   "outputs": [
    {
     "name": "stdout",
     "output_type": "stream",
     "text": [
      "sweet smelling flower\n"
     ]
    }
   ],
   "source": [
    "var poop = rose\n",
    "console.log(poop)"
   ]
  },
  {
   "cell_type": "markdown",
   "metadata": {},
   "source": [
    "## Types\n",
    "- In JavaScript there are 8 types\n",
    "\t1) string\n",
    "\t2) number\n",
    "\t3) boolean\n",
    "\t4) null\n",
    "\t5) undefined\n",
    "\t6) bigInt\n",
    "\t7) symbol\n",
    "\t8) object\n",
    "\n",
    "- In this lesson we are not gonna talk objects or symbols.\n",
    "  1) string\n",
    "\t2) number\n",
    "\t3) boolean\n",
    "\t4) null\n",
    "\t5) undefined\n",
    "\t6) bigInt\n",
    "\t7) ~~symbol~~\n",
    "\t8) ~~object~~\n",
    "\n",
    "- Now let's pretend null, undefined are false Booleans\n",
    "\t1) string\n",
    "\t2) number\n",
    "\t3) boolean\n",
    "\t4) ~~null~~\n",
    "\t5) ~~undefined~~\n",
    "\t6) bigInt\n",
    "\t7) ~~symbol~~\n",
    "\t8) ~~object~~\n",
    "\n",
    "- We are also gonna pretend bigInt is just a number\n",
    "  1) string\n",
    "\t2) number\n",
    "\t3) boolean\n",
    "\t4) ~~null~~\n",
    "\t5) ~~undefined~~\n",
    "\t6) ~~bigInt~~\n",
    "\t7) ~~symbol~~\n",
    "\t8) ~~object~~\n",
    "   \n",
    "- So in JavaScript there are 3 types\n",
    "  1) string\n",
    "\t2) number\n",
    "\t3) boolean\n"
   ]
  },
  {
   "cell_type": "markdown",
   "metadata": {},
   "source": [
    "- String are a characters. \n",
    "- Character just mean any symbol we can type letters, numbers, emojis, ...\n",
    "- There are 3 ways to tell JavaScript what we are writing is a string\n",
    "  1) \"wrap it in double quotes\"\n",
    "  2) 'wrap it in single quotes'\n",
    "  3) \\`wrap it in ticks\\` (that key next to the 1 in the number row)"
   ]
  },
  {
   "cell_type": "code",
   "execution_count": 7,
   "metadata": {},
   "outputs": [
    {
     "name": "stdout",
     "output_type": "stream",
     "text": [
      "string\n",
      "string\n",
      "string\n"
     ]
    }
   ],
   "source": [
    "console.log(typeof(\"Burger\"))\n",
    "console.log(typeof('b0r64r'))\n",
    "console.log(typeof(`🍔`))"
   ]
  },
  {
   "cell_type": "markdown",
   "metadata": {},
   "source": [
    "- Numbers are a just numbers\n",
    "- JavaScript considers integers and decimals to be the same\n",
    "- JavaScript will assume anything we write with just digits are numbers"
   ]
  },
  {
   "cell_type": "code",
   "execution_count": 8,
   "metadata": {},
   "outputs": [
    {
     "name": "stdout",
     "output_type": "stream",
     "text": [
      "number\n",
      "number\n",
      "number\n"
     ]
    }
   ],
   "source": [
    "console.log(typeof(1))\n",
    "console.log(typeof(1_000_000))\n",
    "console.log(typeof(23.2548))"
   ]
  },
  {
   "cell_type": "markdown",
   "metadata": {},
   "source": [
    "- Boolean only come in two values\n",
    "\t1) true\n",
    "\t2) false"
   ]
  },
  {
   "cell_type": "code",
   "execution_count": 9,
   "metadata": {},
   "outputs": [
    {
     "name": "stdout",
     "output_type": "stream",
     "text": [
      "boolean\n",
      "boolean\n"
     ]
    }
   ],
   "source": [
    "console.log(typeof(true))\n",
    "console.log(typeof(false))"
   ]
  },
  {
   "cell_type": "markdown",
   "metadata": {},
   "source": [
    "## Operations\n",
    "- In JavaScript we can do operations to our values.\n",
    "- The most common ones we use and understand are the Arithmetic (math) ones\n",
    "- Here are some of the basics\n",
    "  - addition (+)\n",
    "  - subtraction (-)\n",
    "  - multiplication (*)\n",
    "  - division (/)\n",
    "  - exponentiation (**)\n",
    "  - modulo (%) \"this is the reminder after division\""
   ]
  },
  {
   "cell_type": "code",
   "execution_count": 10,
   "metadata": {},
   "outputs": [
    {
     "name": "stdout",
     "output_type": "stream",
     "text": [
      "7\n",
      "3\n",
      "10\n",
      "2.5\n",
      "25\n",
      "1\n"
     ]
    }
   ],
   "source": [
    "console.log(5+2)\n",
    "console.log(5-2)\n",
    "console.log(5*2)\n",
    "console.log(5/2)\n",
    "console.log(5**2)\n",
    "console.log(5%2)"
   ]
  },
  {
   "cell_type": "markdown",
   "metadata": {},
   "source": [
    "- Operators can change their behavior depending on their type.\n",
    "- Let's see an example with the addition operator (+)"
   ]
  },
  {
   "cell_type": "code",
   "execution_count": 11,
   "metadata": {},
   "outputs": [
    {
     "name": "stdout",
     "output_type": "stream",
     "text": [
      "2\n",
      "hello my baby\n",
      "2\n"
     ]
    }
   ],
   "source": [
    "console.log(1+1)\n",
    "console.log(\"hello \"+\"my \"+\"baby\")\n",
    "console.log(true+true)\n"
   ]
  },
  {
   "cell_type": "markdown",
   "metadata": {},
   "source": [
    "- Notice that true + true logs out 2\n",
    "- This is because JavaScript does a thing call type coercion.\n",
    "- This means JavaScript will try convert the values before outputting them to a single type of value.\n",
    "- This will happen if you try to mix types into operations"
   ]
  },
  {
   "cell_type": "code",
   "execution_count": 12,
   "metadata": {},
   "outputs": [
    {
     "name": "stdout",
     "output_type": "stream",
     "text": [
      "one 1\n",
      "2\n",
      "one true\n"
     ]
    }
   ],
   "source": [
    "console.log(\"one \"+1) //converts 1 to \"1\"\n",
    "console.log(1+true) //converts true to 1\n",
    "console.log(\"one \"+true) //converts true to \"true\""
   ]
  },
  {
   "cell_type": "markdown",
   "metadata": {},
   "source": [
    "## Conditionals\n",
    "- Conditionals are another type of operators and will always return an Boolean.\n",
    "- A lot of them also come from math\n",
    "  - equal to (===)\n",
    "  - greater than (>)\n",
    "  - greater or equal to (>=)\n",
    "  - less than (<)\n",
    "  - less or equal to (<=)\n",
    "  - not equal to (!==)\n",
    "  - not (!)\n",
    "  - and (&&) \"both sides are true\"\n",
    "  - or (||) \"one side is true\""
   ]
  },
  {
   "cell_type": "code",
   "execution_count": 13,
   "metadata": {},
   "outputs": [
    {
     "name": "stdout",
     "output_type": "stream",
     "text": [
      "true\n",
      "false\n",
      "false\n",
      "true\n"
     ]
    }
   ],
   "source": [
    "console.log(1 === 1)\n",
    "console.log(1 === \"1\")\n",
    "console.log(1 < 1)\n",
    "console.log(\"dogs\" > \"cats\")"
   ]
  },
  {
   "cell_type": "markdown",
   "metadata": {},
   "source": [
    "- Because these conditional operators turn all values into bool, it's important to know what values will turn false.\n",
    "- These values are known falsy and everything else is truthy"
   ]
  },
  {
   "cell_type": "code",
   "execution_count": 14,
   "metadata": {},
   "outputs": [
    {
     "name": "stdout",
     "output_type": "stream",
     "text": [
      "false\n",
      "false\n",
      "false\n",
      "false\n",
      "false\n",
      "false\n"
     ]
    }
   ],
   "source": [
    "console.log(!!false)\n",
    "console.log(!!0)\n",
    "console.log(!!NaN)\n",
    "console.log(!!\"\")\n",
    "console.log(!!null)\n",
    "console.log(!!undefined)\n"
   ]
  },
  {
   "cell_type": "markdown",
   "metadata": {},
   "source": [
    "## If statements\n",
    "- If statements let's us control when we run code and when we don't.\n",
    "- If you give the if statement a truthy value it will run a section of code\n",
    "- If you give it a falsy value it will skip it"
   ]
  },
  {
   "cell_type": "code",
   "execution_count": 15,
   "metadata": {},
   "outputs": [
    {
     "name": "stdout",
     "output_type": "stream",
     "text": [
      "If you were your brother, who’s the magic worm\n",
      "My brother is the magic worm\n"
     ]
    }
   ],
   "source": [
    "const rightWorm = true\n",
    "\n",
    "console.log(\"If you were your brother, who’s the magic worm\")\n",
    "\n",
    "if(rightWorm) {\n",
    "\tconsole.log(\"My brother is the magic worm\")\n",
    "}"
   ]
  },
  {
   "cell_type": "code",
   "execution_count": 16,
   "metadata": {},
   "outputs": [
    {
     "name": "stdout",
     "output_type": "stream",
     "text": [
      "If you were your brother, who’s the magic worm\n"
     ]
    }
   ],
   "source": [
    "const leftWorm = false\n",
    "\n",
    "console.log(\"If you were your brother, who’s the magic worm\")\n",
    "\n",
    "if(leftWorm) {\n",
    "\tconsole.log(\"My brother is the magic worm\")\n",
    "}"
   ]
  },
  {
   "cell_type": "markdown",
   "metadata": {},
   "source": [
    "- We can add an else to the end of an if statement so code only runs if it's false"
   ]
  },
  {
   "cell_type": "code",
   "execution_count": 17,
   "metadata": {},
   "outputs": [
    {
     "name": "stdout",
     "output_type": "stream",
     "text": [
      "My brother the magic worm\n"
     ]
    }
   ],
   "source": [
    "if(rightWorm) {\n",
    "\tconsole.log(\"My brother the magic worm\")\n",
    "} else {\n",
    "\tconsole.log(\"I'm the magic worm\")\n",
    "}"
   ]
  },
  {
   "cell_type": "code",
   "execution_count": 18,
   "metadata": {},
   "outputs": [
    {
     "name": "stdout",
     "output_type": "stream",
     "text": [
      "I'm the magic worm\n"
     ]
    }
   ],
   "source": [
    "if(leftWorm) {\n",
    "\tconsole.log(\"My brother the magic worm\")\n",
    "} else {\n",
    "\tconsole.log(\"I'm the magic worm\")\n",
    "}"
   ]
  },
  {
   "cell_type": "markdown",
   "metadata": {},
   "source": [
    "## Loops\n",
    "- Up until now we have written out every step for JavaScript to run.\n",
    "- Now with loops we'll see the true power of the if statement and programming.\n",
    "- There are a few ways to write loops in JavaScript.\n",
    "- Here are two of them:\n"
   ]
  },
  {
   "cell_type": "markdown",
   "metadata": {},
   "source": [
    "\n",
    "#### while loop\n",
    "- This is almost the same as an if statement, but when the code finish running it will check the conditional again.\n",
    "- It will keep running until the conditional becomes false\n",
    "###### *writing while loops can easily make infinite loops be careful when using them"
   ]
  },
  {
   "cell_type": "code",
   "execution_count": 19,
   "metadata": {},
   "outputs": [
    {
     "name": "stdout",
     "output_type": "stream",
     "text": [
      "I got\n",
      "1\n",
      "2\n",
      "3\n",
      "4\n",
      "5\n",
      "6\n",
      "7\n",
      "8\n",
      "M's in my bank account\n"
     ]
    }
   ],
   "source": [
    "let i = 1\n",
    "\n",
    "console.log(\"I got\")\n",
    "\n",
    "while(i < 9) {\n",
    "\tconsole.log(i)\n",
    "\ti = i + 1\n",
    "}\n",
    "\n",
    "console.log(\"M's in my bank account\")"
   ]
  },
  {
   "cell_type": "markdown",
   "metadata": {},
   "source": [
    "#### for loop\n",
    "- For loops are a little different.\n",
    "- In the parenthesis \"()\" there are three parts separated by semicolons \";\"\n",
    "\t1) Code you want to run before looping\n",
    "\t\t-\tCommonly this is used to make variable to use in the loop\n",
    "\t2) Conditional to check every loop\n",
    "\t3) Code you want to run after looping\n",
    "\t\t-\tCommonly this is used to change something in the condition so it will stop\n",
    "- i++ is a shorter way to write i + i + 1"
   ]
  },
  {
   "cell_type": "code",
   "execution_count": 20,
   "metadata": {},
   "outputs": [
    {
     "name": "stdout",
     "output_type": "stream",
     "text": [
      "Gucci Gang Gucci Gang Gucci Gang Gucci Gang Gucci Gang Gucci Gang Gucci Gang Gucci Gang Gucci Gang Gucci Gang Gucci Gang Gucci Gang Gucci Gang Gucci Gang Gucci Gang Gucci Gang Gucci Gang Gucci Gang Gucci Gang Gucci Gang Gucci Gang Gucci Gang Gucci Gang Gucci Gang Gucci Gang Gucci Gang Gucci Gang Gucci Gang Gucci Gang Gucci Gang Gucci Gang Gucci Gang Gucci Gang Gucci Gang Gucci Gang Gucci Gang Gucci Gang Gucci Gang Gucci Gang Gucci Gang Gucci Gang Gucci Gang Gucci Gang Gucci Gang Gucci Gang Gucci Gang Gucci Gang Gucci Gang Gucci Gang Gucci Gang Gucci Gang Gucci Gang Gucci Gang Gucci Gang Gucci Gang Gucci Gang Gucci Gang Gucci Gang Gucci Gang Gucci Gang Gucci Gang Gucci Gang Gucci Gang Gucci Gang Gucci Gang Gucci Gang Gucci Gang Gucci Gang Gucci Gang Gucci Gang Gucci Gang Gucci Gang Gucci Gang Gucci Gang Gucci Gang Gucci Gang Gucci Gang Gucci Gang Gucci Gang Gucci Gang Gucci Gang Gucci Gang Gucci Gang Gucci Gang Gucci Gang Gucci Gang Gucci Gang Gucci Gang Gucci Gang Gucci Gang Gucci Gang Gucci Gang Gucci Gang Gucci Gang Gucci Gang Gucci Gang Gucci Gang Gucci Gang Gucci Gang Gucci Gang \n"
     ]
    }
   ],
   "source": [
    "let lilPump = \"\"\n",
    "for (let i = 0; i < 100; i++) {\n",
    "\tlilPump = lilPump + \"Gucci Gang \"\n",
    "}\n",
    "console.log(lilPump)"
   ]
  },
  {
   "cell_type": "markdown",
   "metadata": {},
   "source": [
    "## Extra tips and tricks\n",
    "---"
   ]
  },
  {
   "cell_type": "markdown",
   "metadata": {},
   "source": [
    "- console.log() can print multiple thing space using comma to separate them"
   ]
  },
  {
   "cell_type": "code",
   "execution_count": 21,
   "metadata": {},
   "outputs": [
    {
     "name": "stdout",
     "output_type": "stream",
     "text": [
      "2 b false\n"
     ]
    }
   ],
   "source": [
    "console.log(2, \"b\", false)"
   ]
  },
  {
   "cell_type": "markdown",
   "metadata": {},
   "source": [
    "- Multiple variables can be made in one line"
   ]
  },
  {
   "cell_type": "code",
   "execution_count": null,
   "metadata": {},
   "outputs": [],
   "source": []
  },
  {
   "cell_type": "markdown",
   "metadata": {},
   "source": [
    "- Performing an operation on a variable and then assigning the result to the variable can be written this way"
   ]
  },
  {
   "cell_type": "code",
   "execution_count": 22,
   "metadata": {},
   "outputs": [
    {
     "name": "stdout",
     "output_type": "stream",
     "text": [
      "true\n"
     ]
    }
   ],
   "source": [
    "long = 30\n",
    "short = 30\n",
    "\n",
    "long = long + 17\n",
    "short += 17\n",
    "console.log(long === short)"
   ]
  },
  {
   "cell_type": "markdown",
   "metadata": {},
   "source": [
    "## References\n",
    "---\n",
    "This was an brief overview of some of the basic things you can do with the terminal. Check out these resources for more.\n",
    "- [List of operators](https://developer.mozilla.org/en-US/docs/Web/JavaScript/Reference/Operators/Operator_Precedence)\n",
    "- [official GitHub CLI manual](https://cli.github.com/manual/)"
   ]
  }
 ],
 "metadata": {
  "kernelspec": {
   "display_name": "JavaScript (Node.js)",
   "language": "javascript",
   "name": "javascript"
  },
  "language_info": {
   "file_extension": ".js",
   "mimetype": "application/javascript",
   "name": "javascript",
   "version": "18.3.0"
  },
  "orig_nbformat": 4
 },
 "nbformat": 4,
 "nbformat_minor": 2
}
