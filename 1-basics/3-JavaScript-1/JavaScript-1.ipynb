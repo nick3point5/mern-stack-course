{
 "cells": [
  {
   "cell_type": "markdown",
   "metadata": {},
   "source": [
    "# JavaScript basics 1\n",
    "---"
   ]
  },
  {
   "cell_type": "markdown",
   "metadata": {},
   "source": [
    "## Intro\n",
    "JavaScript is a programming language. As fairly easy to learn, has thousands of tools, and can pretty much do anything. JavaScript also has a lot of concepts that can be useful if you decide to learn another language. So it is for those reasons that I really like JavaScript. This lesson with teach you the fundamentals of JavaScript letting you, theoretically, solve any computational problem.\n",
    "\n",
    "#### JS part 1\n",
    "- Hello World!\n",
    "- Variables\n",
    "- Types\n",
    "- Operations\n",
    "- Conditionals\n",
    "- If statements\n",
    "- Loops\n",
    "---\n"
   ]
  },
  {
   "cell_type": "markdown",
   "metadata": {},
   "source": [
    "## Hello World!\n",
    "- Pretty much the first thing we do in any programming language is pretty much printing to the console/terminal.\n",
    "- This let's us actually display what we are doing.\n",
    "- In JavaScript we use ```console.log()```"
   ]
  },
  {
   "cell_type": "code",
   "execution_count": 1,
   "metadata": {},
   "outputs": [
    {
     "name": "stdout",
     "output_type": "stream",
     "text": [
      "Hello World!\n"
     ]
    }
   ],
   "source": [
    "console.log('Hello World!')"
   ]
  },
  {
   "cell_type": "markdown",
   "metadata": {},
   "source": [
    "## Variables\n",
    "- We can store information in thing called variable.\n",
    "- Variables have two parts\n",
    "\t1) The label (what it's called)\n",
    "\t2) The value (what it's means)"
   ]
  },
  {
   "cell_type": "code",
   "execution_count": 2,
   "metadata": {},
   "outputs": [],
   "source": [
    "const rose = \"good smelling flower\""
   ]
  },
  {
   "cell_type": "markdown",
   "metadata": {},
   "source": [
    "- We have just made a label, \"rose\"  and attached it to the value, \"good smelling flower\"\n",
    "- So any time we use rose in the code, the code will replace it with \"good smelling flower\""
   ]
  },
  {
   "cell_type": "code",
   "execution_count": 3,
   "metadata": {},
   "outputs": [
    {
     "name": "stdout",
     "output_type": "stream",
     "text": [
      "good smelling flower\n"
     ]
    }
   ],
   "source": [
    "console.log(rose)"
   ]
  },
  {
   "cell_type": "markdown",
   "metadata": {},
   "source": [
    "- There are a few way to make variables.\n",
    "- we can start with const, let or var.\n",
    "  - const means the data we are going to store will never change\n",
    "  - let means the data we are going to store might change\n",
    "  - var is outdated and should never be used"
   ]
  },
  {
   "cell_type": "code",
   "execution_count": 4,
   "metadata": {},
   "outputs": [
    {
     "name": "stdout",
     "output_type": "stream",
     "text": [
      "5\n"
     ]
    }
   ],
   "source": [
    "const number = 5\n",
    "console.log(number)"
   ]
  },
  {
   "cell_type": "code",
   "execution_count": 5,
   "metadata": {},
   "outputs": [
    {
     "name": "stdout",
     "output_type": "stream",
     "text": [
      "false\n"
     ]
    }
   ],
   "source": [
    "let boolean = true\n",
    "boolean = false\n",
    "\n",
    "console.log(boolean)"
   ]
  },
  {
   "cell_type": "code",
   "execution_count": 6,
   "metadata": {},
   "outputs": [
    {
     "name": "stdout",
     "output_type": "stream",
     "text": [
      "good smelling flower\n"
     ]
    }
   ],
   "source": [
    "var poop = rose\n",
    "console.log(poop)"
   ]
  },
  {
   "cell_type": "markdown",
   "metadata": {},
   "source": [
    "## Types\n",
    "- In JavaScript there are 8 types\n",
    "\t1) string\n",
    "\t2) number\n",
    "\t3) boolean\n",
    "\t4) null\n",
    "\t5) undefined\n",
    "\t6) bigInt\n",
    "\t7) symbol\n",
    "\t8) object\n",
    "\n",
    "- In this lesson we are not gonna talk objects or symbols.\n",
    "  1) string\n",
    "\t2) number\n",
    "\t3) boolean\n",
    "\t4) null\n",
    "\t5) undefined\n",
    "\t6) bigInt\n",
    "\t7) ~~symbol~~\n",
    "\t8) ~~object~~\n",
    "\n",
    "- Now let's pretend null, undefined are false Booleans\n",
    "\t1) string\n",
    "\t2) number\n",
    "\t3) boolean\n",
    "\t4) ~~null~~\n",
    "\t5) ~~undefined~~\n",
    "\t6) bigInt\n",
    "\t7) ~~symbol~~\n",
    "\t8) ~~object~~\n",
    "\n",
    "- We are also gonna pretend bigInt is just a number\n",
    "  1) string\n",
    "\t2) number\n",
    "\t3) boolean\n",
    "\t4) ~~null~~\n",
    "\t5) ~~undefined~~\n",
    "\t6) ~~bigInt~~\n",
    "\t7) ~~symbol~~\n",
    "\t8) ~~object~~\n",
    "   \n",
    "- So in JavaScript there are 3 types\n",
    "  1) string\n",
    "\t2) number\n",
    "\t3) boolean\n"
   ]
  },
  {
   "cell_type": "markdown",
   "metadata": {},
   "source": [
    "- String are a characters. \n",
    "- Character just mean any symbol we can type letters, numbers, emojis, ...\n",
    "- There are 3 ways to tell JavaScript what we are writing is a string\n",
    "  1) \"wrap it in double quotes\"\n",
    "  2) 'wrap it in single quotes'\n",
    "  3) \\`wrap it in ticks\\` (that key next to the 1 in the number row)"
   ]
  },
  {
   "cell_type": "code",
   "execution_count": 10,
   "metadata": {},
   "outputs": [
    {
     "name": "stdout",
     "output_type": "stream",
     "text": [
      "string\n",
      "string\n",
      "string\n"
     ]
    }
   ],
   "source": [
    "console.log(typeof(\"Burger\"))\n",
    "console.log(typeof('b0r64r'))\n",
    "console.log(typeof(`🍔`))"
   ]
  },
  {
   "cell_type": "markdown",
   "metadata": {},
   "source": [
    "- Numbers are a just numbers\n",
    "- JavaScript considers integers and decimals to be the same\n",
    "- JavaScript will assume anything we write with just digits are numbers"
   ]
  },
  {
   "cell_type": "code",
   "execution_count": 11,
   "metadata": {},
   "outputs": [
    {
     "name": "stdout",
     "output_type": "stream",
     "text": [
      "number\n",
      "number\n",
      "number\n"
     ]
    }
   ],
   "source": [
    "console.log(typeof(1))\n",
    "console.log(typeof(1_000_000))\n",
    "console.log(typeof(23.2548))"
   ]
  },
  {
   "cell_type": "markdown",
   "metadata": {},
   "source": [
    "- Boolean only come in two values\n",
    "\t1) true\n",
    "\t2) false"
   ]
  },
  {
   "cell_type": "code",
   "execution_count": 14,
   "metadata": {},
   "outputs": [
    {
     "name": "stdout",
     "output_type": "stream",
     "text": [
      "boolean\n",
      "boolean\n"
     ]
    }
   ],
   "source": [
    "console.log(typeof(true))\n",
    "console.log(typeof(false))"
   ]
  },
  {
   "cell_type": "markdown",
   "metadata": {},
   "source": [
    "## Operations\n",
    "- In JavaScript we can do operations to our values.\n",
    "- The most common ones we use and understand are the Arithmetic (math) ones"
   ]
  },
  {
   "cell_type": "code",
   "execution_count": 23,
   "metadata": {},
   "outputs": [
    {
     "name": "stdout",
     "output_type": "stream",
     "text": [
      "7\n",
      "3\n",
      "10\n",
      "2.5\n",
      "1\n"
     ]
    }
   ],
   "source": [
    "console.log(5+2)\n",
    "console.log(5-2)\n",
    "console.log(5*2)\n",
    "console.log(5/2)\n",
    "console.log(5%2)"
   ]
  },
  {
   "cell_type": "markdown",
   "metadata": {},
   "source": [
    "- Operators can change their behavior depending on their type.\n",
    "- Let's see an example with the addition operator (+)"
   ]
  },
  {
   "cell_type": "code",
   "execution_count": 19,
   "metadata": {},
   "outputs": [
    {
     "name": "stdout",
     "output_type": "stream",
     "text": [
      "2\n",
      "hello my baby\n",
      "2\n"
     ]
    }
   ],
   "source": [
    "console.log(1+1)\n",
    "console.log(\"hello \"+\"my \"+\"baby\")\n",
    "console.log(true+true)\n"
   ]
  },
  {
   "cell_type": "markdown",
   "metadata": {},
   "source": [
    "- Notice that true + true logs out 2\n",
    "- This is because JavaScript does a thing call type coercion.\n",
    "- This means will try to output a single type of value.\n",
    "- This will also happen if you try to mix types into operations"
   ]
  },
  {
   "cell_type": "code",
   "execution_count": 22,
   "metadata": {},
   "outputs": [
    {
     "name": "stdout",
     "output_type": "stream",
     "text": [
      "one 1\n",
      "2\n",
      "one true\n"
     ]
    }
   ],
   "source": [
    "console.log(\"one \"+1)\n",
    "console.log(1+true)\n",
    "console.log(\"one \"+true)"
   ]
  },
  {
   "cell_type": "markdown",
   "metadata": {},
   "source": [
    "## Conditionals\n",
    "- "
   ]
  },
  {
   "cell_type": "markdown",
   "metadata": {},
   "source": [
    "## If statements\n",
    "- "
   ]
  },
  {
   "cell_type": "markdown",
   "metadata": {},
   "source": [
    "## Loops\n",
    "- "
   ]
  }
 ],
 "metadata": {
  "kernelspec": {
   "display_name": "JavaScript (Node.js)",
   "language": "javascript",
   "name": "javascript"
  },
  "language_info": {
   "file_extension": ".js",
   "mimetype": "application/javascript",
   "name": "javascript",
   "version": "18.3.0"
  },
  "orig_nbformat": 4
 },
 "nbformat": 4,
 "nbformat_minor": 2
}
