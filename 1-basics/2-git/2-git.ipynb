{
 "cells": [
  {
   "cell_type": "markdown",
   "metadata": {},
   "source": [
    "# Git & GitHub basics\n",
    "---"
   ]
  },
  {
   "cell_type": "markdown",
   "metadata": {},
   "source": [
    "## Intro\n",
    "Git is what is known as version control software. Basically, it's a time machine for your files and directories. This will make more sense as we use it. You might have already used a similar or done things that git can do like control + Z to undo changes to a file. Git and GitHub takes this concept to another level. In this lesson you will learn:\n",
    "#### Git\n",
    "- Setting up local git\n",
    "- git status\n",
    "- Staging/adding changes\n",
    "- Committing changes\n",
    "- Checking out commits\n",
    "- Logging commits\n",
    "- Reset commits\n",
    "- Creating branches\n",
    "- Merging branches\n",
    "- Resolving conflicts\n",
    "#### GitHub\n",
    "- Creating GitHub repositories\n",
    "- Connecting to GitHub\n",
    "- Pushing to GitHub\n",
    "- Pulling from GitHub\n",
    "- Pull requests\n",
    "- Cloning from GitHub\n",
    "---\n"
   ]
  },
  {
   "cell_type": "markdown",
   "metadata": {},
   "source": [
    "## Setup\n",
    "*If you finish the last lesson you should have git and GitHub CLI already install. If you haven't here is the [tl:dr](example.com).\n",
    "- Now we just need to run some terminal commands to get setup."
   ]
  },
  {
   "cell_type": "code",
   "execution_count": null,
   "metadata": {
    "dotnet_interactive": {
     "language": "pwsh"
    },
    "vscode": {
     "languageId": "dotnet-interactive.pwsh"
    }
   },
   "outputs": [],
   "source": [
    "git config --global user.name \"nick3point5\"\n",
    "git config --global user.email \"example@example.com\"\n",
    "git config --global init.defaultBranch main\n",
    "git config --global core.autocrlf true\n",
    "git config --global core.safecrlf true"
   ]
  },
  {
   "cell_type": "markdown",
   "metadata": {},
   "source": [
    "- We just register your username and email in your local git settings\n",
    "- We changed the default git branch from master to main\n",
    "- We turned on crlf safe settings to we with other operating systems. (basically for some reasons the new line in Windows is different from UNIX. IDK)"
   ]
  },
  {
   "cell_type": "markdown",
   "metadata": {},
   "source": [
    "## Git\n",
    "- Let's start a git instance here."
   ]
  },
  {
   "cell_type": "code",
   "execution_count": null,
   "metadata": {
    "dotnet_interactive": {
     "language": "pwsh"
    },
    "vscode": {
     "languageId": "dotnet-interactive.pwsh"
    }
   },
   "outputs": [],
   "source": [
    "git init"
   ]
  }
 ],
 "metadata": {
  "kernelspec": {
   "display_name": ".NET (PowerShell)",
   "language": "PowerShell",
   "name": ".net-powershell"
  },
  "language_info": {
   "name": "PowerShell"
  },
  "orig_nbformat": 4
 },
 "nbformat": 4,
 "nbformat_minor": 2
}
