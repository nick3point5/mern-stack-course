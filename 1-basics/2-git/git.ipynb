{
 "cells": [
  {
   "cell_type": "markdown",
   "metadata": {},
   "source": [
    "# Git & GitHub basics\n",
    "---"
   ]
  },
  {
   "cell_type": "markdown",
   "metadata": {},
   "source": [
    "## Intro\n",
    "Git is what is known as version control software. Basically, it's a time machine for our files and directories. This will make more sense as we use it. We might have already used a similar or done things that git can do like control + Z to undo changes to a file. Git and GitHub takes this concept to another level. In this lesson we will learn:\n",
    "#### Git\n",
    "- Setting up local git\n",
    "- git status\n",
    "- Staging/adding changes\n",
    "- Committing changes\n",
    "- Logging commits\n",
    "- Checking out commits\n",
    "- Reset commits\n",
    "- Creating branches\n",
    "- Merging branches\n",
    "- Resolving conflicts\n",
    "#### GitHub\n",
    "- Creating GitHub repositories\n",
    "- Connecting to GitHub\n",
    "- Pushing to GitHub\n",
    "- Pulling from GitHub\n",
    "- Pull requests\n",
    "- Cloning from GitHub\n",
    "---\n"
   ]
  },
  {
   "cell_type": "markdown",
   "metadata": {},
   "source": [
    "## Git\n",
    "<a name=\"Setup\"></a>\n",
    "#### Setup\n",
    "*If we finish the last lesson we should have git and GitHub CLI already install. If we haven't here is the [tl:dr](example.com).\n",
    "- Now we just need to run some terminal commands to get setup."
   ]
  },
  {
   "cell_type": "code",
   "execution_count": null,
   "metadata": {
    "dotnet_interactive": {
     "language": "pwsh"
    },
    "vscode": {
     "languageId": "dotnet-interactive.pwsh"
    }
   },
   "outputs": [],
   "source": [
    "git config --global user.name \"nick3point5\"\n",
    "git config --global user.email \"example@example.com\"\n",
    "git config --global init.defaultBranch main\n",
    "git config --global core.autocrlf input\n",
    "git config --global core.safecrlf true"
   ]
  },
  {
   "cell_type": "markdown",
   "metadata": {},
   "source": [
    "- We just register our username and email in our local git settings\n",
    "- We changed the default git branch from master to main\n",
    "- We changed the crlf settings to we with other operating systems. (basically for some reasons the new line in Windows is different from UNIX. IDK)"
   ]
  },
  {
   "cell_type": "markdown",
   "metadata": {},
   "source": [
    "#### git init\n",
    "- Let's make a example directory and start a git repository."
   ]
  },
  {
   "cell_type": "code",
   "execution_count": null,
   "metadata": {
    "dotnet_interactive": {
     "language": "pwsh"
    },
    "vscode": {
     "languageId": "dotnet-interactive.pwsh"
    }
   },
   "outputs": [
    {
     "name": "stdout",
     "output_type": "stream",
     "text": [
      "\r\n",
      "    Directory: C:\\Users\\ktt44\\Documents\\code\\teaching\\mern\\1-basics\\2-git\r\n",
      "\r\n",
      "\u001b[32;1mMode                 LastWriteTime         Length Name\u001b[0m\r\n",
      "\u001b[32;1m----                 -------------         ------ ----\u001b[0m\r\n",
      "d----            6/8/2022  5:53 PM                example\r\n",
      "Initialized empty Git repository in C:/Users/ktt44/Documents/code/teaching/mern/1-basics/2-git/example/.git/\r\n",
      "\r\n"
     ]
    }
   ],
   "source": [
    "md example\n",
    "cd example\n",
    "git init"
   ]
  },
  {
   "cell_type": "markdown",
   "metadata": {},
   "source": [
    "- We now have git repo (repository) which means any file/directory inside can be track by git. We can see a git repo has been created by the hidden .git directory."
   ]
  },
  {
   "cell_type": "code",
   "execution_count": null,
   "metadata": {
    "dotnet_interactive": {
     "language": "pwsh"
    },
    "vscode": {
     "languageId": "dotnet-interactive.pwsh"
    }
   },
   "outputs": [
    {
     "name": "stdout",
     "output_type": "stream",
     "text": [
      "\r\n",
      "    Directory: C:\\Users\\ktt44\\Documents\\code\\teaching\\mern\\1-basics\\2-git\\example\r\n",
      "\r\n",
      "\u001b[32;1mMode                 LastWriteTime         Length Name\u001b[0m\r\n",
      "\u001b[32;1m----                 -------------         ------ ----\u001b[0m\r\n",
      "d--h-            6/8/2022  5:53 PM                .git\r\n",
      "\r\n"
     ]
    }
   ],
   "source": [
    "ls -Force"
   ]
  },
  {
   "cell_type": "markdown",
   "metadata": {},
   "source": [
    "#### git status\n",
    "- Now that we have a git repo we have unlocked git commands.\n",
    "- The most basic is ```git status```. It will give we an over view of the status of the repo. We will explain more of the details later."
   ]
  },
  {
   "cell_type": "code",
   "execution_count": null,
   "metadata": {
    "dotnet_interactive": {
     "language": "pwsh"
    },
    "vscode": {
     "languageId": "dotnet-interactive.pwsh"
    }
   },
   "outputs": [
    {
     "name": "stdout",
     "output_type": "stream",
     "text": [
      "On branch main\r\n",
      "\r\n",
      "No commits yet\r\n",
      "\r\n",
      "nothing to commit (create/copy files and use \"git add\" to track)\r\n"
     ]
    }
   ],
   "source": [
    "git status"
   ]
  },
  {
   "cell_type": "markdown",
   "metadata": {},
   "source": [
    "- Let's make a new text file."
   ]
  },
  {
   "cell_type": "code",
   "execution_count": null,
   "metadata": {
    "dotnet_interactive": {
     "language": "pwsh"
    },
    "vscode": {
     "languageId": "dotnet-interactive.pwsh"
    }
   },
   "outputs": [
    {
     "name": "stdout",
     "output_type": "stream",
     "text": [
      "\r\n",
      "    Directory: C:\\Users\\ktt44\\Documents\\code\\teaching\\mern\\1-basics\\2-git\\example\r\n",
      "\r\n",
      "\u001b[32;1mMode                 LastWriteTime         Length Name\u001b[0m\r\n",
      "\u001b[32;1m----                 -------------         ------ ----\u001b[0m\r\n",
      "-a---            6/8/2022  5:53 PM              0 Marty.txt\r\n",
      "-a---            6/8/2022  5:53 PM              0 Doc.txt\r\n",
      "\r\n"
     ]
    }
   ],
   "source": [
    "ni Marty.txt, Doc.txt"
   ]
  },
  {
   "cell_type": "markdown",
   "metadata": {},
   "source": [
    "- Let's check the status."
   ]
  },
  {
   "cell_type": "code",
   "execution_count": null,
   "metadata": {
    "dotnet_interactive": {
     "language": "pwsh"
    },
    "vscode": {
     "languageId": "dotnet-interactive.pwsh"
    }
   },
   "outputs": [
    {
     "name": "stdout",
     "output_type": "stream",
     "text": [
      "On branch main\r\n",
      "\r\n",
      "No commits yet\r\n",
      "\r\n",
      "Untracked files:\r\n",
      "  (use \"git add <file>...\" to include in what will be committed)\r\n",
      "\tDoc.txt\r\n",
      "\tMarty.txt\r\n",
      "\r\n",
      "nothing added to commit but untracked files present (use \"git add\" to track)\r\n"
     ]
    }
   ],
   "source": [
    "git status"
   ]
  },
  {
   "cell_type": "markdown",
   "metadata": {},
   "source": [
    "#### git add\n",
    "- In untracked files, we can see Marty.txt. \n",
    "- Git sees that the repo has changed, but it's unsure if we want to save this file.\n",
    "- We need to tell git to track (stage) this file, so we can save it to the repo.\n",
    "- We do this with the ```git add``` command."
   ]
  },
  {
   "cell_type": "code",
   "execution_count": null,
   "metadata": {
    "dotnet_interactive": {
     "language": "pwsh"
    },
    "vscode": {
     "languageId": "dotnet-interactive.pwsh"
    }
   },
   "outputs": [
    {
     "name": "stdout",
     "output_type": "stream",
     "text": [
      "On branch main\r\n",
      "\r\n",
      "No commits yet\r\n",
      "\r\n",
      "Changes to be committed:\r\n",
      "  (use \"git rm --cached <file>...\" to unstage)\r\n",
      "\tnew file:   Marty.txt\r\n",
      "\r\n",
      "Untracked files:\r\n",
      "  (use \"git add <file>...\" to include in what will be committed)\r\n",
      "\tDoc.txt\r\n",
      "\r\n"
     ]
    }
   ],
   "source": [
    "git add Marty.txt\n",
    "git status"
   ]
  },
  {
   "cell_type": "markdown",
   "metadata": {},
   "source": [
    "#### git commit\n",
    "- Now that git is tracking the file it will save changes when we commit.\n",
    "- Committing basically means we are taking a snapshot in time for the entire repo.\n",
    "- Every commit must have a message ```Please make it descriptive```.\n",
    "###### *if you don't have a message git will force you into vim. type ```:q``` to escape"
   ]
  },
  {
   "cell_type": "code",
   "execution_count": null,
   "metadata": {
    "dotnet_interactive": {
     "language": "pwsh"
    },
    "vscode": {
     "languageId": "dotnet-interactive.pwsh"
    }
   },
   "outputs": [
    {
     "name": "stdout",
     "output_type": "stream",
     "text": [
      "[main (root-commit) bdb11a3] Marty added\r\n",
      " 1 file changed, 0 insertions(+), 0 deletions(-)\r\n",
      " create mode 100644 Marty.txt\r\n",
      "On branch main\r\n",
      "Untracked files:\r\n",
      "  (use \"git add <file>...\" to include in what will be committed)\r\n",
      "\tDoc.txt\r\n",
      "\r\n",
      "nothing added to commit but untracked files present (use \"git add\" to track)\r\n"
     ]
    }
   ],
   "source": [
    "git commit -m \"Marty added\"\n",
    "git status "
   ]
  },
  {
   "cell_type": "markdown",
   "metadata": {},
   "source": [
    "#### git tag\n",
    "- When you commit we can also add tags so it's easier to find later with the ```git tag``` command."
   ]
  },
  {
   "cell_type": "code",
   "execution_count": null,
   "metadata": {
    "dotnet_interactive": {
     "language": "pwsh"
    },
    "vscode": {
     "languageId": "dotnet-interactive.pwsh"
    }
   },
   "outputs": [],
   "source": [
    "git tag origin-story"
   ]
  },
  {
   "cell_type": "markdown",
   "metadata": {},
   "source": [
    "- Notice that Doc.txt hasn't been committed because we didn't tell git to save him.\n",
    "- Let's add him now."
   ]
  },
  {
   "cell_type": "code",
   "execution_count": null,
   "metadata": {
    "dotnet_interactive": {
     "language": "pwsh"
    },
    "vscode": {
     "languageId": "dotnet-interactive.pwsh"
    }
   },
   "outputs": [
    {
     "name": "stdout",
     "output_type": "stream",
     "text": [
      "[main 08c1396] Doc added\r\n",
      " 1 file changed, 0 insertions(+), 0 deletions(-)\r\n",
      " create mode 100644 Doc.txt\r\n",
      "On branch main\r\n",
      "nothing to commit, working tree clean\r\n"
     ]
    }
   ],
   "source": [
    "git add .\\Doc.txt\n",
    "git commit -m \"Doc added\"\n",
    "git tag Doc-is-alive\n",
    "git status "
   ]
  },
  {
   "cell_type": "markdown",
   "metadata": {},
   "source": [
    "####  git add all changes\n",
    "- We can add all changed files by adding an ```-A``` flag to the git add command\n",
    "- Let's make a bunch of changes and add them all at once."
   ]
  },
  {
   "cell_type": "code",
   "execution_count": null,
   "metadata": {
    "dotnet_interactive": {
     "language": "pwsh"
    },
    "vscode": {
     "languageId": "dotnet-interactive.pwsh"
    }
   },
   "outputs": [
    {
     "name": "stdout",
     "output_type": "stream",
     "text": [
      "\r\n",
      "    Directory: C:\\Users\\ktt44\\Documents\\code\\teaching\\mern\\1-basics\\2-git\\example\r\n",
      "\r\n",
      "\u001b[32;1mMode                 LastWriteTime         Length Name\u001b[0m\r\n",
      "\u001b[32;1m----                 -------------         ------ ----\u001b[0m\r\n",
      "-a---            6/8/2022  5:53 PM              0 cell.txt\r\n",
      "-a---            6/8/2022  5:53 PM              0 zoom.txt\r\n",
      "-a---            6/8/2022  5:53 PM              0 terminator.txt\r\n",
      "\r\n"
     ]
    }
   ],
   "source": [
    "ni cell.txt\n",
    "ni zoom.txt\n",
    "ni terminator.txt\n",
    "rm Doc.txt"
   ]
  },
  {
   "cell_type": "code",
   "execution_count": null,
   "metadata": {
    "dotnet_interactive": {
     "language": "pwsh"
    },
    "vscode": {
     "languageId": "dotnet-interactive.pwsh"
    }
   },
   "outputs": [
    {
     "name": "stdout",
     "output_type": "stream",
     "text": [
      "On branch main\r\n",
      "Changes to be committed:\r\n",
      "  (use \"git restore --staged <file>...\" to unstage)\r\n",
      "\trenamed:    Doc.txt -> cell.txt\r\n",
      "\tnew file:   terminator.txt\r\n",
      "\tnew file:   zoom.txt\r\n",
      "\r\n"
     ]
    }
   ],
   "source": [
    "git add -A\n",
    "git status"
   ]
  },
  {
   "cell_type": "markdown",
   "metadata": {},
   "source": [
    "- Let's go ahead and commit the changes"
   ]
  },
  {
   "cell_type": "code",
   "execution_count": null,
   "metadata": {
    "dotnet_interactive": {
     "language": "pwsh"
    },
    "vscode": {
     "languageId": "dotnet-interactive.pwsh"
    }
   },
   "outputs": [
    {
     "name": "stdout",
     "output_type": "stream",
     "text": [
      "[main 1e1cd94] time distortion\r\n",
      " 3 files changed, 0 insertions(+), 0 deletions(-)\r\n",
      " rename Doc.txt => cell.txt (100%)\r\n",
      " create mode 100644 terminator.txt\r\n",
      " create mode 100644 zoom.txt\r\n"
     ]
    }
   ],
   "source": [
    "git commit -m \"time distortion\""
   ]
  },
  {
   "cell_type": "markdown",
   "metadata": {},
   "source": [
    "####  git log\n",
    "- Let's take a look at timeline (branch) with the ```git log``` and ```git log```"
   ]
  },
  {
   "cell_type": "code",
   "execution_count": null,
   "metadata": {
    "dotnet_interactive": {
     "language": "pwsh"
    },
    "vscode": {
     "languageId": "dotnet-interactive.pwsh"
    }
   },
   "outputs": [
    {
     "name": "stdout",
     "output_type": "stream",
     "text": [
      "commit 1e1cd9483761a6546e7184d11e845fb0decf86ad\r\n",
      "Author: nick3point5 <example@example.com>\r\n",
      "Date:   Wed Jun 8 17:54:00 2022 -0500\r\n",
      "\r\n",
      "    time distortion\r\n",
      "\r\n",
      "commit 08c139691d6599d4f21be14cdcc8251e36a2ccb3\r\n",
      "Author: nick3point5 <example@example.com>\r\n",
      "Date:   Wed Jun 8 17:53:43 2022 -0500\r\n",
      "\r\n",
      "    Doc added\r\n",
      "\r\n",
      "commit bdb11a3801a14703e785d06350582f9630d77636\r\n",
      "Author: nick3point5 <example@example.com>\r\n",
      "Date:   Wed Jun 8 17:53:34 2022 -0500\r\n",
      "\r\n",
      "    Marty added\r\n"
     ]
    }
   ],
   "source": [
    "git log"
   ]
  },
  {
   "cell_type": "markdown",
   "metadata": {
    "dotnet_interactive": {
     "language": "pwsh"
    }
   },
   "source": [
    "- That's a little verbose.\n",
    "- I'm using to uses flags on the log command to make it prettier."
   ]
  },
  {
   "cell_type": "code",
   "execution_count": null,
   "metadata": {
    "dotnet_interactive": {
     "language": "pwsh"
    },
    "vscode": {
     "languageId": "dotnet-interactive.pwsh"
    }
   },
   "outputs": [
    {
     "name": "stdout",
     "output_type": "stream",
     "text": [
      "* 1e1cd94 2022-06-08 | time distortion (HEAD -> main) [nick3point5]\r\n",
      "* 08c1396 2022-06-08 | Doc added (tag: Doc-is-alive) [nick3point5]\r\n",
      "* bdb11a3 2022-06-08 | Marty added (tag: origin-story) [nick3point5]\r\n"
     ]
    }
   ],
   "source": [
    "git log --pretty=format:'%h %ad | %s%d [%an]' --graph --date=short \n"
   ]
  },
  {
   "cell_type": "markdown",
   "metadata": {},
   "source": [
    "####  git aliases\n",
    "- Most people would think typing that all out is hard to remember and annoying.\n",
    "- So let's learn how to make aliases in git.\n",
    "- This is how to make previous command into ```hist```"
   ]
  },
  {
   "cell_type": "code",
   "execution_count": null,
   "metadata": {
    "dotnet_interactive": {
     "language": "pwsh"
    },
    "vscode": {
     "languageId": "dotnet-interactive.pwsh"
    }
   },
   "outputs": [],
   "source": [
    "git config --global alias.hist \"log --pretty=format:'%h %ad | %s%d [%an]' --graph --date=short\""
   ]
  },
  {
   "cell_type": "code",
   "execution_count": null,
   "metadata": {
    "dotnet_interactive": {
     "language": "pwsh"
    },
    "vscode": {
     "languageId": "dotnet-interactive.pwsh"
    }
   },
   "outputs": [
    {
     "name": "stdout",
     "output_type": "stream",
     "text": [
      "* 1e1cd94 2022-06-08 | time distortion (HEAD -> main) [nick3point5]\r\n",
      "* 08c1396 2022-06-08 | Doc added (tag: Doc-is-alive) [nick3point5]\r\n",
      "* bdb11a3 2022-06-08 | Marty added (tag: origin-story) [nick3point5]\r\n"
     ]
    }
   ],
   "source": [
    "git hist"
   ]
  },
  {
   "cell_type": "markdown",
   "metadata": {},
   "source": [
    "####  git checkout\n",
    "- Now that we can see our timeline, we can travel to any of previous commits with the ```checkout``` command.\n",
    "- Let's go back to when Marty was added with the those random numbers and letters (hash) or the tag."
   ]
  },
  {
   "cell_type": "code",
   "execution_count": null,
   "metadata": {
    "dotnet_interactive": {
     "language": "pwsh"
    },
    "vscode": {
     "languageId": "dotnet-interactive.pwsh"
    }
   },
   "outputs": [
    {
     "name": "stdout",
     "output_type": "stream",
     "text": [
      "Note: switching to 'origin-story'.\r\n",
      "\r\n",
      "You are in 'detached HEAD' state. You can look around, make experimental\r\n",
      "changes and commit them, and you can discard any commits you make in this\r\n",
      "state without impacting any branches by switching back to a branch.\r\n",
      "\r\n",
      "If you want to create a new branch to retain commits you create, you may\r\n",
      "do so (now or later) by using -c with the switch command. Example:\r\n",
      "\r\n",
      "  git switch -c <new-branch-name>\r\n",
      "\r\n",
      "Or undo this operation with:\r\n",
      "\r\n",
      "  git switch -\r\n",
      "\r\n",
      "Turn off this advice by setting config variable advice.detachedHead to false\r\n",
      "\r\n",
      "HEAD is now at bdb11a3 Marty added\r\n"
     ]
    }
   ],
   "source": [
    "git checkout origin-story "
   ]
  },
  {
   "cell_type": "code",
   "execution_count": null,
   "metadata": {
    "dotnet_interactive": {
     "language": "pwsh"
    },
    "vscode": {
     "languageId": "dotnet-interactive.pwsh"
    }
   },
   "outputs": [
    {
     "name": "stdout",
     "output_type": "stream",
     "text": [
      "\r\n",
      "    Directory: C:\\Users\\ktt44\\Documents\\code\\teaching\\mern\\1-basics\\2-git\\example\r\n",
      "\r\n",
      "\u001b[32;1mMode                 LastWriteTime         Length Name\u001b[0m\r\n",
      "\u001b[32;1m----                 -------------         ------ ----\u001b[0m\r\n",
      "-a---            6/8/2022  5:53 PM              0 Marty.txt\r\n",
      "\r\n"
     ]
    }
   ],
   "source": [
    "ls"
   ]
  },
  {
   "cell_type": "markdown",
   "metadata": {},
   "source": [
    "- Let's make some changes and try to commit them here.\n"
   ]
  },
  {
   "cell_type": "code",
   "execution_count": null,
   "metadata": {
    "dotnet_interactive": {
     "language": "pwsh"
    },
    "vscode": {
     "languageId": "dotnet-interactive.pwsh"
    }
   },
   "outputs": [
    {
     "name": "stdout",
     "output_type": "stream",
     "text": [
      "\r\n",
      "    Directory: C:\\Users\\ktt44\\Documents\\code\\teaching\\mern\\1-basics\\2-git\\example\r\n",
      "\r\n",
      "\u001b[32;1mMode                 LastWriteTime         Length Name\u001b[0m\r\n",
      "\u001b[32;1m----                 -------------         ------ ----\u001b[0m\r\n",
      "-a---            6/8/2022  5:54 PM              0 booster-gold.txt\r\n",
      "-a---            6/8/2022  5:54 PM              0 future-trunks.txt\r\n",
      "-a---            6/8/2022  5:54 PM              0 rip-van-wrinkle.txt\r\n",
      "[detached HEAD c037fd4] found some help\r\n",
      " 3 files changed, 0 insertions(+), 0 deletions(-)\r\n",
      " create mode 100644 booster-gold.txt\r\n",
      " create mode 100644 future-trunks.txt\r\n",
      " create mode 100644 rip-van-wrinkle.txt\r\n",
      "\r\n"
     ]
    }
   ],
   "source": [
    "ni booster-gold.txt\n",
    "ni future-trunks.txt\n",
    "ni rip-van-wrinkle.txt\n",
    "git add -A \n",
    "git commit -m \"found some help\""
   ]
  },
  {
   "cell_type": "markdown",
   "metadata": {},
   "source": [
    "- Let's take a look at the log"
   ]
  },
  {
   "cell_type": "code",
   "execution_count": null,
   "metadata": {
    "dotnet_interactive": {
     "language": "pwsh"
    },
    "vscode": {
     "languageId": "dotnet-interactive.pwsh"
    }
   },
   "outputs": [
    {
     "name": "stdout",
     "output_type": "stream",
     "text": [
      "* c037fd4 2022-06-08 | found some help (HEAD) [nick3point5]\r\n",
      "* bdb11a3 2022-06-08 | Marty added (tag: origin-story) [nick3point5]\r\n"
     ]
    }
   ],
   "source": [
    "git hist"
   ]
  },
  {
   "cell_type": "markdown",
   "metadata": {},
   "source": [
    "- Notice that there is only one timeline even though we create two by splitting it. \n",
    "- By default log only show one timeline.\n",
    "- We can add the --all flag to see all timelines."
   ]
  },
  {
   "cell_type": "code",
   "execution_count": null,
   "metadata": {
    "dotnet_interactive": {
     "language": "pwsh"
    },
    "vscode": {
     "languageId": "dotnet-interactive.pwsh"
    }
   },
   "outputs": [
    {
     "name": "stdout",
     "output_type": "stream",
     "text": [
      "* c037fd4 2022-06-08 | found some help (HEAD) [nick3point5]\r\n",
      "| * 1e1cd94 2022-06-08 | time distortion (main) [nick3point5]\r\n",
      "| * 08c1396 2022-06-08 | Doc added (tag: Doc-is-alive) [nick3point5]\r\n",
      "|/  \r\n",
      "* bdb11a3 2022-06-08 | Marty added (tag: origin-story) [nick3point5]\r\n"
     ]
    }
   ],
   "source": [
    "git hist --all"
   ]
  },
  {
   "cell_type": "markdown",
   "metadata": {},
   "source": [
    "#### git reset\n",
    "- It's bad practice to make a commit in the past timeline. \n",
    "- So let's reset this line using the ```git reset --hard```\n",
    "- This undoes to the last or specified commit.\n",
    "- Be careful as this will cut us out of the future commits and we can't view it. We can only go back if we have the hash.\n",
    "###### *git reset without the hard flag just un-adds stuff"
   ]
  },
  {
   "cell_type": "code",
   "execution_count": null,
   "metadata": {
    "dotnet_interactive": {
     "language": "pwsh"
    },
    "vscode": {
     "languageId": "dotnet-interactive.pwsh"
    }
   },
   "outputs": [
    {
     "name": "stdout",
     "output_type": "stream",
     "text": [
      "HEAD is now at bdb11a3 Marty added\r\n"
     ]
    }
   ],
   "source": [
    "git reset --hard origin-story"
   ]
  },
  {
   "cell_type": "markdown",
   "metadata": {},
   "source": [
    "#### git branch\n",
    "- Now what should we be doing is creating a branch.\n",
    "- Branches make organizing and managing split timelines much easier.\n",
    "- When you are making changes in the past or don't want to accidentally break the main branch create a new branch.\n",
    "- We can create a branch by ```git branch (name)```\n",
    "- We can view branches by just ```git branch```"
   ]
  },
  {
   "cell_type": "code",
   "execution_count": null,
   "metadata": {
    "dotnet_interactive": {
     "language": "pwsh"
    },
    "vscode": {
     "languageId": "dotnet-interactive.pwsh"
    }
   },
   "outputs": [
    {
     "name": "stdout",
     "output_type": "stream",
     "text": [
      "* (HEAD detached at origin-story)\r\n",
      "  main\r\n",
      "  time-squad\r\n"
     ]
    }
   ],
   "source": [
    "git branch time-squad\n",
    "git branch"
   ]
  },
  {
   "cell_type": "markdown",
   "metadata": {},
   "source": [
    "- To go to that branch we just the ```git checkout``` again"
   ]
  },
  {
   "cell_type": "code",
   "execution_count": null,
   "metadata": {
    "dotnet_interactive": {
     "language": "pwsh"
    },
    "vscode": {
     "languageId": "dotnet-interactive.pwsh"
    }
   },
   "outputs": [
    {
     "name": "stdout",
     "output_type": "stream",
     "text": [
      "Switched to branch 'time-squad'\r\n",
      "On branch time-squad\r\n",
      "nothing to commit, working tree clean\r\n"
     ]
    }
   ],
   "source": [
    "git checkout time-squad\n",
    "git status"
   ]
  },
  {
   "cell_type": "markdown",
   "metadata": {},
   "source": [
    "- Notice that the git status now tells that we are on a different branch.\n",
    "- Let's make changes on this branch."
   ]
  },
  {
   "cell_type": "code",
   "execution_count": null,
   "metadata": {
    "dotnet_interactive": {
     "language": "pwsh"
    },
    "vscode": {
     "languageId": "dotnet-interactive.pwsh"
    }
   },
   "outputs": [
    {
     "name": "stdout",
     "output_type": "stream",
     "text": [
      "\r\n",
      "    Directory: C:\\Users\\ktt44\\Documents\\code\\teaching\\mern\\1-basics\\2-git\\example\r\n",
      "\r\n",
      "\u001b[32;1mMode                 LastWriteTime         Length Name\u001b[0m\r\n",
      "\u001b[32;1m----                 -------------         ------ ----\u001b[0m\r\n",
      "-a---            6/8/2022  5:54 PM              0 booster-gold.txt\r\n",
      "-a---            6/8/2022  5:54 PM              0 future-trunks.txt\r\n",
      "-a---            6/8/2022  5:54 PM              0 rip-van-wrinkle.txt\r\n",
      "[time-squad 9db3f5c] Formed the time squad\r\n",
      " 3 files changed, 0 insertions(+), 0 deletions(-)\r\n",
      " create mode 100644 booster-gold.txt\r\n",
      " create mode 100644 future-trunks.txt\r\n",
      " create mode 100644 rip-van-wrinkle.txt\r\n",
      "\r\n"
     ]
    }
   ],
   "source": [
    "ni booster-gold.txt\n",
    "ni future-trunks.txt\n",
    "ni rip-van-wrinkle.txt\n",
    "git add -A \n",
    "git commit -m \"Formed the time squad\""
   ]
  },
  {
   "cell_type": "code",
   "execution_count": null,
   "metadata": {
    "dotnet_interactive": {
     "language": "pwsh"
    },
    "vscode": {
     "languageId": "dotnet-interactive.pwsh"
    }
   },
   "outputs": [
    {
     "name": "stdout",
     "output_type": "stream",
     "text": [
      "* 9db3f5c 2022-06-08 | Formed the time squad (HEAD -> time-squad) [nick3point5]\r\n",
      "| * 1e1cd94 2022-06-08 | time distortion (main) [nick3point5]\r\n",
      "| * 08c1396 2022-06-08 | Doc added (tag: Doc-is-alive) [nick3point5]\r\n",
      "|/  \r\n",
      "* bdb11a3 2022-06-08 | Marty added (tag: origin-story) [nick3point5]\r\n"
     ]
    }
   ],
   "source": [
    "git hist --all"
   ]
  },
  {
   "cell_type": "markdown",
   "metadata": {},
   "source": [
    "#### git merge\n",
    "- Now that we are done assembling the squad let's merge the branches together.\n",
    "- We can do this with the ```git merge``` command.\n",
    "- This will pull another branch into the current working one. This will collapse the branch you are merging in.\n",
    "- Let's go to the main branch and merge the time-squad into it."
   ]
  },
  {
   "cell_type": "code",
   "execution_count": null,
   "metadata": {
    "dotnet_interactive": {
     "language": "pwsh"
    },
    "vscode": {
     "languageId": "dotnet-interactive.pwsh"
    }
   },
   "outputs": [
    {
     "name": "stdout",
     "output_type": "stream",
     "text": [
      "Switched to branch 'main'\r\n",
      "Merge made by the 'ort' strategy.\r\n",
      " booster-gold.txt    | 0\r\n",
      " future-trunks.txt   | 0\r\n",
      " rip-van-wrinkle.txt | 0\r\n",
      " 3 files changed, 0 insertions(+), 0 deletions(-)\r\n",
      " create mode 100644 booster-gold.txt\r\n",
      " create mode 100644 future-trunks.txt\r\n",
      " create mode 100644 rip-van-wrinkle.txt\r\n"
     ]
    }
   ],
   "source": [
    "git checkout main\n",
    "git merge time-squad"
   ]
  },
  {
   "cell_type": "code",
   "execution_count": null,
   "metadata": {
    "dotnet_interactive": {
     "language": "pwsh"
    },
    "vscode": {
     "languageId": "dotnet-interactive.pwsh"
    }
   },
   "outputs": [
    {
     "name": "stdout",
     "output_type": "stream",
     "text": [
      "*   3192634 2022-06-08 | Merge branch 'time-squad' (HEAD -> main) [nick3point5]\r\n",
      "|\\  \r\n",
      "| * 9db3f5c 2022-06-08 | Formed the time squad (time-squad) [nick3point5]\r\n",
      "* | 1e1cd94 2022-06-08 | time distortion [nick3point5]\r\n",
      "* | 08c1396 2022-06-08 | Doc added (tag: Doc-is-alive) [nick3point5]\r\n",
      "|/  \r\n",
      "* bdb11a3 2022-06-08 | Marty added (tag: origin-story) [nick3point5]\r\n"
     ]
    }
   ],
   "source": [
    "git hist --all"
   ]
  },
  {
   "cell_type": "markdown",
   "metadata": {},
   "source": [
    "- Let's make some changes and make a commit."
   ]
  },
  {
   "cell_type": "code",
   "execution_count": null,
   "metadata": {
    "dotnet_interactive": {
     "language": "pwsh"
    },
    "vscode": {
     "languageId": "dotnet-interactive.pwsh"
    }
   },
   "outputs": [
    {
     "name": "stdout",
     "output_type": "stream",
     "text": [
      "[main 0390c80] time-squad wins\r\n",
      " 5 files changed, 2 insertions(+)\r\n",
      " delete mode 100644 cell.txt\r\n",
      " delete mode 100644 rip-van-wrinkle.txt\r\n",
      " delete mode 100644 terminator.txt\r\n",
      " delete mode 100644 zoom.txt\r\n"
     ]
    }
   ],
   "source": [
    "rm rip-van-wrinkle.txt, terminator.txt, cell.txt, zoom.txt\n",
    "echo \"We did it doc.\" > Marty.txt\n",
    "echo \"Your future is whatever you make it, so make it a good one.\" >> .\\Marty.txt\n",
    "git add -A \n",
    "git commit -m \"time-squad wins\""
   ]
  },
  {
   "cell_type": "markdown",
   "metadata": {},
   "source": [
    "- Take note that we just changed Marty.txt\n",
    "- Let's check out a new branch.\n",
    "- We can do this with one command using the ```-b``` flag on the checkout command."
   ]
  },
  {
   "cell_type": "code",
   "execution_count": null,
   "metadata": {
    "dotnet_interactive": {
     "language": "pwsh"
    },
    "vscode": {
     "languageId": "dotnet-interactive.pwsh"
    }
   },
   "outputs": [
    {
     "name": "stdout",
     "output_type": "stream",
     "text": [
      "Switched to a new branch 'dark-timeline'\r\n"
     ]
    }
   ],
   "source": [
    "git checkout Doc-is-alive -b dark-timeline"
   ]
  },
  {
   "cell_type": "code",
   "execution_count": null,
   "metadata": {
    "dotnet_interactive": {
     "language": "pwsh"
    },
    "vscode": {
     "languageId": "dotnet-interactive.pwsh"
    }
   },
   "outputs": [
    {
     "name": "stdout",
     "output_type": "stream",
     "text": [
      "[dark-timeline 1575af0] dark Marty\r\n",
      " 2 files changed, 2 insertions(+)\r\n",
      " delete mode 100644 Doc.txt\r\n"
     ]
    }
   ],
   "source": [
    "rm Doc.txt\n",
    "echo \"I'm evil now\" > .\\Marty.txt\n",
    "echo \"Your future is whatever you make it, so make it a good one.\" >> .\\Marty.txt\n",
    "git add -A \n",
    "git commit -m \"dark Marty\""
   ]
  },
  {
   "cell_type": "markdown",
   "metadata": {},
   "source": [
    "#### merge conflict \n",
    "- Marty.txt in this timeline has changed too.\n",
    "- If we merge there will be a conflict because both Marty.txt changed.\n",
    "- More specifically the the same lines of code that are different."
   ]
  },
  {
   "cell_type": "code",
   "execution_count": null,
   "metadata": {
    "dotnet_interactive": {
     "language": "pwsh"
    },
    "vscode": {
     "languageId": "dotnet-interactive.pwsh"
    }
   },
   "outputs": [
    {
     "name": "stdout",
     "output_type": "stream",
     "text": [
      "Switched to branch 'main'\r\n",
      "Auto-merging Marty.txt\r\n",
      "CONFLICT (content): Merge conflict in Marty.txt\r\n",
      "Automatic merge failed; fix conflicts and then commit the result.\r\n"
     ]
    }
   ],
   "source": [
    "git checkout main\n",
    "git merge dark-timeline"
   ]
  },
  {
   "cell_type": "markdown",
   "metadata": {},
   "source": [
    "- When there is a merge conflict we can't add, commit, or checkout until it's resolved.\n",
    "- We can show the conflicts with the ```git diff``` command."
   ]
  },
  {
   "cell_type": "code",
   "execution_count": null,
   "metadata": {
    "dotnet_interactive": {
     "language": "pwsh"
    },
    "vscode": {
     "languageId": "dotnet-interactive.pwsh"
    }
   },
   "outputs": [
    {
     "name": "stdout",
     "output_type": "stream",
     "text": [
      "diff --cc Marty.txt\r\n",
      "index 158257a,cf71501..0000000\r\n",
      "--- a/Marty.txt\r\n",
      "+++ b/Marty.txt\r\n",
      "@@@ -1,2 -1,2 +1,6 @@@\r\n",
      "++<<<<<<< HEAD\r\n",
      " +We did it doc.\r\n",
      "++=======\r\n",
      "+ I'm evil now\r\n",
      "++>>>>>>> dark-timeline\r\n",
      "  Your future is whatever you make it, so make it a good one.\r\n"
     ]
    }
   ],
   "source": [
    "git diff"
   ]
  },
  {
   "cell_type": "markdown",
   "metadata": {
    "dotnet_interactive": {
     "language": "pwsh"
    },
    "vscode": {
     "languageId": "dotnet-interactive.pwsh"
    }
   },
   "source": [
    "- For now let's just manually pick which one to keep."
   ]
  },
  {
   "cell_type": "code",
   "execution_count": null,
   "metadata": {
    "dotnet_interactive": {
     "language": "pwsh"
    },
    "vscode": {
     "languageId": "dotnet-interactive.pwsh"
    }
   },
   "outputs": [],
   "source": [
    "echo \"I'm evil now\" > .\\Marty.txt\n",
    "echo \"Your future is whatever you make it, so make it a good one.\" >> .\\Marty.txt"
   ]
  },
  {
   "cell_type": "code",
   "execution_count": null,
   "metadata": {
    "dotnet_interactive": {
     "language": "pwsh"
    },
    "vscode": {
     "languageId": "dotnet-interactive.pwsh"
    }
   },
   "outputs": [
    {
     "name": "stdout",
     "output_type": "stream",
     "text": [
      "[main e9c51a5] doomsday\r\n"
     ]
    }
   ],
   "source": [
    "git add -A \n",
    "git commit -m \"doomsday\""
   ]
  },
  {
   "cell_type": "markdown",
   "metadata": {},
   "source": [
    "## GitHub\n",
    "- GitHub is a free cloud service that can be use to manage and share git repos over the internet.\n",
    "- We need to have a GitHub account to continue.\n",
    "- We will be using GitHub cli to interact with GitHub."
   ]
  },
  {
   "cell_type": "markdown",
   "metadata": {},
   "source": [
    "#### Logging in\n",
    "- To log into GitHub CLI run the ```gh auth login``` command."
   ]
  },
  {
   "cell_type": "code",
   "execution_count": null,
   "metadata": {
    "dotnet_interactive": {
     "language": "pwsh"
    },
    "vscode": {
     "languageId": "dotnet-interactive.pwsh"
    }
   },
   "outputs": [],
   "source": [
    "gh auth login"
   ]
  },
  {
   "cell_type": "markdown",
   "metadata": {},
   "source": [
    "#### Creating a GitHub repo\n",
    "- Let's create a repo in GitHub with the ```gh repo create``` command.\n",
    "- We can specify if our repo is private or public and --private or --public flags"
   ]
  },
  {
   "cell_type": "code",
   "execution_count": null,
   "metadata": {
    "dotnet_interactive": {
     "language": "pwsh"
    },
    "vscode": {
     "languageId": "dotnet-interactive.pwsh"
    }
   },
   "outputs": [
    {
     "name": "stdout",
     "output_type": "stream",
     "text": [
      "https://github.com/nick3point5/meaningless-struggle\r\n"
     ]
    }
   ],
   "source": [
    "gh repo create meaningless-struggle --private"
   ]
  },
  {
   "cell_type": "markdown",
   "metadata": {},
   "source": [
    "#### Viewing a GitHub repo\n",
    "- We can view a repo in our GitHub with the ```gh repo view``` command.\n",
    "- If we add the -w (web) flag it will take us to the web page in GitHub"
   ]
  },
  {
   "cell_type": "code",
   "execution_count": null,
   "metadata": {
    "dotnet_interactive": {
     "language": "pwsh"
    },
    "vscode": {
     "languageId": "dotnet-interactive.pwsh"
    }
   },
   "outputs": [],
   "source": [
    "gh repo view meaningless-struggle -w"
   ]
  },
  {
   "cell_type": "markdown",
   "metadata": {},
   "source": [
    "#### Connecting to GitHub\n",
    "- We can link this local repo with the cloud repo with just made through the ```git remote``` command.\n",
    "- The standard naming convention of a the first repo is **origin**"
   ]
  },
  {
   "cell_type": "code",
   "execution_count": null,
   "metadata": {
    "dotnet_interactive": {
     "language": "pwsh"
    },
    "vscode": {
     "languageId": "dotnet-interactive.pwsh"
    }
   },
   "outputs": [],
   "source": [
    "git remote add origin https://github.com/nick3point5/meaningless-struggle"
   ]
  },
  {
   "cell_type": "markdown",
   "metadata": {},
   "source": [
    "#### Pushing to GitHub\n",
    "- We can send a branch to the cloud repo using ```git push origin```\n",
    "- The -u flag set a remote to the default, so next time we can just use ```git push```\n",
    "- Let's send the main branch"
   ]
  },
  {
   "cell_type": "code",
   "execution_count": null,
   "metadata": {
    "dotnet_interactive": {
     "language": "pwsh"
    },
    "vscode": {
     "languageId": "dotnet-interactive.pwsh"
    }
   },
   "outputs": [
    {
     "name": "stdout",
     "output_type": "stream",
     "text": [
      "To https://github.com/nick3point5/meaningless-struggle\r\n",
      "branch 'main' set up to track 'origin/main'.\r\n",
      " * [new branch]      main -> main\r\n"
     ]
    }
   ],
   "source": [
    "git push -u origin main"
   ]
  },
  {
   "cell_type": "markdown",
   "metadata": {},
   "source": [
    "- Let's make some changes, commit them, and push them up"
   ]
  },
  {
   "cell_type": "code",
   "execution_count": null,
   "metadata": {
    "dotnet_interactive": {
     "language": "pwsh"
    },
    "vscode": {
     "languageId": "dotnet-interactive.pwsh"
    }
   },
   "outputs": [
    {
     "name": "stdout",
     "output_type": "stream",
     "text": [
      "[main bfb5f37] the darkest of timelines\r\n",
      " 3 files changed, 0 insertions(+), 0 deletions(-)\r\n",
      " rename Marty.txt => Emperor-Marty.txt (100%)\r\n",
      " delete mode 100644 booster-gold.txt\r\n",
      " delete mode 100644 future-trunks.txt\r\n",
      "To https://github.com/nick3point5/meaningless-struggle\r\n",
      "   e9c51a5..bfb5f37  main -> main\r\n"
     ]
    }
   ],
   "source": [
    "rm .\\booster-gold.txt, .\\future-trunks.txt\n",
    "mv .\\Marty.txt .\\Emperor-Marty.txt\n",
    "git add -A \n",
    "git commit -m \"the darkest of timelines\"\n",
    "git push"
   ]
  },
  {
   "cell_type": "markdown",
   "metadata": {},
   "source": [
    "#### Pulling from GitHub\n",
    "- Let's revert to a previous commit"
   ]
  },
  {
   "cell_type": "code",
   "execution_count": null,
   "metadata": {
    "dotnet_interactive": {
     "language": "pwsh"
    },
    "vscode": {
     "languageId": "dotnet-interactive.pwsh"
    }
   },
   "outputs": [
    {
     "name": "stdout",
     "output_type": "stream",
     "text": [
      "HEAD is now at bdb11a3 Marty added\r\n",
      "On branch main\r\n",
      "Your branch is behind 'origin/main' by 8 commits, and can be fast-forwarded.\r\n",
      "  (use \"git pull\" to update your local branch)\r\n",
      "\r\n",
      "nothing to commit, working tree clean\r\n"
     ]
    }
   ],
   "source": [
    "git reset --hard origin-story\n",
    "git status"
   ]
  },
  {
   "cell_type": "markdown",
   "metadata": {},
   "source": [
    "- We can see that now that this repo is connected to GitHub the status tells us that our local branch is behind the GitHub.\n",
    "- To try to sync back to the GitHub, we run a command ```git pull```."
   ]
  },
  {
   "cell_type": "code",
   "execution_count": null,
   "metadata": {
    "dotnet_interactive": {
     "language": "pwsh"
    },
    "vscode": {
     "languageId": "dotnet-interactive.pwsh"
    }
   },
   "outputs": [
    {
     "name": "stdout",
     "output_type": "stream",
     "text": [
      "Updating bdb11a3..bfb5f37\r\n",
      "Fast-forward\r\n",
      " Emperor-Marty.txt | 2 ++\r\n",
      " Marty.txt         | 0\r\n",
      " 2 files changed, 2 insertions(+)\r\n",
      " create mode 100644 Emperor-Marty.txt\r\n",
      " delete mode 100644 Marty.txt\r\n"
     ]
    }
   ],
   "source": [
    "git pull"
   ]
  },
  {
   "cell_type": "markdown",
   "metadata": {},
   "source": [
    "#### Clone from GitHub\n",
    "- We can clone any repos on GitHub with the ```git clone ``` command.\n",
    "- Let's remove this example and directory and clone down the one from GitHub"
   ]
  },
  {
   "cell_type": "code",
   "execution_count": null,
   "metadata": {
    "dotnet_interactive": {
     "language": "pwsh"
    },
    "vscode": {
     "languageId": "dotnet-interactive.pwsh"
    }
   },
   "outputs": [],
   "source": [
    "cd ..\n",
    "rm example -Recurse -Force -Confirm:$false"
   ]
  },
  {
   "cell_type": "code",
   "execution_count": null,
   "metadata": {
    "dotnet_interactive": {
     "language": "pwsh"
    },
    "vscode": {
     "languageId": "dotnet-interactive.pwsh"
    }
   },
   "outputs": [
    {
     "name": "stdout",
     "output_type": "stream",
     "text": [
      "Cloning into 'meaningless-struggle'...\r\n"
     ]
    }
   ],
   "source": [
    "git clone https://github.com/nick3point5/meaningless-struggle"
   ]
  },
  {
   "cell_type": "markdown",
   "metadata": {},
   "source": [
    "## Extra tips and tricks\n",
    "---"
   ]
  },
  {
   "cell_type": "markdown",
   "metadata": {},
   "source": [
    "- You can create a new GitHub repo and connect it in one go."
   ]
  },
  {
   "cell_type": "code",
   "execution_count": null,
   "metadata": {
    "dotnet_interactive": {
     "language": "pwsh"
    },
    "vscode": {
     "languageId": "dotnet-interactive.pwsh"
    }
   },
   "outputs": [],
   "source": [
    "gh repo create meaningless-struggle --private --source=. --remote=origin --push"
   ]
  },
  {
   "cell_type": "markdown",
   "metadata": {},
   "source": [
    "- Git only tracks files so if your directories are empty they cannot be tracked"
   ]
  },
  {
   "cell_type": "markdown",
   "metadata": {
    "dotnet_interactive": {
     "language": "pwsh"
    }
   },
   "source": [
    "- If you hit the period (.) key on a GitHub repo, it will open a vscode editor. You can make light edits and commits online."
   ]
  },
  {
   "cell_type": "markdown",
   "metadata": {},
   "source": [
    "- You can change a commit message before pushing with the amend command"
   ]
  },
  {
   "cell_type": "code",
   "execution_count": null,
   "metadata": {
    "dotnet_interactive": {
     "language": "pwsh"
    },
    "vscode": {
     "languageId": "dotnet-interactive.pwsh"
    }
   },
   "outputs": [],
   "source": [
    "git commit --amend -m \"darkest-er timeline\""
   ]
  },
  {
   "cell_type": "markdown",
   "metadata": {
    "dotnet_interactive": {
     "language": "pwsh"
    },
    "vscode": {
     "languageId": "dotnet-interactive.pwsh"
    }
   },
   "source": [
    "- You can add all and commit in one command"
   ]
  },
  {
   "cell_type": "code",
   "execution_count": null,
   "metadata": {
    "dotnet_interactive": {
     "language": "pwsh"
    },
    "vscode": {
     "languageId": "dotnet-interactive.pwsh"
    }
   },
   "outputs": [],
   "source": [
    "git commit -am \"darker-est-er"
   ]
  },
  {
   "cell_type": "markdown",
   "metadata": {},
   "source": [
    "- You can save your work without committing using stash\n",
    "- Using stash pop with bring it back\n",
    "###### *this should be only be used or temporary work this is not save to GitHub and could be removed"
   ]
  },
  {
   "cell_type": "code",
   "execution_count": null,
   "metadata": {
    "dotnet_interactive": {
     "language": "pwsh"
    },
    "vscode": {
     "languageId": "dotnet-interactive.pwsh"
    }
   },
   "outputs": [],
   "source": [
    "git stash\n",
    "git stash pop"
   ]
  },
  {
   "cell_type": "markdown",
   "metadata": {},
   "source": [
    "- You can swap to your previous branch without write out it's name."
   ]
  },
  {
   "cell_type": "code",
   "execution_count": null,
   "metadata": {
    "dotnet_interactive": {
     "language": "pwsh"
    },
    "vscode": {
     "languageId": "dotnet-interactive.pwsh"
    }
   },
   "outputs": [],
   "source": [
    "git checkout -"
   ]
  },
  {
   "cell_type": "markdown",
   "metadata": {},
   "source": [
    "## References\n",
    "---\n",
    "This was an brief overview of some of the basic things you can do with the terminal. Check out these resources for more.\n",
    "- [official git manual](https://git-scm.com/docs)\n",
    "- [official GitHub CLI manual](https://cli.github.com/manual/)\n"
   ]
  }
 ],
 "metadata": {
  "kernelspec": {
   "display_name": ".NET (PowerShell)",
   "language": "PowerShell",
   "name": ".net-powershell"
  },
  "language_info": {
   "name": "PowerShell"
  },
  "orig_nbformat": 4
 },
 "nbformat": 4,
 "nbformat_minor": 2
}
