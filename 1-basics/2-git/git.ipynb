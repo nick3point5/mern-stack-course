{
 "cells": [
  {
   "cell_type": "markdown",
   "metadata": {},
   "source": [
    "# Git & GitHub basics\n",
    "[![Binder](https://mybinder.org/badge_logo.svg)](https://mybinder.org/v2/gh/nick3point5/mern-stack-course/HEAD?labpath=%2F1-basics%2F2-git%2Fgit.ipynb)\n",
    "---"
   ]
  },
  {
   "cell_type": "markdown",
   "metadata": {},
   "source": [
    "## Intro\n",
    "Git is an essential tool everyone should know. Git is what is known as version control software. Basically, it's a time machine for our files and directories. This will make more sense as we use it. We might have already used things to control a single file version can like undo changes to a file. Git takes this concept to another level, managing entire projects. And GitHub moves it to the cloud for multiple computers. In this lesson we will learn:\n",
    "#### Git\n",
    "- Setting up a local git\n",
    "- git status\n",
    "- Staging/adding changes\n",
    "- Committing changes\n",
    "- Logging commits\n",
    "- Checking out commits\n",
    "- Reset commits\n",
    "- Creating branches\n",
    "- Merging branches\n",
    "- Resolving conflicts\n",
    "#### GitHub\n",
    "- Creating GitHub repositories\n",
    "- Connecting to GitHub\n",
    "- Pushing to GitHub\n",
    "- Gitignore file\n",
    "- Pulling from GitHub\n",
    "- Pull requests\n",
    "- Cloning from GitHub\n",
    "---\n"
   ]
  },
  {
   "cell_type": "markdown",
   "metadata": {},
   "source": [
    "## Git\n",
    "<a name=\"Setup\"></a>\n",
    "#### Setup\n",
    "* When we finished the last lesson, we should have installed git and GitHub CLI already. If you haven't, here is the [tl:dr](./tldr.md).\n",
    "- Now, we just need to run some terminal commands to get setup a modern git."
   ]
  },
  {
   "cell_type": "code",
   "execution_count": null,
   "metadata": {
    "dotnet_interactive": {
     "language": "pwsh"
    },
    "vscode": {
     "languageId": "dotnet-interactive.pwsh"
    }
   },
   "outputs": [],
   "source": [
    "git config --global user.name \"nick3point5\"\n",
    "git config --global user.email \"example@example.com\"\n",
    "git config --global init.defaultBranch main\n",
    "git config --global core.autocrlf false\n",
    "git config --global core.safecrlf true"
   ]
  },
  {
   "cell_type": "markdown",
   "metadata": {},
   "source": [
    "- We just register our username and email in our local git settings\n",
    "- We changed the default git branch from master to main\n",
    "- We changed the crlf settings to we with other operating systems. (basically, for some reason, the new line (enter key) in Windows is different from UNIX.)"
   ]
  },
  {
   "cell_type": "markdown",
   "metadata": {},
   "source": [
    "#### git init\n",
    "- Let's make a example directory and start a git repository."
   ]
  },
  {
   "cell_type": "code",
   "execution_count": null,
   "metadata": {
    "dotnet_interactive": {
     "language": "pwsh"
    },
    "vscode": {
     "languageId": "dotnet-interactive.pwsh"
    }
   },
   "outputs": [
    {
     "name": "stdout",
     "output_type": "stream",
     "text": [
      "\r\n",
      "    Directory: C:\\code\\teaching\\mern-stack-course\\1-basics\\2-git\r\n",
      "\r\n",
      "\u001b[32;1mMode                 LastWriteTime         Length Name\u001b[0m\r\n",
      "\u001b[32;1m----                 -------------         ------ ----\u001b[0m\r\n",
      "d----            7/1/2022  1:44 AM                time-portal\r\n",
      "Initialized empty Git repository in C:/code/teaching/mern-stack-course/1-basics/2-git/time-portal/.git/\r\n",
      "\r\n"
     ]
    }
   ],
   "source": [
    "md time-portal\n",
    "cd time-portal\n",
    "git init"
   ]
  },
  {
   "cell_type": "markdown",
   "metadata": {},
   "source": [
    "- We now have git repo (repository) which means any file/directory inside can be track by git. We can see a git repo has been created by the hidden .git directory."
   ]
  },
  {
   "cell_type": "code",
   "execution_count": null,
   "metadata": {
    "dotnet_interactive": {
     "language": "pwsh"
    },
    "vscode": {
     "languageId": "dotnet-interactive.pwsh"
    }
   },
   "outputs": [
    {
     "name": "stdout",
     "output_type": "stream",
     "text": [
      "\r\n",
      "    Directory: C:\\code\\teaching\\mern-stack-course\\1-basics\\2-git\\time-portal\r\n",
      "\r\n",
      "\u001b[32;1mMode                 LastWriteTime         Length Name\u001b[0m\r\n",
      "\u001b[32;1m----                 -------------         ------ ----\u001b[0m\r\n",
      "d--h-            7/1/2022  1:44 AM                .git\r\n",
      "\r\n"
     ]
    }
   ],
   "source": [
    "ls -Force"
   ]
  },
  {
   "cell_type": "markdown",
   "metadata": {},
   "source": [
    "#### git status\n",
    "- Now that we have a git repo. We have unlocked git commands in this directory.\n",
    "- The most basic is ```git status```. It will give we an over view of the status of the repo. We will explain more of the details later."
   ]
  },
  {
   "cell_type": "code",
   "execution_count": null,
   "metadata": {
    "dotnet_interactive": {
     "language": "pwsh"
    },
    "vscode": {
     "languageId": "dotnet-interactive.pwsh"
    }
   },
   "outputs": [
    {
     "name": "stdout",
     "output_type": "stream",
     "text": [
      "On branch main\r\n",
      "\r\n",
      "No commits yet\r\n",
      "\r\n",
      "nothing to commit (create/copy files and use \"git add\" to track)\r\n"
     ]
    }
   ],
   "source": [
    "git status"
   ]
  },
  {
   "cell_type": "markdown",
   "metadata": {},
   "source": [
    "- Let's make a new text file."
   ]
  },
  {
   "cell_type": "code",
   "execution_count": null,
   "metadata": {
    "dotnet_interactive": {
     "language": "pwsh"
    },
    "vscode": {
     "languageId": "dotnet-interactive.pwsh"
    }
   },
   "outputs": [
    {
     "name": "stdout",
     "output_type": "stream",
     "text": [
      "\r\n",
      "    Directory: C:\\code\\teaching\\mern-stack-course\\1-basics\\2-git\\time-portal\r\n",
      "\r\n",
      "\u001b[32;1mMode                 LastWriteTime         Length Name\u001b[0m\r\n",
      "\u001b[32;1m----                 -------------         ------ ----\u001b[0m\r\n",
      "-a---            7/1/2022  1:44 AM              0 Marty.txt\r\n",
      "-a---            7/1/2022  1:44 AM              0 Doc.txt\r\n",
      "\r\n"
     ]
    }
   ],
   "source": [
    "ni Marty.txt, Doc.txt"
   ]
  },
  {
   "cell_type": "markdown",
   "metadata": {},
   "source": [
    "- Let's check the status."
   ]
  },
  {
   "cell_type": "code",
   "execution_count": null,
   "metadata": {
    "dotnet_interactive": {
     "language": "pwsh"
    },
    "vscode": {
     "languageId": "dotnet-interactive.pwsh"
    }
   },
   "outputs": [
    {
     "name": "stdout",
     "output_type": "stream",
     "text": [
      "On branch main\r\n",
      "\r\n",
      "No commits yet\r\n",
      "\r\n",
      "Untracked files:\r\n",
      "  (use \"git add <file>...\" to include in what will be committed)\r\n",
      "\tDoc.txt\r\n",
      "\tMarty.txt\r\n",
      "\r\n",
      "nothing added to commit but untracked files present (use \"git add\" to track)\r\n"
     ]
    }
   ],
   "source": [
    "git status"
   ]
  },
  {
   "cell_type": "markdown",
   "metadata": {},
   "source": [
    "#### git add\n",
    "- In untracked files, we can see Marty.txt. \n",
    "- Git sees that the repo has changed, but it's unsure if we want to save this file.\n",
    "- We need to tell git to track (stage) this file, so we can save it to the repo.\n",
    "- We do this with the ```git add``` command."
   ]
  },
  {
   "cell_type": "code",
   "execution_count": null,
   "metadata": {
    "dotnet_interactive": {
     "language": "pwsh"
    },
    "vscode": {
     "languageId": "dotnet-interactive.pwsh"
    }
   },
   "outputs": [
    {
     "name": "stdout",
     "output_type": "stream",
     "text": [
      "On branch main\r\n",
      "\r\n",
      "No commits yet\r\n",
      "\r\n",
      "Changes to be committed:\r\n",
      "  (use \"git rm --cached <file>...\" to unstage)\r\n",
      "\tnew file:   Marty.txt\r\n",
      "\r\n",
      "Untracked files:\r\n",
      "  (use \"git add <file>...\" to include in what will be committed)\r\n",
      "\tDoc.txt\r\n",
      "\r\n"
     ]
    }
   ],
   "source": [
    "git add Marty.txt\n",
    "git status"
   ]
  },
  {
   "cell_type": "markdown",
   "metadata": {},
   "source": [
    "#### git commit\n",
    "- Now that git is tracking the file, it will save changes when we commit.\n",
    "- Committing means taking a snapshot in time for the entire repo.\n",
    "- Every commit must have a message ```Please make it descriptive```.\n",
    "###### *if you don't have a message, git will force you into vim. type ```:q``` to escape"
   ]
  },
  {
   "cell_type": "code",
   "execution_count": null,
   "metadata": {
    "dotnet_interactive": {
     "language": "pwsh"
    },
    "vscode": {
     "languageId": "dotnet-interactive.pwsh"
    }
   },
   "outputs": [
    {
     "name": "stdout",
     "output_type": "stream",
     "text": [
      "[main (root-commit) 4f11152] Marty added\r\n",
      " 1 file changed, 0 insertions(+), 0 deletions(-)\r\n",
      " create mode 100644 Marty.txt\r\n",
      "On branch main\r\n",
      "Untracked files:\r\n",
      "  (use \"git add <file>...\" to include in what will be committed)\r\n",
      "\tDoc.txt\r\n",
      "\r\n",
      "nothing added to commit but untracked files present (use \"git add\" to track)\r\n"
     ]
    }
   ],
   "source": [
    "git commit -m \"Marty added\"\n",
    "git status "
   ]
  },
  {
   "cell_type": "markdown",
   "metadata": {},
   "source": [
    "#### git tag\n",
    "- We can add tags to commits, so it's easier to find later with the ```git tag``` command."
   ]
  },
  {
   "cell_type": "code",
   "execution_count": null,
   "metadata": {
    "dotnet_interactive": {
     "language": "pwsh"
    },
    "vscode": {
     "languageId": "dotnet-interactive.pwsh"
    }
   },
   "outputs": [],
   "source": [
    "git tag origin-story"
   ]
  },
  {
   "cell_type": "markdown",
   "metadata": {},
   "source": [
    "- Notice that Doc.txt hasn't been committed because we didn't tell git to save him.\n",
    "- Let's add him now."
   ]
  },
  {
   "cell_type": "code",
   "execution_count": null,
   "metadata": {
    "dotnet_interactive": {
     "language": "pwsh"
    },
    "vscode": {
     "languageId": "dotnet-interactive.pwsh"
    }
   },
   "outputs": [
    {
     "name": "stdout",
     "output_type": "stream",
     "text": [
      "[main b3a9eee] Doc added\r\n",
      " 1 file changed, 0 insertions(+), 0 deletions(-)\r\n",
      " create mode 100644 Doc.txt\r\n",
      "On branch main\r\n",
      "nothing to commit, working tree clean\r\n"
     ]
    }
   ],
   "source": [
    "git add .\\Doc.txt\n",
    "git commit -m \"Doc added\"\n",
    "git tag Doc-is-alive\n",
    "git status "
   ]
  },
  {
   "cell_type": "markdown",
   "metadata": {},
   "source": [
    "####  git add all changes\n",
    "- We can add all changed files by adding an ```-A``` flag to the git add command\n",
    "- Let's make a bunch of changes and add them all at once."
   ]
  },
  {
   "cell_type": "code",
   "execution_count": null,
   "metadata": {
    "dotnet_interactive": {
     "language": "pwsh"
    },
    "vscode": {
     "languageId": "dotnet-interactive.pwsh"
    }
   },
   "outputs": [
    {
     "name": "stdout",
     "output_type": "stream",
     "text": [
      "\r\n",
      "    Directory: C:\\code\\teaching\\mern-stack-course\\1-basics\\2-git\\time-portal\r\n",
      "\r\n",
      "\u001b[32;1mMode                 LastWriteTime         Length Name\u001b[0m\r\n",
      "\u001b[32;1m----                 -------------         ------ ----\u001b[0m\r\n",
      "-a---            7/1/2022  1:44 AM              0 cell.txt\r\n",
      "-a---            7/1/2022  1:44 AM              0 zoom.txt\r\n",
      "-a---            7/1/2022  1:44 AM              0 terminator.txt\r\n",
      "\r\n"
     ]
    }
   ],
   "source": [
    "ni cell.txt\n",
    "ni zoom.txt\n",
    "ni terminator.txt\n",
    "rm Doc.txt"
   ]
  },
  {
   "cell_type": "code",
   "execution_count": null,
   "metadata": {
    "dotnet_interactive": {
     "language": "pwsh"
    },
    "vscode": {
     "languageId": "dotnet-interactive.pwsh"
    }
   },
   "outputs": [
    {
     "name": "stdout",
     "output_type": "stream",
     "text": [
      "On branch main\r\n",
      "Changes to be committed:\r\n",
      "  (use \"git restore --staged <file>...\" to unstage)\r\n",
      "\trenamed:    Doc.txt -> cell.txt\r\n",
      "\tnew file:   terminator.txt\r\n",
      "\tnew file:   zoom.txt\r\n",
      "\r\n"
     ]
    }
   ],
   "source": [
    "git add -A\n",
    "git status"
   ]
  },
  {
   "cell_type": "markdown",
   "metadata": {},
   "source": [
    "- Let's go ahead and commit the changes."
   ]
  },
  {
   "cell_type": "code",
   "execution_count": null,
   "metadata": {
    "dotnet_interactive": {
     "language": "pwsh"
    },
    "vscode": {
     "languageId": "dotnet-interactive.pwsh"
    }
   },
   "outputs": [
    {
     "name": "stdout",
     "output_type": "stream",
     "text": [
      "[main dc29ee0] time distortion\r\n",
      " 3 files changed, 0 insertions(+), 0 deletions(-)\r\n",
      " rename Doc.txt => cell.txt (100%)\r\n",
      " create mode 100644 terminator.txt\r\n",
      " create mode 100644 zoom.txt\r\n"
     ]
    }
   ],
   "source": [
    "git commit -m \"time distortion\""
   ]
  },
  {
   "cell_type": "markdown",
   "metadata": {},
   "source": [
    "####  git log\n",
    "- Let's take a look at timeline (branch) with the ```git log``` and ```git log```"
   ]
  },
  {
   "cell_type": "code",
   "execution_count": null,
   "metadata": {
    "dotnet_interactive": {
     "language": "pwsh"
    },
    "vscode": {
     "languageId": "dotnet-interactive.pwsh"
    }
   },
   "outputs": [
    {
     "name": "stdout",
     "output_type": "stream",
     "text": [
      "commit dc29ee0913500e72185477d115835d26a4080de8\r\n",
      "Author: nick3point5 <example@example.com>\r\n",
      "Date:   Fri Jul 1 01:44:55 2022 -0500\r\n",
      "\r\n",
      "    time distortion\r\n",
      "\r\n",
      "commit b3a9eee9cdf05198f45f2c06a48b8e4592ba18d8\r\n",
      "Author: nick3point5 <example@example.com>\r\n",
      "Date:   Fri Jul 1 01:44:50 2022 -0500\r\n",
      "\r\n",
      "    Doc added\r\n",
      "\r\n",
      "commit 4f1115242d52eaa3db9e10dd75c3715e69423130\r\n",
      "Author: nick3point5 <example@example.com>\r\n",
      "Date:   Fri Jul 1 01:44:45 2022 -0500\r\n",
      "\r\n",
      "    Marty added\r\n"
     ]
    }
   ],
   "source": [
    "git log"
   ]
  },
  {
   "cell_type": "markdown",
   "metadata": {
    "dotnet_interactive": {
     "language": "pwsh"
    }
   },
   "source": [
    "- That's a little verbose (too much text).\n",
    "- I'm using flags on the log command to make it prettier."
   ]
  },
  {
   "cell_type": "code",
   "execution_count": null,
   "metadata": {
    "dotnet_interactive": {
     "language": "pwsh"
    },
    "vscode": {
     "languageId": "dotnet-interactive.pwsh"
    }
   },
   "outputs": [
    {
     "name": "stdout",
     "output_type": "stream",
     "text": [
      "* dc29ee0 2022-07-01 | time distortion (HEAD -> main) [nick3point5]\r\n",
      "* b3a9eee 2022-07-01 | Doc added (tag: Doc-is-alive) [nick3point5]\r\n",
      "* 4f11152 2022-07-01 | Marty added (tag: origin-story) [nick3point5]\r\n"
     ]
    }
   ],
   "source": [
    "git log --pretty=format:'%h %ad | %s%d [%an]' --graph --date=short \n"
   ]
  },
  {
   "cell_type": "markdown",
   "metadata": {},
   "source": [
    "####  git aliases\n",
    "- Most people would think typing that all out is hard to remember and annoying.\n",
    "- Let's learn how to make aliases in git.\n",
    "- This is how to make the previous command into ```hist```"
   ]
  },
  {
   "cell_type": "code",
   "execution_count": null,
   "metadata": {
    "dotnet_interactive": {
     "language": "pwsh"
    },
    "vscode": {
     "languageId": "dotnet-interactive.pwsh"
    }
   },
   "outputs": [],
   "source": [
    "git config --global alias.hist \"log --pretty=format:'%h %ad | %s%d [%an]' --graph --date=short\""
   ]
  },
  {
   "cell_type": "code",
   "execution_count": null,
   "metadata": {
    "dotnet_interactive": {
     "language": "pwsh"
    },
    "vscode": {
     "languageId": "dotnet-interactive.pwsh"
    }
   },
   "outputs": [
    {
     "name": "stdout",
     "output_type": "stream",
     "text": [
      "* dc29ee0 2022-07-01 | time distortion (HEAD -> main) [nick3point5]\r\n",
      "* b3a9eee 2022-07-01 | Doc added (tag: Doc-is-alive) [nick3point5]\r\n",
      "* 4f11152 2022-07-01 | Marty added (tag: origin-story) [nick3point5]\r\n"
     ]
    }
   ],
   "source": [
    "git hist"
   ]
  },
  {
   "cell_type": "markdown",
   "metadata": {},
   "source": [
    "####  git checkout\n",
    "- Now that we can see our timeline, we can travel to any of the previous commits with the ```checkout``` command.\n",
    "- Where in the timeline we are looking is called HEAD.\n",
    "- Let's go back to when Marty was added with those random numbers and letters (hash) or the tag."
   ]
  },
  {
   "cell_type": "code",
   "execution_count": null,
   "metadata": {
    "dotnet_interactive": {
     "language": "pwsh"
    },
    "vscode": {
     "languageId": "dotnet-interactive.pwsh"
    }
   },
   "outputs": [
    {
     "name": "stdout",
     "output_type": "stream",
     "text": [
      "Note: switching to 'origin-story'.\r\n",
      "\r\n",
      "You are in 'detached HEAD' state. You can look around, make experimental\r\n",
      "changes and commit them, and you can discard any commits you make in this\r\n",
      "state without impacting any branches by switching back to a branch.\r\n",
      "\r\n",
      "If you want to create a new branch to retain commits you create, you may\r\n",
      "do so (now or later) by using -c with the switch command. Example:\r\n",
      "\r\n",
      "  git switch -c <new-branch-name>\r\n",
      "\r\n",
      "Or undo this operation with:\r\n",
      "\r\n",
      "  git switch -\r\n",
      "\r\n",
      "Turn off this advice by setting config variable advice.detachedHead to false\r\n",
      "\r\n",
      "HEAD is now at 4f11152 Marty added\r\n"
     ]
    }
   ],
   "source": [
    "git checkout origin-story "
   ]
  },
  {
   "cell_type": "code",
   "execution_count": null,
   "metadata": {
    "dotnet_interactive": {
     "language": "pwsh"
    },
    "vscode": {
     "languageId": "dotnet-interactive.pwsh"
    }
   },
   "outputs": [
    {
     "name": "stdout",
     "output_type": "stream",
     "text": [
      "\r\n",
      "    Directory: C:\\code\\teaching\\mern-stack-course\\1-basics\\2-git\\time-portal\r\n",
      "\r\n",
      "\u001b[32;1mMode                 LastWriteTime         Length Name\u001b[0m\r\n",
      "\u001b[32;1m----                 -------------         ------ ----\u001b[0m\r\n",
      "-a---            7/1/2022  1:44 AM              0 Marty.txt\r\n",
      "\r\n"
     ]
    }
   ],
   "source": [
    "ls"
   ]
  },
  {
   "cell_type": "markdown",
   "metadata": {},
   "source": [
    "- Let's make some changes and try to commit them here.\n"
   ]
  },
  {
   "cell_type": "code",
   "execution_count": null,
   "metadata": {
    "dotnet_interactive": {
     "language": "pwsh"
    },
    "vscode": {
     "languageId": "dotnet-interactive.pwsh"
    }
   },
   "outputs": [
    {
     "name": "stdout",
     "output_type": "stream",
     "text": [
      "\r\n",
      "    Directory: C:\\code\\teaching\\mern-stack-course\\1-basics\\2-git\\time-portal\r\n",
      "\r\n",
      "\u001b[32;1mMode                 LastWriteTime         Length Name\u001b[0m\r\n",
      "\u001b[32;1m----                 -------------         ------ ----\u001b[0m\r\n",
      "-a---           6/30/2022  8:23 PM              0 booster-gold.txt\r\n",
      "-a---           6/30/2022  8:23 PM              0 future-trunks.txt\r\n",
      "-a---           6/30/2022  8:23 PM              0 rip-van-wrinkle.txt\r\n",
      "[detached HEAD c51c720] found some help\r\n",
      " 3 files changed, 0 insertions(+), 0 deletions(-)\r\n",
      " create mode 100644 booster-gold.txt\r\n",
      " create mode 100644 future-trunks.txt\r\n",
      " create mode 100644 rip-van-wrinkle.txt\r\n",
      "\r\n"
     ]
    }
   ],
   "source": [
    "ni booster-gold.txt\n",
    "ni future-trunks.txt\n",
    "ni rip-van-wrinkle.txt\n",
    "git add -A \n",
    "git commit -m \"found some help\""
   ]
  },
  {
   "cell_type": "markdown",
   "metadata": {},
   "source": [
    "- Let's take a look at the log."
   ]
  },
  {
   "cell_type": "code",
   "execution_count": null,
   "metadata": {
    "dotnet_interactive": {
     "language": "pwsh"
    },
    "vscode": {
     "languageId": "dotnet-interactive.pwsh"
    }
   },
   "outputs": [
    {
     "name": "stdout",
     "output_type": "stream",
     "text": [
      "* 4f11152 2022-07-01 | Marty added (HEAD, tag: origin-story) [nick3point5]\r\n"
     ]
    }
   ],
   "source": [
    "git hist"
   ]
  },
  {
   "cell_type": "markdown",
   "metadata": {},
   "source": [
    "- Notice that there is only one timeline even though we create two by splitting it. \n",
    "- By default log only show one timeline.\n",
    "- We can add the --all flag to see all timelines."
   ]
  },
  {
   "cell_type": "code",
   "execution_count": null,
   "metadata": {
    "dotnet_interactive": {
     "language": "pwsh"
    },
    "vscode": {
     "languageId": "dotnet-interactive.pwsh"
    }
   },
   "outputs": [
    {
     "name": "stdout",
     "output_type": "stream",
     "text": [
      "* dc29ee0 2022-07-01 | time distortion (main) [nick3point5]\r\n",
      "* b3a9eee 2022-07-01 | Doc added (tag: Doc-is-alive) [nick3point5]\r\n",
      "* 4f11152 2022-07-01 | Marty added (HEAD, tag: origin-story) [nick3point5]\r\n"
     ]
    }
   ],
   "source": [
    "git hist --all"
   ]
  },
  {
   "cell_type": "markdown",
   "metadata": {},
   "source": [
    "#### git reset\n",
    "- It's bad practice to make a commit in the past timeline. \n",
    "- So let's reset this line using the ```git reset --hard```\n",
    "- This undoes to the last or specified commit.\n",
    "- Be careful, this will cut us out of the future commits. We can only go back if we have the hash.\n",
    "###### *git reset without the hard flag just un-adds stuff"
   ]
  },
  {
   "cell_type": "code",
   "execution_count": null,
   "metadata": {
    "dotnet_interactive": {
     "language": "pwsh"
    },
    "vscode": {
     "languageId": "dotnet-interactive.pwsh"
    }
   },
   "outputs": [
    {
     "name": "stdout",
     "output_type": "stream",
     "text": [
      "HEAD is now at 4f11152 Marty added\r\n"
     ]
    }
   ],
   "source": [
    "git reset --hard origin-story"
   ]
  },
  {
   "cell_type": "markdown",
   "metadata": {},
   "source": [
    "#### git branch\n",
    "- When we make changes outside the main branch, we don't want to clutter the main branch.\n",
    "- Now, what we should be doing is creating a branch.\n",
    "- Branches make organizing and managing split timelines much easier.\n",
    "- We can create a branch by ```git branch (name)```\n",
    "- We can view branches by just ```git branch```"
   ]
  },
  {
   "cell_type": "code",
   "execution_count": null,
   "metadata": {
    "dotnet_interactive": {
     "language": "pwsh"
    },
    "vscode": {
     "languageId": "dotnet-interactive.pwsh"
    }
   },
   "outputs": [
    {
     "name": "stdout",
     "output_type": "stream",
     "text": [
      "* (HEAD detached at origin-story)\r\n",
      "  main\r\n",
      "  time-squad\r\n"
     ]
    }
   ],
   "source": [
    "git branch time-squad\n",
    "git branch"
   ]
  },
  {
   "cell_type": "markdown",
   "metadata": {},
   "source": [
    "- To go to that branch, we just the ```git checkout``` again."
   ]
  },
  {
   "cell_type": "code",
   "execution_count": null,
   "metadata": {
    "dotnet_interactive": {
     "language": "pwsh"
    },
    "vscode": {
     "languageId": "dotnet-interactive.pwsh"
    }
   },
   "outputs": [
    {
     "name": "stdout",
     "output_type": "stream",
     "text": [
      "Switched to branch 'time-squad'\r\n",
      "On branch time-squad\r\n",
      "nothing to commit, working tree clean\r\n"
     ]
    }
   ],
   "source": [
    "git checkout time-squad\n",
    "git status"
   ]
  },
  {
   "cell_type": "markdown",
   "metadata": {},
   "source": [
    "- Notice that the git status now tells that we are on a different branch.\n",
    "- Let's make changes on this branch."
   ]
  },
  {
   "cell_type": "code",
   "execution_count": null,
   "metadata": {
    "dotnet_interactive": {
     "language": "pwsh"
    },
    "vscode": {
     "languageId": "dotnet-interactive.pwsh"
    }
   },
   "outputs": [
    {
     "name": "stdout",
     "output_type": "stream",
     "text": [
      "\r\n",
      "    Directory: C:\\code\\teaching\\mern-stack-course\\1-basics\\2-git\\time-portal\r\n",
      "\r\n",
      "\u001b[32;1mMode                 LastWriteTime         Length Name\u001b[0m\r\n",
      "\u001b[32;1m----                 -------------         ------ ----\u001b[0m\r\n",
      "-a---            7/1/2022  1:45 AM              0 booster-gold.txt\r\n",
      "-a---            7/1/2022  1:45 AM              0 future-trunks.txt\r\n",
      "-a---            7/1/2022  1:45 AM              0 rip-van-wrinkle.txt\r\n",
      "[time-squad a40096c] Formed the time squad\r\n",
      " 3 files changed, 0 insertions(+), 0 deletions(-)\r\n",
      " create mode 100644 booster-gold.txt\r\n",
      " create mode 100644 future-trunks.txt\r\n",
      " create mode 100644 rip-van-wrinkle.txt\r\n",
      "\r\n"
     ]
    }
   ],
   "source": [
    "ni booster-gold.txt\n",
    "ni future-trunks.txt\n",
    "ni rip-van-wrinkle.txt\n",
    "git add -A \n",
    "git commit -m \"Formed the time squad\""
   ]
  },
  {
   "cell_type": "code",
   "execution_count": null,
   "metadata": {
    "dotnet_interactive": {
     "language": "pwsh"
    },
    "vscode": {
     "languageId": "dotnet-interactive.pwsh"
    }
   },
   "outputs": [
    {
     "name": "stdout",
     "output_type": "stream",
     "text": [
      "* a40096c 2022-07-01 | Formed the time squad (HEAD -> time-squad) [nick3point5]\r\n",
      "| * dc29ee0 2022-07-01 | time distortion (main) [nick3point5]\r\n",
      "| * b3a9eee 2022-07-01 | Doc added (tag: Doc-is-alive) [nick3point5]\r\n",
      "|/  \r\n",
      "* 4f11152 2022-07-01 | Marty added (tag: origin-story) [nick3point5]\r\n"
     ]
    }
   ],
   "source": [
    "git hist --all"
   ]
  },
  {
   "cell_type": "markdown",
   "metadata": {},
   "source": [
    "#### git merge\n",
    "- Now that we are done assembling the squad let's merge the branches together.\n",
    "- We can do this with the ```git merge``` command.\n",
    "- This will pull another branch into the current working one. This will collapse the branch you are merging in.\n",
    "- Let's go to the main branch and merge the time-squad into it."
   ]
  },
  {
   "cell_type": "code",
   "execution_count": null,
   "metadata": {
    "dotnet_interactive": {
     "language": "pwsh"
    },
    "vscode": {
     "languageId": "dotnet-interactive.pwsh"
    }
   },
   "outputs": [
    {
     "name": "stdout",
     "output_type": "stream",
     "text": [
      "Switched to branch 'main'\r\n",
      "Merge made by the 'ort' strategy.\r\n",
      " booster-gold.txt    | 0\r\n",
      " future-trunks.txt   | 0\r\n",
      " rip-van-wrinkle.txt | 0\r\n",
      " 3 files changed, 0 insertions(+), 0 deletions(-)\r\n",
      " create mode 100644 booster-gold.txt\r\n",
      " create mode 100644 future-trunks.txt\r\n",
      " create mode 100644 rip-van-wrinkle.txt\r\n"
     ]
    }
   ],
   "source": [
    "git checkout main\n",
    "git merge time-squad"
   ]
  },
  {
   "cell_type": "code",
   "execution_count": null,
   "metadata": {
    "dotnet_interactive": {
     "language": "pwsh"
    },
    "vscode": {
     "languageId": "dotnet-interactive.pwsh"
    }
   },
   "outputs": [
    {
     "name": "stdout",
     "output_type": "stream",
     "text": [
      "*   1396e18 2022-07-01 | Merge branch 'time-squad' (HEAD -> main) [nick3point5]\r\n",
      "|\\  \r\n",
      "| * a40096c 2022-07-01 | Formed the time squad (time-squad) [nick3point5]\r\n",
      "* | dc29ee0 2022-07-01 | time distortion [nick3point5]\r\n",
      "* | b3a9eee 2022-07-01 | Doc added (tag: Doc-is-alive) [nick3point5]\r\n",
      "|/  \r\n",
      "* 4f11152 2022-07-01 | Marty added (tag: origin-story) [nick3point5]\r\n"
     ]
    }
   ],
   "source": [
    "git hist --all"
   ]
  },
  {
   "cell_type": "markdown",
   "metadata": {},
   "source": [
    "- Let's make some changes and make a commit."
   ]
  },
  {
   "cell_type": "code",
   "execution_count": null,
   "metadata": {
    "dotnet_interactive": {
     "language": "pwsh"
    },
    "vscode": {
     "languageId": "dotnet-interactive.pwsh"
    }
   },
   "outputs": [
    {
     "name": "stdout",
     "output_type": "stream",
     "text": [
      "[main 671337d] time-squad wins\r\n",
      " 5 files changed, 2 insertions(+)\r\n",
      " delete mode 100644 cell.txt\r\n",
      " delete mode 100644 rip-van-wrinkle.txt\r\n",
      " delete mode 100644 terminator.txt\r\n",
      " delete mode 100644 zoom.txt\r\n"
     ]
    }
   ],
   "source": [
    "rm rip-van-wrinkle.txt, terminator.txt, cell.txt, zoom.txt\n",
    "echo \"We did it doc.\" > Marty.txt\n",
    "echo \"Your future is whatever you make it, so make it a good one.\" >> .\\Marty.txt\n",
    "git add -A \n",
    "git commit -m \"time-squad wins\""
   ]
  },
  {
   "cell_type": "markdown",
   "metadata": {},
   "source": [
    "- Take note that we just changed Marty.txt\n",
    "- Let's check out a new branch.\n",
    "- We can do this with one command using the ```-b``` flag on the checkout command."
   ]
  },
  {
   "cell_type": "code",
   "execution_count": null,
   "metadata": {
    "dotnet_interactive": {
     "language": "pwsh"
    },
    "vscode": {
     "languageId": "dotnet-interactive.pwsh"
    }
   },
   "outputs": [
    {
     "name": "stdout",
     "output_type": "stream",
     "text": [
      "Switched to a new branch 'dark-timeline'\r\n"
     ]
    }
   ],
   "source": [
    "git checkout Doc-is-alive -b dark-timeline"
   ]
  },
  {
   "cell_type": "code",
   "execution_count": null,
   "metadata": {
    "dotnet_interactive": {
     "language": "pwsh"
    },
    "vscode": {
     "languageId": "dotnet-interactive.pwsh"
    }
   },
   "outputs": [
    {
     "name": "stdout",
     "output_type": "stream",
     "text": [
      "[dark-timeline de7d49c] dark Marty\r\n",
      " 2 files changed, 2 insertions(+)\r\n",
      " delete mode 100644 Doc.txt\r\n"
     ]
    }
   ],
   "source": [
    "rm Doc.txt\n",
    "echo \"I'm evil now\" > .\\Marty.txt\n",
    "echo \"Your future is whatever you make it, so make it a good one.\" >> .\\Marty.txt\n",
    "git add -A \n",
    "git commit -m \"dark Marty\""
   ]
  },
  {
   "cell_type": "markdown",
   "metadata": {},
   "source": [
    "#### merge conflict \n",
    "- Marty.txt in this timeline has changed too.\n",
    "- If we merge, there will be a conflict because both Marty.txt changed.\n",
    "- More specifically, the same lines of code that are different."
   ]
  },
  {
   "cell_type": "code",
   "execution_count": null,
   "metadata": {
    "dotnet_interactive": {
     "language": "pwsh"
    },
    "vscode": {
     "languageId": "dotnet-interactive.pwsh"
    }
   },
   "outputs": [
    {
     "name": "stdout",
     "output_type": "stream",
     "text": [
      "Switched to branch 'main'\r\n",
      "Auto-merging Marty.txt\r\n",
      "CONFLICT (content): Merge conflict in Marty.txt\r\n",
      "Automatic merge failed; fix conflicts and then commit the result.\r\n"
     ]
    }
   ],
   "source": [
    "git checkout main\n",
    "git merge dark-timeline"
   ]
  },
  {
   "cell_type": "markdown",
   "metadata": {},
   "source": [
    "- When there is a merge conflict, we can't add, commit, or checkout until it's resolved.\n",
    "- We can show the conflicts with the ```git diff``` command."
   ]
  },
  {
   "cell_type": "code",
   "execution_count": null,
   "metadata": {
    "dotnet_interactive": {
     "language": "pwsh"
    },
    "vscode": {
     "languageId": "dotnet-interactive.pwsh"
    }
   },
   "outputs": [
    {
     "name": "stdout",
     "output_type": "stream",
     "text": [
      "diff --cc Marty.txt\r\n",
      "index 38aaa14,c45a985..0000000\r\n",
      "--- a/Marty.txt\r\n",
      "+++ b/Marty.txt\r\n",
      "@@@ -1,2 -1,2 +1,6 @@@\r\n",
      "++<<<<<<< HEAD\r\n",
      " +We did it doc.\r\n",
      "++=======\r\n",
      "+ I'm evil now\r\n",
      "++>>>>>>> dark-timeline\r\n",
      "  Your future is whatever you make it, so make it a good one.\r\n"
     ]
    }
   ],
   "source": [
    "git diff"
   ]
  },
  {
   "cell_type": "markdown",
   "metadata": {
    "dotnet_interactive": {
     "language": "pwsh"
    },
    "vscode": {
     "languageId": "dotnet-interactive.pwsh"
    }
   },
   "source": [
    "- For now, let's just manually pick which one to keep."
   ]
  },
  {
   "cell_type": "code",
   "execution_count": null,
   "metadata": {
    "dotnet_interactive": {
     "language": "pwsh"
    },
    "vscode": {
     "languageId": "dotnet-interactive.pwsh"
    }
   },
   "outputs": [],
   "source": [
    "echo \"I'm evil now\" > .\\Marty.txt\n",
    "echo \"Your future is whatever you make it, so make it a good one.\" >> .\\Marty.txt"
   ]
  },
  {
   "cell_type": "code",
   "execution_count": null,
   "metadata": {
    "dotnet_interactive": {
     "language": "pwsh"
    },
    "vscode": {
     "languageId": "dotnet-interactive.pwsh"
    }
   },
   "outputs": [
    {
     "name": "stdout",
     "output_type": "stream",
     "text": [
      "[main 94ba332] doomsday\r\n"
     ]
    }
   ],
   "source": [
    "git add -A \n",
    "git commit -m \"doomsday\""
   ]
  },
  {
   "cell_type": "markdown",
   "metadata": {},
   "source": [
    "## GitHub\n",
    "- GitHub is a free cloud service that can be used to manage and share git repos over the internet.\n",
    "- We need to have a GitHub account to continue.\n",
    "- We will be using GitHub CLI to interact with GitHub."
   ]
  },
  {
   "cell_type": "markdown",
   "metadata": {},
   "source": [
    "#### Logging in\n",
    "- To log into GitHub CLI run the ```gh auth login``` command."
   ]
  },
  {
   "cell_type": "code",
   "execution_count": null,
   "metadata": {
    "dotnet_interactive": {
     "language": "pwsh"
    },
    "vscode": {
     "languageId": "dotnet-interactive.pwsh"
    }
   },
   "outputs": [],
   "source": [
    "#gh auth login"
   ]
  },
  {
   "cell_type": "markdown",
   "metadata": {},
   "source": [
    "#### Creating a GitHub repo\n",
    "- Let's create a repo in GitHub with the ```gh repo create``` command.\n",
    "- We can specify if our repo is private or public and --private or --public flags."
   ]
  },
  {
   "cell_type": "code",
   "execution_count": null,
   "metadata": {
    "dotnet_interactive": {
     "language": "pwsh"
    },
    "vscode": {
     "languageId": "dotnet-interactive.pwsh"
    }
   },
   "outputs": [
    {
     "name": "stdout",
     "output_type": "stream",
     "text": [
      "https://github.com/nick3point5/meaningless-struggle\r\n"
     ]
    }
   ],
   "source": [
    "gh repo create meaningless-struggle --private"
   ]
  },
  {
   "cell_type": "markdown",
   "metadata": {},
   "source": [
    "#### Viewing a GitHub repo\n",
    "- We can view a repo in our GitHub with the ```gh repo view``` command.\n",
    "- If we add the -w (web) flag it will take us to the web page in GitHub."
   ]
  },
  {
   "cell_type": "code",
   "execution_count": null,
   "metadata": {
    "dotnet_interactive": {
     "language": "pwsh"
    },
    "vscode": {
     "languageId": "dotnet-interactive.pwsh"
    }
   },
   "outputs": [],
   "source": [
    "gh repo view meaningless-struggle -w"
   ]
  },
  {
   "cell_type": "markdown",
   "metadata": {},
   "source": [
    "#### Connecting to GitHub\n",
    "- We can link this local repo with the cloud repo just made through the ```git remote``` command.\n",
    "- The standard naming convention of the first repo is **origin**"
   ]
  },
  {
   "cell_type": "code",
   "execution_count": null,
   "metadata": {
    "dotnet_interactive": {
     "language": "pwsh"
    },
    "vscode": {
     "languageId": "dotnet-interactive.pwsh"
    }
   },
   "outputs": [],
   "source": [
    "git remote add origin https://github.com/nick3point5/meaningless-struggle"
   ]
  },
  {
   "cell_type": "markdown",
   "metadata": {},
   "source": [
    "#### Pushing to GitHub\n",
    "- We can send the main branch to the cloud repo using ```git push origin main```"
   ]
  },
  {
   "cell_type": "code",
   "execution_count": null,
   "metadata": {
    "dotnet_interactive": {
     "language": "pwsh"
    },
    "vscode": {
     "languageId": "dotnet-interactive.pwsh"
    }
   },
   "outputs": [
    {
     "name": "stdout",
     "output_type": "stream",
     "text": [
      "To https://github.com/nick3point5/meaningless-struggle\r\n",
      " * [new branch]      main -> main\r\n"
     ]
    }
   ],
   "source": [
    "git push origin main"
   ]
  },
  {
   "cell_type": "markdown",
   "metadata": {},
   "source": [
    "- Let's make some changes, commit them, and push them up\n",
    "- The -u flag to set a remote to set the default repo and branch, so next time we can just use ```git push```"
   ]
  },
  {
   "cell_type": "code",
   "execution_count": null,
   "metadata": {
    "dotnet_interactive": {
     "language": "pwsh"
    },
    "vscode": {
     "languageId": "dotnet-interactive.pwsh"
    }
   },
   "outputs": [
    {
     "name": "stdout",
     "output_type": "stream",
     "text": [
      "[main 38f9f2f] the darkest of timelines\r\n",
      " 3 files changed, 0 insertions(+), 0 deletions(-)\r\n",
      " rename Marty.txt => Emperor-Marty.txt (100%)\r\n",
      " delete mode 100644 booster-gold.txt\r\n",
      " delete mode 100644 future-trunks.txt\r\n",
      "To https://github.com/nick3point5/meaningless-struggle\r\n",
      "   94ba332..38f9f2f  main -> main\r\n",
      "branch 'main' set up to track 'origin/main'.\r\n"
     ]
    }
   ],
   "source": [
    "rm .\\booster-gold.txt, .\\future-trunks.txt\n",
    "echo \"I'll leave these two in that house\" >> .\\Marty.txt\n",
    "mv .\\Marty.txt .\\Emperor-Marty.txt\n",
    "git add -A \n",
    "git commit -m \"the darkest of timelines\"\n",
    "git push -u origin main"
   ]
  },
  {
   "cell_type": "markdown",
   "metadata": {},
   "source": [
    "## Gitignore file\n",
    "- We can make a file named \".gitignore\" that will tell git to not add files to our history."
   ]
  },
  {
   "cell_type": "code",
   "execution_count": null,
   "metadata": {
    "dotnet_interactive": {
     "language": "pwsh"
    },
    "vscode": {
     "languageId": "dotnet-interactive.pwsh"
    }
   },
   "outputs": [
    {
     "name": "stdout",
     "output_type": "stream",
     "text": [
      "\r\n",
      "    Directory: C:\\code\\teaching\\mern-stack-course\\1-basics\\2-git\\time-portal\\secret-base\r\n",
      "\r\n",
      "\u001b[32;1mMode                 LastWriteTime         Length Name\u001b[0m\r\n",
      "\u001b[32;1m----                 -------------         ------ ----\u001b[0m\r\n",
      "-a---            7/1/2022  1:46 AM              0 ultimate-weapon.txt\r\n",
      "\r\n",
      "    Directory: C:\\code\\teaching\\mern-stack-course\\1-basics\\2-git\\time-portal\r\n",
      "\r\n",
      "\u001b[32;1mMode                 LastWriteTime         Length Name\u001b[0m\r\n",
      "\u001b[32;1m----                 -------------         ------ ----\u001b[0m\r\n",
      "-a---            7/1/2022  1:46 AM              0 .gitignore\r\n",
      "\r\n"
     ]
    }
   ],
   "source": [
    "ni secret-base/ultimate-weapon.txt -f\n",
    "ni .gitignore\n",
    "echo \"secret-base/\" >> .gitignore"
   ]
  },
  {
   "cell_type": "code",
   "execution_count": null,
   "metadata": {
    "dotnet_interactive": {
     "language": "pwsh"
    },
    "vscode": {
     "languageId": "dotnet-interactive.pwsh"
    }
   },
   "outputs": [
    {
     "name": "stdout",
     "output_type": "stream",
     "text": [
      "On branch main\r\n",
      "Your branch is up to date with 'origin/main'.\r\n",
      "\r\n",
      "Untracked files:\r\n",
      "  (use \"git add <file>...\" to include in what will be committed)\r\n",
      "\t.gitignore\r\n",
      "\r\n",
      "nothing added to commit but untracked files present (use \"git add\" to track)\r\n"
     ]
    }
   ],
   "source": [
    "git commit -am \"the final fortress\""
   ]
  },
  {
   "cell_type": "markdown",
   "metadata": {},
   "source": [
    "#### Pulling from GitHub\n",
    "- Let's revert to a previous commit."
   ]
  },
  {
   "cell_type": "code",
   "execution_count": null,
   "metadata": {
    "dotnet_interactive": {
     "language": "pwsh"
    },
    "vscode": {
     "languageId": "dotnet-interactive.pwsh"
    }
   },
   "outputs": [
    {
     "name": "stdout",
     "output_type": "stream",
     "text": [
      "HEAD is now at 4f11152 Marty added\r\n",
      "On branch main\r\n",
      "Your branch is behind 'origin/main' by 8 commits, and can be fast-forwarded.\r\n",
      "  (use \"git pull\" to update your local branch)\r\n",
      "\r\n",
      "Untracked files:\r\n",
      "  (use \"git add <file>...\" to include in what will be committed)\r\n",
      "\t.gitignore\r\n",
      "\r\n",
      "nothing added to commit but untracked files present (use \"git add\" to track)\r\n"
     ]
    }
   ],
   "source": [
    "git reset --hard origin-story\n",
    "git status"
   ]
  },
  {
   "cell_type": "markdown",
   "metadata": {},
   "source": [
    "- We can see that now that this repo is connected to GitHub.\n",
    "- The status tells us that our local branch is behind the GitHub repo.\n",
    "- To try to sync back to the GitHub, we run a command ```git pull```"
   ]
  },
  {
   "cell_type": "code",
   "execution_count": null,
   "metadata": {
    "dotnet_interactive": {
     "language": "pwsh"
    },
    "vscode": {
     "languageId": "dotnet-interactive.pwsh"
    }
   },
   "outputs": [
    {
     "name": "stdout",
     "output_type": "stream",
     "text": [
      "Updating 4f11152..38f9f2f\r\n",
      "Fast-forward\r\n",
      " Emperor-Marty.txt | 2 ++\r\n",
      " Marty.txt         | 0\r\n",
      " 2 files changed, 2 insertions(+)\r\n",
      " create mode 100644 Emperor-Marty.txt\r\n",
      " delete mode 100644 Marty.txt\r\n"
     ]
    }
   ],
   "source": [
    "git pull"
   ]
  },
  {
   "cell_type": "markdown",
   "metadata": {},
   "source": [
    "#### Clone from GitHub\n",
    "- We can clone any repos on GitHub with the ```git clone ``` command.\n",
    "- Let's remove this example and directory and clone down the one from GitHub"
   ]
  },
  {
   "cell_type": "code",
   "execution_count": null,
   "metadata": {
    "dotnet_interactive": {
     "language": "pwsh"
    },
    "vscode": {
     "languageId": "dotnet-interactive.pwsh"
    }
   },
   "outputs": [],
   "source": [
    "cd ..\n",
    "rm time-portal -Recurse -Force -Confirm:$false"
   ]
  },
  {
   "cell_type": "code",
   "execution_count": null,
   "metadata": {
    "dotnet_interactive": {
     "language": "pwsh"
    },
    "vscode": {
     "languageId": "dotnet-interactive.pwsh"
    }
   },
   "outputs": [
    {
     "name": "stdout",
     "output_type": "stream",
     "text": [
      "Cloning into 'meaningless-struggle'...\r\n"
     ]
    }
   ],
   "source": [
    "git clone https://github.com/nick3point5/meaningless-struggle"
   ]
  },
  {
   "cell_type": "markdown",
   "metadata": {},
   "source": [
    "## Extra tips and tricks\n",
    "---"
   ]
  },
  {
   "cell_type": "markdown",
   "metadata": {},
   "source": [
    "- You can create a new GitHub repo and connect it in one go."
   ]
  },
  {
   "cell_type": "code",
   "execution_count": null,
   "metadata": {
    "dotnet_interactive": {
     "language": "pwsh"
    },
    "vscode": {
     "languageId": "dotnet-interactive.pwsh"
    }
   },
   "outputs": [],
   "source": [
    "gh repo create meaningless-struggle --private --source=. --remote=origin --push"
   ]
  },
  {
   "cell_type": "markdown",
   "metadata": {},
   "source": [
    "- Git only tracks files. So if your directories are empty, they cannot be tracked"
   ]
  },
  {
   "cell_type": "markdown",
   "metadata": {
    "dotnet_interactive": {
     "language": "pwsh"
    }
   },
   "source": [
    "- If you hit the period (.) key on a GitHub repo, it will open a vscode editor. You can make light edits and commits online."
   ]
  },
  {
   "cell_type": "markdown",
   "metadata": {},
   "source": [
    "- You can change a commit message before pushing with the amend command."
   ]
  },
  {
   "cell_type": "code",
   "execution_count": null,
   "metadata": {
    "dotnet_interactive": {
     "language": "pwsh"
    },
    "vscode": {
     "languageId": "dotnet-interactive.pwsh"
    }
   },
   "outputs": [],
   "source": [
    "git commit --amend -m \"darkest-er timeline\""
   ]
  },
  {
   "cell_type": "markdown",
   "metadata": {
    "dotnet_interactive": {
     "language": "pwsh"
    },
    "vscode": {
     "languageId": "dotnet-interactive.pwsh"
    }
   },
   "source": [
    "- You can add all files and commit in one command."
   ]
  },
  {
   "cell_type": "code",
   "execution_count": null,
   "metadata": {
    "dotnet_interactive": {
     "language": "pwsh"
    },
    "vscode": {
     "languageId": "dotnet-interactive.pwsh"
    }
   },
   "outputs": [],
   "source": [
    "git commit -am \"darker-est-er"
   ]
  },
  {
   "cell_type": "markdown",
   "metadata": {},
   "source": [
    "- You can save your work without committing using the command ```git stash```\n",
    "- Using ```git stash pop ``` will bring it back\n",
    "###### *this should be only be used or temporary work this is not saved to GitHub and could be removed"
   ]
  },
  {
   "cell_type": "code",
   "execution_count": null,
   "metadata": {
    "dotnet_interactive": {
     "language": "pwsh"
    },
    "vscode": {
     "languageId": "dotnet-interactive.pwsh"
    }
   },
   "outputs": [],
   "source": [
    "git stash\n",
    "git stash pop"
   ]
  },
  {
   "cell_type": "markdown",
   "metadata": {},
   "source": [
    "- You can swap to your previous branch without writing its full name."
   ]
  },
  {
   "cell_type": "code",
   "execution_count": null,
   "metadata": {
    "dotnet_interactive": {
     "language": "pwsh"
    },
    "vscode": {
     "languageId": "dotnet-interactive.pwsh"
    }
   },
   "outputs": [],
   "source": [
    "git checkout -"
   ]
  },
  {
   "cell_type": "markdown",
   "metadata": {},
   "source": [
    "- If you rename a directory or file, git will think your file was deleted and a new one was created.\n",
    "- This will erase your files' git history.\n",
    "- You can avoid this by using the ```git mv``` command to rename the file/directory."
   ]
  },
  {
   "cell_type": "code",
   "execution_count": null,
   "metadata": {
    "dotnet_interactive": {
     "language": "pwsh"
    },
    "vscode": {
     "languageId": "dotnet-interactive.pwsh"
    }
   },
   "outputs": [],
   "source": [
    "git mv ./Emperor-Marty.txt ./God-Emperor-Marty.txt"
   ]
  },
  {
   "cell_type": "markdown",
   "metadata": {},
   "source": [
    "- You can quickly delete a GitHub repo with ```gh repo delete```"
   ]
  },
  {
   "cell_type": "code",
   "execution_count": null,
   "metadata": {
    "dotnet_interactive": {
     "language": "pwsh"
    },
    "vscode": {
     "languageId": "dotnet-interactive.pwsh"
    }
   },
   "outputs": [],
   "source": [
    "gh repo delete meaningless-struggle --confirm"
   ]
  },
  {
   "cell_type": "markdown",
   "metadata": {},
   "source": [
    "## References\n",
    "---\n",
    "This was a brief overview of some of the basic things you can do with the git and GitHub CLI. Check out these resources for more.\n",
    "- [official git manual](https://git-scm.com/docs)\n",
    "- [official GitHub CLI manual](https://cli.github.com/manual/)\n"
   ]
  }
 ],
 "metadata": {
  "kernelspec": {
   "display_name": ".NET (PowerShell)",
   "language": "PowerShell",
   "name": ".net-powershell"
  },
  "language_info": {
   "name": "PowerShell"
  },
  "orig_nbformat": 4
 },
 "nbformat": 4,
 "nbformat_minor": 2
}
