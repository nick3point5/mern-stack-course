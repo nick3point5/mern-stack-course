{
 "cells": [
  {
   "cell_type": "markdown",
   "metadata": {},
   "source": [
    "# Terminal Basics\n",
    "---"
   ]
  },
  {
   "cell_type": "markdown",
   "metadata": {},
   "source": [
    "## Intro\n",
    "The way most people use their computer is with Graphical User Interfaces (GUIs). But, underneath the UI the program that you use are running system commands to your computer. Using a terminal you can interact with your system in a deeper level. Learn to use your terminal is essential in a developer tool kit. This lesson will be about understanding and using basic terminal commands. The topic in this lesson are the following:\n",
    "- Opening a terminal\n",
    "- Changing directories\n",
    "- Listing files/directories\n",
    "- Creating new files/directories\n",
    "- Moving files/directories\n",
    "- Renaming files/directories\n",
    "- Removing files/directories\n",
    "- Installing applications"
   ]
  },
  {
   "cell_type": "markdown",
   "metadata": {},
   "source": [
    "### Getting to your terminal\n",
    "---\n",
    "First let's get to your terminal. This is a gaming server so I expect that you are running windows and with be Powershell the default terminal that comes pre-installed to modern windows. I recommend installing [Windows Terminal](https://apps.microsoft.com/store/detail/windows-terminal/9N0DX20HK701?hl=en-us&gl=US) because the default powershell terminal looks gross to me personally and there are some very convenience feature the default does not provide.\n",
    "\n",
    "- Let's navigate to this directory (folder) that has this lesson in it. Open your file explorer and take note of the address bar.\n",
    "![](../../image/explorer.png)\n",
    "\n",
    "- If you click on the address bar you'll get file path like this:\n",
    "**C:\\Users\\ktt44\\Documents\\code\\teaching\\mern\\1-basics\\1-Termial**\n",
    "![](../../image/explorer-selected.png)\n",
    "\n",
    "- Go ahead and copy that down. Now by hitting windows key open the windows start menu and type in \"terminal\".\n",
    "![](../../image/Terminal-start.png)\n",
    "\n",
    "- Now in the terminal type \"cd\" (change directory) and then the file path with copy before then hit the enter key. An example is provided below:\n"
   ]
  },
  {
   "cell_type": "markdown",
   "metadata": {},
   "source": [
    "### Navigating the file system\n",
    "---\n",
    "- Now in the terminal type \"cd\" (change directory) and then the file path with copy before then hit the enter key. An example is provided below:"
   ]
  },
  {
   "cell_type": "code",
   "execution_count": 10,
   "metadata": {
    "vscode": {
     "languageId": "powershell"
    }
   },
   "outputs": [],
   "source": [
    "cd C:\\Users\\ktt44\\Documents\\code\\teaching\\mern\\1-basics\\1-Termial"
   ]
  },
  {
   "cell_type": "markdown",
   "metadata": {},
   "source": [
    "###### *if one of your directory has a space in it's name you will need to wrap the path in quotes [cd \"C:\\Users\\ktt44\\Documents\\code\\teaching\\mern\\1-basics\\1-Termial\"]"
   ]
  },
  {
   "cell_type": "markdown",
   "metadata": {},
   "source": [
    "- You are now located in the directory in your terminal. \n",
    "###### *Quick tip you can actually right click in the explorer and there will be an option to Open in terminal to start your in that directory.\n",
    "- Now that we know how to cd let's talk about ls (list)"
   ]
  },
  {
   "cell_type": "code",
   "execution_count": 11,
   "metadata": {
    "vscode": {
     "languageId": "powershell"
    }
   },
   "outputs": [
    {
     "name": "stdout",
     "output_type": "stream",
     "text": [
      "\n",
      "    Directory: C:\\Users\\ktt44\\Documents\\code\\teaching\\mern\\1-basics\\1-Termial\n",
      "\n",
      "\u001b[32;1mMode                 LastWriteTime         Length Name\u001b[0m\n",
      "\u001b[32;1m----                 -------------         ------ ----\u001b[0m\n",
      "d----            6/4/2022  7:56 PM                house\n",
      "d----            6/4/2022  9:51 PM                shed\n",
      "-a---            6/4/2022 10:25 PM           6455 1-Termial.ipynb\n",
      "\n"
     ]
    }
   ],
   "source": [
    "ls"
   ]
  },
  {
   "cell_type": "markdown",
   "metadata": {},
   "source": [
    "- cool, so we have a house and a shed let's go to the shed. But, typing out the absolute path *C:\\Users\\ktt44\\Documents\\code\\teaching\\mern\\1-basics\\1-Termial\\shed* is a bit of a hassle. We can shorten it to **./shed**. The dot (.) is a short hand way of saying the current directory we are in *C:\\Users\\ktt44\\Documents\\code\\teaching\\mern\\1-basics\\1-Termial*. Let's take a look inside the shed"
   ]
  },
  {
   "cell_type": "code",
   "execution_count": 12,
   "metadata": {
    "vscode": {
     "languageId": "powershell"
    }
   },
   "outputs": [
    {
     "name": "stdout",
     "output_type": "stream",
     "text": [
      "\n",
      "    Directory: C:\\Users\\ktt44\\Documents\\code\\teaching\\mern\\1-basics\\1-Termial\\shed\n",
      "\n",
      "\u001b[32;1mMode                 LastWriteTime         Length Name\u001b[0m\n",
      "\u001b[32;1m----                 -------------         ------ ----\u001b[0m\n",
      "-a---            6/4/2022 10:18 PM             11 hammer.txt\n",
      "-a---            6/4/2022 10:19 PM             12 saw.txt\n",
      "-a---            6/4/2022 10:19 PM             51 wrench.txt\n",
      "\n"
     ]
    }
   ],
   "source": [
    "cd ./shed\n",
    "ls"
   ]
  },
  {
   "cell_type": "markdown",
   "metadata": {},
   "source": [
    "- Let's leave the shed. Going back up the directory also has a shortcut **..**"
   ]
  },
  {
   "cell_type": "code",
   "execution_count": 13,
   "metadata": {
    "vscode": {
     "languageId": "powershell"
    }
   },
   "outputs": [
    {
     "name": "stdout",
     "output_type": "stream",
     "text": [
      "\n",
      "    Directory: C:\\Users\\ktt44\\Documents\\code\\teaching\\mern\\1-basics\\1-Termial\n",
      "\n",
      "\u001b[32;1mMode                 LastWriteTime         Length Name\u001b[0m\n",
      "\u001b[32;1m----                 -------------         ------ ----\u001b[0m\n",
      "d----            6/4/2022  7:56 PM                house\n",
      "d----            6/4/2022  9:51 PM                shed\n",
      "-a---            6/4/2022 10:25 PM           6458 1-Termial.ipynb\n",
      "\n"
     ]
    }
   ],
   "source": [
    "cd ..\n",
    "ls"
   ]
  },
  {
   "cell_type": "markdown",
   "metadata": {},
   "source": [
    "- Let's go into the house now. Did you know that you can type the first letter and hit tab key to auto complete what's in your current directory?"
   ]
  },
  {
   "cell_type": "code",
   "execution_count": 14,
   "metadata": {
    "vscode": {
     "languageId": "powershell"
    }
   },
   "outputs": [
    {
     "name": "stdout",
     "output_type": "stream",
     "text": [
      "\n",
      "    Directory: C:\\Users\\ktt44\\Documents\\code\\teaching\\mern\\1-basics\\1-Termial\\house\n",
      "\n",
      "\u001b[32;1mMode                 LastWriteTime         Length Name\u001b[0m\n",
      "\u001b[32;1m----                 -------------         ------ ----\u001b[0m\n",
      "d----            6/4/2022  7:58 PM                living-room\n",
      "\n"
     ]
    }
   ],
   "source": [
    "cd ./house\n",
    "ls"
   ]
  },
  {
   "cell_type": "markdown",
   "metadata": {},
   "source": [
    "- Let's keep going"
   ]
  },
  {
   "cell_type": "code",
   "execution_count": 15,
   "metadata": {
    "vscode": {
     "languageId": "powershell"
    }
   },
   "outputs": [
    {
     "name": "stdout",
     "output_type": "stream",
     "text": [
      "\n",
      "    Directory: C:\\Users\\ktt44\\Documents\\code\\teaching\\mern\\1-basics\\1-Termial\\house\\living-room\n",
      "\n",
      "\u001b[32;1mMode                 LastWriteTime         Length Name\u001b[0m\n",
      "\u001b[32;1m----                 -------------         ------ ----\u001b[0m\n",
      "d----            6/4/2022  8:03 PM                bedroom\n",
      "d----            6/4/2022  8:55 PM                dining-room\n",
      "d----            6/4/2022  8:00 PM                kitchen\n",
      "\n"
     ]
    }
   ],
   "source": [
    "cd living-room\n",
    "ls"
   ]
  },
  {
   "cell_type": "markdown",
   "metadata": {},
   "source": [
    "- I'm feeling hungry let's go into the kitchen and make some food"
   ]
  },
  {
   "cell_type": "code",
   "execution_count": 16,
   "metadata": {
    "vscode": {
     "languageId": "powershell"
    }
   },
   "outputs": [
    {
     "name": "stdout",
     "output_type": "stream",
     "text": [
      "\n",
      "    Directory: \n",
      "C:\\Users\\ktt44\\Documents\\code\\teaching\\mern\\1-basics\\1-Termial\\house\\living-room\\kitchen\n",
      "\n",
      "\u001b[32;1mMode                 LastWriteTime         Length Name\u001b[0m\n",
      "\u001b[32;1m----                 -------------         ------ ----\u001b[0m\n",
      "d----            6/4/2022  8:02 PM                fridge\n",
      "d----            6/4/2022  8:59 PM                oven\n",
      "\n"
     ]
    }
   ],
   "source": [
    "cd kitchen\n",
    "ls"
   ]
  },
  {
   "cell_type": "markdown",
   "metadata": {},
   "source": [
    "- Let's check out the fridge"
   ]
  },
  {
   "cell_type": "code",
   "execution_count": 17,
   "metadata": {
    "vscode": {
     "languageId": "powershell"
    }
   },
   "outputs": [
    {
     "name": "stdout",
     "output_type": "stream",
     "text": [
      "\n",
      "    Directory: \n",
      "C:\\Users\\ktt44\\Documents\\code\\teaching\\mern\\1-basics\\1-Termial\\house\\living-room\\kitchen\\fridge\n",
      "\n",
      "\u001b[32;1mMode                 LastWriteTime         Length Name\u001b[0m\n",
      "\u001b[32;1m----                 -------------         ------ ----\u001b[0m\n",
      "-a---            6/4/2022  8:02 PM              0 Turkey.txt\n",
      "\n"
     ]
    }
   ],
   "source": [
    "cd fridge\n",
    "ls"
   ]
  },
  {
   "cell_type": "markdown",
   "metadata": {},
   "source": [
    "- Let's move that turkey.txt to the oven we saw earlier. We can move items using the **mv** command."
   ]
  },
  {
   "cell_type": "code",
   "execution_count": null,
   "metadata": {
    "vscode": {
     "languageId": "powershell"
    }
   },
   "outputs": [],
   "source": [
    "mv turkey.txt ../oven"
   ]
  }
 ],
 "metadata": {
  "interpreter": {
   "hash": "369f2c481f4da34e4445cda3fffd2e751bd1c4d706f27375911949ba6bb62e1c"
  },
  "kernelspec": {
   "display_name": ".NET (PowerShell)",
   "language": "PowerShell",
   "name": ".net-powershell"
  },
  "language_info": {
   "file_extension": ".ps1",
   "mimetype": "text/x-powershell",
   "name": "PowerShell",
   "pygments_lexer": "powershell",
   "version": "7.0"
  },
  "orig_nbformat": 4
 },
 "nbformat": 4,
 "nbformat_minor": 2
}
