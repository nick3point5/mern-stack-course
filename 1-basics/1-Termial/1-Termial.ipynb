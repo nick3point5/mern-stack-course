{
 "cells": [
  {
   "cell_type": "markdown",
   "metadata": {},
   "source": [
    "# Terminal Basics\n",
    "---"
   ]
  },
  {
   "cell_type": "markdown",
   "metadata": {},
   "source": [
    "## Intro\n",
    "The way most people use their computer is with Graphical User Interfaces (GUIs). But, underneath the UI the program that you use are running system commands to your computer. Using a terminal you can interact with your system in a deeper level. Learn to use your terminal is essential in a developer tool kit. This lesson will be about understanding and using basic terminal commands. The topic in this lesson are the following:\n",
    "- Opening a terminal\n",
    "- Changing directories\n",
    "- Listing files/directories\n",
    "- Creating new files/directories\n",
    "- Moving files/directories\n",
    "- Renaming files/directories\n",
    "- Removing files/directories\n",
    "- Installing applications"
   ]
  },
  {
   "cell_type": "markdown",
   "metadata": {},
   "source": [
    "### Getting to your terminal\n",
    "---\n",
    "First let's get to your terminal. This is a gaming server so I expect that you are running windows and with be Powershell the default terminal that comes pre-installed to modern windows. I recommend installing [Windows Terminal](https://apps.microsoft.com/store/detail/windows-terminal/9N0DX20HK701?hl=en-us&gl=US) because the default powershell terminal looks gross to me personally and there are some very convenience feature the default does not provide.\n",
    "\n",
    "Let's navigate to this directory (folder) that has this lesson in it. Open your file explorer and take note of the address bar\n",
    "![1](file:///c%3A/Users/ktt44/Documents/code/teaching/mern/image/explorer.png)"
   ]
  },
  {
   "cell_type": "code",
   "execution_count": null,
   "metadata": {
    "vscode": {
     "languageId": "powershell"
    }
   },
   "outputs": [],
   "source": []
  }
 ],
 "metadata": {
  "interpreter": {
   "hash": "369f2c481f4da34e4445cda3fffd2e751bd1c4d706f27375911949ba6bb62e1c"
  },
  "kernelspec": {
   "display_name": "Javascript (Node.js)",
   "language": "javascript",
   "name": "javascript"
  },
  "language_info": {
   "file_extension": ".js",
   "mimetype": "application/javascript",
   "name": "javascript",
   "version": "17.9.0"
  },
  "orig_nbformat": 4
 },
 "nbformat": 4,
 "nbformat_minor": 2
}
