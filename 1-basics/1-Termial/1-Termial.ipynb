{
 "cells": [
  {
   "cell_type": "markdown",
   "metadata": {},
   "source": [
    "# Terminal Basics\n",
    "---"
   ]
  },
  {
   "cell_type": "markdown",
   "metadata": {},
   "source": [
    "## Intro\n",
    "The way most people use their computer is with Graphical User Interfaces (GUIs). But, underneath the UI the program that you use are running system commands to your computer. Using a terminal, sometimes refer to as the command-line (cli), you can interact with your system in a deeper level. Learn to use your terminal is essential in a developer tool kit. This lesson will be about understanding and using basic terminal commands. The topic in this lesson are the following:\n",
    "- Opening a terminal\n",
    "- Changing directories\n",
    "- Listing files/directories\n",
    "- Creating new files/directories\n",
    "- Moving files/directories\n",
    "- Renaming files/directories\n",
    "- Removing files/directories\n",
    "- Installing applications"
   ]
  },
  {
   "cell_type": "markdown",
   "metadata": {},
   "source": [
    "#### Getting to your terminal\n",
    "---\n",
    "First let's get to your terminal. This is a gaming server 🎮 so I expect that you are running windows and with be Powershell the default terminal that comes pre-installed to modern windows. I recommend installing [Windows Terminal](https://apps.microsoft.com/store/detail/windows-terminal/9N0DX20HK701?hl=en-us&gl=US) because the default powershell terminal looks gross to me personally and there are some very convenience feature the default does not provide.\n",
    "\n",
    "- Let's navigate to this directory (folder) that has this lesson in it. Open your file explorer and take note of the address bar.\n",
    "![](../../image/explorer.png)\n",
    "\n",
    "- If you click on the address bar you'll get file path like this:\n",
    "**C:\\Users\\ktt44\\Documents\\code\\teaching\\mern\\1-basics\\1-Termial**\n",
    "![](../../image/explorer-selected.png)\n",
    "\n",
    "- Go ahead and copy that down. Now by hitting windows key open the windows start menu and type in \"terminal\".\n",
    "![](../../image/Terminal-start.png)\n",
    "\n",
    "- Now in the terminal type \"cd\" (change directory) and then the file path with copy before then hit the enter key. An example is provided below:\n"
   ]
  },
  {
   "cell_type": "markdown",
   "metadata": {},
   "source": [
    "### Navigating the file system\n",
    "---\n",
    "- Now in the terminal type \"cd\" (change directory) and then the file path with copy before then hit the enter key. An example is provided below:"
   ]
  },
  {
   "cell_type": "code",
   "execution_count": 1,
   "metadata": {
    "dotnet_interactive": {
     "language": "pwsh"
    },
    "vscode": {
     "languageId": "powershell"
    }
   },
   "outputs": [
    {
     "data": {
      "text/html": [
       "\r\n",
       "<div>\r\n",
       "    <div id='dotnet-interactive-this-cell-28188.Microsoft.DotNet.Interactive.Http.HttpPort' style='display: none'>\r\n",
       "        The below script needs to be able to find the current output cell; this is an easy method to get it.\r\n",
       "    </div>\r\n",
       "    <script type='text/javascript'>\r\n",
       "async function probeAddresses(probingAddresses) {\r\n",
       "    function timeout(ms, promise) {\r\n",
       "        return new Promise(function (resolve, reject) {\r\n",
       "            setTimeout(function () {\r\n",
       "                reject(new Error('timeout'))\r\n",
       "            }, ms)\r\n",
       "            promise.then(resolve, reject)\r\n",
       "        })\r\n",
       "    }\r\n",
       "\r\n",
       "    if (Array.isArray(probingAddresses)) {\r\n",
       "        for (let i = 0; i < probingAddresses.length; i++) {\r\n",
       "\r\n",
       "            let rootUrl = probingAddresses[i];\r\n",
       "\r\n",
       "            if (!rootUrl.endsWith('/')) {\r\n",
       "                rootUrl = `${rootUrl}/`;\r\n",
       "            }\r\n",
       "\r\n",
       "            try {\r\n",
       "                let response = await timeout(1000, fetch(`${rootUrl}discovery`, {\r\n",
       "                    method: 'POST',\r\n",
       "                    cache: 'no-cache',\r\n",
       "                    mode: 'cors',\r\n",
       "                    timeout: 1000,\r\n",
       "                    headers: {\r\n",
       "                        'Content-Type': 'text/plain'\r\n",
       "                    },\r\n",
       "                    body: probingAddresses[i]\r\n",
       "                }));\r\n",
       "\r\n",
       "                if (response.status == 200) {\r\n",
       "                    return rootUrl;\r\n",
       "                }\r\n",
       "            }\r\n",
       "            catch (e) { }\r\n",
       "        }\r\n",
       "    }\r\n",
       "}\r\n",
       "\r\n",
       "function loadDotnetInteractiveApi() {\r\n",
       "    probeAddresses([\"http://172.18.64.1:1002/\", \"http://192.168.1.134:1002/\", \"http://192.168.56.1:1002/\", \"http://192.168.1.117:1002/\", \"http://127.0.0.1:1002/\"])\r\n",
       "        .then((root) => {\r\n",
       "        // use probing to find host url and api resources\r\n",
       "        // load interactive helpers and language services\r\n",
       "        let dotnetInteractiveRequire = require.config({\r\n",
       "        context: '28188.Microsoft.DotNet.Interactive.Http.HttpPort',\r\n",
       "                paths:\r\n",
       "            {\r\n",
       "                'dotnet-interactive': `${root}resources`\r\n",
       "                }\r\n",
       "        }) || require;\r\n",
       "\r\n",
       "            window.dotnetInteractiveRequire = dotnetInteractiveRequire;\r\n",
       "\r\n",
       "            window.configureRequireFromExtension = function(extensionName, extensionCacheBuster) {\r\n",
       "                let paths = {};\r\n",
       "                paths[extensionName] = `${root}extensions/${extensionName}/resources/`;\r\n",
       "                \r\n",
       "                let internalRequire = require.config({\r\n",
       "                    context: extensionCacheBuster,\r\n",
       "                    paths: paths,\r\n",
       "                    urlArgs: `cacheBuster=${extensionCacheBuster}`\r\n",
       "                    }) || require;\r\n",
       "\r\n",
       "                return internalRequire\r\n",
       "            };\r\n",
       "        \r\n",
       "            dotnetInteractiveRequire([\r\n",
       "                    'dotnet-interactive/dotnet-interactive'\r\n",
       "                ],\r\n",
       "                function (dotnet) {\r\n",
       "                    dotnet.init(window);\r\n",
       "                },\r\n",
       "                function (error) {\r\n",
       "                    console.log(error);\r\n",
       "                }\r\n",
       "            );\r\n",
       "        })\r\n",
       "        .catch(error => {console.log(error);});\r\n",
       "    }\r\n",
       "\r\n",
       "// ensure `require` is available globally\r\n",
       "if ((typeof(require) !==  typeof(Function)) || (typeof(require.config) !== typeof(Function))) {\r\n",
       "    let require_script = document.createElement('script');\r\n",
       "    require_script.setAttribute('src', 'https://cdnjs.cloudflare.com/ajax/libs/require.js/2.3.6/require.min.js');\r\n",
       "    require_script.setAttribute('type', 'text/javascript');\r\n",
       "    \r\n",
       "    \r\n",
       "    require_script.onload = function() {\r\n",
       "        loadDotnetInteractiveApi();\r\n",
       "    };\r\n",
       "\r\n",
       "    document.getElementsByTagName('head')[0].appendChild(require_script);\r\n",
       "}\r\n",
       "else {\r\n",
       "    loadDotnetInteractiveApi();\r\n",
       "}\r\n",
       "\r\n",
       "    </script>\r\n",
       "</div>"
      ]
     },
     "metadata": {},
     "output_type": "display_data"
    }
   ],
   "source": [
    "cd C:\\Users\\ktt44\\Documents\\code\\teaching\\mern\\1-basics\\1-Termial"
   ]
  },
  {
   "cell_type": "markdown",
   "metadata": {},
   "source": [
    "###### *if one of your directory has a space in it's name you will need to wrap the path in quotes [cd \"C:\\Users\\ktt44\\Documents\\code\\teaching\\mern\\1-basics\\1-Termial\"]"
   ]
  },
  {
   "cell_type": "markdown",
   "metadata": {},
   "source": [
    "- You are now located in the directory in your terminal. \n",
    "###### *Quick tip you can actually right click in the explorer and there will be an option to Open in terminal to start your in that directory."
   ]
  },
  {
   "cell_type": "markdown",
   "metadata": {},
   "source": [
    "#### Listing files/directories\n",
    "- Now that we know how to cd let's talk about ls (list). ls with list all the files and directories in the current directory your terminal is in."
   ]
  },
  {
   "cell_type": "code",
   "execution_count": 2,
   "metadata": {
    "dotnet_interactive": {
     "language": "pwsh"
    },
    "vscode": {
     "languageId": "powershell"
    }
   },
   "outputs": [
    {
     "name": "stdout",
     "output_type": "stream",
     "text": [
      "\n",
      "    Directory: C:\\Users\\ktt44\\Documents\\code\\teaching\\mern\\1-basics\\1-Termial\n",
      "\n",
      "\u001b[32;1mMode                 LastWriteTime         Length Name\u001b[0m\n",
      "\u001b[32;1m----                 -------------         ------ ----\u001b[0m\n",
      "d----            6/5/2022 10:58 AM                .ipynb_checkpoints\n",
      "d----            6/4/2022  7:56 PM                house\n",
      "d----            6/4/2022  9:51 PM                shed\n",
      "-a---            6/5/2022 11:08 AM          26960 1-Termial.ipynb\n",
      "\n"
     ]
    }
   ],
   "source": [
    "ls"
   ]
  },
  {
   "cell_type": "markdown",
   "metadata": {},
   "source": [
    "- cool, so we have a house and a shed let's go to the shed. But, typing out the absolute path *C:\\Users\\ktt44\\Documents\\code\\teaching\\mern\\1-basics\\1-Termial\\shed* is a bit of a hassle. We can shorten it to **./shed**. The dot (.) is a short hand way of saying the current directory we are in *C:\\Users\\ktt44\\Documents\\code\\teaching\\mern\\1-basics\\1-Termial*. Let's take a look inside the shed"
   ]
  },
  {
   "cell_type": "code",
   "execution_count": 3,
   "metadata": {
    "dotnet_interactive": {
     "language": "pwsh"
    },
    "vscode": {
     "languageId": "powershell"
    }
   },
   "outputs": [
    {
     "name": "stdout",
     "output_type": "stream",
     "text": [
      "\n",
      "    Directory: C:\\Users\\ktt44\\Documents\\code\\teaching\\mern\\1-basics\\1-Termial\\shed\n",
      "\n",
      "\u001b[32;1mMode                 LastWriteTime         Length Name\u001b[0m\n",
      "\u001b[32;1m----                 -------------         ------ ----\u001b[0m\n",
      "-a---            6/4/2022 10:18 PM             11 hammer.txt\n",
      "-a---            6/4/2022 10:19 PM             12 saw.txt\n",
      "-a---            6/4/2022 10:19 PM             51 wrench.txt\n",
      "\n"
     ]
    }
   ],
   "source": [
    "cd ./shed\n",
    "ls"
   ]
  },
  {
   "cell_type": "markdown",
   "metadata": {},
   "source": [
    "- Let's leave the shed. Going back up the directory also has a shortcut **..**"
   ]
  },
  {
   "cell_type": "code",
   "execution_count": 4,
   "metadata": {
    "dotnet_interactive": {
     "language": "pwsh"
    },
    "vscode": {
     "languageId": "powershell"
    }
   },
   "outputs": [
    {
     "name": "stdout",
     "output_type": "stream",
     "text": [
      "\n",
      "    Directory: C:\\Users\\ktt44\\Documents\\code\\teaching\\mern\\1-basics\\1-Termial\n",
      "\n",
      "\u001b[32;1mMode                 LastWriteTime         Length Name\u001b[0m\n",
      "\u001b[32;1m----                 -------------         ------ ----\u001b[0m\n",
      "d----            6/5/2022 10:58 AM                .ipynb_checkpoints\n",
      "d----            6/4/2022  7:56 PM                house\n",
      "d----            6/4/2022  9:51 PM                shed\n",
      "-a---            6/5/2022 11:08 AM          27039 1-Termial.ipynb\n",
      "\n"
     ]
    }
   ],
   "source": [
    "cd ..\n",
    "ls"
   ]
  },
  {
   "cell_type": "markdown",
   "metadata": {},
   "source": [
    "- Let's go into the house now. Did you know that you can type the first letter and hit tab key to auto complete what's in your current directory?"
   ]
  },
  {
   "cell_type": "code",
   "execution_count": 5,
   "metadata": {
    "dotnet_interactive": {
     "language": "pwsh"
    },
    "vscode": {
     "languageId": "powershell"
    }
   },
   "outputs": [
    {
     "name": "stdout",
     "output_type": "stream",
     "text": [
      "\n",
      "    Directory: C:\\Users\\ktt44\\Documents\\code\\teaching\\mern\\1-basics\\1-Termial\\house\n",
      "\n",
      "\u001b[32;1mMode                 LastWriteTime         Length Name\u001b[0m\n",
      "\u001b[32;1m----                 -------------         ------ ----\u001b[0m\n",
      "d----            6/4/2022 10:46 PM                living-room\n",
      "\n"
     ]
    }
   ],
   "source": [
    "cd ./house\n",
    "ls"
   ]
  },
  {
   "cell_type": "markdown",
   "metadata": {},
   "source": [
    "- Let's keep going"
   ]
  },
  {
   "cell_type": "code",
   "execution_count": 6,
   "metadata": {
    "dotnet_interactive": {
     "language": "pwsh"
    },
    "vscode": {
     "languageId": "powershell"
    }
   },
   "outputs": [
    {
     "name": "stdout",
     "output_type": "stream",
     "text": [
      "\n",
      "    Directory: C:\\Users\\ktt44\\Documents\\code\\teaching\\mern\\1-basics\\1-Termial\\house\\living-room\n",
      "\n",
      "\u001b[32;1mMode                 LastWriteTime         Length Name\u001b[0m\n",
      "\u001b[32;1m----                 -------------         ------ ----\u001b[0m\n",
      "d----            6/4/2022 10:47 PM                backdoor\n",
      "d----            6/4/2022  8:03 PM                bedroom\n",
      "d----            6/4/2022 11:19 PM                dining-room\n",
      "d----            6/4/2022  8:00 PM                kitchen\n",
      "\n"
     ]
    }
   ],
   "source": [
    "cd living-room\n",
    "ls"
   ]
  },
  {
   "cell_type": "markdown",
   "metadata": {},
   "source": [
    "- I'm feeling hungry let's go into the kitchen and make some food"
   ]
  },
  {
   "cell_type": "code",
   "execution_count": 7,
   "metadata": {
    "dotnet_interactive": {
     "language": "pwsh"
    },
    "vscode": {
     "languageId": "powershell"
    }
   },
   "outputs": [
    {
     "name": "stdout",
     "output_type": "stream",
     "text": [
      "\n",
      "    Directory: \n",
      "C:\\Users\\ktt44\\Documents\\code\\teaching\\mern\\1-basics\\1-Termial\\house\\living-room\\kitchen\n",
      "\n",
      "\u001b[32;1mMode                 LastWriteTime         Length Name\u001b[0m\n",
      "\u001b[32;1m----                 -------------         ------ ----\u001b[0m\n",
      "d----            6/4/2022 11:39 PM                fridge\n",
      "d----            6/4/2022 11:39 PM                oven\n",
      "\n"
     ]
    }
   ],
   "source": [
    "cd kitchen\n",
    "ls"
   ]
  },
  {
   "cell_type": "markdown",
   "metadata": {},
   "source": [
    "- Let's check out the fridge"
   ]
  },
  {
   "cell_type": "code",
   "execution_count": 8,
   "metadata": {
    "dotnet_interactive": {
     "language": "pwsh"
    },
    "vscode": {
     "languageId": "powershell"
    }
   },
   "outputs": [
    {
     "name": "stdout",
     "output_type": "stream",
     "text": [
      "\n",
      "    Directory: \n",
      "C:\\Users\\ktt44\\Documents\\code\\teaching\\mern\\1-basics\\1-Termial\\house\\living-room\\kitchen\\fridge\n",
      "\n",
      "\u001b[32;1mMode                 LastWriteTime         Length Name\u001b[0m\n",
      "\u001b[32;1m----                 -------------         ------ ----\u001b[0m\n",
      "-a---            6/4/2022 11:17 PM             33 grape.txt\n",
      "-a---            6/4/2022 10:37 PM              9 turkey.txt\n",
      "\n"
     ]
    }
   ],
   "source": [
    "cd fridge\n",
    "ls"
   ]
  },
  {
   "cell_type": "markdown",
   "metadata": {},
   "source": [
    "#### Creating new files\n",
    "- The fridge is kind of empty let's make a new item in the fridge with the **ni** (New-Item) command."
   ]
  },
  {
   "cell_type": "code",
   "execution_count": 9,
   "metadata": {
    "dotnet_interactive": {
     "language": "pwsh"
    },
    "vscode": {
     "languageId": "powershell"
    }
   },
   "outputs": [
    {
     "name": "stdout",
     "output_type": "stream",
     "text": [
      "\n",
      "    Directory: \n",
      "C:\\Users\\ktt44\\Documents\\code\\teaching\\mern\\1-basics\\1-Termial\\house\\living-room\\kitchen\\fridge\n",
      "\n",
      "\u001b[32;1mMode                 LastWriteTime         Length Name\u001b[0m\n",
      "\u001b[32;1m----                 -------------         ------ ----\u001b[0m\n",
      "-a---            6/5/2022 11:08 AM              0 milk.txt\n",
      "\n"
     ]
    }
   ],
   "source": [
    "ni milk.txt"
   ]
  },
  {
   "cell_type": "markdown",
   "metadata": {},
   "source": [
    "#### Moving files/directories\n",
    "- Let's move that turkey.txt to the oven we saw earlier. We can move items using the **mv** (move) command."
   ]
  },
  {
   "cell_type": "code",
   "execution_count": 10,
   "metadata": {
    "dotnet_interactive": {
     "language": "pwsh"
    },
    "vscode": {
     "languageId": "powershell"
    }
   },
   "outputs": [
    {
     "name": "stdout",
     "output_type": "stream",
     "text": [
      "\n",
      "    Directory: \n",
      "C:\\Users\\ktt44\\Documents\\code\\teaching\\mern\\1-basics\\1-Termial\\house\\living-room\\kitchen\\oven\n",
      "\n",
      "\u001b[32;1mMode                 LastWriteTime         Length Name\u001b[0m\n",
      "\u001b[32;1m----                 -------------         ------ ----\u001b[0m\n",
      "-a---            6/4/2022  8:59 PM              0 happy-fella.txt\n",
      "-a---            6/4/2022 10:37 PM              9 turkey.txt\n",
      "\n"
     ]
    }
   ],
   "source": [
    "mv turkey.txt ../oven\n",
    "cd ../oven\n",
    "ls"
   ]
  },
  {
   "cell_type": "markdown",
   "metadata": {},
   "source": [
    "- Let's wait in the dining room for the turkey to cook."
   ]
  },
  {
   "cell_type": "code",
   "execution_count": 11,
   "metadata": {
    "dotnet_interactive": {
     "language": "pwsh"
    },
    "vscode": {
     "languageId": "powershell"
    }
   },
   "outputs": [
    {
     "name": "stdout",
     "output_type": "stream",
     "text": [
      "\n",
      "    Directory: \n",
      "C:\\Users\\ktt44\\Documents\\code\\teaching\\mern\\1-basics\\1-Termial\\house\\living-room\\dining-room\n",
      "\n",
      "\u001b[32;1mMode                 LastWriteTime         Length Name\u001b[0m\n",
      "\u001b[32;1m----                 -------------         ------ ----\u001b[0m\n",
      "-a---            6/4/2022 11:09 PM             14 dead-body.txt\n",
      "\n"
     ]
    }
   ],
   "source": [
    "cd ../../dining-room\n",
    "ls"
   ]
  },
  {
   "cell_type": "markdown",
   "metadata": {},
   "source": [
    "#### Showing sub-directories\n",
    "- oh no, there's a dead body in our house. Let's go back to the living room and look around. We can print the directory structure with the **tree** command."
   ]
  },
  {
   "cell_type": "code",
   "execution_count": 12,
   "metadata": {
    "dotnet_interactive": {
     "language": "pwsh"
    },
    "vscode": {
     "languageId": "powershell"
    }
   },
   "outputs": [
    {
     "name": "stdout",
     "output_type": "stream",
     "text": [
      "Folder PATH listing for volume Windows\n",
      "Volume serial number is 82F3-B997\n",
      "C:.\n",
      "����backdoor\n",
      "�   ����in-that-churchyard\n",
      "����bedroom\n",
      "�   ����bathroom\n",
      "�   �   ����acid-filled-bathtub\n",
      "�   ����closet\n",
      "����dining-room\n",
      "����kitchen\n",
      "    ����fridge\n",
      "    ����oven\n"
     ]
    }
   ],
   "source": [
    "cd ..\n",
    "tree"
   ]
  },
  {
   "cell_type": "markdown",
   "metadata": {},
   "source": [
    "- Lucky! We found a bathtub filled about acid. Let's put the body in the bathtub."
   ]
  },
  {
   "cell_type": "code",
   "execution_count": 13,
   "metadata": {
    "dotnet_interactive": {
     "language": "pwsh"
    },
    "vscode": {
     "languageId": "powershell"
    }
   },
   "outputs": [
    {
     "name": "stdout",
     "output_type": "stream",
     "text": [
      "\n",
      "    Directory: C:\\Users\\ktt44\\Documents\\code\\teaching\\mern\\1-basics\\1-Termial\\house\\living-room\\bed\n",
      "room\\bathroom\\acid-filled-bathtub\n",
      "\n",
      "\u001b[32;1mMode                 LastWriteTime         Length Name\u001b[0m\n",
      "\u001b[32;1m----                 -------------         ------ ----\u001b[0m\n",
      "-a---            6/4/2022 11:35 PM             12 acid.txt\n",
      "-a---            6/4/2022 11:09 PM             14 dead-body.txt\n",
      "\n"
     ]
    }
   ],
   "source": [
    "mv ./dining-room/dead-body.txt ./bedroom/bathroom/acid-filled-bathtub\n",
    "cd ./bedroom/bathroom/acid-filled-bathtub\n",
    "ls"
   ]
  },
  {
   "cell_type": "markdown",
   "metadata": {},
   "source": [
    "#### Removing files/directories\n",
    "- We can remove the file with the rm (remove) command."
   ]
  },
  {
   "cell_type": "code",
   "execution_count": 14,
   "metadata": {
    "dotnet_interactive": {
     "language": "pwsh"
    },
    "vscode": {
     "languageId": "powershell"
    }
   },
   "outputs": [
    {
     "name": "stdout",
     "output_type": "stream",
     "text": [
      "\n",
      "    Directory: C:\\Users\\ktt44\\Documents\\code\\teaching\\mern\\1-basics\\1-Termial\\house\\living-room\\bed\n",
      "room\\bathroom\\acid-filled-bathtub\n",
      "\n",
      "\u001b[32;1mMode                 LastWriteTime         Length Name\u001b[0m\n",
      "\u001b[32;1m----                 -------------         ------ ----\u001b[0m\n",
      "-a---            6/4/2022 11:35 PM             12 acid.txt\n",
      "\n"
     ]
    }
   ],
   "source": [
    "rm dead-body.txt\n",
    "ls"
   ]
  },
  {
   "cell_type": "markdown",
   "metadata": {},
   "source": [
    "- Let's check if there my more dead bodies around. We haven't check the closet yet."
   ]
  },
  {
   "cell_type": "code",
   "execution_count": 15,
   "metadata": {
    "dotnet_interactive": {
     "language": "pwsh"
    },
    "vscode": {
     "languageId": "powershell"
    }
   },
   "outputs": [
    {
     "name": "stdout",
     "output_type": "stream",
     "text": [
      "\n",
      "    Directory: \n",
      "C:\\Users\\ktt44\\Documents\\code\\teaching\\mern\\1-basics\\1-Termial\\house\\living-room\\bedroom\\closet\n",
      "\n",
      "\u001b[32;1mMode                 LastWriteTime         Length Name\u001b[0m\n",
      "\u001b[32;1m----                 -------------         ------ ----\u001b[0m\n",
      "-a---            6/4/2022 11:10 PM             26 skeleton.txt\n",
      "\n"
     ]
    }
   ],
   "source": [
    "cd ../../closet\n",
    "ls"
   ]
  },
  {
   "cell_type": "markdown",
   "metadata": {},
   "source": [
    "- Let's bury this skeleton in that churchyard behind the house."
   ]
  },
  {
   "cell_type": "code",
   "execution_count": 16,
   "metadata": {
    "dotnet_interactive": {
     "language": "pwsh"
    },
    "vscode": {
     "languageId": "powershell"
    }
   },
   "outputs": [
    {
     "name": "stdout",
     "output_type": "stream",
     "text": [
      "\n",
      "    Directory: C:\\Users\\ktt44\\Documents\\code\\teaching\\mern\\1-basics\\1-Termial\\house\\living-room\\bac\n",
      "kdoor\\in-that-churchyard\n",
      "\n",
      "\u001b[32;1mMode                 LastWriteTime         Length Name\u001b[0m\n",
      "\u001b[32;1m----                 -------------         ------ ----\u001b[0m\n",
      "-a---            6/4/2022 10:47 PM             18 dirt.txt\n",
      "-a---            6/4/2022 11:10 PM             26 skeleton.txt\n",
      "\n"
     ]
    }
   ],
   "source": [
    "mv skeleton.txt ../../backdoor/in-that-churchyard\n",
    "cd ../../backdoor/in-that-churchyard\n",
    "ls"
   ]
  },
  {
   "cell_type": "markdown",
   "metadata": {},
   "source": [
    "#### Creating a new directory\n",
    "- We need to make a directory to hide the skeleton. We can make a directory with the **md** (make directory) command."
   ]
  },
  {
   "cell_type": "code",
   "execution_count": 17,
   "metadata": {
    "dotnet_interactive": {
     "language": "pwsh"
    },
    "vscode": {
     "languageId": "powershell"
    }
   },
   "outputs": [
    {
     "name": "stdout",
     "output_type": "stream",
     "text": [
      "\n",
      "    Directory: C:\\Users\\ktt44\\Documents\\code\\teaching\\mern\\1-basics\\1-Termial\\house\\living-room\\bac\n",
      "kdoor\\in-that-churchyard\n",
      "\n",
      "\u001b[32;1mMode                 LastWriteTime         Length Name\u001b[0m\n",
      "\u001b[32;1m----                 -------------         ------ ----\u001b[0m\n",
      "d----            6/5/2022 11:16 AM                shallow-grave\n",
      "\n"
     ]
    }
   ],
   "source": [
    "md shallow-grave"
   ]
  },
  {
   "cell_type": "markdown",
   "metadata": {},
   "source": [
    "The mv command also has another function you can rename the file/directory if you change the file name at the end of the path."
   ]
  },
  {
   "cell_type": "code",
   "execution_count": 18,
   "metadata": {
    "dotnet_interactive": {
     "language": "pwsh"
    },
    "vscode": {
     "languageId": "powershell"
    }
   },
   "outputs": [
    {
     "name": "stdout",
     "output_type": "stream",
     "text": [
      "\n",
      "    Directory: C:\\Users\\ktt44\\Documents\\code\\teaching\\mern\\1-basics\\1-Termial\\house\\living-room\\bac\n",
      "kdoor\\in-that-churchyard\\shallow-grave\n",
      "\n",
      "\u001b[32;1mMode                 LastWriteTime         Length Name\u001b[0m\n",
      "\u001b[32;1m----                 -------------         ------ ----\u001b[0m\n",
      "-a---            6/4/2022 11:10 PM             26 buried-skeleton.txt\n",
      "\n"
     ]
    }
   ],
   "source": [
    "mv skeleton.txt shallow-grave/buried-skeleton.txt\n",
    "ls ./shallow-grave"
   ]
  },
  {
   "cell_type": "markdown",
   "metadata": {},
   "source": [
    "## Installing programs from the command-line\n",
    "---\n",
    "We can also installs programs much quicker and easy using commands in the terminal as well using package managers. For Windows I'll be using chocolatey.\n",
    "\n",
    "#### Installing Chocolatey\n",
    "\n",
    "- First we run the install command found on the [chocolatey website](https://chocolatey.org/install#individual)."
   ]
  },
  {
   "cell_type": "code",
   "execution_count": null,
   "metadata": {
    "vscode": {
     "languageId": "powershell"
    }
   },
   "outputs": [],
   "source": [
    "Set-ExecutionPolicy Bypass -Scope Process -Force; [System.Net.ServicePointManager]::SecurityProtocol = [System.Net.ServicePointManager]::SecurityProtocol -bor 3072; iex ((New-Object System.Net.WebClient).DownloadString('https://community.chocolatey.org/install.ps1'))"
   ]
  },
  {
   "cell_type": "markdown",
   "metadata": {},
   "source": [
    "- Let's download and install our first program call git. You may be prompted with a y or n. In that case type \"y\" and hit enter."
   ]
  },
  {
   "cell_type": "code",
   "execution_count": null,
   "metadata": {
    "vscode": {
     "languageId": "powershell"
    }
   },
   "outputs": [],
   "source": [
    "choco install git"
   ]
  },
  {
   "cell_type": "markdown",
   "metadata": {},
   "source": [
    "- Congratulations you have just install a program using the command-line. \n",
    "- This is very useful and more secure because you don't download the installer, to go through the GUI, and check if you are installing bloatware.\n",
    "- Now let's install a coding text editor call Visual Studio Code. We can use the \"-y\" flag to auto yes the installation.\n",
    "- Flags are basically triggering optional settings for a command."
   ]
  },
  {
   "cell_type": "code",
   "execution_count": null,
   "metadata": {
    "vscode": {
     "languageId": "powershell"
    }
   },
   "outputs": [],
   "source": [
    "choco install vscode -y"
   ]
  },
  {
   "cell_type": "markdown",
   "metadata": {},
   "source": [
    "- We can also use package managers to install multiple programs with one command.\n",
    "- Let's install everything we'll need for the course right now. \n",
    "- Don't worry if you don't recognize some of these programs, we'll use them later.\n"
   ]
  },
  {
   "cell_type": "markdown",
   "metadata": {},
   "source": [
    "choco install mongodb-compass mongodb nodejs postman -y"
   ]
  },
  {
   "cell_type": "markdown",
   "metadata": {},
   "source": [
    "- And we are done with terminal basics 💻"
   ]
  },
  {
   "cell_type": "markdown",
   "metadata": {},
   "source": [
    "## Extras tips and tricks\n",
    "---\n",
    "- We can make a file in a directory that doesn't exist yet using the force flag **-f**. This with automatically make the required directories."
   ]
  },
  {
   "cell_type": "code",
   "execution_count": 19,
   "metadata": {
    "vscode": {
     "languageId": "powershell"
    }
   },
   "outputs": [
    {
     "name": "stdout",
     "output_type": "stream",
     "text": [
      "\n",
      "    Directory: C:\\Users\\ktt44\\Documents\\code\\teaching\\mern\\1-basics\\1-Termial\\house\\fishtank\n",
      "\n",
      "\u001b[32;1mMode                 LastWriteTime         Length Name\u001b[0m\n",
      "\u001b[32;1m----                 -------------         ------ ----\u001b[0m\n",
      "-a---            6/5/2022 12:18 PM              0 Nemo.fish\n",
      "\n"
     ]
    }
   ],
   "source": [
    "cd ../../..\n",
    "ni -f fishtank/Nemo.fish"
   ]
  },
  {
   "cell_type": "markdown",
   "metadata": {},
   "source": [
    "- We can make/remove multiple new files by separating them with commas."
   ]
  },
  {
   "cell_type": "code",
   "execution_count": 21,
   "metadata": {
    "vscode": {
     "languageId": "powershell"
    }
   },
   "outputs": [
    {
     "name": "stdout",
     "output_type": "stream",
     "text": [
      "\n",
      "    Directory: C:\\Users\\ktt44\\Documents\\code\\teaching\\mern\\1-basics\\1-Termial\\house\\fishtank\n",
      "\n",
      "\u001b[32;1mMode                 LastWriteTime         Length Name\u001b[0m\n",
      "\u001b[32;1m----                 -------------         ------ ----\u001b[0m\n",
      "-a---            6/5/2022 12:26 PM              0 one.fish\n",
      "-a---            6/5/2022 12:26 PM              0 two.fish\n",
      "-a---            6/5/2022 12:26 PM              0 red.fish\n",
      "-a---            6/5/2022 12:26 PM              0 blue.fish\n",
      "\n"
     ]
    }
   ],
   "source": [
    "cd fishtank\n",
    "ni one.fish, two.fish, red.fish, blue.fish\n",
    "rm one.fish, two.fish, red.fish, blue.fish, Nemo.fish"
   ]
  },
  {
   "cell_type": "markdown",
   "metadata": {},
   "source": [
    "- We can run multiple command in line by separating them **&&**"
   ]
  },
  {
   "cell_type": "code",
   "execution_count": 23,
   "metadata": {
    "vscode": {
     "languageId": "powershell"
    }
   },
   "outputs": [
    {
     "name": "stdout",
     "output_type": "stream",
     "text": [
      "\n",
      "    Directory: C:\\Users\\ktt44\\Documents\\code\\teaching\\mern\\1-basics\\1-Termial\\house\n",
      "\n",
      "\u001b[32;1mMode                 LastWriteTime         Length Name\u001b[0m\n",
      "\u001b[32;1m----                 -------------         ------ ----\u001b[0m\n",
      "-a---            6/5/2022 12:51 PM              0 mr.hyde\n",
      "\n"
     ]
    }
   ],
   "source": [
    "cd .. && rm fishtank && ni mr.hyde && mv mr.hyde dr.jekyll"
   ]
  },
  {
   "cell_type": "markdown",
   "metadata": {},
   "source": [
    "- We can install to an earlier/alternate versions of programs as well."
   ]
  },
  {
   "cell_type": "code",
   "execution_count": null,
   "metadata": {
    "vscode": {
     "languageId": "powershell"
    }
   },
   "outputs": [],
   "source": [
    "choco uninstall nodejs -y\n",
    "choco install nodejs --version=14.19.0 -y"
   ]
  },
  {
   "cell_type": "markdown",
   "metadata": {},
   "source": [
    "- We can update all of our programs we've install with chocolatey with a single command."
   ]
  },
  {
   "cell_type": "code",
   "execution_count": null,
   "metadata": {
    "vscode": {
     "languageId": "powershell"
    }
   },
   "outputs": [],
   "source": [
    "choco upgrade all -y"
   ]
  },
  {
   "cell_type": "markdown",
   "metadata": {},
   "source": [
    "## More?\n",
    "This was an brief overview of some of the basic things you can do with the terminal. Check out these resources for more.\n",
    "- [PowerShell documentation](https://docs.microsoft.com/en-us/powershell/scripting/how-to-use-docs?view=powershell-7.2)\n",
    "- [Bash documentation](https://www.gnu.org/savannah-checkouts/gnu/bash/manual/bash.html)\n",
    "- [Chocolatey commands](https://docs.chocolatey.org/en-us/choco/commands/)"
   ]
  }
 ],
 "metadata": {
  "interpreter": {
   "hash": "369f2c481f4da34e4445cda3fffd2e751bd1c4d706f27375911949ba6bb62e1c"
  },
  "kernelspec": {
   "display_name": ".NET (PowerShell)",
   "language": "PowerShell",
   "name": ".net-powershell"
  },
  "language_info": {
   "file_extension": ".ps1",
   "mimetype": "text/x-powershell",
   "name": "PowerShell",
   "pygments_lexer": "powershell",
   "version": "7.0"
  }
 },
 "nbformat": 4,
 "nbformat_minor": 4
}
