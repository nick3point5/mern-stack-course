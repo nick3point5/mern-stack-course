{
 "cells": [
  {
   "cell_type": "markdown",
   "metadata": {},
   "source": [
    "# Terminal Basics\n",
    "---"
   ]
  },
  {
   "cell_type": "markdown",
   "metadata": {},
   "source": [
    "## Intro\n",
    "The way most people use their computer is with Graphical User Interfaces (GUIs). But, underneath the UI the program that you use are running system commands to your computer. Using a terminal you can interact with your system in a deeper level. Learn to use your terminal is essential in a developer tool kit. This lesson will be about understanding and using basic terminal commands. The topic in this lesson are the following:\n",
    "- Opening a terminal\n",
    "- Changing directories\n",
    "- Listing files/directories\n",
    "- Creating new files/directories\n",
    "- Moving files/directories\n",
    "- Renaming files/directories\n",
    "- Removing files/directories\n",
    "- Installing applications"
   ]
  },
  {
   "cell_type": "markdown",
   "metadata": {},
   "source": [
    "#### Getting to your terminal\n",
    "---\n",
    "First let's get to your terminal. This is a gaming server so I expect that you are running windows and with be Powershell the default terminal that comes pre-installed to modern windows. I recommend installing [Windows Terminal](https://apps.microsoft.com/store/detail/windows-terminal/9N0DX20HK701?hl=en-us&gl=US) because the default powershell terminal looks gross to me personally and there are some very convenience feature the default does not provide.\n",
    "\n",
    "- Let's navigate to this directory (folder) that has this lesson in it. Open your file explorer and take note of the address bar.\n",
    "![](../../image/explorer.png)\n",
    "\n",
    "- If you click on the address bar you'll get file path like this:\n",
    "**C:\\Users\\ktt44\\Documents\\code\\teaching\\mern\\1-basics\\1-Termial**\n",
    "![](../../image/explorer-selected.png)\n",
    "\n",
    "- Go ahead and copy that down. Now by hitting windows key open the windows start menu and type in \"terminal\".\n",
    "![](../../image/Terminal-start.png)\n",
    "\n",
    "- Now in the terminal type \"cd\" (change directory) and then the file path with copy before then hit the enter key. An example is provided below:\n"
   ]
  },
  {
   "cell_type": "markdown",
   "metadata": {},
   "source": [
    "#### Navigating the file system\n",
    "---\n",
    "- Now in the terminal type \"cd\" (change directory) and then the file path with copy before then hit the enter key. An example is provided below:"
   ]
  },
  {
   "cell_type": "code",
   "execution_count": 47,
   "metadata": {
    "vscode": {
     "languageId": "powershell"
    }
   },
   "outputs": [],
   "source": [
    "cd C:\\Users\\ktt44\\Documents\\code\\teaching\\mern\\1-basics\\1-Termial"
   ]
  },
  {
   "cell_type": "markdown",
   "metadata": {},
   "source": [
    "###### *if one of your directory has a space in it's name you will need to wrap the path in quotes [cd \"C:\\Users\\ktt44\\Documents\\code\\teaching\\mern\\1-basics\\1-Termial\"]"
   ]
  },
  {
   "cell_type": "markdown",
   "metadata": {},
   "source": [
    "- You are now located in the directory in your terminal. \n",
    "###### *Quick tip you can actually right click in the explorer and there will be an option to Open in terminal to start your in that directory.\n",
    "- Now that we know how to cd let's talk about ls (list)"
   ]
  },
  {
   "cell_type": "code",
   "execution_count": 48,
   "metadata": {
    "vscode": {
     "languageId": "powershell"
    }
   },
   "outputs": [
    {
     "name": "stdout",
     "output_type": "stream",
     "text": [
      "\n",
      "    Directory: C:\\Users\\ktt44\\Documents\\code\\teaching\\mern\\1-basics\\1-Termial\n",
      "\n",
      "\u001b[32;1mMode                 LastWriteTime         Length Name\u001b[0m\n",
      "\u001b[32;1m----                 -------------         ------ ----\u001b[0m\n",
      "d----            6/4/2022  7:56 PM                house\n",
      "d----            6/4/2022  9:51 PM                shed\n",
      "-a---            6/4/2022 11:17 PM          15653 1-Termial.ipynb\n",
      "\n"
     ]
    }
   ],
   "source": [
    "ls"
   ]
  },
  {
   "cell_type": "markdown",
   "metadata": {},
   "source": [
    "- cool, so we have a house and a shed let's go to the shed. But, typing out the absolute path *C:\\Users\\ktt44\\Documents\\code\\teaching\\mern\\1-basics\\1-Termial\\shed* is a bit of a hassle. We can shorten it to **./shed**. The dot (.) is a short hand way of saying the current directory we are in *C:\\Users\\ktt44\\Documents\\code\\teaching\\mern\\1-basics\\1-Termial*. Let's take a look inside the shed"
   ]
  },
  {
   "cell_type": "code",
   "execution_count": 49,
   "metadata": {
    "vscode": {
     "languageId": "powershell"
    }
   },
   "outputs": [
    {
     "name": "stdout",
     "output_type": "stream",
     "text": [
      "\n",
      "    Directory: C:\\Users\\ktt44\\Documents\\code\\teaching\\mern\\1-basics\\1-Termial\\shed\n",
      "\n",
      "\u001b[32;1mMode                 LastWriteTime         Length Name\u001b[0m\n",
      "\u001b[32;1m----                 -------------         ------ ----\u001b[0m\n",
      "-a---            6/4/2022 10:18 PM             11 hammer.txt\n",
      "-a---            6/4/2022 10:19 PM             12 saw.txt\n",
      "-a---            6/4/2022 10:19 PM             51 wrench.txt\n",
      "\n"
     ]
    }
   ],
   "source": [
    "cd ./shed\n",
    "ls"
   ]
  },
  {
   "cell_type": "markdown",
   "metadata": {},
   "source": [
    "- Let's leave the shed. Going back up the directory also has a shortcut **..**"
   ]
  },
  {
   "cell_type": "code",
   "execution_count": 50,
   "metadata": {
    "vscode": {
     "languageId": "powershell"
    }
   },
   "outputs": [
    {
     "name": "stdout",
     "output_type": "stream",
     "text": [
      "\n",
      "    Directory: C:\\Users\\ktt44\\Documents\\code\\teaching\\mern\\1-basics\\1-Termial\n",
      "\n",
      "\u001b[32;1mMode                 LastWriteTime         Length Name\u001b[0m\n",
      "\u001b[32;1m----                 -------------         ------ ----\u001b[0m\n",
      "d----            6/4/2022  7:56 PM                house\n",
      "d----            6/4/2022  9:51 PM                shed\n",
      "-a---            6/4/2022 11:17 PM          15653 1-Termial.ipynb\n",
      "\n"
     ]
    }
   ],
   "source": [
    "cd ..\n",
    "ls"
   ]
  },
  {
   "cell_type": "markdown",
   "metadata": {},
   "source": [
    "- Let's go into the house now. Did you know that you can type the first letter and hit tab key to auto complete what's in your current directory?"
   ]
  },
  {
   "cell_type": "code",
   "execution_count": 51,
   "metadata": {
    "vscode": {
     "languageId": "powershell"
    }
   },
   "outputs": [
    {
     "name": "stdout",
     "output_type": "stream",
     "text": [
      "\n",
      "    Directory: C:\\Users\\ktt44\\Documents\\code\\teaching\\mern\\1-basics\\1-Termial\\house\n",
      "\n",
      "\u001b[32;1mMode                 LastWriteTime         Length Name\u001b[0m\n",
      "\u001b[32;1m----                 -------------         ------ ----\u001b[0m\n",
      "d----            6/4/2022 10:46 PM                living-room\n",
      "\n"
     ]
    }
   ],
   "source": [
    "cd ./house\n",
    "ls"
   ]
  },
  {
   "cell_type": "markdown",
   "metadata": {},
   "source": [
    "- Let's keep going"
   ]
  },
  {
   "cell_type": "code",
   "execution_count": 52,
   "metadata": {
    "vscode": {
     "languageId": "powershell"
    }
   },
   "outputs": [
    {
     "name": "stdout",
     "output_type": "stream",
     "text": [
      "\n",
      "    Directory: C:\\Users\\ktt44\\Documents\\code\\teaching\\mern\\1-basics\\1-Termial\\house\\living-room\n",
      "\n",
      "\u001b[32;1mMode                 LastWriteTime         Length Name\u001b[0m\n",
      "\u001b[32;1m----                 -------------         ------ ----\u001b[0m\n",
      "d----            6/4/2022 10:47 PM                backdoor\n",
      "d----            6/4/2022  8:03 PM                bedroom\n",
      "d----            6/4/2022 11:17 PM                dining-room\n",
      "d----            6/4/2022  8:00 PM                kitchen\n",
      "\n"
     ]
    }
   ],
   "source": [
    "cd living-room\n",
    "ls"
   ]
  },
  {
   "cell_type": "markdown",
   "metadata": {},
   "source": [
    "- I'm feeling hungry let's go into the kitchen and make some food"
   ]
  },
  {
   "cell_type": "code",
   "execution_count": 53,
   "metadata": {
    "vscode": {
     "languageId": "powershell"
    }
   },
   "outputs": [
    {
     "name": "stdout",
     "output_type": "stream",
     "text": [
      "\n",
      "    Directory: \n",
      "C:\\Users\\ktt44\\Documents\\code\\teaching\\mern\\1-basics\\1-Termial\\house\\living-room\\kitchen\n",
      "\n",
      "\u001b[32;1mMode                 LastWriteTime         Length Name\u001b[0m\n",
      "\u001b[32;1m----                 -------------         ------ ----\u001b[0m\n",
      "d----            6/4/2022 11:17 PM                fridge\n",
      "d----            6/4/2022 11:17 PM                oven\n",
      "\n"
     ]
    }
   ],
   "source": [
    "cd kitchen\n",
    "ls"
   ]
  },
  {
   "cell_type": "markdown",
   "metadata": {},
   "source": [
    "- Let's check out the fridge"
   ]
  },
  {
   "cell_type": "code",
   "execution_count": 54,
   "metadata": {
    "vscode": {
     "languageId": "powershell"
    }
   },
   "outputs": [
    {
     "name": "stdout",
     "output_type": "stream",
     "text": [
      "\n",
      "    Directory: \n",
      "C:\\Users\\ktt44\\Documents\\code\\teaching\\mern\\1-basics\\1-Termial\\house\\living-room\\kitchen\\fridge\n",
      "\n",
      "\u001b[32;1mMode                 LastWriteTime         Length Name\u001b[0m\n",
      "\u001b[32;1m----                 -------------         ------ ----\u001b[0m\n",
      "-a---            6/4/2022 11:17 PM             33 grape.txt\n",
      "-a---            6/4/2022 10:37 PM              9 turkey.txt\n",
      "\n"
     ]
    }
   ],
   "source": [
    "cd fridge\n",
    "ls"
   ]
  },
  {
   "cell_type": "markdown",
   "metadata": {},
   "source": [
    "- The fridge is kind of empty let's make a new item in the fridge with the **ni** (New-Item) command."
   ]
  },
  {
   "cell_type": "code",
   "execution_count": 55,
   "metadata": {
    "vscode": {
     "languageId": "powershell"
    }
   },
   "outputs": [
    {
     "name": "stdout",
     "output_type": "stream",
     "text": [
      "\n",
      "    Directory: \n",
      "C:\\Users\\ktt44\\Documents\\code\\teaching\\mern\\1-basics\\1-Termial\\house\\living-room\\kitchen\\fridge\n",
      "\n",
      "\u001b[32;1mMode                 LastWriteTime         Length Name\u001b[0m\n",
      "\u001b[32;1m----                 -------------         ------ ----\u001b[0m\n",
      "-a---            6/4/2022 11:18 PM              0 milk.txt\n",
      "\n"
     ]
    }
   ],
   "source": [
    "ni milk.txt"
   ]
  },
  {
   "cell_type": "markdown",
   "metadata": {},
   "source": [
    "- Let's move that turkey.txt to the oven we saw earlier. We can move items using the **mv** (move) command."
   ]
  },
  {
   "cell_type": "code",
   "execution_count": 56,
   "metadata": {
    "vscode": {
     "languageId": "powershell"
    }
   },
   "outputs": [
    {
     "name": "stdout",
     "output_type": "stream",
     "text": [
      "\n",
      "    Directory: \n",
      "C:\\Users\\ktt44\\Documents\\code\\teaching\\mern\\1-basics\\1-Termial\\house\\living-room\\kitchen\\oven\n",
      "\n",
      "\u001b[32;1mMode                 LastWriteTime         Length Name\u001b[0m\n",
      "\u001b[32;1m----                 -------------         ------ ----\u001b[0m\n",
      "-a---            6/4/2022  8:59 PM              0 happy-fella.txt\n",
      "-a---            6/4/2022 10:37 PM              9 turkey.txt\n",
      "\n"
     ]
    }
   ],
   "source": [
    "mv turkey.txt ../oven\n",
    "cd ../oven\n",
    "ls"
   ]
  },
  {
   "cell_type": "markdown",
   "metadata": {},
   "source": [
    "- Let's wait in the dining room for the turkey to cook."
   ]
  },
  {
   "cell_type": "code",
   "execution_count": 57,
   "metadata": {
    "vscode": {
     "languageId": "powershell"
    }
   },
   "outputs": [
    {
     "name": "stdout",
     "output_type": "stream",
     "text": [
      "\n",
      "    Directory: \n",
      "C:\\Users\\ktt44\\Documents\\code\\teaching\\mern\\1-basics\\1-Termial\\house\\living-room\\dining-room\n",
      "\n",
      "\u001b[32;1mMode                 LastWriteTime         Length Name\u001b[0m\n",
      "\u001b[32;1m----                 -------------         ------ ----\u001b[0m\n",
      "-a---            6/4/2022 11:09 PM             14 dead-body.txt\n",
      "\n"
     ]
    }
   ],
   "source": [
    "cd ../../dining-room\n",
    "ls"
   ]
  },
  {
   "cell_type": "markdown",
   "metadata": {},
   "source": [
    "- oh no, there's a dead body in our house. Let's go back to the living room and look around. We can print the directory structure with the **tree** command."
   ]
  },
  {
   "cell_type": "code",
   "execution_count": 58,
   "metadata": {
    "vscode": {
     "languageId": "powershell"
    }
   },
   "outputs": [
    {
     "name": "stdout",
     "output_type": "stream",
     "text": [
      "Folder PATH listing for volume Windows\n",
      "Volume serial number is 82F3-B997\n",
      "C:.\n",
      "����backdoor\n",
      "�   ����in-that-churchyard\n",
      "����bedroom\n",
      "�   ����bathroom\n",
      "�   �   ����acid-filled-bathtub\n",
      "�   ����closet\n",
      "����dining-room\n",
      "����kitchen\n",
      "    ����fridge\n",
      "    ����oven\n"
     ]
    }
   ],
   "source": [
    "cd ..\n",
    "tree"
   ]
  },
  {
   "cell_type": "markdown",
   "metadata": {},
   "source": [
    "- Lucky! We found a bathtub filled let's put the body in the bathtub."
   ]
  },
  {
   "cell_type": "code",
   "execution_count": 59,
   "metadata": {
    "vscode": {
     "languageId": "powershell"
    }
   },
   "outputs": [
    {
     "name": "stdout",
     "output_type": "stream",
     "text": [
      "\n",
      "    Directory: C:\\Users\\ktt44\\Documents\\code\\teaching\\mern\\1-basics\\1-Termial\\house\\living-room\\bed\n",
      "room\\bathroom\\acid-filled-bathtub\n",
      "\n",
      "\u001b[32;1mMode                 LastWriteTime         Length Name\u001b[0m\n",
      "\u001b[32;1m----                 -------------         ------ ----\u001b[0m\n",
      "-a---            6/4/2022  8:57 PM              0 acid.txt\n",
      "-a---            6/4/2022 11:09 PM             14 dead-body.txt\n",
      "\n"
     ]
    }
   ],
   "source": [
    "mv ./dining-room/dead-body.txt ./bedroom/bathroom/acid-filled-bathtub\n",
    "cd ./bedroom/bathroom/acid-filled-bathtub\n",
    "ls"
   ]
  },
  {
   "cell_type": "markdown",
   "metadata": {},
   "source": [
    "- We can remove the file with the rm (remove) command."
   ]
  },
  {
   "cell_type": "code",
   "execution_count": 60,
   "metadata": {
    "vscode": {
     "languageId": "powershell"
    }
   },
   "outputs": [
    {
     "name": "stdout",
     "output_type": "stream",
     "text": [
      "\n",
      "    Directory: C:\\Users\\ktt44\\Documents\\code\\teaching\\mern\\1-basics\\1-Termial\\house\\living-room\\bed\n",
      "room\\bathroom\\acid-filled-bathtub\n",
      "\n",
      "\u001b[32;1mMode                 LastWriteTime         Length Name\u001b[0m\n",
      "\u001b[32;1m----                 -------------         ------ ----\u001b[0m\n",
      "-a---            6/4/2022  8:57 PM              0 acid.txt\n",
      "\n"
     ]
    }
   ],
   "source": [
    "rm dead-body.txt\n",
    "ls"
   ]
  },
  {
   "cell_type": "markdown",
   "metadata": {},
   "source": [
    "- Let's check if there my more dead bodies around. We haven't check the closet yet."
   ]
  },
  {
   "cell_type": "code",
   "execution_count": 61,
   "metadata": {
    "vscode": {
     "languageId": "powershell"
    }
   },
   "outputs": [
    {
     "name": "stdout",
     "output_type": "stream",
     "text": [
      "\n",
      "    Directory: \n",
      "C:\\Users\\ktt44\\Documents\\code\\teaching\\mern\\1-basics\\1-Termial\\house\\living-room\\bedroom\\closet\n",
      "\n",
      "\u001b[32;1mMode                 LastWriteTime         Length Name\u001b[0m\n",
      "\u001b[32;1m----                 -------------         ------ ----\u001b[0m\n",
      "-a---            6/4/2022 11:10 PM             26 skeleton.txt\n",
      "\n"
     ]
    }
   ],
   "source": [
    "cd ../../closet\n",
    "ls"
   ]
  },
  {
   "cell_type": "markdown",
   "metadata": {},
   "source": [
    "- Let's bury this skeleton in that churchyard behind the house."
   ]
  },
  {
   "cell_type": "code",
   "execution_count": 62,
   "metadata": {
    "vscode": {
     "languageId": "powershell"
    }
   },
   "outputs": [
    {
     "name": "stdout",
     "output_type": "stream",
     "text": [
      "\n",
      "    Directory: C:\\Users\\ktt44\\Documents\\code\\teaching\\mern\\1-basics\\1-Termial\\house\\living-room\\bac\n",
      "kdoor\\in-that-churchyard\n",
      "\n",
      "\u001b[32;1mMode                 LastWriteTime         Length Name\u001b[0m\n",
      "\u001b[32;1m----                 -------------         ------ ----\u001b[0m\n",
      "-a---            6/4/2022 10:47 PM             18 dirt.txt\n",
      "-a---            6/4/2022 11:10 PM             26 skeleton.txt\n",
      "\n"
     ]
    }
   ],
   "source": [
    "mv skeleton.txt ../../backdoor/in-that-churchyard\n",
    "cd ../../backdoor/in-that-churchyard\n",
    "ls"
   ]
  },
  {
   "cell_type": "markdown",
   "metadata": {},
   "source": [
    "- We need to make a directory to hide the skeleton. We can make a directory with the **md** (make directory) command."
   ]
  },
  {
   "cell_type": "code",
   "execution_count": 64,
   "metadata": {
    "vscode": {
     "languageId": "powershell"
    }
   },
   "outputs": [
    {
     "name": "stdout",
     "output_type": "stream",
     "text": [
      "\n",
      "    Directory: C:\\Users\\ktt44\\Documents\\code\\teaching\\mern\\1-basics\\1-Termial\\house\\living-room\\bac\n",
      "kdoor\\in-that-churchyard\n",
      "\n",
      "\u001b[32;1mMode                 LastWriteTime         Length Name\u001b[0m\n",
      "\u001b[32;1m----                 -------------         ------ ----\u001b[0m\n",
      "d----            6/4/2022 11:31 PM                shallow-grave\n",
      "\n"
     ]
    }
   ],
   "source": [
    "md shallow-grave"
   ]
  },
  {
   "cell_type": "markdown",
   "metadata": {},
   "source": [
    "The mv command also has another function you can rename the file/directory if you change the file name at the end of the path."
   ]
  },
  {
   "cell_type": "code",
   "execution_count": 65,
   "metadata": {
    "vscode": {
     "languageId": "powershell"
    }
   },
   "outputs": [
    {
     "name": "stdout",
     "output_type": "stream",
     "text": [
      "\n",
      "    Directory: C:\\Users\\ktt44\\Documents\\code\\teaching\\mern\\1-basics\\1-Termial\\house\\living-room\\bac\n",
      "kdoor\\in-that-churchyard\\shallow-grave\n",
      "\n",
      "\u001b[32;1mMode                 LastWriteTime         Length Name\u001b[0m\n",
      "\u001b[32;1m----                 -------------         ------ ----\u001b[0m\n",
      "-a---            6/4/2022 11:10 PM             26 buried-skeleton.txt\n",
      "\n"
     ]
    }
   ],
   "source": [
    "mv skeleton.txt shallow-grave/buried-skeleton.txt\n",
    "ls ./shallow-grave"
   ]
  }
 ],
 "metadata": {
  "interpreter": {
   "hash": "369f2c481f4da34e4445cda3fffd2e751bd1c4d706f27375911949ba6bb62e1c"
  },
  "kernelspec": {
   "display_name": ".NET (PowerShell)",
   "language": "PowerShell",
   "name": ".net-powershell"
  },
  "language_info": {
   "file_extension": ".ps1",
   "mimetype": "text/x-powershell",
   "name": "PowerShell",
   "pygments_lexer": "powershell",
   "version": "7.0"
  },
  "orig_nbformat": 4
 },
 "nbformat": 4,
 "nbformat_minor": 2
}
