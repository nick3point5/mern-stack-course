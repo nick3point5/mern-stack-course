{
 "cells": [
  {
   "cell_type": "markdown",
   "metadata": {},
   "source": [
    "# Terminal Basics\n",
    "---"
   ]
  },
  {
   "cell_type": "markdown",
   "metadata": {},
   "source": [
    "## Intro\n",
    "The way most people use their computer is with Graphical User Interfaces (GUIs). But, underneath the UI the program that you use, these programs are running system commands to your computer. Using a terminal, sometimes refer to as the command-line (cli), you can interact with your system in a deeper level. Learn to use your terminal is essential in a developer tool kit. This lesson will be about understanding and using basic terminal commands. The topic in this lesson are the following:\n",
    "- Getting a terminal\n",
    "- Opening a terminal\n",
    "- Changing directories\n",
    "- Listing files/directories\n",
    "- Creating new files/directories\n",
    "- Moving files/directories\n",
    "- Renaming files/directories\n",
    "- Removing files/directories\n",
    "- Installing applications"
   ]
  },
  {
   "cell_type": "markdown",
   "metadata": {},
   "source": [
    "#### Getting to your terminal\n",
    "---\n",
    "First let's get to your terminal. This is a gaming server 🎮 so probably you are running windows and Powershell is the default terminal that comes pre-installed to modern windows. I recommend installing [Windows Terminal](https://apps.microsoft.com/store/detail/windows-terminal/9N0DX20HK701?hl=en-us&gl=US) because the default powershell terminal looks gross to me personally and there are some very convenience feature the default does not provide.\n",
    "\n",
    "- Let's navigate to this directory (folder) that has this lesson in it. Open your file explorer and take note of the address bar.\n",
    "![](../../image/explorer.png)\n",
    "\n",
    "- If you click on the address bar you'll get file path like this:\n",
    "**C:\\Users\\ktt44\\Documents\\code\\teaching\\mern\\1-basics\\1-Termial**\n",
    "![](../../image/explorer-selected.png)\n",
    "\n",
    "- Go ahead and copy that down. Now by hitting windows key open the windows start menu and type in \"terminal\".\n",
    "![](../../image/Terminal-start.png)\n",
    "\n",
    "- Now in the terminal type \"cd\" (change directory) and then the file path with copy before then hit the enter key. An example is provided below:\n"
   ]
  },
  {
   "cell_type": "markdown",
   "metadata": {},
   "source": [
    "## Navigating the file system\n",
    "---\n",
    "#### Changing directories\n",
    "- Now in the terminal type ```cd``` (change directory) and then the file path with copy before then hit the enter key. An example is provided below:"
   ]
  },
  {
   "cell_type": "code",
   "execution_count": null,
   "metadata": {
    "dotnet_interactive": {
     "language": "pwsh"
    },
    "vscode": {
     "languageId": "dotnet-interactive.pwsh"
    }
   },
   "outputs": [],
   "source": [
    "cd C:\\Users\\ktt44\\Documents\\code\\teaching\\mern-stack-course\\1-basics\\1-Termial"
   ]
  },
  {
   "cell_type": "markdown",
   "metadata": {},
   "source": [
    "###### *if one of your directory has a space in it's name you will need to wrap the path in quotes [cd \"C:\\Users\\ktt44\\Documents\\code\\teaching\\mern\\1-basics\\1-Termial\"]"
   ]
  },
  {
   "cell_type": "markdown",
   "metadata": {},
   "source": [
    "- You are now located in the directory in your terminal. \n",
    "###### *Quick tip you can actually right click in the explorer and there will be an option to Open in terminal to start your in that directory."
   ]
  },
  {
   "cell_type": "markdown",
   "metadata": {},
   "source": [
    "#### Listing files/directories\n",
    "- Now that we know how to cd let's talk about ```ls``` (list). ls with list all the files and directories in the working (current) directory your terminal is in."
   ]
  },
  {
   "cell_type": "code",
   "execution_count": null,
   "metadata": {
    "dotnet_interactive": {
     "language": "pwsh"
    },
    "vscode": {
     "languageId": "dotnet-interactive.pwsh"
    }
   },
   "outputs": [
    {
     "name": "stdout",
     "output_type": "stream",
     "text": [
      "\r\n",
      "    Directory: C:\\Users\\ktt44\\Documents\\code\\teaching\\mern-stack-course\\1-basics\\1-Termial\r\n",
      "\r\n",
      "\u001b[32;1mMode                 LastWriteTime         Length Name\u001b[0m\r\n",
      "\u001b[32;1m----                 -------------         ------ ----\u001b[0m\r\n",
      "d----            6/8/2022  6:49 PM                house\r\n",
      "d----            6/8/2022  6:49 PM                shed\r\n",
      "-a---            6/9/2022  1:01 PM          35541 Termial.ipynb\r\n",
      "\r\n"
     ]
    }
   ],
   "source": [
    "ls"
   ]
  },
  {
   "cell_type": "markdown",
   "metadata": {},
   "source": [
    "- cool, so we have a house and a shed let's go to the shed. But, typing out the absolute path *C:\\Users\\ktt44\\Documents\\code\\teaching\\mern\\1-basics\\1-Termial\\shed* is a bit of a hassle. We can shorten it to **./shed**. The dot (.) is a short hand way of saying the working directory we are in *C:\\Users\\ktt44\\Documents\\code\\teaching\\mern\\1-basics\\1-Termial*. Let's take a look inside the shed"
   ]
  },
  {
   "cell_type": "code",
   "execution_count": null,
   "metadata": {
    "dotnet_interactive": {
     "language": "pwsh"
    },
    "vscode": {
     "languageId": "dotnet-interactive.pwsh"
    }
   },
   "outputs": [
    {
     "name": "stdout",
     "output_type": "stream",
     "text": [
      "\r\n",
      "    Directory: C:\\Users\\ktt44\\Documents\\code\\teaching\\mern-stack-course\\1-basics\\1-Termial\\shed\r\n",
      "\r\n",
      "\u001b[32;1mMode                 LastWriteTime         Length Name\u001b[0m\r\n",
      "\u001b[32;1m----                 -------------         ------ ----\u001b[0m\r\n",
      "-a---            6/8/2022  6:49 PM             11 hammer.txt\r\n",
      "-a---            6/8/2022  6:49 PM             12 saw.txt\r\n",
      "-a---            6/8/2022  6:49 PM             51 wrench.txt\r\n",
      "\r\n"
     ]
    }
   ],
   "source": [
    "cd ./shed\n",
    "ls"
   ]
  },
  {
   "cell_type": "markdown",
   "metadata": {},
   "source": [
    "- Let's leave the shed. Going back up the directory also has a shortcut **..**"
   ]
  },
  {
   "cell_type": "code",
   "execution_count": null,
   "metadata": {
    "dotnet_interactive": {
     "language": "pwsh"
    },
    "vscode": {
     "languageId": "dotnet-interactive.pwsh"
    }
   },
   "outputs": [
    {
     "name": "stdout",
     "output_type": "stream",
     "text": [
      "\r\n",
      "    Directory: C:\\Users\\ktt44\\Documents\\code\\teaching\\mern-stack-course\\1-basics\\1-Termial\r\n",
      "\r\n",
      "\u001b[32;1mMode                 LastWriteTime         Length Name\u001b[0m\r\n",
      "\u001b[32;1m----                 -------------         ------ ----\u001b[0m\r\n",
      "d----            6/8/2022  6:49 PM                house\r\n",
      "d----            6/8/2022  6:49 PM                shed\r\n",
      "-a---            6/9/2022  1:01 PM          35541 Termial.ipynb\r\n",
      "\r\n"
     ]
    }
   ],
   "source": [
    "cd ..\n",
    "ls"
   ]
  },
  {
   "cell_type": "markdown",
   "metadata": {},
   "source": [
    "- Let's go into the house now. Did you know that you can type the first letter and hit tab key to auto complete what's in your working directory?"
   ]
  },
  {
   "cell_type": "code",
   "execution_count": null,
   "metadata": {
    "dotnet_interactive": {
     "language": "pwsh"
    },
    "vscode": {
     "languageId": "dotnet-interactive.pwsh"
    }
   },
   "outputs": [
    {
     "name": "stdout",
     "output_type": "stream",
     "text": [
      "\r\n",
      "    Directory: C:\\Users\\ktt44\\Documents\\code\\teaching\\mern-stack-course\\1-basics\\1-Termial\\house\r\n",
      "\r\n",
      "\u001b[32;1mMode                 LastWriteTime         Length Name\u001b[0m\r\n",
      "\u001b[32;1m----                 -------------         ------ ----\u001b[0m\r\n",
      "d----            6/8/2022  6:49 PM                living-room\r\n",
      "\r\n"
     ]
    }
   ],
   "source": [
    "cd ./house\n",
    "ls"
   ]
  },
  {
   "cell_type": "markdown",
   "metadata": {},
   "source": [
    "- Let's keep going"
   ]
  },
  {
   "cell_type": "code",
   "execution_count": null,
   "metadata": {
    "dotnet_interactive": {
     "language": "pwsh"
    },
    "vscode": {
     "languageId": "dotnet-interactive.pwsh"
    }
   },
   "outputs": [
    {
     "name": "stdout",
     "output_type": "stream",
     "text": [
      "\r\n",
      "    Directory: \r\n",
      "C:\\Users\\ktt44\\Documents\\code\\teaching\\mern-stack-course\\1-basics\\1-Termial\\house\\living-room\r\n",
      "\r\n",
      "\u001b[32;1mMode                 LastWriteTime         Length Name\u001b[0m\r\n",
      "\u001b[32;1m----                 -------------         ------ ----\u001b[0m\r\n",
      "d----            6/8/2022  6:49 PM                backdoor\r\n",
      "d----            6/8/2022  6:49 PM                bedroom\r\n",
      "d----            6/8/2022  6:49 PM                dining-room\r\n",
      "d----            6/8/2022  6:49 PM                kitchen\r\n",
      "\r\n"
     ]
    }
   ],
   "source": [
    "cd living-room\n",
    "ls"
   ]
  },
  {
   "cell_type": "markdown",
   "metadata": {},
   "source": [
    "- I'm feeling hungry let's go into the kitchen and make some food"
   ]
  },
  {
   "cell_type": "code",
   "execution_count": null,
   "metadata": {
    "dotnet_interactive": {
     "language": "pwsh"
    },
    "vscode": {
     "languageId": "dotnet-interactive.pwsh"
    }
   },
   "outputs": [
    {
     "name": "stdout",
     "output_type": "stream",
     "text": [
      "\r\n",
      "    Directory: C:\\Users\\ktt44\\Documents\\code\\teaching\\mern-stack-course\\1-basics\\1-Termial\\house\\li\r\n",
      "ving-room\\kitchen\r\n",
      "\r\n",
      "\u001b[32;1mMode                 LastWriteTime         Length Name\u001b[0m\r\n",
      "\u001b[32;1m----                 -------------         ------ ----\u001b[0m\r\n",
      "d----            6/8/2022  6:49 PM                fridge\r\n",
      "d----            6/8/2022  6:49 PM                oven\r\n",
      "\r\n"
     ]
    }
   ],
   "source": [
    "cd kitchen\n",
    "ls"
   ]
  },
  {
   "cell_type": "markdown",
   "metadata": {},
   "source": [
    "- Let's check out the fridge"
   ]
  },
  {
   "cell_type": "code",
   "execution_count": null,
   "metadata": {
    "dotnet_interactive": {
     "language": "pwsh"
    },
    "vscode": {
     "languageId": "dotnet-interactive.pwsh"
    }
   },
   "outputs": [
    {
     "name": "stdout",
     "output_type": "stream",
     "text": [
      "\r\n",
      "    Directory: C:\\Users\\ktt44\\Documents\\code\\teaching\\mern-stack-course\\1-basics\\1-Termial\\house\\li\r\n",
      "ving-room\\kitchen\\fridge\r\n",
      "\r\n",
      "\u001b[32;1mMode                 LastWriteTime         Length Name\u001b[0m\r\n",
      "\u001b[32;1m----                 -------------         ------ ----\u001b[0m\r\n",
      "-a---            6/8/2022  6:49 PM             33 grape.txt\r\n",
      "-a---            6/8/2022  6:49 PM              9 turkey.txt\r\n",
      "\r\n"
     ]
    }
   ],
   "source": [
    "cd fridge\n",
    "ls"
   ]
  },
  {
   "cell_type": "markdown",
   "metadata": {},
   "source": [
    "#### Creating new files\n",
    "- The fridge is kind of empty let's make a new item in the fridge with the ```ni``` (New-Item) command."
   ]
  },
  {
   "cell_type": "code",
   "execution_count": null,
   "metadata": {
    "dotnet_interactive": {
     "language": "pwsh"
    },
    "vscode": {
     "languageId": "dotnet-interactive.pwsh"
    }
   },
   "outputs": [
    {
     "name": "stdout",
     "output_type": "stream",
     "text": [
      "\r\n",
      "    Directory: C:\\Users\\ktt44\\Documents\\code\\teaching\\mern-stack-course\\1-basics\\1-Termial\\house\\li\r\n",
      "ving-room\\kitchen\\fridge\r\n",
      "\r\n",
      "\u001b[32;1mMode                 LastWriteTime         Length Name\u001b[0m\r\n",
      "\u001b[32;1m----                 -------------         ------ ----\u001b[0m\r\n",
      "-a---            6/9/2022  1:02 PM              0 milk.txt\r\n",
      "\r\n"
     ]
    }
   ],
   "source": [
    "ni milk.txt"
   ]
  },
  {
   "cell_type": "markdown",
   "metadata": {},
   "source": [
    "#### Moving files/directories\n",
    "- Let's move that turkey.txt to the oven we saw earlier. We can move items using the ```mv``` (move) command."
   ]
  },
  {
   "cell_type": "code",
   "execution_count": null,
   "metadata": {
    "dotnet_interactive": {
     "language": "pwsh"
    },
    "vscode": {
     "languageId": "dotnet-interactive.pwsh"
    }
   },
   "outputs": [
    {
     "name": "stdout",
     "output_type": "stream",
     "text": [
      "\r\n",
      "    Directory: C:\\Users\\ktt44\\Documents\\code\\teaching\\mern-stack-course\\1-basics\\1-Termial\\house\\li\r\n",
      "ving-room\\kitchen\\oven\r\n",
      "\r\n",
      "\u001b[32;1mMode                 LastWriteTime         Length Name\u001b[0m\r\n",
      "\u001b[32;1m----                 -------------         ------ ----\u001b[0m\r\n",
      "-a---            6/8/2022  6:49 PM              0 happy-fella.txt\r\n",
      "-a---            6/8/2022  6:49 PM              9 turkey.txt\r\n",
      "\r\n"
     ]
    }
   ],
   "source": [
    "mv turkey.txt ../oven\n",
    "cd ../oven\n",
    "ls"
   ]
  },
  {
   "cell_type": "markdown",
   "metadata": {},
   "source": [
    "- Let's wait in the dining room for the turkey to cook."
   ]
  },
  {
   "cell_type": "code",
   "execution_count": null,
   "metadata": {
    "dotnet_interactive": {
     "language": "pwsh"
    },
    "vscode": {
     "languageId": "dotnet-interactive.pwsh"
    }
   },
   "outputs": [
    {
     "name": "stdout",
     "output_type": "stream",
     "text": [
      "\r\n",
      "    Directory: C:\\Users\\ktt44\\Documents\\code\\teaching\\mern-stack-course\\1-basics\\1-Termial\\house\\li\r\n",
      "ving-room\\dining-room\r\n",
      "\r\n",
      "\u001b[32;1mMode                 LastWriteTime         Length Name\u001b[0m\r\n",
      "\u001b[32;1m----                 -------------         ------ ----\u001b[0m\r\n",
      "-a---            6/8/2022  6:49 PM             14 dead-body.txt\r\n",
      "\r\n"
     ]
    }
   ],
   "source": [
    "cd ../../dining-room\n",
    "ls"
   ]
  },
  {
   "cell_type": "markdown",
   "metadata": {},
   "source": [
    "#### Showing sub-directories\n",
    "- oh no, there's a dead body in our house. Let's go back to the living room and look around. We can print the directory structure with the ```tree``` command."
   ]
  },
  {
   "cell_type": "code",
   "execution_count": null,
   "metadata": {
    "dotnet_interactive": {
     "language": "pwsh"
    },
    "vscode": {
     "languageId": "dotnet-interactive.pwsh"
    }
   },
   "outputs": [
    {
     "name": "stdout",
     "output_type": "stream",
     "text": [
      "Folder PATH listing for volume Windows\r\n",
      "Volume serial number is 82F3-B997\r\n",
      "C:.\r\n",
      "����backdoor\r\n",
      "�   ����in-that-churchyard\r\n",
      "����bedroom\r\n",
      "�   ����bathroom\r\n",
      "�   �   ����acid-filled-bathtub\r\n",
      "�   ����closet\r\n",
      "����dining-room\r\n",
      "����kitchen\r\n",
      "    ����fridge\r\n",
      "    ����oven\r\n"
     ]
    }
   ],
   "source": [
    "cd ..\n",
    "tree"
   ]
  },
  {
   "cell_type": "markdown",
   "metadata": {},
   "source": [
    "- Lucky! We found a bathtub filled about acid. Let's put the body in the bathtub."
   ]
  },
  {
   "cell_type": "code",
   "execution_count": null,
   "metadata": {
    "dotnet_interactive": {
     "language": "pwsh"
    },
    "vscode": {
     "languageId": "dotnet-interactive.pwsh"
    }
   },
   "outputs": [
    {
     "name": "stdout",
     "output_type": "stream",
     "text": [
      "\r\n",
      "    Directory: C:\\Users\\ktt44\\Documents\\code\\teaching\\mern-stack-course\\1-basics\\1-Termial\\house\\li\r\n",
      "ving-room\\bedroom\\bathroom\\acid-filled-bathtub\r\n",
      "\r\n",
      "\u001b[32;1mMode                 LastWriteTime         Length Name\u001b[0m\r\n",
      "\u001b[32;1m----                 -------------         ------ ----\u001b[0m\r\n",
      "-a---            6/8/2022  6:49 PM             12 acid.txt\r\n",
      "-a---            6/8/2022  6:49 PM             14 dead-body.txt\r\n",
      "\r\n"
     ]
    }
   ],
   "source": [
    "mv ./dining-room/dead-body.txt ./bedroom/bathroom/acid-filled-bathtub\n",
    "cd ./bedroom/bathroom/acid-filled-bathtub\n",
    "ls"
   ]
  },
  {
   "cell_type": "markdown",
   "metadata": {},
   "source": [
    "#### Removing files/directories\n",
    "- We can remove the file with the ```rm``` (remove) command."
   ]
  },
  {
   "cell_type": "code",
   "execution_count": null,
   "metadata": {
    "dotnet_interactive": {
     "language": "pwsh"
    },
    "vscode": {
     "languageId": "dotnet-interactive.pwsh"
    }
   },
   "outputs": [
    {
     "name": "stdout",
     "output_type": "stream",
     "text": [
      "\r\n",
      "    Directory: C:\\Users\\ktt44\\Documents\\code\\teaching\\mern-stack-course\\1-basics\\1-Termial\\house\\li\r\n",
      "ving-room\\bedroom\\bathroom\\acid-filled-bathtub\r\n",
      "\r\n",
      "\u001b[32;1mMode                 LastWriteTime         Length Name\u001b[0m\r\n",
      "\u001b[32;1m----                 -------------         ------ ----\u001b[0m\r\n",
      "-a---            6/8/2022  6:49 PM             12 acid.txt\r\n",
      "\r\n"
     ]
    }
   ],
   "source": [
    "rm dead-body.txt\n",
    "ls"
   ]
  },
  {
   "cell_type": "markdown",
   "metadata": {},
   "source": [
    "- Let's check if there my more dead bodies around. We haven't check the closet yet."
   ]
  },
  {
   "cell_type": "code",
   "execution_count": null,
   "metadata": {
    "dotnet_interactive": {
     "language": "pwsh"
    },
    "vscode": {
     "languageId": "dotnet-interactive.pwsh"
    }
   },
   "outputs": [
    {
     "name": "stdout",
     "output_type": "stream",
     "text": [
      "\r\n",
      "    Directory: C:\\Users\\ktt44\\Documents\\code\\teaching\\mern-stack-course\\1-basics\\1-Termial\\house\\li\r\n",
      "ving-room\\bedroom\\closet\r\n",
      "\r\n",
      "\u001b[32;1mMode                 LastWriteTime         Length Name\u001b[0m\r\n",
      "\u001b[32;1m----                 -------------         ------ ----\u001b[0m\r\n",
      "-a---            6/8/2022  6:49 PM             26 skeleton.txt\r\n",
      "\r\n"
     ]
    }
   ],
   "source": [
    "cd ../../closet\n",
    "ls"
   ]
  },
  {
   "cell_type": "markdown",
   "metadata": {},
   "source": [
    "- Let's bury this skeleton in that churchyard behind the house."
   ]
  },
  {
   "cell_type": "code",
   "execution_count": null,
   "metadata": {
    "dotnet_interactive": {
     "language": "pwsh"
    },
    "vscode": {
     "languageId": "dotnet-interactive.pwsh"
    }
   },
   "outputs": [
    {
     "name": "stdout",
     "output_type": "stream",
     "text": [
      "\r\n",
      "    Directory: C:\\Users\\ktt44\\Documents\\code\\teaching\\mern-stack-course\\1-basics\\1-Termial\\house\\li\r\n",
      "ving-room\\backdoor\\in-that-churchyard\r\n",
      "\r\n",
      "\u001b[32;1mMode                 LastWriteTime         Length Name\u001b[0m\r\n",
      "\u001b[32;1m----                 -------------         ------ ----\u001b[0m\r\n",
      "-a---            6/8/2022  7:18 PM           5049 .ghost.boo\r\n",
      "-a---            6/8/2022  6:49 PM             18 dirt.txt\r\n",
      "-a---            6/8/2022  6:49 PM             26 skeleton.txt\r\n",
      "\r\n"
     ]
    }
   ],
   "source": [
    "mv skeleton.txt ../../backdoor/in-that-churchyard\n",
    "cd ../../backdoor/in-that-churchyard\n",
    "ls"
   ]
  },
  {
   "cell_type": "markdown",
   "metadata": {},
   "source": [
    "#### Creating a new directory\n",
    "- We need to make a directory to hide the skeleton. We can make a directory with the ```md``` (make directory) command."
   ]
  },
  {
   "cell_type": "code",
   "execution_count": null,
   "metadata": {
    "dotnet_interactive": {
     "language": "pwsh"
    },
    "vscode": {
     "languageId": "dotnet-interactive.pwsh"
    }
   },
   "outputs": [
    {
     "name": "stdout",
     "output_type": "stream",
     "text": [
      "\r\n",
      "    Directory: C:\\Users\\ktt44\\Documents\\code\\teaching\\mern-stack-course\\1-basics\\1-Termial\\house\\li\r\n",
      "ving-room\\backdoor\\in-that-churchyard\r\n",
      "\r\n",
      "\u001b[32;1mMode                 LastWriteTime         Length Name\u001b[0m\r\n",
      "\u001b[32;1m----                 -------------         ------ ----\u001b[0m\r\n",
      "d----            6/9/2022  1:02 PM                shallow-grave\r\n",
      "\r\n"
     ]
    }
   ],
   "source": [
    "md shallow-grave"
   ]
  },
  {
   "cell_type": "code",
   "execution_count": null,
   "metadata": {
    "dotnet_interactive": {
     "language": "pwsh"
    },
    "vscode": {
     "languageId": "dotnet-interactive.pwsh"
    }
   },
   "outputs": [
    {
     "name": "stdout",
     "output_type": "stream",
     "text": [
      "\r\n",
      "    Directory: C:\\Users\\ktt44\\Documents\\code\\teaching\\mern-stack-course\\1-basics\\1-Termial\\house\\li\r\n",
      "ving-room\\backdoor\\in-that-churchyard\r\n",
      "\r\n",
      "\u001b[32;1mMode                 LastWriteTime         Length Name\u001b[0m\r\n",
      "\u001b[32;1m----                 -------------         ------ ----\u001b[0m\r\n",
      "d----            6/9/2022  1:02 PM                shallow-grave\r\n",
      "-a---            6/8/2022  7:18 PM           5049 .ghost.boo\r\n",
      "-a---            6/8/2022  6:49 PM             18 dirt.txt\r\n",
      "\r\n"
     ]
    }
   ],
   "source": [
    "mv skeleton.txt shallow-grave/skeleton.txt\n",
    "ls"
   ]
  },
  {
   "cell_type": "markdown",
   "metadata": {},
   "source": [
    "#### Renaming a file/directory\n",
    "\n",
    "- We probably need to hide our track a bit better than this let's rename the grave so that it's a not so suspicious. \n",
    "- The ```mv``` command also has another function you can rename the file/directory if you change the file name at the end of the path."
   ]
  },
  {
   "cell_type": "code",
   "execution_count": null,
   "metadata": {
    "dotnet_interactive": {
     "language": "pwsh"
    },
    "vscode": {
     "languageId": "dotnet-interactive.pwsh"
    }
   },
   "outputs": [
    {
     "name": "stdout",
     "output_type": "stream",
     "text": [
      "\r\n",
      "    Directory: C:\\Users\\ktt44\\Documents\\code\\teaching\\mern\\1-basics\\1-Termial\\house\\living-room\\bac\r\n",
      "kdoor\\in-that-churchyard\r\n",
      "\r\n",
      "\u001b[32;1mMode                 LastWriteTime         Length Name\u001b[0m\r\n",
      "\u001b[32;1m----                 -------------         ------ ----\u001b[0m\r\n",
      "d----            6/7/2022  4:33 PM                not-shallow-grave\r\n",
      "-a---            6/4/2022 10:47 PM             18 dirt.txt\r\n",
      "\r\n"
     ]
    }
   ],
   "source": [
    "mv shallow-grave ./not-shallow-grave\n",
    "ls"
   ]
  },
  {
   "cell_type": "markdown",
   "metadata": {},
   "source": [
    "#### Bash\n",
    "- Everything up to this point can be applied to Linux/Mac with some slight differences\n",
    "  - ni is touch\n",
    "  - md is mkdir\n",
    "  - tree is not install by default."
   ]
  },
  {
   "cell_type": "markdown",
   "metadata": {},
   "source": [
    "## Installing programs from the command-line\n",
    "---\n",
    "We can also installs programs much quicker and easy using commands in the terminal as well using package managers. For Windows I'll be using chocolatey.\n",
    "\n",
    "#### Installing Chocolatey\n",
    "\n",
    "- First we run the install command found on the [chocolatey website](https://chocolatey.org/install#individual)."
   ]
  },
  {
   "cell_type": "code",
   "execution_count": null,
   "metadata": {
    "dotnet_interactive": {
     "language": "pwsh"
    },
    "vscode": {
     "languageId": "dotnet-interactive.pwsh"
    }
   },
   "outputs": [],
   "source": [
    "Set-ExecutionPolicy Bypass -Scope Process -Force; [System.Net.ServicePointManager]::SecurityProtocol = [System.Net.ServicePointManager]::SecurityProtocol -bor 3072; iex ((New-Object System.Net.WebClient).DownloadString('https://community.chocolatey.org/install.ps1'))"
   ]
  },
  {
   "cell_type": "markdown",
   "metadata": {},
   "source": [
    "- Let's download and install our first program call git. You may be prompted with a y or n. In that case type \"y\" and hit enter."
   ]
  },
  {
   "cell_type": "code",
   "execution_count": null,
   "metadata": {
    "dotnet_interactive": {
     "language": "pwsh"
    },
    "vscode": {
     "languageId": "dotnet-interactive.pwsh"
    }
   },
   "outputs": [],
   "source": [
    "choco install git"
   ]
  },
  {
   "cell_type": "markdown",
   "metadata": {},
   "source": [
    "- Congratulations you have just install a program using the command-line. \n",
    "- This is very useful and more secure because you don't download the installer, to go through the GUI, and check if you are installing bloatware.\n",
    "- Now let's install a coding text editor call Visual Studio Code. We can use the \"-y\" flag to auto yes the installation.\n",
    "- Flags are basically triggering optional settings for a command."
   ]
  },
  {
   "cell_type": "code",
   "execution_count": null,
   "metadata": {
    "dotnet_interactive": {
     "language": "pwsh"
    },
    "vscode": {
     "languageId": "dotnet-interactive.pwsh"
    }
   },
   "outputs": [],
   "source": [
    "choco install vscode -y"
   ]
  },
  {
   "cell_type": "markdown",
   "metadata": {},
   "source": [
    "- We can also use package managers to install multiple programs with one command.\n",
    "- Let's install everything we'll need for the course right now. \n",
    "- Don't worry if you don't recognize some of these programs, we'll use them later.\n"
   ]
  },
  {
   "cell_type": "code",
   "execution_count": null,
   "metadata": {
    "dotnet_interactive": {
     "language": "pwsh"
    },
    "vscode": {
     "languageId": "dotnet-interactive.pwsh"
    }
   },
   "outputs": [],
   "source": [
    "choco install mongodb-compass mongodb nodejs postman gh -y"
   ]
  },
  {
   "cell_type": "markdown",
   "metadata": {},
   "source": [
    "- And we are done with terminal basics 💻"
   ]
  },
  {
   "cell_type": "markdown",
   "metadata": {},
   "source": [
    "## Extra tips and tricks\n",
    "---\n",
    "- We can make a file in a directory that doesn't exist yet using the force flag **-f**. This with automatically make the required directories."
   ]
  },
  {
   "cell_type": "code",
   "execution_count": 19,
   "metadata": {
    "dotnet_interactive": {
     "language": "pwsh"
    },
    "vscode": {
     "languageId": "dotnet-interactive.pwsh"
    }
   },
   "outputs": [
    {
     "name": "stdout",
     "output_type": "stream",
     "text": [
      "\n",
      "    Directory: C:\\Users\\ktt44\\Documents\\code\\teaching\\mern\\1-basics\\1-Termial\\house\\fishtank\n",
      "\n",
      "\u001b[32;1mMode                 LastWriteTime         Length Name\u001b[0m\n",
      "\u001b[32;1m----                 -------------         ------ ----\u001b[0m\n",
      "-a---            6/5/2022 12:18 PM              0 Nemo.fish\n",
      "\n"
     ]
    }
   ],
   "source": [
    "cd ../../..\n",
    "ni -f fishtank/Nemo.fish"
   ]
  },
  {
   "cell_type": "markdown",
   "metadata": {},
   "source": [
    "- The **echo** command can do 3 things\n",
    "1) You can print to the terminal\n",
    "2) You can write in a file\n",
    "3) You can add to the end (append) of a file"
   ]
  },
  {
   "cell_type": "code",
   "execution_count": null,
   "metadata": {
    "dotnet_interactive": {
     "language": "pwsh"
    },
    "vscode": {
     "languageId": "dotnet-interactive.pwsh"
    }
   },
   "outputs": [
    {
     "name": "stdout",
     "output_type": "stream",
     "text": [
      "hello world\r\n"
     ]
    }
   ],
   "source": [
    "echo \"hello world\""
   ]
  },
  {
   "cell_type": "code",
   "execution_count": null,
   "metadata": {
    "dotnet_interactive": {
     "language": "pwsh"
    },
    "vscode": {
     "languageId": "dotnet-interactive.pwsh"
    }
   },
   "outputs": [],
   "source": [
    "echo \"Just keep swimming\" > Nemo.fish"
   ]
  },
  {
   "cell_type": "code",
   "execution_count": null,
   "metadata": {
    "dotnet_interactive": {
     "language": "pwsh"
    },
    "vscode": {
     "languageId": "dotnet-interactive.pwsh"
    }
   },
   "outputs": [],
   "source": [
    "echo \"Don't say anything. Just keep swimming\" >> Nemo.fish"
   ]
  },
  {
   "cell_type": "markdown",
   "metadata": {},
   "source": [
    "- You can print an entire file with the **cat** command"
   ]
  },
  {
   "cell_type": "code",
   "execution_count": null,
   "metadata": {
    "dotnet_interactive": {
     "language": "pwsh"
    },
    "vscode": {
     "languageId": "dotnet-interactive.pwsh"
    }
   },
   "outputs": [],
   "source": [
    "cat Nemo.fish"
   ]
  },
  {
   "cell_type": "markdown",
   "metadata": {},
   "source": [
    "- We can make/remove multiple new files by separating them with commas."
   ]
  },
  {
   "cell_type": "code",
   "execution_count": 21,
   "metadata": {
    "dotnet_interactive": {
     "language": "pwsh"
    },
    "vscode": {
     "languageId": "dotnet-interactive.pwsh"
    }
   },
   "outputs": [
    {
     "name": "stdout",
     "output_type": "stream",
     "text": [
      "\n",
      "    Directory: C:\\Users\\ktt44\\Documents\\code\\teaching\\mern\\1-basics\\1-Termial\\house\\fishtank\n",
      "\n",
      "\u001b[32;1mMode                 LastWriteTime         Length Name\u001b[0m\n",
      "\u001b[32;1m----                 -------------         ------ ----\u001b[0m\n",
      "-a---            6/5/2022 12:26 PM              0 one.fish\n",
      "-a---            6/5/2022 12:26 PM              0 two.fish\n",
      "-a---            6/5/2022 12:26 PM              0 red.fish\n",
      "-a---            6/5/2022 12:26 PM              0 blue.fish\n",
      "\n"
     ]
    }
   ],
   "source": [
    "cd fishtank\n",
    "ni one.fish, two.fish, red.fish, blue.fish\n",
    "rm one.fish, two.fish, red.fish, blue.fish, Nemo.fish"
   ]
  },
  {
   "cell_type": "markdown",
   "metadata": {},
   "source": [
    "- We can run multiple command in line by separating them **&&**"
   ]
  },
  {
   "cell_type": "code",
   "execution_count": 23,
   "metadata": {
    "dotnet_interactive": {
     "language": "pwsh"
    },
    "vscode": {
     "languageId": "dotnet-interactive.pwsh"
    }
   },
   "outputs": [
    {
     "name": "stdout",
     "output_type": "stream",
     "text": [
      "\n",
      "    Directory: C:\\Users\\ktt44\\Documents\\code\\teaching\\mern\\1-basics\\1-Termial\\house\n",
      "\n",
      "\u001b[32;1mMode                 LastWriteTime         Length Name\u001b[0m\n",
      "\u001b[32;1m----                 -------------         ------ ----\u001b[0m\n",
      "-a---            6/5/2022 12:51 PM              0 mr.hyde\n",
      "\n"
     ]
    }
   ],
   "source": [
    "cd .. && rm fishtank && ni mr.hyde && mv mr.hyde dr.jekyll"
   ]
  },
  {
   "cell_type": "markdown",
   "metadata": {},
   "source": [
    "- We can install an earlier/alternate versions of programs as well."
   ]
  },
  {
   "cell_type": "code",
   "execution_count": null,
   "metadata": {
    "dotnet_interactive": {
     "language": "pwsh"
    },
    "vscode": {
     "languageId": "dotnet-interactive.pwsh"
    }
   },
   "outputs": [],
   "source": [
    "choco uninstall nodejs -y\n",
    "choco install nodejs --version=14.19.0 -y"
   ]
  },
  {
   "cell_type": "markdown",
   "metadata": {},
   "source": [
    "- We can update all of our programs we've install with chocolatey with a single command."
   ]
  },
  {
   "cell_type": "code",
   "execution_count": null,
   "metadata": {
    "dotnet_interactive": {
     "language": "pwsh"
    },
    "vscode": {
     "languageId": "dotnet-interactive.pwsh"
    }
   },
   "outputs": [],
   "source": [
    "choco upgrade all -y"
   ]
  },
  {
   "cell_type": "markdown",
   "metadata": {},
   "source": [
    "- We can prevent programs from upgrading."
   ]
  },
  {
   "cell_type": "code",
   "execution_count": null,
   "metadata": {
    "dotnet_interactive": {
     "language": "pwsh"
    },
    "vscode": {
     "languageId": "dotnet-interactive.pwsh"
    }
   },
   "outputs": [],
   "source": [
    "choco pin add -n nodejs"
   ]
  },
  {
   "cell_type": "markdown",
   "metadata": {},
   "source": [
    "- This is how we can undo that."
   ]
  },
  {
   "cell_type": "code",
   "execution_count": null,
   "metadata": {
    "dotnet_interactive": {
     "language": "pwsh"
    },
    "vscode": {
     "languageId": "dotnet-interactive.pwsh"
    }
   },
   "outputs": [],
   "source": [
    "choco pin remove -n nodejs"
   ]
  },
  {
   "cell_type": "markdown",
   "metadata": {},
   "source": [
    "- We can make our own custom commands to types out less in the powershell startup file.\n",
    "- Write an new Alias with **New-Alias** then the custom command then in quotes what it's a shortcut for."
   ]
  },
  {
   "cell_type": "code",
   "execution_count": null,
   "metadata": {
    "dotnet_interactive": {
     "language": "pwsh"
    },
    "vscode": {
     "languageId": "dotnet-interactive.pwsh"
    }
   },
   "outputs": [],
   "source": [
    "New-Alias exp \"explorer.exe\""
   ]
  },
  {
   "cell_type": "markdown",
   "metadata": {},
   "source": [
    "- If you want it saved you'll need to save it in the profile.ps1 that start up ever powershell session."
   ]
  },
  {
   "cell_type": "code",
   "execution_count": null,
   "metadata": {
    "dotnet_interactive": {
     "language": "pwsh"
    },
    "vscode": {
     "languageId": "dotnet-interactive.pwsh"
    }
   },
   "outputs": [],
   "source": [
    "Notepad $profile"
   ]
  },
  {
   "cell_type": "markdown",
   "metadata": {},
   "source": [
    "## References\n",
    "---\n",
    "This was an brief overview of some of the basic things you can do with the terminal. Check out these resources for more.\n",
    "- [PowerShell documentation](https://docs.microsoft.com/en-us/powershell/scripting/how-to-use-docs?view=powershell-7.2)\n",
    "- [Bash documentation](https://www.gnu.org/savannah-checkouts/gnu/bash/manual/bash.html)\n",
    "- [Chocolatey commands](https://docs.chocolatey.org/en-us/choco/commands/)"
   ]
  }
 ],
 "metadata": {
  "interpreter": {
   "hash": "369f2c481f4da34e4445cda3fffd2e751bd1c4d706f27375911949ba6bb62e1c"
  },
  "kernelspec": {
   "display_name": ".NET (PowerShell)",
   "language": "PowerShell",
   "name": ".net-powershell"
  },
  "language_info": {
   "file_extension": ".ps1",
   "mimetype": "text/x-powershell",
   "name": "PowerShell",
   "pygments_lexer": "powershell",
   "version": "7.0"
  }
 },
 "nbformat": 4,
 "nbformat_minor": 4
}
